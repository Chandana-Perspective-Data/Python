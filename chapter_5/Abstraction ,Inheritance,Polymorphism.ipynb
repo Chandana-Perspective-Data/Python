{
 "cells": [
  {
   "cell_type": "markdown",
   "id": "88a80fc1",
   "metadata": {},
   "source": [
    "# Abstraction in Python"
   ]
  },
  {
   "cell_type": "markdown",
   "id": "4a6a81d9",
   "metadata": {},
   "source": [
    "Abstraction in Python can be achieved through the use of classes and objects, as well as through the use of abstract base classes (ABCs) and abstract methods."
   ]
  },
  {
   "cell_type": "markdown",
   "id": "2adc6e8b",
   "metadata": {},
   "source": [
    "> There may be a lot of data, a class contains and the user does not need the entire data. The user requires only some part of the available data. In this case, we can hide the unnecessary data from the user and expose only that data that is of interest to the user. This is called abstraction.\n",
    "\n",
    "A good example for abstraction is a car. Any car will have some parts like engine, radiator, battery, mechanical and electrical equipment etc. The user of the car (driver) should know how to drive the car and does not require any knowledge of these parts. For example driver is never bothered about how the engine is designed and the internal parts of the engine. This is why the car manufacturers hide these parts from the driver in a separate panel, generally at the front of the car."
   ]
  },
  {
   "cell_type": "markdown",
   "id": "87cf52df",
   "metadata": {},
   "source": [
    "Abstraction in Python is the process of hiding the implementation details of a program from the user, and exposing only the necessary information to interact with it. This helps to make code more modular, easier to understand, and less prone to errors.\n",
    "\n",
    "There are several ways to achieve abstraction in Python, including:\n",
    "\n",
    "1..Using functions: Functions allow you to group together a set of related statements, and hide the implementation details behind a single function call. For example, a function that calculates the area of a circle could take a radius as an input, perform the necessary calculations, and return the area, without the user needing to know the specific details of how the calculation is done.\n",
    "\n",
    "2..Using classes: Classes allow you to create objects that have both data (attributes) and behavior (methods). By defining classes, you can encapsulate the data and behavior of an object, and hide the implementation details behind the class definition. For example, a class that represents a bank account could have methods for depositing and withdrawing money, without the user needing to know the specific details of how the transactions are processed.\n",
    "\n",
    "3..Using modules: Modules allow you to organize your code into separate files, and hide the implementation details behind the module import statement. For example, a module that defines a set of utility functions could be imported into another script, allowing the user to use the functions without needing to know the specific details of how they are implemented."
   ]
  },
  {
   "cell_type": "code",
   "execution_count": 1,
   "id": "1cdc5c0d",
   "metadata": {},
   "outputs": [
    {
     "name": "stdout",
     "output_type": "stream",
     "text": [
      "78.53981633974483\n"
     ]
    }
   ],
   "source": [
    "# Example 1: Using a function to calculate the area of a circle\n",
    "import math\n",
    "\n",
    "def circle_area(radius):\n",
    "    return math.pi * radius**2\n",
    "\n",
    "print(circle_area(5))"
   ]
  },
  {
   "cell_type": "code",
   "execution_count": 2,
   "id": "e2381acc",
   "metadata": {},
   "outputs": [
    {
     "name": "stdout",
     "output_type": "stream",
     "text": [
      "500\n"
     ]
    }
   ],
   "source": [
    "\n",
    "# Example 2: Using a class to represent a bank account\n",
    "class BankAccount:\n",
    "    def __init__(self, balance=0):\n",
    "        self.balance = balance\n",
    "    \n",
    "    def deposit(self, amount):\n",
    "        self.balance += amount\n",
    "    \n",
    "    def withdraw(self, amount):\n",
    "        self.balance -= amount\n",
    "\n",
    "account = BankAccount(1000)\n",
    "account.withdraw(500)\n",
    "print(account.balance)"
   ]
  },
  {
   "cell_type": "markdown",
   "id": "9146ecbd",
   "metadata": {},
   "source": [
    "The example you provided is a simple implementation of a class called BankAccount that represents a bank account. The class has an __init__ method, which is the constructor for the class, that initializes the account with a balance of 0 (or a different value if specified when creating a new account object). The class also has two methods, deposit and withdraw, that allow you to add or subtract money from the account's balance, respectively.\n",
    "\n",
    "When you create an instance of the BankAccount class, you pass an initial balance of 1000 to the constructor. Then, you can use the withdraw method to withdraw money from the account and the print statement will show the remaining balance, which is 500 in this case."
   ]
  },
  {
   "cell_type": "code",
   "execution_count": 3,
   "id": "cfde5ae6",
   "metadata": {},
   "outputs": [
    {
     "name": "stdout",
     "output_type": "stream",
     "text": [
      "6\n",
      "12.56\n"
     ]
    }
   ],
   "source": [
    "import abc\n",
    "\n",
    "class Shape(abc.ABC):\n",
    "    @abc.abstractmethod\n",
    "    def area(self):\n",
    "        pass\n",
    "\n",
    "class Rectangle(Shape):\n",
    "    def __init__(self, width, height):\n",
    "        self.width = width\n",
    "        self.height = height\n",
    "\n",
    "    def area(self):\n",
    "        return self.width * self.height\n",
    "\n",
    "class Circle(Shape):\n",
    "    def __init__(self, radius):\n",
    "        self.radius = radius\n",
    "\n",
    "    def area(self):\n",
    "        return 3.14 * (self.radius ** 2)\n",
    "\n",
    "shape = Rectangle(2, 3)\n",
    "print(shape.area()) # 6\n",
    "\n",
    "shape = Circle(2)\n",
    "print(shape.area()) # 12.56\n"
   ]
  },
  {
   "cell_type": "markdown",
   "id": "f8e0845e",
   "metadata": {},
   "source": [
    "Using abstract base classes: An abstract base class (ABC) is a class that cannot be instantiated, but can be subclassed. By defining an ABC, you can specify a set of methods that subclasses are required to implement, without having to know the specific details of the implementation. For example, you could define an ABC for a shape, and require subclasses such as Rectangle and Circle to implement a area() method, without having to know the specific details of how the area is calculated for each shape."
   ]
  },
  {
   "cell_type": "markdown",
   "id": "ac4f2582",
   "metadata": {},
   "source": [
    "# 4. Inheritance\n",
    "Creating new classes from existing classes, so that the new classes will acquire all the features of the existing classes is called Inheritance. A good example for Inheritance in nature is parents producing the children and children inheriting the qualities of the parents. Let's take a class A with some members i.e., variables and methods. If we feel another class B wants almost same members, then we can derive or create class B from A as:\n",
    "\n",
    "class B(A):\n",
    "Now, all the features of A are available to B. If an object to B is created, it contains all the members of class A and also its own members. Thus, the programmer can access and use all the members of both the classes A and B. Thus, class B becomes more useful. This is called inheritance. The original class (A) is called the base class or super class and the derived class (B) is called the sub class or derived class.\n",
    "\n",
    "There are three advantages of inheritance. First, we can create more useful classes needed by the application (software). Next, the process of creating the new classes is very easy, since they are built upon already existing classes. The last, but very important advantage is managing the code becomes easy, since the programmer creates several classes in a hierarchical manner, and segregates the code into several modules."
   ]
  },
  {
   "cell_type": "code",
   "execution_count": 4,
   "id": "5c686a1d",
   "metadata": {},
   "outputs": [
    {
     "name": "stdout",
     "output_type": "stream",
     "text": [
      "cat Meow\n",
      "Animal making sound\n"
     ]
    }
   ],
   "source": [
    "# single inheritance\n",
    "class Animal:\n",
    "    def sound(self):\n",
    "        print(\"Animal making sound\")\n",
    "class Cat(Animal):\n",
    "    def Meow(self):\n",
    "        print(\"cat Meow\")\n",
    "d=Cat()\n",
    "d.Meow()\n",
    "d.sound()"
   ]
  },
  {
   "cell_type": "markdown",
   "id": "e9e8b299",
   "metadata": {},
   "source": [
    "> The above code defines two classes: Animal and Cat. The Animal class has a single method sound() that when called, will print \"Animals making sound\".\n",
    "\n",
    "The Cat class inherits from the Animal class and has its own method Meow() that when called, will print \"cat Meow\".\n",
    "\n",
    "Finally, the code creates an object of the Cat class and assigns it to the variable d. It then calls the Meow() method and the sound() method of the d object."
   ]
  },
  {
   "cell_type": "code",
   "execution_count": 7,
   "id": "08f9a146",
   "metadata": {},
   "outputs": [
    {
     "name": "stdout",
     "output_type": "stream",
     "text": [
      "cat Meow\n",
      "Animal making sound\n",
      "Eating bread..\n"
     ]
    }
   ],
   "source": [
    "# multilevel inheritance\n",
    "class Animal:\n",
    "    def sound(self):\n",
    "        print(\"Animal making sound\")\n",
    "class Cat(Animal):\n",
    "    def Meow(self):\n",
    "        print(\"cat Meow\")\n",
    "class Catchild(Cat):\n",
    "    def eat(self):\n",
    "        print(\"Eating bread..\")\n",
    "\n",
    "d=Catchild()\n",
    "d.Meow()\n",
    "d.sound()\n",
    "d.eat()"
   ]
  },
  {
   "cell_type": "code",
   "execution_count": null,
   "id": "024640a8",
   "metadata": {},
   "outputs": [],
   "source": []
  },
  {
   "cell_type": "code",
   "execution_count": null,
   "id": "24deaab7",
   "metadata": {},
   "outputs": [],
   "source": []
  },
  {
   "cell_type": "markdown",
   "id": "13df45ca",
   "metadata": {},
   "source": [
    "#  Polymorphism\n",
    "The word Polymorphism' came from two Greek words 'poly' meaning many and 'morphos' meaning 'forms. Thus, polymorphism represents the ability to assume several different forms. In programming, if an object or method is exhibiting different behavior in different contexts, it is called polymorphic nature.\n",
    "\n",
    "Polymorphism provides flexibility in writing programs in such a way that the programmer uses same method call to perform different operations depending on the requirement."
   ]
  },
  {
   "cell_type": "code",
   "execution_count": 8,
   "id": "e2fa5f62",
   "metadata": {},
   "outputs": [
    {
     "name": "stdout",
     "output_type": "stream",
     "text": [
      "bark\n",
      "meow\n"
     ]
    }
   ],
   "source": [
    "def make_sound(animal):\n",
    "    animal.sound()\n",
    "\n",
    "class Dog:\n",
    "    def sound(self):\n",
    "        print(\"bark\")\n",
    "\n",
    "class Cat:\n",
    "    def sound(self):\n",
    "        print(\"meow\")\n",
    "\n",
    "dog = Dog()\n",
    "cat = Cat()\n",
    "\n",
    "make_sound(dog) # Output: bark\n",
    "make_sound(cat) # Output: meow\n"
   ]
  },
  {
   "cell_type": "markdown",
   "id": "dda71053",
   "metadata": {},
   "source": [
    "> In the above example, the function make_sound takes an argument animal and calls its sound() method. The Dog and Cat classes have their own implementation of the sound() method, but they both implement the same interface, so they can be used interchangeably."
   ]
  },
  {
   "cell_type": "code",
   "execution_count": 10,
   "id": "2b99b796",
   "metadata": {},
   "outputs": [
    {
     "name": "stdout",
     "output_type": "stream",
     "text": [
      "5\n",
      "4\n",
      "2\n"
     ]
    }
   ],
   "source": [
    "print(len(\"hello\")) # Output: 5\n",
    "print(len([1, 2, 3, 4])) # Output: 4\n",
    "print(len({\"name\": \"John\", \"age\": 30})) # Output: 2\n"
   ]
  },
  {
   "cell_type": "markdown",
   "id": "c4252626",
   "metadata": {},
   "source": [
    "> In this example, the built-in len() function can be used on different types of objects such as strings, lists, and dictionaries, and it will return the correct output based on the type of the object passed to it. This is a good example of polymorphism in Python.\n",
    "\n",
    "In all the above examples, Polymorphism is achieved by defining methods or operators with the same name for different classes. This allows objects of different classes to be used interchangeably without the need to know their specific class."
   ]
  },
  {
   "cell_type": "code",
   "execution_count": null,
   "id": "6bbf0362",
   "metadata": {},
   "outputs": [],
   "source": []
  }
 ],
 "metadata": {
  "kernelspec": {
   "display_name": "Python 3 (ipykernel)",
   "language": "python",
   "name": "python3"
  },
  "language_info": {
   "codemirror_mode": {
    "name": "ipython",
    "version": 3
   },
   "file_extension": ".py",
   "mimetype": "text/x-python",
   "name": "python",
   "nbconvert_exporter": "python",
   "pygments_lexer": "ipython3",
   "version": "3.9.13"
  }
 },
 "nbformat": 4,
 "nbformat_minor": 5
}
