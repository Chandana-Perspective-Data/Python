{
 "cells": [
  {
   "cell_type": "code",
   "execution_count": 11,
   "id": "c4dfbe8c",
   "metadata": {},
   "outputs": [
    {
     "data": {
      "text/plain": [
       "<__main__.Dog at 0x13292a21fd0>"
      ]
     },
     "execution_count": 11,
     "metadata": {},
     "output_type": "execute_result"
    }
   ],
   "source": [
    "# 2\n",
    "class Dog:\n",
    "    def __init__(self, name, age):\n",
    "        self.name = name\n",
    "        self.age = age\n",
    "\n",
    "        \n",
    "Dog(\"hello\",2)\n",
    "\n",
    "\n",
    "#Dog.create(\"hi\",3)\n",
    "#Dog.__init__(\"hi\",7)\n",
    "#The correct way to instantiate the above Dog class is:"
   ]
  },
  {
   "cell_type": "code",
   "execution_count": 6,
   "id": "4527d4e9",
   "metadata": {},
   "outputs": [
    {
     "ename": "SyntaxError",
     "evalue": "EOL while scanning string literal (1813312236.py, line 2)",
     "output_type": "error",
     "traceback": [
      "\u001b[1;36m  File \u001b[1;32m\"C:\\Users\\91852\\AppData\\Local\\Temp\\ipykernel_13188\\1813312236.py\"\u001b[1;36m, line \u001b[1;32m2\u001b[0m\n\u001b[1;33m    \"What’s the output of the following code snippet?>>>\u001b[0m\n\u001b[1;37m                                                        ^\u001b[0m\n\u001b[1;31mSyntaxError\u001b[0m\u001b[1;31m:\u001b[0m EOL while scanning string literal\n"
     ]
    }
   ],
   "source": [
    "# 4\n",
    "\"What’s the output of the following code snippet?>>> class Dog:\n",
    "\n",
    "...     def walk(self):\n",
    "\n",
    "...         return \"\"*walking*\"\"\n",
    "\n",
    "...\n",
    "\n",
    "...     def speak(self):\n",
    "\n",
    "...         return \"\"Woof!\"\"\n",
    "\n",
    "...\n",
    "\n",
    ">>> class JackRussellTerrier(Dog):\n",
    "\n",
    "...     def speak(self):\n",
    "\n",
    "...         return \"\"Arff!\"\"\n",
    "\n",
    "...\n",
    "\n",
    ">>> bobo = JackRussellTerrier()\n",
    "\n",
    ">>> bobo.walk()\n",
    "\"\n"
   ]
  },
  {
   "cell_type": "code",
   "execution_count": 7,
   "id": "2316b657",
   "metadata": {},
   "outputs": [
    {
     "name": "stdout",
     "output_type": "stream",
     "text": [
      "walking\n"
     ]
    }
   ],
   "source": [
    "class Dog:\n",
    "    def walk(self):\n",
    "        return \"walking\"\n",
    "\n",
    "    def speak(self):\n",
    "        return \"Woof!\"\n",
    "\n",
    "class JackRussellTerrier(Dog):\n",
    "    def speak(self):\n",
    "        return \"Arff!\"\n",
    "\n",
    "bobo = JackRussellTerrier()\n",
    "print(bobo.walk())\n"
   ]
  },
  {
   "cell_type": "code",
   "execution_count": 9,
   "id": "fa0e2304",
   "metadata": {},
   "outputs": [
    {
     "data": {
      "text/plain": [
       "'Woof!'"
      ]
     },
     "execution_count": 9,
     "metadata": {},
     "output_type": "execute_result"
    }
   ],
   "source": [
    "class Dog:\n",
    "    \n",
    "    def walk(self):\n",
    "        return \"*walking*\"\n",
    "    def speak(self):\n",
    "        return \"Woof!\"\n",
    "class JackRussellTerrier(Dog):\n",
    "    def talk(self):\n",
    "        return super().speak()\n",
    "\n",
    "\n",
    "bobo = JackRussellTerrier()\n",
    "\n",
    "bobo.talk()"
   ]
  },
  {
   "cell_type": "markdown",
   "id": "eb58dd47",
   "metadata": {},
   "source": [
    "\n",
    "> Which class is a class that inherits from one or more base classes.\"\n",
    "A subclass (also called derived class, or child class) is a class that inherits from one or more base classes (also called parent or super class).\n",
    "\n",
    "\n",
    "\n"
   ]
  },
  {
   "cell_type": "markdown",
   "id": "739bde6a",
   "metadata": {},
   "source": [
    ">9...   What relationship is appropriate for Fruit and Papaya?\n",
    "The appropriate relationship for Fruit and Papaya would be that of a parent-child relationship, where Fruit is the parent class (super class, or base class) and Papaya is the child class (subclass, derived class). This means that Papaya inherits properties and methods from the Fruit class, and can also have its own unique properties and methods.\n",
    "\n",
    " "
   ]
  },
  {
   "cell_type": "code",
   "execution_count": 12,
   "id": "5551b855",
   "metadata": {},
   "outputs": [
    {
     "name": "stdout",
     "output_type": "stream",
     "text": [
      "Papaya\n",
      "Yellow\n",
      "Oval\n",
      "The fruit is ripe\n",
      "The papaya is sweet\n"
     ]
    }
   ],
   "source": [
    "# 9\n",
    "class Fruit:\n",
    "    def __init__(self, name, color):\n",
    "        self.name = name\n",
    "        self.color = color\n",
    "        \n",
    "    def ripe(self):\n",
    "        return \"The fruit is ripe\"\n",
    "\n",
    "class Papaya(Fruit):\n",
    "    def __init__(self, name, color, shape):\n",
    "        super().__init__(name, color)\n",
    "        self.shape = shape\n",
    "    \n",
    "    def sweet(self):\n",
    "        return \"The papaya is sweet\"\n",
    "\n",
    "papaya = Papaya(\"Papaya\", \"Yellow\", \"Oval\")\n",
    "print(papaya.name) # \"Papaya\"\n",
    "print(papaya.color) # \"Yellow\"\n",
    "print(papaya.shape) # \"Oval\"\n",
    "print(papaya.ripe()) # \"The fruit is ripe\"\n",
    "print(papaya.sweet()) # \"The papaya is sweet\"\n"
   ]
  },
  {
   "cell_type": "markdown",
   "id": "029de82a",
   "metadata": {},
   "source": [
    "In this example, Fruit is the parent class, and Papaya is the child class which inherits properties and methods from the Fruit class and also have its own unique properties and methods.\n",
    "Here, Papaya class is defined as a subclass of Fruit, by including Fruit in its parenthesis when defining Papaya class. This allows Papaya to inherit all the properties and methods from the Fruit class.\n",
    "super().__init__(name, color) is used to call the init method of the parent class inside the child class Papaya and initialize the properties inherited from the parent class.\n",
    "In this way you can use the properties and methods of the parent class in child class and also able to add new properties and methods in child class."
   ]
  },
  {
   "cell_type": "markdown",
   "id": "4fedf357",
   "metadata": {},
   "source": [
    "# > 9 \"composition\"\n",
    "Composition is a design pattern in object-oriented programming where an object of one class contains an object of another class as a member. This allows the composed object to use the properties and methods of the other class as if they were its own. Composition is often used as an alternative to inheritance, especially when the relationship between classes is \"has-a\" rather than \"is-a\".\n",
    "\n",
    "Here's an example of how composition can be used in Python:\n"
   ]
  },
  {
   "cell_type": "code",
   "execution_count": 13,
   "id": "5695d9cf",
   "metadata": {},
   "outputs": [
    {
     "name": "stdout",
     "output_type": "stream",
     "text": [
      "Tesla\n",
      "Model S\n",
      "250\n",
      "Engine started\n",
      "Car is moving\n"
     ]
    }
   ],
   "source": [
    "class Engine:\n",
    "    def __init__(self, horsepower):\n",
    "        self.horsepower = horsepower\n",
    "        \n",
    "    def start(self):\n",
    "        return \"Engine started\"\n",
    "\n",
    "class Car:\n",
    "    def __init__(self, make, model, engine):\n",
    "        self.make = make\n",
    "        self.model = model\n",
    "        self.engine = engine\n",
    "        \n",
    "    def drive(self):\n",
    "        return \"Car is moving\"\n",
    "\n",
    "engine = Engine(250)\n",
    "car = Car(\"Tesla\", \"Model S\", engine)\n",
    "\n",
    "print(car.make) # \"Tesla\"\n",
    "print(car.model) # \"Model S\"\n",
    "print(car.engine.horsepower) # 250\n",
    "print(car.engine.start()) # \"Engine started\"\n",
    "print(car.drive()) # \"Car is moving\"\n"
   ]
  },
  {
   "cell_type": "markdown",
   "id": "f0461877",
   "metadata": {},
   "source": [
    "In this example, Car class has an object of the Engine class as a member (engine), which it can use to access the properties and methods of the Engine class, such as horsepower and start. This is an example of composition in object-oriented programming, where an object of one class contains an object of another class as a member.\n",
    "\n",
    "Composition allows you to reuse existing classes and create new classes that are built from existing ones, which can help you create more flexible and modular code, as well as a more natural way of modeling real-world relationships between objects.\n",
    "\n",
    "\n",
    "\n"
   ]
  },
  {
   "cell_type": "markdown",
   "id": "41741492",
   "metadata": {},
   "source": [
    "# 9 association\n",
    "Association is a relationship between two classes where one class uses or is associated with the other class. It is a weaker relationship than inheritance and composition. It denotes that one class has a reference to another class. In association, one class doesn't own the other class, it just uses it.\n",
    "\n",
    "Here's an example of how association can be used in Python:\n",
    "\n"
   ]
  },
  {
   "cell_type": "code",
   "execution_count": 14,
   "id": "ec63dc24",
   "metadata": {},
   "outputs": [
    {
     "name": "stdout",
     "output_type": "stream",
     "text": [
      "Acme Inc. is led by John Smith\n"
     ]
    }
   ],
   "source": [
    "class Person:\n",
    "    def __init__(self, name):\n",
    "        self.name = name\n",
    "        \n",
    "    def introduce(self):\n",
    "        return f\"My name is {self.name}\"\n",
    "\n",
    "class Company:\n",
    "    def __init__(self, name, CEO):\n",
    "        self.name = name\n",
    "        self.CEO = CEO\n",
    "        \n",
    "    def details(self):\n",
    "        return f\"{self.name} is led by {self.CEO.name}\"\n",
    "\n",
    "john = Person(\"John Smith\")\n",
    "acme = Company(\"Acme Inc.\", john)\n",
    "\n",
    "print(acme.details()) # \"Acme Inc. is led by John Smith\"\n"
   ]
  },
  {
   "cell_type": "markdown",
   "id": "380c4208",
   "metadata": {},
   "source": [
    "In this example, Company class has a reference to an object of the Person class (CEO), which it uses to access the properties and methods of the Person class, such as name. This is an example of association in object-oriented programming, where one class has a reference to another class.\n",
    "\n",
    "Association allows you to create a relationship between classes where one class uses or is associated with the other class, without inheriting or containing it. Association is often used to model real-world relationships between objects, such as a person working for a company, a customer buying a product, or a car being driven by a driver."
   ]
  },
  {
   "cell_type": "markdown",
   "id": "6bcf00d3",
   "metadata": {},
   "source": [
    "# 12 Which of the following can be used to invoke the __init__ method in B from A, where A is a subclass of B?"
   ]
  },
  {
   "cell_type": "code",
   "execution_count": 15,
   "id": "e4e4131c",
   "metadata": {},
   "outputs": [
    {
     "name": "stdout",
     "output_type": "stream",
     "text": [
      "Initializing B\n",
      "Initializing A\n"
     ]
    }
   ],
   "source": [
    "class B:\n",
    "    def __init__(self):\n",
    "        print(\"Initializing B\")\n",
    "\n",
    "class A(B):\n",
    "    def __init__(self):\n",
    "        super().__init__()\n",
    "        print(\"Initializing A\")\n",
    "\n",
    "a = A()\n",
    "# Using the super() function:\n"
   ]
  },
  {
   "cell_type": "code",
   "execution_count": 13,
   "id": "eb5f7b7e",
   "metadata": {},
   "outputs": [
    {
     "name": "stdout",
     "output_type": "stream",
     "text": [
      "i from A is 90\n",
      "i from A is 60\n"
     ]
    }
   ],
   "source": [
    " # 12..\"what is output of following code\"\n",
    "class A:\n",
    "    def __init__(self):\n",
    "        self.calcI(30)\n",
    "        print(\"i from A is\", self.i)\n",
    "\n",
    "    def calcI(self, i):\n",
    "        self.i = 2 * i;\n",
    "\n",
    "class B(A):\n",
    "    def __init__(self):\n",
    "        super().__init__()\n",
    "        \n",
    "    def calcI(self, i):\n",
    "        self.i = 3 * i;\n",
    "\n",
    "b = B()\n",
    "b=A()"
   ]
  },
  {
   "cell_type": "markdown",
   "id": "45e50a06",
   "metadata": {},
   "source": [
    "# 14 .The assignment of more than one function to a particular operator is _______"
   ]
  },
  {
   "cell_type": "code",
   "execution_count": 18,
   "id": "651d923d",
   "metadata": {},
   "outputs": [
    {
     "name": "stdout",
     "output_type": "stream",
     "text": [
      "15\n"
     ]
    }
   ],
   "source": [
    "class MyNumber:\n",
    "    def __init__(self, value):\n",
    "        self.value = value\n",
    "\n",
    "    def __add__(self, other):\n",
    "        return MyNumber(self.value + other.value)\n",
    "\n",
    "a = MyNumber(5)\n",
    "b = MyNumber(10)\n",
    "c = a + b\n",
    "print(c.value) # 15\n"
   ]
  },
  {
   "cell_type": "markdown",
   "id": "dc8284d5",
   "metadata": {},
   "source": [
    "In this example, the __add__ method is used to overload the + operator for the MyNumber class. When two MyNumber objects are added together, the __add__ method is called and the value attribute of each object is added together and returned as a new MyNumber object.\n",
    "\n",
    "It's worth noting that overloading operators can make the code less readable and harder to understand for other developers and it should be used with care."
   ]
  },
  {
   "cell_type": "markdown",
   "id": "4fc75774",
   "metadata": {},
   "source": [
    "# 15 Which of the following is not a class method?"
   ]
  },
  {
   "cell_type": "markdown",
   "id": "6e65d399",
   "metadata": {},
   "source": [
    "A class method is a method that is bound to the class and not the instance of the object. It can be called on the class itself, as well as on any instance of the class. Class methods are defined using the @classmethod decorator, and the first argument in the method is always the class itself, typically named cls."
   ]
  },
  {
   "cell_type": "code",
   "execution_count": 20,
   "id": "29f22b29",
   "metadata": {},
   "outputs": [
    {
     "name": "stdout",
     "output_type": "stream",
     "text": [
      "Count.test= 25\n",
      "k = 0\n"
     ]
    }
   ],
   "source": [
    "# 16.\"What will be the output of the following Python code?    \n",
    "def add(c,k):\n",
    "    c.test=c.test+1\n",
    "    k=k+1\n",
    "class A:\n",
    "    def __init__(self):\n",
    "        self.test = 0\n",
    "def main():\n",
    "    Count=A()\n",
    "    k=0\n",
    " \n",
    "    for i in range(0,25):\n",
    "        add(Count,k)\n",
    "    print(\"Count.test=\", Count.test)\n",
    "    print(\"k =\", k)\n",
    "main()"
   ]
  },
  {
   "cell_type": "markdown",
   "id": "a22b5950",
   "metadata": {},
   "source": [
    "In this code, a class A is defined with an attribute test which is initialized to 0 in the __init__ method. A function add is defined which takes two arguments c and k. In the function add, the value of c.test is incremented by 1, and the value of k is incremented by 1.\n",
    "\n",
    "In the main function, an instance of the class A is created and assigned to the variable Count. A variable k is also initialized to 0. The for loop iterates 25 times and calls the function add with the arguments Count and k in each iteration.\n",
    "\n",
    "Here, the variable c and k are passed as arguments to the function add. When the function is called, c refers to the instance of the class A and k refers to the variable in the main function. The function increments the value of c.test by 1 and also increments the value of k by 1. But since k is defined as a local variable in the main function, the change in its value doesn't reflect outside the function. Therefore, the final value of Count.test is 25 and the final value of k is 0."
   ]
  },
  {
   "cell_type": "code",
   "execution_count": 22,
   "id": "b1f531d6",
   "metadata": {},
   "outputs": [],
   "source": [
    "# 17.Which of the following Python code creates an empty class?\n",
    "class MyClass:\n",
    "    pass"
   ]
  },
  {
   "cell_type": "markdown",
   "id": "4b9c99a2",
   "metadata": {},
   "source": [
    "An empty class can be created by using the keyword class followed by the class name and a colon, with no methods or properties defined within the class body. Like this:\n",
    "    An empty class can be created by using the keyword class followed by the class name and a colon, with no methods or properties defined within the class body. Like this:"
   ]
  },
  {
   "cell_type": "code",
   "execution_count": 25,
   "id": "7c910811",
   "metadata": {},
   "outputs": [
    {
     "name": "stdout",
     "output_type": "stream",
     "text": [
      "First method called\n"
     ]
    }
   ],
   "source": [
    "# 18 \n",
    "#\"Is the following Python code valid?   \n",
    "class B(object):\n",
    "    def first(self):\n",
    "        print(\"First method called\")\n",
    "    def second():\n",
    "        print(\"Second method called\")\n",
    "ob = B()\n",
    "B.first(ob)"
   ]
  },
  {
   "cell_type": "markdown",
   "id": "bf4e0964",
   "metadata": {},
   "source": [
    "In this code, a class B is defined with two methods first and second. The first method is a regular method, it takes self as its first parameter, it's a instance method. The second method doesn't take any parameter, it's a class method.\n",
    "\n",
    "An object ob of class B is created. The first method of the class is called using the object ob by calling B.first(ob). Since the first method is a regular method and it takes self as its first parameter, it needs an instance to be passed as an argument. And since the ob object is an instance of class B, the first method is called successfully and the output is \"First method called\"\n",
    "\n",
    "It's worth noting that the second method doesn't take any parameter, and it's not called in this code snippet, if you call it using the same way you called the first method, it will raise an TypeError."
   ]
  },
  {
   "cell_type": "markdown",
   "id": "7521fc36",
   "metadata": {},
   "source": [
    "# 19.What are the methods which begin and end with two underscore characters called?"
   ]
  },
  {
   "cell_type": "markdown",
   "id": "50a04be8",
   "metadata": {},
   "source": [
    "Methods which begin and end with two underscore characters are called \"magic methods\" or \"dunder methods\" in Python. These methods are special methods that have a specific meaning to the Python interpreter and are used to define the behavior of certain operations on custom classes. They are also known as special methods or \"magic methods\".\n",
    "\n",
    "For example, the __init__ method is a magic method that is called when an object is created from a class, the __str__ method is a magic method that is called when the str() function is used on an object and the __add__ method is a magic method that is called when the + operator is used on objects of a class.\n",
    "\n",
    "These methods have double underscores (__) at the start and end of their names. The use of double underscores is a convention that indicates that these methods are special and should not be overridden or called directly unless you know what you are doing.\n",
    "\n",
    "By using these methods, we can define the behavior of certain operations on custom classes and make them behave more like built-in classes."
   ]
  },
  {
   "cell_type": "code",
   "execution_count": 26,
   "id": "0940cda9",
   "metadata": {},
   "outputs": [
    {
     "name": "stdout",
     "output_type": "stream",
     "text": [
      "__str__ built-in function called\n"
     ]
    }
   ],
   "source": [
    "# 20\n",
    "\"What will be the output of the following Python code \"\n",
    "class demo():\n",
    "    def __repr__(self):\n",
    "        return '__repr__ built-in function called'\n",
    "    def __str__(self):\n",
    "        return '__str__ built-in function called'\n",
    "s=demo()\n",
    "print(s)"
   ]
  },
  {
   "cell_type": "markdown",
   "id": "4caf0a8d",
   "metadata": {},
   "source": [
    "# 21.What is hasattr(obj,name) used for?\n",
    "hasattr(obj, name) is a built-in function in Python that is used to check if an object has an attribute with a specific name.\n",
    "\n",
    "It takes two arguments:\n",
    "\n",
    "obj: the object you want to check for the attribute\n",
    "name: a string representing the name of the attribute you want to check for\n",
    "It returns True if the object has an attribute with the given name, and False otherwise."
   ]
  },
  {
   "cell_type": "code",
   "execution_count": 27,
   "id": "a8b95dbd",
   "metadata": {},
   "outputs": [
    {
     "name": "stdout",
     "output_type": "stream",
     "text": [
      "True\n",
      "False\n"
     ]
    }
   ],
   "source": [
    "class MyClass:\n",
    "    def __init__(self):\n",
    "        self.x = 5\n",
    "\n",
    "my_obj = MyClass()\n",
    "\n",
    "print(hasattr(my_obj, 'x'))  # True\n",
    "print(hasattr(my_obj, 'y'))  # False\n"
   ]
  },
  {
   "cell_type": "code",
   "execution_count": 14,
   "id": "6c7c604b",
   "metadata": {},
   "outputs": [
    {
     "name": "stdout",
     "output_type": "stream",
     "text": [
      "Count.test= 25\n",
      "k = 0\n"
     ]
    }
   ],
   "source": [
    "# \"What will be the output of the following Python code?    \n",
    "def add(c,k):\n",
    "    c.test=c.test+1\n",
    "    k=k+1\n",
    "class A:\n",
    "    def __init__(self):\n",
    "        self.test = 0\n",
    "def main():\n",
    "    Count=A()\n",
    "    k=0\n",
    " \n",
    "    for i in range(0,25):\n",
    "        add(Count,k)\n",
    "    print(\"Count.test=\", Count.test)\n",
    "    print(\"k =\", k)\n",
    "main()"
   ]
  },
  {
   "cell_type": "markdown",
   "id": "9f5fc6e6",
   "metadata": {},
   "source": [
    "> hasattr(obj, name) can be used in a variety of situations where you need to check if an object has a certain attribute before performing some action.\n",
    "\n",
    "For example, you can use it to check if an object has a certain method before calling it:"
   ]
  },
  {
   "cell_type": "code",
   "execution_count": 28,
   "id": "48d34847",
   "metadata": {},
   "outputs": [
    {
     "name": "stdout",
     "output_type": "stream",
     "text": [
      "My method was called\n"
     ]
    }
   ],
   "source": [
    "class MyClass:\n",
    "    def __init__(self):\n",
    "        self.x = 5\n",
    "    def my_method(self):\n",
    "        print(\"My method was called\")\n",
    "\n",
    "my_obj = MyClass()\n",
    "\n",
    "if hasattr(my_obj, 'my_method'):\n",
    "    my_obj.my_method()  # My method was called\n",
    "else:\n",
    "    print(\"my_obj doesn't have a 'my_method'\")\n"
   ]
  },
  {
   "cell_type": "code",
   "execution_count": 30,
   "id": "5d8b5d43",
   "metadata": {},
   "outputs": [
    {
     "name": "stdout",
     "output_type": "stream",
     "text": [
      "Count.test= 25\n",
      "k = 0\n"
     ]
    }
   ],
   "source": [
    "# 22.\n",
    "# \"What will be the output of the following Python code? \"\"   \n",
    "def add(c,k):\n",
    "    c.test=c.test+1\n",
    "    k=k+1\n",
    "class A:\n",
    "    def __init__(self):\n",
    "        self.test = 0\n",
    "def main():\n",
    "    Count=A()\n",
    "    k=0\n",
    " \n",
    "    for i in range(0,25):\n",
    "        add(Count,k)\n",
    "    print(\"Count.test=\", Count.test)\n",
    "    print(\"k =\", k)\n",
    "main()"
   ]
  },
  {
   "cell_type": "markdown",
   "id": "be0a6265",
   "metadata": {},
   "source": [
    "# 23 What does print(Test.__name__) display (assuming Test is the name of the class)?"
   ]
  },
  {
   "cell_type": "markdown",
   "id": "28ed92bb",
   "metadata": {},
   "source": [
    "print(Test.__name__) will display the name of the class \"Test\".\n",
    "\n",
    "__name__ is a built-in attribute of a class that holds the name of the class as a string. This attribute can be accessed by using the dot notation on the class itself.\n",
    "\n",
    "For example, if the class is defined as:"
   ]
  },
  {
   "cell_type": "code",
   "execution_count": 32,
   "id": "bf5e451f",
   "metadata": {},
   "outputs": [
    {
     "name": "stdout",
     "output_type": "stream",
     "text": [
      "Test\n"
     ]
    }
   ],
   "source": [
    "class Test:\n",
    "    pass\n",
    "print(Test.__name__)"
   ]
  },
  {
   "cell_type": "markdown",
   "id": "160f9952",
   "metadata": {},
   "source": [
    "then print(Test.__name__) will output 'Test'.\n",
    "\n",
    "It's worth noting that __name__ attribute is not only available for classes but also for functions, modules, and methods. It's a useful attribute that can be used to get the name of the current function, class or module."
   ]
  },
  {
   "cell_type": "markdown",
   "id": "8bf08ebf",
   "metadata": {},
   "source": [
    "# 24 In Python, a class is ___________ for a concrete object.\n",
    "\n",
    "In Python, a class is a blueprint or template for a concrete object.\n",
    "\n",
    "A class defines the properties and methods that an object of that class will have. A class is a way to define the structure and behavior of objects in an object-oriented program. Once a class is defined, it can be used to create one or more objects, also known as instances of the class. Each instance will have its own state (attributes) and will be able to perform the actions (methods) defined in the class."
   ]
  },
  {
   "cell_type": "code",
   "execution_count": 33,
   "id": "7377ba62",
   "metadata": {},
   "outputs": [
    {
     "ename": "SyntaxError",
     "evalue": "invalid syntax (2030929431.py, line 6)",
     "output_type": "error",
     "traceback": [
      "\u001b[1;36m  File \u001b[1;32m\"C:\\Users\\91852\\AppData\\Local\\Temp\\ipykernel_13188\\2030929431.py\"\u001b[1;36m, line \u001b[1;32m6\u001b[0m\n\u001b[1;33m    The correct way to instantiate the above Dog class is:\u001b[0m\n\u001b[1;37m        ^\u001b[0m\n\u001b[1;31mSyntaxError\u001b[0m\u001b[1;31m:\u001b[0m invalid syntax\n"
     ]
    }
   ],
   "source": [
    "# 25.\n",
    "class Dog:\n",
    "    def __init__(self, name, age):\n",
    "        self.name = name\n",
    "        self.age = age    \n",
    "        The correct way to instantiate the above Dog class is:"
   ]
  },
  {
   "cell_type": "markdown",
   "id": "cf80790d",
   "metadata": {},
   "source": [
    "# 26.Which of th following represents an entity of real world?"
   ]
  },
  {
   "cell_type": "code",
   "execution_count": 35,
   "id": "6c6c00cd",
   "metadata": {},
   "outputs": [],
   "source": [
    "# 28.Which of the following is used to create an instance of a class?\n",
    "class MyClass:\n",
    "    pass\n",
    "\n",
    "my_obj = MyClass()\n"
   ]
  },
  {
   "cell_type": "markdown",
   "id": "64ce32f9",
   "metadata": {},
   "source": [
    "In this example, MyClass is the class and my_obj is the instance of the class. The MyClass() is called a constructor which is used to create an instance of the class."
   ]
  },
  {
   "cell_type": "markdown",
   "id": "d651f3c5",
   "metadata": {},
   "source": [
    "# 29 Which of the following is a blueprint, template for creating an object?"
   ]
  },
  {
   "cell_type": "markdown",
   "id": "f8b48fdb",
   "metadata": {},
   "source": [
    "A class is a blueprint, template for creating an object.\n",
    "\n",
    "A class in object-oriented programming is a blueprint or template that defines the structure and behavior of objects. A class defines the properties (also known as attributes or fields) and methods that an object of that class will have. Once a class is defined, it can be used to create one or more objects, also known as instances of the class. Each instance will have its own state (values of its attributes) and will be able to perform the actions (methods) defined in the class.\n"
   ]
  },
  {
   "cell_type": "code",
   "execution_count": null,
   "id": "3cb33031",
   "metadata": {},
   "outputs": [],
   "source": [
    "# 30.which of the following marks the begining of a function?\n"
   ]
  },
  {
   "cell_type": "markdown",
   "id": "45a5a6ca",
   "metadata": {},
   "source": [
    "# 31 \"which of the following statements are used to check whether 'obj' belongs a class 'A' or not?\""
   ]
  },
  {
   "cell_type": "code",
   "execution_count": 38,
   "id": "c21bdd1b",
   "metadata": {},
   "outputs": [
    {
     "name": "stdout",
     "output_type": "stream",
     "text": [
      "123\n"
     ]
    }
   ],
   "source": [
    "# 32 .\"What will be the output of the following code?\n",
    "class Sales:\n",
    "    def __init__(self, id):\n",
    "        self.id = id\n",
    "        id = 100\n",
    "\n",
    "val = Sales(123)\n",
    "print (val.id)"
   ]
  },
  {
   "cell_type": "code",
   "execution_count": 40,
   "id": "08c0ad66",
   "metadata": {},
   "outputs": [
    {
     "name": "stdout",
     "output_type": "stream",
     "text": [
      "51\n"
     ]
    }
   ],
   "source": [
    "# 33.\"What will be the output of the following code?\n",
    "class Person:\n",
    "    def __init__(self, id):\n",
    "        self.id = id\n",
    "\n",
    "sam = Person(100)\n",
    "\n",
    "sam.__dict__['age'] = 49\n",
    "\n",
    "print (sam.age + len(sam.__dict__))"
   ]
  },
  {
   "cell_type": "markdown",
   "id": "3321e2f3",
   "metadata": {},
   "source": [
    "In this code, the class Person has a constructor that takes a single argument id, and assigns it to the instance variable self.id. An instance sam of class Person is created with id 100.\n",
    "\n",
    "Then, the statement sam.__dict__['age'] = 49 adds a new key-value pair 'age': 49 to the __dict__ attribute of the sam object. The __dict__ attribute is a dictionary that holds the attributes and their values of an object, it is used to access an object's attributes dynamically.\n",
    "\n",
    "Finally, the statement print (sam.age + len(sam.__dict__)) prints the value of the attribute age which is 49, and the length of the __dict__ dictionary which is 2 ('id': 100 and 'age': 49) added together which is 49+2 = 50.\n",
    "\n",
    "In short, the code creates an instance of class Person and assigns an attribute age to the instance by adding a key-value pair to the __dict__ attribute and then prints the sum of the value of the attribute age and the length of the __dict__ attribute.\n",
    "\n",
    "\n",
    "\n",
    "\n",
    "\n",
    "\n"
   ]
  },
  {
   "cell_type": "markdown",
   "id": "41e451b4",
   "metadata": {},
   "source": [
    "# 34.What is an abstract class?\n",
    "An abstract class is a special kind of class in Python that cannot be instantiated and is designed to be subclassed. It is used as a base class for other classes, and provides a common interface for those classes.\n",
    "\n",
    "An abstract class contains one or more abstract methods, which are methods that have no implementation (i.e. no code block). These methods are declared with the @abstractmethod decorator and the abc.ABC metaclass. These methods act as a placeholder for the actual implementation of the method that must be provided by the subclass."
   ]
  },
  {
   "cell_type": "code",
   "execution_count": 41,
   "id": "c06a9d8c",
   "metadata": {},
   "outputs": [
    {
     "name": "stdout",
     "output_type": "stream",
     "text": [
      "16\n"
     ]
    }
   ],
   "source": [
    "from abc import ABC, abstractmethod\n",
    "\n",
    "class Shape(ABC):\n",
    "    @abstractmethod\n",
    "    def area(self):\n",
    "        pass\n",
    "\n",
    "class Square(Shape):\n",
    "    def __init__(self, side):\n",
    "        self.side = side\n",
    "\n",
    "    def area(self):\n",
    "        return self.side * self.side\n",
    "\n",
    "sq = Square(4)\n",
    "print(sq.area())\n"
   ]
  },
  {
   "cell_type": "markdown",
   "id": "5e347e11",
   "metadata": {},
   "source": [
    "In this example, the Shape is an abstract class, it contains an abstract method area() that has no implementation. The Square class is a subclass of Shape, it provides an implementation of the area() method. The Square class can be instantiated, but the Shape class cannot.\n",
    "\n",
    "An abstract class is useful when you want to provide a common interface for a group of related classes, and make sure that all the classes implement certain methods.\n",
    "\n",
    "In Python, the abc module provides the base for defining abstract base classes (ABC) and that support methods for creating and managing abstract methods and properties."
   ]
  },
  {
   "cell_type": "markdown",
   "id": "1ceb9ff5",
   "metadata": {},
   "source": [
    "# 35.What is the name of the module which provides base for defining Abstract Base Classes.\n",
    "The name of the module which provides the base for defining Abstract Base Classes in Python is abc.\n",
    "\n",
    "The abc module provides the base for defining abstract base classes (ABC) and support methods for creating and managing abstract methods and properties.\n",
    "This module provides the ABC metaclass, which is used as a metaclass for creating ABCs. It also provides the abstractmethod() decorator, which is used to indicate that a method is an abstract method and the abstractproperty() decorator which is used to indicate that a property is an abstract property."
   ]
  },
  {
   "cell_type": "markdown",
   "id": "f27d3267",
   "metadata": {},
   "source": [
    "# 37.\"Which of the following can be used to invoke the __init__ method in B from A, where A is a subclass of B?\""
   ]
  },
  {
   "cell_type": "markdown",
   "id": "4abc4c04",
   "metadata": {},
   "source": [
    "The super() function can be used to invoke the __init__ method of the parent class (in this case class B) from the child class (class A). The super() function is called with no arguments, it returns a temporary object of the superclass, which allows you to call its methods.\n",
    "\n",
    "In this example, the A.__init__ method calls super().__init__(arg1, arg2) to invoke the __init__ method of class B with the arguments arg1 and arg2. This allows the code in the __init__ method of class B to be executed before the additional code in the __init__ method of class A is executed.\n",
    "\n",
    "In short, the super() function is used to invoke the __init__ method of a parent class from a child class, where the child class is a subclass of the parent class."
   ]
  },
  {
   "cell_type": "code",
   "execution_count": 2,
   "id": "2f710686",
   "metadata": {},
   "outputs": [],
   "source": [
    "import random\n",
    "\n",
    "class Card:\n",
    "    def __init__(self, suit, value):\n",
    "        self.suit = suit\n",
    "        self.value = value\n",
    "\n",
    "class Deck:\n",
    "    def __init__(self):\n",
    "        self.cards = []\n",
    "        self.build()\n",
    "\n",
    "    def build(self):\n",
    "        suits = [\"Hearts\", \"Diamonds\", \"Clubs\", \"Spades\"]\n",
    "        values = [\"A\", \"2\", \"3\", \"4\", \"5\", \"6\", \"7\", \"8\", \"9\", \"10\", \"J\", \"Q\", \"K\"]\n",
    "        for suit in suits:\n",
    "            for value in values:\n",
    "                self.cards.append(Card(suit, value))\n",
    "\n",
    "    def shuffle(self):\n",
    "        random.shuffle(self.cards)\n",
    "\n",
    "    def deal(self):\n",
    "        return self.cards.pop()\n"
   ]
  },
  {
   "cell_type": "markdown",
   "id": "4fa3bd43",
   "metadata": {},
   "source": [
    "# Assignments\n"
   ]
  },
  {
   "cell_type": "markdown",
   "id": "a8aeb625",
   "metadata": {},
   "source": [
    "# 5.B.1: ASSIGNMENT\n",
    "\n",
    "Create a deck of cards class. Internally, the deck of cards should use another class, a card class. Your requirements are:\n",
    "\n",
    "\n",
    "\n",
    "The Deck class should have a deal method to deal a single card from the deck\n",
    "\n",
    "After a card is dealt, it is removed from the deck.\n",
    "\n",
    "There should be a shuffle method which makes sure the deck of cards has all 52 cards and then rearranges them randomly.\n",
    "\n",
    "The Card class should have a suit (Hearts, Diamonds, Clubs, Spades) and a value (A,2,3,4,5,6,7,8,9,10,J,Q,K)"
   ]
  },
  {
   "cell_type": "code",
   "execution_count": 48,
   "id": "e71085ed",
   "metadata": {},
   "outputs": [
    {
     "name": "stdout",
     "output_type": "stream",
     "text": [
      "K of Spades\n",
      "7 of Spades\n"
     ]
    }
   ],
   "source": [
    "import random\n",
    "\n",
    "class Card:\n",
    "    def __init__(self, suit, value):\n",
    "        self.suit = suit\n",
    "        self.value = value\n",
    "    \n",
    "    def __repr__(self):\n",
    "        return f\"{self.value} of {self.suit}\"\n",
    "\n",
    "class Deck:\n",
    "    def __init__(self):\n",
    "        self.cards = []\n",
    "        suits = [\"Hearts\", \"Diamonds\", \"Clubs\", \"Spades\"]\n",
    "        values = [\"A\",\"2\",\"3\",\"4\",\"5\",\"6\",\"7\",\"8\",\"9\",\"10\",\"J\",\"Q\",\"K\"]\n",
    "        for suit in suits:\n",
    "            for value in values:\n",
    "                self.cards.append(Card(suit, value))\n",
    "\n",
    "    def deal(self):\n",
    "        if len(self.cards) > 0:\n",
    "            return self.cards.pop()\n",
    "        else:\n",
    "            return None\n",
    "    \n",
    "    def shuffle(self):\n",
    "        if len(self.cards) < 52:\n",
    "            self.__init__()\n",
    "        random.shuffle(self.cards)\n",
    "deck = Deck()\n",
    "print(deck.deal())\n",
    "# for example: 'A of Hearts'\n",
    "deck.shuffle()\n",
    "print(deck.deal())\n",
    "# for example: '8 of Clubs'\n"
   ]
  },
  {
   "cell_type": "markdown",
   "id": "98ea02a5",
   "metadata": {},
   "source": [
    "In this example, The Card class has two attributes, suit and value, which are passed in when a new card is created. The __repr__ method is used to display a string representation of the card when it is printed.\n",
    "\n",
    "The Deck class has an __init__ method that creates a list of 52 cards, one for each combination of suit and value. The deal method checks if there are any cards left in the deck, and if so, it returns the last card and removes it from the deck. If there are no cards left, it returns None. The shuffle method checks if the deck has all 52 cards, if not it calls the __init__ method and shuffles the cards using"
   ]
  },
  {
   "cell_type": "markdown",
   "id": "93c8bc63",
   "metadata": {},
   "source": [
    "# 5.B.2: ASSIGNMENT\n",
    "Create a bike rental shop system in which:\n",
    "\n",
    "Customers can\n",
    "\n",
    "See available bikes on the shop\n",
    "\n",
    "Rent bikes on an hourly basis $5 per hour.\n",
    "\n",
    "Rent bikes on a daily basis $20 per day.\n",
    "\n",
    "Rent bikes on a weekly basis $60 per week.\n",
    "\n",
    "\n",
    "The bike rental shop can\n",
    "\n",
    "Issue a bill when the customer decides to return the bike.\n",
    "\n",
    "display available inventory\n",
    "\n",
    "take requests on hourly, daily and weekly basis by cross verifying stock\n",
    "\n"
   ]
  },
  {
   "cell_type": "code",
   "execution_count": 52,
   "id": "6f72bf36",
   "metadata": {},
   "outputs": [
    {
     "data": {
      "text/plain": [
       "'Amount to be paid: $5 for hourly rental'"
      ]
     },
     "execution_count": 52,
     "metadata": {},
     "output_type": "execute_result"
    }
   ],
   "source": [
    "class BikeRentalShop:\n",
    "    def __init__(self):\n",
    "        self.inventory = {}\n",
    "\n",
    "    def add_bike(self, bike_id):\n",
    "        self.inventory[bike_id] = \"available\"\n",
    "        \n",
    "    def remove_bike(self, bike_id):\n",
    "        if bike_id in self.inventory:\n",
    "            del self.inventory[bike_id]\n",
    "            \n",
    "    def display_inventory(self):\n",
    "        return self.inventory\n",
    "    \n",
    "    def rent_bike(self, bike_id, rental_period):\n",
    "        if bike_id in self.inventory:\n",
    "            if self.inventory[bike_id] == \"available\":\n",
    "                if rental_period == \"hourly\":\n",
    "                    self.inventory[bike_id] = \"rented_hourly\"\n",
    "                    return 5\n",
    "                elif rental_period == \"daily\":\n",
    "                    self.inventory[bike_id] = \"rented_daily\"\n",
    "                    return 20\n",
    "                elif rental_period == \"weekly\":\n",
    "                    self.inventory[bike_id] = \"rented_weekly\"\n",
    "                    return 60\n",
    "                else:\n",
    "                    return \"Invalid rental period\"\n",
    "            else:\n",
    "                return \"Bike not available\"\n",
    "        else:\n",
    "            return \"Bike not found\"\n",
    "        \n",
    "    def return_bike(self, bike_id):\n",
    "        if bike_id in self.inventory:\n",
    "            rental_period = self.inventory[bike_id]\n",
    "            if rental_period == \"rented_hourly\":\n",
    "                self.inventory[bike_id] = \"available\"\n",
    "                return \"Amount to be paid: $5 for hourly rental\"\n",
    "            elif rental_period == \"rented_daily\":\n",
    "                self.inventory[bike_id] = \"available\"\n",
    "                return \"Amount to be paid: $20 for daily rental\"\n",
    "            elif rental_period == \"rented_weekly\":\n",
    "                self.inventory[bike_id] = \"available\"\n",
    "                return \"Amount to be paid: $60 for weekly rental\"\n",
    "            else:\n",
    "                return \"Invalid bike id\"\n",
    "        else:\n",
    "            return \"Bike not found\"\n",
    "shop = BikeRentalShop()\n",
    "shop.add_bike(1)\n",
    "shop.add_bike(2)\n",
    "shop.add_bike(3)\n",
    "shop.rent_bike(1, \"hourly\")\n",
    "shop.rent_bike(2, \"daily\")\n",
    "shop.rent_bike(3, \"weekly\")\n",
    "shop.return_bike(1)\n"
   ]
  },
  {
   "cell_type": "markdown",
   "id": "db98613b",
   "metadata": {},
   "source": [
    "In this example, the BikeRentalShop class has an __init__ method that creates an empty dictionary to store the inventory of available bikes. The add_bike method adds a new bike to the inventory with the status \"available\". The remove_bike method removes a bike from the inventory. The display_inventory method returns the inventory dictionary.\n",
    "The rent_bike method rents the bike to the customer on hourly, daily or weekly basis by cross verifying the stock availability and returns the rental charges.\n",
    "The return_bike method calculates the rental charges based on the rental period and returns the amount to be paid by the customer.\n",
    "\n",
    "You can test this by creating an instance of the bike rental shop and adding bikes, renting and returning them."
   ]
  },
  {
   "cell_type": "markdown",
   "id": "1f2f79de",
   "metadata": {},
   "source": [
    "> The __init__ method initializes the inventory as an empty dictionary. The add_bike method takes a bike_id as a parameter and adds it to the inventory with the value \"available\". The remove_bike method takes a bike_id as a parameter and removes it from the inventory if it exists. The display_inventory method returns the current inventory.\n",
    "\n",
    "The rent_bike method takes two parameters: the bike_id and the rental period (hourly, daily or weekly). It checks if the bike is available and then updates the inventory accordingly. It also returns the rental amount based on the rental period.\n",
    "\n",
    "The return_bike method takes a bike_id as a parameter, checks if it exists in the inventory and updates the inventory accordingly. It also returns the amount to be paid based on the rental period.\n",
    "\n",
    "In the code snippet provided, you are creating an instance of BikeRentalShop class, adding three bikes to the inventory, and renting all three of them. Lastly, you are returning the first bike and the system is providing the amount to be paid.\n",
    "\n",
    "You can add more functionality to this class like adding a reservation feature, storing rental history of customer, and displaying the same, adding an option to provide feedback on bike condition and rental experience, adding features to notify customer in case of delay in bike return, etc."
   ]
  },
  {
   "cell_type": "code",
   "execution_count": null,
   "id": "c0919081",
   "metadata": {},
   "outputs": [],
   "source": []
  }
 ],
 "metadata": {
  "kernelspec": {
   "display_name": "Python 3 (ipykernel)",
   "language": "python",
   "name": "python3"
  },
  "language_info": {
   "codemirror_mode": {
    "name": "ipython",
    "version": 3
   },
   "file_extension": ".py",
   "mimetype": "text/x-python",
   "name": "python",
   "nbconvert_exporter": "python",
   "pygments_lexer": "ipython3",
   "version": "3.9.13"
  }
 },
 "nbformat": 4,
 "nbformat_minor": 5
}
