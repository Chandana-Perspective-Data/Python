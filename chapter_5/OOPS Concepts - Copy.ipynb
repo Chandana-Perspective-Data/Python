{
 "cells": [
  {
   "cell_type": "markdown",
   "id": "72e072a5",
   "metadata": {},
   "source": [
    "# OOPS(Object Orianted Programming System)"
   ]
  },
  {
   "cell_type": "markdown",
   "id": "425e8cf8",
   "metadata": {},
   "source": [
    "## class : Is ablue print to create an object\n",
    "## object / instance : Real world entity\n",
    "\n"
   ]
  },
  {
   "cell_type": "markdown",
   "id": "ac0dcca2",
   "metadata": {},
   "source": [
    "### Class and object"
   ]
  },
  {
   "cell_type": "markdown",
   "id": "2c0d6772",
   "metadata": {},
   "source": [
    "# Class : A class is a blue print, to create an \"Object/instance\"\n",
    "syn: \n",
    "\n",
    "class Class_name:"
   ]
  },
  {
   "cell_type": "code",
   "execution_count": null,
   "id": "eddf5ded",
   "metadata": {},
   "outputs": [],
   "source": [
    "class A:\n",
    "    x=0  # class/static var\n",
    "    print(x)\n",
    "    def f():  # class methos\n",
    "        print(A.x)\n",
    "        print(\"It is a static method\")\n",
    "    f()\n",
    "    \n",
    "    def g(self):  # instace method\n",
    "        print(A.x)\n",
    "        self.num1=10 # instance var\n",
    "        num2=20      # local var\n",
    "        print(\"It is a instance method\")\n",
    "        print(self.num1)\n",
    "    \n",
    "    def h(self):  # instace method\n",
    "        print(self.num1)\n",
    "        \n",
    "    def k():\n",
    "        print(A.x)\n",
    "        #print(self.num1)\n",
    "        \n",
    "    k()    \n",
    "\n",
    "a=A()   \n",
    "a.g()\n",
    "print(a.num1)\n",
    "a.h()\n"
   ]
  },
  {
   "cell_type": "code",
   "execution_count": 16,
   "id": "baddbeba",
   "metadata": {},
   "outputs": [
    {
     "name": "stdout",
     "output_type": "stream",
     "text": [
      "2)  0\n",
      "3)  0\n",
      "0\n",
      "1)  0\n"
     ]
    },
    {
     "ename": "AttributeError",
     "evalue": "'A' object has no attribute '__x'",
     "output_type": "error",
     "traceback": [
      "\u001b[1;31m---------------------------------------------------------------------------\u001b[0m",
      "\u001b[1;31mAttributeError\u001b[0m                            Traceback (most recent call last)",
      "\u001b[1;32m~\\AppData\\Local\\Temp\\ipykernel_13068\\2414600558.py\u001b[0m in \u001b[0;36m<module>\u001b[1;34m\u001b[0m\n\u001b[0;32m     12\u001b[0m \u001b[0ma\u001b[0m\u001b[1;33m=\u001b[0m\u001b[0mA\u001b[0m\u001b[1;33m(\u001b[0m\u001b[1;33m)\u001b[0m   \u001b[1;31m# Creating the onbject\u001b[0m\u001b[1;33m\u001b[0m\u001b[1;33m\u001b[0m\u001b[0m\n\u001b[0;32m     13\u001b[0m \u001b[0ma\u001b[0m\u001b[1;33m.\u001b[0m\u001b[0mf1\u001b[0m\u001b[1;33m(\u001b[0m\u001b[1;33m)\u001b[0m \u001b[1;31m# calling the instance method through the object\u001b[0m\u001b[1;33m\u001b[0m\u001b[1;33m\u001b[0m\u001b[0m\n\u001b[1;32m---> 14\u001b[1;33m \u001b[0mprint\u001b[0m\u001b[1;33m(\u001b[0m\u001b[0ma\u001b[0m\u001b[1;33m.\u001b[0m\u001b[0m__x\u001b[0m\u001b[1;33m)\u001b[0m\u001b[1;33m\u001b[0m\u001b[1;33m\u001b[0m\u001b[0m\n\u001b[0m",
      "\u001b[1;31mAttributeError\u001b[0m: 'A' object has no attribute '__x'"
     ]
    }
   ],
   "source": [
    "x=0  # global\n",
    "class A:\n",
    "    def_=1 # class/static var\n",
    "    def f1(self):\n",
    "        self.__x=2  # local\n",
    "        print(\"1) \",x)\n",
    "    print(\"2) \",x)\n",
    "    print(\"3) \",x)\n",
    "\n",
    "print(x)   \n",
    "        \n",
    "a=A()   # Creating the onbject \n",
    "a.f1() # calling the instance method through the object\n",
    "print(a.__x)"
   ]
  },
  {
   "cell_type": "code",
   "execution_count": 8,
   "id": "be0b882b",
   "metadata": {},
   "outputs": [
    {
     "name": "stdout",
     "output_type": "stream",
     "text": [
      "engine...\n",
      "power\n"
     ]
    }
   ],
   "source": [
    "def fun():\n",
    "    print(\"hi...\")\n",
    "\n",
    "def fun1():\n",
    "    print(\"hello...\")\n",
    "\n",
    "class Car:\n",
    "    def engine(self):\n",
    "        print(\"engine...\")\n",
    "        \n",
    "    def gear(self):\n",
    "        print(\"gear...\")\n",
    "    \n",
    "    def acceleration(self):\n",
    "        print(\"acceleration...\")\n",
    "    def power():\n",
    "        print(\"power\")\n",
    "c= Car()\n",
    "c.engine()\n",
    "\n",
    "Car.power()"
   ]
  },
  {
   "cell_type": "code",
   "execution_count": 4,
   "id": "f9bba0dd",
   "metadata": {},
   "outputs": [
    {
     "name": "stdout",
     "output_type": "stream",
     "text": [
      "30\n"
     ]
    }
   ],
   "source": [
    "# syn : class class_name:\n",
    "class Myclass:\n",
    "    a=10\n",
    "    b=20\n",
    "    print(a+b)\n",
    "    \n",
    "m=Myclass()\n"
   ]
  },
  {
   "cell_type": "code",
   "execution_count": null,
   "id": "a81ff449",
   "metadata": {},
   "outputs": [],
   "source": [
    "class Myclass:\n",
    "    def f():\n",
    "        def g():\n",
    "            a=10\n",
    "            b=20\n",
    "            print(a+b)\n",
    "        g()    \n",
    "    f()"
   ]
  },
  {
   "cell_type": "code",
   "execution_count": null,
   "id": "b194df3f",
   "metadata": {},
   "outputs": [],
   "source": [
    "class Myclass:\n",
    "    a=30\n",
    "    def f():\n",
    "        a=10\n",
    "        b=20\n",
    "        print(a+b)\n",
    "    \n",
    "    f()\n",
    "Myclass()"
   ]
  },
  {
   "cell_type": "code",
   "execution_count": 5,
   "id": "8ae2e9ee",
   "metadata": {},
   "outputs": [
    {
     "name": "stdout",
     "output_type": "stream",
     "text": [
      "Myclass\n"
     ]
    }
   ],
   "source": [
    "# program to create a class\n",
    "\n",
    "class Myclass:  #Creating the class\n",
    "    print(\"Myclass\")"
   ]
  },
  {
   "cell_type": "code",
   "execution_count": 1,
   "id": "63864306",
   "metadata": {},
   "outputs": [
    {
     "name": "stdout",
     "output_type": "stream",
     "text": [
      "Myclass\n"
     ]
    },
    {
     "data": {
      "text/plain": [
       "<__main__.Myclass at 0x1df0f9805e0>"
      ]
     },
     "execution_count": 1,
     "metadata": {},
     "output_type": "execute_result"
    }
   ],
   "source": [
    "# program to create an object/instance of the class\n",
    "\n",
    "class Myclass:  #Creating the class\n",
    "    print(\"Myclass\")\n",
    "    \n",
    "Myclass()  # creating the object/instance(The process of creating the object/instance is known as \"Instantation\")"
   ]
  },
  {
   "cell_type": "markdown",
   "id": "1fe46db3",
   "metadata": {},
   "source": [
    "# The __init__() Function\n",
    "The examples above are classes and objects in their simplest form, and are not really useful in real life applications.\n",
    "\n",
    "To understand the meaning of classes we have to understand the built-in __init__() function.\n",
    "\n",
    "All classes have a function called __init__(), which is always executed when the class is being initiated.\n",
    "\n",
    "Use the __init__() function to assign values to object properties, or other operations that are necessary to do when the object is being created:"
   ]
  },
  {
   "cell_type": "code",
   "execution_count": 11,
   "id": "ed577a14",
   "metadata": {},
   "outputs": [
    {
     "name": "stdout",
     "output_type": "stream",
     "text": [
      "rani\n",
      "36\n"
     ]
    }
   ],
   "source": [
    "class Person:\n",
    "    def __init__(self, name, age):\n",
    "        self.name = name\n",
    "        self.age = age\n",
    "\n",
    "p1 = Person(\"rani\", 36)\n",
    " \n",
    "print(p1.name)\n",
    "print(p1.age)\n",
    "\n",
    "# The __init__() function is called automatically every time\n",
    "#the class is being used to create a new object."
   ]
  },
  {
   "cell_type": "markdown",
   "id": "00d21ca1",
   "metadata": {},
   "source": [
    "# The self Parameter\n",
    "The self parameter is a reference to the current instance of the class, and is used to access variables that belongs to the class.\n",
    "\n",
    "It does not have to be named self , you can call it whatever you like, but it has to be the first parameter of any function in the class:"
   ]
  },
  {
   "cell_type": "code",
   "execution_count": 4,
   "id": "f0a9318c",
   "metadata": {},
   "outputs": [
    {
     "name": "stdout",
     "output_type": "stream",
     "text": [
      "Hello my name is python\n",
      "the age is  36\n"
     ]
    }
   ],
   "source": [
    "class Person:\n",
    "    def __init__(m, name, age):\n",
    "        m.name = name # the current instance of the class\n",
    "        m.age = age\n",
    "    def myfunc(abc):\n",
    "        print(\"Hello my name is \" + abc.name)\n",
    "        print(\"the age is \",abc.age)\n",
    "p1 = Person(\"python\", 36)\n",
    "p1.myfunc()"
   ]
  },
  {
   "cell_type": "code",
   "execution_count": 15,
   "id": "6666ed28",
   "metadata": {},
   "outputs": [
    {
     "name": "stdout",
     "output_type": "stream",
     "text": [
      "Hello my name is rani\n",
      "I am 36 years old.\n"
     ]
    }
   ],
   "source": [
    "class Person:\n",
    "    def __init__(mysillyobject, name, age):\n",
    "        mysillyobject.name = name\n",
    "        mysillyobject.age = age\n",
    "    def myfunc(abc):\n",
    "        print(\"Hello my name is \" + abc.name)\n",
    "        print(\"I am \" + str(abc.age) + \" years old.\")\n",
    "\n",
    "p1 = Person(\"rani\", 36)\n",
    "p1.myfunc()\n"
   ]
  },
  {
   "cell_type": "code",
   "execution_count": 3,
   "id": "7150b254",
   "metadata": {},
   "outputs": [
    {
     "ename": "TypeError",
     "evalue": "__init__() missing 1 required positional argument: 'x'",
     "output_type": "error",
     "traceback": [
      "\u001b[1;31m---------------------------------------------------------------------------\u001b[0m",
      "\u001b[1;31mTypeError\u001b[0m                                 Traceback (most recent call last)",
      "\u001b[1;32m~\\AppData\\Local\\Temp\\ipykernel_20756\\2023934189.py\u001b[0m in \u001b[0;36m<module>\u001b[1;34m\u001b[0m\n\u001b[0;32m      6\u001b[0m         \u001b[0mprint\u001b[0m\u001b[1;33m(\u001b[0m\u001b[0mmyself\u001b[0m\u001b[1;33m.\u001b[0m\u001b[0mx\u001b[0m\u001b[1;33m)\u001b[0m\u001b[1;33m\u001b[0m\u001b[1;33m\u001b[0m\u001b[0m\n\u001b[0;32m      7\u001b[0m \u001b[1;33m\u001b[0m\u001b[0m\n\u001b[1;32m----> 8\u001b[1;33m \u001b[0mex\u001b[0m \u001b[1;33m=\u001b[0m \u001b[0mExample\u001b[0m\u001b[1;33m(\u001b[0m\u001b[1;33m)\u001b[0m\u001b[1;33m\u001b[0m\u001b[1;33m\u001b[0m\u001b[0m\n\u001b[0m\u001b[0;32m      9\u001b[0m \u001b[0mex\u001b[0m\u001b[1;33m.\u001b[0m\u001b[0mprint_x\u001b[0m\u001b[1;33m(\u001b[0m\u001b[1;33m)\u001b[0m\u001b[1;33m\u001b[0m\u001b[1;33m\u001b[0m\u001b[0m\n",
      "\u001b[1;31mTypeError\u001b[0m: __init__() missing 1 required positional argument: 'x'"
     ]
    }
   ],
   "source": [
    "class Example:\n",
    "    def __init__(myself, x):\n",
    "        myself.x = x\n",
    "\n",
    "    def print_x(myself):\n",
    "        print(myself.x)\n",
    "\n",
    "ex = Example()\n",
    "ex.print_x() \n"
   ]
  },
  {
   "cell_type": "markdown",
   "id": "d5120eb6",
   "metadata": {},
   "source": [
    "In this example, the parameter name myself is used instead of self. As you can see, it works the same way as self, but it makes the code less readable and less clear. It is a good practice to use self as it is widely recognized and makes the code more readable."
   ]
  },
  {
   "cell_type": "code",
   "execution_count": 3,
   "id": "ef60db07",
   "metadata": {},
   "outputs": [],
   "source": [
    "# program to understand the constructor\n",
    "\n",
    "class Myclass:\n",
    "    def __init__(self):   # it is the constructor to construct the objects,it invokes automatically when we creat an object/instance. \n",
    "        print(\"hi.......\")          #(if you did not create object/instance constructor doesn't invokes)\n",
    "        "
   ]
  },
  {
   "cell_type": "code",
   "execution_count": 4,
   "id": "302789f3",
   "metadata": {},
   "outputs": [
    {
     "name": "stdout",
     "output_type": "stream",
     "text": [
      "hi.......\n"
     ]
    },
    {
     "data": {
      "text/plain": [
       "<__main__.Myclass at 0x1df0fdeefd0>"
      ]
     },
     "execution_count": 4,
     "metadata": {},
     "output_type": "execute_result"
    }
   ],
   "source": [
    "# program to understand that, a constructor can only called/invoked when object/instance is created\n",
    "\n",
    "class Myclass:\n",
    "    def __init__(self):   # it is the constructor to construct the objects,it invokes automatically when we creat an object/instance. \n",
    "        print(\"hi.......\")          #(if you did not create object/instance constructor doesn't invokes)\n",
    "        \n",
    "Myclass()  # creating the object/instance       \n",
    "        "
   ]
  },
  {
   "cell_type": "code",
   "execution_count": 1,
   "id": "1bcd6f73",
   "metadata": {},
   "outputs": [
    {
     "name": "stdout",
     "output_type": "stream",
     "text": [
      "10 20\n"
     ]
    },
    {
     "data": {
      "text/plain": [
       "<__main__.Myclass at 0x215b62e0070>"
      ]
     },
     "execution_count": 1,
     "metadata": {},
     "output_type": "execute_result"
    }
   ],
   "source": [
    "# program to pass arguments to the parameters of the constructor\n",
    "\n",
    "class Myclass:\n",
    "    def __init__(self,a,b):  # constructor with the parameters. we have to pass arguments to this parameter when we create an object/instance\n",
    "        print(a,b)  # in this case \" a \" and \" b \" are the local variables\n",
    "        \n",
    "Myclass(10,20)  #craeting the object/instance and passing arguments to the constructor\n",
    "        "
   ]
  },
  {
   "cell_type": "code",
   "execution_count": 1,
   "id": "eb9f28e2",
   "metadata": {},
   "outputs": [
    {
     "name": "stdout",
     "output_type": "stream",
     "text": [
      "10 20\n"
     ]
    },
    {
     "data": {
      "text/plain": [
       "<__main__.Myclass at 0x1ddbd990bb0>"
      ]
     },
     "execution_count": 1,
     "metadata": {},
     "output_type": "execute_result"
    }
   ],
   "source": [
    "class Myclass:\n",
    "    def __init__(self,a,b):  # constructor with the parameters. we have to pass arguments to this parameter when we create an object/instance\n",
    "        print(a,b)  # in this case \" a \" and \" b \" are the local variables\n",
    "        \n",
    "Myclass(10,20)\n",
    "#print(a,b)"
   ]
  },
  {
   "cell_type": "code",
   "execution_count": 11,
   "id": "a593a9dc",
   "metadata": {},
   "outputs": [
    {
     "name": "stdout",
     "output_type": "stream",
     "text": [
      "20 30 1\n",
      "1 30\n"
     ]
    }
   ],
   "source": [
    "\n",
    "\n",
    "class Myclass:\n",
    "    def __init__(self,a,b,c):  # constructor with the parameters. we have to pass arguments to this parameter when we create an object/instance\n",
    "        self.a=a  # creating the instance variable \"a\"\n",
    "        self.b=b  # creating the instance variable \"b\"\n",
    "        self.c=c \n",
    "        print(self.a,self.b,self.c)\n",
    "\n",
    "m=Myclass(20,30,1)  #craeting the object/instance and passing arguments to the constructor\n",
    "print(m.c,m.b)\n",
    "#print(m.c)\n",
    "\n",
    "# instance_name.variable_name\n",
    "        "
   ]
  },
  {
   "cell_type": "code",
   "execution_count": 12,
   "id": "c952020a",
   "metadata": {},
   "outputs": [
    {
     "name": "stdout",
     "output_type": "stream",
     "text": [
      "12 13 14\n",
      "14 13\n"
     ]
    }
   ],
   "source": [
    "\n",
    "class Myclass:\n",
    "    def __init__(self,a,b,c):  # constructor with the parameters. we have to pass arguments to this parameter when we create an object/instance\n",
    "        self.a=12  # creating the instance variable \"a\"\n",
    "        self.b=13  # creating the instance variable \"b\"\n",
    "        self.c=14 \n",
    "        print(self.a,self.b,self.c)\n",
    "\n",
    "m=Myclass(20,30,1)  #craeting the object/instance and passing arguments to the constructor\n",
    "print(m.c,m.b)\n",
    "#print(m.c)\n",
    "\n",
    "# instance_name.variable_name"
   ]
  },
  {
   "cell_type": "code",
   "execution_count": 3,
   "id": "c58bc8cc",
   "metadata": {},
   "outputs": [
    {
     "ename": "NameError",
     "evalue": "name 'a' is not defined",
     "output_type": "error",
     "traceback": [
      "\u001b[1;31m---------------------------------------------------------------------------\u001b[0m",
      "\u001b[1;31mNameError\u001b[0m                                 Traceback (most recent call last)",
      "\u001b[1;32m~\\AppData\\Local\\Temp\\ipykernel_600\\2206154263.py\u001b[0m in \u001b[0;36m<module>\u001b[1;34m\u001b[0m\n\u001b[0;32m      6\u001b[0m         \u001b[0mprint\u001b[0m\u001b[1;33m(\u001b[0m\u001b[0mself\u001b[0m\u001b[1;33m.\u001b[0m\u001b[0ma\u001b[0m\u001b[1;33m,\u001b[0m\u001b[0mself\u001b[0m\u001b[1;33m.\u001b[0m\u001b[0mb\u001b[0m\u001b[1;33m,\u001b[0m\u001b[0mc\u001b[0m\u001b[1;33m)\u001b[0m\u001b[1;33m\u001b[0m\u001b[1;33m\u001b[0m\u001b[0m\n\u001b[0;32m      7\u001b[0m \u001b[1;33m\u001b[0m\u001b[0m\n\u001b[1;32m----> 8\u001b[1;33m \u001b[0mm\u001b[0m\u001b[1;33m=\u001b[0m\u001b[0mMyclass\u001b[0m\u001b[1;33m(\u001b[0m\u001b[1;36m20\u001b[0m\u001b[1;33m,\u001b[0m\u001b[1;36m30\u001b[0m\u001b[1;33m,\u001b[0m\u001b[1;36m40\u001b[0m\u001b[1;33m)\u001b[0m  \u001b[1;31m#craeting the object/instance and passing arguments to the constructor\u001b[0m\u001b[1;33m\u001b[0m\u001b[1;33m\u001b[0m\u001b[0m\n\u001b[0m\u001b[0;32m      9\u001b[0m \u001b[0mprint\u001b[0m\u001b[1;33m(\u001b[0m\u001b[0mm\u001b[0m\u001b[1;33m.\u001b[0m\u001b[0ma\u001b[0m\u001b[1;33m,\u001b[0m\u001b[0mm\u001b[0m\u001b[1;33m.\u001b[0m\u001b[0mb\u001b[0m\u001b[1;33m)\u001b[0m\u001b[1;33m\u001b[0m\u001b[1;33m\u001b[0m\u001b[0m\n\u001b[0;32m     10\u001b[0m \u001b[0mprint\u001b[0m\u001b[1;33m(\u001b[0m\u001b[0mm\u001b[0m\u001b[1;33m.\u001b[0m\u001b[0mc\u001b[0m\u001b[1;33m)\u001b[0m\u001b[1;33m\u001b[0m\u001b[1;33m\u001b[0m\u001b[0m\n",
      "\u001b[1;32m~\\AppData\\Local\\Temp\\ipykernel_600\\2206154263.py\u001b[0m in \u001b[0;36m__init__\u001b[1;34m(self, x, y, z)\u001b[0m\n\u001b[0;32m      1\u001b[0m \u001b[1;32mclass\u001b[0m \u001b[0mMyclass\u001b[0m\u001b[1;33m:\u001b[0m\u001b[1;33m\u001b[0m\u001b[1;33m\u001b[0m\u001b[0m\n\u001b[0;32m      2\u001b[0m     \u001b[1;32mdef\u001b[0m \u001b[0m__init__\u001b[0m\u001b[1;33m(\u001b[0m\u001b[0mself\u001b[0m\u001b[1;33m,\u001b[0m\u001b[0mx\u001b[0m\u001b[1;33m,\u001b[0m\u001b[0my\u001b[0m\u001b[1;33m,\u001b[0m\u001b[0mz\u001b[0m\u001b[1;33m)\u001b[0m\u001b[1;33m:\u001b[0m  \u001b[1;31m# constructor with the parameters. we have to pass arguments to this parameter when we create an object/instance\u001b[0m\u001b[1;33m\u001b[0m\u001b[1;33m\u001b[0m\u001b[0m\n\u001b[1;32m----> 3\u001b[1;33m         \u001b[0mself\u001b[0m\u001b[1;33m.\u001b[0m\u001b[0ma\u001b[0m\u001b[1;33m=\u001b[0m\u001b[0ma\u001b[0m  \u001b[1;31m# creating the instance variable \"a\"\u001b[0m\u001b[1;33m\u001b[0m\u001b[1;33m\u001b[0m\u001b[0m\n\u001b[0m\u001b[0;32m      4\u001b[0m         \u001b[0mself\u001b[0m\u001b[1;33m.\u001b[0m\u001b[0mb\u001b[0m\u001b[1;33m=\u001b[0m\u001b[0mb\u001b[0m  \u001b[1;31m# creating the instance variable \"b\"\u001b[0m\u001b[1;33m\u001b[0m\u001b[1;33m\u001b[0m\u001b[0m\n\u001b[0;32m      5\u001b[0m         \u001b[0mself\u001b[0m\u001b[1;33m.\u001b[0m\u001b[0mc\u001b[0m\u001b[1;33m=\u001b[0m\u001b[0mc\u001b[0m\u001b[1;33m\u001b[0m\u001b[1;33m\u001b[0m\u001b[0m\n",
      "\u001b[1;31mNameError\u001b[0m: name 'a' is not defined"
     ]
    }
   ],
   "source": [
    "\n",
    "class Myclass:\n",
    "    def __init__(self,x,y,z):  # constructor with the parameters. we have to pass arguments to this parameter when we create an object/instance\n",
    "        self.a=a  # creating the instance variable \"a\"\n",
    "        self.b=b  # creating the instance variable \"b\"\n",
    "        self.c=c \n",
    "        print(self.a,self.b,c)\n",
    "\n",
    "m=Myclass(20,30,40)  #craeting the object/instance and passing arguments to the constructor\n",
    "print(m.a,m.b)\n",
    "print(m.c)\n",
    "\n",
    "# instance_name.variable_name\n",
    "        "
   ]
  },
  {
   "cell_type": "code",
   "execution_count": 4,
   "id": "d142e720",
   "metadata": {},
   "outputs": [
    {
     "name": "stdout",
     "output_type": "stream",
     "text": [
      "20 30 40\n",
      "20 30\n"
     ]
    }
   ],
   "source": [
    "class Myclass:\n",
    "    def __init__(self,a,b,c):  # constructor with the parameters. we have to pass arguments to this parameter when we create an object/instance\n",
    "        self.a=a  # creating the instance variable \"a\"\n",
    "        self.b=b  # creating the instance variable \"b\"\n",
    "        print(a,b,c) # were, \"a\" and \"b\" are local variables\n",
    "        print(self.a,self.b)\n",
    "        \n",
    "m=Myclass(20,30,40)  #craeting the object/instance and passing arguments to the constructor\n",
    "\n",
    "       "
   ]
  },
  {
   "cell_type": "code",
   "execution_count": 6,
   "id": "6ed8ea21",
   "metadata": {},
   "outputs": [
    {
     "ename": "IndentationError",
     "evalue": "unindent does not match any outer indentation level (<tokenize>, line 16)",
     "output_type": "error",
     "traceback": [
      "\u001b[1;36m  File \u001b[1;32m\"<tokenize>\"\u001b[1;36m, line \u001b[1;32m16\u001b[0m\n\u001b[1;33m    print(A.x)\u001b[0m\n\u001b[1;37m    ^\u001b[0m\n\u001b[1;31mIndentationError\u001b[0m\u001b[1;31m:\u001b[0m unindent does not match any outer indentation level\n"
     ]
    }
   ],
   "source": [
    "# understanding the difference b/w the static/class and instance variables\n",
    "\n",
    "class A:\n",
    "    x=20 #static/class variable\n",
    "    print(x)\n",
    "    def __init__(self):\n",
    "        self.a=1 #instance variables\n",
    "        self.b=2\n",
    "        print(\"1) \",self.a,self.b)\n",
    "        \n",
    "    def f(self): # instance method\n",
    "         self.c=5\n",
    "         print(self.c)\n",
    "#         print(\"2) \",self.a,self.b)\n",
    "#         print(A.x)  # class_name.var_name\n",
    "        print(A.x)\n",
    "    \n",
    "a=A() #creating instance \n",
    "a.f()\n",
    "print(a.b)\n",
    "a.b=3\n",
    "print(a.b)\n",
    "\n",
    "c=A()\n",
    "d=A()\n",
    "\n",
    "\n"
   ]
  },
  {
   "cell_type": "code",
   "execution_count": null,
   "id": "86db085a",
   "metadata": {},
   "outputs": [],
   "source": [
    "class A: # Creating a class\n",
    "    x=10 # class var\n",
    "    print(\"1) \",x)\n",
    "    def f(): # satic/CLASS method\n",
    "        a=5\n",
    "        print(\"2) \",a,A.x)\n",
    "    f()\n",
    "    \n",
    "    def g(self): # instance method, this can only accessed through the instance/object only\n",
    "        x=20\n",
    "        self.y=30   # instance var\n",
    "        print( \"3) \",x,self.y,A.x)\n",
    "        \n",
    "\n",
    "\n",
    "A()\n",
    "A().g()\n",
    "\n",
    "#A().y\n"
   ]
  },
  {
   "cell_type": "code",
   "execution_count": 1,
   "id": "40896fac",
   "metadata": {},
   "outputs": [
    {
     "name": "stdout",
     "output_type": "stream",
     "text": [
      "1\n",
      "2\n",
      "***********************\n",
      "3\n",
      "4\n"
     ]
    }
   ],
   "source": [
    "class A:\n",
    "    def __init__(abc,x,y):\n",
    "        abc.x=x\n",
    "        abc.y=y\n",
    "        print(x)\n",
    "        print(y)\n",
    "        \n",
    "a=A(1,2) \n",
    "print(\"***********************\")\n",
    "b=A(3,4)\n"
   ]
  },
  {
   "cell_type": "code",
   "execution_count": null,
   "id": "f8c5e552",
   "metadata": {},
   "outputs": [],
   "source": [
    "class A:\n",
    "    def __init__(self,a):\n",
    "    \n",
    "        print (\"hi\")\n",
    "\n",
    "\n",
    "class B(A):\n",
    "    def __init__(self,a):\n",
    "        self.a=a\n",
    "        print(a)\n",
    "B(2)\n",
    "\n",
    "# class C(B):\n",
    "#     pass\n",
    "# B()\n"
   ]
  },
  {
   "cell_type": "code",
   "execution_count": null,
   "id": "bfff62a5",
   "metadata": {},
   "outputs": [],
   "source": [
    "class A:\n",
    "    x=10\n",
    "    def a():\n",
    "        y=20\n",
    "        print(y)\n",
    "    a()\n",
    "    \n",
    "    def f(self,a):\n",
    "        self.a=a\n",
    "        print(a)\n",
    "        print(A.x)\n",
    "\n",
    "A()\n",
    "A().f(1729)\n",
    "print(A.x)"
   ]
  },
  {
   "cell_type": "code",
   "execution_count": null,
   "id": "4e4f8baf",
   "metadata": {},
   "outputs": [],
   "source": [
    "class Person:\n",
    "    def __init__(self):\n",
    "        self.name = \"math\"\n",
    "        self.age = 1729\n",
    "    def f(self):\n",
    "        print(\"hi Mr.\",self.name)\n",
    "        print(\"so, your \",self.age,\",right?\")\n",
    "\n",
    "p1 = Person()\n",
    "p1.f()\n",
    "\n"
   ]
  },
  {
   "cell_type": "code",
   "execution_count": null,
   "id": "3f3c4fc7",
   "metadata": {},
   "outputs": [],
   "source": []
  },
  {
   "cell_type": "code",
   "execution_count": null,
   "id": "baf22d86",
   "metadata": {},
   "outputs": [],
   "source": []
  },
  {
   "cell_type": "code",
   "execution_count": null,
   "id": "368ebb38",
   "metadata": {},
   "outputs": [],
   "source": [
    "#Modifing the value of the asttrible by using the obect\n",
    "\n",
    "class Person:\n",
    "    def __init__(self, name, age):\n",
    "        self.name = name\n",
    "        self.age = age\n",
    "\n",
    "p1 = Person(\"math\", 22)\n",
    "\n",
    "print(p1.name)\n",
    "print(p1.age)\n",
    "p1.name=\"stats\"\n",
    "print(p1.name)"
   ]
  },
  {
   "cell_type": "code",
   "execution_count": null,
   "id": "cd9ad383",
   "metadata": {
    "scrolled": true
   },
   "outputs": [],
   "source": [
    "\"\"\"\n",
    "restricting the changes in the modifications in the instance var\n",
    "\n",
    "\"\"\"\n",
    "\n",
    "class Person:\n",
    "    def __init__(self, __name, age):\n",
    "        self.__nme = __name\n",
    "        self.age = age\n",
    "\n",
    "p1 = Person(\"math\", 1729)\n",
    "print(p1.age)\n",
    "\n",
    "print(p1.__name) # gives error"
   ]
  },
  {
   "cell_type": "code",
   "execution_count": null,
   "id": "f3d1ea37",
   "metadata": {},
   "outputs": [],
   "source": [
    "\"\"\"\n",
    "It does not have to be named self , you can call it whatever you like,\n",
    "but it has to be the first parameter of any function in the class:\n",
    "\n",
    "\"\"\"\n",
    "\n",
    "class Person:\n",
    "  def __init__(py, name, age):\n",
    "    py.name = name\n",
    "    py.age = age\n",
    "\n",
    "p1 = Person(\"math\", 1729)\n",
    "\n",
    "print(p1.name)\n",
    "print(p1.age)\n",
    "p1.name=\"stats\"\n",
    "print(p1.name)"
   ]
  },
  {
   "cell_type": "code",
   "execution_count": null,
   "id": "7617b1a8",
   "metadata": {},
   "outputs": [],
   "source": [
    "\"\"\"\n",
    "understanding the instance variables\n",
    "instance variable:whose seperate copy is created in every object/instance\n",
    "\n",
    "\"\"\"\"\n",
    "\n",
    "class A:\n",
    "    def __init__(self):\n",
    "        self.x=1729 #instance var\n",
    "        \n",
    "    def f(self):\n",
    "        self.x+=1\n",
    "\n",
    "a1=A()\n",
    "a2=A()\n",
    "print(a1.x)\n",
    "print(a2.x)\n",
    "\n",
    "a1.f()\n",
    "print(a1.x)\n",
    "print(a2.x)\n",
    "\n"
   ]
  },
  {
   "cell_type": "code",
   "execution_count": null,
   "id": "683cb708",
   "metadata": {},
   "outputs": [],
   "source": [
    "\n",
    "\"\"\"\n",
    "understanding the class variables\n",
    "class variable:whose single copy is available in every object/instance\n",
    "\n",
    "\"\"\"\n",
    "\n",
    "class A:\n",
    "    x=1729\n",
    "    \n",
    "    #class method \n",
    "    @classmethod   \n",
    "    def f(cls):\n",
    "        cls.x+=1\n",
    "\n",
    "a1=A()\n",
    "a2=A()\n",
    "print(a1.x)\n",
    "print(a2.x)\n",
    "\n",
    "a1.f()\n",
    "print(a1.x)\n",
    "print(a2.x)"
   ]
  },
  {
   "cell_type": "code",
   "execution_count": null,
   "id": "82a5f4f2",
   "metadata": {},
   "outputs": [],
   "source": [
    "# class variables, accessing the out side\n",
    "\n",
    "class A:\n",
    "    x=10\n",
    "    print(x)\n",
    "print(A.x)\n",
    "A.x+=1\n",
    "print(A.x)\n",
    "print(A.x)"
   ]
  },
  {
   "cell_type": "code",
   "execution_count": null,
   "id": "615afb44",
   "metadata": {},
   "outputs": [],
   "source": [
    "# class variables, accessing the out side\n",
    "\n",
    "class A:\n",
    "    x=10\n",
    "    print(x)\n",
    "print(A.x)\n",
    "A.x+=1\n",
    "print(A.x)\n",
    "\n",
    "a1=A()\n",
    "print(a1.x)\n",
    "a1.x+=1\n",
    "print(a1.x)\n",
    "a2=A()\n",
    "print(a2.x)"
   ]
  },
  {
   "cell_type": "markdown",
   "id": "dca938c6",
   "metadata": {},
   "source": [
    "# Abstruction "
   ]
  },
  {
   "cell_type": "code",
   "execution_count": null,
   "id": "d2a33544",
   "metadata": {},
   "outputs": [],
   "source": [
    "class A():\n",
    "    def __init__(self):\n",
    "        self.x=3\n",
    "        print(self.x)        \n",
    "a=A()\n",
    "print(a.__x)\n"
   ]
  },
  {
   "cell_type": "code",
   "execution_count": null,
   "id": "e39f1727",
   "metadata": {
    "scrolled": true
   },
   "outputs": [],
   "source": [
    "#abstruction\n",
    "class A():\n",
    "    def __init__(self):\n",
    "        self.__x=3 #private variable\n",
    "        print(self.__x)        \n",
    "a=A()\n",
    "print(a._A__x)  # name namgling\n"
   ]
  },
  {
   "cell_type": "code",
   "execution_count": null,
   "id": "4ec66e38",
   "metadata": {},
   "outputs": [],
   "source": [
    "class A:\n",
    "    def __init__(self):\n",
    "        self.x=2\n",
    "        self.__y=3\n",
    "    def f(self):\n",
    "        print(self.x)\n",
    "        print(self.__y)\n",
    "        \n",
    "class B(A):\n",
    "    def g(self):\n",
    "        print(self.x)\n",
    "        print(self._A__y)\n",
    "       \n",
    "    \n",
    "a=A()\n",
    "a.f()\n",
    "B().g()\n",
    "print(B()._A__y)\n",
    "#print(a._A__y) # name namgling\n",
    "\n"
   ]
  },
  {
   "cell_type": "code",
   "execution_count": null,
   "id": "798e7da9",
   "metadata": {},
   "outputs": [],
   "source": [
    "\n",
    "\n",
    "class A:\n",
    "    def __init__(self):\n",
    "        self.x=2  #public var\n",
    "        self.__y=3  # private var\n",
    "    def f(self):\n",
    "        print(self.x) \n",
    "        print(self.__y)\n",
    "    \n",
    "    \n",
    "a=A()\n",
    "a.f()\n",
    "print(a.x)\n",
    "#print(a.__y)\n",
    "print(a._A__y) # object_name._class_name__y"
   ]
  },
  {
   "cell_type": "markdown",
   "id": "42efbfd7",
   "metadata": {},
   "source": [
    "An abstract class can be considered as a blueprint for other classes. It allows you to create a set of methods that must be created within any child classes built from the abstract class. A class which contains one or more abstract methods is called an abstract class. An abstract method is a method that has a declaration but does not have an implementation. While we are designing large functional units we use an abstract class. When we want to provide a common interface for different implementations of a component, we use an abstract class. \n",
    "\n",
    "\n",
    "Why use Abstract Base Classes : \n",
    "By defining an abstract base class, you can define a common Application Program Interface(API) for a set of subclasses. This capability is especially useful in situations where a third-party is going to provide implementations, such as with plugins, but can also help you when working in a large team or with a large code-base where keeping all classes in your mind is difficult or not possible. \n",
    "\n",
    "\n",
    "How Abstract Base classes work : \n",
    "By default, Python does not provide abstract classes. Python comes with a module that provides the base for defining Abstract Base classes(ABC) and that module name is ABC. ABC works by decorating methods of the base class as abstract and then registering concrete classes as implementations of the abstract base. A method becomes abstract when decorated with the keyword @abstractmethod."
   ]
  },
  {
   "cell_type": "code",
   "execution_count": null,
   "id": "a36e4806",
   "metadata": {},
   "outputs": [],
   "source": [
    "from abc import ABC,abstractmethod\n",
    "\n",
    "class A(ABC):\n",
    "    \n",
    "    @abstractmethod\n",
    "    def x(self,a,b):\n",
    "        pass\n",
    "    \n",
    "class B1(A):\n",
    "    def x(self,a,b):\n",
    "        print(\"sum is : \",a+b)\n",
    "        \n",
    "\n",
    "class B2(A):\n",
    "    def x(self,a,b):\n",
    "        print(\"difference is : \",a-b)\n",
    "        \n",
    "class B3(A):\n",
    "    def x(self,a,b):\n",
    "        print(\"sum is : \",a*b)\n",
    "        \n",
    "\n",
    "B1().x(1,2)\n",
    "B2().x(1,2)\n",
    "B3().x(1,2)"
   ]
  },
  {
   "cell_type": "code",
   "execution_count": null,
   "id": "4426492f",
   "metadata": {
    "scrolled": true
   },
   "outputs": [],
   "source": [
    "class A:\n",
    "    def f(self):\n",
    "        x=13\n",
    "        print(x)\n",
    "       \n",
    "class B(A):\n",
    "    def f(self):\n",
    "        x=1\n",
    "        print(x)\n",
    "B().f()\n"
   ]
  },
  {
   "cell_type": "code",
   "execution_count": null,
   "id": "71912c28",
   "metadata": {},
   "outputs": [],
   "source": [
    "class A:\n",
    "    def f(self):\n",
    "        x=10\n",
    "        print(x)\n",
    "        \n",
    "    def f(self,x):\n",
    "        self.x=20\n",
    "        print(self.x)\n",
    "        \n",
    "    def f(self,x,y):\n",
    "        self.x=x\n",
    "        self.y=y\n",
    "        print(self.x,self.y)\n",
    "        \n",
    "        \n",
    "A().f(1,2)\n",
    "       \n",
    "       \n",
    "       "
   ]
  },
  {
   "cell_type": "code",
   "execution_count": null,
   "id": "1868c35f",
   "metadata": {},
   "outputs": [],
   "source": []
  },
  {
   "cell_type": "code",
   "execution_count": null,
   "id": "5aee2bc7",
   "metadata": {},
   "outputs": [],
   "source": [
    "from abc import *\n",
    "\n",
    "class Car(ABC):\n",
    "    def __init__(self,rno):\n",
    "        self.rno=rno\n",
    "        \n",
    "    def display(self):\n",
    "        print(\"my car number is : \",self.rno)\n",
    "        \n",
    "    @abstractmethod\n",
    "    def steering(self):\n",
    "        pass \n",
    "    \n",
    "    @abstractmethod\n",
    "    def breaking(self):\n",
    "        pass \n",
    "    \n",
    "class Maruthi(Car):\n",
    "    def steering(self):\n",
    "        print(\"maruthi uses usual steering\")\n",
    "        \n",
    "    def breaking(self):\n",
    "        print(\"maruthi uses hydraulic breacking system\")\n",
    "        \n",
    "m=Maruthi(11)\n",
    "m.display()\n",
    "m.steering()\n",
    "m.breaking()\n",
    "    "
   ]
  },
  {
   "cell_type": "code",
   "execution_count": null,
   "id": "b68e4204",
   "metadata": {},
   "outputs": [],
   "source": [
    "class A:\n",
    "    def __init__(self):\n",
    "        print(\"A class\")\n",
    "        \n",
    "class B(A):\n",
    "    def __init__(self):\n",
    "        super().__init__()\n",
    "\n",
    "B()"
   ]
  },
  {
   "cell_type": "markdown",
   "id": "c725af53",
   "metadata": {},
   "source": [
    "# Types of methods in class(instance,class,static methods)"
   ]
  },
  {
   "cell_type": "code",
   "execution_count": null,
   "id": "919417b4",
   "metadata": {},
   "outputs": [],
   "source": [
    "# instance method\n",
    "\n",
    "\"\"\"\n",
    "instance methods are the methods which acts upon the instance variables\n",
    "\n",
    "\"\"\"\n",
    "\n",
    "class A:\n",
    "    \n",
    "    #this is constructor\n",
    "    def __init__(self,name,marks):\n",
    "        self.name=name\n",
    "        self.marks=marks\n",
    "        \n",
    "    #this is an instance method \n",
    "    def display(self):\n",
    "        print(\"hi \",self.name)\n",
    "        print(\"your marks are \",self.marks)\n",
    "        \n",
    "        \n",
    "num=int(input(\"enter the no of students : \"))\n",
    "while(i<num):\n",
    "    name=input(\"enter the student name : \")\n",
    "    marks=int(input(\"enter the student marks : \"))\n",
    "\n",
    "    #creating instance of the class \n",
    "    a=A(name,marks)\n",
    "    a.display()\n",
    "    i+=1\n",
    "    print(\"************************************************\")\n",
    "\n"
   ]
  },
  {
   "cell_type": "code",
   "execution_count": null,
   "id": "13d28d43",
   "metadata": {
    "scrolled": false
   },
   "outputs": [],
   "source": [
    "#instance methods\n",
    "#accessor and mutator\n",
    "\n",
    "\"\"\"\n",
    "\n",
    "\"\"\"\n",
    "\n",
    "class A:\n",
    "    \n",
    "    #mutator method\n",
    "    def setName(self,name):\n",
    "        self.name=name\n",
    "    \n",
    "    #accessor method\n",
    "    def getName(self):\n",
    "        return self.name\n",
    "    \n",
    "    #mutator method\n",
    "    def setMarks(self,marks):\n",
    "        self.marks=marks\n",
    "        \n",
    "    #accessor method\n",
    "    def getMarks(self):\n",
    "        return self.marks\n",
    "    \n",
    "    \n",
    "n=int(input(\"how many students : \"))\n",
    "i=0\n",
    "while(i<n):\n",
    "    #creating instance\n",
    "    a=A()\n",
    "    name=input(\"Enter name : \")\n",
    "    a.setName(name)\n",
    "    marks=int(input(\"Enter marks : \"))\n",
    "    a.setMarks(marks)\n",
    "    i+=1\n",
    "    \n",
    "    print(\"hi\",a.getName())\n",
    "    print(\"your marks \",a.getMarks())    \n",
    "        "
   ]
  },
  {
   "cell_type": "code",
   "execution_count": null,
   "id": "c1c11c76",
   "metadata": {},
   "outputs": [],
   "source": [
    "#class methods\n",
    "\n",
    "\"\"\"\n",
    "class methods are the methods whose work on the class/static variables\n",
    "they work on class level\n",
    "writen using the \"@classmethod\" decorator\n",
    "first parameter is the \"cls\"\n",
    "calling formate is \"class_name.method()\"\n",
    "\"\"\"\n",
    "class A:\n",
    "    x=10\n",
    "    @classmethod\n",
    "    def f(cls):\n",
    "        print(cls.x)\n",
    "\n",
    "A().f()\n",
    "A.f()\n",
    "    \n",
    "    \n",
    "print(\"********************************\")\n",
    "\n",
    "class A:\n",
    "    x=10\n",
    "    @classmethod\n",
    "    def f(cls,y):\n",
    "        print(y)\n",
    "        print(cls.x)\n",
    "\n",
    "A().f(1) # this argument is taken by \"y\"\n",
    "A.f(1)    "
   ]
  },
  {
   "cell_type": "code",
   "execution_count": null,
   "id": "636f69d0",
   "metadata": {},
   "outputs": [],
   "source": [
    "#static method\n",
    "\n",
    "\"\"\"\n",
    "static methods are used when some processing is related to the class,\n",
    "but,does not need the  class or its instaces to perform any work\n",
    "\n",
    "\"\"\"\n",
    "\n",
    "import math\n",
    "class A:\n",
    "    #creating thr static method\n",
    "    @staticmethod\n",
    "    def f(x):\n",
    "        return math.sqrt(x)\n",
    "    \n",
    "num=int(input('enter the number to find the squareroot :'))\n",
    "print(\"suareroot of {} is {}\".format(num,A.f(num)))\n",
    "\n"
   ]
  },
  {
   "cell_type": "code",
   "execution_count": null,
   "id": "e27db1a0",
   "metadata": {
    "scrolled": true
   },
   "outputs": [],
   "source": [
    "class Emp:\n",
    "    def __init__(self,id,name,salary):\n",
    "        self.id=id\n",
    "        self.name=name\n",
    "        self.salary=salary\n",
    "    def display(self):\n",
    "        print(self.id,self.name,self,salary)\n",
    "class Myclass:\n",
    "    @staticmethod\n",
    "    def getvalues(e):\n",
    "        e.salary+=1000\n",
    "        e.display()\n",
    "        \n",
    "e=Emp(11,\"Jk\",1000)\n",
    "Myclass.getvalues(e)"
   ]
  },
  {
   "cell_type": "markdown",
   "id": "279ad443",
   "metadata": {},
   "source": [
    "# inner class and outter class"
   ]
  },
  {
   "cell_type": "code",
   "execution_count": null,
   "id": "a01659ee",
   "metadata": {},
   "outputs": [],
   "source": [
    "#inner class \n",
    "\n",
    "class Outterclass:\n",
    "    def __init__(self,Id,name):\n",
    "        self.Id=Id\n",
    "        self.name=name\n",
    "        self.ic=self.Innerclass()\n",
    "    def display(self):\n",
    "        print(self.Id,self.name)\n",
    "        \n",
    "    class Innerclass:\n",
    "        def __init__(self):\n",
    "            self.dd=22\n",
    "            self.mm=12\n",
    "            self.yyyy=2000\n",
    "        def display(self):\n",
    "            print(\"my dob is : {}/{}/{} \".format(self.dd,self.mm,self.yyyy))\n",
    "            \n",
    "o=Outterclass(11,\"shailaja\")\n",
    "o.display()\n",
    "\n",
    "i=o.ic\n",
    "i.display()"
   ]
  },
  {
   "cell_type": "code",
   "execution_count": null,
   "id": "cf06bd16",
   "metadata": {},
   "outputs": [],
   "source": [
    "#inner class\n",
    "\n",
    "class A:\n",
    "    def display(self):\n",
    "        print(\"this is outter class\")\n",
    "    \n",
    "    class B:\n",
    "        def display(self):\n",
    "            print(\"this is inner class\")\n",
    "            \n",
    "a=A()\n",
    "a.display()\n",
    "#A().B().display()\n",
    "\n",
    "b=A().B() #creating the B class obeject as a sub object to the A class\n",
    "b.display()\n",
    "A().B().display()\n",
    "        "
   ]
  },
  {
   "cell_type": "markdown",
   "id": "9c969172",
   "metadata": {},
   "source": [
    "# inheritance"
   ]
  },
  {
   "cell_type": "markdown",
   "id": "b373fc1f",
   "metadata": {},
   "source": [
    "Definition: "
   ]
  },
  {
   "cell_type": "code",
   "execution_count": null,
   "id": "91c9ccd1",
   "metadata": {},
   "outputs": [],
   "source": [
    "class A:  # base class & super class\n",
    "    def __init__(self):\n",
    "        self.name='python'\n",
    "class B(A):\n",
    "    \n",
    "    def __init__(self):\n",
    "        self.age=100\n",
    "        super().__init__()  # calling the base class constructor\n",
    "        \n",
    "\n",
    "    def display(self):\n",
    "        print(\"My name is \",self.name,\"and My age is \",self.age)\n",
    "        print(\"My name is {} andf My age is {}\".format(self.name,self.age))\n",
    "b=B()\n",
    "b.display()\n",
    "    "
   ]
  },
  {
   "cell_type": "markdown",
   "id": "cbdfd50d",
   "metadata": {},
   "source": [
    "# Single inheritance"
   ]
  },
  {
   "cell_type": "code",
   "execution_count": null,
   "id": "bd8a63e6",
   "metadata": {},
   "outputs": [],
   "source": [
    "\n",
    "class A:\n",
    "    def f(self):\n",
    "        self.x=10\n",
    "        \n",
    "class B(A):\n",
    "    def g(self):\n",
    "        self.y=20\n",
    "        \n",
    "    def display(self):\n",
    "        print(self.x,self.y)\n",
    "        \n",
    "b=B()\n",
    "b.f()\n",
    "b.g()\n",
    "b.display()        "
   ]
  },
  {
   "cell_type": "markdown",
   "id": "66cdf892",
   "metadata": {},
   "source": [
    "# multi Level Inheritance\n",
    "\n",
    "One base class and multiple derived classes"
   ]
  },
  {
   "cell_type": "code",
   "execution_count": null,
   "id": "8808449e",
   "metadata": {},
   "outputs": [],
   "source": [
    "class A:\n",
    "    .......\n",
    "    \n",
    "class B(A):\n",
    "    ........\n",
    "    \n",
    "class C(A):\n",
    "    ........\n",
    "    \n",
    "class D(A):\n",
    "    ......\n",
    "    \n",
    "    .\n",
    "    .\n",
    "    .\n",
    "    .\n",
    "    \n",
    "Class Z(A):\n",
    "    ......."
   ]
  },
  {
   "cell_type": "code",
   "execution_count": null,
   "id": "d26472ba",
   "metadata": {},
   "outputs": [],
   "source": [
    "class  A:\n",
    "    def "
   ]
  },
  {
   "cell_type": "code",
   "execution_count": null,
   "id": "8987c386",
   "metadata": {
    "scrolled": true
   },
   "outputs": [],
   "source": [
    "class A: # base class & super class\n",
    "    x=10\n",
    "    y=20\n",
    "    \n",
    "class B(A): # child & derived class & sub class\n",
    "    print(x+y)"
   ]
  },
  {
   "cell_type": "code",
   "execution_count": null,
   "id": "d7982de8",
   "metadata": {},
   "outputs": [],
   "source": [
    "class Person:\n",
    "  def __init__(self, fname, lname):\n",
    "    self.firstname = fname\n",
    "    self.lastname = lname\n",
    "\n",
    "  def printname(self):\n",
    "    print(self.firstname, self.lastname)\n",
    "\n",
    "#Use the Person class to create an object, and then execute the printname method:\n",
    "\n",
    "# x = Person(\"Mr\", \"X\")\n",
    "# x.printname()\n",
    "\n",
    "class Student(Person):\n",
    "  pass\n",
    "y = Student(\"Mr\", \"Y\")\n",
    "y.printname()\n"
   ]
  },
  {
   "cell_type": "code",
   "execution_count": null,
   "id": "acae9085",
   "metadata": {},
   "outputs": [],
   "source": [
    "class A:\n",
    "    def __init__(self,x):\n",
    "        self.x=x\n",
    "        \n",
    "    def f(self):\n",
    "        print(self.x) \n",
    "        \n",
    "    def g():\n",
    "        print(\"I am g method\")\n",
    "    g()\n",
    "        \n",
    "        \n",
    "a=A(23)\n",
    "a.f()\n"
   ]
  },
  {
   "cell_type": "code",
   "execution_count": null,
   "id": "2cd9666b",
   "metadata": {},
   "outputs": [],
   "source": [
    "class A:\n",
    "    def __init__(self):\n",
    "        print(\"hi\")\n",
    "A()"
   ]
  },
  {
   "cell_type": "code",
   "execution_count": null,
   "id": "400bcc0e",
   "metadata": {},
   "outputs": [],
   "source": [
    "class A:\n",
    "    def __init__(self):\n",
    "        self.Id=11\n",
    "        self.name='miss'\n",
    "        self.Marks=11\n",
    "    def getDetails(self):\n",
    "        print(\"hi {} , your Id is {}, and you got {} in this exam\".format(self.Name,self.Id,self.Marks))\n",
    "        \n",
    "class B(A):\n",
    "#     def __init__(self):\n",
    "#         super().__init__()\n",
    "#         self.age=21\n",
    "    pass\n",
    "        \n",
    "\n",
    "B().getDetails()\n",
    "\n",
    "\"\"\"\n",
    "getting error...., WHY?????????????????\n",
    "\n",
    "\"\"\""
   ]
  },
  {
   "cell_type": "code",
   "execution_count": null,
   "id": "aa7a93e9",
   "metadata": {},
   "outputs": [],
   "source": [
    "\"\"\"\n",
    "CASE(1): If a sub_class does not have the constructor, then when we create a object to the sub_class,\n",
    "then the super_class constructor automatically invocked.\n",
    "\n",
    "CASE(2): but, if you have constructor in the sub_class , then when we ctreate object to the sub_class,\n",
    "then it invock the sub_class constructor only but not super class.\n",
    "\n",
    "CASE(3): In this case to access the super_class constructor when we have sub_class constructor too, we \n",
    "have to use \"super()\" method.\n",
    "\n",
    "\"\"\"\n",
    "\n",
    "print(\"CASE(1)\")\n",
    "\n",
    "class A:\n",
    "    def __init__(self):\n",
    "        print(\"hi\")\n",
    "    \n",
    "class B(A):\n",
    "    pass\n",
    "B()\n",
    "\n",
    "print(\"*************************************\")\n",
    "\n",
    "print(\"CASE(2)\")\n",
    "class A:\n",
    "    def __init__(self):\n",
    "        print(\"hi\")\n",
    "    \n",
    "class B(A):\n",
    "    def __init__(self):\n",
    "        print(\"hello\")\n",
    "        \n",
    "B()\n",
    "\n",
    "print(\"*************************************\")\n",
    "\n",
    "print(\"CASE(3)\")\n",
    "class A:\n",
    "    def __init__(self):\n",
    "        print(\"hi\")\n",
    "    \n",
    "class B(A):\n",
    "    def __init__(self):\n",
    "        super().__init__()\n",
    "        print(\"hello\")\n",
    "        \n",
    "B()"
   ]
  },
  {
   "cell_type": "code",
   "execution_count": null,
   "id": "9930e412",
   "metadata": {},
   "outputs": [],
   "source": [
    "#the super method\n",
    "\n",
    "class A:\n",
    "    def __init__(self,a):\n",
    "        self.a=a\n",
    "class B(A):\n",
    "    def __init__(self,a,b): # \"b\" is sub_class constructor parameter,\"a\" is super_class constructor parameter\n",
    "        super().__init__(a) #calling super class constructor\n",
    "        self.b=b #initializing the sub_class constructor parameter\n",
    "        \n",
    "    def f(self):\n",
    "        print(self.a,self.b)\n",
    "        \n",
    "b=B(1,2)\n",
    "b.f()"
   ]
  },
  {
   "cell_type": "code",
   "execution_count": null,
   "id": "5847c9ac",
   "metadata": {},
   "outputs": [],
   "source": [
    "class A:\n",
    "    def __init__(self):\n",
    "        print(\"A class\")\n",
    "        super().__init__()\n",
    "\n",
    "class B:\n",
    "    def __init__(self):\n",
    "        print(\"B class\")\n",
    "    \n",
    "class C(A,B):\n",
    "    def __init__(self):\n",
    "        super().__init__()\n",
    "        print(\"C class\")\n",
    "        \n",
    "C()"
   ]
  },
  {
   "cell_type": "code",
   "execution_count": null,
   "id": "33670f6e",
   "metadata": {},
   "outputs": [],
   "source": [
    "class A:\n",
    "    def __init__(self):\n",
    "        print(\"A class\")\n",
    "        super().__init__()\n",
    "\n",
    "class B:\n",
    "    def __init__(self):\n",
    "        super().__init__()\n",
    "        print(\"B class\")\n",
    "        \n",
    "    \n",
    "class C(A,B):\n",
    "    def __init__(self):\n",
    "        super().__init__()\n",
    "        print(\"C class\")\n",
    "        \n",
    "C()"
   ]
  },
  {
   "cell_type": "code",
   "execution_count": null,
   "id": "cd43eb62",
   "metadata": {},
   "outputs": [],
   "source": [
    "class car():\n",
    "    def wheel(self):\n",
    "        self.run()\n",
    "    def run(self):\n",
    "        print(\"done\")\n",
    "        pass\n",
    "    def milege(self):\n",
    "        return str(120/0)\n",
    "c = car()\n",
    "c.wheel()"
   ]
  },
  {
   "cell_type": "code",
   "execution_count": null,
   "id": "b0a68b72",
   "metadata": {},
   "outputs": [],
   "source": [
    "class A:\n",
    "    def __init__(self):\n",
    "        print(\"A class \")\n",
    "        super().__init__()\n",
    "        \n",
    "class B:\n",
    "    def __init__(self):\n",
    "        print(\"B class \")\n",
    "        super().__init__()\n",
    "    \n",
    "        \n",
    "class C:\n",
    "    def __init__(self):\n",
    "        print(\"C class \")\n",
    "\n",
    "        \n",
    "class D(A,B,C):\n",
    "    def __init__(self):\n",
    "        print(\"D class \")\n",
    "        super().__init__()\n",
    "        \n",
    "        \n",
    "        \n",
    "D()"
   ]
  },
  {
   "cell_type": "code",
   "execution_count": null,
   "id": "1ef1f494",
   "metadata": {},
   "outputs": [],
   "source": [
    "class A:\n",
    "    def __init__(self):\n",
    "        print(\"hi\")\n",
    "class B(A):\n",
    "    print(\"hello\")\n",
    "\n",
    "b=B()\n"
   ]
  },
  {
   "cell_type": "code",
   "execution_count": null,
   "id": "8f0ab32c",
   "metadata": {},
   "outputs": [],
   "source": [
    "class A:\n",
    "    def __init__(self):\n",
    "        print(\"A class\")\n",
    "\n",
    "\n",
    "class B(A):\n",
    "    def __init__(self):\n",
    "        print(\"B class\")\n",
    "        \n",
    "    \n",
    "class C(B):\n",
    "#     def __init__(self):\n",
    "#         print(\"C class\")\n",
    "            pass\n",
    "        \n",
    "C()\n",
    "B()"
   ]
  },
  {
   "cell_type": "code",
   "execution_count": null,
   "id": "420165c1",
   "metadata": {},
   "outputs": [],
   "source": [
    "class A:\n",
    "    def f():\n",
    "        x=10\n",
    "        print(x)\n",
    "        \n",
    "class B(A):\n",
    "    f()"
   ]
  },
  {
   "cell_type": "code",
   "execution_count": null,
   "id": "98f45208",
   "metadata": {},
   "outputs": [],
   "source": [
    "class Car:   \n",
    "    def __init__(self):    \n",
    "        self.x=10                \n",
    "        print(\"Car object\")       \n",
    "        \n",
    "class BMW(Car):                  \n",
    "    def __init__(self):\n",
    "        self.x=20\n",
    "        print(\"BMW object\")\n",
    "        \n",
    "class BMW_3_series(BMW):      \n",
    "    pass\n",
    "\n",
    "class BMW_7_series(BMW):        \n",
    "    def __init__(self):\n",
    "        self.x=30\n",
    "        super().__init__()      \n",
    "        print(\"BMW_7_series object\")\n",
    "        \n",
    "class Benz(Car):\n",
    "    def __init__(self):\n",
    "        print(\"Benz objec\")\n",
    "        self.x=40\n",
    "        super().__init__()\n",
    "        \n",
    "class Test(Benz,BMW_7_series,BMW_3_series):\n",
    "    def __init__(self):\n",
    "        self.x=50\n",
    "        super().__init__()\n",
    "        print(\"Test objec\")\n",
    "        \n",
    "        \n",
    "t=Test()\n",
    "print(t.x)\n"
   ]
  },
  {
   "cell_type": "markdown",
   "id": "68ce6512",
   "metadata": {},
   "source": [
    "# Polymorphism\n",
    "\n",
    "we have two types of concepts in polymorphism : \n",
    "1) Method overloading ( does not supported by the python).\n",
    "2) Method overriding  ( does not supported by the python) "
   ]
  },
  {
   "cell_type": "markdown",
   "id": "3eb9766e",
   "metadata": {},
   "source": [
    "\"\"\"\n",
    "Method Overriding : -\n",
    "\n",
    "Method overriding is a concept of object oriented programming that allows us to change the implementation of a function in the child class that is defined in the parent class. It is the ability of a child class to change the implementation of any method which is already provided by one of its parent class\n",
    "\n",
    "\"\"\""
   ]
  },
  {
   "cell_type": "code",
   "execution_count": null,
   "id": "d210887b",
   "metadata": {},
   "outputs": [],
   "source": [
    "# program to understand Method overriding\n",
    "\n",
    "class Parent:\n",
    "    def display(self): # overrided\n",
    "        print(\" I am in parent class....\")\n",
    "        \n",
    "class Child:\n",
    "    def display(self):  #overriding\n",
    "        print(\" I am in child class....\")\n",
    "        \n",
    "Child().display()"
   ]
  },
  {
   "cell_type": "code",
   "execution_count": null,
   "id": "2495ff46",
   "metadata": {},
   "outputs": [],
   "source": []
  },
  {
   "cell_type": "markdown",
   "id": "8583aac2",
   "metadata": {},
   "source": [
    "# Class"
   ]
  },
  {
   "cell_type": "code",
   "execution_count": null,
   "id": "8e02777a",
   "metadata": {},
   "outputs": [],
   "source": []
  },
  {
   "cell_type": "code",
   "execution_count": null,
   "id": "d2ddbed0",
   "metadata": {},
   "outputs": [],
   "source": [
    "class Myclass:             # defining the class\n",
    "    x=20                   # class/static variable\n",
    "    print(\"1) \",x)\n",
    "    def f():               # defining the metho(class/static method)\n",
    "        x=30               # local variable\n",
    "        print(\"2) \",x)\n",
    "        print(\"3) \",Myclass.x)  # accessing the class variable inside the method\n",
    "    print(\"4) \",x)\n",
    "    f()                    # function  calling\n",
    "    \n",
    "    \n",
    "    def g(self):         # instance method\n",
    "        self.x=40        # instance variable\n",
    "        print(\"5) \",self.x)\n",
    "    \n",
    "    \n",
    "Myclass() # creating an object or instance(instatation)\n",
    "m=Myclass()\n",
    "m.g()\n",
    "m.x=41\n",
    "print(\"6) \",m.x)\n",
    "\n",
    "m1=Myclass()\n",
    "m2=Myclass()\n",
    "m3=Myclass()\n",
    "\n"
   ]
  },
  {
   "cell_type": "code",
   "execution_count": null,
   "id": "ea9dccf8",
   "metadata": {
    "scrolled": true
   },
   "outputs": [],
   "source": [
    "     print(\"hi\")"
   ]
  },
  {
   "cell_type": "code",
   "execution_count": null,
   "id": "32345b95",
   "metadata": {},
   "outputs": [],
   "source": []
  },
  {
   "cell_type": "code",
   "execution_count": null,
   "id": "f9f00d43",
   "metadata": {},
   "outputs": [],
   "source": [
    "# constructor\n",
    "\n",
    "class A:\n",
    "\n",
    "    def __init__(self,name,age):   # constructor(used to construct the objects OR to initialize the variables)\n",
    "        self.name=name  \n",
    "        self.age=age\n",
    "        print(\"I had initialized my variables\")\n",
    "        \n",
    "    def f(self,x): \n",
    "        self.x=x\n",
    "        print(self.x)\n",
    "        print(self.name,\"is \",self.age,\" years old.\")\n",
    "        \n",
    "    def g(self):\n",
    "        print(\"hi\",self.name)\n",
    "        \n",
    "        \n",
    "a=A(\"Mr.X\",21)\n",
    "a.g()\n",
    "a.f(23)\n",
    "\n",
    "\n"
   ]
  },
  {
   "cell_type": "code",
   "execution_count": 2,
   "id": "17b69b2c",
   "metadata": {},
   "outputs": [
    {
     "name": "stdout",
     "output_type": "stream",
     "text": [
      "1 2\n"
     ]
    }
   ],
   "source": [
    "class A:\n",
    "    def __init__(self):\n",
    "        self.x=1\n",
    "        self.y=2\n",
    "        \n",
    "    def f(self):\n",
    "        print(self.x,self.y)\n",
    "        \n",
    "    \n",
    "a=A()\n",
    "a.f()"
   ]
  },
  {
   "cell_type": "code",
   "execution_count": 3,
   "id": "0810a3d4",
   "metadata": {},
   "outputs": [
    {
     "ename": "NameError",
     "evalue": "name 'self' is not defined",
     "output_type": "error",
     "traceback": [
      "\u001b[1;31m---------------------------------------------------------------------------\u001b[0m",
      "\u001b[1;31mNameError\u001b[0m                                 Traceback (most recent call last)",
      "\u001b[1;32mC:\\Users\\SHAILA~1\\AppData\\Local\\Temp/ipykernel_2324/344637676.py\u001b[0m in \u001b[0;36m<module>\u001b[1;34m\u001b[0m\n\u001b[0;32m     11\u001b[0m \u001b[1;33m\u001b[0m\u001b[0m\n\u001b[0;32m     12\u001b[0m \u001b[1;33m\u001b[0m\u001b[0m\n\u001b[1;32m---> 13\u001b[1;33m \u001b[1;32mclass\u001b[0m \u001b[0mB\u001b[0m\u001b[1;33m(\u001b[0m\u001b[0mA\u001b[0m\u001b[1;33m)\u001b[0m\u001b[1;33m:\u001b[0m\u001b[1;33m\u001b[0m\u001b[1;33m\u001b[0m\u001b[0m\n\u001b[0m\u001b[0;32m     14\u001b[0m     \u001b[0mprint\u001b[0m\u001b[1;33m(\u001b[0m\u001b[0mself\u001b[0m\u001b[1;33m.\u001b[0m\u001b[0mname\u001b[0m\u001b[1;33m)\u001b[0m\u001b[1;33m\u001b[0m\u001b[1;33m\u001b[0m\u001b[0m\n\u001b[0;32m     15\u001b[0m \u001b[1;33m\u001b[0m\u001b[0m\n",
      "\u001b[1;32mC:\\Users\\SHAILA~1\\AppData\\Local\\Temp/ipykernel_2324/344637676.py\u001b[0m in \u001b[0;36mB\u001b[1;34m()\u001b[0m\n\u001b[0;32m     12\u001b[0m \u001b[1;33m\u001b[0m\u001b[0m\n\u001b[0;32m     13\u001b[0m \u001b[1;32mclass\u001b[0m \u001b[0mB\u001b[0m\u001b[1;33m(\u001b[0m\u001b[0mA\u001b[0m\u001b[1;33m)\u001b[0m\u001b[1;33m:\u001b[0m\u001b[1;33m\u001b[0m\u001b[1;33m\u001b[0m\u001b[0m\n\u001b[1;32m---> 14\u001b[1;33m     \u001b[0mprint\u001b[0m\u001b[1;33m(\u001b[0m\u001b[0mself\u001b[0m\u001b[1;33m.\u001b[0m\u001b[0mname\u001b[0m\u001b[1;33m)\u001b[0m\u001b[1;33m\u001b[0m\u001b[1;33m\u001b[0m\u001b[0m\n\u001b[0m\u001b[0;32m     15\u001b[0m \u001b[1;33m\u001b[0m\u001b[0m\n\u001b[0;32m     16\u001b[0m \u001b[0mB\u001b[0m\u001b[1;33m(\u001b[0m\u001b[1;33m)\u001b[0m\u001b[1;33m\u001b[0m\u001b[1;33m\u001b[0m\u001b[0m\n",
      "\u001b[1;31mNameError\u001b[0m: name 'self' is not defined"
     ]
    }
   ],
   "source": [
    "\"\"\"\n",
    "Inheritance: acquiring the propertice of the one class to another class\n",
    "\n",
    "\"\"\"\n",
    "\n",
    "class A:\n",
    "     def __init__(self):   # constructor(used to construct the objects OR to initialize the variables)\n",
    "        self.name=\"Mr.X\"  \n",
    "        self.age=21\n",
    "        print(\"I had initialized my variables\")\n",
    "        \n",
    "    \n",
    "class B(A):\n",
    "    print(self.name)\n",
    "    \n",
    "B()\n",
    "    \n",
    "\n",
    "    \n",
    "    "
   ]
  },
  {
   "cell_type": "code",
   "execution_count": null,
   "id": "ab058b13",
   "metadata": {
    "scrolled": false
   },
   "outputs": [],
   "source": [
    "x=10\n",
    "print(\"x\")\n",
    "print(x)"
   ]
  },
  {
   "cell_type": "code",
   "execution_count": null,
   "id": "ef3a8e50",
   "metadata": {},
   "outputs": [],
   "source": [
    "class A:    # parent/super/base class\n",
    "    def __init__(self):\n",
    "        print(\"A class\")\n",
    "        \n",
    "class B(A):  # child/sub/derived class\n",
    "    def __init__(self):\n",
    "        print(\"B class\")\n",
    "        super().__init__()\n",
    "\n",
    "B()"
   ]
  },
  {
   "cell_type": "code",
   "execution_count": null,
   "id": "3ecfee21",
   "metadata": {},
   "outputs": [],
   "source": [
    "class A:\n",
    "    def __init__(self):\n",
    "        print(\"hi\")\n",
    "        \n",
    "A(A(A()))"
   ]
  },
  {
   "cell_type": "code",
   "execution_count": null,
   "id": "dbaba6ee",
   "metadata": {},
   "outputs": [],
   "source": [
    "class A:\n",
    "    def __init__(self,a):\n",
    "        print(\"hi\")\n",
    "        \n",
    "A(A(A(1)))"
   ]
  },
  {
   "cell_type": "code",
   "execution_count": null,
   "id": "85d10748",
   "metadata": {},
   "outputs": [],
   "source": [
    "class A:\n",
    "    def __init__(self,a):\n",
    "        print(a)\n",
    "A(A(A(12)))"
   ]
  },
  {
   "cell_type": "code",
   "execution_count": null,
   "id": "9d30ea48",
   "metadata": {},
   "outputs": [],
   "source": [
    "class A:\n",
    "    def __init__(self,a):\n",
    "        print(a)\n",
    "        print(\"hhi\")\n",
    "A(A(A(12)))"
   ]
  },
  {
   "cell_type": "code",
   "execution_count": null,
   "id": "f5464752",
   "metadata": {},
   "outputs": [],
   "source": [
    "class A:\n",
    "    def __init__(self,a):\n",
    "        print(a)\n",
    "        \n",
    "    def __str__(self):\n",
    "        return \"hi\"\n",
    "    \n",
    "A(A(A(12)))"
   ]
  },
  {
   "cell_type": "code",
   "execution_count": null,
   "id": "139ec637",
   "metadata": {},
   "outputs": [],
   "source": [
    "class A:\n",
    "    def __init__(self,a):\n",
    "        print(a)\n",
    "        \n",
    "    def __str__(self):\n",
    "        return \"hi\"\n",
    "    \n",
    "print(A(A(A(12))))"
   ]
  },
  {
   "cell_type": "code",
   "execution_count": null,
   "id": "5f0a91c7",
   "metadata": {},
   "outputs": [],
   "source": [
    "class A:\n",
    "    def __init__(self):\n",
    "        print(\"hi\")\n",
    "        \n",
    "    def __str__(self):\n",
    "        return \"hello\"\n",
    "        \n",
    "print(A())"
   ]
  },
  {
   "cell_type": "code",
   "execution_count": null,
   "id": "b70e3058",
   "metadata": {},
   "outputs": [],
   "source": []
  },
  {
   "cell_type": "code",
   "execution_count": null,
   "id": "5f99f0e7",
   "metadata": {},
   "outputs": [],
   "source": [
    "class A:\n",
    "    def __init__(self):\n",
    "        self.f()\n",
    "        \n",
    "    def f(self):\n",
    "        print(\"hello\")\n",
    "\n",
    "        \n",
    "A()"
   ]
  },
  {
   "cell_type": "code",
   "execution_count": null,
   "id": "ac890f01",
   "metadata": {},
   "outputs": [],
   "source": [
    "class A:\n",
    "    def f(self):\n",
    "        self.g()\n",
    "        self.h()\n",
    "        \n",
    "    def g(self):\n",
    "        print(\"I am g() method\")\n",
    "        \n",
    "    def h(self):\n",
    "        print(\"I am h() method\")\n",
    "        \n",
    "class B(A):\n",
    "    A().f()"
   ]
  },
  {
   "cell_type": "code",
   "execution_count": null,
   "id": "774ca1ec",
   "metadata": {},
   "outputs": [],
   "source": [
    "class A:\n",
    "    def __init__(self):\n",
    "        print(\"@\".join(\"Data\"))\n",
    "        \n",
    "A()"
   ]
  },
  {
   "cell_type": "code",
   "execution_count": null,
   "id": "6fd2c008",
   "metadata": {},
   "outputs": [],
   "source": [
    "class A:\n",
    "    print(\"I am in classs\") #1\n",
    "    def __init__(self):\n",
    "        print(\"constructor\") #4\n",
    "        f()\n",
    "        \n",
    "    def f():\n",
    "        print(\"class method\") #2\n",
    "        \n",
    "    def f(self):\n",
    "        print(\"instance\")\n",
    "    print(\"I am at the ending\") #3\n",
    "        \n",
    "A().f()"
   ]
  },
  {
   "cell_type": "code",
   "execution_count": null,
   "id": "f977393b",
   "metadata": {},
   "outputs": [],
   "source": []
  },
  {
   "cell_type": "code",
   "execution_count": null,
   "id": "caf58f98",
   "metadata": {},
   "outputs": [],
   "source": []
  }
 ],
 "metadata": {
  "kernelspec": {
   "display_name": "Python 3 (ipykernel)",
   "language": "python",
   "name": "python3"
  },
  "language_info": {
   "codemirror_mode": {
    "name": "ipython",
    "version": 3
   },
   "file_extension": ".py",
   "mimetype": "text/x-python",
   "name": "python",
   "nbconvert_exporter": "python",
   "pygments_lexer": "ipython3",
   "version": "3.9.13"
  }
 },
 "nbformat": 4,
 "nbformat_minor": 5
}
