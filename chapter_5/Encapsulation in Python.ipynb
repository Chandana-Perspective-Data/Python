{
 "cells": [
  {
   "cell_type": "markdown",
   "id": "94c542c2",
   "metadata": {},
   "source": [
    "# Encapsulation in Python"
   ]
  },
  {
   "cell_type": "markdown",
   "id": "8a99d5dc",
   "metadata": {},
   "source": [
    "Encapsulation is a mechanism where the data (variables) and the code (methods) that act on the data will bind together. For example, if we take a class, we write the variables and methods inside the class. Thus, class is binding them together. So class is an example for encapsulation.\n",
    "\n",
    "The variables and methods of a class are called 'members' of the class. All the members of a class are by default available outside the class. That means they are public by default. Public means available to other programs and classes. Python follows Uniform Access that says that in OOPS, all the members of the class whether they are variables or methods should be accessible in a uniform manner. So, Python variables and methods are available outside alike. That means both are public by default. Usually, in C++ and Java languages, the variables are kept private, that means they are not available outside the class and the methods are kept public meaning that they are available to other programs. But in Python, both the variables and methods are public by default.\n",
    "\n",
    "Encapsulation isolates the members of a class from the members of another class. The reason is when objects are created, each object shares different memory and hence there will not be any overwriting of data. This gives an advantage to the programmer to use same names for the members of two different classes. For example, a programmer can declare and use the variables like id', 'name', and 'address' in different classes like Employee, Customer, or Student classes."
   ]
  },
  {
   "cell_type": "code",
   "execution_count": null,
   "id": "cfa5be18",
   "metadata": {},
   "outputs": [],
   "source": [
    "# type\n",
    "public  Methods = Accessible from anywhere\n",
    "private Methods = Accessible only in their own class .starts with two underscores.\n",
    "public  Variable = Accessible from anywhere\n",
    "private  Variable = Accessible only in their own class or by a method if\n",
    "                    defined. starts with two underscores."
   ]
  },
  {
   "cell_type": "code",
   "execution_count": 1,
   "id": "a2022d56",
   "metadata": {},
   "outputs": [
    {
     "name": "stdout",
     "output_type": "stream",
     "text": [
      "30\n"
     ]
    }
   ],
   "source": [
    "# public  Methods\n",
    "class Calculator:\n",
    "    def add(self, x, y): \n",
    "        return x + y\n",
    "\n",
    "calc = Calculator()\n",
    "result = calc.add(10, 20)\n",
    "print(result) # Output: 30"
   ]
  },
  {
   "cell_type": "code",
   "execution_count": 1,
   "id": "a6bf5b97",
   "metadata": {},
   "outputs": [
    {
     "data": {
      "text/plain": [
       "30"
      ]
     },
     "execution_count": 1,
     "metadata": {},
     "output_type": "execute_result"
    }
   ],
   "source": [
    "class Calculator:\n",
    "    def add(self, x, y): \n",
    "        return x + y\n",
    "\n",
    "calc = Calculator()\n",
    "calc.add(10, 20)\n"
   ]
  },
  {
   "cell_type": "code",
   "execution_count": 27,
   "id": "226b9126",
   "metadata": {},
   "outputs": [
    {
     "name": "stdout",
     "output_type": "stream",
     "text": [
      "The Toyota Camry is now driving.\n"
     ]
    }
   ],
   "source": [
    "class Car:\n",
    "    def __init__(self, make, model):\n",
    "        self.make = make\n",
    "        self.model = model\n",
    "        \n",
    "    def drive(self):\n",
    "        print(\"The {self.make} {self.model} is now driving.\")\n",
    "\n",
    "my_car = Car(\"Toyota\", \"Camry\")\n",
    "my_car.drive() # Output: \"The Toyota Camry is now driving.\""
   ]
  },
  {
   "cell_type": "markdown",
   "id": "b24cb5c6",
   "metadata": {},
   "source": [
    "In Python, methods that are defined in a class with a single leading underscore (_) are considered as \"private\" methods. These methods are intended to be used only within their own class, and should not be accessed or called from outside the class.\n",
    "\n",
    "Here is an example of a class called Calculator that has a private method _multiply:"
   ]
  },
  {
   "cell_type": "code",
   "execution_count": 2,
   "id": "b3e7727d",
   "metadata": {},
   "outputs": [
    {
     "name": "stdout",
     "output_type": "stream",
     "text": [
      "200\n"
     ]
    }
   ],
   "source": [
    "# pubic variable,method\n",
    "class Calculator:\n",
    "    def __init__(self, x, y):\n",
    "        self.x = x\n",
    "        self.y = y\n",
    "\n",
    "    def multiply(self):\n",
    "        return self.x * self.y\n",
    "    \n",
    "    def get_result(self):\n",
    "        return self.multiply()\n",
    "\n",
    "calc = Calculator(10, 20)\n",
    "print(calc.get_result()) # Output: 200\n"
   ]
  },
  {
   "cell_type": "code",
   "execution_count": null,
   "id": "c485c957",
   "metadata": {},
   "outputs": [],
   "source": [
    "class Calculator:\n",
    "    def __init__(self, x, y):\n",
    "        self.x = x\n",
    "        self.y = y\n",
    "\n",
    "    def multiply(self):\n",
    "        return self.x * self.y\n",
    "    \n",
    "    def get_result(self):\n",
    "        return self.multiply()\n",
    "\n",
    "calc = Calculator(10, 20)\n",
    "print(calc.get_result()) # Output: 200"
   ]
  },
  {
   "cell_type": "markdown",
   "id": "1ad4352e",
   "metadata": {},
   "source": [
    "In this example, the Calculator class has a private method _multiply which is a method intended to be used only within its own class, it's not accessible from outside the class. It takes no arguments and returns the product of x and y. The get_result method calls the _multiply method and returns the result, which is then printed."
   ]
  },
  {
   "cell_type": "code",
   "execution_count": 5,
   "id": "7476a6ce",
   "metadata": {},
   "outputs": [
    {
     "name": "stdout",
     "output_type": "stream",
     "text": [
      "Hi, my name is {self.name}\n",
      "\n",
      "Hi, my name is {self.name}\n"
     ]
    }
   ],
   "source": [
    "# public  Variable\n",
    "class Person:\n",
    "    def __init__(self, name):\n",
    "        self.name = name\n",
    "\n",
    "    def introduce(self):\n",
    "        print(\"Hi, my name is {self.name}\")\n",
    "\n",
    "p1 = Person(\"\")\n",
    "p1.introduce() # Output: Hi, my name is a\n",
    "print(p1.name) # Output: a\n",
    "p1.name = \"\"\n",
    "p1.introduce() # Output: Hi, my name is b\n"
   ]
  },
  {
   "cell_type": "markdown",
   "id": "daaceb1c",
   "metadata": {},
   "source": [
    "In this example, the Person class has a public variable name which is an attribute of the class and can be accessed and modified from anywhere. The __init__ method initializes the name attribute when an object of the class is created, and the introduce method uses the name attribute to print a message. The variable name is accessible from"
   ]
  },
  {
   "cell_type": "code",
   "execution_count": 6,
   "id": "ff465d4b",
   "metadata": {},
   "outputs": [
    {
     "name": "stdout",
     "output_type": "stream",
     "text": [
      "1000\n",
      "1500\n"
     ]
    }
   ],
   "source": [
    "# private  Variable\n",
    "class BankAccount:\n",
    "    def __init__(self, balance):\n",
    "        self.__balance = balance\n",
    "\n",
    "    def deposit(self, amount):\n",
    "        self.__balance += amount\n",
    "\n",
    "    def withdraw(self, amount):\n",
    "        if self.__balance >= amount:\n",
    "            self.__balance -= amount\n",
    "            return True\n",
    "        else:\n",
    "            return False\n",
    "\n",
    "    def get_balance(self):\n",
    "        return self.__balance\n",
    "\n",
    "account = BankAccount(1000)\n",
    "print(account.get_balance()) # Output: 1000\n",
    "account.deposit(500)\n",
    "print(account.get_balance()) # Output: 1500\n"
   ]
  },
  {
   "cell_type": "markdown",
   "id": "32e3307a",
   "metadata": {},
   "source": [
    "In this example, the BankAccount class has a private variable __balance which is an attribute of the class intended to be used only within its own class and it's not accessible from outside the class. The __init__ method initializes the __balance attribute when an object of the class is created, and the deposit, withdraw and get_balance methods use the __balance attribute to perform the corresponding operations."
   ]
  },
  {
   "cell_type": "code",
   "execution_count": 22,
   "id": "37e90535",
   "metadata": {},
   "outputs": [
    {
     "name": "stdout",
     "output_type": "stream",
     "text": [
      "Make: Toyota, Model: BMW, Year: 2020\n"
     ]
    }
   ],
   "source": [
    "class Car:\n",
    "    def __init__(self, make, model, year):\n",
    "        self.__make = make\n",
    "        self.__model = model\n",
    "        self.__year = year\n",
    "\n",
    "    def get_car_info(self):\n",
    "        return f\"Make: {self.__make}, Model: {self.__model}, Year: {self.__year}\"\n",
    "\n",
    "my_car = Car(\"Toyota\", \"BMW\", 2020)\n",
    "print(my_car.get_car_info()) # Output: Make: Toyota, Model: BMW, Year: 2020"
   ]
  },
  {
   "cell_type": "markdown",
   "id": "30e87f34",
   "metadata": {},
   "source": [
    "In this example, the Car class has a private variable __make, __model and __year which are attributes of the class intended to be used only within its own class and it's not accessible from outside the class. The __init__ method initializes these variables when an object of the class is created, and the get_car_info method uses these variables to return a string with the car's information."
   ]
  },
  {
   "cell_type": "code",
   "execution_count": null,
   "id": "4bcc0ce7",
   "metadata": {},
   "outputs": [],
   "source": [
    "class Person:\n",
    "    def __init__(self, name):\n",
    "        self.__name = name\n",
    "\n",
    "    def set_name(self, name):\n",
    "        self.__name = name\n",
    "\n",
    "    def get_name(self):\n",
    "        return self.__name\n",
    "\n",
    "person = Person(\"Jhanshi\")\n",
    "print(person.get_name()) # Jhanshi\n",
    "\n",
    "person.set_name(\"Jac\")\n",
    "print(person.get_name()) # Jac\n",
    "\n",
    "# This will throw an error because __name is a private variable\n",
    "print(person.__name) "
   ]
  },
  {
   "cell_type": "markdown",
   "id": "0efa5cd3",
   "metadata": {},
   "source": [
    "### Encapsulation is a mechanism where the data (variables) and the code (methods) that act on the data will bind together"
   ]
  },
  {
   "cell_type": "code",
   "execution_count": 8,
   "id": "e73080dd",
   "metadata": {},
   "outputs": [
    {
     "name": "stdout",
     "output_type": "stream",
     "text": [
      "100\n",
      "150\n"
     ]
    }
   ],
   "source": [
    "class BankAccount:\n",
    "    def __init__(self, balance):\n",
    "        self.__balance = balance # private variable \n",
    "\n",
    "    def get_balance(self):\n",
    "        return self.__balance\n",
    "\n",
    "    def set_balance(self, balance):\n",
    "        if balance >= 0:\n",
    "            self.__balance = balance\n",
    "        else:\n",
    "            raise ValueError(\"Invalid balance\")\n",
    "\n",
    "account = BankAccount(100)\n",
    "print(account.get_balance()) # Output: 100\n",
    "\n",
    "account.set_balance(150)\n",
    "print(account.get_balance()) # Output: 150\n"
   ]
  },
  {
   "cell_type": "markdown",
   "id": "7205b0d2",
   "metadata": {},
   "source": [
    "In this example, the class BankAccount has a private variable __balance which holds the account balance. The class has two methods get_balance() and set_balance() which are used to access and set the value of the __balance variable. The private variable can only be accessed or modified through the methods. This encapsulation ensures that the balance can't be modified directly, preventing external interference and misuse."
   ]
  },
  {
   "cell_type": "code",
   "execution_count": 3,
   "id": "9bcfe071",
   "metadata": {},
   "outputs": [
    {
     "ename": "AttributeError",
     "evalue": "'MYclass' object has no attribute '__disp1'",
     "output_type": "error",
     "traceback": [
      "\u001b[1;31m---------------------------------------------------------------------------\u001b[0m",
      "\u001b[1;31mAttributeError\u001b[0m                            Traceback (most recent call last)",
      "\u001b[1;32m~\\AppData\\Local\\Temp\\ipykernel_18524\\2074280982.py\u001b[0m in \u001b[0;36m<module>\u001b[1;34m\u001b[0m\n\u001b[0;32m      9\u001b[0m \u001b[1;33m\u001b[0m\u001b[0m\n\u001b[0;32m     10\u001b[0m \u001b[0mobj\u001b[0m\u001b[1;33m=\u001b[0m\u001b[0mMYclass\u001b[0m\u001b[1;33m(\u001b[0m\u001b[1;33m)\u001b[0m \u001b[1;31m# creating a object\u001b[0m\u001b[1;33m\u001b[0m\u001b[1;33m\u001b[0m\u001b[0m\n\u001b[1;32m---> 11\u001b[1;33m \u001b[0mobj\u001b[0m\u001b[1;33m.\u001b[0m\u001b[0m__disp1\u001b[0m\u001b[1;33m(\u001b[0m\u001b[1;33m)\u001b[0m \u001b[1;31m# error\u001b[0m\u001b[1;33m\u001b[0m\u001b[1;33m\u001b[0m\u001b[0m\n\u001b[0m",
      "\u001b[1;31mAttributeError\u001b[0m: 'MYclass' object has no attribute '__disp1'"
     ]
    }
   ],
   "source": [
    "# private method\n",
    "class MYclass:\n",
    "    def __disp1(self): # private method\n",
    "        print(\"this is the display1 method\")\n",
    "    def disp2(self):  # pubic method\n",
    "        print(\"this is the display2 method\")\n",
    "        self.__disp1()\n",
    "\n",
    "        \n",
    "obj=MYclass() # creating a object       \n",
    "obj.disp12() # error      "
   ]
  },
  {
   "cell_type": "code",
   "execution_count": 7,
   "id": "a28125a8",
   "metadata": {},
   "outputs": [
    {
     "name": "stdout",
     "output_type": "stream",
     "text": [
      "this is the display2 method\n",
      "this is the display1 method\n"
     ]
    }
   ],
   "source": [
    "# private method\n",
    "class MYclass:\n",
    "    def __disp1(self): # private method\n",
    "        print(\"this is the display1 method\")\n",
    "    def disp2(self):  # pubic method\n",
    "        print(\"this is the display2 method\")\n",
    "        self.__disp1()\n",
    "\n",
    "        \n",
    "MYclass().disp2()      \n",
    "     "
   ]
  },
  {
   "cell_type": "code",
   "execution_count": null,
   "id": "83bc9e3d",
   "metadata": {},
   "outputs": [],
   "source": []
  }
 ],
 "metadata": {
  "kernelspec": {
   "display_name": "Python 3 (ipykernel)",
   "language": "python",
   "name": "python3"
  },
  "language_info": {
   "codemirror_mode": {
    "name": "ipython",
    "version": 3
   },
   "file_extension": ".py",
   "mimetype": "text/x-python",
   "name": "python",
   "nbconvert_exporter": "python",
   "pygments_lexer": "ipython3",
   "version": "3.9.13"
  }
 },
 "nbformat": 4,
 "nbformat_minor": 5
}
