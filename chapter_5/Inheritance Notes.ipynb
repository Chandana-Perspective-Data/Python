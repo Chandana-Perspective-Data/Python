{
 "cells": [
  {
   "cell_type": "markdown",
   "id": "3d846029",
   "metadata": {},
   "source": [
    "# Inheritance"
   ]
  },
  {
   "cell_type": "markdown",
   "id": "8df77b8b",
   "metadata": {},
   "source": [
    ">>Defination:\n",
    "    Acquiring the propertice from one class to other class.\n",
    "    \n",
    "Note,\n",
    "1. From where we are acquiring the propertice that class is know as \"Parent class (OR) Super class (OR) Base class\".\n",
    "2. To where we are acquiring the propertice that class is know as \"Child class (OR) Sub class (OR) Derived class \"\n",
    "\n",
    ">>Syntax:\n",
    "\n",
    "class base_class_name:\n",
    "\n",
    "    ......\n",
    "    \n",
    "class derived_class_name(base_class_name):  # This is how we have to inherite the base class into derived class\n",
    "\n",
    "    ......"
   ]
  },
  {
   "cell_type": "markdown",
   "id": "10b1697b",
   "metadata": {},
   "source": [
    "Note,\n",
    "\n",
    "When we inherite the properties of the one class into another class the,\n",
    "\n",
    "1. Parent class have it's own properties only.\n",
    "2. But, child class have the propertice of the it's own and parent class propertice also."
   ]
  },
  {
   "cell_type": "markdown",
   "id": "90c2b290",
   "metadata": {},
   "source": [
    "super() is a built-in function in Python that allows you to call a method from a parent or super class. The basic syntax for calling a method from a parent class using super() is super().method_name(args). However, when it comes to the __init__ method, it's generally recommended to use super().__init__(args) in order to properly initialize the inherited attributes and avoid any issues with the method being overridden."
   ]
  },
  {
   "cell_type": "code",
   "execution_count": 1,
   "id": "578ea386",
   "metadata": {},
   "outputs": [
    {
     "name": "stdout",
     "output_type": "stream",
     "text": [
      "My name is  MR. X and My age is  100\n",
      "My name is MR. X and My age is 100\n"
     ]
    }
   ],
   "source": [
    "class A:  # base class & super class\n",
    "    def __init__(self):\n",
    "        self.name=\"MR. X\"\n",
    "class B(A):\n",
    "    \n",
    "    def __init__(self):\n",
    "        self.age=100\n",
    "        super().__init__()  # calling the base class constructor\n",
    "        \n",
    "\n",
    "    def display(self):\n",
    "        print(\"My name is \",self.name,\"and My age is \",self.age)\n",
    "        print(\"My name is {} and My age is {}\".format(self.name,self.age))\n",
    "b=B()\n",
    "b.display()"
   ]
  },
  {
   "cell_type": "markdown",
   "id": "ab868a69",
   "metadata": {},
   "source": [
    "The above code defines two classes, A and B. The A class is the base class (also known as the super class) and it has an attribute name initialized to \"MR. X\" and an __init__ method to set the attribute. The B class is the derived class (also known as the sub class) and it inherits from the A class and it has an attribute age initialized to 100 and an __init__ method that calls the super().__init__() method to initialize the attribute name from the base class and also it has a method display() which prints the name and age attribute of the class B.\n",
    "\n",
    "When an object of class B is created and the display() method is called on it, it first calls the __init__ method of class B, which initializes the attribute age and also calls the super().__init__() method which initializes the attribute name from the base class. Then it prints the value of name and age using two different ways, one using concatenation and the other using string formatting."
   ]
  },
  {
   "cell_type": "code",
   "execution_count": 6,
   "id": "b05a23ea",
   "metadata": {},
   "outputs": [
    {
     "name": "stdout",
     "output_type": "stream",
     "text": [
      "welcome\n",
      "1200\n",
      "5st\n"
     ]
    }
   ],
   "source": [
    "# with using super().\n",
    "class parent: # base class \n",
    "    def __init__(self,name,age):\n",
    "        self.name=name\n",
    "        self.age=age\n",
    "class Child(parent):  # child class\n",
    "    def __init__(self,name,age,grade):\n",
    "        super().__init__(name,age)\n",
    "        self.grade=grade\n",
    "x= Child(\"welcome\",\"1200\",\"5st\")\n",
    "print(x.name)\n",
    "print(x.age)\n",
    "print(x.grade)\n",
    "    "
   ]
  },
  {
   "cell_type": "code",
   "execution_count": 7,
   "id": "5f335917",
   "metadata": {},
   "outputs": [
    {
     "name": "stdout",
     "output_type": "stream",
     "text": [
      "welcome\n",
      "1200\n",
      "5st\n"
     ]
    }
   ],
   "source": [
    "# without using super().\n",
    "class parent: # base class \n",
    "    def __init__(self,name,age):\n",
    "        self.name=name\n",
    "        self.age=age\n",
    "class Child(parent):  # child class\n",
    "    def __init__(self,name,age,grade):\n",
    "        self.name=name\n",
    "        self.age=age\n",
    "        self.grade=grade\n",
    "x= Child(\"welcome\",\"1200\",\"5st\")\n",
    "print(x.name)\n",
    "print(x.age)\n",
    "print(x.grade)\n",
    "    "
   ]
  },
  {
   "cell_type": "code",
   "execution_count": 9,
   "id": "4a75ee34",
   "metadata": {},
   "outputs": [
    {
     "name": "stdout",
     "output_type": "stream",
     "text": [
      "welcome 1200 5st\n"
     ]
    }
   ],
   "source": [
    "# without using super().\n",
    "class parent: # base class \n",
    "    def __init__(self,name,age):\n",
    "        self.name=name\n",
    "        self.age=age\n",
    "class Child(parent):  # child class\n",
    "    def __init__(self,name,age,grade):\n",
    "        self.name=name\n",
    "        self.age=age\n",
    "        self.grade=grade\n",
    "x= Child(\"welcome\",\"1200\",\"5st\")\n",
    "print(x.name,x.age,x.grade)\n"
   ]
  },
  {
   "cell_type": "code",
   "execution_count": 5,
   "id": "4aefa6a0",
   "metadata": {
    "scrolled": true
   },
   "outputs": [
    {
     "ename": "NameError",
     "evalue": "name 'Programming_name' is not defined",
     "output_type": "error",
     "traceback": [
      "\u001b[1;31m---------------------------------------------------------------------------\u001b[0m",
      "\u001b[1;31mNameError\u001b[0m                                 Traceback (most recent call last)",
      "\u001b[1;32mC:\\Users\\SHAILA~1\\AppData\\Local\\Temp/ipykernel_5000/2778855115.py\u001b[0m in \u001b[0;36m<module>\u001b[1;34m\u001b[0m\n\u001b[0;32m      4\u001b[0m \u001b[1;33m\u001b[0m\u001b[0m\n\u001b[0;32m      5\u001b[0m \u001b[1;31m# inheriting the \"A\" class into the class \"B\"\u001b[0m\u001b[1;33m\u001b[0m\u001b[1;33m\u001b[0m\u001b[0m\n\u001b[1;32m----> 6\u001b[1;33m \u001b[1;32mclass\u001b[0m \u001b[0mB\u001b[0m\u001b[1;33m(\u001b[0m\u001b[0mA\u001b[0m\u001b[1;33m)\u001b[0m\u001b[1;33m:\u001b[0m  \u001b[1;31m# child class/ derived class/ sub class\u001b[0m\u001b[1;33m\u001b[0m\u001b[1;33m\u001b[0m\u001b[0m\n\u001b[0m\u001b[0;32m      7\u001b[0m     \u001b[0mprint\u001b[0m\u001b[1;33m(\u001b[0m\u001b[1;34m\"Prigramming name is : \"\u001b[0m\u001b[1;33m,\u001b[0m\u001b[0mProgramming_name\u001b[0m\u001b[1;33m)\u001b[0m  \u001b[1;31m# Error\u001b[0m\u001b[1;33m\u001b[0m\u001b[1;33m\u001b[0m\u001b[0m\n\u001b[0;32m      8\u001b[0m     \u001b[0mprint\u001b[0m\u001b[1;33m(\u001b[0m\u001b[1;34m\"Version of the Programming : \"\u001b[0m\u001b[1;33m,\u001b[0m\u001b[0mversion\u001b[0m\u001b[1;33m)\u001b[0m  \u001b[1;31m# Error\u001b[0m\u001b[1;33m\u001b[0m\u001b[1;33m\u001b[0m\u001b[0m\n",
      "\u001b[1;32mC:\\Users\\SHAILA~1\\AppData\\Local\\Temp/ipykernel_5000/2778855115.py\u001b[0m in \u001b[0;36mB\u001b[1;34m()\u001b[0m\n\u001b[0;32m      5\u001b[0m \u001b[1;31m# inheriting the \"A\" class into the class \"B\"\u001b[0m\u001b[1;33m\u001b[0m\u001b[1;33m\u001b[0m\u001b[0m\n\u001b[0;32m      6\u001b[0m \u001b[1;32mclass\u001b[0m \u001b[0mB\u001b[0m\u001b[1;33m(\u001b[0m\u001b[0mA\u001b[0m\u001b[1;33m)\u001b[0m\u001b[1;33m:\u001b[0m  \u001b[1;31m# child class/ derived class/ sub class\u001b[0m\u001b[1;33m\u001b[0m\u001b[1;33m\u001b[0m\u001b[0m\n\u001b[1;32m----> 7\u001b[1;33m     \u001b[0mprint\u001b[0m\u001b[1;33m(\u001b[0m\u001b[1;34m\"Prigramming name is : \"\u001b[0m\u001b[1;33m,\u001b[0m\u001b[0mProgramming_name\u001b[0m\u001b[1;33m)\u001b[0m  \u001b[1;31m# Error\u001b[0m\u001b[1;33m\u001b[0m\u001b[1;33m\u001b[0m\u001b[0m\n\u001b[0m\u001b[0;32m      8\u001b[0m     \u001b[0mprint\u001b[0m\u001b[1;33m(\u001b[0m\u001b[1;34m\"Version of the Programming : \"\u001b[0m\u001b[1;33m,\u001b[0m\u001b[0mversion\u001b[0m\u001b[1;33m)\u001b[0m  \u001b[1;31m# Error\u001b[0m\u001b[1;33m\u001b[0m\u001b[1;33m\u001b[0m\u001b[0m\n\u001b[0;32m      9\u001b[0m \u001b[1;33m\u001b[0m\u001b[0m\n",
      "\u001b[1;31mNameError\u001b[0m: name 'Programming_name' is not defined"
     ]
    }
   ],
   "source": [
    "class A:  # parent class/ base class/ super class\n",
    "    Programming_name=\"Python\"\n",
    "    version=3\n",
    "\n",
    "# inheriting the \"A\" class into the class \"B\"\n",
    "class B(A):  # child class/ derived class/ sub class \n",
    "    print(\"Programming name is : \",Programming_name)  # Error\n",
    "    print(\"Version of the Programming : \",version)  # Error\n",
    "    \n",
    "    "
   ]
  },
  {
   "cell_type": "code",
   "execution_count": 11,
   "id": "08509edf",
   "metadata": {},
   "outputs": [
    {
     "name": "stdout",
     "output_type": "stream",
     "text": [
      "Programming name is :  Python\n",
      "Version of the Programming :  3\n"
     ]
    }
   ],
   "source": [
    "class A:  # parent class/ base class/ super class\n",
    "    Programming_name=\"Python\"\n",
    "    version=3\n",
    "\n",
    "# inheriting the \"A\" class into the class \"B\"\n",
    "class B(A):  # child class/ derived class/ sub class \n",
    "    pass\n",
    "b=B()\n",
    "print(\"Programming name is : \",b.Programming_name)\n",
    "print(\"Version of the Programming : \",b.version)"
   ]
  },
  {
   "cell_type": "code",
   "execution_count": 2,
   "id": "a140750e",
   "metadata": {},
   "outputs": [
    {
     "name": "stdout",
     "output_type": "stream",
     "text": [
      "Prigramming name is :  Python\n",
      "Version of the Programming :  3\n"
     ]
    }
   ],
   "source": [
    "class A:  # parent class/ base class/ super class\n",
    "    Programming_name=\"Python\"\n",
    "    version=3\n",
    "\n",
    "# inheriting the \"A\" class into the class \"B\"\n",
    "class B(A):  # child class/ derived class/ sub class\n",
    "    print(\"Programming name is : \",A.Programming_name)\n",
    "    print(\"Version of the Programming : \",A.version)\n",
    "    "
   ]
  },
  {
   "cell_type": "code",
   "execution_count": 11,
   "id": "0e88e12c",
   "metadata": {},
   "outputs": [
    {
     "name": "stdout",
     "output_type": "stream",
     "text": [
      "Programming name is :  Python\n",
      "Version of the Programming :  3\n"
     ]
    }
   ],
   "source": [
    "class A:  # parent class/ base class/ super class\n",
    "    Programming_name=\"Python\"\n",
    "    version=3\n",
    "\n",
    "# inheriting the \"A\" class into the class \"B\"\n",
    "class B(A):  # child class/ derived class/ sub class \n",
    "    def show_programming_details(self):\n",
    "        print(\"Programming name is : \", self.Programming_name)\n",
    "        print(\"Version of the Programming : \", self.version)\n",
    "\n",
    "b = B()\n",
    "b.show_programming_details()\n"
   ]
  },
  {
   "cell_type": "markdown",
   "id": "0a33f5dd",
   "metadata": {},
   "source": [
    "> This way, when you create an object of class B and call the show_programming_details method on it, it will print the values of the class variables Programming_name and version inherited from the parent class A."
   ]
  },
  {
   "cell_type": "markdown",
   "id": "7e7b3281",
   "metadata": {},
   "source": [
    "# Single Inheritance :\n",
    "Single inheritance enables a derived class to inherit properties from a single parent class, thus enabling code reusability and the addition of new features to existing code."
   ]
  },
  {
   "cell_type": "markdown",
   "id": "04c75455",
   "metadata": {},
   "source": [
    "class A:  # Base class\n",
    "\n",
    "    .......\n",
    "    \n",
    "class B(A):\n",
    "\n",
    "    ........\n",
    "    \n",
    "class C(A):\n",
    "\n",
    "    ........\n",
    "    \n",
    "class D(A):\n",
    "\n",
    "    ......\n",
    "    \n",
    "    .\n",
    "    .\n",
    "    .\n",
    "    .\n",
    "    \n",
    "Class Z(A):\n",
    "\n",
    "    ......."
   ]
  },
  {
   "cell_type": "code",
   "execution_count": 12,
   "id": "6abd42e4",
   "metadata": {},
   "outputs": [
    {
     "name": "stdout",
     "output_type": "stream",
     "text": [
      "From B class :\n",
      "Python is a Programming Laguage\n",
      "Prigramming name is :  Python\n",
      "Version of the Programming :  3\n",
      "From C class :\n",
      "Now , we are working with Python 3\n",
      "Prigramming name is :  Python\n",
      "Version of the Programming :  3\n"
     ]
    }
   ],
   "source": [
    "class A: \n",
    "    def f(self):  # Instance method\n",
    "        Programming_name=\"Python\"                                    # From B class :\"\n",
    "        version=3                                                    # \"Python is a Programming Laguage\n",
    "        print(\"Prigramming name is : \",Programming_name)             # Prigramming name is : \",Programming_name\n",
    "        print(\"Version of the Programming : \",version)               # \"Version of the Programming : \",version)\n",
    "        \n",
    "class B(A):\n",
    "    def g(self):\n",
    "        print(\"Python is a Programming Laguage\")\n",
    "        \n",
    "class C(A):\n",
    "    def h(self):\n",
    "        print(\"Now , we are working with Python 3\")\n",
    "\n",
    "print(\"From B class :\")        \n",
    "b=B()                                                  #\"From C class :\"\n",
    "b.g()                                                         #\"Now , we are working with Python b.g()                                                   # \"Prigramming name is : \",Programming_name)            \n",
    "                                                     # Prigramming name is : \",Programming_name\n",
    "        \n",
    "b.f()\n",
    "\n",
    "print(\"From C class :\")\n",
    "c=C()\n",
    "c.h()\n",
    "c.f()"
   ]
  },
  {
   "cell_type": "markdown",
   "id": "aeef3db3",
   "metadata": {},
   "source": [
    "> This code defines three classes: A, B, and C.\n",
    "\n",
    "Class A defines an instance method f() that prints the values of the instance variables Programming_name and version.\n",
    "Class B inherits from class A and defines an instance method g() that prints a string.\n",
    "Class C also inherits from class A and defines an instance method h() that prints a string.\n",
    "When the code creates an object b of class B and calls its method g() and f(), it will output:\n",
    "\n",
    "> As you can see, the class B and C are inheriting the method f() from class A and they also have their own methods g() and h() respectively. When you create an object of class B or C and call the f() method"
   ]
  },
  {
   "cell_type": "markdown",
   "id": "a0040636",
   "metadata": {},
   "source": [
    "# Multi Level Inheritance :\n",
    "\n",
    "When a class can be derived from more than one base class this type of inheritance is called multiple inheritances. In multiple inheritances, all the features of the base classes are inherited into the derived class. "
   ]
  },
  {
   "cell_type": "markdown",
   "id": "d7bcb21c",
   "metadata": {},
   "source": [
    "class A:\n",
    "\n",
    "    .......\n",
    "    \n",
    "class B(A):\n",
    "\n",
    "    ........\n",
    "    \n",
    "class C(B):\n",
    "\n",
    "    ........\n",
    "    \n",
    "class D(C):\n",
    "\n",
    "    ......\n",
    "    \n",
    "    .\n",
    "    .\n",
    "    .\n",
    "    .\n",
    "    \n",
    "Class Z(Y):\n",
    "\n",
    "    ......."
   ]
  },
  {
   "cell_type": "code",
   "execution_count": 6,
   "id": "aea45d41",
   "metadata": {},
   "outputs": [
    {
     "name": "stdout",
     "output_type": "stream",
     "text": [
      "Now , we are working with Python 3\n",
      "Python is a Programming Laguage\n",
      "Prigramming name is :  Python\n",
      "Version of the Programming :  3\n"
     ]
    }
   ],
   "source": [
    "class A: \n",
    "    def f(self):\n",
    "        Programming_name=\"Python\"                       # Now , we are working with Python 3\"\n",
    "        version=3\n",
    "        print(\"Prigramming name is : \",Programming_name) # Python is a Programming Laguage\"\n",
    "        print(\"Version of the Programming : \",version)   # Prigramming name is : \",Programming_name\n",
    "                                                         # Version of the Programming : \",version\n",
    "class B(A):\n",
    "    def g(self):\n",
    "        print(\"Python is a Programming Laguage\")\n",
    "        \n",
    "class C(B):\n",
    "    def h(self):\n",
    "        print(\"Now , we are working with Python 3\") \n",
    "        \n",
    "c=C()\n",
    "c.h()\n",
    "c.g()\n",
    "c.f()\n"
   ]
  },
  {
   "cell_type": "markdown",
   "id": "b33f2689",
   "metadata": {},
   "source": [
    "> This code defines three classes: A, B, and C.\n",
    "\n",
    "Class A defines an instance method f() that prints the values of the instance variables Programming_name and version.\n",
    "Class B inherits from class A and defines an instance method g() that prints a string.\n",
    "Class C inherits from class B and defines an instance method h() that prints a string.\n",
    "When the code creates an object c of class C and calls its method h(), g() and f(), it will output:\n",
    "\n"
   ]
  },
  {
   "cell_type": "markdown",
   "id": "6270fc03",
   "metadata": {},
   "source": [
    "# Hierarchical Inheritance:\n",
    "\n",
    "When more than one derived class are created from a single base this type of inheritance is called hierarchical inheritance. In this program, we have a parent (base) class and two child (derived) classes."
   ]
  },
  {
   "cell_type": "code",
   "execution_count": 15,
   "id": "812ee1d6",
   "metadata": {},
   "outputs": [
    {
     "name": "stdout",
     "output_type": "stream",
     "text": [
      "This function is in parent class.\n",
      "This function is in child 1.\n",
      "This function is in parent class.\n",
      "This function is in child 2.\n"
     ]
    }
   ],
   "source": [
    "# Python program to demonstrate\n",
    "# Hierarchical inheritance\n",
    " \n",
    " \n",
    "# Base class\n",
    "class Parent:\n",
    "    def func1(self):\n",
    "        print(\"This function is in parent class.\")\n",
    " \n",
    "# Derived class1\n",
    " \n",
    " \n",
    "class Child1(Parent):\n",
    "    def func2(self):\n",
    "        print(\"This function is in child 1.\")\n",
    " \n",
    "# Derivied class2\n",
    " \n",
    " \n",
    "class Child2(Parent):\n",
    "    def func3(self):\n",
    "        print(\"This function is in child 2.\")\n",
    " \n",
    " \n",
    "# Driver's code\n",
    "object1 = Child1()\n",
    "object2 = Child2()\n",
    "object1.func1()\n",
    "object1.func2()\n",
    "object2.func1()\n",
    "object2.func3()"
   ]
  },
  {
   "cell_type": "code",
   "execution_count": null,
   "id": "18433fbb",
   "metadata": {},
   "outputs": [],
   "source": []
  },
  {
   "cell_type": "code",
   "execution_count": 2,
   "id": "068e696c",
   "metadata": {},
   "outputs": [
    {
     "name": "stdout",
     "output_type": "stream",
     "text": [
      "Prigramming name is :  Python\n",
      "Version of the Programming :  3\n"
     ]
    }
   ],
   "source": [
    "class A: \n",
    "    def f(self):\n",
    "        Programming_name=\"Python\"\n",
    "        version=3\n",
    "        print(\"Prigramming name is : \",Programming_name)\n",
    "        print(\"Version of the Programming : \",version)   \n",
    "        \n",
    "class B(A):\n",
    "    A().f()"
   ]
  },
  {
   "cell_type": "code",
   "execution_count": 10,
   "id": "85566341",
   "metadata": {},
   "outputs": [
    {
     "name": "stdout",
     "output_type": "stream",
     "text": [
      "Prigramming name is :  Python\n",
      "Version of the Programming :  3\n"
     ]
    }
   ],
   "source": [
    "class A: \n",
    "    def f(self):\n",
    "        Programming_name=\"Python\"\n",
    "        version=3\n",
    "        print(\"Prigramming name is : \",Programming_name)\n",
    "        print(\"Version of the Programming : \",version)   \n",
    "        \n",
    "class B(A):\n",
    "    pass\n",
    "    \n",
    "B().f()"
   ]
  },
  {
   "cell_type": "code",
   "execution_count": null,
   "id": "8ae2d50e",
   "metadata": {},
   "outputs": [],
   "source": [
    "class A: \n",
    "    x=10\n",
    "    def f(cls):  # Class method\n",
    "        Programming_name=\"Python\"  # Local variables\n",
    "        version=3\n",
    "        print(\"Prigramming name is : \",Programming_name)\n",
    "        print(\"Version of the Programming : \",version)   \n",
    "        \n",
    "class B(A):\n",
    "    print(A.x)\n",
    "\n",
    "B().f()\n",
    "\n"
   ]
  },
  {
   "cell_type": "markdown",
   "id": "f480ff4d",
   "metadata": {},
   "source": [
    "# Multiple Inheritance :\n",
    "When a class is derived from more than one base class it is called multiple Inheritance. The derived class inherits all the features of the base case."
   ]
  },
  {
   "cell_type": "markdown",
   "id": "0b07d1f2",
   "metadata": {},
   "source": [
    "class A:\n",
    "\n",
    "    .......\n",
    "    \n",
    "class B(A):\n",
    "\n",
    "    ........\n",
    "    \n",
    "class C(A,B):\n",
    "\n",
    "    ........\n",
    "    \n",
    "class D(A,C):\n",
    "\n",
    "    ......\n",
    "    \n",
    "    .\n",
    "    .\n",
    "    .\n",
    "    .\n",
    "    \n",
    "Class Z(A,B,C,......Y):\n",
    "\n",
    "    ......."
   ]
  },
  {
   "cell_type": "code",
   "execution_count": 12,
   "id": "50b0869a",
   "metadata": {},
   "outputs": [
    {
     "name": "stdout",
     "output_type": "stream",
     "text": [
      "In Class2\n"
     ]
    }
   ],
   "source": [
    "# when method is overridden in both classes\n",
    "#  Python Program to depict multiple inheritance \n",
    "class Class1:\n",
    "    def m(self):\n",
    "        print(\"In Class1\")\n",
    "       \n",
    "class Class2(Class1):\n",
    "    def m(self):\n",
    "        print(\"In Class2\")\n",
    " \n",
    "class Class3(Class1):\n",
    "    def m(self):\n",
    "        print(\"In Class3\") \n",
    "        \n",
    "class Class4(Class2, Class3):\n",
    "    pass  \n",
    "     \n",
    "obj = Class4()\n",
    "obj.m()"
   ]
  },
  {
   "cell_type": "code",
   "execution_count": 13,
   "id": "4abfadd4",
   "metadata": {},
   "outputs": [
    {
     "name": "stdout",
     "output_type": "stream",
     "text": [
      "In Class3\n"
     ]
    }
   ],
   "source": [
    "class Class1:\n",
    "    def m(self):\n",
    "        print(\"In Class1\")\n",
    "       \n",
    "class Class2(Class1):\n",
    "    pass\n",
    " \n",
    "class Class3(Class1):\n",
    "    def m(self):\n",
    "        print(\"In Class3\")   \n",
    "      \n",
    "class Class4(Class2, Class3):\n",
    "    pass      \n",
    " \n",
    "obj = Class4()\n",
    "obj.m()"
   ]
  },
  {
   "cell_type": "code",
   "execution_count": 13,
   "id": "00931b69",
   "metadata": {},
   "outputs": [
    {
     "name": "stdout",
     "output_type": "stream",
     "text": [
      "In Class4\n",
      "In Class2\n",
      "In Class3\n",
      "In Class1\n"
     ]
    }
   ],
   "source": [
    " \n",
    "class Class1:\n",
    "    def m(self):\n",
    "        print(\"In Class1\")\n",
    "       \n",
    "class Class2(Class1):\n",
    "    def m(self):\n",
    "        print(\"In Class2\")\n",
    " \n",
    "class Class3(Class1):\n",
    "    def m(self):\n",
    "         print(\"In Class3\")    \n",
    "     \n",
    "class Class4(Class2, Class3):\n",
    "    def m(self):\n",
    "        print(\"In Class4\")  \n",
    " \n",
    "obj = Class4()\n",
    "obj.m()\n",
    " \n",
    "Class2.m(obj)\n",
    "Class3.m(obj)\n",
    "Class1.m(obj)"
   ]
  },
  {
   "cell_type": "code",
   "execution_count": 12,
   "id": "977311f8",
   "metadata": {},
   "outputs": [
    {
     "ename": "TypeError",
     "evalue": "Cannot create a consistent method resolution\norder (MRO) for bases A, B",
     "output_type": "error",
     "traceback": [
      "\u001b[1;31m---------------------------------------------------------------------------\u001b[0m",
      "\u001b[1;31mTypeError\u001b[0m                                 Traceback (most recent call last)",
      "\u001b[1;32mC:\\Users\\SHAILA~1\\AppData\\Local\\Temp/ipykernel_5000/3720594774.py\u001b[0m in \u001b[0;36m<module>\u001b[1;34m\u001b[0m\n\u001b[0;32m     10\u001b[0m         \u001b[0mprint\u001b[0m\u001b[1;33m(\u001b[0m\u001b[1;34m\"Python is a Programming Laguage\"\u001b[0m\u001b[1;33m)\u001b[0m\u001b[1;33m\u001b[0m\u001b[1;33m\u001b[0m\u001b[0m\n\u001b[0;32m     11\u001b[0m \u001b[1;33m\u001b[0m\u001b[0m\n\u001b[1;32m---> 12\u001b[1;33m \u001b[1;32mclass\u001b[0m \u001b[0mC\u001b[0m\u001b[1;33m(\u001b[0m\u001b[0mA\u001b[0m\u001b[1;33m,\u001b[0m\u001b[0mB\u001b[0m\u001b[1;33m)\u001b[0m\u001b[1;33m:\u001b[0m\u001b[1;33m\u001b[0m\u001b[1;33m\u001b[0m\u001b[0m\n\u001b[0m\u001b[0;32m     13\u001b[0m     \u001b[1;32mdef\u001b[0m \u001b[0mh\u001b[0m\u001b[1;33m(\u001b[0m\u001b[0mself\u001b[0m\u001b[1;33m)\u001b[0m\u001b[1;33m:\u001b[0m\u001b[1;33m\u001b[0m\u001b[1;33m\u001b[0m\u001b[0m\n\u001b[0;32m     14\u001b[0m         \u001b[0mprint\u001b[0m\u001b[1;33m(\u001b[0m\u001b[1;34m\"Now , we are working with Python 3\"\u001b[0m\u001b[1;33m)\u001b[0m\u001b[1;33m\u001b[0m\u001b[1;33m\u001b[0m\u001b[0m\n",
      "\u001b[1;31mTypeError\u001b[0m: Cannot create a consistent method resolution\norder (MRO) for bases A, B"
     ]
    }
   ],
   "source": [
    "class A: \n",
    "    def f(self):\n",
    "        Programming_name=\"Python\"\n",
    "        version=3\n",
    "        print(\"Prigramming name is : \",Programming_name)\n",
    "        print(\"Version of the Programming : \",version)   \n",
    "        \n",
    "class B(A):\n",
    "    def g(self):\n",
    "        print(\"Python is a Programming Laguage\")\n",
    "        \n",
    "class C(A,B):\n",
    "    def h(self):\n",
    "        print(\"Now , we are working with Python 3\")\n",
    "\n",
    "c=C()\n",
    "c.h()\n",
    "c.g()\n",
    "c.f()"
   ]
  },
  {
   "cell_type": "code",
   "execution_count": 54,
   "id": "d908941e",
   "metadata": {
    "scrolled": true
   },
   "outputs": [
    {
     "name": "stdout",
     "output_type": "stream",
     "text": [
      "Benz objec\n",
      "BMW object\n",
      "BMW_7_series object\n",
      "Test objec\n",
      "100\n"
     ]
    },
    {
     "data": {
      "text/plain": [
       "'\\n\\n\\n\\n'"
      ]
     },
     "execution_count": 54,
     "metadata": {},
     "output_type": "execute_result"
    }
   ],
   "source": [
    "class Car:   \n",
    "    def __init__(self):    \n",
    "        self.x=10                \n",
    "        print(\"Car object\")       \n",
    "        \n",
    "class BMW(Car):                  \n",
    "    def __init__(self):\n",
    "        self.x=20\n",
    "        print(\"BMW object\")\n",
    "\n",
    "class BMW_3_series(BMW):      \n",
    "    pass\n",
    "\n",
    "class BMW_7_series(BMW):        \n",
    "    def __init__(self):\n",
    "        self.x=30\n",
    "        super().__init__()   \n",
    "        print(\"BMW_7_series object\")\n",
    "        \n",
    "class Benz(Car):\n",
    "    def __init__(self):\n",
    "        print(\"Benz objec\")\n",
    "        self.x=40\n",
    "        super().__init__()\n",
    "        \n",
    "class Test(Benz,BMW_7_series,BMW_3_series):\n",
    "    def __init__(self):\n",
    "        self.x=50\n",
    "        #super().__init__()\n",
    "        print(\"Test objec\")\n",
    "        self.x=100\n",
    "        \n",
    "t=Test()\n",
    "print(t.x)\n",
    "\n",
    "\n",
    "\"\"\"\n",
    "\n",
    "\n",
    "\n",
    "\"\"\""
   ]
  },
  {
   "cell_type": "code",
   "execution_count": 39,
   "id": "493fd8d0",
   "metadata": {},
   "outputs": [
    {
     "name": "stdout",
     "output_type": "stream",
     "text": [
      "10\n",
      "10\n",
      "10\n"
     ]
    }
   ],
   "source": [
    "\n",
    "class A:\n",
    "    def __init__(self):\n",
    "        self.x=10\n",
    "     \n",
    "    \n",
    "class B(A):\n",
    "\n",
    "    def __init__(self):\n",
    "        self.x=20\n",
    "        super().__init__()\n",
    "        \n",
    "    def f(self):\n",
    "        print(self.x)\n",
    "\n",
    "\n",
    "b=B()\n",
    "b.f()\n",
    "print(A().x)\n",
    "print(b.x)"
   ]
  },
  {
   "cell_type": "code",
   "execution_count": 30,
   "id": "1c797035",
   "metadata": {},
   "outputs": [
    {
     "name": "stdout",
     "output_type": "stream",
     "text": [
      "20\n"
     ]
    }
   ],
   "source": [
    "class A:\n",
    "    def __init__(self):\n",
    "        self.x=10\n",
    "        \n",
    "class B(A):\n",
    "    def __init__(self):\n",
    "        super().__init__()\n",
    "        self.x=20\n",
    "        \n",
    "b=B()\n",
    "print(b.x)       \n"
   ]
  },
  {
   "cell_type": "code",
   "execution_count": 34,
   "id": "8d611204",
   "metadata": {},
   "outputs": [
    {
     "name": "stdout",
     "output_type": "stream",
     "text": [
      "10 20 30\n"
     ]
    }
   ],
   "source": [
    "class A:\n",
    "    def __init__(self):\n",
    "        self.x=10\n",
    "        \n",
    "    def g():\n",
    "        self.z=30\n",
    "        \n",
    "class B(A):\n",
    "    def __init__(self):\n",
    "        self.y=20\n",
    "        super().__init__()\n",
    "        \n",
    "    \n",
    "    def f(self):\n",
    "        print(self.x,self.y,self.z)\n",
    "        \n",
    "b=B()\n",
    "\n",
    "b.f()\n",
    "        \n",
    "    "
   ]
  },
  {
   "cell_type": "code",
   "execution_count": 52,
   "id": "3fb94ed1",
   "metadata": {},
   "outputs": [
    {
     "name": "stdout",
     "output_type": "stream",
     "text": [
      "120\n"
     ]
    }
   ],
   "source": [
    "\n",
    "class A:\n",
    "    def __init__(self):\n",
    "        self.x=10\n",
    "        super().__init__()\n",
    "        \n",
    "class B():\n",
    "    def __init__(self):\n",
    "        self.x=20\n",
    "        super().__init__()\n",
    "        \n",
    "class C(A,B):\n",
    "    def __init__(self):\n",
    "        self.x=30\n",
    "        super().__init__()\n",
    "        \n",
    "        \n",
    "c=C()\n",
    "print(c.x)\n",
    "        \n",
    "        \n",
    "        \n",
    "        "
   ]
  },
  {
   "cell_type": "code",
   "execution_count": 2,
   "id": "daf070ad",
   "metadata": {},
   "outputs": [
    {
     "name": "stdout",
     "output_type": "stream",
     "text": [
      "BMW object\n",
      "Test objec\n",
      "20\n"
     ]
    }
   ],
   "source": [
    "class Car:   \n",
    "    def __init__(self):    \n",
    "        self.x=10                \n",
    "        print(\"Car object\")       \n",
    "        \n",
    "class BMW(Car):                  \n",
    "    def __init__(self):\n",
    "        self.x=20\n",
    "        print(\"BMW object\")\n",
    "        \n",
    "class BMW_3_series(BMW):      \n",
    "    pass\n",
    "\n",
    "class BMW_7_series(BMW):        \n",
    "    def _init_(self):\n",
    "        self.x=30\n",
    "        super().__init__()      \n",
    "        print(\"BMW_7_series object\")\n",
    "        \n",
    "class Benz(Car):\n",
    "    def _init_(self):\n",
    "        print(\"Benz objec\")\n",
    "        self.x=40\n",
    "        super().__init__()\n",
    "        \n",
    "class Test(Benz,BMW_7_series,BMW_3_series):\n",
    "    def __init__(self):\n",
    "        self.x=50\n",
    "        super().__init__()\n",
    "        print(\"Test objec\")\n",
    "        \n",
    "t=Test()\n",
    "print(t.x)"
   ]
  },
  {
   "cell_type": "markdown",
   "id": "8ff85d60",
   "metadata": {},
   "source": [
    "# Polymorphism\n",
    "\n",
    "The word Polymorphism' came from two Greek words 'poly' meaning many and 'morphos' meaning 'forms. Thus, polymorphism represents the ability to assume several different forms. In programming, if an object or method is exhibiting different behavior in different contexts, it is called polymorphic nature.\n",
    "\n",
    "Polymorphism provides flexibility in writing programs in such a way that the programmer uses same method call to perform different operations depending on the requirement.\n",
    "1. Overriding\n",
    "2. Overloading"
   ]
  },
  {
   "cell_type": "code",
   "execution_count": 4,
   "id": "5721f03f",
   "metadata": {},
   "outputs": [
    {
     "name": "stdout",
     "output_type": "stream",
     "text": [
      "bark\n",
      "meow\n"
     ]
    }
   ],
   "source": [
    "def make_sound(animal):\n",
    "    animal.sound()\n",
    "\n",
    "class Dog:\n",
    "    def sound(self):\n",
    "        print(\"bark\")\n",
    "\n",
    "class Cat:\n",
    "    def sound(self):\n",
    "        print(\"meow\")\n",
    "\n",
    "dog = Dog()\n",
    "cat = Cat()\n",
    "\n",
    "make_sound(dog) # Output: bark\n",
    "make_sound(cat) # Output: meow\n"
   ]
  },
  {
   "cell_type": "markdown",
   "id": "928ab643",
   "metadata": {},
   "source": [
    "> In the above example, the function make_sound takes an argument animal and calls its sound() method. The Dog and Cat classes have their own implementation of the sound() method, but they both implement the same interface, so they can be used interchangeably."
   ]
  },
  {
   "cell_type": "code",
   "execution_count": 5,
   "id": "83c609b5",
   "metadata": {},
   "outputs": [
    {
     "name": "stdout",
     "output_type": "stream",
     "text": [
      "5\n",
      "4\n",
      "2\n"
     ]
    }
   ],
   "source": [
    "print(len(\"hello\")) # Output: 5\n",
    "print(len([1, 2, 3, 4])) # Output: 4\n",
    "print(len({\"name\": \"John\", \"age\": 30})) # Output: 2\n"
   ]
  },
  {
   "cell_type": "markdown",
   "id": "89a086e0",
   "metadata": {},
   "source": [
    "> In this example, the built-in len() function can be used on different types of objects such as strings, lists, and dictionaries, and it will return the correct output based on the type of the object passed to it. This is a good example of polymorphism in Python.\n",
    "\n",
    "In all the above examples, Polymorphism is achieved by defining methods or operators with the same name for different classes. This allows objects of different classes to be used interchangeably without the need to know their specific class."
   ]
  },
  {
   "cell_type": "code",
   "execution_count": null,
   "id": "1311c117",
   "metadata": {},
   "outputs": [],
   "source": []
  },
  {
   "cell_type": "markdown",
   "id": "5367002c",
   "metadata": {},
   "source": [
    "## 2. Overring : Redefining the definition of the base class method in derived class\n"
   ]
  },
  {
   "cell_type": "code",
   "execution_count": 1,
   "id": "7402c127",
   "metadata": {},
   "outputs": [
    {
     "name": "stdout",
     "output_type": "stream",
     "text": [
      "This is A class\n",
      "10\n"
     ]
    }
   ],
   "source": [
    "class A:\n",
    "    def f(self,a):\n",
    "        print(\"This is A class\")\n",
    "        print(a)\n",
    "        \n",
    "class B(A):\n",
    "    def g(self,a):\n",
    "        print(\"this is B class\")\n",
    "        print(a,b)\n",
    "        \n",
    "b=B()\n",
    "b.f(10)\n",
    "        "
   ]
  },
  {
   "cell_type": "markdown",
   "id": "f8099fd2",
   "metadata": {},
   "source": [
    "## Overloading"
   ]
  },
  {
   "cell_type": "code",
   "execution_count": 3,
   "id": "d7625a0b",
   "metadata": {},
   "outputs": [
    {
     "ename": "TypeError",
     "evalue": "f() missing 1 required positional argument: 'b'",
     "output_type": "error",
     "traceback": [
      "\u001b[1;31m---------------------------------------------------------------------------\u001b[0m",
      "\u001b[1;31mTypeError\u001b[0m                                 Traceback (most recent call last)",
      "\u001b[1;32m~\\AppData\\Local\\Temp\\ipykernel_15720\\423589062.py\u001b[0m in \u001b[0;36m<module>\u001b[1;34m\u001b[0m\n\u001b[0;32m     10\u001b[0m \u001b[1;33m\u001b[0m\u001b[0m\n\u001b[0;32m     11\u001b[0m \u001b[0mb\u001b[0m\u001b[1;33m=\u001b[0m\u001b[0mB\u001b[0m\u001b[1;33m(\u001b[0m\u001b[1;33m)\u001b[0m\u001b[1;33m\u001b[0m\u001b[1;33m\u001b[0m\u001b[0m\n\u001b[1;32m---> 12\u001b[1;33m \u001b[0mb\u001b[0m\u001b[1;33m.\u001b[0m\u001b[0mf\u001b[0m\u001b[1;33m(\u001b[0m\u001b[1;36m10\u001b[0m\u001b[1;33m)\u001b[0m\u001b[1;33m\u001b[0m\u001b[1;33m\u001b[0m\u001b[0m\n\u001b[0m\u001b[0;32m     13\u001b[0m \u001b[0mb\u001b[0m\u001b[1;33m.\u001b[0m\u001b[0mf\u001b[0m\u001b[1;33m(\u001b[0m\u001b[1;36m20\u001b[0m\u001b[1;33m,\u001b[0m\u001b[1;36m30\u001b[0m\u001b[1;33m)\u001b[0m\u001b[1;33m\u001b[0m\u001b[1;33m\u001b[0m\u001b[0m\n",
      "\u001b[1;31mTypeError\u001b[0m: f() missing 1 required positional argument: 'b'"
     ]
    }
   ],
   "source": [
    "class A:\n",
    "    def f(self,a):\n",
    "        print(\"This is A class\")\n",
    "        print(a)\n",
    "        \n",
    "class B(A):\n",
    "    def f(self,a,b):\n",
    "        print(\"this is B class\")\n",
    "        print(a,b)\n",
    "        \n",
    "b=B()\n",
    "b.f(10)\n",
    "b.f(20,30)       "
   ]
  },
  {
   "cell_type": "code",
   "execution_count": null,
   "id": "4c1ae678",
   "metadata": {},
   "outputs": [],
   "source": []
  }
 ],
 "metadata": {
  "kernelspec": {
   "display_name": "Python 3 (ipykernel)",
   "language": "python",
   "name": "python3"
  },
  "language_info": {
   "codemirror_mode": {
    "name": "ipython",
    "version": 3
   },
   "file_extension": ".py",
   "mimetype": "text/x-python",
   "name": "python",
   "nbconvert_exporter": "python",
   "pygments_lexer": "ipython3",
   "version": "3.9.13"
  }
 },
 "nbformat": 4,
 "nbformat_minor": 5
}
