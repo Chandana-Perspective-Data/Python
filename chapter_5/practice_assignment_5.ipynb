{
 "cells": [
  {
   "cell_type": "markdown",
   "id": "253aebb9",
   "metadata": {},
   "source": [
    "### 1.Develop a bank application where class is your bank and objects are customers with functions balance checking, deposit and withdrawal from customer's savings account. "
   ]
  },
  {
   "cell_type": "code",
   "execution_count": 4,
   "id": "73da9119",
   "metadata": {},
   "outputs": [
    {
     "name": "stdout",
     "output_type": "stream",
     "text": [
      "1000\n",
      "1100\n",
      "900\n"
     ]
    }
   ],
   "source": [
    "class Bank:\n",
    "    def __init__(self):\n",
    "        self.customers = {}\n",
    "\n",
    "    def add_customer(self, customer):\n",
    "        self.customers[customer.name] = customer\n",
    "\n",
    "    def get_customer(self, name):\n",
    "        return self.customers.get(name)\n",
    "\n",
    "class Customer:\n",
    "    def __init__(self, name, savings=0):\n",
    "        self.name = name\n",
    "        self.savings = savings\n",
    "\n",
    "    def check_balance(self):\n",
    "        return self.savings\n",
    "\n",
    "    def deposit(self, amount):\n",
    "        self.savings += amount\n",
    "        return self.savings\n",
    "\n",
    "    def withdraw(self, amount):\n",
    "        if self.savings >= amount:\n",
    "            self.savings -= amount\n",
    "            return self.savings\n",
    "        else:\n",
    "            return \"Insufficient funds\"\n",
    "my_bank = Bank()\n",
    "\n",
    "jim = Customer(\"Jim\", 1000)\n",
    "my_bank.add_customer(jim)\n",
    "\n",
    "jane = Customer(\"Jane\", 500)\n",
    "my_bank.add_customer(jane)\n",
    "\n",
    "\n",
    "\n",
    "# Check balance\n",
    "print(jim.check_balance()) # 1000\n",
    "\n",
    "# Deposit\n",
    "jim.deposit(100)\n",
    "print(jim.check_balance()) # 1100\n",
    "\n",
    "# Withdraw\n",
    "jim.withdraw(200)\n",
    "print(jim.check_balance()) # 900\n"
   ]
  },
  {
   "cell_type": "markdown",
   "id": "9ba24c44",
   "metadata": {},
   "source": [
    "# 2.Create a class employee and mention following details:\n",
    "\n",
    "Employee name, Department and Address of Employee, Salary in each department hourly base and inherit the class to payroll class and calculate salary of each person monthly and annually.\n",
    "\n"
   ]
  },
  {
   "cell_type": "code",
   "execution_count": 1,
   "id": "33366511",
   "metadata": {},
   "outputs": [
    {
     "name": "stdout",
     "output_type": "stream",
     "text": [
      "Name: John Smith, Department: IT, Address: 123 Main St, New York, Hourly Salary: 25\n",
      "Monthly Salary:  4000\n",
      "Annual Salary:  48000\n",
      "\n",
      "Name: Jane Doe, Department: HR, Address: 456 Park Ave, New York, Hourly Salary: 30\n",
      "Monthly Salary:  4800\n",
      "Annual Salary:  57600\n"
     ]
    }
   ],
   "source": [
    "class Employee:\n",
    "    def __init__(self, name, department, address, hourly_salary):\n",
    "        self.name = name\n",
    "        self.department = department\n",
    "        self.address = address\n",
    "        self.hourly_salary = hourly_salary\n",
    "    def get_employee_info(self):\n",
    "        return \"Name: {}, Department: {}, Address: {}, Hourly Salary: {}\".format(self.name, self.department, self.address, self.hourly_salary)\n",
    "\n",
    "class Payroll(Employee):\n",
    "    def __init__(self, name, department, address, hourly_salary):\n",
    "        super().__init__(name, department, address, hourly_salary)\n",
    "    def get_monthly_salary(self):\n",
    "        return self.hourly_salary*8*20\n",
    "    def get_annual_salary(self):\n",
    "        return self.hourly_salary*8*20*12\n",
    "\n",
    "employee1 = Payroll(\"John Smith\", \"IT\", \"123 Main St, New York\", 25)\n",
    "employee2 = Payroll(\"Jane Doe\", \"HR\", \"456 Park Ave, New York\", 30)\n",
    "\n",
    "print(employee1.get_employee_info())\n",
    "print(\"Monthly Salary: \", employee1.get_monthly_salary())\n",
    "print(\"Annual Salary: \", employee1.get_annual_salary())\n",
    "print()\n",
    "print(employee2.get_employee_info())\n",
    "print(\"Monthly Salary: \", employee2.get_monthly_salary())\n",
    "print(\"Annual Salary: \", employee2.get_annual_salary())\n"
   ]
  },
  {
   "cell_type": "markdown",
   "id": "788237d4",
   "metadata": {},
   "source": [
    "In this example, we have created a class Employee and defined an __init__ method which takes four parameters: name, department, address and hourly_salary. It also has a method get_employee_info() which returns the employee information in the desired format.\n",
    "We have created another class Payroll which inherits from Employee class and defined two methods get_monthly_salary() and get_annual_salary() which returns the salary of the employee on monthly and annual basis respectively.\n",
    "In the last part of the code, we have created two instances of the Payroll class and passed the required data. And we are calling the methods and displaying the employee information and salary details.\n",
    "\n",
    "It is worth noting that, in this example, we are assuming that the employee works 8 hours a day and 20 days a month, this values can be changed as per your requirement. Also, you might want to consider adding methods to the class to update the employee information, validate the input, error handling etc."
   ]
  },
  {
   "cell_type": "markdown",
   "id": "dd489cc1",
   "metadata": {},
   "source": [
    "# 3.Write a code for showcasing an example of duck typing"
   ]
  },
  {
   "cell_type": "markdown",
   "id": "7c73174c",
   "metadata": {},
   "source": [
    "Duck typing is a concept in dynamic programming languages where the type of an object is determined by the methods and properties it has, rather than the class it belongs to. In other words, if an object \"walks like a duck and quacks like a duck\", it is considered to be a duck."
   ]
  },
  {
   "cell_type": "code",
   "execution_count": 2,
   "id": "26744399",
   "metadata": {},
   "outputs": [
    {
     "name": "stdout",
     "output_type": "stream",
     "text": [
      "3\n",
      "Hello, world!\n",
      "(3+5i)\n"
     ]
    }
   ],
   "source": [
    "def add_numbers(a, b):\n",
    "    return a + b\n",
    "\n",
    "print(add_numbers(1, 2)) # Output: 3\n",
    "print(add_numbers(\"Hello, \", \"world!\")) # Output: \"Hello, world!\"\n",
    "\n",
    "class ComplexNumber:\n",
    "    def __init__(self, real, imag):\n",
    "        self.real = real\n",
    "        self.imag = imag\n",
    "        \n",
    "    def __add__(self, other):\n",
    "        return ComplexNumber(self.real + other.real, self.imag + other.imag)\n",
    "    \n",
    "    def __str__(self):\n",
    "        return '({}+{}i)'.format(self.real, self.imag)\n",
    "\n",
    "c1 = ComplexNumber(1, 2)\n",
    "c2 = ComplexNumber(2, 3)\n",
    "\n",
    "print(add_numbers(c1, c2)) # Output: (3+5i)\n"
   ]
  },
  {
   "cell_type": "markdown",
   "id": "352d1c1f",
   "metadata": {},
   "source": [
    "In this example, we have defined a function add_numbers() that takes two arguments and returns their sum. The function is designed to work with any two objects that support the + operator, regardless of their type.\n",
    "We have also created a class ComplexNumber which defines __add__ and __str__ methods, which allows us to use the + operator and the print() function on instances of"
   ]
  },
  {
   "cell_type": "markdown",
   "id": "e2c68aca",
   "metadata": {},
   "source": [
    "# 4.Write a Python class to convert an integer to a roman numeral.\n",
    "\n"
   ]
  },
  {
   "cell_type": "code",
   "execution_count": 3,
   "id": "e9e945b0",
   "metadata": {},
   "outputs": [
    {
     "name": "stdout",
     "output_type": "stream",
     "text": [
      "MMMCMXCIX\n"
     ]
    }
   ],
   "source": [
    "class RomanNumerals:\n",
    "    def __init__(self, number):\n",
    "        self.number = number\n",
    "\n",
    "    def convert_to_roman(self):\n",
    "        values = [1000, 900, 500, 400, 100, 90, 50, 40, 10, 9, 5, 4, 1]\n",
    "        numerals = [\"M\", \"CM\", \"D\", \"CD\", \"C\", \"XC\", \"L\", \"XL\", \"X\", \"IX\", \"V\", \"IV\", \"I\"]\n",
    "        roman_numeral = \"\"\n",
    "        for i in range(len(values)):\n",
    "            while self.number >= values[i]:\n",
    "                self.number -= values[i]\n",
    "                roman_numeral += numerals[i]\n",
    "        return roman_numeral\n",
    "\n",
    "# create an instance of the class and convert the number\n",
    "number = RomanNumerals(3999)\n",
    "print(number.convert_to_roman()) # Output: \"MMMCMXCIX\"\n"
   ]
  },
  {
   "cell_type": "markdown",
   "id": "fe2e500c",
   "metadata": {},
   "source": [
    "In this example, we have created a class RomanNumerals and defined an __init__ method which takes an integer as an argument.\n",
    "It also has a method convert_to_roman() which converts the integer to a Roman numeral.\n",
    "This method first creates a list of integers and their corresponding Roman numeral values.\n",
    "It then iterates through the list and adds the Roman numeral to a string for the corresponding integer value until the value of the input integer is reached.\n",
    "Then it returns the Roman numeral as a string.\n",
    "\n",
    "It's worth noting that the Roman Numerals notation has a limitation, and it can't represent numbers greater than 3999.\n",
    "Also, you might want to consider adding methods to the class to validate the input, error handling, etc."
   ]
  },
  {
   "cell_type": "markdown",
   "id": "f4552e92",
   "metadata": {},
   "source": [
    "# 5.Write a Python class named Circle constructed by a radius and two methods which will compute the area and the perimeter of a circle.\n",
    "\n"
   ]
  },
  {
   "cell_type": "code",
   "execution_count": 4,
   "id": "3c79e0f9",
   "metadata": {},
   "outputs": [
    {
     "name": "stdout",
     "output_type": "stream",
     "text": [
      "Area:  78.53981633974483\n",
      "Perimeter:  31.41592653589793\n"
     ]
    }
   ],
   "source": [
    "import math\n",
    "\n",
    "class Circle:\n",
    "    def __init__(self, radius):\n",
    "        self.radius = radius\n",
    "\n",
    "    def area(self):\n",
    "        return math.pi * (self.radius ** 2)\n",
    "\n",
    "    def perimeter(self):\n",
    "        return 2 * math.pi * self.radius\n",
    "\n",
    "# create an instance of the class and calculate area and perimeter\n",
    "circle = Circle(5)\n",
    "print(\"Area: \", circle.area()) # Output: 78.53981633974483\n",
    "print(\"Perimeter: \", circle.perimeter()) # Output: 31.41592653589793\n"
   ]
  },
  {
   "cell_type": "markdown",
   "id": "acf3b9a0",
   "metadata": {},
   "source": [
    "In this example, we first import the math module to use the pi constant.\n",
    "We then create a class Circle and define an __init__ method which takes the radius of the circle as an argument.\n",
    "It also has two methods area() and perimeter() which calculates the area and the perimeter of the circle respectively.\n",
    "The area of the circle is calculated by using the formula pi * radius^2 and the perimeter of the circle is calculated by using the formula 2* pi * radius.\n",
    "In the last part of the code, we create an instance of the class Circle and pass the radius value, and we are calling the area and perimeter methods and displaying the result."
   ]
  },
  {
   "cell_type": "markdown",
   "id": "fe511c25",
   "metadata": {},
   "source": [
    "# 6.Write a Python class to find a pair of elements (indices of the two numbers) from a given array whose sum equals a specific target number. (target=150)"
   ]
  },
  {
   "cell_type": "code",
   "execution_count": 5,
   "id": "25a653dd",
   "metadata": {},
   "outputs": [
    {
     "name": "stdout",
     "output_type": "stream",
     "text": [
      "(0, 4)\n"
     ]
    }
   ],
   "source": [
    "class PairFinder:\n",
    "    def __init__(self, arr, target):\n",
    "        self.arr = arr\n",
    "        self.target = target\n",
    "\n",
    "    def find_pair(self):\n",
    "        for i in range(len(self.arr)):\n",
    "            for j in range(i+1,len(self.arr)):\n",
    "                if self.arr[i]+self.arr[j] == self.target:\n",
    "                    return (i,j)\n",
    "        return None\n",
    "\n",
    "# create an instance of the class and find the pair\n",
    "arr = [100, 20, 30, 40, 50, 60, 70]\n",
    "finder = PairFinder(arr, 150)\n",
    "print(finder.find_pair()) # Output: (0, 5)\n"
   ]
  },
  {
   "cell_type": "markdown",
   "id": "c5edd4ea",
   "metadata": {},
   "source": [
    "In this example, we create a class PairFinder and define an __init__ method which takes two arguments: an array of numbers and a target sum.\n",
    "It also has a method find_pair() which finds a pair of elements (indices of the two numbers) from the given array whose sum equals the target number.\n",
    "It uses nested loops to compare each element with all the others and check if the sum of any two elements is equal to the target.\n",
    "If it finds a pair, it returns the indices of the two numbers, otherwise, it returns None.\n",
    "In the last part of the code, we create an instance of the class PairFinder and pass an array and target, and we are calling the find_pair method and displaying the result."
   ]
  },
  {
   "cell_type": "markdown",
   "id": "4dbf9328",
   "metadata": {},
   "source": [
    "# 7.Define a student class with 'studentname' and 'studentrollno' as datamembers and 'display()' as member function. Create an object for the student class and access the items of the class. *Note: display() function should display the 'studentname' and 'studentrollno'.\n",
    "\n"
   ]
  },
  {
   "cell_type": "code",
   "execution_count": 6,
   "id": "222b51c0",
   "metadata": {},
   "outputs": [
    {
     "name": "stdout",
     "output_type": "stream",
     "text": [
      "Name:  John Doe\n",
      "Roll Number:  12345\n"
     ]
    }
   ],
   "source": [
    "class Student:\n",
    "    def __init__(self, name, rollno):\n",
    "        self.studentname = name\n",
    "        self.studentrollno = rollno\n",
    "\n",
    "    def display(self):\n",
    "        print(\"Name: \", self.studentname)\n",
    "        print(\"Roll Number: \", self.studentrollno)\n",
    "\n",
    "# create an instance of the class and display the student's details\n",
    "student1 = Student(\"John Doe\", \"12345\")\n",
    "student1.display()\n",
    "# Output:\n",
    "# Name: John Doe\n",
    "# Roll Number: 12345\n"
   ]
  },
  {
   "cell_type": "markdown",
   "id": "d5e9f4e5",
   "metadata": {},
   "source": [
    "In this example, we have created a class Student and defined an __init__ method which takes two arguments: studentname and studentrollno and assigns them to the self variable.\n",
    "It also has a method display() which prints the studentname and studentrollno of the student.\n",
    "In the last part of the code, we create an instance of the class Student and pass the student name and student roll no as arguments, and we are calling the display method and displaying the student details."
   ]
  },
  {
   "cell_type": "markdown",
   "id": "24db069c",
   "metadata": {},
   "source": [
    "# 8.Write a python program to perform the following operations:\n",
    "1) Deleting an object\n",
    "2) Deleting a data member\n",
    "3) Deleting a member function\n",
    "4) Data hiding"
   ]
  },
  {
   "cell_type": "code",
   "execution_count": 1,
   "id": "2ae96fb1",
   "metadata": {},
   "outputs": [
    {
     "ename": "AttributeError",
     "evalue": "my_hidden_function",
     "output_type": "error",
     "traceback": [
      "\u001b[1;31m---------------------------------------------------------------------------\u001b[0m",
      "\u001b[1;31mAttributeError\u001b[0m                            Traceback (most recent call last)",
      "\u001b[1;32m~\\AppData\\Local\\Temp\\ipykernel_23200\\1039016817.py\u001b[0m in \u001b[0;36m<module>\u001b[1;34m\u001b[0m\n\u001b[0;32m     49\u001b[0m \u001b[1;33m\u001b[0m\u001b[0m\n\u001b[0;32m     50\u001b[0m \u001b[1;31m# Deleting a member function\u001b[0m\u001b[1;33m\u001b[0m\u001b[1;33m\u001b[0m\u001b[0m\n\u001b[1;32m---> 51\u001b[1;33m \u001b[1;32mdel\u001b[0m \u001b[0mobj\u001b[0m\u001b[1;33m.\u001b[0m\u001b[0mmy_hidden_function\u001b[0m\u001b[1;33m\u001b[0m\u001b[1;33m\u001b[0m\u001b[0m\n\u001b[0m\u001b[0;32m     52\u001b[0m \u001b[1;33m\u001b[0m\u001b[0m\n\u001b[0;32m     53\u001b[0m \u001b[1;31m# Attempting to access the function will raise an error\u001b[0m\u001b[1;33m\u001b[0m\u001b[1;33m\u001b[0m\u001b[0m\n",
      "\u001b[1;31mAttributeError\u001b[0m: my_hidden_function"
     ]
    }
   ],
   "source": [
    "class MyClass:\n",
    "    def __init__(self):\n",
    "        self.data = \"Hello, world!\"\n",
    "        self._hidden_data = \"This is hidden data.\"\n",
    "\n",
    "    def my_function(self):\n",
    "        print(self.data)\n",
    "\n",
    "    def _my_hidden_function(self):\n",
    "        print(self._hidden_data)\n",
    "\n",
    "# Create an object of MyClass\n",
    "obj = MyClass()\n",
    "\n",
    "# Deleting an object\n",
    "del obj\n",
    "\n",
    "# Attempting to access the object will raise an error\n",
    "# print(obj.data) # raises an error\n",
    "\n",
    "class MyClass:\n",
    "    def __init__(self):\n",
    "        self.data = \"Hello, world!\"\n",
    "\n",
    "    def my_function(self):\n",
    "        print(self.data)\n",
    "\n",
    "# Create an object of MyClass\n",
    "obj = MyClass()\n",
    "\n",
    "# Deleting a data member\n",
    "del obj.data\n",
    "\n",
    "# Attempting to access the data member will raise an error\n",
    "# print(obj.data) # raises an error\n",
    "\n",
    "class MyClass:\n",
    "    def __init__(self):\n",
    "        self.data = \"Hello, world!\"\n",
    "\n",
    "    def my_function(self):\n",
    "        print(self.data)\n",
    "\n",
    "    def my_hidden_function(self):\n",
    "        print(\"This is hidden function\")\n",
    "\n",
    "# Create an object of MyClass\n",
    "obj = MyClass()\n",
    "\n",
    "# Deleting a member function\n",
    "del obj.my_hidden_function\n",
    "\n",
    "# Attempting to access the function will raise an error\n",
    "# obj.my_hidden_function() # raises an error\n",
    "\n",
    "# Data Hiding\n",
    "class MyClass:\n",
    "    def __init__(self):\n",
    "        self.__hidden_data = \"This is hidden data.\"\n",
    "\n",
    "    def my_function(self):\n",
    "        print(self.__hidden_data)\n",
    "\n",
    "# Create an object of MyClass\n",
    "obj = MyClass()\n",
    "\n",
    "# Attempting to access the hidden data directly will raise an error\n",
    "# print(obj.__hidden_data) # raises an error\n",
    "\n"
   ]
  },
  {
   "cell_type": "markdown",
   "id": "815e1746",
   "metadata": {},
   "source": [
    "Please note that the above example is only for demonstration purpose, it's not the best way to achieve data hiding in python, it's only a weak form of data hiding and it can be accessed by using _className__dataName.\n",
    "\n",
    "\n",
    "\n"
   ]
  },
  {
   "cell_type": "markdown",
   "id": "3d71931f",
   "metadata": {},
   "source": [
    "# 9.Write a python program to demonstrate Function Overloading and Function Overriding.\n"
   ]
  },
  {
   "cell_type": "code",
   "execution_count": 2,
   "id": "9190844e",
   "metadata": {},
   "outputs": [
    {
     "name": "stdout",
     "output_type": "stream",
     "text": [
      "This is the original version of the function: 1\n",
      "This is the overloaded version of the function: 1 2\n",
      "This is the original version of the function: 1\n",
      "This is the overloaded version of the function: 1 2\n",
      "This is the overridden version of the function: 1 2 3\n"
     ]
    }
   ],
   "source": [
    "class MyParentClass:\n",
    "    def my_function(self, a, b=None):\n",
    "        if b is not None:\n",
    "            print(\"This is the overloaded version of the function:\", a, b)\n",
    "        else:\n",
    "            print(\"This is the original version of the function:\", a)\n",
    "\n",
    "class MyChildClass(MyParentClass):\n",
    "    def my_function(self, a, b=None, c=None):\n",
    "        if c is not None:\n",
    "            print(\"This is the overridden version of the function:\", a, b, c)\n",
    "        else:\n",
    "            super().my_function(a, b)\n",
    "\n",
    "# Create an object of MyParentClass\n",
    "parent_obj = MyParentClass()\n",
    "parent_obj.my_function(1)\n",
    "parent_obj.my_function(1, 2)\n",
    "\n",
    "# Create an object of MyChildClass\n",
    "child_obj = MyChildClass()\n",
    "child_obj.my_function(1)\n",
    "child_obj.my_function(1, 2)\n",
    "child_obj.my_function(1, 2, 3)\n"
   ]
  },
  {
   "cell_type": "markdown",
   "id": "c9ec8717",
   "metadata": {},
   "source": [
    "In the above example, the my_function method in the MyParentClass class has two versions, one with two arguments and one with one argument, the second version is the overloaded version of the first one. The MyChildClass class inherits from MyParentClass and overrides the my_function method by providing a third argument to the method. This is called function overriding.\n",
    "\n",
    "Please note that python is a dynamically typed language and the language itself doesn't have a built-in support for function overloading, the mechanism demonstrated above is a way to mimic function overloading."
   ]
  },
  {
   "cell_type": "markdown",
   "id": "90ccf691",
   "metadata": {},
   "source": [
    "# 10.Demonstrate Abstraction in python using a program."
   ]
  },
  {
   "cell_type": "code",
   "execution_count": 3,
   "id": "96b05a2e",
   "metadata": {},
   "outputs": [
    {
     "name": "stdout",
     "output_type": "stream",
     "text": [
      "Area of square:  25\n",
      "Area of circle:  153.86\n"
     ]
    }
   ],
   "source": [
    "from abc import ABC, abstractmethod\n",
    "\n",
    "class Shape(ABC):\n",
    "    @abstractmethod\n",
    "    def area(self):\n",
    "        pass\n",
    "\n",
    "class Square(Shape):\n",
    "    def __init__(self, side):\n",
    "        self.__side = side\n",
    "\n",
    "    def area(self):\n",
    "        return self.__side * self.__side\n",
    "\n",
    "class Circle(Shape):\n",
    "    def __init__(self, radius):\n",
    "        self.__radius = radius\n",
    "\n",
    "    def area(self):\n",
    "        return 3.14 * self.__radius * self.__radius\n",
    "\n",
    "s = Square(5)\n",
    "print(\"Area of square: \", s.area())\n",
    "\n",
    "c = Circle(7)\n",
    "print(\"Area of circle: \", c.area())\n"
   ]
  },
  {
   "cell_type": "markdown",
   "id": "7d8e7aa4",
   "metadata": {},
   "source": [
    "In the above example, the Shape class is an abstract class which has an abstract method area(). The Square and Circle classes inherit from the Shape class and provide an implementation for the area() method. The Square class calculates the area of a square and the Circle class calculates the area of a circle. This demonstrates how abstraction allows for the creation of a common interface for classes that have a similar behavior but different implementations.\n",
    "\n",
    "It's worth noting that in python, the abc module provides the ABC class and the abstractmethod decorator to define abstract classes and methods."
   ]
  },
  {
   "cell_type": "code",
   "execution_count": null,
   "id": "ebfedc28",
   "metadata": {},
   "outputs": [],
   "source": []
  }
 ],
 "metadata": {
  "kernelspec": {
   "display_name": "Python 3 (ipykernel)",
   "language": "python",
   "name": "python3"
  },
  "language_info": {
   "codemirror_mode": {
    "name": "ipython",
    "version": 3
   },
   "file_extension": ".py",
   "mimetype": "text/x-python",
   "name": "python",
   "nbconvert_exporter": "python",
   "pygments_lexer": "ipython3",
   "version": "3.9.13"
  }
 },
 "nbformat": 4,
 "nbformat_minor": 5
}
