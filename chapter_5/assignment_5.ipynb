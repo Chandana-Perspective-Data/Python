{
 "cells": [
  {
   "cell_type": "markdown",
   "id": "09982573",
   "metadata": {},
   "source": [
    "# 5.B.1: ASSIGNMENT\n",
    "\n",
    "PROBLEM STATEMENT\n",
    "\n",
    "Create a deck of cards class. Internally, the deck of cards should use another class, a card class. Your requirements are:\n",
    "\n",
    "The Deck class should have a deal method to deal a single card from the deck\n",
    "\n",
    "After a card is dealt, it is removed from the deck.\n",
    "\n",
    "There should be a shuffle method which makes sure the deck of cards has all 52 cards and then rearranges them randomly.\n",
    "\n",
    "The Card class should have a suit (Hearts, Diamonds, Clubs, Spades) and a value (A,2,3,4,5,6,7,8,9,10,J,Q,K)\n"
   ]
  },
  {
   "cell_type": "code",
   "execution_count": 1,
   "id": "7785397c",
   "metadata": {},
   "outputs": [
    {
     "name": "stdout",
     "output_type": "stream",
     "text": [
      "[A of Hearts, 2 of Hearts, 3 of Hearts, 4 of Hearts, 5 of Hearts, 6 of Hearts, 7 of Hearts, 8 of Hearts, 9 of Hearts, 10 of Hearts, J of Hearts, Q of Hearts, K of Hearts, A of Diamonds, 2 of Diamonds, 3 of Diamonds, 4 of Diamonds, 5 of Diamonds, 6 of Diamonds, 7 of Diamonds, 8 of Diamonds, 9 of Diamonds, 10 of Diamonds, J of Diamonds, Q of Diamonds, K of Diamonds, A of Clubs, 2 of Clubs, 3 of Clubs, 4 of Clubs, 5 of Clubs, 6 of Clubs, 7 of Clubs, 8 of Clubs, 9 of Clubs, 10 of Clubs, J of Clubs, Q of Clubs, K of Clubs, A of Spades, 2 of Spades, 3 of Spades, 4 of Spades, 5 of Spades, 6 of Spades, 7 of Spades, 8 of Spades, 9 of Spades, 10 of Spades, J of Spades, Q of Spades, K of Spades]\n",
      "5 of Clubs\n"
     ]
    }
   ],
   "source": [
    "import random\n",
    "\n",
    "class Card:\n",
    "    def __init__(self, suit, value):\n",
    "        self.suit = suit\n",
    "        self.value = value\n",
    "        \n",
    "    def __repr__(self):\n",
    "        return \"{} of {}\".format(self.value, self.suit)\n",
    "\n",
    "class Deck:\n",
    "    def __init__(self):\n",
    "        self.cards = []\n",
    "        for suit in [\"Hearts\", \"Diamonds\", \"Clubs\", \"Spades\"]:\n",
    "            for value in [\"A\", \"2\", \"3\", \"4\", \"5\", \"6\", \"7\", \"8\", \"9\", \"10\", \"J\", \"Q\", \"K\"]:\n",
    "                self.cards.append(Card(suit, value))\n",
    "                \n",
    "    def shuffle(self):\n",
    "        random.shuffle(self.cards)\n",
    "        \n",
    "    def deal(self):\n",
    "        if len(self.cards) == 0:\n",
    "            return None\n",
    "        else:\n",
    "            return self.cards.pop()\n",
    "\n",
    "        \n",
    "deck = Deck()\n",
    "print(deck.cards)  # prints a list of all 52 cards in the deck\n",
    "deck.shuffle()     # shuffles the deck randomly\n",
    "card = deck.deal()  # deals a single card from the top of the deck\n",
    "print(card)        # prints the card that was dealt\n"
   ]
  },
  {
   "cell_type": "markdown",
   "id": "5858387f",
   "metadata": {},
   "source": [
    "                                      (or)"
   ]
  },
  {
   "cell_type": "code",
   "execution_count": 2,
   "id": "20554f46",
   "metadata": {},
   "outputs": [
    {
     "name": "stdout",
     "output_type": "stream",
     "text": [
      "The top card of the deck is: 8 of Clubs\n"
     ]
    }
   ],
   "source": [
    "# 5.B.1: ASSIGNMENT\n",
    "\n",
    "import random\n",
    "\n",
    "class Card:\n",
    "    def __init__(self, suit, value):\n",
    "        self.suit = suit\n",
    "        self.value = value\n",
    "\n",
    "    def __str__(self):\n",
    "        return \"{} of {}\".format(self.value, self.suit)\n",
    "\n",
    "class Deck:\n",
    "    def __init__(self):\n",
    "        self.cards = []\n",
    "        for suit in [\"Hearts\", \"Diamonds\", \"Clubs\", \"Spades\"]:\n",
    "            for value in [\"A\", \"2\", \"3\", \"4\", \"5\", \"6\", \"7\", \"8\", \"9\", \"10\", \"J\", \"Q\", \"K\"]:\n",
    "                self.cards.append(Card(suit, value))\n",
    "    \n",
    "    def shuffle(self):\n",
    "        random.shuffle(self.cards)\n",
    "\n",
    "    def deal(self):\n",
    "        if len(self.cards) > 0:\n",
    "            return self.cards.pop()\n",
    "        else:\n",
    "            return None\n",
    "\n",
    "deck = Deck()\n",
    "deck.shuffle()\n",
    "\n",
    "card = deck.deal()\n",
    "if card:\n",
    "    print(\"The top card of the deck is:\", card)\n",
    "else:\n",
    "    print(\"The deck is empty.\")\n"
   ]
  },
  {
   "cell_type": "code",
   "execution_count": null,
   "id": "1c47c236",
   "metadata": {},
   "outputs": [],
   "source": []
  }
 ],
 "metadata": {
  "kernelspec": {
   "display_name": "Python 3 (ipykernel)",
   "language": "python",
   "name": "python3"
  },
  "language_info": {
   "codemirror_mode": {
    "name": "ipython",
    "version": 3
   },
   "file_extension": ".py",
   "mimetype": "text/x-python",
   "name": "python",
   "nbconvert_exporter": "python",
   "pygments_lexer": "ipython3",
   "version": "3.9.13"
  }
 },
 "nbformat": 4,
 "nbformat_minor": 5
}
