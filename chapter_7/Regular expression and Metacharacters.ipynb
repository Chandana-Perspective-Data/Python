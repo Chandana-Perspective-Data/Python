{
 "cells": [
  {
   "cell_type": "markdown",
   "id": "f0954674",
   "metadata": {},
   "source": [
    "# Regular Expressions OR regeX\n",
    "\n",
    "module name : re : match,search,findall\n",
    "\n",
    "Regular Expression are used to the find the some pattern in the given string\n",
    "\n",
    "The following methods belong to the 're' module that are used in the regular expressions:\n",
    "\n",
    "1) The match() : method searches in the beginning of the string and if the matching string is found, it returns an object that contains the resultant string, otherwise it returns None. We can access the string from the returned object using group() method.\n",
    "\n",
    "2) The search() : method searches the string from beginning till the end and returns the first occurrence of the matching string, otherwise it returns None. We can use group() method to retrieve the string from the object returned by this method.\n",
    "\n",
    "3) The findall() : method searches the string from beginning till the end and returns all occurrences of the matching string in the form of a list object. If the matching strings are not found, then it returns an empty list. We can retrieve the resultant strings from the list using a for loop.\n",
    "\n",
    "4) The split() : method splits the string according to the regular expression and the resultant pieces are returned as a list. If there are no string pieces, then it returns an empty list. We can retrieve the resultant string pieces from the list using a for loop.\n",
    "\n",
    "5) The sub() : method substitutes (or replaces) new strings in the place of existing strings. After substitution, the main string is returned by this method.\n"
   ]
  },
  {
   "cell_type": "markdown",
   "id": "6c99be3d",
   "metadata": {},
   "source": [
    "# match()"
   ]
  },
  {
   "cell_type": "code",
   "execution_count": 2,
   "id": "b8a14510",
   "metadata": {},
   "outputs": [
    {
     "name": "stdout",
     "output_type": "stream",
     "text": [
      "<re.Match object; span=(0, 6), match='inform'>\n"
     ]
    }
   ],
   "source": [
    "import re\n",
    "s=\"inform him with the latest information\"\n",
    "print(re.match(\"inform\",s))"
   ]
  },
  {
   "cell_type": "code",
   "execution_count": 3,
   "id": "1024e79d",
   "metadata": {},
   "outputs": [
    {
     "name": "stdout",
     "output_type": "stream",
     "text": [
      "None\n"
     ]
    }
   ],
   "source": [
    "import re\n",
    "s=\"inform him with the latest information\"\n",
    "print(re.match(\"hello\",s))"
   ]
  },
  {
   "cell_type": "code",
   "execution_count": 4,
   "id": "0ab92929",
   "metadata": {},
   "outputs": [
    {
     "name": "stdout",
     "output_type": "stream",
     "text": [
      "None\n"
     ]
    }
   ],
   "source": [
    "import re\n",
    "s=\"inform him with the latest information\"\n",
    "print(re.match(\"zoom\",s))"
   ]
  },
  {
   "cell_type": "code",
   "execution_count": 5,
   "id": "68742fc3",
   "metadata": {},
   "outputs": [
    {
     "name": "stdout",
     "output_type": "stream",
     "text": [
      "None\n"
     ]
    }
   ],
   "source": [
    "import re\n",
    "s=\"inform him with the latest information\"\n",
    "print(re.match(\"with\",s))"
   ]
  },
  {
   "cell_type": "markdown",
   "id": "ecf0c522",
   "metadata": {},
   "source": [
    "# search()"
   ]
  },
  {
   "cell_type": "code",
   "execution_count": 6,
   "id": "37c2d800",
   "metadata": {},
   "outputs": [
    {
     "name": "stdout",
     "output_type": "stream",
     "text": [
      "<re.Match object; span=(0, 4), match='info'>\n",
      "<re.Match object; span=(7, 10), match='him'>\n",
      "<re.Match object; span=(27, 38), match='information'>\n",
      "None\n"
     ]
    }
   ],
   "source": [
    "import re\n",
    "s=\"inform him with the latest information\"\n",
    "print(re.search(\"info\",s))\n",
    "\n",
    "\n",
    "import re\n",
    "s=\"inform him with the latest information\"\n",
    "print(re.search(\"him\",s))\n",
    "\n",
    "\n",
    "import re\n",
    "s=\"inform him with the latest information\"\n",
    "print(re.search(\"information\",s))\n",
    "\n",
    "\n",
    "import re\n",
    "s=\"inform him with the latest information\"\n",
    "print(re.search(\"zoom\",s))\n"
   ]
  },
  {
   "cell_type": "markdown",
   "id": "cc12576a",
   "metadata": {},
   "source": [
    "# findall()"
   ]
  },
  {
   "cell_type": "code",
   "execution_count": 7,
   "id": "68cbeddd",
   "metadata": {},
   "outputs": [
    {
     "name": "stdout",
     "output_type": "stream",
     "text": [
      "['inform', 'inform', 'inform']\n",
      "3\n"
     ]
    }
   ],
   "source": [
    "import re\n",
    "s=\"inform him with the latest information  information \"\n",
    "print(re.findall(\"inform\",s))\n",
    "\n",
    "print(len(re.findall(\"inform\",s)))  "
   ]
  },
  {
   "cell_type": "code",
   "execution_count": 8,
   "id": "7468cc5c",
   "metadata": {},
   "outputs": [
    {
     "name": "stdout",
     "output_type": "stream",
     "text": [
      "[]\n",
      "0\n"
     ]
    }
   ],
   "source": [
    "import re\n",
    "s=\"inform him with the latest information\"\n",
    "print(re.findall(\"zoom\",s))\n",
    "\n",
    "print(len(re.findall(\"zoom\",s)))   # 1 # 0"
   ]
  },
  {
   "cell_type": "code",
   "execution_count": 9,
   "id": "3301ceba",
   "metadata": {},
   "outputs": [
    {
     "data": {
      "text/plain": [
       "<re.Match object; span=(0, 2), match='as'>"
      ]
     },
     "execution_count": 9,
     "metadata": {},
     "output_type": "execute_result"
    }
   ],
   "source": [
    "import re\n",
    "re.search(r'..',\"ashsdgsrj\")"
   ]
  },
  {
   "cell_type": "markdown",
   "id": "649b6061",
   "metadata": {},
   "source": [
    "# sub()\n",
    "\n",
    " "
   ]
  },
  {
   "cell_type": "code",
   "execution_count": 10,
   "id": "a58a0979",
   "metadata": {},
   "outputs": [
    {
     "name": "stdout",
     "output_type": "stream",
     "text": [
      "inform her with the latest information\n"
     ]
    }
   ],
   "source": [
    "import re\n",
    "s=\"inform him with the latest information\"\n",
    "print(re.sub(\"him\",\"her\",s))"
   ]
  },
  {
   "cell_type": "markdown",
   "id": "4202842c",
   "metadata": {},
   "source": [
    "# split()"
   ]
  },
  {
   "cell_type": "code",
   "execution_count": 11,
   "id": "34253827",
   "metadata": {},
   "outputs": [
    {
     "name": "stdout",
     "output_type": "stream",
     "text": [
      "['hi', 'hello', 'python']\n"
     ]
    }
   ],
   "source": [
    "s=\"hi hello python\"\n",
    "print(s.split())"
   ]
  },
  {
   "cell_type": "markdown",
   "id": "3c6e8d2c",
   "metadata": {},
   "source": [
    "# Regex basic syntaxes : Quantifires"
   ]
  },
  {
   "cell_type": "code",
   "execution_count": 12,
   "id": "c555a211",
   "metadata": {},
   "outputs": [
    {
     "ename": "SyntaxError",
     "evalue": "invalid syntax (3731373986.py, line 1)",
     "output_type": "error",
     "traceback": [
      "\u001b[1;36m  File \u001b[1;32m\"C:\\Users\\91852\\AppData\\Local\\Temp\\ipykernel_15448\\3731373986.py\"\u001b[1;36m, line \u001b[1;32m1\u001b[0m\n\u001b[1;33m    .  : Matches any one character\u001b[0m\n\u001b[1;37m    ^\u001b[0m\n\u001b[1;31mSyntaxError\u001b[0m\u001b[1;31m:\u001b[0m invalid syntax\n"
     ]
    }
   ],
   "source": [
    "\n",
    ".  : Matches any one character\n",
    "\n",
    "^  : Matches from the begining of the string\n",
    "\n",
    "$  : Matches from the end of the string\n",
    "\n",
    "*  : Matches zero or more repetitions of the previous character\n",
    "\n",
    "+  : Matches one or more repetitions of the previous character\n",
    "\n",
    "?  : Matches zero or one repetitions of the previous character\n",
    "\n",
    "{m}  : Matches m repetitions of the previous character\n",
    "\n",
    "{m,n}:  Matches any number from m to n of the previous character\n",
    "\n",
    "\\  : escape character\n",
    "\n",
    "[]  : A set of characters. eg:[A-Z] will match all latters from A to Z\n",
    "\n",
    "()  : Mathes the patter specified within the prerenthesis only\n",
    "\n",
    "\n"
   ]
  },
  {
   "cell_type": "markdown",
   "id": "63900c11",
   "metadata": {},
   "source": [
    "# Regex special characters"
   ]
  },
  {
   "cell_type": "code",
   "execution_count": 13,
   "id": "ecb876ec",
   "metadata": {},
   "outputs": [
    {
     "ename": "SyntaxError",
     "evalue": "unexpected character after line continuation character (2068168423.py, line 1)",
     "output_type": "error",
     "traceback": [
      "\u001b[1;36m  File \u001b[1;32m\"C:\\Users\\91852\\AppData\\Local\\Temp\\ipykernel_15448\\2068168423.py\"\u001b[1;36m, line \u001b[1;32m1\u001b[0m\n\u001b[1;33m    \\d  : A digit\u001b[0m\n\u001b[1;37m     ^\u001b[0m\n\u001b[1;31mSyntaxError\u001b[0m\u001b[1;31m:\u001b[0m unexpected character after line continuation character\n"
     ]
    }
   ],
   "source": [
    "\\d  : A digit   \n",
    "\n",
    "\\D  : Represents any character,but not digits ( Opposite to \\d )\n",
    "\n",
    "\\s  : Represents white space \n",
    "\n",
    "\\S  : Represents any charactor not white space\n",
    "\n",
    "\\w  : Represents any word character\n",
    "\n",
    "\\W  : Represents any word character but not word character\n",
    "\n",
    "\\b  : Represents a space around words\n",
    "\n",
    "\\A  : Matches only at the start of the string \n",
    "\n",
    "\\Z  : Matches only at the end of the string"
   ]
  },
  {
   "cell_type": "code",
   "execution_count": 21,
   "id": "f23c5fd5",
   "metadata": {},
   "outputs": [
    {
     "ename": "SyntaxError",
     "evalue": "unexpected character after line continuation character (363698854.py, line 1)",
     "output_type": "error",
     "traceback": [
      "\u001b[1;36m  File \u001b[1;32m\"C:\\Users\\91852\\AppData\\Local\\Temp\\ipykernel_15448\\363698854.py\"\u001b[1;36m, line \u001b[1;32m1\u001b[0m\n\u001b[1;33m    \\d:\u001b[0m\n\u001b[1;37m     ^\u001b[0m\n\u001b[1;31mSyntaxError\u001b[0m\u001b[1;31m:\u001b[0m unexpected character after line continuation character\n"
     ]
    }
   ],
   "source": [
    "\\d:\n",
    "Example: \"123456\" matches \"\\d+\" (matches one or more digits)\n",
    "Explanation: Matches any digit character (0-9).\n",
    "\n",
    "\\D:\n",
    "Example: \"Hello 123\" matches \"\\D+\" (matches one or more non-digit characters)\n",
    "Explanation: Matches any character that is not a digit (opposite of \\d).\n",
    "\n",
    "\\s:\n",
    "Example: \"Hello\\tworld\" matches \"\\s+\" (matches one or more white space characters)\n",
    "Explanation: Matches any white space character including space, tab, newline, and so on.\n",
    "\n",
    "\\S:\n",
    "Example: \"Hello world\" matches \"\\S+\" (matches one or more non-white space characters)\n",
    "Explanation: Matches any character that is not a white space (opposite of \\s).\n",
    "\n",
    "\\w:\n",
    "Example: \"Hello_world\" matches \"\\w+\" (matches one or more word characters)\n",
    "Explanation: Matches any word character including letters, digits, and underscores.\n",
    "\n",
    "\\W:\n",
    "Example: \"Hello world!\" matches \"\\W+\" (matches one or more non-word characters)\n",
    "Explanation: Matches any character that is not a word character (opposite of \\w).\n",
    "\n",
    "\\b:\n",
    "Example: \"Hello world\" matches \"\\bworld\\b\" (matches the word \"world\" surrounded by word boundaries)\n",
    "Explanation: Matches a word boundary, which is a transition from a word character to a non-word character, or vice versa.\n",
    "\n",
    "\\A:\n",
    "Example: \"Hello world\" matches \"\\AHello\" (matches the word \"Hello\" only if it is at the start of the string)\n",
    "Explanation: Matches the start of the string, regardless of any newline characters before it.\n",
    "\n",
    "\\Z:\n",
    "Example: \"Hello world\\n\" matches \"world\\Z\" (matches the word \"world\" only if it is at the end of the string)\n",
    "Explanation: Matches the end of the string, regardless of any newline characters after it.\n",
    "\n",
    "\n",
    "\n"
   ]
  },
  {
   "cell_type": "code",
   "execution_count": null,
   "id": "96ad5eb9",
   "metadata": {},
   "outputs": [],
   "source": []
  },
  {
   "cell_type": "markdown",
   "id": "0139868d",
   "metadata": {},
   "source": [
    "# . : Matches any character (except newline character). For example:"
   ]
  },
  {
   "cell_type": "code",
   "execution_count": 12,
   "id": "23971ff4",
   "metadata": {},
   "outputs": [
    {
     "name": "stdout",
     "output_type": "stream",
     "text": [
      "['r M', 'rac', 'rss', 'r E', 'res']\n"
     ]
    }
   ],
   "source": [
    "import re\n",
    "text=\"Examples for Meta Characterss in Regular Expressions\"\n",
    "result=re.findall(\"r..\",text)\n",
    "print(result)"
   ]
  },
  {
   "cell_type": "code",
   "execution_count": 14,
   "id": "c4f9f5bc",
   "metadata": {},
   "outputs": [
    {
     "name": "stdout",
     "output_type": "stream",
     "text": [
      "['hello']\n"
     ]
    }
   ],
   "source": [
    "import re\n",
    "\n",
    "text = \"hello world\"\n",
    "pattern = \"he..o\"\n",
    "result = re.findall(pattern, text)\n",
    "print(result)\n"
   ]
  },
  {
   "cell_type": "markdown",
   "id": "e2ce295b",
   "metadata": {},
   "source": [
    "# ^: Matches the starting position within the string. For example:"
   ]
  },
  {
   "cell_type": "code",
   "execution_count": 15,
   "id": "42e752f2",
   "metadata": {},
   "outputs": [
    {
     "name": "stdout",
     "output_type": "stream",
     "text": [
      "['Examples']\n"
     ]
    }
   ],
   "source": [
    "import re\n",
    "text=\"Examples for Meta Characters in Regular Expressions\"\n",
    "result=re.findall(\"^Examples\",text)\n",
    "print(result)"
   ]
  },
  {
   "cell_type": "code",
   "execution_count": 15,
   "id": "bbc52666",
   "metadata": {},
   "outputs": [
    {
     "name": "stdout",
     "output_type": "stream",
     "text": [
      "[]\n"
     ]
    }
   ],
   "source": [
    "import re\n",
    "\n",
    "text = \"hello world\"\n",
    "pattern = \"^h.*o$\"\n",
    "result = re.findall(pattern, text)\n",
    "print(result)"
   ]
  },
  {
   "cell_type": "markdown",
   "id": "86528d10",
   "metadata": {},
   "source": [
    "# $: Matches the ending position of the string. For example:"
   ]
  },
  {
   "cell_type": "code",
   "execution_count": 19,
   "id": "e04ed534",
   "metadata": {},
   "outputs": [
    {
     "name": "stdout",
     "output_type": "stream",
     "text": [
      "['ions']\n"
     ]
    }
   ],
   "source": [
    "import re\n",
    "text=\"Examples for Meta Characters in Regular Expressions\"\n",
    "result=re.findall(\"ions$\",text)\n",
    "print(result)"
   ]
  },
  {
   "cell_type": "code",
   "execution_count": 16,
   "id": "5c98f28f",
   "metadata": {},
   "outputs": [
    {
     "name": "stdout",
     "output_type": "stream",
     "text": [
      "[]\n"
     ]
    }
   ],
   "source": [
    "import re\n",
    "\n",
    "text = \"hello world\"\n",
    "pattern = \"^.*o$\"\n",
    "result = re.findall(pattern, text)\n",
    "print(result)\n"
   ]
  },
  {
   "cell_type": "markdown",
   "id": "3326dd4a",
   "metadata": {},
   "source": [
    "# *: Matches zero or more occurrences of the preceding expression. For example:"
   ]
  },
  {
   "cell_type": "code",
   "execution_count": 21,
   "id": "5c86cf65",
   "metadata": {},
   "outputs": [
    {
     "name": "stdout",
     "output_type": "stream",
     "text": [
      "['E', '', '', '', '', '', '', '', '', '', '', '', '', '', '', '', '', '', '', '', '', '', '', '', '', '', '', '', '', '', '', '', '', '', '', '', '', '', '', '', 'E', '', '', '', '', '', '', '', '', '', '', '']\n"
     ]
    }
   ],
   "source": [
    "import re\n",
    "text=\"Examples for Meta Characters in Regular Expressions\"\n",
    "result=re.findall(\"E*\",text)\n",
    "print(result)"
   ]
  },
  {
   "cell_type": "code",
   "execution_count": 22,
   "id": "e6facf88",
   "metadata": {},
   "outputs": [
    {
     "name": "stdout",
     "output_type": "stream",
     "text": [
      "['e', 'ee', 'e', 'ee']\n"
     ]
    }
   ],
   "source": [
    "import re\n",
    "text=\"Examples for Meta Characters in Regular Expressions\"\n",
    "text1=\"friend is need is a friend in deed\"\n",
    "result=re.findall(\"ee*\",text1)\n",
    "print(result)"
   ]
  },
  {
   "cell_type": "code",
   "execution_count": 17,
   "id": "1f46c10f",
   "metadata": {},
   "outputs": [
    {
     "name": "stdout",
     "output_type": "stream",
     "text": [
      "['hello wo']\n"
     ]
    }
   ],
   "source": [
    "import re\n",
    "\n",
    "text = \"hello world\"\n",
    "pattern = \"he.*o\"\n",
    "result = re.findall(pattern, text)\n",
    "print(result)\n"
   ]
  },
  {
   "cell_type": "markdown",
   "id": "7882e344",
   "metadata": {},
   "source": [
    "# +: Matches one or more occurrences of the preceding expression. For example:"
   ]
  },
  {
   "cell_type": "code",
   "execution_count": 14,
   "id": "d64d2db4",
   "metadata": {},
   "outputs": [
    {
     "name": "stdout",
     "output_type": "stream",
     "text": [
      "['a', 'a', 'a', 'a', 'a']\n"
     ]
    }
   ],
   "source": [
    "import re\n",
    "text=\"Examples for Meta Characters in Regular Expressions\"\n",
    "result=re.findall(\"a+\",text)\n",
    "print(result)"
   ]
  },
  {
   "cell_type": "code",
   "execution_count": 17,
   "id": "9f21b843",
   "metadata": {},
   "outputs": [
    {
     "name": "stdout",
     "output_type": "stream",
     "text": [
      "['ie', 'ie']\n"
     ]
    }
   ],
   "source": [
    "import re\n",
    "text=\"Examples for Meta Characters in Regular Expressions\"\n",
    "text1=\"friend is need is a friend in deed\"\n",
    "result=re.findall(\"ie+\",text1)\n",
    "print(result)"
   ]
  },
  {
   "cell_type": "code",
   "execution_count": 27,
   "id": "74885f5e",
   "metadata": {},
   "outputs": [
    {
     "name": "stdout",
     "output_type": "stream",
     "text": [
      "['hello wo']\n"
     ]
    }
   ],
   "source": [
    "import re\n",
    "\n",
    "text = \"hello world\"\n",
    "pattern = \"he..+o\"\n",
    "result = re.findall(pattern, text)\n",
    "print(result)\n"
   ]
  },
  {
   "cell_type": "markdown",
   "id": "af0d1300",
   "metadata": {},
   "source": [
    "# ?: Matches zero or one occurrence of the preceding expression. For example:"
   ]
  },
  {
   "cell_type": "code",
   "execution_count": 33,
   "id": "b6b6f894",
   "metadata": {},
   "outputs": [
    {
     "name": "stdout",
     "output_type": "stream",
     "text": [
      "[]\n"
     ]
    }
   ],
   "source": [
    "import re\n",
    "\n",
    "text = \"hello world\"\n",
    "pattern = \"he.?o\"\n",
    "result = re.findall(pattern, text)\n",
    "print(result)\n"
   ]
  },
  {
   "cell_type": "code",
   "execution_count": 40,
   "id": "c6cecf08",
   "metadata": {},
   "outputs": [
    {
     "name": "stdout",
     "output_type": "stream",
     "text": [
      "['lo', 'wo', 'io']\n"
     ]
    }
   ],
   "source": [
    "import re\n",
    "\n",
    "text = \"hello world  ioi\"\n",
    "pattern = \".?o\"\n",
    "result = re.findall(pattern, text)\n",
    "print(result)\n"
   ]
  },
  {
   "cell_type": "markdown",
   "id": "fdf5f9d2",
   "metadata": {},
   "source": [
    "# {}: Matches exactly the specified number of occurrences of the preceding expression. For example:"
   ]
  },
  {
   "cell_type": "code",
   "execution_count": 44,
   "id": "eeae560b",
   "metadata": {},
   "outputs": [
    {
     "name": "stdout",
     "output_type": "stream",
     "text": [
      "['ee', 'ee']\n"
     ]
    }
   ],
   "source": [
    "import re\n",
    "text=\"Examples for Meta Characters in Regular Expressions\"\n",
    "text1=\"friend is need is a friend in deed\"\n",
    "result=re.findall(\"e{2}\",text1)\n",
    "print(result)"
   ]
  },
  {
   "cell_type": "code",
   "execution_count": 45,
   "id": "3181ec78",
   "metadata": {},
   "outputs": [
    {
     "name": "stdout",
     "output_type": "stream",
     "text": [
      "['e', 'e', 'e', 'e', 'e', 'e']\n"
     ]
    }
   ],
   "source": [
    "import re\n",
    "text=\"Examples for Meta Characters in Regular Expressions\"\n",
    "text1=\"friend is need is a friend in deed\"\n",
    "result=re.findall(\"e{1}\",text1)\n",
    "print(result)"
   ]
  },
  {
   "cell_type": "code",
   "execution_count": 20,
   "id": "18fd9fc0",
   "metadata": {},
   "outputs": [
    {
     "name": "stdout",
     "output_type": "stream",
     "text": [
      "['hello']\n"
     ]
    }
   ],
   "source": [
    "import re\n",
    "\n",
    "text = \"hello world\"\n",
    "pattern = \"he.{2}o\"\n",
    "result = re.findall(pattern, text)\n",
    "print(result)\n"
   ]
  },
  {
   "cell_type": "markdown",
   "id": "a9bb8734",
   "metadata": {},
   "source": [
    "# special character\n"
   ]
  },
  {
   "cell_type": "code",
   "execution_count": 46,
   "id": "bbcaed07",
   "metadata": {},
   "outputs": [
    {
     "name": "stdout",
     "output_type": "stream",
     "text": [
      "[' ', ' ', ' ', ' ', ' ', ' ']\n"
     ]
    }
   ],
   "source": [
    "#\\s # it will writen spaces\n",
    "import re\n",
    "text=\"Examples for Meta Characters in Regular Expressions\"\n",
    "text1=\"friend is need is a friend in deed\"\n",
    "result=re.findall(\"\\s\",text)\n",
    "print(result)"
   ]
  },
  {
   "cell_type": "code",
   "execution_count": 27,
   "id": "226008a3",
   "metadata": {},
   "outputs": [
    {
     "name": "stdout",
     "output_type": "stream",
     "text": [
      "['f', 'r', 'i', 'e', 'n', 'd', 'i', 's', 'n', 'e', 'e', 'd', 'i', 's', 'a', 'f', 'r', 'i', 'e', 'n', 'd', 'i', 'n', 'd', 'e', 'e', 'd']\n"
     ]
    }
   ],
   "source": [
    "# \\S # without space\n",
    "import re\n",
    "text=\"Examples for Meta Characters in Regular Expressions\"\n",
    "text1=\"friend is need is a friend in deed\"\n",
    "result=re.findall(\"\\S\",text1)\n",
    "print(result)"
   ]
  },
  {
   "cell_type": "code",
   "execution_count": 28,
   "id": "feaaac38",
   "metadata": {},
   "outputs": [
    {
     "name": "stdout",
     "output_type": "stream",
     "text": [
      "['1', '2', '3']\n"
     ]
    }
   ],
   "source": [
    "# \\d  # write the digit given string\n",
    "import re\n",
    "text=\"Examples for Meta Characters in Regular Expressions\"\n",
    "text1=\" 123 friend is need is a friend in deed\"\n",
    "result=re.findall(\"\\d\",text1)\n",
    "print(result)"
   ]
  },
  {
   "cell_type": "code",
   "execution_count": 30,
   "id": "68371ed7",
   "metadata": {},
   "outputs": [
    {
     "name": "stdout",
     "output_type": "stream",
     "text": [
      "[' ', 'f', 'r', 'i', 'e', 'n', 'd', ' ', 'i', 's', ' ', 'n', 'e', 'e', 'd', ' ', 'i', 's', ' ', 'a', ' ', 'f', 'r', 'i', 'e', 'n', 'd', ' ', 'i', 'n', ' ', 'd', 'e', 'e', 'd']\n"
     ]
    }
   ],
   "source": [
    "# \\D # inculding space  # it will not inculde number\n",
    "import re\n",
    "text=\"Examples for Meta Characters in Regular Expressions\"\n",
    "text1=\"123 friend is need is a friend in deed\"\n",
    "result=re.findall(\"\\D\",text1)\n",
    "print(result)"
   ]
  },
  {
   "cell_type": "code",
   "execution_count": 32,
   "id": "81f5bd90",
   "metadata": {},
   "outputs": [
    {
     "name": "stdout",
     "output_type": "stream",
     "text": [
      "['E', 'x', 'a', 'm', 'p', 'l', 'e', 's', 'f', 'o', 'r', 'M', 'e', 't', 'a', 'C', 'h', 'a', 'r', 'a', 'c', 't', 'e', 'r', 's', 'i', 'n', 'R', 'e', 'g', 'u', 'l', 'a', 'r', 'E', 'x', 'p', 'r', 'e', 's', 's', 'i', 'o', 'n', 's']\n"
     ]
    }
   ],
   "source": [
    "# \\w  # expect space\n",
    "import re\n",
    "text=\"Examples for Meta Characters in Regular Expressions\"\n",
    "text1=\"friend is need is a friend in deed\"\n",
    "result=re.findall(\"\\w\",text)\n",
    "print(result)"
   ]
  },
  {
   "cell_type": "code",
   "execution_count": 39,
   "id": "8ae034e5",
   "metadata": {},
   "outputs": [
    {
     "name": "stdout",
     "output_type": "stream",
     "text": [
      "['123']\n"
     ]
    }
   ],
   "source": [
    "import re\n",
    "text=\"Examples for Meta Characters in Regular Expressions\"\n",
    "text1=\"123 friend is need is a friend in deed\"\n",
    "result=re.findall(\"[0-9][0-9][0-9]\",text1)\n",
    "print(result)"
   ]
  },
  {
   "cell_type": "code",
   "execution_count": 47,
   "id": "986aa63d",
   "metadata": {},
   "outputs": [
    {
     "name": "stdout",
     "output_type": "stream",
     "text": [
      "['f', 'r', 'i', 'e', 'n', 'd', 'i', 's', 'n', 'e', 'e', 'd', 'i', 's', 'a', 'f', 'r', 'i', 'e', 'n', 'd', 'i', 'n', 'd', 'e', 'e', 'd']\n"
     ]
    }
   ],
   "source": [
    "import re\n",
    "text=\"Examples for Meta Characters in Regular Expressions\"\n",
    "text1=\"123 friend is need is a friend in deed\"\n",
    "result=re.findall(\"[a-z]\",text1)\n",
    "print(result)"
   ]
  },
  {
   "cell_type": "code",
   "execution_count": 44,
   "id": "e6ecfab2",
   "metadata": {},
   "outputs": [
    {
     "name": "stdout",
     "output_type": "stream",
     "text": [
      "['Expressions']\n"
     ]
    }
   ],
   "source": [
    "# \\Z\n",
    "text=\"Examples for Meta Characters in Regular Expressions\"\n",
    "result=re.findall(\"Expressions\\Z\",text)\n",
    "print(result)"
   ]
  },
  {
   "cell_type": "code",
   "execution_count": 48,
   "id": "91d7fe0e",
   "metadata": {},
   "outputs": [
    {
     "name": "stdout",
     "output_type": "stream",
     "text": [
      "[]\n",
      "No match\n"
     ]
    }
   ],
   "source": [
    "import re\n",
    "\n",
    "txt = \"Examples for Meta Characters in Regular Expressions\"\n",
    "\n",
    "#Check if the string ends with \"Expressions\":\n",
    "\n",
    "x = re.findall(\"Examples\\Z\", txt)\n",
    "\n",
    "print(x)\n",
    "\n",
    "if x:\n",
    "  print(\"Yes, there is a match!\")\n",
    "else:\n",
    "  print(\"No match\")\n"
   ]
  },
  {
   "cell_type": "code",
   "execution_count": 49,
   "id": "167ec7f7",
   "metadata": {},
   "outputs": [
    {
     "name": "stdout",
     "output_type": "stream",
     "text": [
      "['Examples']\n"
     ]
    }
   ],
   "source": [
    "# \\A\n",
    "text=\"Examples for Meta Characters in Regular Expressions\"\n",
    "result=re.findall(\"\\AExamples\",text)\n",
    "print(result)"
   ]
  },
  {
   "cell_type": "code",
   "execution_count": 49,
   "id": "358b75cc",
   "metadata": {},
   "outputs": [
    {
     "name": "stdout",
     "output_type": "stream",
     "text": [
      "[]\n",
      "No match\n"
     ]
    }
   ],
   "source": [
    "import re\n",
    "\n",
    "txt = \"Examples for Meta Characters in Regular Expressions\"\n",
    "\n",
    "#Check if the string starts with \"The\":\n",
    "\n",
    "x = re.findall(\"\\AMeta\", txt)\n",
    "\n",
    "print(x)\n",
    "\n",
    "if x:\n",
    "  print(\"Yes, there is a match!\")\n",
    "else:\n",
    "  print(\"No match\")"
   ]
  },
  {
   "cell_type": "code",
   "execution_count": 22,
   "id": "9c56b03a",
   "metadata": {},
   "outputs": [
    {
     "name": "stdout",
     "output_type": "stream",
     "text": [
      "Matched digits: 123\n",
      "Matched non-digits: Hello \n",
      "Matched white space:  \n",
      "Matched non-white space: Hello\n",
      "Matched word characters: Hello\n",
      "Matched non-word characters:  \n",
      "Matched word surrounded by word boundaries: world\n",
      "Matched start of string: Hello\n",
      "No end of string match found.\n"
     ]
    }
   ],
   "source": [
    "import re\n",
    "\n",
    "text = \"Hello 123 world!\"\n",
    "\n",
    "# \\d\n",
    "match = re.search(\"\\d+\", text)\n",
    "if match:\n",
    "    print(\"Matched digits:\", match.group())\n",
    "else:\n",
    "    print(\"No digit match found.\")\n",
    "\n",
    "# \\D\n",
    "match = re.search(\"\\D+\", text)\n",
    "if match:\n",
    "    print(\"Matched non-digits:\", match.group())\n",
    "else:\n",
    "    print(\"No non-digit match found.\")\n",
    "\n",
    "# \\s\n",
    "match = re.search(\"\\s+\", text)\n",
    "if match:\n",
    "    print(\"Matched white space:\", match.group())\n",
    "else:\n",
    "    print(\"No white space match found.\")\n",
    "\n",
    "# \\S\n",
    "match = re.search(\"\\S+\", text)\n",
    "if match:\n",
    "    print(\"Matched non-white space:\", match.group())\n",
    "else:\n",
    "    print(\"No non-white space match found.\")\n",
    "\n",
    "# \\w\n",
    "match = re.search(\"\\w+\", text)\n",
    "if match:\n",
    "    print(\"Matched word characters:\", match.group())\n",
    "else:\n",
    "    print(\"No word character match found.\")\n",
    "\n",
    "# \\W\n",
    "match = re.search(\"\\W+\", text)\n",
    "if match:\n",
    "    print(\"Matched non-word characters:\", match.group())\n",
    "else:\n",
    "    print(\"No non-word character match found.\")\n",
    "\n",
    "# \\b\n",
    "match = re.search(r\"\\bworld\\b\", text)\n",
    "if match:\n",
    "    print(\"Matched word surrounded by word boundaries:\", match.group())\n",
    "else:\n",
    "    print(\"No word surrounded by word boundaries match found.\")\n",
    "\n",
    "# \\A\n",
    "match = re.search(r\"\\AHello\", text)\n",
    "if match:\n",
    "    print(\"Matched start of string:\", match.group())\n",
    "else:\n",
    "    print(\"No start of string match found.\")\n",
    "\n",
    "# \\Z\n",
    "match = re.search(r\"world\\Z\", text)\n",
    "if match:\n",
    "    print(\"Matched end of string:\", match.group())\n",
    "else:\n",
    "    print(\"No end of string match found.\")\n"
   ]
  },
  {
   "cell_type": "code",
   "execution_count": null,
   "id": "f35a4312",
   "metadata": {},
   "outputs": [],
   "source": []
  }
 ],
 "metadata": {
  "kernelspec": {
   "display_name": "Python 3 (ipykernel)",
   "language": "python",
   "name": "python3"
  },
  "language_info": {
   "codemirror_mode": {
    "name": "ipython",
    "version": 3
   },
   "file_extension": ".py",
   "mimetype": "text/x-python",
   "name": "python",
   "nbconvert_exporter": "python",
   "pygments_lexer": "ipython3",
   "version": "3.9.13"
  }
 },
 "nbformat": 4,
 "nbformat_minor": 5
}
