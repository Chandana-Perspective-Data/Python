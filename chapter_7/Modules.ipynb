{
 "cells": [
  {
   "cell_type": "markdown",
   "id": "dc90c2c5",
   "metadata": {},
   "source": [
    "# Python Modules"
   ]
  },
  {
   "cell_type": "markdown",
   "id": "0d62c0bd",
   "metadata": {},
   "source": [
    "### What is a Module?\n",
    "A Python Module is a Python file with .py extension including statements and definitions.It contains code that you can resuse in several prgrames \n",
    "\n",
    "for example:\n",
    "\n",
    "A file containing python code , demo.py, is called a module , and its module name would be demo\n",
    "\n"
   ]
  },
  {
   "cell_type": "markdown",
   "id": "52b3672c",
   "metadata": {},
   "source": [
    "# Types of Python Modules\n",
    "### Built-in Modules\n",
    "Built-in Modules are predefined modules that are part of python standard library.\n",
    "\n",
    "Example: random,datatime,sys\n",
    "### User-defined Modules\n",
    "The user creates the user-defined modules to ease complex tasks in a project\n",
    "\n",
    "you can define your own functions and classes"
   ]
  },
  {
   "cell_type": "markdown",
   "id": "19676d9b",
   "metadata": {},
   "source": [
    "# Different ways to import Python Modules\n",
    "### Syntax:\n",
    "import module_name\n",
    "### Syntax:\n",
    "import module_name as alies_name\n",
    "### Syntax:\n",
    "from module_name importvar_name,f_name,class_name....\n",
    "### Syntax:\n",
    "from module_name import address as alies_address\n",
    "### Syntax1:\n",
    "from module_name import*"
   ]
  },
  {
   "cell_type": "markdown",
   "id": "d9abc395",
   "metadata": {},
   "source": [
    "# random()\n",
    "This generates floating value between 0 and 1(including 0 but excluding 1).It does not require any arugument."
   ]
  },
  {
   "cell_type": "code",
   "execution_count": 1,
   "id": "ed06c6a6",
   "metadata": {},
   "outputs": [
    {
     "data": {
      "text/plain": [
       "0.6072203229922927"
      ]
     },
     "execution_count": 1,
     "metadata": {},
     "output_type": "execute_result"
    }
   ],
   "source": [
    "import random\n",
    "random.random()"
   ]
  },
  {
   "cell_type": "markdown",
   "id": "2e6eb508",
   "metadata": {},
   "source": [
    "# randrange()\n",
    "This method always returns an integer between given lower and upper limit to this method (excluding upper limit)."
   ]
  },
  {
   "cell_type": "code",
   "execution_count": 6,
   "id": "1d79c9a0",
   "metadata": {},
   "outputs": [
    {
     "name": "stdout",
     "output_type": "stream",
     "text": [
      "3\n"
     ]
    }
   ],
   "source": [
    "import random\n",
    "\n",
    "print(random.randrange(3,9,2))"
   ]
  },
  {
   "cell_type": "markdown",
   "id": "9998d0da",
   "metadata": {},
   "source": [
    "# Python Datetime\n",
    "A date in Python is not a data type of its own, but we can import a module named datetime to work with dates as date objects."
   ]
  },
  {
   "cell_type": "code",
   "execution_count": 7,
   "id": "296ab1d8",
   "metadata": {},
   "outputs": [
    {
     "name": "stdout",
     "output_type": "stream",
     "text": [
      "2023-01-31 18:59:01.744815\n"
     ]
    }
   ],
   "source": [
    "# Import the datetime module and display the current date:\n",
    "import datetime\n",
    "\n",
    "x = datetime.datetime.now()\n",
    "print(x)"
   ]
  },
  {
   "cell_type": "markdown",
   "id": "c722d0e2",
   "metadata": {},
   "source": [
    "# user defined modules"
   ]
  },
  {
   "cell_type": "code",
   "execution_count": null,
   "id": "66081f53",
   "metadata": {},
   "outputs": [],
   "source": [
    "def add(a,b):\n",
    "    return a+b\n",
    "def sub(a,b):\n",
    "    return a-b\n",
    "def multi(a,b):\n",
    "    return a*b\n",
    "def div(a,b):\n",
    "    return a/b"
   ]
  },
  {
   "cell_type": "markdown",
   "id": "028a8ff6",
   "metadata": {},
   "source": [
    "# what are Python Packages?\n",
    "Packages are the same as a directory containing other sub-packages and modules\n",
    "in a structure way,making the sub-packages and modules easy to access"
   ]
  },
  {
   "cell_type": "markdown",
   "id": "4326e881",
   "metadata": {},
   "source": [
    "# Creating a Python Package\n",
    "1) The directory that contains the __init__.py files is defined as a Python Package\n",
    "\n",
    "2)  A Package must contain a special file with name __init__.py\n",
    "\n",
    "3) __init__.py file can be empty\n",
    "\n",
    "4)  A package can be imported the same way as a module is imported"
   ]
  },
  {
   "cell_type": "markdown",
   "id": "dc75a3e1",
   "metadata": {},
   "source": [
    "# collections in python\n",
    "There are four collection data types in python which are used to store collections of data.\n",
    "\n",
    "lists,tuples,sets,dictionary"
   ]
  },
  {
   "cell_type": "markdown",
   "id": "a1606816",
   "metadata": {},
   "source": [
    "# namedtuple()\n",
    "namedtuple() returns a tuple with a named value for each element in the tuple."
   ]
  },
  {
   "cell_type": "code",
   "execution_count": 25,
   "id": "d400b481",
   "metadata": {},
   "outputs": [],
   "source": [
    "from collections import namedtuple"
   ]
  },
  {
   "cell_type": "code",
   "execution_count": 32,
   "id": "65c52622",
   "metadata": {},
   "outputs": [
    {
     "name": "stdout",
     "output_type": "stream",
     "text": [
      "Name: Jyothi\n",
      "Age: 30\n"
     ]
    }
   ],
   "source": [
    "Person = namedtuple(\"Person\", (\"name\", \"age\"))\n",
    "person = Person(\"Jyothi\", 30)\n",
    "print(\"Name:\", person.name)\n",
    "print(\"Age:\", person.age)"
   ]
  },
  {
   "cell_type": "code",
   "execution_count": 34,
   "id": "370ea911",
   "metadata": {},
   "outputs": [],
   "source": [
    "from collections import namedtuple"
   ]
  },
  {
   "cell_type": "code",
   "execution_count": 36,
   "id": "24536237",
   "metadata": {},
   "outputs": [
    {
     "name": "stdout",
     "output_type": "stream",
     "text": [
      "course(name='data science', technology='python')\n"
     ]
    }
   ],
   "source": [
    "a=namedtuple(\"course\",\"name technology\")\n",
    "s=a(\"data science\",\"python\")\n",
    "print(s)"
   ]
  },
  {
   "cell_type": "markdown",
   "id": "7a384ef9",
   "metadata": {},
   "source": [
    "# counter\n",
    "counter is a dictionary subclass for counting hashable object\n",
    "\n",
    "a=[1,2,3,3,4,5,6,7,7,8,9,2,3,1,6,7,3,5,6]\n",
    "\n",
    "count=counter(a)\n"
   ]
  },
  {
   "cell_type": "code",
   "execution_count": 37,
   "id": "c79e1aab",
   "metadata": {},
   "outputs": [],
   "source": [
    "from collections import Counter"
   ]
  },
  {
   "cell_type": "code",
   "execution_count": 38,
   "id": "77d5a22a",
   "metadata": {},
   "outputs": [
    {
     "name": "stdout",
     "output_type": "stream",
     "text": [
      "Counter({3: 4, 6: 3, 7: 3, 1: 2, 2: 2, 5: 2, 4: 1, 8: 1, 9: 1})\n"
     ]
    }
   ],
   "source": [
    "a=[1,2,3,3,4,5,6,7,7,8,9,2,3,1,6,7,3,5,6]\n",
    "c=Counter(a)\n",
    "print(c)"
   ]
  },
  {
   "cell_type": "code",
   "execution_count": null,
   "id": "4e782de8",
   "metadata": {},
   "outputs": [],
   "source": []
  }
 ],
 "metadata": {
  "kernelspec": {
   "display_name": "Python 3 (ipykernel)",
   "language": "python",
   "name": "python3"
  },
  "language_info": {
   "codemirror_mode": {
    "name": "ipython",
    "version": 3
   },
   "file_extension": ".py",
   "mimetype": "text/x-python",
   "name": "python",
   "nbconvert_exporter": "python",
   "pygments_lexer": "ipython3",
   "version": "3.9.13"
  }
 },
 "nbformat": 4,
 "nbformat_minor": 5
}
