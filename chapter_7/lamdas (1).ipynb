{
 "cells": [
  {
   "cell_type": "markdown",
   "id": "2d99fbba",
   "metadata": {},
   "source": [
    "# Anonymous function OR Lambdas¶\n",
    "*A function without name is called Anonymous function. To define a function we have to use \"def\" keyword. But,anonymous function not defind by using the \"def\" keyword,they are defind by using the \" lambda\" keyword hence they are called \"lambdas\" ."
   ]
  },
  {
   "cell_type": "code",
   "execution_count": 1,
   "id": "051859b1",
   "metadata": {},
   "outputs": [
    {
     "data": {
      "text/plain": [
       "3"
      ]
     },
     "execution_count": 1,
     "metadata": {},
     "output_type": "execute_result"
    }
   ],
   "source": [
    "def add():\n",
    "    a=1\n",
    "    b=2\n",
    "    return a+b\n",
    "add()"
   ]
  },
  {
   "cell_type": "code",
   "execution_count": 3,
   "id": "1828bec6",
   "metadata": {},
   "outputs": [
    {
     "name": "stdout",
     "output_type": "stream",
     "text": [
      "60\n"
     ]
    }
   ],
   "source": [
    "x = lambda a,b,c:a+b+c\n",
    "print(x(10,20,30))"
   ]
  },
  {
   "cell_type": "code",
   "execution_count": 7,
   "id": "270cec19",
   "metadata": {},
   "outputs": [
    {
     "name": "stdout",
     "output_type": "stream",
     "text": [
      "Result is : 9\n"
     ]
    }
   ],
   "source": [
    "def f(n):\n",
    "    return lambda a:a**n\n",
    "\n",
    "x=f\n",
    "print(\"Result is :\",x(2)(3))"
   ]
  },
  {
   "cell_type": "code",
   "execution_count": 9,
   "id": "ed785d10",
   "metadata": {},
   "outputs": [
    {
     "data": {
      "text/plain": [
       "30"
      ]
     },
     "execution_count": 9,
     "metadata": {},
     "output_type": "execute_result"
    }
   ],
   "source": [
    "x = lambda a,b:a*b\n",
    "x(5,6)"
   ]
  },
  {
   "cell_type": "code",
   "execution_count": 11,
   "id": "da2d8fea",
   "metadata": {},
   "outputs": [
    {
     "data": {
      "text/plain": [
       "30"
      ]
     },
     "execution_count": 11,
     "metadata": {},
     "output_type": "execute_result"
    }
   ],
   "source": [
    "(lambda a,b:a*b)(5,6)"
   ]
  },
  {
   "cell_type": "code",
   "execution_count": 12,
   "id": "56a2f412",
   "metadata": {},
   "outputs": [
    {
     "data": {
      "text/plain": [
       "32"
      ]
     },
     "execution_count": 12,
     "metadata": {},
     "output_type": "execute_result"
    }
   ],
   "source": [
    "x = lambda a,b:a**b\n",
    "x(b=5,a=2)"
   ]
  },
  {
   "cell_type": "code",
   "execution_count": 2,
   "id": "cb128db5",
   "metadata": {},
   "outputs": [
    {
     "name": "stdout",
     "output_type": "stream",
     "text": [
      "21\n"
     ]
    }
   ],
   "source": [
    "x=lambda *args:sum(args)\n",
    "print(x(1,2,3,4,5,6))\n"
   ]
  },
  {
   "cell_type": "code",
   "execution_count": 4,
   "id": "e5b99427",
   "metadata": {},
   "outputs": [
    {
     "data": {
      "text/plain": [
       "'Odd'"
      ]
     },
     "execution_count": 4,
     "metadata": {},
     "output_type": "execute_result"
    }
   ],
   "source": [
    "y=lambda x:(x%2 and \"Odd\" or \"Even\")\n",
    "y(11)"
   ]
  },
  {
   "cell_type": "code",
   "execution_count": 7,
   "id": "74649b29",
   "metadata": {},
   "outputs": [
    {
     "data": {
      "text/plain": [
       "'Even'"
      ]
     },
     "execution_count": 7,
     "metadata": {},
     "output_type": "execute_result"
    }
   ],
   "source": [
    "(lambda x:(x%2 and \"Odd\" or \"Even\"))(20)\n"
   ]
  },
  {
   "cell_type": "code",
   "execution_count": 10,
   "id": "d3219f55",
   "metadata": {},
   "outputs": [
    {
     "data": {
      "text/plain": [
       "True"
      ]
     },
     "execution_count": 10,
     "metadata": {},
     "output_type": "execute_result"
    }
   ],
   "source": [
    "a=lambda string:string in \"Welcome to python program\"\n",
    "a(\"python\")"
   ]
  },
  {
   "cell_type": "code",
   "execution_count": null,
   "id": "ca068ad8",
   "metadata": {},
   "outputs": [],
   "source": []
  },
  {
   "cell_type": "code",
   "execution_count": 12,
   "id": "e323d5bc",
   "metadata": {
    "scrolled": true
   },
   "outputs": [
    {
     "ename": "TypeError",
     "evalue": "'>' not supported between instances of 'list' and 'int'",
     "output_type": "error",
     "traceback": [
      "\u001b[1;31m---------------------------------------------------------------------------\u001b[0m",
      "\u001b[1;31mTypeError\u001b[0m                                 Traceback (most recent call last)",
      "Input \u001b[1;32mIn [12]\u001b[0m, in \u001b[0;36m<cell line: 3>\u001b[1;34m()\u001b[0m\n\u001b[0;32m      1\u001b[0m num\u001b[38;5;241m=\u001b[39m[\u001b[38;5;241m10\u001b[39m,\u001b[38;5;241m20\u001b[39m,\u001b[38;5;241m30\u001b[39m,\u001b[38;5;241m40\u001b[39m,\u001b[38;5;241m67\u001b[39m,\u001b[38;5;241m87\u001b[39m]\n\u001b[0;32m      2\u001b[0m a\u001b[38;5;241m=\u001b[39m\u001b[38;5;28;01mlambda\u001b[39;00m num:num\u001b[38;5;241m>\u001b[39m\u001b[38;5;241m50\u001b[39m\n\u001b[1;32m----> 3\u001b[0m \u001b[38;5;28mprint\u001b[39m(\u001b[43ma\u001b[49m\u001b[43m(\u001b[49m\u001b[43mnum\u001b[49m\u001b[43m)\u001b[49m)\n",
      "Input \u001b[1;32mIn [12]\u001b[0m, in \u001b[0;36m<lambda>\u001b[1;34m(num)\u001b[0m\n\u001b[0;32m      1\u001b[0m num\u001b[38;5;241m=\u001b[39m[\u001b[38;5;241m10\u001b[39m,\u001b[38;5;241m20\u001b[39m,\u001b[38;5;241m30\u001b[39m,\u001b[38;5;241m40\u001b[39m,\u001b[38;5;241m67\u001b[39m,\u001b[38;5;241m87\u001b[39m]\n\u001b[1;32m----> 2\u001b[0m a\u001b[38;5;241m=\u001b[39m\u001b[38;5;28;01mlambda\u001b[39;00m num:\u001b[43mnum\u001b[49m\u001b[38;5;241;43m>\u001b[39;49m\u001b[38;5;241;43m50\u001b[39;49m\n\u001b[0;32m      3\u001b[0m \u001b[38;5;28mprint\u001b[39m(a(num))\n",
      "\u001b[1;31mTypeError\u001b[0m: '>' not supported between instances of 'list' and 'int'"
     ]
    }
   ],
   "source": [
    "num=[10,20,30,40,67,87]\n",
    "a=lambda num:num>50\n",
    "print(a(num))"
   ]
  },
  {
   "cell_type": "markdown",
   "id": "cc432fc0",
   "metadata": {},
   "source": [
    "# filter()  \n",
    "    A filter() function is useful to extrac elements from the sequence depending on the result of the function.\n"
   ]
  },
  {
   "cell_type": "code",
   "execution_count": 16,
   "id": "ec644d60",
   "metadata": {},
   "outputs": [
    {
     "name": "stdout",
     "output_type": "stream",
     "text": [
      "[67, 87]\n"
     ]
    }
   ],
   "source": [
    "num=[10,20,30,40,67,87]\n",
    "a=list(filter(lambda num:num>50,num))\n",
    "print(a)"
   ]
  },
  {
   "cell_type": "code",
   "execution_count": 26,
   "id": "88cbcdb5",
   "metadata": {},
   "outputs": [
    {
     "name": "stdout",
     "output_type": "stream",
     "text": [
      "[4, 8, 16, 20]\n"
     ]
    }
   ],
   "source": [
    "l=[1,3,2,6,4,5,8,16,20]\n",
    "a=list(filter(lambda x:(x%4==0),l))\n",
    "print(a)"
   ]
  },
  {
   "cell_type": "code",
   "execution_count": null,
   "id": "c345ed2e",
   "metadata": {},
   "outputs": [],
   "source": []
  },
  {
   "cell_type": "code",
   "execution_count": null,
   "id": "4379130a",
   "metadata": {},
   "outputs": [],
   "source": []
  },
  {
   "cell_type": "code",
   "execution_count": null,
   "id": "378d7c22",
   "metadata": {},
   "outputs": [],
   "source": []
  },
  {
   "cell_type": "markdown",
   "id": "aabfe5d5",
   "metadata": {},
   "source": [
    "# map()\n",
    "    map() function is useful to perform some operation on each element of the sequence depending on function"
   ]
  },
  {
   "cell_type": "code",
   "execution_count": 27,
   "id": "11a02737",
   "metadata": {},
   "outputs": [
    {
     "name": "stdout",
     "output_type": "stream",
     "text": [
      "[1, 4, 9, 16, 25, 36]\n"
     ]
    }
   ],
   "source": [
    "l=[1,2,3,4,5,6]\n",
    "print(list(map(lambda x:x**2,l)))"
   ]
  },
  {
   "cell_type": "code",
   "execution_count": 1,
   "id": "5c845373",
   "metadata": {
    "scrolled": true
   },
   "outputs": [
    {
     "name": "stdout",
     "output_type": "stream",
     "text": [
      "[1, 2, 3, 4, 5, 6]\n"
     ]
    }
   ],
   "source": [
    "l=[1,2,3,4,5,6]\n",
    "map(lambda x:x**2,l)\n",
    "print(l)"
   ]
  },
  {
   "cell_type": "code",
   "execution_count": 35,
   "id": "d5a31fa4",
   "metadata": {},
   "outputs": [
    {
     "name": "stdout",
     "output_type": "stream",
     "text": [
      "[1.0, 8.0, 27.0, 64.0, 125.0, 216.0]\n"
     ]
    }
   ],
   "source": [
    "from math import *\n",
    "l=[1,2,3,4,5,6]\n",
    "#cube=map()\n",
    "print(list(map(lambda x:pow(x,3),l)))"
   ]
  },
  {
   "cell_type": "code",
   "execution_count": 2,
   "id": "97d77b48",
   "metadata": {},
   "outputs": [
    {
     "data": {
      "text/plain": [
       "9"
      ]
     },
     "execution_count": 2,
     "metadata": {},
     "output_type": "execute_result"
    }
   ],
   "source": [
    "def square(a):\n",
    "    return a**2\n",
    "square(3)    "
   ]
  },
  {
   "cell_type": "code",
   "execution_count": 47,
   "id": "8c57fa5c",
   "metadata": {},
   "outputs": [
    {
     "name": "stdout",
     "output_type": "stream",
     "text": [
      "[1, 4, 9, 16]\n"
     ]
    }
   ],
   "source": [
    "num=[1,2,3,4]\n",
    "x=list(map(square,num))\n",
    "print(x)"
   ]
  },
  {
   "cell_type": "code",
   "execution_count": null,
   "id": "24a736e4",
   "metadata": {},
   "outputs": [],
   "source": []
  },
  {
   "cell_type": "markdown",
   "id": "d8d955f6",
   "metadata": {},
   "source": [
    "# reduce() \n",
    "    it reduce a sequence of the  elements into a singe element by processing the elements according to the function supplied\n"
   ]
  },
  {
   "cell_type": "code",
   "execution_count": 43,
   "id": "ff5fe442",
   "metadata": {},
   "outputs": [
    {
     "data": {
      "text/plain": [
       "2550"
      ]
     },
     "execution_count": 43,
     "metadata": {},
     "output_type": "execute_result"
    }
   ],
   "source": [
    "from functools import reduce\n",
    "a=reduce((lambda x,y:x+y),range(2,101,2))\n",
    "a"
   ]
  },
  {
   "cell_type": "code",
   "execution_count": 42,
   "id": "987c249a",
   "metadata": {},
   "outputs": [
    {
     "name": "stdout",
     "output_type": "stream",
     "text": [
      "[0, 2, 4, 6, 8]\n"
     ]
    }
   ],
   "source": [
    "print(list(range(0,10,2)))"
   ]
  },
  {
   "cell_type": "code",
   "execution_count": 44,
   "id": "ddbe7998",
   "metadata": {},
   "outputs": [
    {
     "data": {
      "text/plain": [
       "3"
      ]
     },
     "execution_count": 44,
     "metadata": {},
     "output_type": "execute_result"
    }
   ],
   "source": [
    "(lambda x,y:x+y)(1,2)"
   ]
  },
  {
   "cell_type": "code",
   "execution_count": 48,
   "id": "23252753",
   "metadata": {},
   "outputs": [
    {
     "name": "stdout",
     "output_type": "stream",
     "text": [
      "python version is :-  3.9.12\n"
     ]
    }
   ],
   "source": [
    "from platform import python_version\n",
    "print(\"python version is :- \", python_version())"
   ]
  },
  {
   "cell_type": "code",
   "execution_count": null,
   "id": "d197a22a",
   "metadata": {},
   "outputs": [],
   "source": []
  }
 ],
 "metadata": {
  "kernelspec": {
   "display_name": "Python 3 (ipykernel)",
   "language": "python",
   "name": "python3"
  },
  "language_info": {
   "codemirror_mode": {
    "name": "ipython",
    "version": 3
   },
   "file_extension": ".py",
   "mimetype": "text/x-python",
   "name": "python",
   "nbconvert_exporter": "python",
   "pygments_lexer": "ipython3",
   "version": "3.9.13"
  }
 },
 "nbformat": 4,
 "nbformat_minor": 5
}
