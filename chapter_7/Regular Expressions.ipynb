{
 "cells": [
  {
   "cell_type": "markdown",
   "id": "90985c3f",
   "metadata": {},
   "source": [
    "# Regular Expressions OR regeX\n",
    "\n",
    "module name : re : match,search,findall\n",
    "\n",
    "Regular Expression are used to the find the some pattern in the given string\n",
    "\n",
    "\n",
    "\n"
   ]
  },
  {
   "cell_type": "markdown",
   "id": "173ec90f",
   "metadata": {},
   "source": [
    "The following methods belong to the 're' module that are used in the regular expressions:\n",
    "\n",
    "1) The match() : method searches in the beginning of the string and if the matching string is found, it returns an object that contains the resultant string, otherwise it returns None. We can access the string from the returned object using group() method.\n",
    "\n",
    "2) The search() : method searches the string from beginning till the end and returns the first occurrence of the matching string, otherwise it returns None. We can use group() method to retrieve the string from the object returned by this method.\n",
    "\n",
    "3) The findall() : method searches the string from beginning till the end and returns all occurrences of the matching string in the form of a list object. If the matching strings are not found, then it returns an empty list. We can retrieve the resultant strings from the list using a for loop.\n",
    "\n",
    "4) The split() : method splits the string according to the regular expression and the resultant pieces are returned as a list. If there are no string pieces, then it returns an empty list. We can retrieve the resultant string pieces from the list using a for loop.\n",
    "\n",
    "5) The sub() : method substitutes (or replaces) new strings in the place of existing strings. After substitution, the main string is returned by this method."
   ]
  },
  {
   "cell_type": "markdown",
   "id": "853f91a0",
   "metadata": {},
   "source": [
    "### match()"
   ]
  },
  {
   "cell_type": "code",
   "execution_count": 3,
   "id": "676f0588",
   "metadata": {},
   "outputs": [
    {
     "name": "stdout",
     "output_type": "stream",
     "text": [
      "<re.Match object; span=(0, 6), match='inform'>\n"
     ]
    }
   ],
   "source": [
    "# import re\n",
    "# s=\"inform him with the latest information\"\n",
    "# print(re.match(\"inf\",s))\n",
    "\n",
    "\n",
    "import re\n",
    "s=\"inform him with the latest information\"\n",
    "print(re.match(\"inform\",s))"
   ]
  },
  {
   "cell_type": "code",
   "execution_count": 1,
   "id": "a95ac10c",
   "metadata": {},
   "outputs": [
    {
     "name": "stdout",
     "output_type": "stream",
     "text": [
      "None\n"
     ]
    }
   ],
   "source": [
    "import re\n",
    "s=\"inform him with the latest information\"\n",
    "print(re.match(\"hello\",s))\n",
    "\n"
   ]
  },
  {
   "cell_type": "code",
   "execution_count": 7,
   "id": "01649b6a",
   "metadata": {},
   "outputs": [
    {
     "name": "stdout",
     "output_type": "stream",
     "text": [
      "None\n"
     ]
    }
   ],
   "source": [
    "import re\n",
    "s=\"inform him with the latest information\"\n",
    "print(re.match(\"zoom\",s))"
   ]
  },
  {
   "cell_type": "code",
   "execution_count": 2,
   "id": "4f832dd1",
   "metadata": {},
   "outputs": [
    {
     "name": "stdout",
     "output_type": "stream",
     "text": [
      "None\n"
     ]
    }
   ],
   "source": [
    "import re\n",
    "s=\"inform him with the latest information\"\n",
    "print(re.match(\"with\",s))"
   ]
  },
  {
   "cell_type": "markdown",
   "id": "98b55468",
   "metadata": {},
   "source": [
    "### search()"
   ]
  },
  {
   "cell_type": "code",
   "execution_count": 2,
   "id": "8e782320",
   "metadata": {},
   "outputs": [
    {
     "name": "stdout",
     "output_type": "stream",
     "text": [
      "<re.Match object; span=(0, 4), match='info'>\n",
      "<re.Match object; span=(7, 10), match='him'>\n",
      "<re.Match object; span=(27, 38), match='information'>\n",
      "None\n"
     ]
    }
   ],
   "source": [
    "import re\n",
    "s=\"inform him with the latest information\"\n",
    "print(re.search(\"info\",s))\n",
    "\n",
    "\n",
    "import re\n",
    "s=\"inform him with the latest information\"\n",
    "print(re.search(\"him\",s))\n",
    "\n",
    "\n",
    "import re\n",
    "s=\"inform him with the latest information\"\n",
    "print(re.search(\"information\",s))\n",
    "\n",
    "\n",
    "import re\n",
    "s=\"inform him with the latest information\"\n",
    "print(re.search(\"zoom\",s))\n"
   ]
  },
  {
   "cell_type": "markdown",
   "id": "21f216a8",
   "metadata": {},
   "source": [
    "### findall()"
   ]
  },
  {
   "cell_type": "code",
   "execution_count": 1,
   "id": "1558bd46",
   "metadata": {},
   "outputs": [
    {
     "name": "stdout",
     "output_type": "stream",
     "text": [
      "['inform', 'inform', 'inform']\n",
      "3\n"
     ]
    }
   ],
   "source": [
    "import re\n",
    "s=\"inform him with the latest information  information \"\n",
    "print(re.findall(\"inform\",s))\n",
    "\n",
    "print(len(re.findall(\"inform\",s)))  "
   ]
  },
  {
   "cell_type": "code",
   "execution_count": 22,
   "id": "e19a5b90",
   "metadata": {},
   "outputs": [
    {
     "name": "stdout",
     "output_type": "stream",
     "text": [
      "[]\n",
      "0\n"
     ]
    }
   ],
   "source": [
    "import re\n",
    "s=\"inform him with the latest information\"\n",
    "print(re.findall(\"zoom\",s))\n",
    "\n",
    "print(len(re.findall(\"zoom\",s)))   # 1 # 0"
   ]
  },
  {
   "cell_type": "code",
   "execution_count": 18,
   "id": "181df9e8",
   "metadata": {},
   "outputs": [
    {
     "data": {
      "text/plain": [
       "<re.Match object; span=(0, 2), match='as'>"
      ]
     },
     "execution_count": 18,
     "metadata": {},
     "output_type": "execute_result"
    }
   ],
   "source": [
    "import re\n",
    "re.search(r'..',\"ashsdgsrj\")"
   ]
  },
  {
   "cell_type": "markdown",
   "id": "209d31cf",
   "metadata": {},
   "source": [
    "# sub()"
   ]
  },
  {
   "cell_type": "code",
   "execution_count": 5,
   "id": "3c369fe5",
   "metadata": {},
   "outputs": [
    {
     "name": "stdout",
     "output_type": "stream",
     "text": [
      "inform her with the latest information\n"
     ]
    }
   ],
   "source": [
    "import re\n",
    "s=\"inform him with the latest information\"\n",
    "print(re.sub(\"him\",\"her\",s))"
   ]
  },
  {
   "cell_type": "markdown",
   "id": "c8270498",
   "metadata": {},
   "source": [
    "# split()"
   ]
  },
  {
   "cell_type": "code",
   "execution_count": 7,
   "id": "7abcf68d",
   "metadata": {},
   "outputs": [
    {
     "name": "stdout",
     "output_type": "stream",
     "text": [
      "['hi', 'hello', 'python']\n"
     ]
    }
   ],
   "source": [
    "s=\"hi hello python\"\n",
    "print(s.split())"
   ]
  },
  {
   "cell_type": "markdown",
   "id": "a269b2bd",
   "metadata": {},
   "source": [
    "## Regex basic syntaxes : Quantifires\n"
   ]
  },
  {
   "cell_type": "markdown",
   "id": "19b37ee5",
   "metadata": {},
   "source": [
    "\n",
    ".  : Matches any one character\n",
    "\n",
    "^  : Matches from the begining of the string\n",
    "\n",
    "$  : Matches from the end of the string\n",
    "\n",
    "*  : Matches zero or more repetitions of the previous character\n",
    "\n",
    "+  : Matches one or more repetitions of the previous character\n",
    "\n",
    "?  : Matches zero or one repetitions of the previous character\n",
    "\n",
    "{m}  : Matches m repetitions of the previous character\n",
    "\n",
    "{m,n}:  Matches any number from m to n of the previous character\n",
    "\n",
    "\\  : escape character\n",
    "\n",
    "[]  : A set of characters. eg:[A-Z] will match all latters from A to Z\n",
    "\n",
    "()  : Mathes the patter specified within the prerenthesis only\n",
    "\n",
    "\n"
   ]
  },
  {
   "cell_type": "code",
   "execution_count": 4,
   "id": "497dec8e",
   "metadata": {},
   "outputs": [
    {
     "name": "stdout",
     "output_type": "stream",
     "text": [
      "['pyth']\n"
     ]
    }
   ],
   "source": [
    "import re\n",
    "txt=\"hello python\"\n",
    "x=re.findall(\"py.h\",txt)\n",
    "print(x)"
   ]
  },
  {
   "cell_type": "code",
   "execution_count": 6,
   "id": "09c108d0",
   "metadata": {},
   "outputs": [
    {
     "name": "stdout",
     "output_type": "stream",
     "text": [
      "['hello']\n"
     ]
    }
   ],
   "source": [
    "import re\n",
    "txt=\"hello python\"\n",
    "x=re.findall(\"^hello\",txt)\n",
    "print(x)"
   ]
  },
  {
   "cell_type": "code",
   "execution_count": 9,
   "id": "ab46ca92",
   "metadata": {},
   "outputs": [
    {
     "name": "stdout",
     "output_type": "stream",
     "text": [
      "<re.Match object; span=(0, 1), match='a'>\n"
     ]
    }
   ],
   "source": [
    "print(re.search(r'^a','a'))"
   ]
  },
  {
   "cell_type": "code",
   "execution_count": 10,
   "id": "1ac40857",
   "metadata": {},
   "outputs": [
    {
     "name": "stdout",
     "output_type": "stream",
     "text": [
      "<re.Match object; span=(0, 1), match='a'>\n"
     ]
    }
   ],
   "source": [
    "print(re.search(r'^a','abc'))"
   ]
  },
  {
   "cell_type": "code",
   "execution_count": 12,
   "id": "5dd6e051",
   "metadata": {},
   "outputs": [
    {
     "name": "stdout",
     "output_type": "stream",
     "text": [
      "<re.Match object; span=(0, 1), match='b'>\n"
     ]
    }
   ],
   "source": [
    "print(re.search(r'^b','bca'))"
   ]
  },
  {
   "cell_type": "code",
   "execution_count": 13,
   "id": "a9a02942",
   "metadata": {},
   "outputs": [
    {
     "name": "stdout",
     "output_type": "stream",
     "text": [
      "None\n"
     ]
    }
   ],
   "source": [
    "print(re.search(r'^b','ababbca'))"
   ]
  },
  {
   "cell_type": "code",
   "execution_count": 14,
   "id": "d27270d2",
   "metadata": {},
   "outputs": [
    {
     "name": "stdout",
     "output_type": "stream",
     "text": [
      "<re.Match object; span=(0, 1), match='a'>\n"
     ]
    }
   ],
   "source": [
    "print(re.search(r'^a','ababbca'))"
   ]
  },
  {
   "cell_type": "code",
   "execution_count": 15,
   "id": "5a1c026c",
   "metadata": {
    "scrolled": true
   },
   "outputs": [
    {
     "name": "stdout",
     "output_type": "stream",
     "text": [
      "<re.Match object; span=(0, 1), match='c'>\n"
     ]
    }
   ],
   "source": [
    "print(re.search(r'^c','cbabbca'))"
   ]
  },
  {
   "cell_type": "code",
   "execution_count": 17,
   "id": "b54f216c",
   "metadata": {
    "scrolled": true
   },
   "outputs": [
    {
     "name": "stdout",
     "output_type": "stream",
     "text": [
      "<re.Match object; span=(0, 2), match='cb'>\n"
     ]
    }
   ],
   "source": [
    "print(re.search(r'^cb','cbabbca'))"
   ]
  },
  {
   "cell_type": "code",
   "execution_count": 19,
   "id": "e61b957c",
   "metadata": {},
   "outputs": [
    {
     "name": "stdout",
     "output_type": "stream",
     "text": [
      "None\n"
     ]
    }
   ],
   "source": [
    "print(re.search(r'a$','ababb'))"
   ]
  },
  {
   "cell_type": "code",
   "execution_count": 20,
   "id": "44952e50",
   "metadata": {},
   "outputs": [
    {
     "name": "stdout",
     "output_type": "stream",
     "text": [
      "None\n"
     ]
    }
   ],
   "source": [
    "print(re.search(r'a$','table'))"
   ]
  },
  {
   "cell_type": "code",
   "execution_count": 21,
   "id": "e0ed233a",
   "metadata": {},
   "outputs": [
    {
     "name": "stdout",
     "output_type": "stream",
     "text": [
      "<re.Match object; span=(2, 3), match='a'>\n"
     ]
    }
   ],
   "source": [
    "print(re.search(r'a$','aba'))"
   ]
  },
  {
   "cell_type": "code",
   "execution_count": 22,
   "id": "af113c9c",
   "metadata": {},
   "outputs": [
    {
     "name": "stdout",
     "output_type": "stream",
     "text": [
      "<re.Match object; span=(0, 2), match='mn'>\n"
     ]
    }
   ],
   "source": [
    "print(re.search(r'ma*n',\"mn\"))"
   ]
  },
  {
   "cell_type": "code",
   "execution_count": 23,
   "id": "6ecc909c",
   "metadata": {},
   "outputs": [
    {
     "name": "stdout",
     "output_type": "stream",
     "text": [
      "None\n"
     ]
    }
   ],
   "source": [
    "print(re.search(r'ma*n',\"main\"))"
   ]
  },
  {
   "cell_type": "code",
   "execution_count": 24,
   "id": "7237f236",
   "metadata": {},
   "outputs": [
    {
     "name": "stdout",
     "output_type": "stream",
     "text": [
      "None\n"
     ]
    }
   ],
   "source": [
    "print(re.search(r'ma*n',\"maine\"))"
   ]
  },
  {
   "cell_type": "code",
   "execution_count": 25,
   "id": "f0f498bb",
   "metadata": {},
   "outputs": [
    {
     "name": "stdout",
     "output_type": "stream",
     "text": [
      "<re.Match object; span=(2, 5), match='man'>\n"
     ]
    }
   ],
   "source": [
    "print(re.search(r'ma*n',\"woman\"))"
   ]
  },
  {
   "cell_type": "code",
   "execution_count": 26,
   "id": "491288b2",
   "metadata": {},
   "outputs": [
    {
     "name": "stdout",
     "output_type": "stream",
     "text": [
      "<re.Match object; span=(2, 5), match='man'>\n"
     ]
    }
   ],
   "source": [
    "print(re.search(r'ma+n',\"woman\"))"
   ]
  },
  {
   "cell_type": "code",
   "execution_count": 27,
   "id": "269da18e",
   "metadata": {},
   "outputs": [
    {
     "name": "stdout",
     "output_type": "stream",
     "text": [
      "None\n"
     ]
    }
   ],
   "source": [
    "print(re.search(r'ma+n',\"maine\"))"
   ]
  },
  {
   "cell_type": "code",
   "execution_count": 29,
   "id": "29d4fa88",
   "metadata": {},
   "outputs": [
    {
     "name": "stdout",
     "output_type": "stream",
     "text": [
      "<re.Match object; span=(5, 8), match='aaa'>\n"
     ]
    }
   ],
   "source": [
    "print(re.search(r'a{2,3}',\"abc daaaat\"))"
   ]
  },
  {
   "cell_type": "markdown",
   "id": "107ef864",
   "metadata": {},
   "source": [
    "# +  : Matches one or more repetitions of the previous character"
   ]
  },
  {
   "cell_type": "code",
   "execution_count": 12,
   "id": "3c5d8a9c",
   "metadata": {},
   "outputs": [
    {
     "name": "stdout",
     "output_type": "stream",
     "text": [
      "['e', 'e', 'e', 'e', 'e']\n"
     ]
    }
   ],
   "source": [
    "import re\n",
    "\n",
    "text = \"Hello, my name is Chat. I was created by OpenAI.\"\n",
    "\n",
    "# Use the + wildcard to match one or more repetitions of the letter 'e'\n",
    "matches = re.findall(\"e+\", text)\n",
    "print(matches) # prints [\"e\", \"e\", \"e\", \"e\", \"e\", \"e\", \"e\", \"e\", \"e\", \"e\", \"e\", \"e\", \"e\", \"e\", \"e\", \"e\", \"e\", \"e\", \"e\", \"e\", \"e\", \"e\", \"e\", \"e\", \"e\", \"e\", \"e\", \"e\", \"e\", \"e\", \"e\", \"e\", \"e\", \"e\", \"e\", \"e\", \"e\", \"e\", \"e\", \"e\", \"e\", \"e\", \"e\", \"e\", \"e\", \"e\", \"e\", \"e\", \"e\", \"e\", \"e\", \"e\", \"e\", \"e\", \"e\", \"e\", \"e\", \"e\", \"e\", \"e\", \"e\", \"e\", \"e\", \"e\", \"e\", \"e\", \"e\", \"e\", \"e\", \"e\", \"e\", \"e\", \"e\", \"e\", \"e\", \"e\", \"e\", \"e\", \"e\", \"e\", \"e\", \"e\", \"e\", \"e\", \"e\", \"e\", \"e\", \"e\", \"e\", \"e\", \"e\", \"e\", \"e\", \"e\", \"e\", \"e\", \"e\", \"e\", \"e\", \"e\", \"e\", \"e\", \"e\", \"e\", \"e\", \"e\", \"e\", \"e\", \"e\", \"\n"
   ]
  },
  {
   "cell_type": "markdown",
   "id": "8bf9b51b",
   "metadata": {},
   "source": [
    "# *  : Matches zero or more repetitions of the previous character\n"
   ]
  },
  {
   "cell_type": "code",
   "execution_count": 8,
   "id": "0035e028",
   "metadata": {},
   "outputs": [
    {
     "name": "stdout",
     "output_type": "stream",
     "text": [
      "['', 'e', '', '', '', '', '', '', '', '', '', '', '', 'e', '', '', '', '', '', '', '', '', '', '', '', '', '', '', '', '', '', '', '', '', 'e', '', '', 'e', '', '', '', '', '', '', '', '', '', '', '', '', '', '', '']\n"
     ]
    }
   ],
   "source": [
    "import re\n",
    "\n",
    "text = \"Hello, my name is python. I was created by anakonda.\"\n",
    "\n",
    "# Use the * wildcard to match zero or more repetitions of the letter 'e'\n",
    "matches = re.findall(\"e*\", text)\n",
    "print(matches) # prints [\"e\", \"e\", \"e\", \"e\", \"e\", \"e\", \"e\", \"e\", \"e\", \"e\", \"e\", \"e\", \"e\", \"e\", \"e\", \"e\", \"e\", \"e\", \"e\", \"e\", \"e\", \"e\", \"e\", \"e\", \"e\", \"e\", \"e\", \"e\", \"e\", \"e\", \"e\", \"e\", \"e\", \"e\", \"e\", \"e\", \"e\", \"e\", \"e\", \"e\", \"e\", \"e\", \"e\", \"e\", \"e\", \"e\", \"e\", \"e\", \"e\", \"e\", \"e\", \"e\", \"e\", \"e\", \"e\", \"e\", \"e\", \"e\", \"e\", \"e\", \"e\", \"e\", \"e\", \"e\", \"e\", \"e\", \"e\", \"e\", \"e\", \"e\", \"e\", \"e\", \"e\", \"e\", \"e\", \"e\", \"e\", \"e\", \"e\", \"e\", \"e\", \"e\", \"e\", \"e\", \"e\", \"e\", \"e\", \"e\", \"e\", \"e\", \"e\", \"e\", \"e\", \"e\", \"e\", \"e\", \"e\", \"e\", \"e\", \"e\", \"e\", \"e\", \"e\", \"e\", \"e\", \"e\", \"e\", \"e\", \"e\", \"e\", \"e\", \"e\", \"e\", \"e\", \"e\", \"e\", \"e\", \"e\", \"e\", \"e\", \"e\", \"e\", \"e\", \"e\", \"e\", \"e\", \"e\", \"e\", \"e\", \"e\", \"e\", \"e\", \"e\", \"e\", \"e\", \"e\", \"e\", \"e\", \"e\", \"e\", \"e\", \"e\", \"e\", \"e\", \"e\", \"e\", \"e\", \"e\", \"e\", \"e\", \"e\", \"e\", \"e\", \"e\", \"e\", \"e\", \"e\", \"e\", \"e\", \"e\", \"e\", \"e\", \"e\", \"e\", \"e\", \"e\",\n"
   ]
  },
  {
   "cell_type": "markdown",
   "id": "f94cae9d",
   "metadata": {},
   "source": [
    "## Regex special characters "
   ]
  },
  {
   "cell_type": "markdown",
   "id": "b126eb06",
   "metadata": {},
   "source": [
    "\\d  : A digit   \n",
    "\n",
    "\\D  : Represents any character,but not digits ( Opposite to \\d )\n",
    "\n",
    "\\s  : Represents white space \n",
    "\n",
    "\\S  : Represents any charactor not white space\n",
    "\n",
    "\\w  : Represents any word character\n",
    "\n",
    "\\W  : Represents any word character but not word character\n",
    "\n",
    "\\b  : Represents a space around words\n",
    "\n",
    "\\A  : Matches only at the start of the string \n",
    "\n",
    "\\Z  : Matches only at the start of the string"
   ]
  },
  {
   "cell_type": "code",
   "execution_count": 19,
   "id": "73f792f0",
   "metadata": {},
   "outputs": [
    {
     "name": "stdout",
     "output_type": "stream",
     "text": [
      "['inform him with the latest information  information']\n"
     ]
    }
   ],
   "source": [
    "sample=\"inform him with the latest information  information\"\n",
    "print(re.findall(\"i[a-zA-Z0-9 ]+\",sample))           \n"
   ]
  },
  {
   "cell_type": "code",
   "execution_count": 35,
   "id": "e93bd90c",
   "metadata": {},
   "outputs": [
    {
     "name": "stdout",
     "output_type": "stream",
     "text": [
      "['inform', 'im', 'ithatashhsasfha', 'ion']\n",
      "['ha', 'hh', 'ha']\n",
      "['ha', 'hh', 'ha']\n"
     ]
    }
   ],
   "source": [
    "import re\n",
    "sample=\"inform Him withatashhsasfha latest Information 1729\"\n",
    "print(re.findall(r\"i[a-z]+\",sample))\n",
    "print(re.findall(r\"h[a-z]?\",sample))\n",
    "print(re.findall(r\"h[a-z]\",sample))\n",
    "print(re.findall(r\"i[a-z]*\",sample))\n",
    "print(re.findall(r\"i.\",sample))\n",
    "print(re.findall(r\"i.+\",sample))\n",
    "print(re.findall(r\"i.*\",sample))\n",
    "print(re.findall(r\"i+\",sample))\n",
    "print(re.findall(r\"i*\",sample))\n",
    "\n"
   ]
  },
  {
   "cell_type": "code",
   "execution_count": 1,
   "id": "7e761fd2",
   "metadata": {},
   "outputs": [
    {
     "name": "stdout",
     "output_type": "stream",
     "text": [
      "hi\\chello\n",
      "r'this is raw\n",
      "string'\n",
      "this is raw\\nstring\n"
     ]
    }
   ],
   "source": [
    "print(\"hi\\chello\")\n",
    "print(\"r'this is raw\\nstring'\")\n",
    "p=r'this is raw\\nstring'\n",
    "print(p)"
   ]
  },
  {
   "cell_type": "code",
   "execution_count": 7,
   "id": "f637a9a4",
   "metadata": {},
   "outputs": [
    {
     "name": "stdout",
     "output_type": "stream",
     "text": [
      "at\n"
     ]
    }
   ],
   "source": [
    "import re\n",
    "prog=re.compile(r'a\\w')\n",
    "s=\"cat mat bat rat hi an ar aw \"\n",
    "result=prog.search(s)\n",
    "print(result.group())\n",
    "\n",
    "# str1=\"operating system formate\"\n",
    "# result=prog.search(str1)\n",
    "# print(result.group())"
   ]
  },
  {
   "cell_type": "code",
   "execution_count": 10,
   "id": "009369b6",
   "metadata": {},
   "outputs": [
    {
     "name": "stdout",
     "output_type": "stream",
     "text": [
      "<re.Match object; span=(0, 3), match='man'>\n",
      "man\n"
     ]
    }
   ],
   "source": [
    "import re\n",
    "a=\"man sun mop run\"\n",
    "result=re.search(r'm\\w\\w',a)\n",
    "print(result)\n",
    "if result:\n",
    "    print(result.group())\n",
    "    \n",
    "#print(result.group())"
   ]
  },
  {
   "cell_type": "code",
   "execution_count": 2,
   "id": "6f210411",
   "metadata": {},
   "outputs": [
    {
     "name": "stdout",
     "output_type": "stream",
     "text": [
      "man\n",
      "<re.Match object; span=(0, 3), match='man'>\n"
     ]
    }
   ],
   "source": [
    "import re\n",
    "a=\"man sun mop run\"\n",
    "result=re.search(r'm\\w\\w',a)\n",
    "# if result is not None:\n",
    "#     print(result.group())\n",
    "# if result:\n",
    "#     print(result.group())\n",
    "print(result.group())\n",
    "print(result)"
   ]
  },
  {
   "cell_type": "code",
   "execution_count": 31,
   "id": "5ce9186c",
   "metadata": {},
   "outputs": [
    {
     "name": "stdout",
     "output_type": "stream",
     "text": [
      "['man', 'mop', 'm6u']\n",
      "man\n",
      "mop\n"
     ]
    }
   ],
   "source": [
    "import re\n",
    "a=\"man sun mop run m6u\"\n",
    "result=re.findall(r'm\\w\\w',a) \n",
    "print(result)\n",
    "\n",
    "import re\n",
    "a=\"man sun mop run\"\n",
    "result=re.findall(r'm\\w\\w',a)\n",
    "for i in result:\n",
    "    print(i)\n"
   ]
  },
  {
   "cell_type": "code",
   "execution_count": 6,
   "id": "baad2d12",
   "metadata": {
    "scrolled": true
   },
   "outputs": [
    {
     "name": "stdout",
     "output_type": "stream",
     "text": [
      "man\n",
      "<re.Match object; span=(0, 3), match='man'>\n"
     ]
    }
   ],
   "source": [
    "import re\n",
    "a=\"man sun mop run\"\n",
    "result=re.match(r'm\\w\\w',a)\n",
    "print(result.group())\n",
    "\n",
    "import re\n",
    "a=\"man sun mop run\"\n",
    "result=re.match(r'm\\w\\w',a)\n",
    "print(result)"
   ]
  },
  {
   "cell_type": "code",
   "execution_count": 35,
   "id": "87c84950",
   "metadata": {
    "scrolled": false
   },
   "outputs": [
    {
     "name": "stdout",
     "output_type": "stream",
     "text": [
      "['aaa', '7892bbb', 'ccc', 's', '', '', 'ddd977366', '']\n",
      "['aaa', 'bbb', 'ccc', 's', 'ddd', '']\n"
     ]
    }
   ],
   "source": [
    "import re\n",
    "b=\"aaa;7892bbb*ccc\\'s#$%ddd977366]\"\n",
    "result=re.split(r'\\W',b) #there is no change in the result whethere we put + or remove +\n",
    "print(result)\n",
    "\n",
    "import re\n",
    "b=\"aaa;bbb*ccc\\'s#$%ddd]\"\n",
    "result=re.split(r'\\W+',b) #there is no change in the result whethere we put + or remove +\n",
    "print(result)"
   ]
  },
  {
   "cell_type": "code",
   "execution_count": 36,
   "id": "81124873",
   "metadata": {
    "scrolled": false
   },
   "outputs": [
    {
     "name": "stdout",
     "output_type": "stream",
     "text": [
      "today is sun day\n"
     ]
    }
   ],
   "source": [
    "import re\n",
    "c=\"today is sat day\"\n",
    "result=re.sub(\"sat\",\"sun\",c)\n",
    "print(result)"
   ]
  },
  {
   "cell_type": "code",
   "execution_count": 11,
   "id": "2cc028a8",
   "metadata": {},
   "outputs": [
    {
     "name": "stdout",
     "output_type": "stream",
     "text": [
      "['an sun mop run an man bav trah']\n"
     ]
    }
   ],
   "source": [
    "import re \n",
    "a=\"man sun mop run an man bav trah\"\n",
    "print(re.findall(r'a[\\w ]*',a))"
   ]
  },
  {
   "cell_type": "code",
   "execution_count": 34,
   "id": "2f91afbc",
   "metadata": {},
   "outputs": [
    {
     "name": "stdout",
     "output_type": "stream",
     "text": [
      "an\n",
      "an\n",
      "an\n",
      "av\n",
      "ah\n"
     ]
    }
   ],
   "source": [
    "import re \n",
    "a=\"man sun mop run an man bav trah\"\n",
    "result=re.findall(r'a[\\w]*',a)\n",
    "for i in result:\n",
    "    print(i)"
   ]
  },
  {
   "cell_type": "code",
   "execution_count": 10,
   "id": "b3d40565",
   "metadata": {},
   "outputs": [
    {
     "name": "stdout",
     "output_type": "stream",
     "text": [
      "an\n"
     ]
    }
   ],
   "source": [
    "import re \n",
    "a=\"man sun mop run an man bav trah\"\n",
    "result=re.findall(r'\\ba[\\w]*\\b',a)# \\b starind word space\n",
    "for i in result:\n",
    "    print(i)"
   ]
  },
  {
   "cell_type": "code",
   "execution_count": 53,
   "id": "77043e5e",
   "metadata": {},
   "outputs": [
    {
     "data": {
      "text/plain": [
       "['man sun mop run an manuy bav trah ', ' ', ' ', ' ', ' ', ' ']"
      ]
     },
     "execution_count": 53,
     "metadata": {},
     "output_type": "execute_result"
    }
   ],
   "source": [
    "import re \n",
    "a=\"man sun mop run an manuy bav trah 9 0 8 8 98 987\"\n",
    "re.findall(r'\\D+\\b',a)\n"
   ]
  },
  {
   "cell_type": "code",
   "execution_count": 64,
   "id": "3970c3dc",
   "metadata": {},
   "outputs": [
    {
     "name": "stdout",
     "output_type": "stream",
     "text": [
      "['man', 'sun', 'mop', 'run', 'man', 'bav', 'tra', '987']\n",
      "['man', 'sun', 'mop', 'run', 'man', 'bav', 'rah', '987']\n",
      "['man', 'sun', 'mop', 'run', 'man', 'bav', '987']\n",
      "['trah']\n",
      "['man', 'sun', 'mop', 'run', 'an', 'man', 'bav', 'trah', '98', '987']\n",
      "['man', 'sun', 'mop', 'run', 'an', 'man', 'bav', 'trah', '98', '987']\n",
      "['9', '0', '8', '8']\n",
      "['9', '0', '8', '8', '98', '987']\n",
      "['man sun mop run an man bav trah ', ' ', ' ', ' ', ' ', ' ']\n"
     ]
    }
   ],
   "source": [
    "import re \n",
    "a=\"man sun mop run an man bav trah 9 0 8 8 98 987\"\n",
    "result=re.findall(r'\\b\\w{3}',a)\n",
    "print(result)\n",
    "\n",
    "result=re.findall(r'\\w{3}\\b',a)\n",
    "print(result)\n",
    "\n",
    "\n",
    "result=re.findall(r'\\b\\w{3}\\b',a)\n",
    "print(result)\n",
    "\n",
    "result=re.findall(r'\\b\\w{4}\\b',a)\n",
    "print(result)\n",
    "\n",
    "result=re.findall(r'\\b\\w{2,}\\b',a)\n",
    "print(result)\n",
    "\n",
    "result=re.findall(r'\\b\\w{2,6}\\b',a)\n",
    "print(result)\n",
    "\n",
    "result=re.findall(r'\\b\\d\\b',a)\n",
    "print(result)\n",
    "\n",
    "result=re.findall(r'\\b\\d+\\b',a)\n",
    "print(result)\n",
    "\n",
    "result=re.findall(r'\\b\\D+\\b',a)\n",
    "print(result)\n"
   ]
  },
  {
   "cell_type": "code",
   "execution_count": 58,
   "id": "4a0b7eee",
   "metadata": {},
   "outputs": [
    {
     "name": "stdout",
     "output_type": "stream",
     "text": [
      "['three']\n"
     ]
    }
   ],
   "source": [
    "import re\n",
    "s=\"one two three four one two three\"\n",
    "result=re.findall(r't[\\w]*\\Z',s)\n",
    "print(result)"
   ]
  },
  {
   "cell_type": "code",
   "execution_count": 13,
   "id": "0eaf1345",
   "metadata": {},
   "outputs": [
    {
     "name": "stdout",
     "output_type": "stream",
     "text": [
      "NG\n"
     ]
    }
   ],
   "source": [
    "import re\n",
    "def abbreviate(words):\n",
    "    return \"\".join(word[0].upper() for word in re.sub(r'[_-]',' ', words).split())\n",
    "\n",
    "print (abbreviate(\"national geography\"))"
   ]
  },
  {
   "cell_type": "code",
   "execution_count": 8,
   "id": "8be917fe",
   "metadata": {},
   "outputs": [
    {
     "name": "stdout",
     "output_type": "stream",
     "text": [
      "Hello Python, How Are You?\n"
     ]
    }
   ],
   "source": [
    "def emphasise(txt):\n",
    "    return ' '.join(w[0].upper()+w[1:].lower() for w in txt.split())\n",
    "\n",
    "\n",
    "print (emphasise(\"hello python, how aRe you?\"))"
   ]
  },
  {
   "cell_type": "code",
   "execution_count": 12,
   "id": "a4c7f75c",
   "metadata": {},
   "outputs": [
    {
     "name": "stdout",
     "output_type": "stream",
     "text": [
      "{'first_name': 'John', 'last_name': 'Doe', 'id': '123'}\n"
     ]
    }
   ],
   "source": [
    "import re\n",
    "\n",
    "def parse_code(txt):\n",
    "    first, second, _id = re.split('0+', txt)\n",
    "    return {'first_name': first, 'last_name': second, 'id': _id}\n",
    "\n",
    "\n",
    "print (parse_code(\"John000Doe000123\"))"
   ]
  },
  {
   "cell_type": "markdown",
   "id": "929ee1ca",
   "metadata": {},
   "source": [
    "# Python PIP\n",
    "PIP is a package manager for Python packages, or modules if you like.\n",
    "### What is a Package?\n",
    "A package contains all the files you need for a module.\n",
    "\n",
    "Modules are Python code libraries you can include in your project."
   ]
  },
  {
   "cell_type": "code",
   "execution_count": null,
   "id": "dbee8c9e",
   "metadata": {},
   "outputs": [],
   "source": []
  }
 ],
 "metadata": {
  "kernelspec": {
   "display_name": "Python 3 (ipykernel)",
   "language": "python",
   "name": "python3"
  },
  "language_info": {
   "codemirror_mode": {
    "name": "ipython",
    "version": 3
   },
   "file_extension": ".py",
   "mimetype": "text/x-python",
   "name": "python",
   "nbconvert_exporter": "python",
   "pygments_lexer": "ipython3",
   "version": "3.9.13"
  }
 },
 "nbformat": 4,
 "nbformat_minor": 5
}
