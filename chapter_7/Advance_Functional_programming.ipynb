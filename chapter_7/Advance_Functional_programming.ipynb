{
 "cells": [
  {
   "cell_type": "markdown",
   "id": "03ece2b9",
   "metadata": {},
   "source": [
    "# Advance_Functional_programming\n",
    "1.Lambda , Maps , filter , Generator , Decorator"
   ]
  },
  {
   "cell_type": "markdown",
   "id": "cfaa1e09",
   "metadata": {},
   "source": [
    "# Anonymous function OR Lambdas¶\n",
    "\n",
    "*A function without name is called Anonymous function. To define a function we have to use \"def\" keyword. But,anonymous function not defind by using the \"def\" keyword,they are defind by using the \" lambda\" keyword hence they are called \"lambdas\" .\n"
   ]
  },
  {
   "cell_type": "code",
   "execution_count": 1,
   "id": "fff38a94",
   "metadata": {},
   "outputs": [
    {
     "data": {
      "text/plain": [
       "3"
      ]
     },
     "execution_count": 1,
     "metadata": {},
     "output_type": "execute_result"
    }
   ],
   "source": [
    "def add():# creating a function\n",
    "    a=1\n",
    "    b=2\n",
    "    return a+b\n",
    "add()"
   ]
  },
  {
   "cell_type": "code",
   "execution_count": 2,
   "id": "55191052",
   "metadata": {},
   "outputs": [
    {
     "name": "stdout",
     "output_type": "stream",
     "text": [
      "60\n"
     ]
    }
   ],
   "source": [
    "x = lambda a,b,c:a+b+c\n",
    "print(x(10,20,30))"
   ]
  },
  {
   "cell_type": "markdown",
   "id": "6e7e8d33",
   "metadata": {},
   "source": [
    "This code defines a lambda function, which is a small anonymous function, and assigns it to the variable \"x\". The lambda function takes in three arguments (a, b, and c) and returns the sum of those arguments (a+b+c). Then, the code calls the lambda function with the values 10, 20, and 30 as arguments, and prints the result, which is 60."
   ]
  },
  {
   "cell_type": "code",
   "execution_count": 2,
   "id": "eb6cc572",
   "metadata": {},
   "outputs": [
    {
     "name": "stdout",
     "output_type": "stream",
     "text": [
      "Result is : 9\n"
     ]
    }
   ],
   "source": [
    "def f(n):\n",
    "    return lambda a:a**n\n",
    "\n",
    "x=f\n",
    "print(\"Result is :\",x(2)(3))"
   ]
  },
  {
   "cell_type": "code",
   "execution_count": 4,
   "id": "76d6704d",
   "metadata": {},
   "outputs": [
    {
     "data": {
      "text/plain": [
       "30"
      ]
     },
     "execution_count": 4,
     "metadata": {},
     "output_type": "execute_result"
    }
   ],
   "source": [
    "x = lambda a,b:a*b\n",
    "x(5,6)"
   ]
  },
  {
   "cell_type": "code",
   "execution_count": 5,
   "id": "4ef29835",
   "metadata": {},
   "outputs": [
    {
     "data": {
      "text/plain": [
       "30"
      ]
     },
     "execution_count": 5,
     "metadata": {},
     "output_type": "execute_result"
    }
   ],
   "source": [
    "(lambda a,b:a*b)(5,6)"
   ]
  },
  {
   "cell_type": "code",
   "execution_count": 6,
   "id": "55fdf086",
   "metadata": {},
   "outputs": [
    {
     "data": {
      "text/plain": [
       "32"
      ]
     },
     "execution_count": 6,
     "metadata": {},
     "output_type": "execute_result"
    }
   ],
   "source": [
    "x = lambda a,b:a**b\n",
    "x(b=5,a=2)"
   ]
  },
  {
   "cell_type": "code",
   "execution_count": 1,
   "id": "453d3d09",
   "metadata": {},
   "outputs": [
    {
     "data": {
      "text/plain": [
       "'Even'"
      ]
     },
     "execution_count": 1,
     "metadata": {},
     "output_type": "execute_result"
    }
   ],
   "source": [
    "y=lambda x:(x%2 and \"Odd\" or \"Even\")\n",
    "y(12)"
   ]
  },
  {
   "cell_type": "code",
   "execution_count": 9,
   "id": "3b936835",
   "metadata": {},
   "outputs": [
    {
     "data": {
      "text/plain": [
       "'Even'"
      ]
     },
     "execution_count": 9,
     "metadata": {},
     "output_type": "execute_result"
    }
   ],
   "source": [
    "(lambda x:(x%2 and \"Odd\" or \"Even\"))(20)"
   ]
  },
  {
   "cell_type": "code",
   "execution_count": 10,
   "id": "7a180b37",
   "metadata": {},
   "outputs": [
    {
     "data": {
      "text/plain": [
       "True"
      ]
     },
     "execution_count": 10,
     "metadata": {},
     "output_type": "execute_result"
    }
   ],
   "source": [
    "a=lambda string:string in \"Welcome to python program\"\n",
    "a(\"python\")"
   ]
  },
  {
   "cell_type": "code",
   "execution_count": 2,
   "id": "f460e63a",
   "metadata": {},
   "outputs": [
    {
     "name": "stdout",
     "output_type": "stream",
     "text": [
      "1\n",
      "2\n",
      "4\n",
      "6\n",
      "7\n"
     ]
    }
   ],
   "source": [
    "# simple iterator\n",
    "for i in [1,2,4,6,7]:\n",
    "    print(i)\n"
   ]
  },
  {
   "cell_type": "code",
   "execution_count": 3,
   "id": "1b197238",
   "metadata": {},
   "outputs": [
    {
     "name": "stdout",
     "output_type": "stream",
     "text": [
      "0\n",
      "1\n",
      "2\n",
      "3\n",
      "4\n",
      "5\n",
      "6\n",
      "7\n",
      "8\n"
     ]
    }
   ],
   "source": [
    "for i in range(9):\n",
    "    print(i)"
   ]
  },
  {
   "cell_type": "code",
   "execution_count": 4,
   "id": "43542b3f",
   "metadata": {},
   "outputs": [
    {
     "name": "stdout",
     "output_type": "stream",
     "text": [
      "s\n",
      "t\n",
      "r\n",
      "i\n",
      "n\n",
      "g\n"
     ]
    }
   ],
   "source": [
    "for i in \"string\":\n",
    "    print(i)"
   ]
  },
  {
   "cell_type": "code",
   "execution_count": 5,
   "id": "ac3ed14e",
   "metadata": {},
   "outputs": [
    {
     "name": "stdout",
     "output_type": "stream",
     "text": [
      "a\n",
      "b\n"
     ]
    }
   ],
   "source": [
    "for i in {\"a\":1,\"b\":2}:\n",
    "    print(i)\n"
   ]
  },
  {
   "cell_type": "code",
   "execution_count": 6,
   "id": "d935ead9",
   "metadata": {},
   "outputs": [
    {
     "name": "stdout",
     "output_type": "stream",
     "text": [
      "['apple', 'banana', 'orange']\n"
     ]
    }
   ],
   "source": [
    "fruits=[\"apple\",\"cherry\",\"banana\",\"kiwi\",\"orange\"]\n",
    "newlist=[]\n",
    "for x in fruits:\n",
    "    if \"a\" in x:\n",
    "        newlist.append(x)\n",
    "print(newlist)"
   ]
  },
  {
   "cell_type": "code",
   "execution_count": 7,
   "id": "7bb2eb32",
   "metadata": {},
   "outputs": [
    {
     "name": "stdout",
     "output_type": "stream",
     "text": [
      "['apple', 'banana', 'orange']\n"
     ]
    }
   ],
   "source": [
    "# list comprehension\n",
    "fruits=[\"apple\",\"cherry\",\"banana\",\"kiwi\",\"orange\"]\n",
    "newlist=[each_fruit for each_fruit in fruits if \"a\" in each_fruit]\n",
    "print(newlist)"
   ]
  },
  {
   "cell_type": "code",
   "execution_count": 8,
   "id": "190639f5",
   "metadata": {},
   "outputs": [
    {
     "data": {
      "text/plain": [
       "['p', 'y', 't', 'h', 'o', 'n']"
      ]
     },
     "execution_count": 8,
     "metadata": {},
     "output_type": "execute_result"
    }
   ],
   "source": [
    "h=[letter for letter in \"python\"]\n",
    "h"
   ]
  },
  {
   "cell_type": "code",
   "execution_count": 10,
   "id": "24c105f0",
   "metadata": {},
   "outputs": [
    {
     "name": "stdout",
     "output_type": "stream",
     "text": [
      "0\n",
      "2\n",
      "4\n",
      "6\n",
      "8\n",
      "10\n",
      "12\n",
      "14\n",
      "16\n",
      "18\n"
     ]
    }
   ],
   "source": [
    "for x in range(20):\n",
    "    if x%2 ==0:\n",
    "        print(x)"
   ]
  },
  {
   "cell_type": "code",
   "execution_count": 9,
   "id": "4f21edd2",
   "metadata": {},
   "outputs": [
    {
     "data": {
      "text/plain": [
       "[0, 2, 4, 6, 8, 10, 12, 14, 16, 18]"
      ]
     },
     "execution_count": 9,
     "metadata": {},
     "output_type": "execute_result"
    }
   ],
   "source": [
    "n=[x for x in range(20)if x%2==0]\n",
    "n"
   ]
  },
  {
   "cell_type": "markdown",
   "id": "7993f485",
   "metadata": {},
   "source": [
    "# filter()\n",
    "\n",
    "A filter() function is useful to extrac elements from the sequence depending on the result of the function."
   ]
  },
  {
   "cell_type": "code",
   "execution_count": 11,
   "id": "e79a3e0a",
   "metadata": {},
   "outputs": [
    {
     "name": "stdout",
     "output_type": "stream",
     "text": [
      "[67, 87]\n"
     ]
    }
   ],
   "source": [
    "num=[10,20,30,40,67,87]\n",
    "a=list(filter(lambda num:num>50,num))\n",
    "print(a)"
   ]
  },
  {
   "cell_type": "code",
   "execution_count": 11,
   "id": "2da56eab",
   "metadata": {},
   "outputs": [
    {
     "name": "stdout",
     "output_type": "stream",
     "text": [
      "[-5, -4, -3, -2, -1, 0, 1, 2, 3, 4]\n"
     ]
    }
   ],
   "source": [
    "x=list(range(-5,5))\n",
    "print(x)  "
   ]
  },
  {
   "cell_type": "code",
   "execution_count": 17,
   "id": "e46586f0",
   "metadata": {},
   "outputs": [
    {
     "name": "stdout",
     "output_type": "stream",
     "text": [
      "[1, 2, 3, 4]\n"
     ]
    }
   ],
   "source": [
    "r=list(range(-5,5))\n",
    "y=[]\n",
    "for x in r:\n",
    "    if x>0:\n",
    "        y.append(x)\n",
    "\n",
    "print(y)        \n",
    "       "
   ]
  },
  {
   "cell_type": "code",
   "execution_count": null,
   "id": "badfee7a",
   "metadata": {},
   "outputs": [],
   "source": [
    "r=list(range(-5,5))\n"
   ]
  },
  {
   "cell_type": "code",
   "execution_count": 20,
   "id": "699befee",
   "metadata": {},
   "outputs": [
    {
     "data": {
      "text/plain": [
       "[-5, -4, -3, -2, -1, 0, 1, 2]"
      ]
     },
     "execution_count": 20,
     "metadata": {},
     "output_type": "execute_result"
    }
   ],
   "source": [
    "r=list(range(-5,5))\n",
    "list(filter((lambda x:x<3),r))"
   ]
  },
  {
   "cell_type": "code",
   "execution_count": 12,
   "id": "b1643ed1",
   "metadata": {},
   "outputs": [
    {
     "name": "stdout",
     "output_type": "stream",
     "text": [
      "[4, 8, 16, 20]\n"
     ]
    }
   ],
   "source": [
    "l=[1,3,2,6,4,5,8,16,20]\n",
    "a=list(filter(lambda x:(x%4==0),l))\n",
    "print(a)"
   ]
  },
  {
   "cell_type": "code",
   "execution_count": null,
   "id": "3561347e",
   "metadata": {},
   "outputs": [],
   "source": []
  },
  {
   "cell_type": "code",
   "execution_count": null,
   "id": "10e22007",
   "metadata": {},
   "outputs": [],
   "source": []
  },
  {
   "cell_type": "code",
   "execution_count": null,
   "id": "fa90c0c0",
   "metadata": {},
   "outputs": [],
   "source": []
  },
  {
   "cell_type": "markdown",
   "id": "c3a2573b",
   "metadata": {},
   "source": [
    "# map()\n",
    "\n",
    "map() function is useful to perform some operation on each element of the sequence depending on function"
   ]
  },
  {
   "cell_type": "code",
   "execution_count": 13,
   "id": "9b7974ab",
   "metadata": {},
   "outputs": [
    {
     "name": "stdout",
     "output_type": "stream",
     "text": [
      "[1, 4, 9, 16, 25, 36]\n"
     ]
    }
   ],
   "source": [
    "l=[1,2,3,4,5,6]\n",
    "print(list(map(lambda x:x**2,l)))"
   ]
  },
  {
   "cell_type": "code",
   "execution_count": 14,
   "id": "6d65c1bf",
   "metadata": {},
   "outputs": [
    {
     "data": {
      "text/plain": [
       "9"
      ]
     },
     "execution_count": 14,
     "metadata": {},
     "output_type": "execute_result"
    }
   ],
   "source": [
    "def square(a):\n",
    "    return a**2\n",
    "square(3)    "
   ]
  },
  {
   "cell_type": "code",
   "execution_count": 15,
   "id": "836dfc5a",
   "metadata": {},
   "outputs": [
    {
     "name": "stdout",
     "output_type": "stream",
     "text": [
      "[1, 4, 9, 16]\n"
     ]
    }
   ],
   "source": [
    "num=[1,2,3,4]\n",
    "x=list(map(square,num))\n",
    "print(x)"
   ]
  },
  {
   "cell_type": "code",
   "execution_count": 16,
   "id": "f27f7edd",
   "metadata": {},
   "outputs": [
    {
     "name": "stdout",
     "output_type": "stream",
     "text": [
      "[4, 9]\n"
     ]
    }
   ],
   "source": [
    "x=[2,3]\n",
    "y=list(map(square,x))\n",
    "print(y)"
   ]
  },
  {
   "cell_type": "markdown",
   "id": "c95adad5",
   "metadata": {},
   "source": [
    "# reduce()\n",
    "\n",
    "it reduce a sequence of the  elements into a singe element by processing the elements according to the function supplied"
   ]
  },
  {
   "cell_type": "code",
   "execution_count": 19,
   "id": "8f8409a7",
   "metadata": {},
   "outputs": [
    {
     "data": {
      "text/plain": [
       "20"
      ]
     },
     "execution_count": 19,
     "metadata": {},
     "output_type": "execute_result"
    }
   ],
   "source": [
    "from functools import reduce\n",
    "a=reduce((lambda x,y:x+y),range(2,10,2))\n",
    "a"
   ]
  },
  {
   "cell_type": "code",
   "execution_count": 18,
   "id": "c7a52606",
   "metadata": {},
   "outputs": [
    {
     "name": "stdout",
     "output_type": "stream",
     "text": [
      "[0, 2, 4, 6, 8]\n"
     ]
    }
   ],
   "source": [
    "print(list(range(0,10,2)))"
   ]
  },
  {
   "cell_type": "markdown",
   "id": "942a157f",
   "metadata": {},
   "source": [
    "# functions"
   ]
  },
  {
   "cell_type": "code",
   "execution_count": 20,
   "id": "ab459413",
   "metadata": {},
   "outputs": [
    {
     "name": "stdout",
     "output_type": "stream",
     "text": [
      "3\n"
     ]
    }
   ],
   "source": [
    "#defining the function\n",
    "\n",
    "def f(a,b):      # defining the function and , a & b are the parameters\n",
    "    return a+b   # return statement\n",
    "f(1,2)# calling the function and, 1 & 2 are the arguments that are passed to the parameters a & b\n",
    "print(f(1,2))"
   ]
  },
  {
   "cell_type": "code",
   "execution_count": 26,
   "id": "1a83379b",
   "metadata": {},
   "outputs": [
    {
     "name": "stdout",
     "output_type": "stream",
     "text": [
      "10\n",
      "20\n",
      "<function f1 at 0x000002368DC45790>\n",
      "5\n"
     ]
    }
   ],
   "source": [
    "def f1(x):\n",
    "    return x;\n",
    "\n",
    "print (f1(10))\n",
    "f1(90)\n",
    "print(f1(20))\n",
    "\n",
    "\n",
    "print(f1)\n",
    "\n",
    "a=f1(5)\n",
    "print(a)"
   ]
  },
  {
   "cell_type": "code",
   "execution_count": 35,
   "id": "7b8abd73",
   "metadata": {},
   "outputs": [
    {
     "name": "stdout",
     "output_type": "stream",
     "text": [
      "The sum of the 1 and 2 is 3\n"
     ]
    }
   ],
   "source": [
    "def f(a,b):\n",
    "    return \"The sum of the {} and {} is {}\".format(a,b,a+b)\n",
    "print(f(1,2))"
   ]
  },
  {
   "cell_type": "code",
   "execution_count": 39,
   "id": "a5d7baec",
   "metadata": {},
   "outputs": [
    {
     "name": "stdout",
     "output_type": "stream",
     "text": [
      "(1, 2, 3, -1)\n"
     ]
    }
   ],
   "source": [
    "def f(a,b):\n",
    "    return a,b,a+b,a-b\n",
    "print(f(1,2))"
   ]
  },
  {
   "cell_type": "code",
   "execution_count": 40,
   "id": "86650902",
   "metadata": {},
   "outputs": [
    {
     "name": "stdout",
     "output_type": "stream",
     "text": [
      "1 2 3 -1\n",
      "Hellow\n"
     ]
    }
   ],
   "source": [
    "def f(a,b):\n",
    "    print(a,b,a+b,a-b)\n",
    "    return \"Hellow\"\n",
    "    print(\"Hi..........\")\n",
    "print(f(1,2))"
   ]
  },
  {
   "cell_type": "code",
   "execution_count": 41,
   "id": "c8671b6a",
   "metadata": {},
   "outputs": [
    {
     "ename": "SyntaxError",
     "evalue": "invalid syntax (2329250403.py, line 2)",
     "output_type": "error",
     "traceback": [
      "\u001b[1;36m  File \u001b[1;32m\"C:\\Users\\91852\\AppData\\Local\\Temp\\ipykernel_15472\\2329250403.py\"\u001b[1;36m, line \u001b[1;32m2\u001b[0m\n\u001b[1;33m    return for i in range(10) # error, because we can't able to use the \"for\" in return statement\u001b[0m\n\u001b[1;37m           ^\u001b[0m\n\u001b[1;31mSyntaxError\u001b[0m\u001b[1;31m:\u001b[0m invalid syntax\n"
     ]
    }
   ],
   "source": [
    "def f(a):\n",
    "    return for i in range(10) # error, because we can't able to use the \"for\" in return statement\n",
    "print(f([1,2,3,4,5,6,7,8,9]))"
   ]
  },
  {
   "cell_type": "code",
   "execution_count": 42,
   "id": "321478dd",
   "metadata": {},
   "outputs": [
    {
     "name": "stdout",
     "output_type": "stream",
     "text": [
      "3\n"
     ]
    }
   ],
   "source": [
    "def f(a,b):\n",
    "    return a+b\n",
    "x=f(1,2) # assigning the function to the variable\n",
    "print(x)"
   ]
  },
  {
   "cell_type": "code",
   "execution_count": 43,
   "id": "f9ed1505",
   "metadata": {},
   "outputs": [
    {
     "name": "stdout",
     "output_type": "stream",
     "text": [
      "31 is the odd number\n"
     ]
    }
   ],
   "source": [
    "def even_odd(n):\n",
    "    if(n%2==0):\n",
    "        print(n, \"is the even number\")\n",
    "    else:\n",
    "        print(n, \"is the odd number\")\n",
    "        \n",
    "\n",
    "even_odd(31) # Type 1\n"
   ]
  },
  {
   "cell_type": "code",
   "execution_count": 44,
   "id": "068d3e3e",
   "metadata": {},
   "outputs": [
    {
     "name": "stdout",
     "output_type": "stream",
     "text": [
      "enter your number to chech whether it is even or odd : 25\n",
      "25 is the odd number\n",
      "enter your number to chech whether it is even or odd : 7\n",
      "7 is the odd number\n"
     ]
    }
   ],
   "source": [
    "num=int(input(\"enter your number to chech whether it is even or odd : \"))  # Type 2\n",
    "even_odd(num)\n",
    "\n",
    "even_odd(int(input(\"enter your number to chech whether it is even or odd : \")))  # Type 3"
   ]
  },
  {
   "cell_type": "code",
   "execution_count": 45,
   "id": "4d5120ac",
   "metadata": {},
   "outputs": [
    {
     "name": "stdout",
     "output_type": "stream",
     "text": [
      "(4, 9, 16)\n"
     ]
    }
   ],
   "source": [
    "# retuning two or more values by the return statement\n",
    "\n",
    "def f(n):\n",
    "    return 2**n,3**n,4**n   # returning more then one variable\n",
    "print(f(2))\n",
    "    "
   ]
  },
  {
   "cell_type": "markdown",
   "id": "666c1910",
   "metadata": {},
   "source": [
    "# Function Generators\n",
    "\n",
    "generators are the functions that returns the sequence of the values. A generator is like a ordinary function, but uses the \"yield\" keyword.\n",
    "\n",
    "Python provides a generator to create your own iterator function. A generator is a special type of function which does not return a single value, instead, it returns an iterator object with a sequence of values. In a generator function, a yield statement is used rather than a return statement. The following is a simple generator function.\n"
   ]
  },
  {
   "cell_type": "code",
   "execution_count": 29,
   "id": "d8a76963",
   "metadata": {},
   "outputs": [
    {
     "name": "stdout",
     "output_type": "stream",
     "text": [
      "<generator object mygenerator at 0x00000241ACB5DC80>\n",
      "First item\n",
      "20\n",
      "Second item\n",
      "20\n"
     ]
    },
    {
     "ename": "StopIteration",
     "evalue": "",
     "output_type": "error",
     "traceback": [
      "\u001b[1;31m---------------------------------------------------------------------------\u001b[0m",
      "\u001b[1;31mStopIteration\u001b[0m                             Traceback (most recent call last)",
      "\u001b[1;32m~\\AppData\\Local\\Temp\\ipykernel_16424\\445906079.py\u001b[0m in \u001b[0;36m<module>\u001b[1;34m\u001b[0m\n\u001b[0;32m     15\u001b[0m \u001b[0mprint\u001b[0m\u001b[1;33m(\u001b[0m\u001b[0mnext\u001b[0m\u001b[1;33m(\u001b[0m\u001b[0mg\u001b[0m\u001b[1;33m)\u001b[0m\u001b[1;33m)\u001b[0m\u001b[1;33m\u001b[0m\u001b[1;33m\u001b[0m\u001b[0m\n\u001b[0;32m     16\u001b[0m \u001b[0mprint\u001b[0m\u001b[1;33m(\u001b[0m\u001b[0mnext\u001b[0m\u001b[1;33m(\u001b[0m\u001b[0mg\u001b[0m\u001b[1;33m)\u001b[0m\u001b[1;33m)\u001b[0m\u001b[1;33m\u001b[0m\u001b[1;33m\u001b[0m\u001b[0m\n\u001b[1;32m---> 17\u001b[1;33m \u001b[0mprint\u001b[0m\u001b[1;33m(\u001b[0m\u001b[0mnext\u001b[0m\u001b[1;33m(\u001b[0m\u001b[0mg\u001b[0m\u001b[1;33m)\u001b[0m\u001b[1;33m)\u001b[0m\u001b[1;33m\u001b[0m\u001b[1;33m\u001b[0m\u001b[0m\n\u001b[0m\u001b[0;32m     18\u001b[0m \u001b[1;31m# print(next(g)) # error\u001b[0m\u001b[1;33m\u001b[0m\u001b[1;33m\u001b[0m\u001b[0m\n",
      "\u001b[1;31mStopIteration\u001b[0m: "
     ]
    }
   ],
   "source": [
    "def mygenerator():\n",
    "    print('First item')\n",
    "    yield 10 if 10>20 else 20\n",
    "\n",
    "    print('Second item')\n",
    "    yield 20\n",
    "   \n",
    "\n",
    "    print('Last item')\n",
    "    yield 30\n",
    "    \n",
    "g=mygenerator()\n",
    "print(g)\n",
    "\n",
    "print(next(g))\n",
    "print(next(g))\n",
    "print(next(g))\n",
    "# print(next(g)) # error\n"
   ]
  },
  {
   "cell_type": "code",
   "execution_count": 49,
   "id": "c3d4a906",
   "metadata": {},
   "outputs": [
    {
     "name": "stdout",
     "output_type": "stream",
     "text": [
      "0\n",
      "1\n",
      "4\n",
      "9\n",
      "16\n",
      "25\n",
      "36\n",
      "49\n",
      "64\n",
      "81\n"
     ]
    },
    {
     "ename": "StopIteration",
     "evalue": "",
     "output_type": "error",
     "traceback": [
      "\u001b[1;31m---------------------------------------------------------------------------\u001b[0m",
      "\u001b[1;31mStopIteration\u001b[0m                             Traceback (most recent call last)",
      "\u001b[1;32m~\\AppData\\Local\\Temp\\ipykernel_15472\\681091440.py\u001b[0m in \u001b[0;36m<module>\u001b[1;34m\u001b[0m\n\u001b[0;32m      5\u001b[0m \u001b[0mgen\u001b[0m\u001b[1;33m=\u001b[0m\u001b[0msquare_of_sequence\u001b[0m\u001b[1;33m(\u001b[0m\u001b[1;33m)\u001b[0m\u001b[1;33m\u001b[0m\u001b[1;33m\u001b[0m\u001b[0m\n\u001b[0;32m      6\u001b[0m \u001b[1;32mwhile\u001b[0m \u001b[1;32mTrue\u001b[0m\u001b[1;33m:\u001b[0m\u001b[1;33m\u001b[0m\u001b[1;33m\u001b[0m\u001b[0m\n\u001b[1;32m----> 7\u001b[1;33m     \u001b[0mprint\u001b[0m \u001b[1;33m(\u001b[0m\u001b[0mnext\u001b[0m\u001b[1;33m(\u001b[0m\u001b[0mgen\u001b[0m\u001b[1;33m)\u001b[0m\u001b[1;33m)\u001b[0m\u001b[1;33m\u001b[0m\u001b[1;33m\u001b[0m\u001b[0m\n\u001b[0m",
      "\u001b[1;31mStopIteration\u001b[0m: "
     ]
    }
   ],
   "source": [
    "def square_of_sequence():\n",
    "    for i in range(10):\n",
    "        yield i**2\n",
    "        \n",
    "gen=square_of_sequence()\n",
    "while True:\n",
    "    print (next(gen))"
   ]
  },
  {
   "cell_type": "code",
   "execution_count": 50,
   "id": "cf99b597",
   "metadata": {},
   "outputs": [
    {
     "data": {
      "text/plain": [
       "[1, 4, 9, 16, 25, 36, 49, 64, 81, 100]"
      ]
     },
     "execution_count": 50,
     "metadata": {},
     "output_type": "execute_result"
    }
   ],
   "source": [
    "[i*i for i in range(1,11)]"
   ]
  },
  {
   "cell_type": "code",
   "execution_count": 51,
   "id": "32f8cffb",
   "metadata": {},
   "outputs": [
    {
     "name": "stdout",
     "output_type": "stream",
     "text": [
      "0\n",
      "1\n",
      "4\n",
      "9\n",
      "16\n"
     ]
    },
    {
     "ename": "StopIteration",
     "evalue": "",
     "output_type": "error",
     "traceback": [
      "\u001b[1;31m---------------------------------------------------------------------------\u001b[0m",
      "\u001b[1;31mStopIteration\u001b[0m                             Traceback (most recent call last)",
      "\u001b[1;32m~\\AppData\\Local\\Temp\\ipykernel_15472\\1644093989.py\u001b[0m in \u001b[0;36m<module>\u001b[1;34m\u001b[0m\n\u001b[0;32m      5\u001b[0m \u001b[0mprint\u001b[0m\u001b[1;33m(\u001b[0m\u001b[0mnext\u001b[0m\u001b[1;33m(\u001b[0m\u001b[0msqures\u001b[0m\u001b[1;33m)\u001b[0m\u001b[1;33m)\u001b[0m\u001b[1;33m\u001b[0m\u001b[1;33m\u001b[0m\u001b[0m\n\u001b[0;32m      6\u001b[0m \u001b[0mprint\u001b[0m\u001b[1;33m(\u001b[0m\u001b[0mnext\u001b[0m\u001b[1;33m(\u001b[0m\u001b[0msqures\u001b[0m\u001b[1;33m)\u001b[0m\u001b[1;33m)\u001b[0m\u001b[1;33m\u001b[0m\u001b[1;33m\u001b[0m\u001b[0m\n\u001b[1;32m----> 7\u001b[1;33m \u001b[0mprint\u001b[0m\u001b[1;33m(\u001b[0m\u001b[0mnext\u001b[0m\u001b[1;33m(\u001b[0m\u001b[0msqures\u001b[0m\u001b[1;33m)\u001b[0m\u001b[1;33m)\u001b[0m  \u001b[1;31m# ERROR\u001b[0m\u001b[1;33m\u001b[0m\u001b[1;33m\u001b[0m\u001b[0m\n\u001b[0m",
      "\u001b[1;31mStopIteration\u001b[0m: "
     ]
    }
   ],
   "source": [
    "squres = (x*x for x in range(5))\n",
    "print(next(squres))\n",
    "print(next(squres))\n",
    "print(next(squres))\n",
    "print(next(squres))\n",
    "print(next(squres))\n",
    "print(next(squres))  # ERROR\n"
   ]
  },
  {
   "cell_type": "code",
   "execution_count": 52,
   "id": "305f1ff3",
   "metadata": {},
   "outputs": [
    {
     "name": "stdout",
     "output_type": "stream",
     "text": [
      "1\n",
      "2\n",
      "3\n"
     ]
    }
   ],
   "source": [
    "# A generator function that yields 1 for first time,2 second time and 3 third time\n",
    "\n",
    "def simpleGeneratorFun():\n",
    "    yield 1            \n",
    "    yield 2            \n",
    "    yield 3            \n",
    "    \n",
    "# Driver code to check above generator function\n",
    "for value in simpleGeneratorFun(): \n",
    "    print(value)"
   ]
  },
  {
   "cell_type": "code",
   "execution_count": 53,
   "id": "9d57a67b",
   "metadata": {},
   "outputs": [
    {
     "name": "stdout",
     "output_type": "stream",
     "text": [
      "1\n",
      "2\n"
     ]
    }
   ],
   "source": [
    "# A Python program to demonstrate use of  generator object with next() \n",
    "  \n",
    "# A generator function\n",
    "def simpleGeneratorFun():\n",
    "    yield 1\n",
    "    yield 2\n",
    "    yield 3\n",
    "    \n",
    "# x is a generator object\n",
    "x = simpleGeneratorFun()\n",
    "\n",
    "  \n",
    "# Iterating over the generator object using next\n",
    "print(next(x)) \n",
    "print(next(x))"
   ]
  },
  {
   "cell_type": "code",
   "execution_count": 54,
   "id": "ab073b2f",
   "metadata": {},
   "outputs": [
    {
     "name": "stdout",
     "output_type": "stream",
     "text": [
      "1\n",
      "2\n",
      "3\n"
     ]
    }
   ],
   "source": [
    "def f():\n",
    "    yield 1\n",
    "    yield 2\n",
    "    yield 3\n",
    "for i in f():\n",
    "    print(i)"
   ]
  },
  {
   "cell_type": "code",
   "execution_count": 55,
   "id": "03a159d8",
   "metadata": {},
   "outputs": [
    {
     "name": "stdout",
     "output_type": "stream",
     "text": [
      "10\n",
      "20\n",
      "30\n",
      "1\n",
      "2\n"
     ]
    }
   ],
   "source": [
    "def function(x,y,z):\n",
    "    yield x\n",
    "    yield y\n",
    "    yield z\n",
    "\n",
    "for i in function(10,20,30):\n",
    "    print(i)\n",
    "f=function(1,2,3)\n",
    "print(next(f))\n",
    "print(next(f))"
   ]
  },
  {
   "cell_type": "code",
   "execution_count": null,
   "id": "fc26ae12",
   "metadata": {},
   "outputs": [],
   "source": [
    "# def f():\n",
    "#     yield 12\n",
    "#     yield 23\n",
    "    \n",
    "# for i in f():\n",
    "#     print(i)\n",
    "    \n",
    "# f=f()\n",
    "# print(next(f))\n",
    "# print(next(f))\n",
    "# print(next(f)) # error"
   ]
  },
  {
   "cell_type": "markdown",
   "id": "bf0569cb",
   "metadata": {},
   "source": [
    "# Generator Expressions"
   ]
  },
  {
   "cell_type": "code",
   "execution_count": 56,
   "id": "a7045c85",
   "metadata": {},
   "outputs": [
    {
     "name": "stdout",
     "output_type": "stream",
     "text": [
      "[1, 9, 36, 100]\n",
      "<generator object <genexpr> at 0x000002368DD2CF90>\n",
      "1\n",
      "9\n",
      "36\n",
      "100\n"
     ]
    }
   ],
   "source": [
    "# Initialize the list\n",
    "my_list = [1, 3, 6, 10]\n",
    "\n",
    "# square each term using list comprehension\n",
    "list_ = [x**2 for x in my_list]\n",
    "\n",
    "# same thing can be done using a generator expression\n",
    "# generator expressions are surrounded by parenthesis ()\n",
    "generator = (x**2 for x in my_list)\n",
    "\n",
    "print(list_)\n",
    "print(generator)\n",
    "print(next(generator))\n",
    "print(next(generator))\n",
    "print(next(generator))\n",
    "print(next(generator))"
   ]
  },
  {
   "cell_type": "markdown",
   "id": "94dd01e2",
   "metadata": {},
   "source": [
    "# Function Decorators\n",
    "\n",
    "Decorators are a very powerful and useful tool in Python since it allows programmers to modify the behaviour of a function or class. Decorators allow us to wrap another function in order to extend the behaviour of the wrapped function, without permanently modifying it. But before diving deep into decorators let us understand some concepts that will come in handy in learning the decorators.\n",
    "\n",
    "1) A decoratore is a function that takes the function as a parameter and it returns a function.\n",
    "2) A decorator takes the result of the function , modify it and return it."
   ]
  },
  {
   "cell_type": "code",
   "execution_count": 30,
   "id": "511d5d17",
   "metadata": {},
   "outputs": [
    {
     "data": {
      "text/plain": [
       "22"
      ]
     },
     "execution_count": 30,
     "metadata": {},
     "output_type": "execute_result"
    }
   ],
   "source": [
    "def decor(f):     # This is the decorator function\n",
    "    def inner():  # this is the inner function that modifies\n",
    "        value=f()#num()\n",
    "        return value+2\n",
    "    return inner  # return the inner function\n",
    "\n",
    "def num():\n",
    "    return 20\n",
    "\n",
    "x= decor(num)\n",
    "x()"
   ]
  },
  {
   "cell_type": "code",
   "execution_count": 31,
   "id": "530d7c04",
   "metadata": {},
   "outputs": [
    {
     "name": "stdout",
     "output_type": "stream",
     "text": [
      "20\n"
     ]
    }
   ],
   "source": [
    "# A decorator that increaments the value of the function by 2\n",
    "def decor(f):     # This is the decorator function\n",
    "    def inner():  # this is the inner function that modifies\n",
    "        value=f()\n",
    "        return value*2\n",
    "    return inner  # return the inner function\n",
    "\n",
    "# Take a function to which decorators should be applied\n",
    "\n",
    "@decor\n",
    "def num(): # Apply decor to the below function\n",
    "    return 10\n",
    "\n",
    "#call num() function and display its result\n",
    "print(num())"
   ]
  },
  {
   "cell_type": "code",
   "execution_count": 59,
   "id": "a30eb42d",
   "metadata": {},
   "outputs": [
    {
     "name": "stdout",
     "output_type": "stream",
     "text": [
      "18\n"
     ]
    }
   ],
   "source": [
    "# A decorator that increaments the value of the function by 2\n",
    "def decor(f):     # This is the decorator function\n",
    "    def inner():  # this is the inner function that modifies\n",
    "        value=f()\n",
    "        return value+2\n",
    "    return inner  # return the inner function\n",
    "\n",
    "# Take a function to which decorators should be applied\n",
    "\n",
    "\n",
    "@decor\n",
    "@decor\n",
    "@decor\n",
    "@decor\n",
    "def num(): # Apply decor to the below function\n",
    "    return 10\n",
    "\n",
    "#call num() function and display its result\n",
    "print(num())"
   ]
  },
  {
   "cell_type": "code",
   "execution_count": null,
   "id": "005498d9",
   "metadata": {},
   "outputs": [],
   "source": []
  }
 ],
 "metadata": {
  "kernelspec": {
   "display_name": "Python 3 (ipykernel)",
   "language": "python",
   "name": "python3"
  },
  "language_info": {
   "codemirror_mode": {
    "name": "ipython",
    "version": 3
   },
   "file_extension": ".py",
   "mimetype": "text/x-python",
   "name": "python",
   "nbconvert_exporter": "python",
   "pygments_lexer": "ipython3",
   "version": "3.9.13"
  }
 },
 "nbformat": 4,
 "nbformat_minor": 5
}
