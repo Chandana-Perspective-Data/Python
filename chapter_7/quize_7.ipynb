{
 "cells": [
  {
   "cell_type": "code",
   "execution_count": null,
   "id": "7f3a0250",
   "metadata": {},
   "outputs": [],
   "source": [
    "# 1.\"sampleDict = { \n",
    "   \"\"class\"\":{                                               # a\n",
    "      \"\"student\"\":{                                           # error\n",
    "         \"\"name\"\":\"\"Mike\"\",                                    \n",
    "         \"\"marks\"\":{                                          # \n",
    "            \"\"physics\"\":70,\n",
    "            \"\"history\"\":80\n",
    "         }\n",
    "      }\n",
    "   }\n",
    "}Select the correct way to access the value of a history subject\"\n",
    "\n",
    "> a.sampleDict[‘class’][‘student’][‘marks’][‘history’] #\n",
    "> b.sampleDict[‘class’][‘student’][‘marks’][1]\n",
    "> c. sampleDict[‘class’][0][‘marks’][‘history’]\n",
    "> d.none of the above"
   ]
  },
  {
   "cell_type": "code",
   "execution_count": 18,
   "id": "05415ac5",
   "metadata": {},
   "outputs": [
    {
     "data": {
      "text/plain": [
       "80"
      ]
     },
     "execution_count": 18,
     "metadata": {},
     "output_type": "execute_result"
    }
   ],
   "source": [
    "sample={\"class\":{\"student\":{\"name\":\"Mike\",\"marks\":{\"physics\":70,\"history\":80}}}}\n",
    "\n",
    "sample[\"class\"][\"student\"][\"marks\"][\"history\"]"
   ]
  },
  {
   "cell_type": "code",
   "execution_count": 15,
   "id": "3268d166",
   "metadata": {},
   "outputs": [
    {
     "data": {
      "text/plain": [
       "80"
      ]
     },
     "execution_count": 15,
     "metadata": {},
     "output_type": "execute_result"
    }
   ],
   "source": [
    "d = { \"class\":{\"student\":{ \"name\":\"Mike\",\"marks\":{ \"physics\":70,\"history\":80}}}}\n",
    "d[\"class\"][\"student\"][\"marks\"][\"history\"]\n",
    "# d[\"class\"][\"student\"][\"marks\"][1]   # ERROR\n",
    "# d[\"class\"][0][\"marks\"][\"history\"]   # ERROR"
   ]
  },
  {
   "cell_type": "code",
   "execution_count": null,
   "id": "541ed4f5",
   "metadata": {},
   "outputs": [],
   "source": [
    "# 2.\"\n",
    "What is the output of the following\n",
    "\n",
    "aTuple = (10, 20, 30, 40, 50, 60, 70, 80)\n",
    "print(aTuple[2:5], aTuple[:4], aTuple[3:])\n",
    "\n",
    "> a. (30, 40, 50) (10, 20, 30, 40) (40, 50, 60, 70, 80) #\n",
    "> b.  (20, 30, 40, 50) (10, 20, 30, 40) (30, 40, 50, 60, 70, 80)\n",
    "> c. error\n",
    "> d. noneof the above"
   ]
  },
  {
   "cell_type": "code",
   "execution_count": 19,
   "id": "dbc55b1e",
   "metadata": {},
   "outputs": [
    {
     "name": "stdout",
     "output_type": "stream",
     "text": [
      "(30, 40, 50) (10, 20, 30, 40) (40, 50, 60, 70, 80)\n"
     ]
    }
   ],
   "source": [
    "aTuple = (10, 20, 30, 40, 50, 60, 70, 80)\n",
    "print(aTuple[2:5], aTuple[:4], aTuple[3:])"
   ]
  },
  {
   "cell_type": "code",
   "execution_count": null,
   "id": "8ff82625",
   "metadata": {},
   "outputs": [],
   "source": [
    "# 3.\"Select the correct output of the following String operations\n",
    "\n",
    "str = \"\"my name is James bond\"\";\n",
    "print (str.capitalize())\"\n",
    "\n",
    "> a.My Name Is James Bond\n",
    "> b. TypeError: unsupported operand type(s) for * or pow(): ‘str’ and ‘int’\n",
    "> c. My name is james bond  #\n",
    "> d.MY NAME  IS JAMES BOND"
   ]
  },
  {
   "cell_type": "code",
   "execution_count": null,
   "id": "21d43033",
   "metadata": {},
   "outputs": [],
   "source": [
    "# 4.\"What is the output of the following code\n",
    "\n",
    "print(int(2.999))\"\n",
    "\n",
    "> a.ValueError: invalid literal for int()\n",
    "> b.3\n",
    "> c.2 #\n",
    "> d.1"
   ]
  },
  {
   "cell_type": "code",
   "execution_count": null,
   "id": "18e91419",
   "metadata": {},
   "outputs": [],
   "source": [
    "# 5.Choose the correct function from the following list to get the random integer between 99 to 200, which is divisible by 3.\n",
    "> a.random.randrange(99, 200, 3)   # \n",
    "> b. random.randint(99, 200, 3)\n",
    "> c. random.random(99, 200, 3)\n",
    "> d.none of the above"
   ]
  },
  {
   "cell_type": "code",
   "execution_count": null,
   "id": "149047ec",
   "metadata": {},
   "outputs": [],
   "source": [
    "# 6.Choose the correct function to pick a single character from a given string randomly.str = “PYnative”.\n",
    "> a.random.sample(str)\n",
    "> b. random.choice(str) #\n",
    "> c.random.get(str, 1)\n",
    "> d. random.get(str)"
   ]
  },
  {
   "cell_type": "code",
   "execution_count": null,
   "id": "101bdc3b",
   "metadata": {},
   "outputs": [],
   "source": [
    "# 7.\"What is the output of the following function call\n",
    "\n",
    "def outerFun(a, b):\n",
    "    def innerFun(c, d):\n",
    "        return c + d\n",
    "    return innerFun(a, b)\n",
    "    return a\n",
    "\n",
    "result = outerFun(5, 10)\n",
    "print(result)\"\n",
    "> a.5\n",
    "> b.15  #\n",
    "> c.(5,15)\n",
    "> d.error"
   ]
  },
  {
   "cell_type": "code",
   "execution_count": 20,
   "id": "07c3f026",
   "metadata": {},
   "outputs": [
    {
     "name": "stdout",
     "output_type": "stream",
     "text": [
      "15\n"
     ]
    }
   ],
   "source": [
    "def outerFun(a, b):\n",
    "    def innerFun(c, d):\n",
    "        return c + d\n",
    "    return innerFun(a, b)\n",
    "    return a\n",
    "\n",
    "result = outerFun(5, 10)\n",
    "print(result)"
   ]
  },
  {
   "cell_type": "code",
   "execution_count": null,
   "id": "844bc58c",
   "metadata": {},
   "outputs": [],
   "source": [
    "# 8.\"What is the output of the following display() function call\n",
    "\n",
    "def display(**kwargs):\n",
    "    for i in kwargs:\n",
    "        print(i)\n",
    "display(emp=\"\"Kelly\"\", salary=9000)\"\n",
    "\n",
    "> a.TypeError\n",
    "> b.\"Kelly\n",
    "9000\"\n",
    "> c.\"(’emp’, ‘Kelly’)\n",
    "(‘salary’, 9000)\"\n",
    "> d.\"emp   #\n",
    "salary\"   "
   ]
  },
  {
   "cell_type": "code",
   "execution_count": 21,
   "id": "b9d1f724",
   "metadata": {},
   "outputs": [
    {
     "name": "stdout",
     "output_type": "stream",
     "text": [
      "emp\n",
      "salary\n"
     ]
    }
   ],
   "source": [
    "def display(**kwargs):\n",
    "    for i in kwargs:\n",
    "        print(i)\n",
    "display(emp=\"Kelly\", salary=9000)\n"
   ]
  },
  {
   "cell_type": "markdown",
   "id": "fd645d68",
   "metadata": {},
   "source": [
    "# Python Set issubset() Method\n",
    "The issubset() method returns True if all items in the set exists in the specified set, otherwise it retuns False.\n",
    "\n"
   ]
  },
  {
   "cell_type": "code",
   "execution_count": 34,
   "id": "cda87c36",
   "metadata": {},
   "outputs": [
    {
     "name": "stdout",
     "output_type": "stream",
     "text": [
      "True\n"
     ]
    }
   ],
   "source": [
    "x = {\"a\", \"b\", \"c\"}\n",
    "y = {\"f\", \"e\", \"d\", \"c\", \"b\", \"a\"}\n",
    "\n",
    "z = x.issubset(y)\n",
    "\n",
    "print(z)"
   ]
  },
  {
   "cell_type": "markdown",
   "id": "6dd3d5a1",
   "metadata": {},
   "source": [
    "# Python Set issuperset() Method\n",
    "The issuperset() method returns True if all items in the specified set exists in the original set, otherwise it retuns False."
   ]
  },
  {
   "cell_type": "code",
   "execution_count": 30,
   "id": "43ae847a",
   "metadata": {},
   "outputs": [
    {
     "name": "stdout",
     "output_type": "stream",
     "text": [
      "True\n"
     ]
    }
   ],
   "source": [
    "x = {\"f\", \"e\", \"d\", \"c\", \"b\", \"a\"}\n",
    "y = {\"a\", \"b\", \"c\"}\n",
    "\n",
    "z = x.issuperset(y)\n",
    "\n",
    "print(z)"
   ]
  },
  {
   "cell_type": "code",
   "execution_count": null,
   "id": "8597ab63",
   "metadata": {},
   "outputs": [],
   "source": [
    "# 9.\" What is the output of the following\n",
    "\n",
    "set1 = {10, 20, 30, 40, 50}\n",
    "set2 = {60, 70, 10, 30, 40, 80, 20, 50}\n",
    "\n",
    "print(set1.issubset(set2))\n",
    "print(set2.issuperset(set1))\"\n",
    "\n",
    "> a.\"\n",
    "False\n",
    "False\"\n",
    "> b.true true   # \n",
    "> c.true false\n",
    "> d.false,true"
   ]
  },
  {
   "cell_type": "code",
   "execution_count": null,
   "id": "36a351eb",
   "metadata": {},
   "outputs": [],
   "source": [
    "#10. \"Choose the correct way to access value 20 from the following tuple\n",
    "\n",
    "aTuple = (\"\"Orange\"\", [10, 20, 30], (5, 15, 25))\" \n",
    "> a.aTuple[1:2][1]\n",
    "> b. aTuple[1:2](1)\n",
    "> c. aTuple[1:2][1]\n",
    "> d. aTuple[1][1]  # "
   ]
  },
  {
   "cell_type": "code",
   "execution_count": null,
   "id": "3eec9d63",
   "metadata": {},
   "outputs": [],
   "source": [
    "# 11.\"What is the output of the following union operation\n",
    "\n",
    "set1 = {10, 20, 30, 40}\n",
    "set2 = {50, 20, \"\"10\"\", 60}\n",
    "\n",
    "set3 = set1.union(set2)\n",
    "print(set3)\"\n",
    "> a. {40, 10, 50, 20, 60, 30}\n",
    "> b. {40, ’10’, 50, 20, 60, 30}\n",
    "> c.{40, 10, ’10’, 50, 20, 60, 30} #\n",
    "> d.SynatxError: Different types cannot be used with sets"
   ]
  },
  {
   "cell_type": "code",
   "execution_count": 36,
   "id": "02da2312",
   "metadata": {},
   "outputs": [
    {
     "ename": "SyntaxError",
     "evalue": "EOL while scanning string literal (3186726817.py, line 4)",
     "output_type": "error",
     "traceback": [
      "\u001b[1;36m  File \u001b[1;32m\"C:\\Users\\91852\\AppData\\Local\\Temp\\ipykernel_3784\\3186726817.py\"\u001b[1;36m, line \u001b[1;32m4\u001b[0m\n\u001b[1;33m    print(aSet)\"\u001b[0m\n\u001b[1;37m                ^\u001b[0m\n\u001b[1;31mSyntaxError\u001b[0m\u001b[1;31m:\u001b[0m EOL while scanning string literal\n"
     ]
    }
   ],
   "source": [
    "# 12.\"What is the output of the following code\n",
    "\n",
    "aSet = {1, 'PYnative', ('abc', 'xyz'), True}\n",
    "print(aSet)\"\n",
    "> a.TypeError\n",
    "> b.{‘PYnative’, 1, (‘abc’, ‘xyz’), True}\n",
    "> c.{‘PYnative’, 1, (‘abc’, ‘xyz’)}  #\n",
    "> d.none of the above"
   ]
  },
  {
   "cell_type": "code",
   "execution_count": 39,
   "id": "333417c0",
   "metadata": {},
   "outputs": [
    {
     "name": "stdout",
     "output_type": "stream",
     "text": [
      "{1, 'PYnative', ('abc', 'xyz')}\n"
     ]
    }
   ],
   "source": [
    "aSet = {1, 'PYnative', ('abc', 'xyz'), True}\n",
    "print(aSet)"
   ]
  },
  {
   "cell_type": "code",
   "execution_count": null,
   "id": "30dabe2a",
   "metadata": {},
   "outputs": [],
   "source": [
    "# 13.\"What will be the output of the following Python code? \n",
    "l=[-2, 4]\n",
    "m=map(lambda x:x*2, l)\n",
    "print(m) \n",
    "\"\n",
    "> a.[-4, 16]\n",
    "> b.Address of m  #\n",
    "> c.Error\n",
    "> d.'"
   ]
  },
  {
   "cell_type": "code",
   "execution_count": 22,
   "id": "eda04f41",
   "metadata": {},
   "outputs": [
    {
     "name": "stdout",
     "output_type": "stream",
     "text": [
      "<map object at 0x00000298AE6BF070>\n"
     ]
    }
   ],
   "source": [
    "# 13.\"What will be the output of the following Python code? \n",
    "l=[-2, 4]\n",
    "m=map(lambda x:x*2, l)\n",
    "print(m) "
   ]
  },
  {
   "cell_type": "code",
   "execution_count": null,
   "id": "fec99851",
   "metadata": {},
   "outputs": [],
   "source": [
    "# 14.\"What will be the output of the following Python code?           \n",
    "l=[1, 2, 3, 4, 5]\n",
    "m=map(lambda x:2**x, l)\n",
    "print(list(m))\n",
    "\"\n",
    "> a.[1, 4, 9, 16, 25 ]\n",
    "> b.[2, 4, 8, 16, 32 ] #\n",
    "> c.[1, 0, 1, 0, 1]\n",
    "> d.Error"
   ]
  },
  {
   "cell_type": "code",
   "execution_count": 23,
   "id": "34d42102",
   "metadata": {},
   "outputs": [
    {
     "name": "stdout",
     "output_type": "stream",
     "text": [
      "[2, 4, 8, 16, 32]\n"
     ]
    }
   ],
   "source": [
    "l=[1, 2, 3, 4, 5]\n",
    "m=map(lambda x:2**x, l)\n",
    "print(list(m))"
   ]
  },
  {
   "cell_type": "code",
   "execution_count": null,
   "id": "6f592c6e",
   "metadata": {},
   "outputs": [],
   "source": [
    "# 15.Which of the following are true of Python dictionaries:\n",
    "> a.Dictionaries are mutable. #\n",
    "> b.Items are accessed by their position in a dictionary.\n",
    "> c.All the keys in a dictionary must be of the same type.\n",
    "> d.Dictionaries can be nested to any depth.\n"
   ]
  },
  {
   "cell_type": "code",
   "execution_count": null,
   "id": "4f1886b3",
   "metadata": {},
   "outputs": [],
   "source": [
    "# 16.\"What is the output of the following code snippet?    \n",
    "func = lambda x: return x\n",
    "print(func(2)\"\n",
    "\n",
    "> a.SyntaxError #\n",
    "> b.x\n",
    "> c.0\n",
    "> d.2"
   ]
  },
  {
   "cell_type": "code",
   "execution_count": 24,
   "id": "53ac4507",
   "metadata": {},
   "outputs": [
    {
     "ename": "SyntaxError",
     "evalue": "invalid syntax (2270382721.py, line 1)",
     "output_type": "error",
     "traceback": [
      "\u001b[1;36m  File \u001b[1;32m\"C:\\Users\\91852\\AppData\\Local\\Temp\\ipykernel_13180\\2270382721.py\"\u001b[1;36m, line \u001b[1;32m1\u001b[0m\n\u001b[1;33m    func = lambda x: return x\u001b[0m\n\u001b[1;37m                     ^\u001b[0m\n\u001b[1;31mSyntaxError\u001b[0m\u001b[1;31m:\u001b[0m invalid syntax\n"
     ]
    }
   ],
   "source": [
    "func = lambda x: return x\n",
    "print(func(2)"
   ]
  },
  {
   "cell_type": "code",
   "execution_count": null,
   "id": "e5b063b4",
   "metadata": {},
   "outputs": [],
   "source": [
    "# 17.What are the common functional programming methods that use lambdas? Select all that apply:\n",
    "> a.lookup()\n",
    "> b.reduce() #\n",
    "> c.filter()\n",
    "> d.map()"
   ]
  },
  {
   "cell_type": "code",
   "execution_count": null,
   "id": "13d67871",
   "metadata": {},
   "outputs": [],
   "source": [
    "# 18.A Python module is a file with the _____ file extension that contains valid Python code.\n",
    "> a) .module\n",
    "> b) .py  #\n",
    "> c) .python\n",
    "> d) .pyd"
   ]
  },
  {
   "cell_type": "code",
   "execution_count": null,
   "id": "36b15d2d",
   "metadata": {},
   "outputs": [],
   "source": [
    "# 19.A package is a folder containing one or more Python modules. One of the modules in a package must be called _______.\n",
    "> a.__main__.py\n",
    "> b.main.py\n",
    "> c.__package__.py\n",
    "> d.__init__.py #"
   ]
  },
  {
   "cell_type": "code",
   "execution_count": null,
   "id": "618d2eb7",
   "metadata": {},
   "outputs": [],
   "source": [
    "# 20. Which of these definitions correctly describes a module?\n",
    "> a.Denoted by triple quotes for providing the specification of certain program elements\n",
    "> b.Design and implementation of specific functionality to be incorporated into a program  #\n",
    "> c.Defines the specification of how it is to be used\n",
    "> d.Any program that reuses code"
   ]
  },
  {
   "cell_type": "code",
   "execution_count": null,
   "id": "8155c546",
   "metadata": {},
   "outputs": [],
   "source": [
    "# 21.Program code making use of a given module is called a ______ of the module.\n",
    "> a.Client  #\n",
    "> b.Docstring\n",
    "> c.Interface\n",
    "> d.Modularity"
   ]
  },
  {
   "cell_type": "code",
   "execution_count": null,
   "id": "391c9f55",
   "metadata": {},
   "outputs": [],
   "source": [
    "# 22.Which of the following is not a valid namespace?\n",
    "> a.Global namespace\n",
    "> b.Public namespace  #\n",
    "> c.Built-in namespace\n",
    "> d.Local namespace"
   ]
  },
  {
   "cell_type": "code",
   "execution_count": null,
   "id": "560e6172",
   "metadata": {},
   "outputs": [],
   "source": [
    "# 23.Which of the following is false about “from-import” form of import?\n",
    "> a.The syntax is: from modulename import identifier\n",
    "> b. This form of import prevents name clash #\n",
    "> c.The namespace of imported module becomes part of importing module\n",
    "> d.The identifiers in module are accessed directly as: identifier"
   ]
  },
  {
   "cell_type": "code",
   "execution_count": null,
   "id": "49028d85",
   "metadata": {},
   "outputs": [],
   "source": [
    "# 24.\"What will be the output of the following Python code?      \n",
    "from math import factorial\n",
    "print(math.factorial(5))\n",
    "> a.120\n",
    "> b.Nothing is printed\n",
    "> c.Error, method factorial doesn’t exist in math module\n",
    "> d.Error, the statement should be: print(factorial(5))  #"
   ]
  },
  {
   "cell_type": "code",
   "execution_count": 25,
   "id": "2a722ef8",
   "metadata": {},
   "outputs": [
    {
     "ename": "NameError",
     "evalue": "name 'math' is not defined",
     "output_type": "error",
     "traceback": [
      "\u001b[1;31m---------------------------------------------------------------------------\u001b[0m",
      "\u001b[1;31mNameError\u001b[0m                                 Traceback (most recent call last)",
      "\u001b[1;32m~\\AppData\\Local\\Temp\\ipykernel_13180\\3818535941.py\u001b[0m in \u001b[0;36m<module>\u001b[1;34m\u001b[0m\n\u001b[0;32m      1\u001b[0m \u001b[1;32mfrom\u001b[0m \u001b[0mmath\u001b[0m \u001b[1;32mimport\u001b[0m \u001b[0mfactorial\u001b[0m\u001b[1;33m\u001b[0m\u001b[1;33m\u001b[0m\u001b[0m\n\u001b[1;32m----> 2\u001b[1;33m \u001b[0mprint\u001b[0m\u001b[1;33m(\u001b[0m\u001b[0mmath\u001b[0m\u001b[1;33m.\u001b[0m\u001b[0mfactorial\u001b[0m\u001b[1;33m(\u001b[0m\u001b[1;36m5\u001b[0m\u001b[1;33m)\u001b[0m\u001b[1;33m)\u001b[0m\u001b[1;33m\u001b[0m\u001b[1;33m\u001b[0m\u001b[0m\n\u001b[0m",
      "\u001b[1;31mNameError\u001b[0m: name 'math' is not defined"
     ]
    }
   ],
   "source": [
    "from math import factorial\n",
    "print(math.factorial(5))"
   ]
  },
  {
   "cell_type": "code",
   "execution_count": null,
   "id": "9a583278",
   "metadata": {},
   "outputs": [],
   "source": [
    "# 25.What is the maximum number of expressions can a lambda function have?\n",
    "> a.1 #\n",
    "> b.2\n",
    "> c.3\n",
    "> d.No Limit\n"
   ]
  },
  {
   "cell_type": "code",
   "execution_count": null,
   "id": "d81da24c",
   "metadata": {},
   "outputs": [],
   "source": [
    "# 26.What are the arguments of a filter() method?\n",
    "> a.filter(lambdafunction,string)\n",
    "> b.filter(lambdafunction,tuple)\n",
    "> c.filter(lambdafunction,list)\n",
    "> d.All the above  #"
   ]
  },
  {
   "cell_type": "code",
   "execution_count": null,
   "id": "e247a17c",
   "metadata": {},
   "outputs": [],
   "source": [
    "# 27.To which module reduce() method belongs to?\n",
    "> a.sys module\n",
    "> b.Flask module\n",
    "> c.functools module  #\n",
    "> d.random module"
   ]
  },
  {
   "cell_type": "code",
   "execution_count": null,
   "id": "c41170aa",
   "metadata": {},
   "outputs": [],
   "source": [
    "# 28.What is __init__?\n",
    "> a.destructor\n",
    "> b.constructor  #\n",
    "> c.function \n",
    "> d.definition"
   ]
  },
  {
   "cell_type": "code",
   "execution_count": null,
   "id": "9891f27e",
   "metadata": {},
   "outputs": [],
   "source": [
    "# 29.What is \"self\" in python?\n",
    "> a.datamemeber\n",
    "> b.argument\n",
    "> c.variable\n",
    "> d.instance or object  #"
   ]
  },
  {
   "cell_type": "code",
   "execution_count": null,
   "id": "cc4023af",
   "metadata": {},
   "outputs": [],
   "source": [
    "# 30.In which data structure indexing is not possible?\n",
    "> a.dictionary #\n",
    "> b.tuple\n",
    "> c.set\n",
    "> d.string"
   ]
  },
  {
   "cell_type": "code",
   "execution_count": null,
   "id": "0ee03154",
   "metadata": {},
   "outputs": [],
   "source": [
    "# 31.Which python set operation displays only common elements in two sets?\n",
    "> a.union\n",
    "> b.difference\n",
    "> c.symmetric difference\n",
    "> d.interswction #"
   ]
  },
  {
   "cell_type": "code",
   "execution_count": 16,
   "id": "6d9540de",
   "metadata": {},
   "outputs": [
    {
     "name": "stdout",
     "output_type": "stream",
     "text": [
      "12333\n",
      "122435\n"
     ]
    }
   ],
   "source": [
    "def function_name(*args, **kwargs):\n",
    "    for arg in args:\n",
    "        print(arg)\n",
    "    for key, value in kwargs.items():\n",
    "        print(key, value)\n",
    "function_name()"
   ]
  },
  {
   "cell_type": "code",
   "execution_count": null,
   "id": "9ac31008",
   "metadata": {},
   "outputs": [],
   "source": [
    "# 32.Which of the following argument type accepts more than one value at a time?\n",
    "> a.required arguments\n",
    "> b.default arguments\n",
    "> c.variable length arguments  #\n",
    "> d.keyword arguments"
   ]
  },
  {
   "cell_type": "code",
   "execution_count": 19,
   "id": "f7145c3c",
   "metadata": {},
   "outputs": [
    {
     "name": "stdout",
     "output_type": "stream",
     "text": [
      "4.0\n"
     ]
    }
   ],
   "source": [
    "#from [module_name] import [attribute1], [attribute2], ...\n",
    "from math import sqrt\n",
    "result = sqrt(16)\n",
    "print(result)"
   ]
  },
  {
   "cell_type": "code",
   "execution_count": null,
   "id": "fdd811c8",
   "metadata": {},
   "outputs": [],
   "source": [
    "# 33.What is the correct method of imorting specific attributes from a module?\n",
    "> a.from module import attribute  #\n",
    "> b.import attribute from module\n",
    "> c.import module from attribute\n",
    "> d.None of the above"
   ]
  },
  {
   "cell_type": "code",
   "execution_count": null,
   "id": "56c42afa",
   "metadata": {},
   "outputs": [],
   "source": [
    "# 34.Which of the following is not a predefined module?\n",
    "> a.sys\n",
    "> b.shutil\n",
    "> c.aifc\n",
    "> d.fiac  #"
   ]
  },
  {
   "cell_type": "code",
   "execution_count": null,
   "id": "3ca40ccb",
   "metadata": {},
   "outputs": [],
   "source": [
    "# 35.what is the significance of \"\\d\" special sequence in python regular expression?\n",
    "> a.Returns a match where the string contains alphabet \"d\"\n",
    "> b.Returns a match where the string contains digits\n",
    "> c.Returns a match where the string contains only decimals\n",
    "> d.None of the above  #"
   ]
  },
  {
   "cell_type": "code",
   "execution_count": null,
   "id": "558a6726",
   "metadata": {},
   "outputs": [],
   "source": [
    "# 36.Which of the following match characters indicates the last letter in a word? (regular expression)\n",
    "> a.$ #\n",
    "> b.^\n",
    "> c.@\n",
    "> d.%"
   ]
  },
  {
   "cell_type": "markdown",
   "id": "333dc4c4",
   "metadata": {},
   "source": [
    "# 7.B.1: ASSIGNMENT\n",
    "\n",
    "PROBLEM STATEMENT\n",
    "\n",
    "\n",
    "\n",
    "Transpose a matrix using list comprehension"
   ]
  },
  {
   "cell_type": "code",
   "execution_count": 21,
   "id": "42c951b9",
   "metadata": {},
   "outputs": [
    {
     "name": "stdout",
     "output_type": "stream",
     "text": [
      "[[1, 4, 7], [2, 5, 8], [3, 6, 9]]\n"
     ]
    }
   ],
   "source": [
    "def transpose(matrix):\n",
    "    return [[row[i] for row in matrix] for i in range(len(matrix[0]))]\n",
    "matrix = [[1, 2, 3], [4, 5, 6], [7, 8, 9]]\n",
    "result = transpose(matrix)\n",
    "print(result)\n"
   ]
  },
  {
   "cell_type": "markdown",
   "id": "2434492a",
   "metadata": {},
   "source": [
    "1.First, we create a nested list comprehension that iterates over the columns of the matrix. i is the index of the current column, and it ranges from 0 to the number of columns in the matrix (len(matrix[0])).\n",
    "\n",
    "2.For each i, the outer list comprehension creates a new row in the transposed matrix by taking the i-th element from each row in the original matrix. The inner list comprehension [row[i] for row in matrix] iterates over each row in the original matrix and extracts the i-th element from each row.\n",
    "\n",
    "3.Finally, the function returns the transposed matrix, which is a list of rows, where each row is a list of the i-th elements from each row in the original matrix."
   ]
  },
  {
   "cell_type": "markdown",
   "id": "f40cb469",
   "metadata": {},
   "source": [
    "# 7.B.2: ASSIGNMENT\n",
    "\n",
    "PROBLEM STATEMENT\n",
    "\n",
    "Write a regex for email address verification.\n",
    "\n",
    "A valid email address has four parts:\n",
    "\n",
    "Recipient name\n",
    "\n",
    "@ symbol\n",
    "\n",
    "Domain name\n",
    "\n",
    "Top-level domain\n",
    "\n",
    "The recipient name may be a maximum of 64 characters long and consist of:\n",
    "\n",
    "\n",
    "Uppercase and lowercase letters in English (A-Z, a-z)\n",
    "Digits from 0 to 9\n",
    "\n",
    "Special characters such as ! # $ % & ' * + - / = ? ^ _ ` { |\n",
    "\n",
    "A special character cannot appear as the first or last character in an email address or  appear consecutively two or more times. \n",
    "\n",
    "For TLD and domain names need to be string."
   ]
  },
  {
   "cell_type": "code",
   "execution_count": 27,
   "id": "e8dd7f82",
   "metadata": {},
   "outputs": [
    {
     "name": "stdout",
     "output_type": "stream",
     "text": [
      "Email is valid: True\n"
     ]
    }
   ],
   "source": [
    "import re\n",
    "\n",
    "def is_valid_email(email):\n",
    "    # Regex pattern for email address verification\n",
    "    pattern = r\"^[A-Za-z0-9!#$%&'*+/=?^_`{|}~-]+([.][A-Za-z0-9!#$%&'*+/=?^_`{|}~-]+)*@([a-zA-Z0-9]+[.][a-zA-Z]+)+$\"\n",
    "    match = re.match(pattern, email)\n",
    "    return bool(match)\n",
    "\n",
    "# Example usage\n",
    "email = \"example@gmail.com\"\n",
    "result = is_valid_email(email)\n",
    "print(\"Email is valid:\", result)\n"
   ]
  },
  {
   "cell_type": "code",
   "execution_count": 24,
   "id": "9ee1800b",
   "metadata": {},
   "outputs": [
    {
     "name": "stdout",
     "output_type": "stream",
     "text": [
      "Valid email\n",
      "Valid email\n",
      "Invalid email\n",
      "Invalid email\n"
     ]
    }
   ],
   "source": [
    "import re\n",
    "\n",
    "regex = re.compile(r'([A-Za-z0-9]+[.-_])*[A-Za-z0-9]+@[A-Za-z0-9-]+(\\.[A-Z|a-z]{2,})+')\n",
    "\n",
    "def isValid(email):\n",
    "    if re.fullmatch(regex, email):\n",
    "      print(\"Valid email\")\n",
    "    else:\n",
    "      print(\"Invalid email\")\n",
    "isValid(\"name.surname@gmail.com\")\n",
    "isValid(\"anonymous123@yahoo.co.uk\")\n",
    "isValid(\"anonymous123@...uk\")\n",
    "isValid(\"...@domain.us\")"
   ]
  },
  {
   "cell_type": "code",
   "execution_count": null,
   "id": "86a65be0",
   "metadata": {},
   "outputs": [],
   "source": []
  }
 ],
 "metadata": {
  "kernelspec": {
   "display_name": "Python 3 (ipykernel)",
   "language": "python",
   "name": "python3"
  },
  "language_info": {
   "codemirror_mode": {
    "name": "ipython",
    "version": 3
   },
   "file_extension": ".py",
   "mimetype": "text/x-python",
   "name": "python",
   "nbconvert_exporter": "python",
   "pygments_lexer": "ipython3",
   "version": "3.9.13"
  }
 },
 "nbformat": 4,
 "nbformat_minor": 5
}
