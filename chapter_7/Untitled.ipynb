{
 "cells": [
  {
   "cell_type": "markdown",
   "id": "c237bc9d",
   "metadata": {},
   "source": [
    "# RegEx Functions\n",
    "The re module offers a set of functions that allows us to search a string for a match:\n",
    "\n",
    "\n",
    "\n",
    "1) findall :\tReturns a list containing all matches\n",
    "\n",
    "2) search :\tReturns a Match object if there is a match anywhere in the string\n",
    "\n",
    "3) split :\tReturns a list where the string has been split at each match\n",
    "\n",
    "4) sub :\tReplaces one or many matches with a string"
   ]
  },
  {
   "cell_type": "code",
   "execution_count": 7,
   "id": "72ed8302",
   "metadata": {},
   "outputs": [
    {
     "name": "stdout",
     "output_type": "stream",
     "text": [
      "['cat', 'cat']\n"
     ]
    }
   ],
   "source": [
    "import re\n",
    "\n",
    "text = \"The cat is black and the cat is white\"\n",
    "pattern = \"cat\"\n",
    "result = re.findall(pattern, text)\n",
    "print(result)\n"
   ]
  },
  {
   "cell_type": "code",
   "execution_count": 9,
   "id": "abc12e03",
   "metadata": {},
   "outputs": [
    {
     "name": "stdout",
     "output_type": "stream",
     "text": [
      "cat\n"
     ]
    }
   ],
   "source": [
    "import re\n",
    "\n",
    "text = \"The cat is black and the cat is white\"\n",
    "pattern = \"cat\"\n",
    "result = re.search(pattern, text)\n",
    "print(result.group())\n"
   ]
  },
  {
   "cell_type": "code",
   "execution_count": 13,
   "id": "f826c42b",
   "metadata": {},
   "outputs": [
    {
     "name": "stdout",
     "output_type": "stream",
     "text": [
      "['The', 'cat', 'is', 'black', 'and', 'the', 'cat', 'is', 'white']\n"
     ]
    }
   ],
   "source": [
    "import re\n",
    "\n",
    "text = \"The,cat,is,black,and,the,cat,is,white\"\n",
    "pattern = \",\"\n",
    "result = re.split(pattern, text)\n",
    "print(result)\n"
   ]
  },
  {
   "cell_type": "code",
   "execution_count": 14,
   "id": "40ed791c",
   "metadata": {},
   "outputs": [
    {
     "name": "stdout",
     "output_type": "stream",
     "text": [
      "The dog is black and the dog is white\n"
     ]
    }
   ],
   "source": [
    "import re\n",
    "\n",
    "text = \"The cat is black and the cat is white\"\n",
    "pattern = \"cat\"\n",
    "replacement = \"dog\"\n",
    "result = re.sub(pattern, replacement, text)\n",
    "print(result)\n"
   ]
  },
  {
   "cell_type": "markdown",
   "id": "920a507c",
   "metadata": {},
   "source": [
    "# Metacharacters\n",
    "Metacharacters are characters with a special meaning:\n",
    "\n",
    "[] :\tA set of characters\t\"[a-m]\"\t\n",
    "\n",
    "\\  :  Signals a special sequence (can also be used to escape specialcharacters)\t \"\\d\"\t\n",
    "\n",
    ".\t: Any character (except newline character)\t\"he..o\"\t\n",
    "\n",
    "^\t: Starts with\t\"^hello\"\t\n",
    "\n",
    "$\t:  Ends with\t\"planet$\"\t\n",
    "\n",
    "*\t: Zero or more occurrences\t\"he.*o\"\t\n",
    "\n",
    "+\t: One or more occurrences\t\"he.+o\"\t\n",
    "\n",
    "?\t: Zero or one occurrences\t\"he.?o\"\t\n",
    "\n",
    "{}\t: Exactly the specified number of occurrences\t\"he.{2}o\"\t\n",
    "\n",
    "\t\n",
    "\n",
    "()\t: Capture and group"
   ]
  },
  {
   "cell_type": "markdown",
   "id": "4f943a8a",
   "metadata": {},
   "source": [
    "# []: A set of characters. Matches any single character in the set. For example:"
   ]
  },
  {
   "cell_type": "code",
   "execution_count": 15,
   "id": "d445deab",
   "metadata": {},
   "outputs": [
    {
     "name": "stdout",
     "output_type": "stream",
     "text": [
      "['h', 'o', 'w', 'o']\n"
     ]
    }
   ],
   "source": [
    "import re\n",
    "\n",
    "text = \"hello world\"\n",
    "pattern = \"[hwo]\"\n",
    "result = re.findall(pattern, text)\n",
    "print(result)\n"
   ]
  },
  {
   "cell_type": "markdown",
   "id": "78adb44f",
   "metadata": {},
   "source": [
    "# \\ : Signals a special sequence. Also used to escape special characters. For example:"
   ]
  },
  {
   "cell_type": "code",
   "execution_count": 16,
   "id": "d492b4be",
   "metadata": {},
   "outputs": [
    {
     "name": "stdout",
     "output_type": "stream",
     "text": [
      "['1', '2', '3', '4', '5']\n"
     ]
    }
   ],
   "source": [
    "import re\n",
    "\n",
    "text = \"12345\"\n",
    "pattern = \"\\d\"\n",
    "result = re.findall(pattern, text)\n",
    "print(result)\n"
   ]
  },
  {
   "cell_type": "markdown",
   "id": "28dceb9d",
   "metadata": {},
   "source": [
    "# .  : Matches any character (except newline character). For example:"
   ]
  },
  {
   "cell_type": "code",
   "execution_count": 17,
   "id": "586ebd5b",
   "metadata": {},
   "outputs": [
    {
     "name": "stdout",
     "output_type": "stream",
     "text": [
      "['hello']\n"
     ]
    }
   ],
   "source": [
    "import re\n",
    "\n",
    "text = \"hello world\"\n",
    "pattern = \"he..o\"\n",
    "result = re.findall(pattern, text)\n",
    "print(result)\n"
   ]
  },
  {
   "cell_type": "markdown",
   "id": "00ecfb93",
   "metadata": {},
   "source": [
    "# ^: Matches the starting position within the string. For example:"
   ]
  },
  {
   "cell_type": "code",
   "execution_count": 18,
   "id": "133d407a",
   "metadata": {},
   "outputs": [
    {
     "name": "stdout",
     "output_type": "stream",
     "text": [
      "[]\n"
     ]
    }
   ],
   "source": [
    "import re\n",
    "\n",
    "text = \"hello world\"\n",
    "pattern = \"^h.*o$\"\n",
    "result = re.findall(pattern, text)\n",
    "print(result)\n"
   ]
  },
  {
   "cell_type": "markdown",
   "id": "46f5f715",
   "metadata": {},
   "source": [
    "# $: Matches the ending position of the string. For example:"
   ]
  },
  {
   "cell_type": "code",
   "execution_count": 19,
   "id": "f5f2f6cd",
   "metadata": {},
   "outputs": [
    {
     "name": "stdout",
     "output_type": "stream",
     "text": [
      "[]\n"
     ]
    }
   ],
   "source": [
    "import re\n",
    "\n",
    "text = \"hello world\"\n",
    "pattern = \"^.*o$\"\n",
    "result = re.findall(pattern, text)\n",
    "print(result)\n"
   ]
  },
  {
   "cell_type": "markdown",
   "id": "d8379a9b",
   "metadata": {},
   "source": [
    "# *: Matches zero or more occurrences of the preceding expression. For example:"
   ]
  },
  {
   "cell_type": "code",
   "execution_count": 20,
   "id": "cba30e60",
   "metadata": {},
   "outputs": [
    {
     "name": "stdout",
     "output_type": "stream",
     "text": [
      "['hello wo']\n"
     ]
    }
   ],
   "source": [
    "import re\n",
    "\n",
    "text = \"hello world\"\n",
    "pattern = \"he.*o\"\n",
    "result = re.findall(pattern, text)\n",
    "print(result)\n"
   ]
  },
  {
   "cell_type": "markdown",
   "id": "35d61187",
   "metadata": {},
   "source": [
    "# +: Matches one or more occurrences of the preceding expression. For example:"
   ]
  },
  {
   "cell_type": "code",
   "execution_count": 21,
   "id": "935aa567",
   "metadata": {},
   "outputs": [
    {
     "name": "stdout",
     "output_type": "stream",
     "text": [
      "['hello wo']\n"
     ]
    }
   ],
   "source": [
    "import re\n",
    "\n",
    "text = \"hello world\"\n",
    "pattern = \"he.+o\"\n",
    "result = re.findall(pattern, text)\n",
    "print(result)\n"
   ]
  },
  {
   "cell_type": "markdown",
   "id": "4670625d",
   "metadata": {},
   "source": [
    "# ?: Matches zero or one occurrence of the preceding expression. For example:"
   ]
  },
  {
   "cell_type": "code",
   "execution_count": 22,
   "id": "dec00f96",
   "metadata": {},
   "outputs": [
    {
     "name": "stdout",
     "output_type": "stream",
     "text": [
      "[]\n"
     ]
    }
   ],
   "source": [
    "import re\n",
    "\n",
    "text = \"hello world\"\n",
    "pattern = \"he.?o\"\n",
    "result = re.findall(pattern, text)\n",
    "print(result)\n"
   ]
  },
  {
   "cell_type": "markdown",
   "id": "d63afc73",
   "metadata": {},
   "source": [
    "# {}: Matches exactly the specified number of occurrences of the preceding expression. For example:"
   ]
  },
  {
   "cell_type": "code",
   "execution_count": 23,
   "id": "f2abba73",
   "metadata": {},
   "outputs": [
    {
     "name": "stdout",
     "output_type": "stream",
     "text": [
      "['hello']\n"
     ]
    }
   ],
   "source": [
    "import re\n",
    "\n",
    "text = \"hello world\"\n",
    "pattern = \"he.{2}o\"\n",
    "result = re.findall(pattern, text)\n",
    "print(result)\n"
   ]
  },
  {
   "cell_type": "code",
   "execution_count": null,
   "id": "a58ff716",
   "metadata": {},
   "outputs": [],
   "source": []
  },
  {
   "cell_type": "code",
   "execution_count": null,
   "id": "be5df6ef",
   "metadata": {},
   "outputs": [],
   "source": []
  },
  {
   "cell_type": "code",
   "execution_count": null,
   "id": "7dc3b4e3",
   "metadata": {},
   "outputs": [],
   "source": []
  },
  {
   "cell_type": "code",
   "execution_count": null,
   "id": "5ce7384b",
   "metadata": {},
   "outputs": [],
   "source": []
  },
  {
   "cell_type": "code",
   "execution_count": null,
   "id": "274d44ac",
   "metadata": {},
   "outputs": [],
   "source": []
  },
  {
   "cell_type": "code",
   "execution_count": 1,
   "id": "aebb156e",
   "metadata": {},
   "outputs": [
    {
     "name": "stdout",
     "output_type": "stream",
     "text": [
      "(30, 40, 50) (10, 20, 30, 40) (40, 50, 60, 70, 80)\n"
     ]
    }
   ],
   "source": [
    "aTuple = (10, 20, 30, 40, 50, 60, 70, 80)\n",
    "print(aTuple[2:5], aTuple[:4], aTuple[3:])"
   ]
  },
  {
   "cell_type": "code",
   "execution_count": 2,
   "id": "a491c8bc",
   "metadata": {},
   "outputs": [
    {
     "name": "stdout",
     "output_type": "stream",
     "text": [
      "My name is james bond\n"
     ]
    }
   ],
   "source": [
    "str = \"my name is James bond\"\n",
    "print (str.capitalize())\n"
   ]
  },
  {
   "cell_type": "code",
   "execution_count": 3,
   "id": "a8b9aebf",
   "metadata": {},
   "outputs": [
    {
     "name": "stdout",
     "output_type": "stream",
     "text": [
      "2\n"
     ]
    }
   ],
   "source": [
    "print(int(2.999))"
   ]
  },
  {
   "cell_type": "code",
   "execution_count": 5,
   "id": "f28a9107",
   "metadata": {},
   "outputs": [
    {
     "data": {
      "text/plain": [
       "144"
      ]
     },
     "execution_count": 5,
     "metadata": {},
     "output_type": "execute_result"
    }
   ],
   "source": [
    "import random\n",
    "\n",
    "def random_int_divisible_by_3():\n",
    "    num = random.randint(99, 200)\n",
    "    while num % 3 != 0:\n",
    "        num = random.randint(99, 200)\n",
    "    return num\n",
    "random_int_divisible_by_3()"
   ]
  },
  {
   "cell_type": "code",
   "execution_count": 6,
   "id": "3367cccd",
   "metadata": {},
   "outputs": [
    {
     "name": "stdout",
     "output_type": "stream",
     "text": [
      "15\n"
     ]
    }
   ],
   "source": [
    "def outerFun(a, b):\n",
    "    def innerFun(c, d):\n",
    "        return c + d\n",
    "    return innerFun(a, b)\n",
    "    return a\n",
    "\n",
    "result = outerFun(5, 10)\n",
    "print(result)"
   ]
  },
  {
   "cell_type": "code",
   "execution_count": null,
   "id": "055613da",
   "metadata": {},
   "outputs": [],
   "source": []
  }
 ],
 "metadata": {
  "kernelspec": {
   "display_name": "Python 3 (ipykernel)",
   "language": "python",
   "name": "python3"
  },
  "language_info": {
   "codemirror_mode": {
    "name": "ipython",
    "version": 3
   },
   "file_extension": ".py",
   "mimetype": "text/x-python",
   "name": "python",
   "nbconvert_exporter": "python",
   "pygments_lexer": "ipython3",
   "version": "3.9.13"
  }
 },
 "nbformat": 4,
 "nbformat_minor": 5
}
