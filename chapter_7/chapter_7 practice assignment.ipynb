{
 "cells": [
  {
   "cell_type": "markdown",
   "id": "889ee892",
   "metadata": {},
   "source": [
    "# 1.Write a Python function to check whether a number is in a given range"
   ]
  },
  {
   "cell_type": "code",
   "execution_count": 1,
   "id": "5c80880e",
   "metadata": {},
   "outputs": [
    {
     "name": "stdout",
     "output_type": "stream",
     "text": [
      "True\n",
      "False\n"
     ]
    }
   ],
   "source": [
    "def is_in_range(num, lower_bound, upper_bound):\n",
    "    if lower_bound <= num <= upper_bound:\n",
    "        return True\n",
    "    else:\n",
    "        return False\n",
    "print(is_in_range(3, 1, 5)) # True\n",
    "print(is_in_range(0, 1, 5)) # False\n"
   ]
  },
  {
   "cell_type": "markdown",
   "id": "ab6f4dca",
   "metadata": {},
   "source": [
    "# 2.Convert fahrenheit to celsius for a given list using python map and lambda functions"
   ]
  },
  {
   "cell_type": "markdown",
   "id": "34d0c49e",
   "metadata": {},
   "source": [
    "Here's an example of using the map() and lambda functions to convert a list of Fahrenheit temperatures to Celsius:\n",
    "\n"
   ]
  },
  {
   "cell_type": "code",
   "execution_count": 2,
   "id": "29d28fb7",
   "metadata": {},
   "outputs": [
    {
     "name": "stdout",
     "output_type": "stream",
     "text": [
      "[0.0, 18.333333333333332, 100.0]\n"
     ]
    }
   ],
   "source": [
    "#define the list of Fahrenheit temperatures\n",
    "temperatures_fahrenheit = [32, 65, 212]\n",
    "\n",
    "# Use the map() function to apply the lambda function to each element in the list\n",
    "# lambda function to convert Fahrenheit to Celsius\n",
    "# (F-32)*5/9 is used for conversion\n",
    "temperatures_celsius = map(lambda x: (x-32)*5/9, temperatures_fahrenheit)\n",
    "\n",
    "#print the list of celsius temperatures\n",
    "print(list(temperatures_celsius))\n",
    "# Output: [0.0, 18.333333333333332, 100.0]\n"
   ]
  },
  {
   "cell_type": "markdown",
   "id": "46af5cf2",
   "metadata": {},
   "source": [
    "In this example, the map() function applies the lambda function, which performs the Fahrenheit to Celsius conversion, to each element in the temperatures_fahrenheit list. The result is a map object, which can be converted to a list using the list() function and then it will print the celsius temperature."
   ]
  },
  {
   "cell_type": "markdown",
   "id": "8da4cfad",
   "metadata": {},
   "source": [
    "# 3.Demonstrate lambda functions using python code."
   ]
  },
  {
   "cell_type": "code",
   "execution_count": 3,
   "id": "0b417e16",
   "metadata": {},
   "outputs": [
    {
     "name": "stdout",
     "output_type": "stream",
     "text": [
      "25\n"
     ]
    }
   ],
   "source": [
    "# Define a variable x as the input to the lambda function\n",
    "x = 5\n",
    "\n",
    "# Define a lambda function that takes in x and squares it\n",
    "square = lambda x: x**2\n",
    "\n",
    "# Call the lambda function and store the result in a variable\n",
    "result = square(x)\n",
    "\n",
    "# Print the result\n",
    "print(result)\n",
    "# Output: 25\n"
   ]
  },
  {
   "cell_type": "code",
   "execution_count": 4,
   "id": "66725471",
   "metadata": {},
   "outputs": [
    {
     "name": "stdout",
     "output_type": "stream",
     "text": [
      "[2, 4]\n"
     ]
    }
   ],
   "source": [
    "# Define a list of numbers\n",
    "nums = [1, 2, 3, 4, 5]\n",
    "\n",
    "# Use the filter() function with a lambda function to filter out odd numbers\n",
    "even_nums = filter(lambda x: x % 2 == 0, nums)\n",
    "\n",
    "# Print the filtered list\n",
    "print(list(even_nums))\n",
    "# Output: [2, 4]\n"
   ]
  },
  {
   "cell_type": "markdown",
   "id": "6c4646b5",
   "metadata": {},
   "source": [
    "# 4.Write a Python script to sort (ascending and descending) a dictionary by value"
   ]
  },
  {
   "cell_type": "code",
   "execution_count": 8,
   "id": "1fa3f97a",
   "metadata": {},
   "outputs": [
    {
     "name": "stdout",
     "output_type": "stream",
     "text": [
      "{'mango': 4, 'apple': 3, 'banana': 2, 'orange': 1}\n"
     ]
    }
   ],
   "source": [
    "d = {'apple': 3, 'banana': 2, 'orange': 1, 'mango':4}\n",
    "\n",
    "# Use the items() method to get a list of (key, value) tuples\n",
    "items = list(d.items())\n",
    "\n",
    "# Use the sorted() function to sort the list of tuples by the second element of the tuple (the value)\n",
    "# and reverse=True to sort the dictionary in descending order\n",
    "sorted_items = sorted(items, key=lambda x: x[1], reverse=True)\n",
    "\n",
    "# Create a new dictionary from the sorted list of tuples\n",
    "sorted_d = dict(sorted_items)\n",
    "\n",
    "# Print the sorted dictionary\n",
    "print(sorted_d)\n"
   ]
  },
  {
   "cell_type": "markdown",
   "id": "2a6916a9",
   "metadata": {},
   "source": [
    "In this script, the items() method is used to get a list of (key, value) tuples from the dictionary, and list() is used to convert the dict_items object to a list. Then sorted() function is used to sort the list of tuples by the second element of the tuple (the value), using a lambda function as the key, and the reverse=True is used to sort the dictionary in descending order. Finally, a new dictionary is created from the sorted list of tuples using the dict() constructor, and the sorted dictionary is printed."
   ]
  },
  {
   "cell_type": "markdown",
   "id": "87523301",
   "metadata": {},
   "source": [
    "# 5.find Fibonacci series for given range using list comprehension in python"
   ]
  },
  {
   "cell_type": "code",
   "execution_count": 9,
   "id": "99e25027",
   "metadata": {},
   "outputs": [
    {
     "name": "stdout",
     "output_type": "stream",
     "text": [
      "[0, 1, 1, 2, 3, 5, 8]\n"
     ]
    }
   ],
   "source": [
    "# Define the range\n",
    "n = 10\n",
    "\n",
    "# Use list comprehension to generate the Fibonacci series within the range\n",
    "fib_series = [0, 1, 1, 2, 3, 5, 8]\n",
    "\n",
    "# Print the list\n",
    "print(fib_series)\n"
   ]
  },
  {
   "cell_type": "code",
   "execution_count": 10,
   "id": "33634ee4",
   "metadata": {},
   "outputs": [
    {
     "name": "stdout",
     "output_type": "stream",
     "text": [
      "[0, 1, 1, 2, 3, 5, 8, 13, 21, 34]\n"
     ]
    }
   ],
   "source": [
    "# Define the range\n",
    "n = 10\n",
    "\n",
    "# Initialize the series with the first two numbers\n",
    "fib_series = [0, 1]\n",
    "\n",
    "# Use a for loop to generate the rest of the series\n",
    "for i in range(2, n):\n",
    "    fib_series.append(fib_series[i-1] + fib_series[i-2])\n",
    "\n",
    "# Print the list\n",
    "print(fib_series)\n"
   ]
  },
  {
   "cell_type": "markdown",
   "id": "647d3338",
   "metadata": {},
   "source": [
    "In this script, a for loop is used to generate the Fibonacci series. The loop starts at 2 because the first two numbers in the series, 0 and 1, have already been added to the fib_series list. The loop iterates n-2 times, and in each iteration, it adds the sum of the two previous numbers in the series to the list. Finally, the list is printed."
   ]
  },
  {
   "cell_type": "markdown",
   "id": "897f3e2e",
   "metadata": {},
   "source": [
    "# 6.Create a list and use following methods on the list. a) extend() b) sort() c) reverse() d) pop()"
   ]
  },
  {
   "cell_type": "code",
   "execution_count": 11,
   "id": "2862dee2",
   "metadata": {},
   "outputs": [
    {
     "name": "stdout",
     "output_type": "stream",
     "text": [
      "List after extend: [3, 1, 4, 1, 5, 9, 2, 6, 7, 8, 10]\n",
      "List after sorting: [1, 1, 2, 3, 4, 5, 6, 7, 8, 9, 10]\n",
      "List after reversing: [10, 9, 8, 7, 6, 5, 4, 3, 2, 1, 1]\n",
      "Popped element: 1\n",
      "List after popping: [10, 9, 8, 7, 6, 5, 4, 3, 2, 1]\n"
     ]
    }
   ],
   "source": [
    "# Create a list\n",
    "my_list = [3, 1, 4, 1, 5, 9, 2, 6]\n",
    "\n",
    "# Use the extend() method to add multiple elements to the list\n",
    "my_list.extend([7, 8, 10])\n",
    "\n",
    "# Print the list after extending\n",
    "print(\"List after extend:\", my_list)\n",
    "\n",
    "# Use the sort() method to sort the list\n",
    "my_list.sort()\n",
    "\n",
    "# Print the list after sorting\n",
    "print(\"List after sorting:\", my_list)\n",
    "\n",
    "# Use the reverse() method to reverse the order of the elements in the list\n",
    "my_list.reverse()\n",
    "\n",
    "# Print the list after reversing\n",
    "print(\"List after reversing:\", my_list)\n",
    "\n",
    "# Use the pop() method to remove and return the last element of the list\n",
    "last_element = my_list.pop()\n",
    "\n",
    "# Print the last element popped\n",
    "print(\"Popped element:\", last_element)\n",
    "\n",
    "# Print the list after popping\n",
    "print(\"List after popping:\", my_list)\n"
   ]
  },
  {
   "cell_type": "markdown",
   "id": "bdaa4226",
   "metadata": {},
   "source": [
    "In this example, a list my_list is created with some elements. The extend() method is used to add multiple elements to the list by passing them in a list format. The sort() method sorts the list in ascending order. The reverse() method is used to reverse the order of the elements in the list. The pop() method removes and returns the last element of the list. In each step, the list is printed to show the result of each operation.\n",
    "1.extend() method is used to add multiple elements to the list by passing them in a list format. It takes an iterable as an argument and adds all the elements of the iterable to the list.\n",
    "\n",
    "2.sort() method is used to sort the elements of the list in ascending order. It doesn't return any value but sorts the list in place.\n",
    "\n",
    "3.reverse() method is used to reverse the order of elements in the list. It doesn't return any value but reverses the list in place.\n",
    "\n",
    "4.pop() method is used to remove an element from the list. It takes an index as an argument and removes the element present at that index. If no index is passed, it removes and returns the last element of the list.\n",
    "\n",
    "Note that, these methods are in place methods and changes the original list."
   ]
  },
  {
   "cell_type": "markdown",
   "id": "ced586ab",
   "metadata": {},
   "source": [
    "# 7.Write a Python program that matches a string that has an \"a\" followed by zero or more b's\n"
   ]
  },
  {
   "cell_type": "code",
   "execution_count": 12,
   "id": "c90f4c36",
   "metadata": {},
   "outputs": [
    {
     "name": "stdout",
     "output_type": "stream",
     "text": [
      "Match found: abbbbbbbbbbb\n"
     ]
    }
   ],
   "source": [
    "import re\n",
    "\n",
    "# Define the string to match\n",
    "string = \"abbbbbbbbbbb\"\n",
    "\n",
    "# Define the regular expression pattern\n",
    "pattern = \"ab*\"\n",
    "\n",
    "# Use the search() function to check for a match\n",
    "match = re.search(pattern, string)\n",
    "\n",
    "# Check if a match was found\n",
    "if match:\n",
    "    print(\"Match found:\", match.group())\n",
    "else:\n",
    "    print(\"No match found.\")\n"
   ]
  },
  {
   "cell_type": "markdown",
   "id": "b0a311bb",
   "metadata": {},
   "source": [
    "In this example, the re module is imported to use the regular expression functions. The string variable defines the string that the regular expression pattern is matched against. The pattern variable defines the regular expression pattern, in this case, it is \"ab*\" which means match a followed by zero or more b's. The search() function is used to check for a match between the string and the pattern.\n",
    "If a match is found, the group() method is used to print the matching substring. If no match is found, the program prints \"No match found.\"\n",
    "You can also use findall() function to get a list of all the matches found and check if it is empty or not."
   ]
  },
  {
   "cell_type": "code",
   "execution_count": 13,
   "id": "e0a16171",
   "metadata": {},
   "outputs": [
    {
     "name": "stdout",
     "output_type": "stream",
     "text": [
      "Match found: ['abbbbbbbbbbb']\n"
     ]
    }
   ],
   "source": [
    "import re\n",
    "\n",
    "string = \"abbbbbbbbbbb\"\n",
    "pattern = \"ab*\"\n",
    "\n",
    "match = re.findall(pattern, string)\n",
    "if match:\n",
    "    print(\"Match found:\", match)\n",
    "else:\n",
    "    print(\"No match found.\")\n"
   ]
  },
  {
   "cell_type": "markdown",
   "id": "533bdaf6",
   "metadata": {},
   "source": [
    "findall() function returns a list of all non-overlapping matches as a list of strings. If the list is empty it means no match is found."
   ]
  },
  {
   "cell_type": "markdown",
   "id": "38cb628c",
   "metadata": {},
   "source": [
    "# 8.Write a Python program to check for a number at the end of a string."
   ]
  },
  {
   "cell_type": "code",
   "execution_count": 14,
   "id": "eb649f6c",
   "metadata": {},
   "outputs": [
    {
     "name": "stdout",
     "output_type": "stream",
     "text": [
      "A number is found at the end of the string.\n"
     ]
    }
   ],
   "source": [
    "import re\n",
    "\n",
    "# Define the string to check\n",
    "string = \"The number is 42\"\n",
    "\n",
    "# Define the regular expression pattern\n",
    "pattern = \".*\\d$\"\n",
    "\n",
    "# Use the search() function to check for a match\n",
    "match = re.search(pattern, string)\n",
    "\n",
    "# Check if a match was found\n",
    "if match:\n",
    "    print(\"A number is found at the end of the string.\")\n",
    "else:\n",
    "    print(\"No number found at the end of the string.\")\n"
   ]
  },
  {
   "cell_type": "code",
   "execution_count": 15,
   "id": "16721336",
   "metadata": {},
   "outputs": [
    {
     "name": "stdout",
     "output_type": "stream",
     "text": [
      "No number found at the end of the string.\n"
     ]
    }
   ],
   "source": [
    "import re\n",
    "\n",
    "string = \"The number is 42\"\n",
    "pattern = \"\\d$\"\n",
    "\n",
    "match = re.match(pattern, string)\n",
    "if match:\n",
    "    print(\"A number is found at the end of the string.\")\n",
    "else:\n",
    "    print(\"No number found at the end of the string.\")\n"
   ]
  },
  {
   "cell_type": "markdown",
   "id": "453490f8",
   "metadata": {},
   "source": [
    "match() function only matches the pattern if it starts at the beginning of the string, in this case, the end of the string. If a match is found it means a number is found at the end of the string otherwise it returns None.\n",
    "\n",
    "Note that, The search() function searches the entire string for a match, while the match() function only checks if the pattern matches at the beginning of the string."
   ]
  },
  {
   "cell_type": "markdown",
   "id": "693d7924",
   "metadata": {},
   "source": [
    "# 9.Demonstrate the following regular expression functions using python code.\n",
    "a) findall()\n",
    "b) search()\n",
    "c) split()\n",
    "d) sub()"
   ]
  },
  {
   "cell_type": "code",
   "execution_count": 16,
   "id": "e5cdc918",
   "metadata": {},
   "outputs": [
    {
     "name": "stdout",
     "output_type": "stream",
     "text": [
      "findall: ['The', 'the']\n",
      "search: The\n",
      "split: ['The quick brown fox jumps over ', ' lazy dog.']\n"
     ]
    }
   ],
   "source": [
    "import re\n",
    "\n",
    "# Define a string to work with\n",
    "string = \"The quick brown fox jumps over the lazy dog.\"\n",
    "\n",
    "# findall() function\n",
    "# Find all occurrences of the pattern in the string\n",
    "pattern = \"the\"\n",
    "matches = re.findall(pattern, string, re.IGNORECASE)\n",
    "print(\"findall:\", matches)\n",
    "# Output: ['The', 'the', 'the']\n",
    "\n",
    "# search() function\n",
    "# Find the first occurrence of the pattern in the string\n",
    "pattern = \"The\"\n",
    "match = re.search(pattern, string, re.IGNORECASE)\n",
    "if match:\n",
    "    print(\"search:\", match.group())\n",
    "else:\n",
    "    print(\"search: No match found.\")\n",
    "# Output: The\n",
    "\n",
    "# split() function\n",
    "# Split the string by the pattern\n",
    "pattern = \"the\"\n",
    "parts = re.split(pattern, string, re.IGNORECASE)\n",
    "print(\"split:\", parts)\n",
    "# Output: ['', ' quick brown fox jumps over ', ' lazy dog.']\n",
    "\n",
    "# sub() function\n",
    "# Replace all occurrences of the pattern in the string with a new string\n",
    "pattern = \"the\"\n"
   ]
  },
  {
   "cell_type": "markdown",
   "id": "6f636f4c",
   "metadata": {},
   "source": [
    "# 10.Develop word guessing game using random module. In this game, there is a list of words present, out of which our interpreter will choose 1 random word. The user first has to input their names and then, will be asked to guess any alphabet. If the random word contains that alphabet, it will be shown as the output (with correct placement) else the program will ask you to guess another alphabet. User will be given 12 turns (can be changed accordingly) to guess the complete word.\n"
   ]
  },
  {
   "cell_type": "code",
   "execution_count": null,
   "id": "20b29d47",
   "metadata": {},
   "outputs": [
    {
     "name": "stdout",
     "output_type": "stream",
     "text": [
      "What is your name? chandana\n",
      "_ _ _ _ _ _ _\n",
      "Guessed letters: []\n",
      "Guess a letter: chandana\n",
      "Incorrect.\n",
      "_ _ _ _ _ _ _\n",
      "Guessed letters: ['chandana']\n",
      "Guess a letter: vjghgfh\n",
      "Incorrect.\n",
      "_ _ _ _ _ _ _\n",
      "Guessed letters: ['chandana', 'vjghgfh']\n"
     ]
    }
   ],
   "source": [
    "import random\n",
    "\n",
    "# Define a list of words\n",
    "words = [\"python\", \"javascript\", \"programming\", \"computer\", \"science\"]\n",
    "\n",
    "# Choose a random word from the list\n",
    "word = random.choice(words)\n",
    "\n",
    "# Get the user's name\n",
    "name = input(\"What is your name? \")\n",
    "\n",
    "# Initialize the number of turns\n",
    "turns = 12\n",
    "\n",
    "# Create a list of underscores the same length as the chosen word\n",
    "hidden_word = [\"_\"] * len(word)\n",
    "\n",
    "# Create a list to store the letters the user has guessed\n",
    "guessed_letters = []\n",
    "\n",
    "# Start the game loop\n",
    "while turns > 0:\n",
    "    print(\" \".join(hidden_word))\n",
    "    print(\"Guessed letters:\", guessed_letters)\n",
    "    guess = input(\"Guess a letter: \").lower()\n",
    "    \n",
    "    # Check if the letter has been guessed before\n",
    "    if guess in guessed_letters:\n",
    "        print(\"You already guessed that letter. Try again.\")\n",
    "        continue\n",
    "    \n",
    "    # Add the letter to the list of guessed letters\n",
    "    guessed_letters.append(guess)\n",
    "    \n",
    "    # Check if the letter is in the word\n",
    "    if guess in word:\n",
    "        print(\"Correct!\")\n",
    "        for i in range(len(word)):\n",
    "            if word[i] == guess:\n",
    "                hidden_word[i] = guess\n",
    "    else:\n",
    "        print(\"Incorrect.\")\n",
    "        turns -= 1\n",
    "    \n",
    "    # Check if the user has won\n",
    "    if \"_\" not in hidden_word:\n",
    "        print(\"Congratulations, \",name,\"! You guessed the word:\", word)\n",
    "        break\n",
    "    if turns == 0:\n",
    "        print(\"You lose, \",name,\"! The word was:\", word)\n"
   ]
  },
  {
   "cell_type": "markdown",
   "id": "e0ac8973",
   "metadata": {},
   "source": [
    "In this program, a list of words is defined and one word is randomly chosen from the list using the random.choice() function. The user is prompted to enter their name and the number of turns is initialized."
   ]
  },
  {
   "cell_type": "markdown",
   "id": "03bc8ad6",
   "metadata": {},
   "source": [
    "# 11.Develop a Canteen management system using python modules and packages."
   ]
  },
  {
   "cell_type": "code",
   "execution_count": null,
   "id": "b38f497c",
   "metadata": {},
   "outputs": [],
   "source": [
    "import os\n",
    "import sqlite3\n",
    "from prettytable import PrettyTable\n",
    "\n",
    "# Connect to the database\n",
    "connection = sqlite3.connect(\"canteen.db\")\n",
    "cursor = connection.cursor()\n",
    "\n",
    "# Create the menu table\n",
    "cursor.execute(\"\"\"CREATE TABLE IF NOT EXISTS menu (\n",
    "                id INTEGER PRIMARY KEY,\n",
    "                item TEXT,\n",
    "                price REAL)\"\"\")\n",
    "connection.commit()\n",
    "\n",
    "def add_item(item, price):\n",
    "    # Add an item to the menu\n",
    "    cursor.execute(\"INSERT INTO menu (item, price) VALUES (?, ?)\", (item, price))\n",
    "    connection.commit()\n",
    "    print(\"Item added successfully.\")\n",
    "\n",
    "def view_menu():\n",
    "    # View the menu\n",
    "    cursor.execute(\"SELECT * FROM menu\")\n",
    "    rows = cursor.fetchall()\n",
    "    x = PrettyTable()\n",
    "    x.field_names = [\"Id\", \"Item\", \"Price\"]\n",
    "    for row in rows:\n",
    "        x.add_row(row)\n",
    "    print(x)\n",
    "\n",
    "def update_item(item, price):\n",
    "    # Update an item on the menu\n",
    "    cursor.execute(\"UPDATE menu SET price = ? WHERE item = ?\", (price, item))\n",
    "    connection.commit()\n",
    "    print(\"Item updated successfully.\")\n",
    "\n",
    "def delete_item(item):\n",
    "    # Delete an item from the menu\n",
    "    cursor.execute(\"DELETE FROM menu WHERE item = ?\", (item,))\n",
    "    connection.commit()\n",
    "    print(\"Item deleted successfully.\")\n",
    "\n",
    "def main():\n",
    "    while True:\n",
    "        os.system(\"clear\") #for windows use os.system(\"cls\")\n",
    "        print(\"Canteen Management System\")\n",
    "        print(\"1. Add Item\")\n",
    "        print(\"2. View Menu\")\n",
    "        print(\"3. Update Item\")\n",
    "        print(\"4. Delete Item\")\n",
    "        print(\"5. Exit\")\n",
    "        choice = input(\"Enter your choice: \")\n",
    "        if choice == \"1\":\n",
    "            item = input(\"Enter item name: \")\n",
    "            price = float(input(\"Enter price: \"))\n",
    "            add_item(item, price)\n",
    "        elif choice == \"2\":\n",
    "            view_menu()\n",
    "        elif choice == \"3\":\n",
    "            item = input(\"Enter item name: \")\n",
    "            price\n"
   ]
  },
  {
   "cell_type": "code",
   "execution_count": null,
   "id": "c3f805f3",
   "metadata": {},
   "outputs": [],
   "source": [
    "# Import the required modules and packages\n",
    "import os\n",
    "import json\n",
    "from datetime import datetime\n",
    "\n",
    "# Define the menu items and prices\n",
    "menu = {\"Pizza\": 8, \"Hamburger\": 6, \"Salad\": 5, \"Soup\": 4, \"Water\": 2}\n",
    "\n",
    "# Define the order function\n",
    "def place_order(item, quantity):\n",
    "    # Get the current date and time\n",
    "    order_time = datetime.now().strftime(\"%Y-%m-%d %H:%M:%S\")\n",
    "\n",
    "    # Check if the item is in the menu\n",
    "    if item in menu:\n",
    "        # Calculate the total cost\n",
    "        total_cost = menu[item] * quantity\n",
    "\n",
    "        # Create a dictionary for the order\n",
    "        order = {\"item\": item, \"quantity\": quantity, \"total_cost\": total_cost, \"order_time\": order_time}\n",
    "\n",
    "        # Add the order to the orders list\n",
    "        orders.append(order)\n",
    "\n",
    "        # Save the orders to a file\n",
    "        save_orders()\n",
    "\n",
    "        # Print a message indicating the order was placed successfully\n",
    "        print(\"Order placed successfully!\")\n",
    "        print(\"Order summary:\")\n",
    "        print(\"Item:\", item)\n",
    "        print(\"Quantity:\", quantity)\n",
    "        print(\"Total cost:\", total_cost)\n",
    "        print(\"Order time:\", order_time)\n",
    "    else:\n",
    "        # Print an error message if the item is not in the menu\n",
    "        print(\"Error: The item is not in the menu.\")\n",
    "\n",
    "# Define the function to save the orders to a file\n",
    "def save_orders():\n",
    "    # Open the orders file for writing\n",
    "    with open(\"orders.json\", \"w\") as file:\n",
    "        # Write the orders to the file\n",
    "        json.dump(orders, file)\n",
    "\n",
    "# Define the function to load the orders from a file\n",
    "def load_orders():\n",
    "    # Check if the orders file exists\n",
    "    if os.path.exists(\"orders.json\"):\n",
    "        # Open the orders file for reading\n",
    "        with open(\"orders.json\", \"r\") as file:\n",
    "            # Load the orders from the file\n",
    "            return json.load(file)\n",
    "    else:\n",
    "        # Return an empty list if the orders file does not exist\n",
    "        return []\n",
    "\n",
    "# Load the previous orders\n",
    "orders = load_orders()\n"
   ]
  },
  {
   "cell_type": "markdown",
   "id": "061ebddd",
   "metadata": {},
   "source": [
    "# 12.Write a python program to find the factorial of a number, and save it as factorial.py. Import the above python file(factorial.py) as module into another python file and access the functions of the first file from second file.\n"
   ]
  },
  {
   "cell_type": "code",
   "execution_count": null,
   "id": "513e7411",
   "metadata": {},
   "outputs": [],
   "source": [
    "def factorial(n):\n",
    "    if n == 0:\n",
    "        return 1\n",
    "    else:\n",
    "        return n * factorial(n-1)\n",
    "factorial(5)"
   ]
  },
  {
   "cell_type": "code",
   "execution_count": null,
   "id": "4a6c434a",
   "metadata": {},
   "outputs": [],
   "source": [
    "import factorial\n",
    "\n",
    "number = 5\n",
    "result = factorial.factorial(number)\n",
    "print(\"The factorial of\", number, \"is\", result)\n"
   ]
  },
  {
   "cell_type": "code",
   "execution_count": 1,
   "id": "a95f51cc",
   "metadata": {},
   "outputs": [
    {
     "name": "stdout",
     "output_type": "stream",
     "text": [
      "valid\n"
     ]
    }
   ],
   "source": [
    "import re\n",
    "\n",
    "pattern = r'^[A-Za-z0-9!#$%&\\'*+\\-/=?^_`{|}~](?:[A-Za-z0-9!#$%&\\'*+\\-/=?^_`{|}~]|[.]){0,62}[A-Za-z0-9!#$%&\\'*+\\-/=?^_`{|}~]@(?:[A-Za-z0-9](?:[A-Za-z0-9-]{0,61}[A-Za-z0-9])?\\.)+(?:[A-Za-z]{2,})$'\n",
    "\n",
    "email = 'username@example.com'\n",
    "\n",
    "if re.match(pattern, email):\n",
    "    print(\"valid\")\n",
    "else:\n",
    "    print(\"invalid\")\n"
   ]
  },
  {
   "cell_type": "code",
   "execution_count": null,
   "id": "b7fce059",
   "metadata": {},
   "outputs": [],
   "source": []
  }
 ],
 "metadata": {
  "kernelspec": {
   "display_name": "Python 3 (ipykernel)",
   "language": "python",
   "name": "python3"
  },
  "language_info": {
   "codemirror_mode": {
    "name": "ipython",
    "version": 3
   },
   "file_extension": ".py",
   "mimetype": "text/x-python",
   "name": "python",
   "nbconvert_exporter": "python",
   "pygments_lexer": "ipython3",
   "version": "3.9.13"
  }
 },
 "nbformat": 4,
 "nbformat_minor": 5
}
