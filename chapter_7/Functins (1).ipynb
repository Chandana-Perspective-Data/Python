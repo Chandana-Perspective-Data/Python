{
 "cells": [
  {
   "cell_type": "code",
   "execution_count": 2,
   "id": "1669cde7",
   "metadata": {},
   "outputs": [
    {
     "name": "stdout",
     "output_type": "stream",
     "text": [
      "3\n"
     ]
    }
   ],
   "source": [
    "#defining the function\n",
    "\n",
    "def f(a,b):      # defining the function and , a & b are the parameters\n",
    "    return a+b   # return statement\n",
    "f(1,2)# calling the function and, 1 & 2 are the arguments that are passed to the parameters a & b\n",
    "print(f(1,2))"
   ]
  },
  {
   "cell_type": "code",
   "execution_count": 11,
   "id": "91146176",
   "metadata": {},
   "outputs": [
    {
     "name": "stdout",
     "output_type": "stream",
     "text": [
      "10\n",
      "20\n",
      "<function f1 at 0x000000566352F0D0>\n",
      "5\n"
     ]
    }
   ],
   "source": [
    "def f1(x):\n",
    "    return x;\n",
    "\n",
    "print (f1(10))\n",
    "f1(10)\n",
    "print(f1(20))\n",
    "# f1(10)\n",
    "# f1(10)\n",
    "# print (f1(10))\n",
    "\n",
    "print(f1)\n",
    "\n",
    "a=f1(5)\n",
    "print(a)"
   ]
  },
  {
   "cell_type": "code",
   "execution_count": 14,
   "id": "4a9dfcac",
   "metadata": {},
   "outputs": [
    {
     "name": "stdout",
     "output_type": "stream",
     "text": [
      "The sum of the 1 and 2 is 3\n"
     ]
    }
   ],
   "source": [
    "def f(a,b):\n",
    "    return \"The sum of the {} and {} is {}\".format(a,b,a+b)\n",
    "print(f(1,2))"
   ]
  },
  {
   "cell_type": "code",
   "execution_count": 12,
   "id": "808556f9",
   "metadata": {},
   "outputs": [
    {
     "name": "stdout",
     "output_type": "stream",
     "text": [
      "(1, 2, 3, -1)\n"
     ]
    }
   ],
   "source": [
    "def f(a,b):\n",
    "    return a,b,a+b,a-b\n",
    "print(f(1,2))"
   ]
  },
  {
   "cell_type": "code",
   "execution_count": 18,
   "id": "2950a4ea",
   "metadata": {},
   "outputs": [
    {
     "name": "stdout",
     "output_type": "stream",
     "text": [
      "1 2 3 -1\n",
      "Hellow\n"
     ]
    }
   ],
   "source": [
    "def f(a,b):\n",
    "    print(a,b,a+b,a-b)\n",
    "    return \"Hellow\"\n",
    "    print(\"Hi..........\")\n",
    "print(f(1,2))"
   ]
  },
  {
   "cell_type": "code",
   "execution_count": 19,
   "id": "e27e9738",
   "metadata": {},
   "outputs": [
    {
     "ename": "SyntaxError",
     "evalue": "invalid syntax (Temp/ipykernel_3760/2329250403.py, line 2)",
     "output_type": "error",
     "traceback": [
      "\u001b[1;36m  File \u001b[1;32m\"C:\\Users\\SHAILA~1\\AppData\\Local\\Temp/ipykernel_3760/2329250403.py\"\u001b[1;36m, line \u001b[1;32m2\u001b[0m\n\u001b[1;33m    return for i in range(10) # error, because we can't able to use the \"for\" in return statement\u001b[0m\n\u001b[1;37m           ^\u001b[0m\n\u001b[1;31mSyntaxError\u001b[0m\u001b[1;31m:\u001b[0m invalid syntax\n"
     ]
    }
   ],
   "source": [
    "def f(a):\n",
    "    return for i in range(10) # error, because we can't able to use the \"for\" in return statement\n",
    "print(f([1,2,3,4,5,6,7,8,9]))"
   ]
  },
  {
   "cell_type": "code",
   "execution_count": 11,
   "id": "1a9776c1",
   "metadata": {},
   "outputs": [
    {
     "name": "stdout",
     "output_type": "stream",
     "text": [
      "3\n"
     ]
    }
   ],
   "source": [
    "def f(a,b):\n",
    "    return a+b\n",
    "x=f(1,2) # assigning the function to the variable\n",
    "print(x)"
   ]
  },
  {
   "cell_type": "code",
   "execution_count": 2,
   "id": "63d33e30",
   "metadata": {},
   "outputs": [
    {
     "name": "stdout",
     "output_type": "stream",
     "text": [
      "enter your number to chech whether it is even or odd : 5896\n",
      "5896 is the even number\n"
     ]
    }
   ],
   "source": [
    "#program to chech whether the given number is even or odd\n",
    "\n",
    "def even_odd(n):\n",
    "    if(n%2==0):\n",
    "        print(n, \"is the even number\")\n",
    "    else:\n",
    "        print(n, \"is the odd number\")\n",
    "        \n",
    "\n",
    "even_odd(31) # Type 1\n",
    "\n",
    "\n",
    "num=int(input(\"enter your number to chech whether it is even or odd : \"))  # Type 2\n",
    "even_odd(num)\n",
    "\n",
    "even_odd(int(input(\"enter your number to chech whether it is even or odd : \")))  # Type 3"
   ]
  },
  {
   "cell_type": "code",
   "execution_count": null,
   "id": "581ad7d8",
   "metadata": {},
   "outputs": [],
   "source": [
    "5!=5*4*3*2*1*1"
   ]
  },
  {
   "cell_type": "code",
   "execution_count": 16,
   "id": "eb6b7e4c",
   "metadata": {},
   "outputs": [
    {
     "name": "stdout",
     "output_type": "stream",
     "text": [
      "enter the numbre to find the fact  : 67\n",
      "36471110918188685288249859096605464427167635314049524593701628500267962436943872000000000000000\n"
     ]
    }
   ],
   "source": [
    "# A program to find the factorial of the given number\n",
    "\n",
    "def f(n):  # n=4\n",
    "    fact=1\n",
    "    while(n>=1):  # 0>=1\n",
    "        fact*=n  #  fact=24\n",
    "        n-=1     # n=0\n",
    "    return fact\n",
    "\n",
    "print(f(int(input(\"enter the numbre to find the fact  : \")))) "
   ]
  },
  {
   "cell_type": "code",
   "execution_count": 15,
   "id": "28763ce4",
   "metadata": {},
   "outputs": [
    {
     "name": "stdout",
     "output_type": "stream",
     "text": [
      "enter your range : 12\n",
      "factorial of the 0 is 1\n",
      "factorial of the 2 is 2\n",
      "factorial of the 4 is 24\n",
      "factorial of the 6 is 720\n",
      "factorial of the 8 is 40320\n",
      "factorial of the 10 is 3628800\n"
     ]
    }
   ],
   "source": [
    "def factorial(n):\n",
    "    fact=1\n",
    "    while(n>=1):\n",
    "        fact*=n\n",
    "        n-=1\n",
    "    return fact\n",
    "\n",
    "for i in range(int(input(\"enter your range : \"))):  # i=3, range(3)=(0,1,2)\n",
    "    if(i%2==0):\n",
    "        print(\"factorial of the {} is {}\".format(i,factorial(i)))"
   ]
  },
  {
   "cell_type": "code",
   "execution_count": 18,
   "id": "50df78b7",
   "metadata": {},
   "outputs": [
    {
     "name": "stdout",
     "output_type": "stream",
     "text": [
      "enter your range : 3\n",
      "Enter the value : 4\n",
      "The factorial of the 4 is 24\n",
      "Enter the value : 7\n",
      "The factorial of the 7 is 5040\n",
      "Enter the value : 2\n",
      "The factorial of the 2 is 2\n",
      "End!!!!!!!!!!!!!!\n"
     ]
    }
   ],
   "source": [
    "def factorial(n):\n",
    "    fact=1\n",
    "    while(n>=1):\n",
    "        fact*=n\n",
    "        n-=1\n",
    "    return fact\n",
    "\n",
    "for i in range(int(input(\"enter your range : \"))):  # i=3, range(3)=(0,1,2)\n",
    "    num=int(input(\"Enter the value : \"))\n",
    "    print(\"The factorial of the {} is {}\".format(num,factorial(num)))\n",
    "    \n",
    "print(\"End!!!!!!!!!!!!!!\")"
   ]
  },
  {
   "cell_type": "code",
   "execution_count": 31,
   "id": "8de24095",
   "metadata": {},
   "outputs": [
    {
     "name": "stdout",
     "output_type": "stream",
     "text": [
      "how many primes you want : 5\n",
      "2 3 5 7 11 "
     ]
    }
   ],
   "source": [
    "def prime(n):  \n",
    "    flag=1    \n",
    "    for i in range(2,n):  \n",
    "        if(n%i==0):  \n",
    "            flag=0\n",
    "            break\n",
    "        else:\n",
    "            flag=1\n",
    "    return flag\n",
    "\n",
    "num=int(input(\"how many primes you want : \"))\n",
    "i=2\n",
    "c=1\n",
    "while True:\n",
    "    if prime(i):\n",
    "        print(i,end=\" \")\n",
    "        c+=1\n",
    "    i+=1\n",
    "    if c>num:\n",
    "        break"
   ]
  },
  {
   "cell_type": "code",
   "execution_count": null,
   "id": "fb6b3df1",
   "metadata": {},
   "outputs": [],
   "source": [
    "62"
   ]
  },
  {
   "cell_type": "code",
   "execution_count": 2,
   "id": "b87f6d18",
   "metadata": {},
   "outputs": [
    {
     "name": "stdout",
     "output_type": "stream",
     "text": [
      "(4, 9, 16)\n"
     ]
    }
   ],
   "source": [
    "# retuning two or more values by the return statement\n",
    "\n",
    "def f(n):\n",
    "    return 2**n,3**n,4**n   # returning more then one variable\n",
    "print(f(2))\n",
    "    "
   ]
  },
  {
   "cell_type": "code",
   "execution_count": 47,
   "id": "4eef324d",
   "metadata": {},
   "outputs": [
    {
     "name": "stdout",
     "output_type": "stream",
     "text": [
      "637089599552\n",
      "637089593216\n"
     ]
    }
   ],
   "source": [
    "x=[1,2]\n",
    "y=[1,2]\n",
    "print(id(x))\n",
    "print(id(y))"
   ]
  },
  {
   "cell_type": "code",
   "execution_count": 48,
   "id": "f8b1cea8",
   "metadata": {},
   "outputs": [
    {
     "name": "stdout",
     "output_type": "stream",
     "text": [
      "636977506608\n",
      "636977506608\n"
     ]
    }
   ],
   "source": [
    "x=1\n",
    "y=1\n",
    "print(id(x))\n",
    "print(id(y))"
   ]
  },
  {
   "cell_type": "code",
   "execution_count": 3,
   "id": "b309cd6b",
   "metadata": {},
   "outputs": [
    {
     "name": "stdout",
     "output_type": "stream",
     "text": [
      "DataScince\n"
     ]
    }
   ],
   "source": [
    "# program to assign the function to the variable\n",
    "\n",
    "def f(n):\n",
    "    return \"Data\" + n\n",
    "print(f(\"Scince\"))\n"
   ]
  },
  {
   "cell_type": "code",
   "execution_count": 5,
   "id": "9a04f5ff",
   "metadata": {
    "collapsed": true
   },
   "outputs": [
    {
     "data": {
      "text/plain": [
       "805593180752"
      ]
     },
     "execution_count": 5,
     "metadata": {},
     "output_type": "execute_result"
    }
   ],
   "source": [
    "x=10\n",
    "id(x) # it gives the identity number of the object(where object store in the memory)"
   ]
  },
  {
   "cell_type": "code",
   "execution_count": 9,
   "id": "fb155d86",
   "metadata": {
    "collapsed": true
   },
   "outputs": [
    {
     "name": "stdout",
     "output_type": "stream",
     "text": [
      "15 890651765488\n",
      "10 890651765328\n"
     ]
    }
   ],
   "source": [
    "# A function to understand the call by vlue methos \n",
    "\"\"\"\n",
    "inter objects are immutable\n",
    "\n",
    "\"\"\"\n",
    "def f(x):\n",
    "    x=15\n",
    "    print(x,id(x))\n",
    "x=10\n",
    "f(x)\n",
    "print(x,id(x))\n"
   ]
  },
  {
   "cell_type": "code",
   "execution_count": 7,
   "id": "47d29bcc",
   "metadata": {},
   "outputs": [
    {
     "name": "stdout",
     "output_type": "stream",
     "text": [
      "[1, 2, 3, 4, 5, 1729] 890761539392\n",
      "[1, 2, 3, 4, 5, 1729] 890761539392\n"
     ]
    }
   ],
   "source": [
    "\"\"\"\n",
    "list objects are the mutable\n",
    "\n",
    "\"\"\"\n",
    "\n",
    "def f(x):\n",
    "    x.append(1729)\n",
    "    print(x,id(x))\n",
    "    \n",
    "x=[1,2,3,4,5]\n",
    "f(x)\n",
    "print(x,id(x))"
   ]
  },
  {
   "cell_type": "code",
   "execution_count": 10,
   "id": "7b715b53",
   "metadata": {},
   "outputs": [
    {
     "name": "stdout",
     "output_type": "stream",
     "text": [
      "[1, 2, 3, 4] 890731713280\n",
      "[6, 7, 8, 9] 890761538112\n"
     ]
    }
   ],
   "source": [
    "def f(l):\n",
    "    l=[1,2,3,4]\n",
    "    print(l,id(l))\n",
    "    \n",
    "l=[6,7,8,9]\n",
    "f(l)\n",
    "print(l,id(l))"
   ]
  },
  {
   "cell_type": "code",
   "execution_count": 13,
   "id": "4c541496",
   "metadata": {},
   "outputs": [
    {
     "name": "stdout",
     "output_type": "stream",
     "text": [
      "10 20\n"
     ]
    }
   ],
   "source": [
    "# formal or actual arguments\n",
    "\n",
    "def f(a,b):  # a & B are the fomal arguments\n",
    "    print(a,b)\n",
    "    \n",
    "x,y=10,20\n",
    "f(x,y)  #x & y are called actual arguments"
   ]
  },
  {
   "cell_type": "code",
   "execution_count": 17,
   "id": "792315d5",
   "metadata": {},
   "outputs": [
    {
     "name": "stdout",
     "output_type": "stream",
     "text": [
      "prime\n"
     ]
    }
   ],
   "source": [
    "x=101\n",
    "flag=True\n",
    "for i in range(2,x//2):\n",
    "    if(x%2==0):\n",
    "        flag = False\n",
    "        break\n",
    "\n",
    "if flag:\n",
    "    print(\"prime\")\n",
    "else:\n",
    "    print(\"not\")"
   ]
  },
  {
   "cell_type": "code",
   "execution_count": null,
   "id": "25a7f082",
   "metadata": {},
   "outputs": [],
   "source": []
  },
  {
   "cell_type": "code",
   "execution_count": null,
   "id": "d0a00d10",
   "metadata": {},
   "outputs": [],
   "source": []
  },
  {
   "cell_type": "code",
   "execution_count": 2,
   "id": "2c1968ac",
   "metadata": {},
   "outputs": [
    {
     "name": "stdout",
     "output_type": "stream",
     "text": [
      "1\n",
      "2\n",
      "3\n",
      "4\n"
     ]
    }
   ],
   "source": [
    "def f(*argv):\n",
    "    for i in argv:\n",
    "        print(i)\n",
    "        \n",
    "f(1,2,3,4)"
   ]
  },
  {
   "cell_type": "code",
   "execution_count": null,
   "id": "c871c8cc",
   "metadata": {},
   "outputs": [],
   "source": []
  },
  {
   "cell_type": "code",
   "execution_count": null,
   "id": "31030e47",
   "metadata": {},
   "outputs": [],
   "source": []
  },
  {
   "cell_type": "markdown",
   "id": "a5fde10d",
   "metadata": {},
   "source": [
    "# arguments (actual arguments used in the function call)"
   ]
  },
  {
   "cell_type": "markdown",
   "id": "d0490f8f",
   "metadata": {},
   "source": [
    "positional arguments \n",
    "keyworld arguments\n",
    "default arguments\n",
    "variable length arguments"
   ]
  },
  {
   "cell_type": "code",
   "execution_count": 14,
   "id": "57e2dc23",
   "metadata": {},
   "outputs": [
    {
     "name": "stdout",
     "output_type": "stream",
     "text": [
      "positional arguments example : \n",
      "10 20\n"
     ]
    }
   ],
   "source": [
    "\"\"\"\n",
    "Positional arguments : these are the arguments passed to a function in correct positional order\n",
    "Here, the no of the arguments and the positions in function defination should be macth with the number and the position in the function call\n",
    "\n",
    "\"\"\"\n",
    "\n",
    "print(\"positional arguments example : \")\n",
    "\n",
    "def f (x,y):\n",
    "    print(x,y)\n",
    "    \n",
    "f(10,20)  # positional arguments\n",
    "\n"
   ]
  },
  {
   "cell_type": "code",
   "execution_count": 8,
   "id": "0a534eaf",
   "metadata": {},
   "outputs": [
    {
     "name": "stdout",
     "output_type": "stream",
     "text": [
      "keyworld arguments example : \n",
      "10 20\n",
      "50 60\n"
     ]
    },
    {
     "ename": "NameError",
     "evalue": "name 'x' is not defined",
     "output_type": "error",
     "traceback": [
      "\u001b[1;31m---------------------------------------------------------------------------\u001b[0m",
      "\u001b[1;31mNameError\u001b[0m                                 Traceback (most recent call last)",
      "\u001b[1;32mC:\\Users\\SHAILA~1\\AppData\\Local\\Temp/ipykernel_1932/3717968485.py\u001b[0m in \u001b[0;36m<module>\u001b[1;34m\u001b[0m\n\u001b[0;32m     11\u001b[0m \u001b[0mf\u001b[0m\u001b[1;33m(\u001b[0m\u001b[0my\u001b[0m\u001b[1;33m=\u001b[0m\u001b[1;36m20\u001b[0m\u001b[1;33m,\u001b[0m\u001b[0mx\u001b[0m\u001b[1;33m=\u001b[0m\u001b[1;36m10\u001b[0m\u001b[1;33m)\u001b[0m\u001b[1;33m\u001b[0m\u001b[1;33m\u001b[0m\u001b[0m\n\u001b[0;32m     12\u001b[0m \u001b[0mf\u001b[0m\u001b[1;33m(\u001b[0m\u001b[0mx\u001b[0m\u001b[1;33m=\u001b[0m\u001b[1;36m50\u001b[0m\u001b[1;33m,\u001b[0m\u001b[0my\u001b[0m\u001b[1;33m=\u001b[0m\u001b[1;36m60\u001b[0m\u001b[1;33m)\u001b[0m\u001b[1;33m\u001b[0m\u001b[1;33m\u001b[0m\u001b[0m\n\u001b[1;32m---> 13\u001b[1;33m \u001b[0mf\u001b[0m\u001b[1;33m(\u001b[0m\u001b[0mx\u001b[0m\u001b[1;33m,\u001b[0m\u001b[0my\u001b[0m\u001b[1;33m=\u001b[0m\u001b[1;36m30\u001b[0m\u001b[1;33m)\u001b[0m\u001b[1;33m\u001b[0m\u001b[1;33m\u001b[0m\u001b[0m\n\u001b[0m\u001b[0;32m     14\u001b[0m \u001b[0mf\u001b[0m\u001b[1;33m(\u001b[0m\u001b[0my\u001b[0m\u001b[1;33m,\u001b[0m\u001b[0mx\u001b[0m\u001b[1;33m)\u001b[0m\u001b[1;33m\u001b[0m\u001b[1;33m\u001b[0m\u001b[0m\n\u001b[0;32m     15\u001b[0m \u001b[1;31m#f(x=40,y)  # error(positional arguments follows keyword arguments)\u001b[0m\u001b[1;33m\u001b[0m\u001b[1;33m\u001b[0m\u001b[0m\n",
      "\u001b[1;31mNameError\u001b[0m: name 'x' is not defined"
     ]
    }
   ],
   "source": [
    "\"\"\"\n",
    "Keyworld arguments : keyword arguments are the arguments that are identify by the name\n",
    "\n",
    "\"\"\"\n",
    "\n",
    "print(\"keyworld arguments example : \")\n",
    "\n",
    "def f(x=1,y=2):\n",
    "    print(x,y)\n",
    "    \n",
    "f(y=20,x=10)\n",
    "f(x=50,y=60)\n",
    "f(x,y=30)\n",
    "f(y,x)\n",
    "#f(x=40,y)  # error(positional arguments follows keyword arguments)\n"
   ]
  },
  {
   "cell_type": "code",
   "execution_count": 2,
   "id": "7e496693",
   "metadata": {},
   "outputs": [],
   "source": [
    "def new_func(a:int, b:str) -> str : return a, b;\n"
   ]
  },
  {
   "cell_type": "code",
   "execution_count": 41,
   "id": "9dcb21dd",
   "metadata": {},
   "outputs": [
    {
     "name": "stdout",
     "output_type": "stream",
     "text": [
      " default arguments example : \n",
      "10 10\n",
      "1 10\n",
      "2 20\n"
     ]
    }
   ],
   "source": [
    "\"\"\"\n",
    "Default arguments : default arguments are the arguments for which we can mention some default values for the function parameters\n",
    "in the definition.\n",
    "\n",
    "\"\"\"\n",
    "\n",
    "print(\" default arguments example : \")\n",
    "\n",
    "def f(x,y=10):   #y is default argument\n",
    "    print(x,y)\n",
    "    \n",
    "f(x)\n",
    "f(x=1)\n",
    "f(x=2,y=20)"
   ]
  },
  {
   "cell_type": "code",
   "execution_count": 1,
   "id": "70f5596d",
   "metadata": {},
   "outputs": [
    {
     "name": "stdout",
     "output_type": "stream",
     "text": [
      "20 10\n"
     ]
    }
   ],
   "source": [
    "def f(x,y=10):   #y is default argument\n",
    "    print(x,y)\n",
    "    \n",
    "f(20)"
   ]
  },
  {
   "cell_type": "markdown",
   "id": "90139622",
   "metadata": {},
   "source": [
    "# Anonymous function OR Lambdas"
   ]
  },
  {
   "cell_type": "markdown",
   "id": "7f7a3c06",
   "metadata": {},
   "source": [
    "*A function without name is called Anonymous function. \n",
    "*To define a function we have to use \"def\" keyword.\n",
    "*But,anonymous function not defind by using the \"def\" keyword,they are defind by using the \" lambda\" keyword hence they are called \"lambdas\" .\n"
   ]
  },
  {
   "cell_type": "code",
   "execution_count": 50,
   "id": "d24b71fe",
   "metadata": {},
   "outputs": [
    {
     "name": "stdout",
     "output_type": "stream",
     "text": [
      "20\n"
     ]
    }
   ],
   "source": [
    "\n",
    "x=lambda x:x+x\n",
    "print(x(10))\n"
   ]
  },
  {
   "cell_type": "code",
   "execution_count": 61,
   "id": "eb85d52b",
   "metadata": {},
   "outputs": [
    {
     "name": "stdout",
     "output_type": "stream",
     "text": [
      "[0, 2, 4, 6, 8]\n"
     ]
    }
   ],
   "source": [
    "print(list(filter(lambda x:x%2==0,range(10))))"
   ]
  },
  {
   "cell_type": "code",
   "execution_count": 2,
   "id": "12c80b9b",
   "metadata": {},
   "outputs": [
    {
     "name": "stdout",
     "output_type": "stream",
     "text": [
      "30\n",
      "3\n"
     ]
    }
   ],
   "source": [
    "#lambda function\n",
    "x=lambda a,b:a+b\n",
    "print(x(10,20))\n",
    "y=x(1,2)\n",
    "print(y)"
   ]
  },
  {
   "cell_type": "code",
   "execution_count": 10,
   "id": "ae33aab9",
   "metadata": {},
   "outputs": [
    {
     "name": "stdout",
     "output_type": "stream",
     "text": [
      "big one is :  2\n"
     ]
    }
   ],
   "source": [
    "x=lambda a,b:a if a>b else b\n",
    "#a,b=[int(n) for n in input(\"enter any 2 numbers : \").split(\",\")]\n",
    "print(\"big one is : \",x(1,2))"
   ]
  },
  {
   "cell_type": "code",
   "execution_count": 20,
   "id": "b023311c",
   "metadata": {},
   "outputs": [
    {
     "name": "stdout",
     "output_type": "stream",
     "text": [
      "(2, 4, 6)\n"
     ]
    }
   ],
   "source": [
    "#### filter()\n",
    "\n",
    "\"\"\"\n",
    "a filter() function is useful to extrac elements from the sequence depending on the result of the function.\n",
    "\n",
    "\"\"\"\n",
    "\n",
    "def even(x):\n",
    "    return True if x%2==0 else False\n",
    "l=[1,2,3,4,5,6]\n",
    "print(tuple(filter(even,l)))\n"
   ]
  },
  {
   "cell_type": "code",
   "execution_count": 84,
   "id": "676611a3",
   "metadata": {},
   "outputs": [
    {
     "ename": "TypeError",
     "evalue": "even() takes 1 positional argument but 2 were given",
     "output_type": "error",
     "traceback": [
      "\u001b[1;31m---------------------------------------------------------------------------\u001b[0m",
      "\u001b[1;31mTypeError\u001b[0m                                 Traceback (most recent call last)",
      "\u001b[1;32mC:\\Users\\SHAILA~1\\AppData\\Local\\Temp/ipykernel_2688/2785878570.py\u001b[0m in \u001b[0;36m<module>\u001b[1;34m\u001b[0m\n\u001b[0;32m      4\u001b[0m     \u001b[1;32mreturn\u001b[0m \u001b[1;32mTrue\u001b[0m \u001b[1;32mif\u001b[0m \u001b[0mx\u001b[0m\u001b[1;33m%\u001b[0m\u001b[1;36m2\u001b[0m\u001b[1;33m==\u001b[0m\u001b[1;36m0\u001b[0m \u001b[1;32melse\u001b[0m \u001b[1;32mFalse\u001b[0m\u001b[1;33m\u001b[0m\u001b[1;33m\u001b[0m\u001b[0m\n\u001b[0;32m      5\u001b[0m \u001b[0ml\u001b[0m\u001b[1;33m=\u001b[0m\u001b[1;33m[\u001b[0m\u001b[1;36m1\u001b[0m\u001b[1;33m,\u001b[0m\u001b[1;36m2\u001b[0m\u001b[1;33m,\u001b[0m\u001b[1;36m3\u001b[0m\u001b[1;33m,\u001b[0m\u001b[1;36m4\u001b[0m\u001b[1;33m,\u001b[0m\u001b[1;36m5\u001b[0m\u001b[1;33m,\u001b[0m\u001b[1;36m6\u001b[0m\u001b[1;33m,\u001b[0m\u001b[1;36m7\u001b[0m\u001b[1;33m,\u001b[0m\u001b[1;36m8\u001b[0m\u001b[1;33m,\u001b[0m\u001b[1;36m9\u001b[0m\u001b[1;33m,\u001b[0m\u001b[1;36m10\u001b[0m\u001b[1;33m]\u001b[0m\u001b[1;33m\u001b[0m\u001b[1;33m\u001b[0m\u001b[0m\n\u001b[1;32m----> 6\u001b[1;33m \u001b[0mprint\u001b[0m\u001b[1;33m(\u001b[0m\u001b[0mreduce\u001b[0m\u001b[1;33m(\u001b[0m\u001b[0meven\u001b[0m\u001b[1;33m,\u001b[0m\u001b[0ml\u001b[0m\u001b[1;33m)\u001b[0m\u001b[1;33m)\u001b[0m\u001b[1;33m\u001b[0m\u001b[1;33m\u001b[0m\u001b[0m\n\u001b[0m",
      "\u001b[1;31mTypeError\u001b[0m: even() takes 1 positional argument but 2 were given"
     ]
    }
   ],
   "source": [
    "\n",
    "from functools import *\n",
    "\n",
    "def even(x):\n",
    "    return True if x%2==0 else False\n",
    "l=[1,2,3,4,5,6,7,8,9,10]\n",
    "print(reduce(even,l))"
   ]
  },
  {
   "cell_type": "code",
   "execution_count": 83,
   "id": "23745412",
   "metadata": {},
   "outputs": [
    {
     "name": "stdout",
     "output_type": "stream",
     "text": [
      "(0, 2, 4, 6, 8)\n"
     ]
    }
   ],
   "source": [
    "print(tuple(filter(lambda x:x%2==0,range(10))))"
   ]
  },
  {
   "cell_type": "code",
   "execution_count": 3,
   "id": "42d1068c",
   "metadata": {},
   "outputs": [
    {
     "name": "stdout",
     "output_type": "stream",
     "text": [
      "[1, 256, 19683, 1048576]\n"
     ]
    }
   ],
   "source": [
    "#map with lambda\n",
    "\n",
    "l=[7,8,9,10]\n",
    "m=[1,2,3,4]\n",
    "print(list(map(lambda x,y:x**y,m,l)))"
   ]
  },
  {
   "cell_type": "code",
   "execution_count": 9,
   "id": "7190e38a",
   "metadata": {},
   "outputs": [
    {
     "name": "stdout",
     "output_type": "stream",
     "text": [
      "[8, 10, 12, 14]\n"
     ]
    }
   ],
   "source": [
    "print(list(map(lambda a,b:a+b,l,m)))"
   ]
  },
  {
   "cell_type": "code",
   "execution_count": 1,
   "id": "e1a06c38",
   "metadata": {},
   "outputs": [
    {
     "name": "stdout",
     "output_type": "stream",
     "text": [
      "[6, 6, 6, 6]\n"
     ]
    }
   ],
   "source": [
    "\n",
    "\n",
    "l=[7,8,9,10]\n",
    "m=[1,2,3,4]\n",
    "print(list(map(lambda x,y:abs(x-y),m,l)))"
   ]
  },
  {
   "cell_type": "code",
   "execution_count": 64,
   "id": "e7a0ff64",
   "metadata": {},
   "outputs": [
    {
     "name": "stdout",
     "output_type": "stream",
     "text": [
      "[1, 16, 27, 16, 5]\n"
     ]
    }
   ],
   "source": [
    "#map() with lambda\n",
    "\n",
    "l1=[1,2,3,4,5]\n",
    "l2=[5,4,3,2,1,2,3]\n",
    "print(list(map(lambda x,y:x**y ,l1,l2)))"
   ]
  },
  {
   "cell_type": "code",
   "execution_count": 82,
   "id": "0ebdd506",
   "metadata": {},
   "outputs": [
    {
     "ename": "TypeError",
     "evalue": "<lambda>() takes 1 positional argument but 2 were given",
     "output_type": "error",
     "traceback": [
      "\u001b[1;31m---------------------------------------------------------------------------\u001b[0m",
      "\u001b[1;31mTypeError\u001b[0m                                 Traceback (most recent call last)",
      "\u001b[1;32mC:\\Users\\SHAILA~1\\AppData\\Local\\Temp/ipykernel_2688/3717268201.py\u001b[0m in \u001b[0;36m<module>\u001b[1;34m\u001b[0m\n\u001b[0;32m      2\u001b[0m \u001b[1;33m\u001b[0m\u001b[0m\n\u001b[0;32m      3\u001b[0m \u001b[1;33m\u001b[0m\u001b[0m\n\u001b[1;32m----> 4\u001b[1;33m \u001b[0mprint\u001b[0m\u001b[1;33m(\u001b[0m\u001b[0mreduce\u001b[0m\u001b[1;33m(\u001b[0m\u001b[1;32mlambda\u001b[0m \u001b[0mx\u001b[0m\u001b[1;33m:\u001b[0m\u001b[0mx\u001b[0m\u001b[1;33m+\u001b[0m\u001b[0mx\u001b[0m\u001b[1;33m,\u001b[0m\u001b[0ml1\u001b[0m\u001b[1;33m)\u001b[0m\u001b[1;33m)\u001b[0m\u001b[1;33m\u001b[0m\u001b[1;33m\u001b[0m\u001b[0m\n\u001b[0m",
      "\u001b[1;31mTypeError\u001b[0m: <lambda>() takes 1 positional argument but 2 were given"
     ]
    }
   ],
   "source": [
    "l1=[1,2,3,4,5,5,9]\n",
    "\n",
    "\n",
    "print(reduce(lambda x:x+x,l1))"
   ]
  },
  {
   "cell_type": "code",
   "execution_count": 1,
   "id": "b7e9bf35",
   "metadata": {},
   "outputs": [
    {
     "name": "stdout",
     "output_type": "stream",
     "text": [
      "1\n"
     ]
    }
   ],
   "source": [
    "# reduce()\n",
    "\n",
    "\"\"\"\n",
    "reduce() reduce a sequence of the  elements into a singe element by processing the elements according to the function s\n",
    "upplied\n",
    "\n",
    "\"\"\"\n",
    "\n",
    "from functools import *\n",
    "l=[1,2,3,4,5,6,7,8,9,10]\n",
    "print(reduce(lambda x,y:x**y,l))\n"
   ]
  },
  {
   "cell_type": "code",
   "execution_count": 70,
   "id": "b87ba816",
   "metadata": {},
   "outputs": [
    {
     "name": "stdout",
     "output_type": "stream",
     "text": [
      "1\n"
     ]
    }
   ],
   "source": [
    "from functools import *\n",
    "print(reduce(lambda x,y:x**y,range(1,100)))\n"
   ]
  },
  {
   "cell_type": "code",
   "execution_count": 29,
   "id": "f5637e22",
   "metadata": {
    "scrolled": true
   },
   "outputs": [
    {
     "name": "stdout",
     "output_type": "stream",
     "text": [
      "0\n"
     ]
    }
   ],
   "source": [
    "print(reduce(lambda x,y:x*y,range(11)))"
   ]
  },
  {
   "cell_type": "code",
   "execution_count": 5,
   "id": "90b21219",
   "metadata": {},
   "outputs": [
    {
     "name": "stdout",
     "output_type": "stream",
     "text": [
      "<map object at 0x0000007DADAEB670>\n"
     ]
    }
   ],
   "source": [
    "x,y=[1,1],[2,2]\n",
    "print(list(map(lambda a,b:a+b,x,y)))"
   ]
  },
  {
   "cell_type": "code",
   "execution_count": 59,
   "id": "c71d17da",
   "metadata": {},
   "outputs": [
    {
     "name": "stdout",
     "output_type": "stream",
     "text": [
      "1 string\n"
     ]
    }
   ],
   "source": [
    "def f(x,y):\n",
    "    print(x,y)\n",
    "f(1,\"string\")"
   ]
  },
  {
   "cell_type": "markdown",
   "id": "f2fce189",
   "metadata": {},
   "source": [
    "# Function Generators"
   ]
  },
  {
   "cell_type": "markdown",
   "id": "6bad215f",
   "metadata": {},
   "source": [
    "generators are the functions that returns the sequence of the values.\n",
    "A generator is like a ordinary function, but uses the \"yield\" keyword.\n"
   ]
  },
  {
   "cell_type": "markdown",
   "id": "91cc79f6",
   "metadata": {},
   "source": [
    "Python provides a generator to create your own iterator function. A generator is a special type of function which does not return a single value, instead, it returns an iterator object with a sequence of values. In a generator function, a yield statement is used rather than a return statement. The following is a simple generator function.\n",
    "\n"
   ]
  },
  {
   "cell_type": "code",
   "execution_count": 6,
   "id": "08ad6ac8",
   "metadata": {},
   "outputs": [
    {
     "name": "stdout",
     "output_type": "stream",
     "text": [
      "<generator object mygenerator at 0x00000289AF3A8820>\n",
      "First item\n",
      "20\n",
      "Second item\n",
      "20\n",
      "Last item\n",
      "30\n"
     ]
    },
    {
     "ename": "StopIteration",
     "evalue": "",
     "output_type": "error",
     "traceback": [
      "\u001b[1;31m---------------------------------------------------------------------------\u001b[0m",
      "\u001b[1;31mStopIteration\u001b[0m                             Traceback (most recent call last)",
      "Input \u001b[1;32mIn [6]\u001b[0m, in \u001b[0;36m<cell line: 17>\u001b[1;34m()\u001b[0m\n\u001b[0;32m     15\u001b[0m \u001b[38;5;28mprint\u001b[39m(\u001b[38;5;28mnext\u001b[39m(g))\n\u001b[0;32m     16\u001b[0m \u001b[38;5;28mprint\u001b[39m(\u001b[38;5;28mnext\u001b[39m(g))\n\u001b[1;32m---> 17\u001b[0m \u001b[38;5;28mprint\u001b[39m(\u001b[38;5;28;43mnext\u001b[39;49m\u001b[43m(\u001b[49m\u001b[43mg\u001b[49m\u001b[43m)\u001b[49m)\n",
      "\u001b[1;31mStopIteration\u001b[0m: "
     ]
    }
   ],
   "source": [
    "def mygenerator():\n",
    "    print('First item')\n",
    "    yield 10 if 10>20 else 20\n",
    "\n",
    "    print('Second item')\n",
    "    yield 20\n",
    "\n",
    "    print('Last item')\n",
    "    yield 30\n",
    "    \n",
    "g=mygenerator()\n",
    "print(g)\n",
    "\n",
    "print(next(g))\n",
    "print(next(g))\n",
    "print(next(g))\n",
    "print(next(g)) # error\n"
   ]
  },
  {
   "cell_type": "markdown",
   "id": "775e5414",
   "metadata": {},
   "source": [
    "In the above example, the mygenerator() function is a generator function. It uses yield instead of return keyword. So, this will return the value against the yield keyword each time it is called. However, you need to create an iterator for this function, as shown below.\n",
    "\n",
    "The generator function cannot include the return keyword. If you include it, then it will terminate the function. The difference between yield and return is that yield returns a value and pauses the execution while maintaining the internal states, whereas the return statement returns a value and terminates the execution of the function."
   ]
  },
  {
   "cell_type": "code",
   "execution_count": 9,
   "id": "4d00cd25",
   "metadata": {},
   "outputs": [
    {
     "name": "stdout",
     "output_type": "stream",
     "text": [
      "0\n",
      "1\n",
      "4\n",
      "9\n",
      "16\n",
      "25\n",
      "36\n",
      "49\n",
      "64\n",
      "81\n"
     ]
    },
    {
     "ename": "StopIteration",
     "evalue": "",
     "output_type": "error",
     "traceback": [
      "\u001b[1;31m---------------------------------------------------------------------------\u001b[0m",
      "\u001b[1;31mStopIteration\u001b[0m                             Traceback (most recent call last)",
      "Input \u001b[1;32mIn [9]\u001b[0m, in \u001b[0;36m<cell line: 7>\u001b[1;34m()\u001b[0m\n\u001b[0;32m      5\u001b[0m gen\u001b[38;5;241m=\u001b[39msquare_of_sequence()\n\u001b[0;32m      6\u001b[0m \u001b[38;5;28;01mwhile\u001b[39;00m \u001b[38;5;28;01mTrue\u001b[39;00m:\n\u001b[1;32m----> 7\u001b[0m     \u001b[38;5;28mprint\u001b[39m (\u001b[38;5;28;43mnext\u001b[39;49m\u001b[43m(\u001b[49m\u001b[43mgen\u001b[49m\u001b[43m)\u001b[49m)\n",
      "\u001b[1;31mStopIteration\u001b[0m: "
     ]
    }
   ],
   "source": [
    "def square_of_sequence():\n",
    "    for i in range(1000):\n",
    "        yield i**2\n",
    "        \n",
    "gen=square_of_sequence()\n",
    "while True:\n",
    "    print (next(gen))\n"
   ]
  },
  {
   "cell_type": "code",
   "execution_count": 12,
   "id": "1725b370",
   "metadata": {},
   "outputs": [
    {
     "name": "stdout",
     "output_type": "stream",
     "text": [
      "0\n",
      "1\n",
      "4\n",
      "9\n",
      "16\n",
      "25\n",
      "36\n",
      "49\n",
      "64\n",
      "81\n"
     ]
    }
   ],
   "source": [
    "# hadling the stopIteration error\n",
    "\n",
    "\n",
    "def square_of_sequence():\n",
    "    for i in range(10):\n",
    "        yield i*i\n",
    "        \n",
    "gen=square_of_sequence()\n",
    "while True:\n",
    "    try:\n",
    "        print (next(gen))\n",
    "    except StopIteration:         \n",
    "        break"
   ]
  },
  {
   "cell_type": "markdown",
   "id": "648e291d",
   "metadata": {},
   "source": [
    "Generator Expression :-\n",
    "Python also provides a generator expression, which is a shorter way of defining simple generator functions. The generator expression is an anonymous generator function. The following is a generator expression for the square of sequence function."
   ]
  },
  {
   "cell_type": "code",
   "execution_count": 14,
   "id": "6f677816",
   "metadata": {},
   "outputs": [
    {
     "data": {
      "text/plain": [
       "[1, 4, 9, 16, 25, 36, 49, 64, 81, 100]"
      ]
     },
     "execution_count": 14,
     "metadata": {},
     "output_type": "execute_result"
    }
   ],
   "source": [
    "[i*i for i in range(1,11)]"
   ]
  },
  {
   "cell_type": "code",
   "execution_count": 20,
   "id": "74e24306",
   "metadata": {},
   "outputs": [
    {
     "name": "stdout",
     "output_type": "stream",
     "text": [
      "0\n",
      "1\n",
      "4\n",
      "9\n",
      "16\n"
     ]
    },
    {
     "ename": "StopIteration",
     "evalue": "",
     "output_type": "error",
     "traceback": [
      "\u001b[1;31m---------------------------------------------------------------------------\u001b[0m",
      "\u001b[1;31mStopIteration\u001b[0m                             Traceback (most recent call last)",
      "Input \u001b[1;32mIn [20]\u001b[0m, in \u001b[0;36m<cell line: 7>\u001b[1;34m()\u001b[0m\n\u001b[0;32m      5\u001b[0m \u001b[38;5;28mprint\u001b[39m(\u001b[38;5;28mnext\u001b[39m(squres))\n\u001b[0;32m      6\u001b[0m \u001b[38;5;28mprint\u001b[39m(\u001b[38;5;28mnext\u001b[39m(squres))\n\u001b[1;32m----> 7\u001b[0m \u001b[38;5;28mprint\u001b[39m(\u001b[38;5;28;43mnext\u001b[39;49m\u001b[43m(\u001b[49m\u001b[43msqures\u001b[49m\u001b[43m)\u001b[49m)\n",
      "\u001b[1;31mStopIteration\u001b[0m: "
     ]
    }
   ],
   "source": [
    "squres = (x*x for x in range(5))\n",
    "print(next(squres))\n",
    "print(next(squres))\n",
    "print(next(squres))\n",
    "print(next(squres))\n",
    "print(next(squres))\n",
    "print(next(squres))  # ERROR\n",
    "\n"
   ]
  },
  {
   "cell_type": "code",
   "execution_count": 69,
   "id": "b558bcd6",
   "metadata": {},
   "outputs": [
    {
     "name": "stdout",
     "output_type": "stream",
     "text": [
      "1\n",
      "2\n",
      "3\n"
     ]
    }
   ],
   "source": [
    "# A generator function that yields 1 for first time,2 second time and 3 third time\n",
    "\n",
    "def simpleGeneratorFun():\n",
    "    yield 1            \n",
    "    yield 2            \n",
    "    yield 3            \n",
    "    \n",
    "# Driver code to check above generator function\n",
    "for value in simpleGeneratorFun(): \n",
    "    print(value)"
   ]
  },
  {
   "cell_type": "code",
   "execution_count": 7,
   "id": "f4f2adbf",
   "metadata": {},
   "outputs": [
    {
     "name": "stdout",
     "output_type": "stream",
     "text": [
      "1\n",
      "7\n",
      "2\n",
      "9\n",
      "by using next()\n",
      "1\n",
      "7\n",
      "1\n",
      "1\n",
      "1\n"
     ]
    }
   ],
   "source": [
    "def f():\n",
    "    yield 1\n",
    "    yield 7\n",
    "    yield 2\n",
    "    yield 9\n",
    "    \n",
    "for i in f():\n",
    "    print(i)\n",
    "    \n",
    "print(\"by using next()\")\n",
    "\n",
    "a=f()\n",
    "print(next(a))\n",
    "print(next(a))\n",
    "print(next(f()))\n",
    "print(next(f()))\n",
    "print(next(f()))"
   ]
  },
  {
   "cell_type": "code",
   "execution_count": 10,
   "id": "04a9d947",
   "metadata": {},
   "outputs": [
    {
     "name": "stdout",
     "output_type": "stream",
     "text": [
      "1\n",
      "2\n"
     ]
    }
   ],
   "source": [
    "# A Python program to demonstrate use of  generator object with next() \n",
    "  \n",
    "# A generator function\n",
    "def simpleGeneratorFun():\n",
    "    yield 1\n",
    "    yield 2\n",
    "    yield 3\n",
    "    \n",
    "# x is a generator object\n",
    "x = simpleGeneratorFun()\n",
    "\n",
    "  \n",
    "# Iterating over the generator object using next\n",
    "print(next(x)) \n",
    "print(next(x))"
   ]
  },
  {
   "cell_type": "code",
   "execution_count": 22,
   "id": "25ee0465",
   "metadata": {},
   "outputs": [
    {
     "name": "stdout",
     "output_type": "stream",
     "text": [
      "2 3 4 5 6 7 8 "
     ]
    }
   ],
   "source": [
    "def mygen(n,m):    # genator name is mygen\n",
    "    while(n<=m):\n",
    "        yield n   #  returning the n value\n",
    "        n+=1      #increasing the n value\n",
    "g=mygen(2,8)      # fill the generator object with 2 and  8\n",
    "\n",
    "#print(list(g))\n",
    "\n",
    "for i in g:\n",
    "     print(i,end=\" \")\n"
   ]
  },
  {
   "cell_type": "code",
   "execution_count": 4,
   "id": "397fc7f9",
   "metadata": {},
   "outputs": [
    {
     "name": "stdout",
     "output_type": "stream",
     "text": [
      "1\n",
      "1\n"
     ]
    },
    {
     "ename": "NameError",
     "evalue": "name 'g' is not defined",
     "output_type": "error",
     "traceback": [
      "\u001b[1;31m---------------------------------------------------------------------------\u001b[0m",
      "\u001b[1;31mNameError\u001b[0m                                 Traceback (most recent call last)",
      "Input \u001b[1;32mIn [4]\u001b[0m, in \u001b[0;36m<cell line: 9>\u001b[1;34m()\u001b[0m\n\u001b[0;32m      7\u001b[0m \u001b[38;5;28mprint\u001b[39m(\u001b[38;5;28mnext\u001b[39m(mygen()))\n\u001b[0;32m      8\u001b[0m \u001b[38;5;28mprint\u001b[39m(\u001b[38;5;28mnext\u001b[39m(mygen()))\n\u001b[1;32m----> 9\u001b[0m \u001b[38;5;28mprint\u001b[39m(\u001b[38;5;28mnext\u001b[39m(\u001b[43mg\u001b[49m))\n",
      "\u001b[1;31mNameError\u001b[0m: name 'g' is not defined"
     ]
    }
   ],
   "source": [
    "def mygen():\n",
    "    yield 1\n",
    "    yield 2\n",
    "    yield 3\n",
    "    \n",
    "#g=mygen()\n",
    "print(next(mygen()))\n",
    "print(next(mygen()))\n",
    "print(next(g))\n",
    "#print(next(g))  #error\n"
   ]
  },
  {
   "cell_type": "code",
   "execution_count": 19,
   "id": "1a2b168f",
   "metadata": {},
   "outputs": [
    {
     "name": "stdout",
     "output_type": "stream",
     "text": [
      "1\n",
      "2\n",
      "3\n"
     ]
    }
   ],
   "source": [
    "def f():\n",
    "    yield 1\n",
    "    yield 2\n",
    "    yield 3\n",
    "for i in f():\n",
    "    print(i)\n",
    "    "
   ]
  },
  {
   "cell_type": "code",
   "execution_count": 8,
   "id": "066efa3e",
   "metadata": {},
   "outputs": [
    {
     "name": "stdout",
     "output_type": "stream",
     "text": [
      "10\n",
      "20\n",
      "30\n",
      "1\n",
      "2\n"
     ]
    }
   ],
   "source": [
    "def function(x,y,z):\n",
    "    yield x\n",
    "    yield y\n",
    "    yield z\n",
    "\n",
    "for i in function(10,20,30):\n",
    "    print(i)\n",
    "f=function(1,2,3)\n",
    "print(next(f))\n",
    "print(next(f))"
   ]
  },
  {
   "cell_type": "code",
   "execution_count": 9,
   "id": "f7054096",
   "metadata": {},
   "outputs": [
    {
     "name": "stdout",
     "output_type": "stream",
     "text": [
      "12\n",
      "23\n",
      "12\n",
      "23\n"
     ]
    },
    {
     "ename": "StopIteration",
     "evalue": "",
     "output_type": "error",
     "traceback": [
      "\u001b[1;31m---------------------------------------------------------------------------\u001b[0m",
      "\u001b[1;31mStopIteration\u001b[0m                             Traceback (most recent call last)",
      "\u001b[1;32mC:\\Users\\SHAILA~1\\AppData\\Local\\Temp/ipykernel_6720/249095301.py\u001b[0m in \u001b[0;36m<module>\u001b[1;34m\u001b[0m\n\u001b[0;32m      9\u001b[0m \u001b[0mprint\u001b[0m\u001b[1;33m(\u001b[0m\u001b[0mnext\u001b[0m\u001b[1;33m(\u001b[0m\u001b[0mf\u001b[0m\u001b[1;33m)\u001b[0m\u001b[1;33m)\u001b[0m\u001b[1;33m\u001b[0m\u001b[1;33m\u001b[0m\u001b[0m\n\u001b[0;32m     10\u001b[0m \u001b[0mprint\u001b[0m\u001b[1;33m(\u001b[0m\u001b[0mnext\u001b[0m\u001b[1;33m(\u001b[0m\u001b[0mf\u001b[0m\u001b[1;33m)\u001b[0m\u001b[1;33m)\u001b[0m\u001b[1;33m\u001b[0m\u001b[1;33m\u001b[0m\u001b[0m\n\u001b[1;32m---> 11\u001b[1;33m \u001b[0mprint\u001b[0m\u001b[1;33m(\u001b[0m\u001b[0mnext\u001b[0m\u001b[1;33m(\u001b[0m\u001b[0mf\u001b[0m\u001b[1;33m)\u001b[0m\u001b[1;33m)\u001b[0m\u001b[1;33m\u001b[0m\u001b[1;33m\u001b[0m\u001b[0m\n\u001b[0m",
      "\u001b[1;31mStopIteration\u001b[0m: "
     ]
    }
   ],
   "source": [
    "def f():\n",
    "    yield 12\n",
    "    yield 23\n",
    "    \n",
    "for i in f():\n",
    "    print(i)\n",
    "    \n",
    "f=f()\n",
    "print(next(f))\n",
    "print(next(f))\n",
    "print(next(f)) # error"
   ]
  },
  {
   "cell_type": "markdown",
   "id": "315500f9",
   "metadata": {},
   "source": [
    "# Generator Expressions\n"
   ]
  },
  {
   "cell_type": "code",
   "execution_count": 5,
   "id": "785d4980",
   "metadata": {},
   "outputs": [
    {
     "name": "stdout",
     "output_type": "stream",
     "text": [
      "[1, 9, 36, 100]\n",
      "<generator object <genexpr> at 0x0000002BD71D0660>\n",
      "1\n",
      "9\n",
      "36\n",
      "100\n"
     ]
    }
   ],
   "source": [
    "# Initialize the list\n",
    "my_list = [1, 3, 6, 10]\n",
    "\n",
    "# square each term using list comprehension\n",
    "list_ = [x**2 for x in my_list]\n",
    "\n",
    "# same thing can be done using a generator expression\n",
    "# generator expressions are surrounded by parenthesis ()\n",
    "generator = (x**2 for x in my_list)\n",
    "\n",
    "print(list_)\n",
    "print(generator)\n",
    "print(next(generator))\n",
    "print(next(generator))\n",
    "print(next(generator))\n",
    "print(next(generator))"
   ]
  },
  {
   "cell_type": "code",
   "execution_count": 23,
   "id": "ed7e1883",
   "metadata": {},
   "outputs": [
    {
     "name": "stdout",
     "output_type": "stream",
     "text": [
      "0\n",
      "1\n",
      "2\n",
      "3\n",
      "4\n",
      "5\n",
      "6\n",
      "7\n",
      "8\n",
      "9\n"
     ]
    }
   ],
   "source": [
    "l=[1,2,3,4,5]\n",
    "\n",
    "for i in range(10):\n",
    "    print(i)"
   ]
  },
  {
   "cell_type": "code",
   "execution_count": 14,
   "id": "a163c07a",
   "metadata": {},
   "outputs": [
    {
     "name": "stdout",
     "output_type": "stream",
     "text": [
      "Hello\n"
     ]
    }
   ],
   "source": [
    "def f():\n",
    "    print(\"Hello\")\n",
    "    \n",
    "f()"
   ]
  },
  {
   "cell_type": "markdown",
   "id": "b1e46dbf",
   "metadata": {},
   "source": [
    "# Function Decorators"
   ]
  },
  {
   "cell_type": "markdown",
   "id": "f6079c61",
   "metadata": {},
   "source": [
    "    Decorators are a very powerful and useful tool in Python since it allows programmers to modify the behaviour of a function or class. Decorators allow us to wrap another function in order to extend the behaviour of the wrapped function, without permanently modifying it. But before diving deep into decorators let us understand some concepts that will come in handy in learning the decorators."
   ]
  },
  {
   "cell_type": "markdown",
   "id": "a512504c",
   "metadata": {},
   "source": [
    "    1) A decoratore is a function that takes the function as a parameter and it returns a function.\n",
    "    2) A decorator takes the result of the function , modify it and return it."
   ]
  },
  {
   "cell_type": "code",
   "execution_count": 15,
   "id": "de93d505",
   "metadata": {},
   "outputs": [
    {
     "data": {
      "text/plain": [
       "12"
      ]
     },
     "execution_count": 15,
     "metadata": {},
     "output_type": "execute_result"
    }
   ],
   "source": [
    "def decor(f):     # This is the decorator function\n",
    "    def inner():  # this is the inner function that modifies\n",
    "        value=f()\n",
    "        return value+2\n",
    "    return inner  # return the inner function\n",
    "\n",
    "def num():\n",
    "    return 10\n",
    "\n",
    "x= decor(num)\n",
    "x()"
   ]
  },
  {
   "cell_type": "code",
   "execution_count": 21,
   "id": "4369a3ab",
   "metadata": {},
   "outputs": [
    {
     "name": "stdout",
     "output_type": "stream",
     "text": [
      "20\n"
     ]
    }
   ],
   "source": [
    "# A decorator that increaments the value of the function by 2\n",
    "def decor(f):     # This is the decorator function\n",
    "    def inner():  # this is the inner function that modifies\n",
    "        value=f()\n",
    "        return value*2\n",
    "    return inner  # return the inner function\n",
    "\n",
    "# Take a function to which decorators should be applied\n",
    "\n",
    "@decor\n",
    "def num(): # Apply decor to the below function\n",
    "    return 10\n",
    "\n",
    "#call num() function and display its result\n",
    "print(num())"
   ]
  },
  {
   "cell_type": "code",
   "execution_count": 19,
   "id": "51471b65",
   "metadata": {},
   "outputs": [
    {
     "name": "stdout",
     "output_type": "stream",
     "text": [
      "18\n"
     ]
    }
   ],
   "source": [
    "# A decorator that increaments the value of the function by 2\n",
    "def decor(f):     # This is the decorator function\n",
    "    def inner():  # this is the inner function that modifies\n",
    "        value=f()\n",
    "        return value+2\n",
    "    return inner  # return the inner function\n",
    "\n",
    "# Take a function to which decorators should be applied\n",
    "\n",
    "\n",
    "@decor\n",
    "@decor\n",
    "@decor\n",
    "@decor\n",
    "def num(): # Apply decor to the below function\n",
    "    return 10\n",
    "\n",
    "#call num() function and display its result\n",
    "print(num())"
   ]
  },
  {
   "cell_type": "code",
   "execution_count": 22,
   "id": "91bf94dc",
   "metadata": {},
   "outputs": [
    {
     "name": "stdout",
     "output_type": "stream",
     "text": [
      "32\n"
     ]
    }
   ],
   "source": [
    "# A decorator that increaments the value of the function by 2\n",
    "def decor(f):     # This is the decorator function\n",
    "    def inner():  # this is the inner function that modifies\n",
    "        value=f()\n",
    "        return value+2\n",
    "    return inner  # return the inner function\n",
    "\n",
    "def decor1(f):     # This is the decorator function\n",
    "    def inner():  # this is the inner function that modifies\n",
    "        value=f()\n",
    "        return value*3\n",
    "    return inner  # return the inner function\n",
    "\n",
    "\n",
    "# Take a function to which decorators should be applied\n",
    "@decor   \n",
    "@decor1\n",
    "def num():\n",
    "    return 10\n",
    "\n",
    "print(num())"
   ]
  }
 ],
 "metadata": {
  "kernelspec": {
   "display_name": "Python 3 (ipykernel)",
   "language": "python",
   "name": "python3"
  },
  "language_info": {
   "codemirror_mode": {
    "name": "ipython",
    "version": 3
   },
   "file_extension": ".py",
   "mimetype": "text/x-python",
   "name": "python",
   "nbconvert_exporter": "python",
   "pygments_lexer": "ipython3",
   "version": "3.9.13"
  }
 },
 "nbformat": 4,
 "nbformat_minor": 5
}
