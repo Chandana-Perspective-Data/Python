{
 "cells": [
  {
   "cell_type": "markdown",
   "id": "cf4eefe3",
   "metadata": {},
   "source": [
    "# inputs()"
   ]
  },
  {
   "cell_type": "markdown",
   "id": "7df6e33e",
   "metadata": {},
   "source": [
    "input() function is used to take input from user.\n",
    "\n",
    "input function always returns a value of string type."
   ]
  },
  {
   "cell_type": "markdown",
   "id": "6c040d28",
   "metadata": {},
   "source": [
    "# print()\n",
    "\n",
    "print()function is used to display a string on the console(your screen)"
   ]
  },
  {
   "cell_type": "code",
   "execution_count": 1,
   "id": "f51d0e37",
   "metadata": {},
   "outputs": [
    {
     "name": "stdout",
     "output_type": "stream",
     "text": [
      "enter your name :python\n"
     ]
    },
    {
     "data": {
      "text/plain": [
       "'python'"
      ]
     },
     "execution_count": 1,
     "metadata": {},
     "output_type": "execute_result"
    }
   ],
   "source": [
    "input(\"enter your name :\")"
   ]
  },
  {
   "cell_type": "code",
   "execution_count": 1,
   "id": "09579645",
   "metadata": {},
   "outputs": [
    {
     "name": "stdout",
     "output_type": "stream",
     "text": [
      "enter your name :chandana\n",
      "chandana\n",
      "<class 'str'>\n"
     ]
    }
   ],
   "source": [
    "x=input(\"enter your name :\")\n",
    "print(x)\n",
    "print(type(x))"
   ]
  },
  {
   "cell_type": "code",
   "execution_count": 3,
   "id": "3102f56e",
   "metadata": {},
   "outputs": [
    {
     "name": "stdout",
     "output_type": "stream",
     "text": [
      "enter your name1 :chan\n",
      "enter your name2 :dana\n",
      "chandana\n"
     ]
    }
   ],
   "source": [
    "x=input(\"enter your name1 :\")\n",
    "y=input(\"enter your name2 :\")\n",
    "print(x+y)"
   ]
  },
  {
   "cell_type": "code",
   "execution_count": 4,
   "id": "981aeea9",
   "metadata": {
    "scrolled": true
   },
   "outputs": [
    {
     "name": "stdout",
     "output_type": "stream",
     "text": [
      "enter your value1 :1\n",
      "enter your value2 :2\n",
      "12\n"
     ]
    }
   ],
   "source": [
    "x=input(\"enter your value1 :\")\n",
    "y=input(\"enter your value2 :\")\n",
    "print(x+y)"
   ]
  },
  {
   "cell_type": "code",
   "execution_count": 6,
   "id": "b0db38ca",
   "metadata": {},
   "outputs": [
    {
     "name": "stdout",
     "output_type": "stream",
     "text": [
      "enter your value1 :2\n",
      "enter your value2 :3\n",
      "5\n"
     ]
    }
   ],
   "source": [
    "x=int(input(\"enter your value1 :\"))\n",
    "y=int(input(\"enter your value2 :\"))\n",
    "print(x+y)"
   ]
  },
  {
   "cell_type": "code",
   "execution_count": 7,
   "id": "96722a82",
   "metadata": {},
   "outputs": [
    {
     "name": "stdout",
     "output_type": "stream",
     "text": [
      "enter your value1 :5\n",
      "enter your value2 :5\n",
      "10\n"
     ]
    }
   ],
   "source": [
    "x=input(\"enter your value1 :\")\n",
    "a=int(x)\n",
    "y=input(\"enter your value2 :\")\n",
    "b=int(y)\n",
    "print(a+b)"
   ]
  },
  {
   "cell_type": "code",
   "execution_count": 7,
   "id": "21ce1686",
   "metadata": {},
   "outputs": [
    {
     "name": "stdout",
     "output_type": "stream",
     "text": [
      "enter your value1 :12\n",
      "enter your value2 :12\n",
      "24\n"
     ]
    }
   ],
   "source": [
    "x=int(input(\"enter your value1 :\"))\n",
    "y=int(input(\"enter your value2 :\"))\n",
    "print(x+y)"
   ]
  },
  {
   "cell_type": "code",
   "execution_count": 12,
   "id": "c3069ec8",
   "metadata": {},
   "outputs": [
    {
     "name": "stdout",
     "output_type": "stream",
     "text": [
      "e\n"
     ]
    }
   ],
   "source": [
    "# what is correct syntax to output hello in python\n",
    "a=\"welcome\"\n",
    "print(a[1])"
   ]
  }
 ],
 "metadata": {
  "kernelspec": {
   "display_name": "Python 3 (ipykernel)",
   "language": "python",
   "name": "python3"
  },
  "language_info": {
   "codemirror_mode": {
    "name": "ipython",
    "version": 3
   },
   "file_extension": ".py",
   "mimetype": "text/x-python",
   "name": "python",
   "nbconvert_exporter": "python",
   "pygments_lexer": "ipython3",
   "version": "3.9.13"
  }
 },
 "nbformat": 4,
 "nbformat_minor": 5
}
