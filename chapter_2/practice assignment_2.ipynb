{
 "cells": [
  {
   "cell_type": "markdown",
   "id": "db924b3e",
   "metadata": {},
   "source": [
    "#  Data Types"
   ]
  },
  {
   "cell_type": "markdown",
   "id": "3ee7c732",
   "metadata": {},
   "source": [
    "### 1.Python Program to Calculate the Area of a Triangle area=0.5*b*h, b=base , h=height, take the inputs from user."
   ]
  },
  {
   "cell_type": "code",
   "execution_count": 1,
   "id": "275f52c5",
   "metadata": {},
   "outputs": [
    {
     "name": "stdout",
     "output_type": "stream",
     "text": [
      "Enter the base of the triangle: 12\n",
      "Enter the height of the triangle: 18\n",
      "The area of the triangle is 108.0\n"
     ]
    }
   ],
   "source": [
    "b = float(input(\"Enter the base of the triangle: \"))\n",
    "h = float(input(\"Enter the height of the triangle: \"))\n",
    "area = 0.5 * b * h\n",
    "print(\"The area of the triangle is\", area)\n"
   ]
  },
  {
   "cell_type": "markdown",
   "id": "ead84854",
   "metadata": {},
   "source": [
    "### 2.Python Program to Generate a Random Number\n",
    "\n",
    "Here is an example of a Python program that generates a random number between 0 and 1 using the random module:"
   ]
  },
  {
   "cell_type": "code",
   "execution_count": 3,
   "id": "3b222b22",
   "metadata": {},
   "outputs": [
    {
     "name": "stdout",
     "output_type": "stream",
     "text": [
      "0.36306457272870085\n"
     ]
    }
   ],
   "source": [
    "import random\n",
    "\n",
    "print(random.random())\n"
   ]
  },
  {
   "cell_type": "markdown",
   "id": "70431187",
   "metadata": {},
   "source": [
    "If you want to generate random number within a range, you can use the random.randint(a, b) function. It will return a random integer N such that a <= N <= b . Here is an example:"
   ]
  },
  {
   "cell_type": "code",
   "execution_count": 5,
   "id": "48a977c5",
   "metadata": {},
   "outputs": [
    {
     "name": "stdout",
     "output_type": "stream",
     "text": [
      "5\n"
     ]
    }
   ],
   "source": [
    "import random\n",
    "\n",
    "# Generates a random number between 1 and 6\n",
    "print(random.randint(1, 6))\n"
   ]
  },
  {
   "cell_type": "markdown",
   "id": "94515c37",
   "metadata": {},
   "source": [
    "You can also use randrange method, it work similar as randint but the difference is randrange takes only one argument, end of range.\n",
    "\n"
   ]
  },
  {
   "cell_type": "code",
   "execution_count": 7,
   "id": "3d91826c",
   "metadata": {},
   "outputs": [
    {
     "name": "stdout",
     "output_type": "stream",
     "text": [
      "4\n"
     ]
    }
   ],
   "source": [
    "import random\n",
    "\n",
    "# Generates a random number between 0 and 9\n",
    "print(random.randrange(10))\n"
   ]
  },
  {
   "cell_type": "markdown",
   "id": "31423032",
   "metadata": {},
   "source": [
    "### 3.Write a python program to calculate the length of a string =”The art of crafting a single sentence brings together subjects, verbs, and objects with cohesion.”"
   ]
  },
  {
   "cell_type": "code",
   "execution_count": 9,
   "id": "a5130803",
   "metadata": {},
   "outputs": [
    {
     "name": "stdout",
     "output_type": "stream",
     "text": [
      "The length of the string is: 97\n"
     ]
    },
    {
     "data": {
      "text/plain": [
       "'\\nThis program assigns the given string to a variable called string, then uses the len() function to calculate the length of the string and assigns it to a variable called length. Finally,\\nit prints the length of the string using the print() function.\\n'"
      ]
     },
     "execution_count": 9,
     "metadata": {},
     "output_type": "execute_result"
    }
   ],
   "source": [
    "string = \"The art of crafting a single sentence brings together subjects, verbs, and objects with cohesion.\"\n",
    "length = len(string)\n",
    "print(\"The length of the string is:\", length)\n",
    "\"\"\"\n",
    "This program assigns the given string to a variable called string, then uses the len() function to calculate the length of the string and assigns it to a variable called length. Finally,\n",
    "it prints the length of the string using the print() function.\n",
    "\"\"\""
   ]
  },
  {
   "cell_type": "code",
   "execution_count": 10,
   "id": "d15b900d",
   "metadata": {},
   "outputs": [
    {
     "name": "stdout",
     "output_type": "stream",
     "text": [
      "The length of the string is: 97\n"
     ]
    }
   ],
   "source": [
    "# You can also use other ways like for loop to \n",
    "# traverse through each character and increase the counter.\n",
    "string = \"The art of crafting a single sentence brings together subjects, verbs, and objects with cohesion.\"\n",
    "count = 0\n",
    "for i in string:\n",
    "    count += 1\n",
    "print(\"The length of the string is:\", count)\n"
   ]
  },
  {
   "cell_type": "markdown",
   "id": "cc5234f8",
   "metadata": {},
   "source": [
    "### 4.Print “are you” from the string my_string = ”Hello Ram Where are you going”"
   ]
  },
  {
   "cell_type": "code",
   "execution_count": 14,
   "id": "5831f18d",
   "metadata": {},
   "outputs": [
    {
     "name": "stdout",
     "output_type": "stream",
     "text": [
      "are you\n"
     ]
    }
   ],
   "source": [
    "my_string = \"Hello Ram Where are you going\"\n",
    "print(my_string[16:23])\n"
   ]
  },
  {
   "cell_type": "code",
   "execution_count": 15,
   "id": "65f7ddaa",
   "metadata": {},
   "outputs": [
    {
     "name": "stdout",
     "output_type": "stream",
     "text": [
      "are you\n"
     ]
    }
   ],
   "source": [
    "start = my_string.find(\"are you\")\n",
    "end = start + len(\"are you\")\n",
    "print(my_string[start:end])\n"
   ]
  },
  {
   "cell_type": "markdown",
   "id": "a6246ed3",
   "metadata": {},
   "source": [
    "### 5.Separate all lower case letters, upper case letters ,special characters & numbers from given string my_string=”ASdfesD@#HBDHB&^GUV%^*H45fdvnhw74w5e54uuU”\n",
    "\n",
    "\n",
    "Print the given string by the order of given below.\n",
    "\n",
    "1. Uppercases\n",
    "\n",
    "2. Lowercases\n",
    "\n",
    "3. Special Characters\n",
    "\n",
    "4. Numbers"
   ]
  },
  {
   "cell_type": "code",
   "execution_count": 16,
   "id": "9b55cc62",
   "metadata": {},
   "outputs": [
    {
     "name": "stdout",
     "output_type": "stream",
     "text": [
      "Uppercase letters: ASDHBDHBGUVHU\n",
      "Lowercase letters: dfesfdvnhwweuu\n",
      "Special Characters: @#&^%^*\n",
      "Numbers: 4574554\n"
     ]
    }
   ],
   "source": [
    "my_string = \"ASdfesD@#HBDHB&^GUV%^*H45fdvnhw74w5e54uuU\"\n",
    "uppercase_letters = \"\"\n",
    "lowercase_letters = \"\"\n",
    "special_characters = \"\"\n",
    "numbers = \"\"\n",
    "for char in my_string:\n",
    "    if char.isupper():\n",
    "        uppercase_letters += char\n",
    "    elif char.islower():\n",
    "        lowercase_letters += char\n",
    "    elif char.isnumeric():\n",
    "        numbers += char\n",
    "    else:\n",
    "        special_characters += char\n",
    "print(\"Uppercase letters:\", uppercase_letters)\n",
    "print(\"Lowercase letters:\", lowercase_letters)\n",
    "print(\"Special Characters:\", special_characters)\n",
    "print(\"Numbers:\", numbers)\n"
   ]
  },
  {
   "cell_type": "markdown",
   "id": "371bae03",
   "metadata": {},
   "source": [
    "# Data Structures"
   ]
  },
  {
   "cell_type": "markdown",
   "id": "7538c61b",
   "metadata": {},
   "source": [
    "### 1..Write a Python script to concatenate following dictionaries to create a new one. \n",
    "\n",
    "Sample Dictionary : dic1={1:10, 2:20} dic2={3:30, 4:40} dic3={5:50,6:60}\n",
    "\n"
   ]
  },
  {
   "cell_type": "markdown",
   "id": "70113908",
   "metadata": {},
   "source": [
    "To concatenate the dictionaries dic1, dic2, and dic3, you can use the update() method or the unpacking operator (**) to add the key-value pairs from one dictionary to another. Here is an example of how to concatenate the dictionaries using the update() method:\n",
    "\n"
   ]
  },
  {
   "cell_type": "code",
   "execution_count": 17,
   "id": "5c67f85a",
   "metadata": {},
   "outputs": [
    {
     "name": "stdout",
     "output_type": "stream",
     "text": [
      "{1: 10, 2: 20, 3: 30, 4: 40, 5: 50, 6: 60}\n"
     ]
    }
   ],
   "source": [
    "dic1={1:10, 2:20} \n",
    "dic2={3:30, 4:40} \n",
    "dic3={5:50,6:60}\n",
    "\n",
    "new_dic = {}\n",
    "new_dic.update(dic1)\n",
    "new_dic.update(dic2)\n",
    "new_dic.update(dic3)\n",
    "print(new_dic)\n"
   ]
  },
  {
   "cell_type": "markdown",
   "id": "05a4ee5f",
   "metadata": {},
   "source": [
    "### 2..Given a Python list. Turn every item of a list into its square aList = [1, 2, 3, 4, 5, 6, 7]\n"
   ]
  },
  {
   "cell_type": "markdown",
   "id": "bd72ae53",
   "metadata": {},
   "source": [
    "You can use a for loop and the list comprehension to square every item of a list in python. Here is an example:"
   ]
  },
  {
   "cell_type": "code",
   "execution_count": 18,
   "id": "f8971451",
   "metadata": {},
   "outputs": [
    {
     "name": "stdout",
     "output_type": "stream",
     "text": [
      "[1, 4, 9, 16, 25, 36, 49]\n"
     ]
    }
   ],
   "source": [
    "aList = [1, 2, 3, 4, 5, 6, 7]\n",
    "new_list = [i**2 for i in aList]\n",
    "print(new_list)\n"
   ]
  },
  {
   "cell_type": "markdown",
   "id": "6d7d01a7",
   "metadata": {},
   "source": [
    "Another way to do this is by using the map() function which applies a given function to all the items in an input_list and returns a map object which can be converted into a list."
   ]
  },
  {
   "cell_type": "code",
   "execution_count": 19,
   "id": "1f9dbbce",
   "metadata": {},
   "outputs": [
    {
     "name": "stdout",
     "output_type": "stream",
     "text": [
      "[1, 4, 9, 16, 25, 36, 49]\n"
     ]
    }
   ],
   "source": [
    "new_list = list(map(lambda x: x**2, aList))\n",
    "print(new_list)\n"
   ]
  },
  {
   "cell_type": "code",
   "execution_count": 20,
   "id": "795ed9bb",
   "metadata": {},
   "outputs": [
    {
     "name": "stdout",
     "output_type": "stream",
     "text": [
      "[1, 4, 9, 16, 25, 36, 49]\n"
     ]
    }
   ],
   "source": [
    "# You can also use a for loop to square every item of the list:\n",
    "for i in range(len(aList)):\n",
    "    aList[i] = aList[i]**2\n",
    "print(aList)\n"
   ]
  },
  {
   "cell_type": "markdown",
   "id": "e636bf5c",
   "metadata": {},
   "source": [
    "### 3..Remove empty strings from the list of strings:\n",
    "\n",
    "list1 = [\"Mike\", \"\", \"Emma\", \"Kelly\", \"\", \"Brad\"]"
   ]
  },
  {
   "cell_type": "markdown",
   "id": "70e9c493",
   "metadata": {},
   "source": [
    "You can use a list comprehension to remove empty strings from the list of strings. Here is an example:\n"
   ]
  },
  {
   "cell_type": "code",
   "execution_count": 21,
   "id": "a5bf574a",
   "metadata": {},
   "outputs": [
    {
     "name": "stdout",
     "output_type": "stream",
     "text": [
      "['Mike', 'Emma', 'Kelly', 'Brad']\n"
     ]
    }
   ],
   "source": [
    "list1 = [\"Mike\", \"\", \"Emma\", \"Kelly\", \"\", \"Brad\"]\n",
    "list1 = [i for i in list1 if i]\n",
    "print(list1)\n"
   ]
  },
  {
   "cell_type": "markdown",
   "id": "fe23aba7",
   "metadata": {},
   "source": [
    "Another way to do this is by using filter() function which filters out elements from the list for which the given function returns False.\n",
    "\n"
   ]
  },
  {
   "cell_type": "code",
   "execution_count": 22,
   "id": "bea3034a",
   "metadata": {},
   "outputs": [
    {
     "name": "stdout",
     "output_type": "stream",
     "text": [
      "['Mike', 'Emma', 'Kelly', 'Brad']\n"
     ]
    }
   ],
   "source": [
    "list1 = list(filter(lambda x: x!='', list1))\n",
    "print(list1)\n"
   ]
  },
  {
   "cell_type": "code",
   "execution_count": 23,
   "id": "facdf910",
   "metadata": {},
   "outputs": [
    {
     "name": "stdout",
     "output_type": "stream",
     "text": [
      "['Mike', 'Emma', 'Kelly', 'Brad']\n"
     ]
    }
   ],
   "source": [
    "# You can also use a for loop to remove empty strings from the list:\n",
    "for i in list1:\n",
    "    if i=='':\n",
    "        list1.remove(i)\n",
    "print(list1)\n"
   ]
  },
  {
   "cell_type": "markdown",
   "id": "a4ea56c6",
   "metadata": {},
   "source": [
    "### 4..Access value 20 from the following tuple\n",
    "\n",
    "aTuple = (\"Orange\", [10, 20, 30], (5, 15, 25))\n"
   ]
  },
  {
   "cell_type": "markdown",
   "id": "343395f0",
   "metadata": {},
   "source": [
    "You can access the value 20 from the tuple aTuple by using the indexing operator [] and the nested indexing. Since the value 20 is inside a list which is the second element of the tuple, you can use the index 1 to access the list and the index 1 again to access the value 20 from the list. Here is an example"
   ]
  },
  {
   "cell_type": "code",
   "execution_count": 24,
   "id": "9efe787f",
   "metadata": {},
   "outputs": [
    {
     "name": "stdout",
     "output_type": "stream",
     "text": [
      "20\n"
     ]
    }
   ],
   "source": [
    "aTuple = (\"Orange\", [10, 20, 30], (5, 15, 25))\n",
    "value = aTuple[1][1]\n",
    "print(value)\n"
   ]
  },
  {
   "cell_type": "markdown",
   "id": "6a6d5c62",
   "metadata": {},
   "source": [
    "### 5..Given two Python sets, update first set with items that exist only in the first set and not in the second set.\n",
    "\n",
    "set1 = {10, 20, 30}\n",
    "set2 = {20, 40, 50}"
   ]
  },
  {
   "cell_type": "markdown",
   "id": "9ef1ebad",
   "metadata": {},
   "source": [
    "You can use the difference() method or the - operator to update the first set with items that exist only in the first set and not in the second set. Here is an example:"
   ]
  },
  {
   "cell_type": "code",
   "execution_count": 25,
   "id": "1a969986",
   "metadata": {},
   "outputs": [
    {
     "name": "stdout",
     "output_type": "stream",
     "text": [
      "{10, 30}\n"
     ]
    }
   ],
   "source": [
    "set1 = {10, 20, 30}\n",
    "set2 = {20, 40, 50}\n",
    "set1 = set1 - set2\n",
    "print(set1)\n"
   ]
  },
  {
   "cell_type": "markdown",
   "id": "2a09e101",
   "metadata": {},
   "source": [
    "Another way to do this is by using the difference_update() method, which removes all elements of another set from this set."
   ]
  },
  {
   "cell_type": "code",
   "execution_count": 26,
   "id": "50c4f81c",
   "metadata": {},
   "outputs": [
    {
     "name": "stdout",
     "output_type": "stream",
     "text": [
      "{10, 30}\n"
     ]
    }
   ],
   "source": [
    "set1 = {10, 20, 30}\n",
    "set2 = {20, 40, 50}\n",
    "set1.difference_update(set2)\n",
    "print(set1)\n"
   ]
  },
  {
   "cell_type": "markdown",
   "id": "a7048053",
   "metadata": {},
   "source": [
    "You can also use the symmetric_difference() method or the ^ operator which returns a set with all items from both sets, but not the items present in both sets.\n",
    "\n"
   ]
  },
  {
   "cell_type": "code",
   "execution_count": 27,
   "id": "c4d2b4d9",
   "metadata": {},
   "outputs": [
    {
     "name": "stdout",
     "output_type": "stream",
     "text": [
      "{40, 10, 50, 30}\n"
     ]
    }
   ],
   "source": [
    "set1 = {10, 20, 30}\n",
    "set2 = {20, 40, 50}\n",
    "set1 = set1 ^ set2\n",
    "print(set1)\n"
   ]
  },
  {
   "cell_type": "code",
   "execution_count": null,
   "id": "5f996e11",
   "metadata": {},
   "outputs": [],
   "source": []
  }
 ],
 "metadata": {
  "kernelspec": {
   "display_name": "Python 3 (ipykernel)",
   "language": "python",
   "name": "python3"
  },
  "language_info": {
   "codemirror_mode": {
    "name": "ipython",
    "version": 3
   },
   "file_extension": ".py",
   "mimetype": "text/x-python",
   "name": "python",
   "nbconvert_exporter": "python",
   "pygments_lexer": "ipython3",
   "version": "3.9.13"
  }
 },
 "nbformat": 4,
 "nbformat_minor": 5
}
