{
 "cells": [
  {
   "cell_type": "markdown",
   "id": "1f50ba8c",
   "metadata": {},
   "source": [
    "# Python Dictionaries(mutable)"
   ]
  },
  {
   "cell_type": "markdown",
   "id": "194531fd",
   "metadata": {},
   "source": [
    "Dictionary\n",
    "\n",
    "Dictionaries are used to store data values in key:value pairs.\n",
    "\n",
    "A dictionary is a collection which is ordered*, changeable and do not allow duplicates."
   ]
  },
  {
   "cell_type": "markdown",
   "id": "12bbedc5",
   "metadata": {},
   "source": [
    "Dictionaries are written with curly brackets, and have keys and values:"
   ]
  },
  {
   "cell_type": "code",
   "execution_count": 2,
   "id": "e09f2edb",
   "metadata": {
    "scrolled": true
   },
   "outputs": [
    {
     "name": "stdout",
     "output_type": "stream",
     "text": [
      "{'Name': 'chandana', 'age': 1, 'year': 2022}\n"
     ]
    }
   ],
   "source": [
    "# Create and print a dictionary\n",
    "thisdict = {\n",
    " \"Name\":\"chandana\",\n",
    "    \"age\":1,\n",
    "    \"year\":2022,\n",
    "   \n",
    "}\n",
    "print(thisdict)"
   ]
  },
  {
   "cell_type": "code",
   "execution_count": 14,
   "id": "45fffc6b",
   "metadata": {
    "scrolled": true
   },
   "outputs": [
    {
     "ename": "NameError",
     "evalue": "name 'name2' is not defined",
     "output_type": "error",
     "traceback": [
      "\u001b[1;31m---------------------------------------------------------------------------\u001b[0m",
      "\u001b[1;31mNameError\u001b[0m                                 Traceback (most recent call last)",
      "\u001b[1;32m~\\AppData\\Local\\Temp\\ipykernel_20616\\2705145757.py\u001b[0m in \u001b[0;36m<module>\u001b[1;34m\u001b[0m\n\u001b[1;32m----> 1\u001b[1;33m \u001b[0mdict\u001b[0m\u001b[1;33m=\u001b[0m\u001b[1;33m{\u001b[0m\u001b[0mname2\u001b[0m\u001b[1;33m:\u001b[0m\u001b[1;34m'puja'\u001b[0m\u001b[1;33m}\u001b[0m\u001b[1;33m\u001b[0m\u001b[1;33m\u001b[0m\u001b[0m\n\u001b[0m\u001b[0;32m      2\u001b[0m \u001b[0mprint\u001b[0m\u001b[1;33m(\u001b[0m\u001b[0mdict\u001b[0m\u001b[1;33m)\u001b[0m\u001b[1;33m\u001b[0m\u001b[1;33m\u001b[0m\u001b[0m\n",
      "\u001b[1;31mNameError\u001b[0m: name 'name2' is not defined"
     ]
    }
   ],
   "source": [
    "dict={name2:'puja'}\n",
    "print(dict)"
   ]
  },
  {
   "cell_type": "markdown",
   "id": "26b29d84",
   "metadata": {},
   "source": [
    "# Changeable\n",
    "Dictionaries are changeable, meaning that we can change, add or remove items after the dictionary has been created.\n",
    "\n"
   ]
  },
  {
   "cell_type": "markdown",
   "id": "71e69c77",
   "metadata": {},
   "source": [
    "# Duplicates Not Allowed\n",
    "Dictionaries cannot have two items with the same key:"
   ]
  },
  {
   "cell_type": "code",
   "execution_count": 19,
   "id": "620fa0f4",
   "metadata": {},
   "outputs": [
    {
     "name": "stdout",
     "output_type": "stream",
     "text": [
      "{'Name': 'rani', 'age': 12, 'year': 2022, 'years': 2012}\n"
     ]
    }
   ],
   "source": [
    "# Duplicate values will overwrite existing values\n",
    "thisdict = {\n",
    "  \"Name\":\"rani\",\n",
    "    \"age\":12,\n",
    "    \"year\":2022,\n",
    "    \"years\":2020,\n",
    "    \"years\":2012\n",
    "    \n",
    "    \n",
    "}\n",
    "print(thisdict)"
   ]
  },
  {
   "cell_type": "markdown",
   "id": "0d046ea9",
   "metadata": {},
   "source": [
    "# Dictionary Length\n",
    "To determine how many items a dictionary has, use the len() function:"
   ]
  },
  {
   "cell_type": "code",
   "execution_count": 20,
   "id": "a7397638",
   "metadata": {},
   "outputs": [
    {
     "name": "stdout",
     "output_type": "stream",
     "text": [
      "4\n"
     ]
    }
   ],
   "source": [
    "# Print the number of items in the dictionary:\n",
    "print(len(thisdict))"
   ]
  },
  {
   "cell_type": "markdown",
   "id": "cce9c9bd",
   "metadata": {},
   "source": [
    "# Dictionary Items - Data Types\n",
    "The values in dictionary items can be of any data type"
   ]
  },
  {
   "cell_type": "code",
   "execution_count": 21,
   "id": "a18715e2",
   "metadata": {},
   "outputs": [
    {
     "name": "stdout",
     "output_type": "stream",
     "text": [
      "{'Name': 'laptop', 'electric': False, 'year': 1964, 'colors': ('red', 'white', 'blue')}\n"
     ]
    }
   ],
   "source": [
    "# String, int, boolean, and list data types\n",
    "\n",
    "thisdict = {\n",
    "  \"Name\": \"laptop\",\n",
    "  \"electric\": False,\n",
    "  \"year\": 1964,\n",
    "  \"colors\": (\"red\", \"white\", \"blue\")\n",
    "}\n",
    "print(thisdict)"
   ]
  },
  {
   "cell_type": "markdown",
   "id": "31451c0f",
   "metadata": {},
   "source": [
    "# type()"
   ]
  },
  {
   "cell_type": "code",
   "execution_count": 16,
   "id": "6ec5da76",
   "metadata": {},
   "outputs": [
    {
     "name": "stdout",
     "output_type": "stream",
     "text": [
      "<class 'dict'>\n"
     ]
    }
   ],
   "source": [
    "# Print the data type of a dictionary\n",
    "thisdict = {\n",
    "  \"Name\": \"laptop\",\n",
    "  \"electric\": False,\n",
    "  \"year\": 1964,\n",
    "  \"colors\": [\"red\", \"white\", \"blue\"]\n",
    "}\n",
    "print(type(thisdict))"
   ]
  },
  {
   "cell_type": "markdown",
   "id": "f170efac",
   "metadata": {},
   "source": [
    "# The dict() Constructor\n",
    "It is also possible to use the dict() constructor to make a dictionary."
   ]
  },
  {
   "cell_type": "code",
   "execution_count": 5,
   "id": "895df1c4",
   "metadata": {},
   "outputs": [
    {
     "name": "stdout",
     "output_type": "stream",
     "text": [
      "{'name': 'Ram', 'age': 36, 'country': 'India'}\n"
     ]
    }
   ],
   "source": [
    "# Using the dict() method to make a dictionary:\n",
    "thisdict = dict(name = \"Ram\", age = 36, country = \"India\")\n",
    "print(thisdict)"
   ]
  },
  {
   "cell_type": "markdown",
   "id": "0562f760",
   "metadata": {},
   "source": [
    "# Python - Access Dictionary Items\n",
    "\n",
    "Accessing Items\n",
    "\n",
    "You can access the items of a dictionary by referring to its key name, inside square brackets:"
   ]
  },
  {
   "cell_type": "code",
   "execution_count": 25,
   "id": "a814935a",
   "metadata": {},
   "outputs": [
    {
     "name": "stdout",
     "output_type": "stream",
     "text": [
      "laptop\n"
     ]
    }
   ],
   "source": [
    "# Get the value of the \"model\" key\n",
    "thisdict = {\n",
    "  \"Name\": \"laptop\",\n",
    "  \"electric\": False,\n",
    "  \"year\": 1964,\n",
    "  \"colors\": [\"red\", \"white\", \"blue\"]\n",
    "}\n",
    "x=thisdict[\"Name\"]\n",
    "print(x)"
   ]
  },
  {
   "cell_type": "code",
   "execution_count": 24,
   "id": "e52b9bb7",
   "metadata": {},
   "outputs": [
    {
     "name": "stdout",
     "output_type": "stream",
     "text": [
      "laptop\n"
     ]
    }
   ],
   "source": [
    "thisdict = {\n",
    "  \"Name\": \"laptop\",\n",
    "  \"electric\": False,\n",
    "  \"year\": 1964,\n",
    "  \"colors\": [\"red\", \"white\", \"blue\"]\n",
    "}\n",
    "x = thisdict.get(\"Name\")\n",
    "print(x)"
   ]
  },
  {
   "cell_type": "code",
   "execution_count": 23,
   "id": "9c2dfb1b",
   "metadata": {},
   "outputs": [
    {
     "name": "stdout",
     "output_type": "stream",
     "text": [
      "laptop\n"
     ]
    }
   ],
   "source": [
    "# There is also a method called get() that will give you the same result:\n",
    "x = thisdict.get(\"Name\")\n",
    "print(x)"
   ]
  },
  {
   "cell_type": "markdown",
   "id": "98a7e2d6",
   "metadata": {},
   "source": [
    "# Get Keys\n",
    "The keys() method will return a list of all the keys in the dictionary."
   ]
  },
  {
   "cell_type": "code",
   "execution_count": 24,
   "id": "5613fe32",
   "metadata": {},
   "outputs": [
    {
     "name": "stdout",
     "output_type": "stream",
     "text": [
      "dict_keys(['Name', 'electric', 'year', 'colors'])\n"
     ]
    }
   ],
   "source": [
    "# Get a list of the keys:\n",
    "thisdict = {\n",
    "  \"Name\": \"laptop\",\n",
    "  \"electric\": False,\n",
    "  \"year\": 1964,\n",
    "  \"colors\": [\"red\", \"white\", \"blue\"]\n",
    "}\n",
    "\n",
    "x = thisdict.keys()\n",
    "print(x)"
   ]
  },
  {
   "cell_type": "code",
   "execution_count": 28,
   "id": "a7511a3c",
   "metadata": {},
   "outputs": [
    {
     "name": "stdout",
     "output_type": "stream",
     "text": [
      "dict_keys(['Name', 'location', 'year'])\n",
      "dict_keys(['Name', 'location', 'year', 'marks'])\n"
     ]
    }
   ],
   "source": [
    "# Add a new item to the original dictionary, and see that the keys \n",
    "# list gets updated as well\n",
    "students = {\n",
    "\"Name\": \"kavitha\",\n",
    "\"location\": \"india\",\n",
    "\"year\": 1964\n",
    "}\n",
    "\n",
    "x = students.keys()\n",
    "\n",
    "print(x) #before the change\n",
    "\n",
    "students[\"marks\"] = 122\n",
    "\n",
    "print(x) #after the change"
   ]
  },
  {
   "cell_type": "markdown",
   "id": "60c72018",
   "metadata": {},
   "source": [
    "# Get Values\n",
    "The values() method will return a list of all the values in the dictionary."
   ]
  },
  {
   "cell_type": "code",
   "execution_count": 27,
   "id": "d7b809f3",
   "metadata": {},
   "outputs": [
    {
     "name": "stdout",
     "output_type": "stream",
     "text": [
      "dict_values(['laptop', False, 1964, ['red', 'white', 'blue']])\n"
     ]
    }
   ],
   "source": [
    "# Get a list of the values:\n",
    "thisdict = {\n",
    "  \"Name\": \"laptop\",\n",
    "  \"electric\": False,\n",
    "  \"year\": 1964,\n",
    "  \"colors\": [\"red\", \"white\", \"blue\"]\n",
    "}\n",
    "x = thisdict.values()\n",
    "print(x)"
   ]
  },
  {
   "cell_type": "markdown",
   "id": "f3e734b3",
   "metadata": {},
   "source": [
    "### Make a change in the original dictionary, and see that the values list gets updated as well\n"
   ]
  },
  {
   "cell_type": "code",
   "execution_count": 30,
   "id": "9fa04839",
   "metadata": {},
   "outputs": [
    {
     "name": "stdout",
     "output_type": "stream",
     "text": [
      "dict_values(['kavitha', 'india', 1964])\n",
      "dict_values(['kavitha', 'india', 1964, 12])\n"
     ]
    }
   ],
   "source": [
    "students = {\n",
    "\"Name\": \"kavitha\",\n",
    "\"location\": \"india\",\n",
    "\"year\": 1964\n",
    "}\n",
    "\n",
    "x = students.values()\n",
    "\n",
    "print(x) #before the change\n",
    "\n",
    "students[\"age\"] = 12\n",
    "\n",
    "print(x) #after the change"
   ]
  },
  {
   "cell_type": "markdown",
   "id": "4d0f75f4",
   "metadata": {},
   "source": [
    "# Get Items\n",
    "The items() method will return each item in a dictionary, as tuples in a list."
   ]
  },
  {
   "cell_type": "code",
   "execution_count": 31,
   "id": "ce7935ba",
   "metadata": {},
   "outputs": [
    {
     "name": "stdout",
     "output_type": "stream",
     "text": [
      "dict_items([('Name', 'laptop'), ('electric', False), ('year', 1964), ('colors', ['red', 'white', 'blue'])])\n"
     ]
    }
   ],
   "source": [
    "# Get a list of the key:value pairs\n",
    "x = thisdict.items()\n",
    "print(x)"
   ]
  },
  {
   "cell_type": "code",
   "execution_count": 32,
   "id": "79238b2d",
   "metadata": {},
   "outputs": [
    {
     "name": "stdout",
     "output_type": "stream",
     "text": [
      "dict_items([('Name', 'kavitha'), ('location', 'india'), ('year', 1964)])\n",
      "dict_items([('Name', 'kavitha'), ('location', 'india'), ('year', 1964), ('age', 12)])\n"
     ]
    }
   ],
   "source": [
    "# Make a change in the original dictionary, and see that the items \n",
    "# list gets updated as well\n",
    "students = {\n",
    "\"Name\": \"kavitha\",\n",
    "\"location\": \"india\",\n",
    "\"year\": 1964\n",
    "}\n",
    "\n",
    "x = students.items()\n",
    "\n",
    "print(x) #before the change\n",
    "\n",
    "students[\"age\"] = 12\n",
    "\n",
    "print(x) #after the change"
   ]
  },
  {
   "cell_type": "markdown",
   "id": "5bb5fe61",
   "metadata": {},
   "source": [
    "# Check if Key Exists\n",
    "To determine if a specified key is present in a dictionary use the in keyword:"
   ]
  },
  {
   "cell_type": "code",
   "execution_count": 33,
   "id": "152174bf",
   "metadata": {},
   "outputs": [
    {
     "name": "stdout",
     "output_type": "stream",
     "text": [
      "Yes, 'year' is one of the keys in the thisdict dictionary\n"
     ]
    }
   ],
   "source": [
    "# Check if \"Name\" is present in the dictionary:\n",
    "thisdict = {\n",
    "  \"Name\": \"laptop\",\n",
    "  \"electric\": False,\n",
    "  \"year\": 1964\n",
    "}\n",
    "if \"year\" in thisdict :\n",
    "    print(\"Yes, 'year' is one of the keys in the thisdict dictionary\")"
   ]
  },
  {
   "cell_type": "markdown",
   "id": "c19367e5",
   "metadata": {},
   "source": [
    "# Python - Change Dictionary Items\n",
    "Change Values\n",
    "\n",
    "You can change the value of a specific item by referring to its key name:"
   ]
  },
  {
   "cell_type": "code",
   "execution_count": 34,
   "id": "449e27b4",
   "metadata": {},
   "outputs": [
    {
     "name": "stdout",
     "output_type": "stream",
     "text": [
      "{'Name': 'laptop', 'electric': False, 'year': 2001}\n"
     ]
    }
   ],
   "source": [
    "thisdict = {\n",
    "  \"Name\": \"laptop\",\n",
    "  \"electric\": False,\n",
    "  \"year\": 1964\n",
    "}\n",
    "thisdict[\"year\"]=2001\n",
    "print(thisdict)"
   ]
  },
  {
   "cell_type": "markdown",
   "id": "cdaf6a24",
   "metadata": {},
   "source": [
    "# Update Dictionary\n",
    "The update() method will update the dictionary with the items from the given argument.\n",
    "\n",
    "The argument must be a dictionary, or an iterable object with key:value pairs."
   ]
  },
  {
   "cell_type": "code",
   "execution_count": 38,
   "id": "a65ff921",
   "metadata": {},
   "outputs": [
    {
     "name": "stdout",
     "output_type": "stream",
     "text": [
      "{'Name': 'laptop', 'electric': False, 'year': 2020}\n"
     ]
    }
   ],
   "source": [
    "# Update the \"year\" of the details by using the update() method\n",
    "thisdict = {\n",
    "  \"Name\": \"laptop\",\n",
    "  \"electric\": False,\n",
    "  \"year\": 1964\n",
    "}\n",
    "thisdict.update({\"year\": 2020})\n",
    "print(thisdict)"
   ]
  },
  {
   "cell_type": "markdown",
   "id": "b1e3c9d0",
   "metadata": {},
   "source": [
    "# Python - Add Dictionary Items\n",
    "Adding Items\n",
    "\n",
    "\n",
    "Adding an item to the dictionary is done by using a new index key and assigning a value to it:"
   ]
  },
  {
   "cell_type": "code",
   "execution_count": 39,
   "id": "d0eb5ad6",
   "metadata": {},
   "outputs": [
    {
     "name": "stdout",
     "output_type": "stream",
     "text": [
      "{'Name': 'laptop', 'electric': False, 'year': 1964, 'marks': 36}\n"
     ]
    }
   ],
   "source": [
    "thisdict = {\n",
    "  \"Name\": \"laptop\",\n",
    "  \"electric\": False,\n",
    "  \"year\": 1964\n",
    "}\n",
    "thisdict[\"marks\"]=36\n",
    "print(thisdict)\n"
   ]
  },
  {
   "cell_type": "code",
   "execution_count": 40,
   "id": "b9b1672d",
   "metadata": {},
   "outputs": [
    {
     "name": "stdout",
     "output_type": "stream",
     "text": [
      "{'Name': 'laptop', 'electric': False, 'year': 1964, 'marks': 36}\n"
     ]
    }
   ],
   "source": [
    "# Update Dictionary\n",
    "# Add a color item to the dictionary by using the update() method:\n",
    "thisdict = {\n",
    "  \"Name\": \"laptop\",\n",
    "  \"electric\": False,\n",
    "  \"year\": 1964\n",
    "}\n",
    "thisdict.update({\"marks\":36})\n",
    "print(thisdict)"
   ]
  },
  {
   "cell_type": "markdown",
   "id": "533a2fb1",
   "metadata": {},
   "source": [
    "# Python - Remove Dictionary Items\n",
    "\n",
    "Removing Items\n",
    "\n",
    "There are several methods to remove items from a dictionary:"
   ]
  },
  {
   "cell_type": "code",
   "execution_count": 35,
   "id": "f3fb9777",
   "metadata": {},
   "outputs": [
    {
     "name": "stdout",
     "output_type": "stream",
     "text": [
      "{'Name': 'laptop', 'electric': False}\n"
     ]
    }
   ],
   "source": [
    "# The pop() method removes the item with the specified key name\n",
    "thisdict = {\n",
    "  \"Name\": \"laptop\",\n",
    "  \"electric\": False,\n",
    "  \"year\": 1964\n",
    "}\n",
    "thisdict.pop(\"year\")\n",
    "print(thisdict)"
   ]
  },
  {
   "cell_type": "code",
   "execution_count": 42,
   "id": "fa24a8cf",
   "metadata": {},
   "outputs": [
    {
     "name": "stdout",
     "output_type": "stream",
     "text": [
      "{'Name': 'laptop', 'electric': False}\n"
     ]
    }
   ],
   "source": [
    "# The popitem() method removes the last inserted item\n",
    "thisdict = {\n",
    "  \"Name\": \"laptop\",\n",
    "  \"electric\": False,\n",
    "  \"year\": 1964\n",
    "}\n",
    "thisdict.popitem()\n",
    "print(thisdict)"
   ]
  },
  {
   "cell_type": "code",
   "execution_count": 36,
   "id": "1d2603ac",
   "metadata": {},
   "outputs": [
    {
     "name": "stdout",
     "output_type": "stream",
     "text": [
      "{'electric': False, 'year': 1964}\n"
     ]
    }
   ],
   "source": [
    "# The del keyword removes the item with the specified key name:\n",
    "thisdict = {\n",
    "  \"Name\": \"laptop\",\n",
    "  \"electric\": False,\n",
    "  \"year\": 1964\n",
    "}\n",
    "del thisdict[\"Name\"]\n",
    "print(thisdict)"
   ]
  },
  {
   "cell_type": "markdown",
   "id": "05632ac5",
   "metadata": {},
   "source": [
    "# Python - Loop Dictionaries\n",
    "Loop Through a Dictionary\n",
    "\n",
    "You can loop through a dictionary by using a for loop."
   ]
  },
  {
   "cell_type": "code",
   "execution_count": 40,
   "id": "f8d8e58d",
   "metadata": {},
   "outputs": [
    {
     "name": "stdout",
     "output_type": "stream",
     "text": [
      "Name\n",
      "electric\n",
      "year\n"
     ]
    }
   ],
   "source": [
    "# Print all key names in the dictionary, one by one:\n",
    "thisdict = {\n",
    "  \"Name\": \"laptop\",\n",
    "  \"electric\": False,\n",
    "  \"year\": 1964\n",
    "}\n",
    "for x in thisdict:\n",
    "    print(x)\n",
    "    "
   ]
  },
  {
   "cell_type": "code",
   "execution_count": 46,
   "id": "5a136843",
   "metadata": {},
   "outputs": [
    {
     "name": "stdout",
     "output_type": "stream",
     "text": [
      "laptop\n",
      "False\n",
      "1964\n"
     ]
    }
   ],
   "source": [
    "# Print all values in the dictionary, one by one:\n",
    "for x in thisdict:\n",
    "  print(thisdict[x])"
   ]
  },
  {
   "cell_type": "code",
   "execution_count": 47,
   "id": "0a3c0477",
   "metadata": {},
   "outputs": [
    {
     "name": "stdout",
     "output_type": "stream",
     "text": [
      "laptop\n",
      "False\n",
      "1964\n"
     ]
    }
   ],
   "source": [
    "# You can also use the values() method to return values of a dictionary:\n",
    "for x in thisdict.values():\n",
    "  print(x)"
   ]
  },
  {
   "cell_type": "code",
   "execution_count": 48,
   "id": "65937e02",
   "metadata": {},
   "outputs": [
    {
     "name": "stdout",
     "output_type": "stream",
     "text": [
      "Name\n",
      "electric\n",
      "year\n"
     ]
    }
   ],
   "source": [
    "# You can use the keys() method to return the keys of a dictionary\n",
    "for x in thisdict.keys():\n",
    "  print(x)"
   ]
  },
  {
   "cell_type": "code",
   "execution_count": 49,
   "id": "7b314867",
   "metadata": {},
   "outputs": [
    {
     "name": "stdout",
     "output_type": "stream",
     "text": [
      "Name laptop\n",
      "electric False\n",
      "year 1964\n"
     ]
    }
   ],
   "source": [
    "# Loop through both keys and values, by using the items() method:\n",
    "for x, y in thisdict.items():\n",
    "  print(x, y)\n"
   ]
  },
  {
   "cell_type": "markdown",
   "id": "e7e61a02",
   "metadata": {},
   "source": [
    "# Python - Copy Dictionaries\n",
    "\n",
    "\n",
    "\n",
    "There are ways to make a copy, one way is to use the built-in Dictionary method copy()."
   ]
  },
  {
   "cell_type": "code",
   "execution_count": 42,
   "id": "002cb72e",
   "metadata": {},
   "outputs": [
    {
     "name": "stdout",
     "output_type": "stream",
     "text": [
      "{'Name': 'laptop', 'electric': False, 'year': 1964}\n"
     ]
    }
   ],
   "source": [
    "# Make a copy of a dictionary with the copy() method:\n",
    "thisdict = {\n",
    "  \"Name\": \"laptop\",\n",
    "  \"electric\": False,\n",
    "  \"year\": 1964\n",
    "}\n",
    "x=thisdict.copy()\n",
    "print(x)"
   ]
  },
  {
   "cell_type": "markdown",
   "id": "4048d494",
   "metadata": {},
   "source": [
    "# Another way to make a copy is to use the built-in function dict()."
   ]
  },
  {
   "cell_type": "code",
   "execution_count": 47,
   "id": "0386afaa",
   "metadata": {},
   "outputs": [
    {
     "name": "stdout",
     "output_type": "stream",
     "text": [
      "{'Name': 'laptop', 'electric': False, 'year': 1964}\n",
      "{'Name': 'laptop', 'electric': False, 'year': 1964}\n"
     ]
    }
   ],
   "source": [
    "# Make a copy of a dictionary with the dict() function:\n",
    "thisdict = {\n",
    "  \"Name\": \"laptop\",\n",
    "  \"electric\": False,\n",
    "  \"year\": 1964\n",
    "}\n",
    "y=dict(thisdict)\n",
    "print(y)\n",
    "y=thisdict\n",
    "print(y)"
   ]
  },
  {
   "cell_type": "markdown",
   "id": "a6a696b9",
   "metadata": {},
   "source": [
    "# Python - Nested Dictionaries\n",
    "A dictionary can contain dictionaries, this is called nested dictionaries."
   ]
  },
  {
   "cell_type": "code",
   "execution_count": 53,
   "id": "deceb7ef",
   "metadata": {},
   "outputs": [
    {
     "name": "stdout",
     "output_type": "stream",
     "text": [
      "{'child1': {'name': 'keerthi', 'year': 2004}, 'child2': {'name': 'shirisha', 'year': 2007}, 'child3': {'name': 'mounika', 'year': 2011}}\n"
     ]
    }
   ],
   "source": [
    "# Create a dictionary that contain three dictionaries:\n",
    "myfamily = {\n",
    "  \"child1\" : {\n",
    "    \"name\" : \"keerthi\",\n",
    "    \"year\" : 2004\n",
    "  },\n",
    "  \"child2\" : {\n",
    "    \"name\" : \"shirisha\",\n",
    "    \"year\" : 2007\n",
    "  },\n",
    "  \"child3\" : {\n",
    "    \"name\" : \"mounika\",\n",
    "    \"year\" : 2011\n",
    "  }\n",
    "}\n",
    "print(myfamily)"
   ]
  },
  {
   "cell_type": "markdown",
   "id": "c820f5a8",
   "metadata": {},
   "source": [
    " Create three dictionaries, then create one dictionary that will \n",
    "contain the other three dictionaries:"
   ]
  },
  {
   "cell_type": "code",
   "execution_count": 55,
   "id": "b5632521",
   "metadata": {},
   "outputs": [
    {
     "name": "stdout",
     "output_type": "stream",
     "text": [
      "{'child1': {'name': 'keerthi', 'year': 2004}, 'child2': {'name': 'shirisha', 'year': 2007}, 'child3': {'name': 'mounika', 'year': 2011}}\n"
     ]
    }
   ],
   "source": [
    "child1 = {\n",
    "  \"name\" : \"keerthi\",\n",
    "  \"year\" : 2004\n",
    "}\n",
    "child2 = {\n",
    "  \"name\" : \"shirisha\",\n",
    "  \"year\" : 2007\n",
    "}\n",
    "child3 = {\n",
    "  \"name\" : \"mounika\",\n",
    "  \"year\" : 2011\n",
    "}\n",
    "\n",
    "myfamily = {\n",
    "  \"child1\" : child1,\n",
    "  \"child2\" : child2,\n",
    "  \"child3\" : child3\n",
    "}\n",
    "print(myfamily)"
   ]
  },
  {
   "cell_type": "markdown",
   "id": "0ca7e668",
   "metadata": {},
   "source": [
    "# Python Dictionary Methods"
   ]
  },
  {
   "cell_type": "code",
   "execution_count": 56,
   "id": "4576083d",
   "metadata": {},
   "outputs": [
    {
     "name": "stdout",
     "output_type": "stream",
     "text": [
      "{}\n"
     ]
    }
   ],
   "source": [
    "# Remove all elements from the details list:\n",
    "thisdict = {\n",
    "  \"Name\": \"laptop\",\n",
    "  \"electric\": False,\n",
    "  \"year\": 1964\n",
    "}\n",
    "thisdict.clear()\n",
    "print(thisdict)"
   ]
  },
  {
   "cell_type": "markdown",
   "id": "830c59fb",
   "metadata": {},
   "source": [
    "# Python Dictionary copy() Method"
   ]
  },
  {
   "cell_type": "code",
   "execution_count": 57,
   "id": "a5e59b18",
   "metadata": {},
   "outputs": [
    {
     "name": "stdout",
     "output_type": "stream",
     "text": [
      "{'Name': 'laptop', 'electric': False, 'year': 1964}\n"
     ]
    }
   ],
   "source": [
    "# Copy the details dictionary:\n",
    "thisdict = {\n",
    "  \"Name\": \"laptop\",\n",
    "  \"electric\": False,\n",
    "  \"year\": 1964\n",
    "}\n",
    "x=thisdict.copy()\n",
    "print(x)"
   ]
  },
  {
   "cell_type": "markdown",
   "id": "7cfdd1f7",
   "metadata": {},
   "source": [
    "# Python Dictionary fromkeys() Method\n",
    "\n",
    "fromkeys() function returns the dictionary with key mapped and specific value"
   ]
  },
  {
   "cell_type": "code",
   "execution_count": 59,
   "id": "d7187518",
   "metadata": {},
   "outputs": [
    {
     "name": "stdout",
     "output_type": "stream",
     "text": [
      "{'key1': 0, 'key2': 0, 'key3': 0}\n"
     ]
    }
   ],
   "source": [
    "# Create a dictionary with 3 keys, all with the value 0\n",
    "x = ('key1', 'key2', 'key3')\n",
    "y = 0\n",
    "\n",
    "thisdict = dict.fromkeys(x, y)\n",
    "\n",
    "print(thisdict)\n",
    "\n",
    "# The fromkeys() method returns a dictionary with the specified keys and the specified value."
   ]
  },
  {
   "cell_type": "markdown",
   "id": "36306392",
   "metadata": {},
   "source": [
    "keys\tRequired. An iterable specifying the keys of the new dictionary\n",
    "\n",
    "\n",
    "value\tOptional. The value for all keys. Default value is None"
   ]
  },
  {
   "cell_type": "code",
   "execution_count": 61,
   "id": "d708984c",
   "metadata": {},
   "outputs": [
    {
     "name": "stdout",
     "output_type": "stream",
     "text": [
      "{'key1': None, 'key2': None, 'key3': None}\n"
     ]
    }
   ],
   "source": [
    "# Same example as above, but without specifying the value:\n",
    "x = ('key1', 'key2', 'key3')\n",
    "\n",
    "thisdict = dict.fromkeys(x)\n",
    "\n",
    "print(thisdict)"
   ]
  },
  {
   "cell_type": "markdown",
   "id": "6ffe6b07",
   "metadata": {},
   "source": [
    "                      Dictionary methods\n",
    "\n",
    "clear() – Remove all the elements from the dictionary\n",
    "\n",
    "copy() – Returns a copy of the dictionary\n",
    "\n",
    "get() – Returns the value of specified key\n",
    "\n",
    "items() – Returns a list containing a tuple for each key value pair\n",
    "\n",
    "keys() – Returns a list containing dictionary’s keys\n",
    "\n",
    "pop() – Remove the element with specified key\n",
    "\n",
    "popitem() – Removes the last inserted key-value pair\n",
    "\n",
    "update() – Updates dictionary with specified key-value pairs\n",
    "\n",
    "values() – Returns a list of all the values of dictionary"
   ]
  },
  {
   "cell_type": "code",
   "execution_count": 16,
   "id": "ecd343a1",
   "metadata": {},
   "outputs": [
    {
     "name": "stdout",
     "output_type": "stream",
     "text": [
      "{1: 'Python', 2: 'Java', 3: 'C', 4: 'C++'}\n",
      "{}\n",
      "Python\n",
      "dict_items([(1, 'Python'), (2, 'Java'), (3, 'C'), (4, 'C++')])\n",
      "dict_keys([1, 2, 3, 4])\n",
      "{1: 'Python', 2: 'Java', 3: 'C'}\n",
      "{1: 'Python', 2: 'Java'}\n",
      "{1: 'Python', 2: 'Java', 3: 'C++'}\n",
      "dict_values(['Python', 'Java', 'C++'])\n"
     ]
    }
   ],
   "source": [
    "# demo for all dictionary methods\n",
    "dict1 = {1: \"Python\", 2: \"Java\", 3: \"C\", 4: \"C++\"}\n",
    "  \n",
    "# copy() method\n",
    "dict2 = dict1.copy()\n",
    "print(dict2)\n",
    "  \n",
    "# clear() method\n",
    "dict1.clear()\n",
    "print(dict1)\n",
    "  \n",
    "# get() method\n",
    "print(dict2.get(1))\n",
    "  \n",
    "# items() method\n",
    "print(dict2.items())\n",
    "  \n",
    "# keys() method\n",
    "print(dict2.keys())\n",
    "  \n",
    "# pop() method\n",
    "dict2.pop(4)\n",
    "print(dict2)\n",
    "  \n",
    "# popitem() method\n",
    "dict2.popitem()\n",
    "print(dict2)\n",
    "  \n",
    "# update() method\n",
    "dict2.update({3: \"C++\"})\n",
    "print(dict2)\n",
    "  \n",
    "# values() method\n",
    "print(dict2.values())"
   ]
  },
  {
   "cell_type": "code",
   "execution_count": null,
   "id": "da0ff5d2",
   "metadata": {},
   "outputs": [],
   "source": []
  }
 ],
 "metadata": {
  "kernelspec": {
   "display_name": "Python 3 (ipykernel)",
   "language": "python",
   "name": "python3"
  },
  "language_info": {
   "codemirror_mode": {
    "name": "ipython",
    "version": 3
   },
   "file_extension": ".py",
   "mimetype": "text/x-python",
   "name": "python",
   "nbconvert_exporter": "python",
   "pygments_lexer": "ipython3",
   "version": "3.9.13"
  }
 },
 "nbformat": 4,
 "nbformat_minor": 5
}
