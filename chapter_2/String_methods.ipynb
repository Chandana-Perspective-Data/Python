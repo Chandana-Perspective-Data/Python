{
 "cells": [
  {
   "cell_type": "markdown",
   "id": "9ed356d5",
   "metadata": {},
   "source": [
    "# String Methods"
   ]
  },
  {
   "cell_type": "markdown",
   "id": "500df9c4",
   "metadata": {},
   "source": [
    "### 1) capitalize() :\tConverts the first character to upper case"
   ]
  },
  {
   "cell_type": "code",
   "execution_count": 5,
   "id": "05b12f89",
   "metadata": {},
   "outputs": [
    {
     "name": "stdout",
     "output_type": "stream",
     "text": [
      "Hi....,i like statistics stuject\n"
     ]
    }
   ],
   "source": [
    "s=\"hi....,I like statistics stuject\"\n",
    "print(s.capitalize())"
   ]
  },
  {
   "cell_type": "markdown",
   "id": "3f266d93",
   "metadata": {},
   "source": [
    "### 2) casefold() :  Converts string into lower case"
   ]
  },
  {
   "cell_type": "code",
   "execution_count": 6,
   "id": "f1348fa0",
   "metadata": {},
   "outputs": [
    {
     "name": "stdout",
     "output_type": "stream",
     "text": [
      "hi....,i like statistics stuject\n"
     ]
    }
   ],
   "source": [
    "s=\"HI....,I Like StAtistiCs StujEct\"\n",
    "print(s.casefold())"
   ]
  },
  {
   "cell_type": "markdown",
   "id": "dc30eb8c",
   "metadata": {},
   "source": [
    "### 3) center() :\tReturns a centered string"
   ]
  },
  {
   "cell_type": "code",
   "execution_count": null,
   "id": "731413ad",
   "metadata": {},
   "outputs": [],
   "source": [
    "          "
   ]
  },
  {
   "cell_type": "code",
   "execution_count": 7,
   "id": "7a337e41",
   "metadata": {},
   "outputs": [
    {
     "name": "stdout",
     "output_type": "stream",
     "text": [
      "  python  \n",
      "12345678901234567890\n"
     ]
    }
   ],
   "source": [
    "s=\"python\"\n",
    "print(s.center(10))   #Print the word \"python\", taking up the space of 20 characters, with \"python\" in the middle.\n",
    "print(\"12345678901234567890\")  # this line is just to understand how the above line work "
   ]
  },
  {
   "cell_type": "markdown",
   "id": "56917fb0",
   "metadata": {},
   "source": [
    "### 4) count():\tReturns the number of times a specified value occurs in a string"
   ]
  },
  {
   "cell_type": "code",
   "execution_count": 1,
   "id": "85032bfb",
   "metadata": {
    "collapsed": true
   },
   "outputs": [
    {
     "name": "stdout",
     "output_type": "stream",
     "text": [
      "2\n"
     ]
    }
   ],
   "source": [
    "s=\"statistics\"\n",
    "print(s.count(\"i\"))  # it gives ,total number of \"i\" in \"s\" "
   ]
  },
  {
   "cell_type": "code",
   "execution_count": 1,
   "id": "4a7eea83",
   "metadata": {},
   "outputs": [
    {
     "name": "stdout",
     "output_type": "stream",
     "text": [
      "b'My name is St\\\\xe5le'\n",
      "b'My name is Stle'\n",
      "b'My name is St\\\\N{LATIN SMALL LETTER A WITH RING ABOVE}le'\n",
      "b'My name is St?le'\n",
      "b'My name is St&#229;le'\n"
     ]
    }
   ],
   "source": [
    "txt = \"My name is Ståle\"\n",
    "\n",
    "print(txt.encode(encoding=\"ascii\",errors=\"backslashreplace\"))\n",
    "print(txt.encode(encoding=\"ascii\",errors=\"ignore\"))\n",
    "print(txt.encode(encoding=\"ascii\",errors=\"namereplace\"))\n",
    "print(txt.encode(encoding=\"ascii\",errors=\"replace\"))\n",
    "print(txt.encode(encoding=\"ascii\",errors=\"xmlcharrefreplace\"))\n",
    "\n"
   ]
  },
  {
   "cell_type": "markdown",
   "id": "8173f44f",
   "metadata": {},
   "source": [
    "### 6) endswith() :\tReturns true if the string ends with the specified value"
   ]
  },
  {
   "cell_type": "code",
   "execution_count": 8,
   "id": "35408547",
   "metadata": {},
   "outputs": [
    {
     "name": "stdout",
     "output_type": "stream",
     "text": [
      "True\n",
      "False\n"
     ]
    }
   ],
   "source": [
    "s=\"How are you?\"\n",
    "print(s.endswith(\"you?\"))  # return \"True\" because it is ending with \"?\"\n",
    "print(s.endswith(\".\"))  # return \"False\" because it is not ending with \".\""
   ]
  },
  {
   "cell_type": "markdown",
   "id": "e708d4ee",
   "metadata": {},
   "source": [
    "### 7) expandtabs() :\tSets the tab size of the string"
   ]
  },
  {
   "cell_type": "markdown",
   "id": "dbaa20c8",
   "metadata": {},
   "source": [
    "Syntax :-\n",
    "string.expandtabs(tabsize)\n",
    "\n",
    "tabsize :\tOptional. A number specifying the tabsize. Default tabsize is 8"
   ]
  },
  {
   "cell_type": "code",
   "execution_count": 36,
   "id": "c72c97dc",
   "metadata": {},
   "outputs": [
    {
     "name": "stdout",
     "output_type": "stream",
     "text": [
      "p ytho  n\n",
      "p\n",
      "  ytho  n\n",
      "s                   tatistics\n"
     ]
    }
   ],
   "source": [
    "s=\"p\\tytho\\tn\"\n",
    "print(s.expandtabs(2))\n",
    "x=\"p\\n\\tytho\\tn\"\n",
    "print(x.expandtabs(2))\n",
    "y=\"s\\ttatistics\"\n",
    "print(y.expandtabs(20))\n",
    "\n"
   ]
  },
  {
   "cell_type": "code",
   "execution_count": 37,
   "id": "9fdc5556",
   "metadata": {},
   "outputs": [
    {
     "name": "stdout",
     "output_type": "stream",
     "text": [
      "P\ty\tt\th\ton\n",
      "P       y       t       h       on\n",
      "P y t h on\n",
      "P   y   t   h   on\n",
      "P         y         t         h         on\n"
     ]
    }
   ],
   "source": [
    "a = \"P\\ty\\tt\\th\\ton\"\n",
    "\n",
    "print(a)\n",
    "print(a.expandtabs())  # if we didn't give size, then it take one tab space by defalt. \n",
    "print(a.expandtabs(2))\n",
    "print(a.expandtabs(4))\n",
    "print(a.expandtabs(10))\n"
   ]
  },
  {
   "cell_type": "markdown",
   "id": "6e7cef31",
   "metadata": {},
   "source": [
    "### 8) find()  :\tSearches the string for a specified value and returns the position of where it was found"
   ]
  },
  {
   "cell_type": "markdown",
   "id": "7c8f02bf",
   "metadata": {},
   "source": [
    "\n",
    "The find() method finds the first occurrence of the specified value.\n",
    "\n",
    "The find() method returns -1 if the value is not found.\n",
    "\n",
    "The find() method is almost the same as the index() method, the only difference is that the index()\n",
    "method raises an exception if the value is not found."
   ]
  },
  {
   "cell_type": "markdown",
   "id": "5a987e8f",
   "metadata": {},
   "source": [
    "Syntax :-\n",
    "\n",
    "string.find(value, start, end)\n",
    "\n",
    "Parameter and Description\n",
    "\n",
    "value :\tRequired. The value to search for\n",
    "\n",
    "start :\tOptional. Where to start the search. Default is 0\n",
    "\n",
    "end :\tOptional. Where to end the search. Default is to the end of the string\n"
   ]
  },
  {
   "cell_type": "code",
   "execution_count": 8,
   "id": "ae3e28c9",
   "metadata": {
    "scrolled": true
   },
   "outputs": [
    {
     "name": "stdout",
     "output_type": "stream",
     "text": [
      "7\n"
     ]
    }
   ],
   "source": [
    "s=\"I like Statistics Statistics \"\n",
    "print(s.find(\"Statistics\"))"
   ]
  },
  {
   "cell_type": "code",
   "execution_count": 11,
   "id": "211655cc",
   "metadata": {},
   "outputs": [
    {
     "name": "stdout",
     "output_type": "stream",
     "text": [
      "2\n",
      "-1\n"
     ]
    }
   ],
   "source": [
    "s=\"I like Statistics\"\n",
    "print(s.find(\"like\",1,12))\n",
    "\n",
    "print(s.find(\"my\"))"
   ]
  },
  {
   "cell_type": "markdown",
   "id": "84ed380d",
   "metadata": {},
   "source": [
    "### 9) format() :\tFormats specified values in a string"
   ]
  },
  {
   "cell_type": "markdown",
   "id": "e27d5687",
   "metadata": {},
   "source": [
    "The format() method formats the specified value(s) and insert them inside the string's placeholder.\n",
    "\n",
    "The placeholder is defined using curly brackets: {}. Read more about the placeholders in the Placeholder section below.\n",
    "\n",
    "The format() method returns the formatted string."
   ]
  },
  {
   "cell_type": "markdown",
   "id": "d4428a97",
   "metadata": {},
   "source": [
    "The Placeholders :-\n",
    "\n",
    "The placeholders can be identified using named indexes {name}, numbered indexes {0}, or even empty placeholders {}."
   ]
  },
  {
   "cell_type": "code",
   "execution_count": 12,
   "id": "ac23f37f",
   "metadata": {},
   "outputs": [
    {
     "name": "stdout",
     "output_type": "stream",
     "text": [
      "name=python,version=3.7\n"
     ]
    }
   ],
   "source": [
    "print(\"name={},version={}\".format(\"python\",3.7))"
   ]
  },
  {
   "cell_type": "code",
   "execution_count": 9,
   "id": "3587208b",
   "metadata": {},
   "outputs": [
    {
     "name": "stdout",
     "output_type": "stream",
     "text": [
      "My name is Rin, I am 1729 years old.\n"
     ]
    }
   ],
   "source": [
    "print(\"My name is {}, I am {} years old.\".format(\"Rin\",1729))"
   ]
  },
  {
   "cell_type": "code",
   "execution_count": 14,
   "id": "988484f9",
   "metadata": {},
   "outputs": [
    {
     "name": "stdout",
     "output_type": "stream",
     "text": [
      "My name is Rin, I am 17 years old.\n"
     ]
    }
   ],
   "source": [
    "print(\"My name is {name}, I am {age} years old.\".format(name=\"Rin\",age=17))"
   ]
  },
  {
   "cell_type": "code",
   "execution_count": 17,
   "id": "5d33740b",
   "metadata": {},
   "outputs": [
    {
     "name": "stdout",
     "output_type": "stream",
     "text": [
      "My name is Rin, I am 17 years old.\n"
     ]
    }
   ],
   "source": [
    "print(\"My name is {name}, I am {age} years old.\".format(age=17,name=\"Rin\"))"
   ]
  },
  {
   "cell_type": "code",
   "execution_count": 16,
   "id": "9d3318b9",
   "metadata": {},
   "outputs": [
    {
     "name": "stdout",
     "output_type": "stream",
     "text": [
      "My name is Rin, I am 17 years old.\n"
     ]
    }
   ],
   "source": [
    "print(\"My name is {}, I am {} years old.\".format(\"Rin\",17))"
   ]
  },
  {
   "cell_type": "code",
   "execution_count": 15,
   "id": "50c57acf",
   "metadata": {},
   "outputs": [
    {
     "name": "stdout",
     "output_type": "stream",
     "text": [
      "My name is Rin, I am 17 years old.\n"
     ]
    }
   ],
   "source": [
    "print(\"My name is {0}, I am {1} years old.\".format(\"Rin\",17))"
   ]
  },
  {
   "cell_type": "code",
   "execution_count": 18,
   "id": "b6bce398",
   "metadata": {},
   "outputs": [
    {
     "name": "stdout",
     "output_type": "stream",
     "text": [
      "My name is 17, I am Rin years old.\n"
     ]
    }
   ],
   "source": [
    "print(\"My name is {1}, I am {0} years old.\".format(\"Rin\",17))"
   ]
  },
  {
   "cell_type": "code",
   "execution_count": 12,
   "id": "f4a366b7",
   "metadata": {},
   "outputs": [
    {
     "name": "stdout",
     "output_type": "stream",
     "text": [
      "Hi... , Rin,HOw are you Rin?.\n"
     ]
    }
   ],
   "source": [
    "print(\"Hi... , {0},HOw are you {0}?.\".format(\"Rin\"))"
   ]
  },
  {
   "cell_type": "markdown",
   "id": "2de90582",
   "metadata": {},
   "source": [
    "### 10) format_map() :  Python String format_map() method is an inbuilt function in Python, which is used to return a dictionary key’s value.\n"
   ]
  },
  {
   "cell_type": "markdown",
   "id": "16b44a74",
   "metadata": {},
   "source": [
    "Syntax: \n",
    "\n",
    "string.format_map(z)\n",
    "\n",
    "Parameters: \n",
    "\n",
    "Here z is a variable in which the input dictionary is stored and string is the key of the input dictionary. input_dict: Takes a single parameter which is the input dictionary."
   ]
  },
  {
   "cell_type": "code",
   "execution_count": 19,
   "id": "e94883f7",
   "metadata": {},
   "outputs": [
    {
     "name": "stdout",
     "output_type": "stream",
     "text": [
      "Hi..., I ma Rin, amd I am 17 years old.\n"
     ]
    }
   ],
   "source": [
    "d={\"name\":\"Rin\",\"age\":17}\n",
    "print(\"Hi..., I ma {name}, amd I am {age} years old.\".format_map(d))"
   ]
  },
  {
   "cell_type": "code",
   "execution_count": 15,
   "id": "5839b61e",
   "metadata": {},
   "outputs": [
    {
     "ename": "ValueError",
     "evalue": "Format string contains positional fields",
     "output_type": "error",
     "traceback": [
      "\u001b[1;31m---------------------------------------------------------------------------\u001b[0m",
      "\u001b[1;31mValueError\u001b[0m                                Traceback (most recent call last)",
      "\u001b[1;32mC:\\Users\\SHAILA~1\\AppData\\Local\\Temp/ipykernel_3628/1854155289.py\u001b[0m in \u001b[0;36m<module>\u001b[1;34m\u001b[0m\n\u001b[0;32m      1\u001b[0m \u001b[0md\u001b[0m\u001b[1;33m=\u001b[0m\u001b[1;33m{\u001b[0m\u001b[1;34m\"name\"\u001b[0m\u001b[1;33m:\u001b[0m\u001b[1;34m\"Rin\"\u001b[0m\u001b[1;33m,\u001b[0m\u001b[1;34m\"age\"\u001b[0m\u001b[1;33m:\u001b[0m\u001b[1;36m1729\u001b[0m\u001b[1;33m}\u001b[0m\u001b[1;33m\u001b[0m\u001b[1;33m\u001b[0m\u001b[0m\n\u001b[1;32m----> 2\u001b[1;33m \u001b[0mprint\u001b[0m\u001b[1;33m(\u001b[0m\u001b[1;34m\"Hi..., I ma {0}, amd I am {1} years old.\"\u001b[0m\u001b[1;33m.\u001b[0m\u001b[0mformat_map\u001b[0m\u001b[1;33m(\u001b[0m\u001b[0md\u001b[0m\u001b[1;33m)\u001b[0m\u001b[1;33m)\u001b[0m\u001b[1;33m\u001b[0m\u001b[1;33m\u001b[0m\u001b[0m\n\u001b[0m",
      "\u001b[1;31mValueError\u001b[0m: Format string contains positional fields"
     ]
    }
   ],
   "source": [
    "d={\"name\":\"Rin\",\"age\":1729}\n",
    "print(\"Hi..., I ma {0}, amd I am {1} years old.\".format_map(d))  # Error"
   ]
  },
  {
   "cell_type": "code",
   "execution_count": 25,
   "id": "6462ade5",
   "metadata": {},
   "outputs": [
    {
     "name": "stdout",
     "output_type": "stream",
     "text": [
      "Hi..., I ma Rin, amd I am 21 years old.\n",
      "Hi..., I ma Reshmi, amd I am 22 years old.\n"
     ]
    }
   ],
   "source": [
    "d={\"names\":[\"Rin\",\"Reshmi\"],\"ages\":[21,22]}\n",
    "print(\"Hi..., I ma {names[0]}, amd I am {ages[0]} years old.\".format_map(d))\n",
    "print(\"Hi..., I ma {names[1]}, amd I am {ages[1]} years old.\".format_map(d))"
   ]
  },
  {
   "cell_type": "markdown",
   "id": "9230b2ad",
   "metadata": {},
   "source": [
    "### 11) index() :\tSearches the string for a specified value and returns the position of where it was found otherwise return ERROR"
   ]
  },
  {
   "cell_type": "markdown",
   "id": "509f20f9",
   "metadata": {},
   "source": [
    "The index() method finds the first occurrence of the specified value.\n",
    "\n",
    "The index() method raises an exception if the value is not found.\n",
    "\n",
    "The index() method is almost the same as the find() method, the only difference is that the find() method returns -1 if the value is not found. \n",
    "\n"
   ]
  },
  {
   "cell_type": "markdown",
   "id": "d50e495a",
   "metadata": {},
   "source": [
    "Syntax :-\n",
    "\n",
    "string.index(value, start, end)\n",
    "\n",
    "Parameter and description :-\n",
    "\n",
    "value :\tRequired. The value to search for\n",
    "\n",
    "start :\tOptional. Where to start the search. Default is 0\n",
    "\n",
    "end :\tOptional. Where to end the search. Default is to the end of the string"
   ]
  },
  {
   "cell_type": "code",
   "execution_count": 23,
   "id": "94313d61",
   "metadata": {},
   "outputs": [
    {
     "name": "stdout",
     "output_type": "stream",
     "text": [
      "2\n"
     ]
    }
   ],
   "source": [
    "s=\"I like statistics\"\n",
    "print(s.index(\"like\"))"
   ]
  },
  {
   "cell_type": "code",
   "execution_count": 27,
   "id": "b655cb8e",
   "metadata": {},
   "outputs": [
    {
     "name": "stdout",
     "output_type": "stream",
     "text": [
      "2\n"
     ]
    }
   ],
   "source": [
    "s=\"I like statistics\"\n",
    "print(s.index(\"like\",1,13))"
   ]
  },
  {
   "cell_type": "code",
   "execution_count": 28,
   "id": "1b2c3a3d",
   "metadata": {},
   "outputs": [
    {
     "ename": "ValueError",
     "evalue": "substring not found",
     "output_type": "error",
     "traceback": [
      "\u001b[1;31m---------------------------------------------------------------------------\u001b[0m",
      "\u001b[1;31mValueError\u001b[0m                                Traceback (most recent call last)",
      "\u001b[1;32mC:\\Users\\SHAILA~1\\AppData\\Local\\Temp/ipykernel_3628/130804269.py\u001b[0m in \u001b[0;36m<module>\u001b[1;34m\u001b[0m\n\u001b[0;32m      1\u001b[0m \u001b[0ms\u001b[0m\u001b[1;33m=\u001b[0m\u001b[1;34m\"I like statistics\"\u001b[0m\u001b[1;33m\u001b[0m\u001b[1;33m\u001b[0m\u001b[0m\n\u001b[1;32m----> 2\u001b[1;33m \u001b[0mprint\u001b[0m\u001b[1;33m(\u001b[0m\u001b[0ms\u001b[0m\u001b[1;33m.\u001b[0m\u001b[0mindex\u001b[0m\u001b[1;33m(\u001b[0m\u001b[1;34m\"like\"\u001b[0m\u001b[1;33m,\u001b[0m\u001b[1;36m4\u001b[0m\u001b[1;33m,\u001b[0m\u001b[1;36m13\u001b[0m\u001b[1;33m)\u001b[0m\u001b[1;33m)\u001b[0m\u001b[1;33m\u001b[0m\u001b[1;33m\u001b[0m\u001b[0m\n\u001b[0m",
      "\u001b[1;31mValueError\u001b[0m: substring not found"
     ]
    }
   ],
   "source": [
    "s=\"I like statistics\"\n",
    "print(s.index(\"like\",4,13))  # gives an error,because \"like\" is at 2 index, but, I gave 4 as starting index to searching the \"like\""
   ]
  },
  {
   "cell_type": "code",
   "execution_count": 29,
   "id": "bcf6360a",
   "metadata": {},
   "outputs": [
    {
     "name": "stdout",
     "output_type": "stream",
     "text": [
      "2\n",
      "2\n"
     ]
    }
   ],
   "source": [
    "s=\"I like statistics\"\n",
    "\n",
    "print(s.find(\"like\"))\n",
    "print(s.index(\"like\"))"
   ]
  },
  {
   "cell_type": "code",
   "execution_count": 30,
   "id": "83fea9e9",
   "metadata": {},
   "outputs": [
    {
     "name": "stdout",
     "output_type": "stream",
     "text": [
      "-1\n"
     ]
    },
    {
     "ename": "ValueError",
     "evalue": "substring not found",
     "output_type": "error",
     "traceback": [
      "\u001b[1;31m---------------------------------------------------------------------------\u001b[0m",
      "\u001b[1;31mValueError\u001b[0m                                Traceback (most recent call last)",
      "\u001b[1;32mC:\\Users\\SHAILA~1\\AppData\\Local\\Temp/ipykernel_3628/3298323273.py\u001b[0m in \u001b[0;36m<module>\u001b[1;34m\u001b[0m\n\u001b[0;32m      2\u001b[0m \u001b[1;33m\u001b[0m\u001b[0m\n\u001b[0;32m      3\u001b[0m \u001b[0mprint\u001b[0m\u001b[1;33m(\u001b[0m\u001b[0ms\u001b[0m\u001b[1;33m.\u001b[0m\u001b[0mfind\u001b[0m\u001b[1;33m(\u001b[0m\u001b[1;34m\"zoo\"\u001b[0m\u001b[1;33m)\u001b[0m\u001b[1;33m)\u001b[0m\u001b[1;33m\u001b[0m\u001b[1;33m\u001b[0m\u001b[0m\n\u001b[1;32m----> 4\u001b[1;33m \u001b[0mprint\u001b[0m\u001b[1;33m(\u001b[0m\u001b[0ms\u001b[0m\u001b[1;33m.\u001b[0m\u001b[0mindex\u001b[0m\u001b[1;33m(\u001b[0m\u001b[1;34m\"zoo\"\u001b[0m\u001b[1;33m)\u001b[0m\u001b[1;33m)\u001b[0m\u001b[1;33m\u001b[0m\u001b[1;33m\u001b[0m\u001b[0m\n\u001b[0m",
      "\u001b[1;31mValueError\u001b[0m: substring not found"
     ]
    }
   ],
   "source": [
    "# understanding the difference between find() and index()\n",
    "\n",
    "s=\"I like statistics\"\n",
    "\n",
    "print(s.find(\"zoo\"))\n",
    "print(s.index(\"zoo\")) # raise exception"
   ]
  },
  {
   "cell_type": "markdown",
   "id": "027e81ad",
   "metadata": {},
   "source": [
    "### 12) isalnum()\tReturns True if all characters in the string are alphanumeric( alphabets and numbers )"
   ]
  },
  {
   "cell_type": "markdown",
   "id": "93f05c89",
   "metadata": {},
   "source": [
    "The isalnum() method returns True if all the characters are alphanumeric, meaning alphabet letter (a-z) and numbers (0-9).\n",
    "\n",
    "Example of characters that are not alphanumeric: (space)!#%&? etc.\n",
    "\n",
    "Syntax :-\n",
    "\n",
    "string.isalnum()  #No parameters"
   ]
  },
  {
   "cell_type": "code",
   "execution_count": 31,
   "id": "204d78c0",
   "metadata": {},
   "outputs": [
    {
     "name": "stdout",
     "output_type": "stream",
     "text": [
      "True\n"
     ]
    }
   ],
   "source": [
    "s=\"mathematics1729\"\n",
    "print(s.isalnum())"
   ]
  },
  {
   "cell_type": "code",
   "execution_count": 32,
   "id": "fbb3511b",
   "metadata": {},
   "outputs": [
    {
     "name": "stdout",
     "output_type": "stream",
     "text": [
      "True\n"
     ]
    }
   ],
   "source": [
    "s=\"mathematics\"\n",
    "print(s.isalnum())"
   ]
  },
  {
   "cell_type": "code",
   "execution_count": 33,
   "id": "225313d3",
   "metadata": {},
   "outputs": [
    {
     "name": "stdout",
     "output_type": "stream",
     "text": [
      "True\n"
     ]
    }
   ],
   "source": [
    "s=\"1729\"\n",
    "print(s.isalnum())"
   ]
  },
  {
   "cell_type": "code",
   "execution_count": 35,
   "id": "ca671d52",
   "metadata": {},
   "outputs": [
    {
     "name": "stdout",
     "output_type": "stream",
     "text": [
      "False\n"
     ]
    }
   ],
   "source": [
    "s=\"@%$mathematics1729\"\n",
    "print(s.isalnum())"
   ]
  },
  {
   "cell_type": "code",
   "execution_count": 37,
   "id": "3fd4151b",
   "metadata": {},
   "outputs": [
    {
     "name": "stdout",
     "output_type": "stream",
     "text": [
      "False\n"
     ]
    }
   ],
   "source": [
    "s=\"math.sqrt()\"\n",
    "print(s.isalnum())"
   ]
  },
  {
   "cell_type": "code",
   "execution_count": 10,
   "id": "ddd51105",
   "metadata": {},
   "outputs": [
    {
     "name": "stdout",
     "output_type": "stream",
     "text": [
      "False\n"
     ]
    }
   ],
   "source": [
    "s=\"Data science\"\n",
    "print(s.isalnum())"
   ]
  },
  {
   "cell_type": "markdown",
   "id": "e4cfeb1d",
   "metadata": {},
   "source": [
    "### 13)  isalpha() :\tReturns True if all characters in the string are in the alphabet"
   ]
  },
  {
   "cell_type": "markdown",
   "id": "794c37bc",
   "metadata": {},
   "source": [
    "The isalpha() method returns True if all the characters are alphabet letters (a-z).\n",
    "\n",
    "Example of characters that are not alphabet letters: (space)!#%&? etc.\n",
    "\n",
    "Syntax :-\n",
    "\n",
    "string.isalpha()  # No parameters"
   ]
  },
  {
   "cell_type": "code",
   "execution_count": 42,
   "id": "228f795b",
   "metadata": {},
   "outputs": [
    {
     "name": "stdout",
     "output_type": "stream",
     "text": [
      "True\n"
     ]
    }
   ],
   "source": [
    "s=\"statistics\"\n",
    "print(s.isalpha())"
   ]
  },
  {
   "cell_type": "code",
   "execution_count": 43,
   "id": "bb7a2300",
   "metadata": {},
   "outputs": [
    {
     "name": "stdout",
     "output_type": "stream",
     "text": [
      "False\n"
     ]
    }
   ],
   "source": [
    "s=\"statistics123\"\n",
    "print(s.isalpha())"
   ]
  },
  {
   "cell_type": "code",
   "execution_count": 44,
   "id": "1d4ce9d0",
   "metadata": {},
   "outputs": [
    {
     "name": "stdout",
     "output_type": "stream",
     "text": [
      "False\n"
     ]
    }
   ],
   "source": [
    "s=\"1729\"\n",
    "print(s.isalpha())"
   ]
  },
  {
   "cell_type": "code",
   "execution_count": 12,
   "id": "7ace7b3c",
   "metadata": {},
   "outputs": [
    {
     "name": "stdout",
     "output_type": "stream",
     "text": [
      "False\n"
     ]
    }
   ],
   "source": [
    "s=\"statistics and mathematics\"\n",
    "print(s.isalpha())"
   ]
  },
  {
   "cell_type": "markdown",
   "id": "3104ffb5",
   "metadata": {},
   "source": [
    "### 14) isascii() :\tReturns True if all characters in the string are ascii characters"
   ]
  },
  {
   "cell_type": "code",
   "execution_count": 46,
   "id": "b26fe969",
   "metadata": {},
   "outputs": [
    {
     "name": "stdout",
     "output_type": "stream",
     "text": [
      "True\n"
     ]
    }
   ],
   "source": [
    "s=\"stats\"\n",
    "print(s.isascii())"
   ]
  },
  {
   "cell_type": "code",
   "execution_count": 47,
   "id": "c9b06309",
   "metadata": {},
   "outputs": [
    {
     "name": "stdout",
     "output_type": "stream",
     "text": [
      "True\n"
     ]
    }
   ],
   "source": [
    "s=\"stats123\"\n",
    "print(s.isascii())"
   ]
  },
  {
   "cell_type": "code",
   "execution_count": 48,
   "id": "7cbabb59",
   "metadata": {},
   "outputs": [
    {
     "name": "stdout",
     "output_type": "stream",
     "text": [
      "True\n"
     ]
    }
   ],
   "source": [
    "s=\"stats#\"\n",
    "print(s.isascii())"
   ]
  },
  {
   "cell_type": "code",
   "execution_count": 49,
   "id": "d3c1c4ce",
   "metadata": {},
   "outputs": [
    {
     "name": "stdout",
     "output_type": "stream",
     "text": [
      "True\n"
     ]
    }
   ],
   "source": [
    "s=\"stats       \"\n",
    "print(s.isascii())"
   ]
  },
  {
   "cell_type": "code",
   "execution_count": 50,
   "id": "b91a3453",
   "metadata": {},
   "outputs": [
    {
     "ename": "SyntaxError",
     "evalue": "EOL while scanning string literal (Temp/ipykernel_3628/2526671661.py, line 1)",
     "output_type": "error",
     "traceback": [
      "\u001b[1;36m  File \u001b[1;32m\"C:\\Users\\SHAILA~1\\AppData\\Local\\Temp/ipykernel_3628/2526671661.py\"\u001b[1;36m, line \u001b[1;32m1\u001b[0m\n\u001b[1;33m    s=\"s=\"'Hêllo Wörld'\"\u001b[0m\n\u001b[1;37m                        ^\u001b[0m\n\u001b[1;31mSyntaxError\u001b[0m\u001b[1;31m:\u001b[0m EOL while scanning string literal\n"
     ]
    }
   ],
   "source": [
    "s=\"s=\"'Hêllo Wörld'\"\n",
    "print(s.isascii())  # gives error"
   ]
  },
  {
   "cell_type": "markdown",
   "id": "db4375b6",
   "metadata": {},
   "source": [
    "### 15) isdecimal() :\tReturns True if all characters in the string are decimals"
   ]
  },
  {
   "cell_type": "markdown",
   "id": "615a31f3",
   "metadata": {},
   "source": [
    "The isdecimal() method returns True if all the characters are decimals (0-9).\n",
    "\n",
    "This method is used on unicode objects.\n",
    "\n",
    "Syntax :-\n",
    "string.isdecimal()"
   ]
  },
  {
   "cell_type": "code",
   "execution_count": 3,
   "id": "bee96399",
   "metadata": {},
   "outputs": [
    {
     "name": "stdout",
     "output_type": "stream",
     "text": [
      "True\n",
      "False\n"
     ]
    }
   ],
   "source": [
    "a = \"\\u0030\" #unicode for 0\n",
    "b = \"\\u00B2\" #unicode for ²\n",
    "\n",
    "print(a.isdecimal())\n",
    "print(b.isdecimal())"
   ]
  },
  {
   "cell_type": "markdown",
   "id": "ed61c560",
   "metadata": {},
   "source": [
    "### 16) isdigit(): Returns True if all characters in the string are digits"
   ]
  },
  {
   "cell_type": "markdown",
   "id": "c1c8a8c6",
   "metadata": {},
   "source": [
    "The isdigit() method returns True if all the characters are digits, otherwise False.\n",
    "\n",
    "Exponents, like ², are also considered to be a digit.\n",
    "\n",
    "Syntax :-\n",
    "\n",
    "string.isdigit()"
   ]
  },
  {
   "cell_type": "code",
   "execution_count": 6,
   "id": "fafd6942",
   "metadata": {},
   "outputs": [
    {
     "name": "stdout",
     "output_type": "stream",
     "text": [
      "True\n"
     ]
    }
   ],
   "source": [
    "s=\"02998378\"\n",
    "print(s.isdigit())"
   ]
  },
  {
   "cell_type": "code",
   "execution_count": 56,
   "id": "8d5ebb1c",
   "metadata": {},
   "outputs": [
    {
     "name": "stdout",
     "output_type": "stream",
     "text": [
      "False\n"
     ]
    }
   ],
   "source": [
    "s=\"python\"\n",
    "print(s.isdigit())"
   ]
  },
  {
   "cell_type": "code",
   "execution_count": 57,
   "id": "02c260cd",
   "metadata": {},
   "outputs": [
    {
     "name": "stdout",
     "output_type": "stream",
     "text": [
      "False\n"
     ]
    }
   ],
   "source": [
    "s=\"python3\"\n",
    "print(s.isdigit())"
   ]
  },
  {
   "cell_type": "code",
   "execution_count": 58,
   "id": "de83cec1",
   "metadata": {},
   "outputs": [
    {
     "name": "stdout",
     "output_type": "stream",
     "text": [
      "True\n",
      "True\n"
     ]
    }
   ],
   "source": [
    "a = \"\\u0030\" #unicode for 0\n",
    "b = \"\\u00B2\" #unicode for ²\n",
    "\n",
    "print(a.isdigit())\n",
    "print(b.isdigit())"
   ]
  },
  {
   "cell_type": "markdown",
   "id": "687fd787",
   "metadata": {},
   "source": [
    "### 17) isidentifier() :\tReturns True if the string is an identifier"
   ]
  },
  {
   "cell_type": "markdown",
   "id": "5ccf7620",
   "metadata": {},
   "source": [
    "The isidentifier() method returns True if the string is a valid identifier, otherwise False.\n",
    "\n",
    "A string is considered a valid identifier if it only contains alphanumeric letters (a-z) and (0-9), or underscores (_). A valid identifier cannot start with a number, or contain any spaces.\n",
    "\n",
    "Syntax :-\n",
    "\n",
    "string.isidentifier()"
   ]
  },
  {
   "cell_type": "code",
   "execution_count": 15,
   "id": "eb15ab78",
   "metadata": {},
   "outputs": [
    {
     "name": "stdout",
     "output_type": "stream",
     "text": [
      "True\n",
      "True\n",
      "True\n",
      "False\n",
      "False\n",
      "True\n",
      "False\n"
     ]
    }
   ],
   "source": [
    "a=\"variable123\"\n",
    "print(a.isidentifier())\n",
    "\n",
    "a=\"variable123\"\n",
    "print(a.isidentifier())\n",
    "a=\"variable_1\"\n",
    "print(a.isidentifier())\n",
    "a=\"variable 1\"\n",
    "print(a.isidentifier())\n",
    "a=\"1variable\"\n",
    "print(a.isidentifier())\n",
    "a=\"_variable\"\n",
    "print(a.isidentifier())\n",
    "a=\"@variable\"\n",
    "print(a.isidentifier())"
   ]
  },
  {
   "cell_type": "markdown",
   "id": "4f3b17d1",
   "metadata": {},
   "source": [
    "### 18) islower() :\tReturns True if all characters in the string are lower case"
   ]
  },
  {
   "cell_type": "markdown",
   "id": "70f79941",
   "metadata": {},
   "source": [
    "The islower() method returns True if all the characters are in lower case, otherwise False.\n",
    "\n",
    "Numbers, symbols and spaces are not checked, only alphabet characters.\n",
    "\n",
    "Syntax :-\n",
    "\n",
    "string.islower()"
   ]
  },
  {
   "cell_type": "code",
   "execution_count": 71,
   "id": "5090a735",
   "metadata": {},
   "outputs": [
    {
     "name": "stdout",
     "output_type": "stream",
     "text": [
      "True\n",
      "True\n",
      "False\n",
      "False\n"
     ]
    }
   ],
   "source": [
    "a=\"mathematics\"\n",
    "print(s.islower())\n",
    "b=\"mathematics 123\"\n",
    "print(b.islower())\n",
    "c=\"Mathematics\"\n",
    "print(c.islower())\n",
    "d=\"MATHEMATICS\"\n",
    "print(d.islower())"
   ]
  },
  {
   "cell_type": "markdown",
   "id": "8629390c",
   "metadata": {},
   "source": [
    "### 19) isnumeric() :\tReturns True if all characters in the string are numeric"
   ]
  },
  {
   "cell_type": "markdown",
   "id": "1817f918",
   "metadata": {},
   "source": [
    "The isnumeric() method returns True if all the characters are numeric (0-9), otherwise False.\n",
    "\n",
    "Exponents, like ² and ¾ are also considered to be numeric values.\n",
    "\n",
    "\"-1\" and \"1.5\" are NOT considered numeric values, because all the characters in the string must be numeric, and the - and the . are not.\n",
    "\n",
    "Syntax :-\n",
    "\n",
    "string.isnumeric()"
   ]
  },
  {
   "cell_type": "code",
   "execution_count": 75,
   "id": "529267c6",
   "metadata": {},
   "outputs": [
    {
     "name": "stdout",
     "output_type": "stream",
     "text": [
      "True\n",
      "False\n",
      "False\n",
      "False\n"
     ]
    }
   ],
   "source": [
    "a=\"1729\"\n",
    "print(a.isnumeric())\n",
    "b=\"mathematics1729\"\n",
    "print(b.isnumeric())\n",
    "c=\"1729.0\"\n",
    "print(c.isnumeric())\n",
    "c=\"-1729\"\n",
    "print(c.isnumeric())"
   ]
  },
  {
   "cell_type": "code",
   "execution_count": 76,
   "id": "3aa475de",
   "metadata": {},
   "outputs": [
    {
     "name": "stdout",
     "output_type": "stream",
     "text": [
      "True\n",
      "True\n",
      "False\n",
      "False\n",
      "False\n"
     ]
    }
   ],
   "source": [
    "a = \"\\u0030\" #unicode for 0\n",
    "b = \"\\u00B2\" #unicode for &sup2;\n",
    "c = \"10km2\"\n",
    "d = \"-1\"\n",
    "e = \"1.5\"\n",
    "\n",
    "print(a.isnumeric())\n",
    "print(b.isnumeric())\n",
    "print(c.isnumeric())\n",
    "print(d.isnumeric())\n",
    "print(e.isnumeric())"
   ]
  },
  {
   "cell_type": "markdown",
   "id": "194a296e",
   "metadata": {},
   "source": [
    "### 20) isprintable() :\tReturns True if all characters in the string are printable"
   ]
  },
  {
   "cell_type": "markdown",
   "id": "e36f40fb",
   "metadata": {},
   "source": [
    "The isprintable() method returns True if all the characters are printable, otherwise False.\n",
    "\n",
    "Example of none printable character can be carriage return and line feed.\n",
    "\n",
    "Syntax :-\n",
    "\n",
    "string.isprintable()"
   ]
  },
  {
   "cell_type": "code",
   "execution_count": 79,
   "id": "bd785f86",
   "metadata": {},
   "outputs": [
    {
     "name": "stdout",
     "output_type": "stream",
     "text": [
      "True\n",
      "True\n",
      "False\n",
      "False\n"
     ]
    }
   ],
   "source": [
    "s=\"I like statistics\"\n",
    "print(s.isprintable())\n",
    "\n",
    "s=\"I like statistics...............\"\n",
    "print(s.isprintable())\n",
    "\n",
    "s=\"I\\t like statistics\"\n",
    "print(s.isprintable())\n",
    "\n",
    "s=\"I\\n like statistics\"\n",
    "print(s.isprintable())"
   ]
  },
  {
   "cell_type": "markdown",
   "id": "a6a691b0",
   "metadata": {},
   "source": [
    "### 21) isspace() :\tReturns True if all characters in the string are whitespaces"
   ]
  },
  {
   "cell_type": "markdown",
   "id": "8734d548",
   "metadata": {},
   "source": [
    "The isspace() method returns True if all the characters in a string are whitespaces, otherwise False.\n",
    "\n",
    "Syntax :-\n",
    "\n",
    "string.isspace()"
   ]
  },
  {
   "cell_type": "code",
   "execution_count": 83,
   "id": "257bf01e",
   "metadata": {},
   "outputs": [
    {
     "name": "stdout",
     "output_type": "stream",
     "text": [
      "False\n",
      "False\n",
      "True\n",
      "False\n"
     ]
    }
   ],
   "source": [
    "s=\"python\"\n",
    "print(s.isspace())\n",
    "\n",
    "s=\"data science\"\n",
    "print(s.isspace())\n",
    "\n",
    "s=\"    \"\n",
    "print(s.isspace())\n",
    "s=\"       s        \"\n",
    "print(s.isspace())"
   ]
  },
  {
   "cell_type": "markdown",
   "id": "c0a73622",
   "metadata": {},
   "source": [
    "### 22) istitle() :\tReturns True if the string follows the rules of a title"
   ]
  },
  {
   "cell_type": "markdown",
   "id": "6d1f5127",
   "metadata": {},
   "source": [
    "The istitle() method returns True if all words in a text start with a upper case letter, AND the rest of the word are lower case letters, otherwise False.\n",
    "\n",
    "Symbols and numbers are ignored.\n",
    "\n",
    "Syntax :\n",
    "\n",
    "string.istitle()"
   ]
  },
  {
   "cell_type": "code",
   "execution_count": 84,
   "id": "52654d33",
   "metadata": {},
   "outputs": [
    {
     "name": "stdout",
     "output_type": "stream",
     "text": [
      "False\n",
      "True\n",
      "True\n",
      "True\n"
     ]
    }
   ],
   "source": [
    "a = \"HELLO, AND WELCOME TO MY WORLD\"\n",
    "b = \"Hello\"\n",
    "c = \"22 Names\"\n",
    "d = \"This Is %'!?\"\n",
    "\n",
    "print(a.istitle())\n",
    "print(b.istitle())\n",
    "print(c.istitle())\n",
    "print(d.istitle())"
   ]
  },
  {
   "cell_type": "markdown",
   "id": "c29e0e51",
   "metadata": {},
   "source": [
    "### 23) isupper() :\tReturns True if all characters in the string are upper case"
   ]
  },
  {
   "cell_type": "markdown",
   "id": "4edffd1c",
   "metadata": {},
   "source": [
    "The isupper() method returns True if all the characters are in upper case, otherwise False.\n",
    "\n",
    "Numbers, symbols and spaces are not checked, only alphabet characters.\n",
    "\n",
    "Syntax :-\n",
    "\n",
    "string.isupper()"
   ]
  },
  {
   "cell_type": "code",
   "execution_count": 89,
   "id": "a96305b8",
   "metadata": {},
   "outputs": [
    {
     "name": "stdout",
     "output_type": "stream",
     "text": [
      "True\n",
      "False\n",
      "True\n"
     ]
    }
   ],
   "source": [
    "s=\"STATISTICS\"\n",
    "print(s.isupper())\n",
    "\n",
    "s=\"Statistics\"\n",
    "print(s.isupper())\n",
    "\n",
    "s=\"STATISTICS 123\"\n",
    "print(s.isupper())"
   ]
  },
  {
   "cell_type": "markdown",
   "id": "6bfbf2ad",
   "metadata": {},
   "source": [
    "### 24) join() : Converts the elements of an iterable into a string"
   ]
  },
  {
   "cell_type": "markdown",
   "id": "0b9b9e79",
   "metadata": {},
   "source": [
    "The join() method takes all items in an iterable and joins them into one string.\n",
    "\n",
    "A string must be specified as the separator.\n",
    "\n",
    "Syntax :-\n",
    "\n",
    "string.join(iterable)"
   ]
  },
  {
   "cell_type": "code",
   "execution_count": 6,
   "id": "9493cc24",
   "metadata": {},
   "outputs": [
    {
     "name": "stdout",
     "output_type": "stream",
     "text": [
      "M-A-T-H-E-M-A-T-I-C-S\n",
      "M (statistics) A (statistics) T (statistics) H (statistics) E (statistics) M (statistics) A (statistics) T (statistics) I (statistics) C (statistics) S\n"
     ]
    }
   ],
   "source": [
    "s=\" (statistics) \"\n",
    "m=\"MATHEMATICS\"\n",
    "print(\"-\".join(m))\n",
    "print(s.join(m))\n"
   ]
  },
  {
   "cell_type": "code",
   "execution_count": 13,
   "id": "6174c618",
   "metadata": {},
   "outputs": [
    {
     "name": "stdout",
     "output_type": "stream",
     "text": [
      "AaaaaaaaB\n",
      "Aaaa bbbB\n",
      "P$y$t$h$o$n\n",
      "P.y.t.h.o.n\n"
     ]
    }
   ],
   "source": [
    "d={\"A\":1,\"B\":2}\n",
    "d1={1:\"A\",2:\"B\"}\n",
    "s=\"aaaaaaa\"\n",
    "print(s.join(d))\n",
    "#print(s.join(d1))  # Error\n",
    "\n",
    "d={\"A\":1,\"B\":2}\n",
    "s=\"aaa bbb\"\n",
    "print(s.join(d))\n",
    "\n",
    "\n",
    "print(\"$\".join(\"Python\"))\n",
    "print(\".\".join(\"Python\"))"
   ]
  },
  {
   "cell_type": "code",
   "execution_count": 17,
   "id": "b617dc6e",
   "metadata": {},
   "outputs": [
    {
     "name": "stdout",
     "output_type": "stream",
     "text": [
      "python\n"
     ]
    }
   ],
   "source": [
    "l=[\"p\",\"y\",\"t\",\"h\",\"o\",\"n\"]\n",
    "print(\"\".join(l))"
   ]
  },
  {
   "cell_type": "markdown",
   "id": "b9b4ab8f",
   "metadata": {},
   "source": [
    "### 25) ljust() :\tReturns a left justified version of the string"
   ]
  },
  {
   "cell_type": "markdown",
   "id": "1cc900e3",
   "metadata": {},
   "source": [
    "The ljust() method will left align the string, using a specified character (space is default) as the fill character.\n",
    "\n",
    "Syntax :\n",
    "\n",
    "string.ljust(length, character)\n",
    "\n",
    "\n",
    "Parameter AND\tDescription\n",
    "\n",
    "length :\tRequired. The length of the returned string\n",
    "\n",
    "character :\tOptional. A character to fill the missing space (to the right of the string). Default is \" \" (space).\n"
   ]
  },
  {
   "cell_type": "code",
   "execution_count": 19,
   "id": "3d43f4d1",
   "metadata": {},
   "outputs": [
    {
     "name": "stdout",
     "output_type": "stream",
     "text": [
      "Python@@@@@@@@@@@@@@\n"
     ]
    }
   ],
   "source": [
    "s=\"Python\"\n",
    "print(s.ljust(20,\"@\"))"
   ]
  },
  {
   "cell_type": "markdown",
   "id": "9d87b6ab",
   "metadata": {},
   "source": [
    "### 26) lower()\t: Converts a string into lower case"
   ]
  },
  {
   "cell_type": "markdown",
   "id": "36276fcb",
   "metadata": {},
   "source": [
    "The lower() method returns a string where all characters are lower case.\n",
    "\n",
    " Symbols and Numbers are ignored.\n",
    "\n",
    "Syntax :-\n",
    "\n",
    "string.lower()"
   ]
  },
  {
   "cell_type": "code",
   "execution_count": 22,
   "id": "f315d8e9",
   "metadata": {},
   "outputs": [
    {
     "name": "stdout",
     "output_type": "stream",
     "text": [
      "python\n",
      "python\n",
      "mathematics 1729\n",
      "mathematics 1729\n"
     ]
    }
   ],
   "source": [
    "s=\"Python\"\n",
    "print(s.lower())\n",
    "\n",
    "s=\"PYTHON\"\n",
    "print(s.lower())\n",
    "\n",
    "s=\"Mathematics 1729\"\n",
    "print(s.lower())\n",
    "\n",
    "s=\"MATHEMATICS 1729\"\n",
    "print(s.lower())"
   ]
  },
  {
   "cell_type": "markdown",
   "id": "ef0a9753",
   "metadata": {},
   "source": [
    "### 27) lstrip() :\tReturns a left trim version of the string"
   ]
  },
  {
   "cell_type": "markdown",
   "id": "e89bec98",
   "metadata": {},
   "source": [
    "The lstrip() method removes any leading characters (space is the default leading character to remove)\n",
    "\n",
    "Syntax :-\n",
    "\n",
    "string.lstrip(characters)"
   ]
  },
  {
   "cell_type": "code",
   "execution_count": 23,
   "id": "6e48f218",
   "metadata": {},
   "outputs": [
    {
     "name": "stdout",
     "output_type": "stream",
     "text": [
      "Hi\n",
      "Hi.................\n",
      "Hi\n",
      ".............................Hi\n"
     ]
    }
   ],
   "source": [
    "s=\".............................Hi\"\n",
    "print(s.lstrip(\".\"))\n",
    "\n",
    "x=\"......Hi.................\"\n",
    "print(x.lstrip(\".\"))\n",
    "\n",
    "y=\"........,,,,,,,,,@@@@ssss   Hi\"\n",
    "print(y.lstrip(\".,@ s\"))\n",
    "\n",
    "print(s.lstrip(\",\"))"
   ]
  },
  {
   "cell_type": "markdown",
   "id": "d2fa2b17",
   "metadata": {},
   "source": [
    "### 28) maketrans() :\tReturns a translation table to be used in translations"
   ]
  },
  {
   "cell_type": "markdown",
   "id": "239c82a1",
   "metadata": {},
   "source": [
    "The maketrans() method returns a mapping table that can be used with the translate() method to replace specified characters.\n",
    "\n",
    "Syntax :-\n",
    "\n",
    "string.maketrans(x, y, z)\n",
    "\n",
    "Parameter and\tDescription :-\n",
    "\n",
    "x :\tRequired. If only one parameter is specified, this has to be a dictionary describing how to perform the replace. If two or more parameters are specified, this parameter has to be a string specifying the characters you want to replace.\n",
    "\n",
    "y :\tOptional. A string with the same length as parameter x. Each character in the first parameter will be replaced with the corresponding character in this string.\n",
    "\n",
    "z :\tOptional. A string describing which characters to remove from the original string.\n"
   ]
  },
  {
   "cell_type": "code",
   "execution_count": 24,
   "id": "aff9ea35",
   "metadata": {},
   "outputs": [
    {
     "name": "stdout",
     "output_type": "stream",
     "text": [
      "Hello World\n"
     ]
    }
   ],
   "source": [
    "s = \"Hello world\"\n",
    "a = s.maketrans(\"w\", \"W\")\n",
    "print(s.translate(a))"
   ]
  },
  {
   "cell_type": "code",
   "execution_count": 32,
   "id": "a1b35754",
   "metadata": {},
   "outputs": [
    {
     "name": "stdout",
     "output_type": "stream",
     "text": [
      "{83: 80}\n",
      "83\n",
      "80\n"
     ]
    }
   ],
   "source": [
    "s = \"Hello Sam!\"\n",
    "print(s.maketrans(\"S\", \"P\"))\n",
    "\n",
    "print(ord(\"S\"))\n",
    "print(ord(\"P\"))\n"
   ]
  },
  {
   "cell_type": "code",
   "execution_count": 34,
   "id": "78123546",
   "metadata": {},
   "outputs": [
    {
     "ename": "ValueError",
     "evalue": "the first two maketrans arguments must have equal length",
     "output_type": "error",
     "traceback": [
      "\u001b[1;31m---------------------------------------------------------------------------\u001b[0m",
      "\u001b[1;31mValueError\u001b[0m                                Traceback (most recent call last)",
      "\u001b[1;32mC:\\Users\\SHAILA~1\\AppData\\Local\\Temp/ipykernel_740/2142439215.py\u001b[0m in \u001b[0;36m<module>\u001b[1;34m\u001b[0m\n\u001b[0;32m      1\u001b[0m \u001b[0ms\u001b[0m \u001b[1;33m=\u001b[0m \u001b[1;34m\"Hello Sam!\"\u001b[0m\u001b[1;33m\u001b[0m\u001b[1;33m\u001b[0m\u001b[0m\n\u001b[1;32m----> 2\u001b[1;33m \u001b[0mprint\u001b[0m\u001b[1;33m(\u001b[0m\u001b[0ms\u001b[0m\u001b[1;33m.\u001b[0m\u001b[0mmaketrans\u001b[0m\u001b[1;33m(\u001b[0m\u001b[1;34m\"S\"\u001b[0m\u001b[1;33m,\u001b[0m \u001b[1;34m\"Pa\"\u001b[0m\u001b[1;33m)\u001b[0m\u001b[1;33m)\u001b[0m  \u001b[1;31m# Error\u001b[0m\u001b[1;33m\u001b[0m\u001b[1;33m\u001b[0m\u001b[0m\n\u001b[0m",
      "\u001b[1;31mValueError\u001b[0m: the first two maketrans arguments must have equal length"
     ]
    }
   ],
   "source": [
    "s = \"Hello Sam!\"\n",
    "print(s.maketrans(\"S\", \"Pa\"))  # Error"
   ]
  },
  {
   "cell_type": "code",
   "execution_count": 133,
   "id": "96d22739",
   "metadata": {},
   "outputs": [
    {
     "name": "stdout",
     "output_type": "stream",
     "text": [
      "Hi Joe!\n"
     ]
    }
   ],
   "source": [
    "txt = \"Hi Sam!\"\n",
    "\n",
    "x = \"mSa\"\n",
    "y = \"eJo\"\n",
    "\n",
    "mytable = txt.maketrans(x, y)\n",
    "\n",
    "print(txt.translate(mytable))"
   ]
  },
  {
   "cell_type": "code",
   "execution_count": 1,
   "id": "3bf7a10a",
   "metadata": {},
   "outputs": [
    {
     "name": "stdout",
     "output_type": "stream",
     "text": [
      "{109: 101, 83: 74, 97: 111}\n"
     ]
    }
   ],
   "source": [
    "txt = \"Hi Sam!\"\n",
    "\n",
    "x = \"mSa\"\n",
    "y = \"eJo\"\n",
    "\n",
    "print(txt.maketrans(x, y))"
   ]
  },
  {
   "cell_type": "markdown",
   "id": "8b9f3150",
   "metadata": {},
   "source": [
    "# Split()"
   ]
  },
  {
   "cell_type": "code",
   "execution_count": 7,
   "id": "899fcced",
   "metadata": {},
   "outputs": [
    {
     "name": "stdout",
     "output_type": "stream",
     "text": [
      "['python', 'progam']\n"
     ]
    }
   ],
   "source": [
    "s=\"python progam\"\n",
    "print(s.split())"
   ]
  },
  {
   "cell_type": "code",
   "execution_count": 48,
   "id": "b441d3d1",
   "metadata": {},
   "outputs": [
    {
     "name": "stdout",
     "output_type": "stream",
     "text": [
      "['p', 'y', 't', 'h', 'o', 'n']\n"
     ]
    }
   ],
   "source": [
    "s=\"p,y,t,h,o,n\"\n",
    "print(s.split(\",\"))"
   ]
  },
  {
   "cell_type": "code",
   "execution_count": 47,
   "id": "e9c12d99",
   "metadata": {},
   "outputs": [
    {
     "name": "stdout",
     "output_type": "stream",
     "text": [
      "['p', 'y', 't', 'h', 'o', 'n']\n"
     ]
    }
   ],
   "source": [
    "s=\"p y t h o n\"\n",
    "print(s.split())"
   ]
  },
  {
   "cell_type": "code",
   "execution_count": 43,
   "id": "46030903",
   "metadata": {},
   "outputs": [
    {
     "name": "stdout",
     "output_type": "stream",
     "text": [
      "['py', 'hon']\n"
     ]
    }
   ],
   "source": [
    "s=\"python\"\n",
    "print(s.split(\"t\"))"
   ]
  },
  {
   "cell_type": "code",
   "execution_count": 44,
   "id": "cfce70a5",
   "metadata": {},
   "outputs": [
    {
     "name": "stdout",
     "output_type": "stream",
     "text": [
      "['pyth', 'n']\n"
     ]
    }
   ],
   "source": [
    "s=\"python\"\n",
    "print(s.split(\"o\"))"
   ]
  },
  {
   "cell_type": "code",
   "execution_count": 45,
   "id": "c370ef9f",
   "metadata": {},
   "outputs": [
    {
     "name": "stdout",
     "output_type": "stream",
     "text": [
      "['Python', 'is', 'a', 'easy', 'programming']\n"
     ]
    }
   ],
   "source": [
    "s=\"Python is a easy programming\"\n",
    "print(s.split())"
   ]
  },
  {
   "cell_type": "code",
   "execution_count": 46,
   "id": "10279fcf",
   "metadata": {},
   "outputs": [
    {
     "name": "stdout",
     "output_type": "stream",
     "text": [
      "['Pytho', ' is a easy programmi', 'g']\n"
     ]
    }
   ],
   "source": [
    "s=\"Python is a easy programming\"\n",
    "print(s.split(\"n\"))"
   ]
  },
  {
   "cell_type": "markdown",
   "id": "3db65a52",
   "metadata": {},
   "source": []
  }
 ],
 "metadata": {
  "kernelspec": {
   "display_name": "Python 3 (ipykernel)",
   "language": "python",
   "name": "python3"
  },
  "language_info": {
   "codemirror_mode": {
    "name": "ipython",
    "version": 3
   },
   "file_extension": ".py",
   "mimetype": "text/x-python",
   "name": "python",
   "nbconvert_exporter": "python",
   "pygments_lexer": "ipython3",
   "version": "3.9.13"
  }
 },
 "nbformat": 4,
 "nbformat_minor": 5
}
