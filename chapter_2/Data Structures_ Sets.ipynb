{
 "cells": [
  {
   "cell_type": "markdown",
   "id": "c37429a7",
   "metadata": {},
   "source": [
    "# Python Sets(immutable)\n",
    "\n",
    "Sets are used to store multiple items in a single variable.\n",
    "\n",
    "A set is a collection which is unordered, unchangeable*, and unindexed."
   ]
  },
  {
   "cell_type": "markdown",
   "id": "c3ea484d",
   "metadata": {},
   "source": [
    "# Creating a Set\n",
    "Sets can be created by using the built-in set() function with an iterable object or a sequence by placing the sequence inside curly braces, separated by a ‘comma’.\n",
    "\n",
    "\n",
    "Sets are written with curly brackets."
   ]
  },
  {
   "cell_type": "code",
   "execution_count": 1,
   "id": "e4a3ba42",
   "metadata": {},
   "outputs": [
    {
     "name": "stdout",
     "output_type": "stream",
     "text": [
      "{'cherry', 'apple', 'banana'}\n"
     ]
    }
   ],
   "source": [
    "# Create a Set\n",
    "thisset = {\"apple\", \"banana\", \"cherry\"}\n",
    "print(thisset)"
   ]
  },
  {
   "cell_type": "markdown",
   "id": "e98991c1",
   "metadata": {},
   "source": [
    "# Set Items\n",
    "Set items are unordered, unchangeable, and do not allow duplicate values."
   ]
  },
  {
   "cell_type": "markdown",
   "id": "b82faf02",
   "metadata": {},
   "source": [
    "# Unordered\n",
    "Unordered means that the items in a set do not have a defined order.\n",
    "\n",
    "Set items can appear in a different order every time you use them, and cannot be referred to by index or key."
   ]
  },
  {
   "cell_type": "markdown",
   "id": "5fd23d35",
   "metadata": {},
   "source": [
    "# Unchangeable\n",
    "Set items are unchangeable, meaning that we cannot change the items after the set has been created."
   ]
  },
  {
   "cell_type": "markdown",
   "id": "b19c0ce1",
   "metadata": {},
   "source": [
    "# Duplicates Not Allowed\n",
    "Sets cannot have two items with the same value."
   ]
  },
  {
   "cell_type": "code",
   "execution_count": 3,
   "id": "dad65527",
   "metadata": {},
   "outputs": [
    {
     "name": "stdout",
     "output_type": "stream",
     "text": [
      "{'cherry', 'apple', 'banana'}\n"
     ]
    }
   ],
   "source": [
    "# Duplicate values will be ignored:\n",
    "thisset = {\"apple\", \"banana\", \"cherry\", \"apple\"}\n",
    "\n",
    "print(thisset)\n"
   ]
  },
  {
   "cell_type": "markdown",
   "id": "9714e25c",
   "metadata": {},
   "source": [
    "# Get the Length of a Set\n",
    "To determine how many items a set has, use the len() function."
   ]
  },
  {
   "cell_type": "code",
   "execution_count": 1,
   "id": "2bd8cfd6",
   "metadata": {},
   "outputs": [
    {
     "name": "stdout",
     "output_type": "stream",
     "text": [
      "3\n"
     ]
    }
   ],
   "source": [
    "# Get the number of items in a set\n",
    "thisset = {\"apple\", \"banana\", \"cherry\"}\n",
    "\n",
    "print(len(thisset))\n"
   ]
  },
  {
   "cell_type": "markdown",
   "id": "52bba1b2",
   "metadata": {},
   "source": [
    "# Set Items - Data Types\n",
    "Set items can be of any data type:"
   ]
  },
  {
   "cell_type": "code",
   "execution_count": 6,
   "id": "16695724",
   "metadata": {},
   "outputs": [
    {
     "name": "stdout",
     "output_type": "stream",
     "text": [
      "{'cherry', 'apple', 'banana'}\n",
      "{1, 3, 5, 7, 9}\n",
      "{False, True}\n"
     ]
    }
   ],
   "source": [
    "# String, int and boolean data types:\n",
    "set1 = {\"apple\", \"banana\", \"cherry\"}\n",
    "set2 = {1, 5, 7, 9, 3}\n",
    "set3 = {True, False, False}\n",
    "print(set1)\n",
    "print(set2)\n",
    "print(set3)"
   ]
  },
  {
   "cell_type": "code",
   "execution_count": 7,
   "id": "db8a2fda",
   "metadata": {},
   "outputs": [
    {
     "name": "stdout",
     "output_type": "stream",
     "text": [
      "{True, 34, 'male', 'abc', 40}\n"
     ]
    }
   ],
   "source": [
    "# A set can contain different data types:\n",
    "# A set with strings, integers and boolean values:\n",
    "set1 = {\"abc\", 34, True, 40, \"male\"}\n",
    "print(set1)"
   ]
  },
  {
   "cell_type": "code",
   "execution_count": 8,
   "id": "c3ed1435",
   "metadata": {},
   "outputs": [
    {
     "name": "stdout",
     "output_type": "stream",
     "text": [
      "<class 'set'>\n"
     ]
    }
   ],
   "source": [
    "# type()\n",
    "# What is the data type of a set?\n",
    "\n",
    "myset = {\"apple\", \"banana\", \"cherry\"}\n",
    "print(type(myset))"
   ]
  },
  {
   "cell_type": "markdown",
   "id": "852f0d2d",
   "metadata": {},
   "source": [
    "# The set() Constructor\n",
    "It is also possible to use the set() constructor to make a set."
   ]
  },
  {
   "cell_type": "code",
   "execution_count": 9,
   "id": "4e2ae90b",
   "metadata": {},
   "outputs": [
    {
     "name": "stdout",
     "output_type": "stream",
     "text": [
      "{'cherry', 'apple', 'banana'}\n"
     ]
    }
   ],
   "source": [
    "# Using the set() constructor to make a set\n",
    "thisset = set((\"apple\", \"banana\", \"cherry\")) # note the double round-brackets\n",
    "print(thisset)\n"
   ]
  },
  {
   "cell_type": "markdown",
   "id": "5225a85e",
   "metadata": {},
   "source": [
    "# Python - Access Set Items\n",
    "\n",
    "Access Items\n",
    "\n",
    "You cannot access items in a set by referring to an index or a key.\n",
    "\n",
    "\n",
    "But you can loop through the set items using a for loop, or ask if a specified \n",
    "\n",
    "value is present in a set, by using the in keyword.\n"
   ]
  },
  {
   "cell_type": "code",
   "execution_count": 10,
   "id": "1519beac",
   "metadata": {},
   "outputs": [
    {
     "name": "stdout",
     "output_type": "stream",
     "text": [
      "cherry\n",
      "apple\n",
      "banana\n"
     ]
    }
   ],
   "source": [
    "# Loop through the set, and print the values:\n",
    "thisset = {\"apple\", \"banana\", \"cherry\"}\n",
    "\n",
    "for x in thisset:\n",
    "  print(x)"
   ]
  },
  {
   "cell_type": "code",
   "execution_count": 2,
   "id": "e215dc43",
   "metadata": {},
   "outputs": [
    {
     "name": "stdout",
     "output_type": "stream",
     "text": [
      "Yes, 'apple' is in the fruits set\n"
     ]
    }
   ],
   "source": [
    "thisset = {\"apple\", \"banana\", \"cherry\"}\n",
    "if \"apple\" in thisset:\n",
    "  print(\"Yes, 'apple' is in the fruits set\")"
   ]
  },
  {
   "cell_type": "code",
   "execution_count": 12,
   "id": "678ed406",
   "metadata": {},
   "outputs": [
    {
     "name": "stdout",
     "output_type": "stream",
     "text": [
      "True\n"
     ]
    }
   ],
   "source": [
    "# Check if \"banana\" is present in the set:\n",
    "thisset = {\"apple\", \"banana\", \"cherry\"}\n",
    "\n",
    "print(\"banana\" in thisset)"
   ]
  },
  {
   "cell_type": "markdown",
   "id": "1fc5d376",
   "metadata": {},
   "source": [
    "# Python - Add Set Items\n",
    "\n",
    "Add Items\n",
    "\n",
    "Once a set is created, you cannot change its items, but you can add new items.\n",
    "\n",
    "To add one item to a set use the add() method."
   ]
  },
  {
   "cell_type": "code",
   "execution_count": 3,
   "id": "7cf62a4c",
   "metadata": {},
   "outputs": [
    {
     "name": "stdout",
     "output_type": "stream",
     "text": [
      "{'banana', 'cherry', 12, 'apple'}\n"
     ]
    }
   ],
   "source": [
    "# Add an item to a set, using the add() method\n",
    "thisset = {\"apple\", \"banana\", \"cherry\"}\n",
    "\n",
    "thisset.add(12)\n",
    "\n",
    "print(thisset)"
   ]
  },
  {
   "cell_type": "markdown",
   "id": "2da13817",
   "metadata": {},
   "source": [
    "# Add Sets\n",
    "To add items from another set into the current set, use the update() method."
   ]
  },
  {
   "cell_type": "code",
   "execution_count": 15,
   "id": "f2eb93e3",
   "metadata": {},
   "outputs": [
    {
     "name": "stdout",
     "output_type": "stream",
     "text": [
      "{'pineapple', 'apple', 'papaya', 'banana', 'mango', 'cherry'}\n"
     ]
    }
   ],
   "source": [
    "x = {\"apple\", \"banana\", \"cherry\"}\n",
    "y = {\"pineapple\", \"mango\", \"papaya\"}\n",
    "\n",
    "x.update(y)\n",
    "\n",
    "print(x)"
   ]
  },
  {
   "cell_type": "markdown",
   "id": "47fba2dc",
   "metadata": {},
   "source": [
    "# Add Any Iterable\n",
    "The object in the update() method does not have to be a set, it can be any iterable object (tuples, lists, dictionaries etc.)."
   ]
  },
  {
   "cell_type": "code",
   "execution_count": 16,
   "id": "a3be49c8",
   "metadata": {},
   "outputs": [
    {
     "name": "stdout",
     "output_type": "stream",
     "text": [
      "{'apple', 'orange', 'banana', 'cherry', 'kiwi'}\n"
     ]
    }
   ],
   "source": [
    "thisset = {\"apple\", \"banana\", \"cherry\"}\n",
    "mylist = [\"kiwi\", \"orange\"]\n",
    "\n",
    "thisset.update(mylist)\n",
    "\n",
    "print(thisset)\n"
   ]
  },
  {
   "cell_type": "code",
   "execution_count": 7,
   "id": "597a8307",
   "metadata": {},
   "outputs": [
    {
     "name": "stdout",
     "output_type": "stream",
     "text": [
      "{1, 2, 3, 4, 5, 6, 'c', 'a', 'b'}\n"
     ]
    }
   ],
   "source": [
    "x={1,2,3,3,4,5,6}\n",
    "y={\"a\",\"b\",\"c\"}\n",
    "x.update(y)\n",
    "print(x)"
   ]
  },
  {
   "cell_type": "markdown",
   "id": "5dfd8c2e",
   "metadata": {},
   "source": [
    "# Python - Remove Set Items\n",
    "\n",
    "Remove Item\n",
    "\n",
    "To remove an item in a set, use the remove(), or the discard() method."
   ]
  },
  {
   "cell_type": "code",
   "execution_count": 17,
   "id": "02b03005",
   "metadata": {},
   "outputs": [
    {
     "name": "stdout",
     "output_type": "stream",
     "text": [
      "{'cherry', 'apple'}\n"
     ]
    }
   ],
   "source": [
    "# Remove \"banana\" by using the remove() method:\n",
    "thisset = {\"apple\", \"banana\", \"cherry\"}\n",
    "\n",
    "thisset.remove(\"banana\")\n",
    "\n",
    "print(thisset)"
   ]
  },
  {
   "cell_type": "code",
   "execution_count": 8,
   "id": "ae6fc19e",
   "metadata": {},
   "outputs": [
    {
     "name": "stdout",
     "output_type": "stream",
     "text": [
      "{'banana', 'cherry'}\n"
     ]
    }
   ],
   "source": [
    "# Remove \"banana\" by using the discard() method:\n",
    "thisset = {\"apple\", \"banana\", \"cherry\"}\n",
    "\n",
    "thisset.discard(\"apple\")\n",
    "\n",
    "print(thisset)"
   ]
  },
  {
   "cell_type": "code",
   "execution_count": 10,
   "id": "eb9c6ee5",
   "metadata": {},
   "outputs": [
    {
     "name": "stdout",
     "output_type": "stream",
     "text": [
      "cherry\n",
      "{'b', 'apple', 'banana', 'a'}\n"
     ]
    }
   ],
   "source": [
    "# Remove the last item by using the pop() method:\n",
    "thisset = {\"apple\", \"banana\", \"cherry\",\"a\",\"b\"}\n",
    "\n",
    "x = thisset.pop()\n",
    "\n",
    "print(x)\n",
    "\n",
    "print(thisset)"
   ]
  },
  {
   "cell_type": "code",
   "execution_count": 13,
   "id": "5ef7e57e",
   "metadata": {},
   "outputs": [
    {
     "name": "stdout",
     "output_type": "stream",
     "text": [
      "c\n",
      "{'b', 'a', 'd'}\n"
     ]
    }
   ],
   "source": [
    "thisset = {\"a\",\"b\",\"c\",\"d\",\"c\"}\n",
    "\n",
    "x = thisset.pop()\n",
    "\n",
    "print(x)\n",
    "\n",
    "print(thisset)"
   ]
  },
  {
   "cell_type": "code",
   "execution_count": 11,
   "id": "0b985845",
   "metadata": {},
   "outputs": [
    {
     "name": "stdout",
     "output_type": "stream",
     "text": [
      "set()\n"
     ]
    }
   ],
   "source": [
    "# The clear() method empties the set:\n",
    "thisset = {\"apple\", \"banana\", \"cherry\"}\n",
    "\n",
    "thisset.clear()\n",
    "\n",
    "print(thisset)"
   ]
  },
  {
   "cell_type": "markdown",
   "id": "afcfd405",
   "metadata": {},
   "source": [
    "# Python - Loop Sets\n",
    "\n",
    "You can loop through the set items by using a for loop:"
   ]
  },
  {
   "cell_type": "code",
   "execution_count": 14,
   "id": "3e361c96",
   "metadata": {},
   "outputs": [
    {
     "name": "stdout",
     "output_type": "stream",
     "text": [
      "banana\n",
      "cherry\n",
      "apple\n"
     ]
    }
   ],
   "source": [
    "# Loop through the set, and print the values:\n",
    "thisset = {\"apple\", \"banana\", \"cherry\"}\n",
    "\n",
    "for num in thisset:\n",
    "  print(num)\n"
   ]
  },
  {
   "cell_type": "markdown",
   "id": "4ca2820e",
   "metadata": {},
   "source": [
    "# Join Two Sets\n",
    "There are several ways to join two or more sets in Python.\n",
    "\n",
    "You can use the union() method that returns a new set containing all items from both sets, or the update() method that inserts all the items from one set into another:"
   ]
  },
  {
   "cell_type": "code",
   "execution_count": 22,
   "id": "ca7f3065",
   "metadata": {},
   "outputs": [
    {
     "name": "stdout",
     "output_type": "stream",
     "text": [
      "{1, 2, 'c', 3, 'a', 'b'}\n"
     ]
    }
   ],
   "source": [
    "# The union() method returns a new set with all items from both sets:\n",
    "set1 = {\"a\", \"b\" , \"c\"}\n",
    "set2 = {1, 2, 3}\n",
    "\n",
    "set3 = set1.union(set2)\n",
    "print(set3)\n"
   ]
  },
  {
   "cell_type": "code",
   "execution_count": 23,
   "id": "f6926cbb",
   "metadata": {},
   "outputs": [
    {
     "name": "stdout",
     "output_type": "stream",
     "text": [
      "{1, 2, 'c', 3, 'a', 'b'}\n"
     ]
    }
   ],
   "source": [
    "# The update() method inserts the items in set2 into set1:\n",
    "set1 = {\"a\", \"b\" , \"c\"}\n",
    "set2 = {1, 2, 3}\n",
    "\n",
    "set1.update(set2)\n",
    "print(set1)"
   ]
  },
  {
   "cell_type": "markdown",
   "id": "239afd9d",
   "metadata": {},
   "source": [
    "# Python - Set Methods"
   ]
  },
  {
   "cell_type": "code",
   "execution_count": 24,
   "id": "05001680",
   "metadata": {},
   "outputs": [],
   "source": [
    "# Set Methods\n",
    "# Python has a set of built-in methods that you can use on sets"
   ]
  },
  {
   "cell_type": "markdown",
   "id": "a7b50074",
   "metadata": {},
   "source": [
    "# Python Set add() Method"
   ]
  },
  {
   "cell_type": "code",
   "execution_count": 25,
   "id": "6fe46b23",
   "metadata": {},
   "outputs": [
    {
     "name": "stdout",
     "output_type": "stream",
     "text": [
      "{'orange', 'cherry', 'apple', 'banana'}\n"
     ]
    }
   ],
   "source": [
    "# Add an element to the fruits set:\n",
    "fruits = {\"apple\", \"banana\", \"cherry\"}\n",
    "\n",
    "fruits.add(\"orange\")\n",
    "\n",
    "print(fruits)"
   ]
  },
  {
   "cell_type": "code",
   "execution_count": 26,
   "id": "81056717",
   "metadata": {},
   "outputs": [
    {
     "name": "stdout",
     "output_type": "stream",
     "text": [
      "{'cherry', 'apple', 'banana'}\n"
     ]
    }
   ],
   "source": [
    "# Try to add an element that already exists:\n",
    "fruits = {\"apple\", \"banana\", \"cherry\"}\n",
    "\n",
    "fruits.add(\"apple\")\n",
    "\n",
    "print(fruits)\n"
   ]
  },
  {
   "cell_type": "markdown",
   "id": "d7be0425",
   "metadata": {},
   "source": [
    "# Python Set clear() Method"
   ]
  },
  {
   "cell_type": "code",
   "execution_count": 27,
   "id": "8e4f9dd6",
   "metadata": {},
   "outputs": [
    {
     "name": "stdout",
     "output_type": "stream",
     "text": [
      "set()\n"
     ]
    }
   ],
   "source": [
    "# Remove all elements from the fruits set:\n",
    "fruits = {\"apple\", \"banana\", \"cherry\"}\n",
    "\n",
    "fruits.clear()\n",
    "\n",
    "print(fruits)"
   ]
  },
  {
   "cell_type": "markdown",
   "id": "8d811e68",
   "metadata": {},
   "source": [
    "# Python Set copy() Method\n",
    "\n"
   ]
  },
  {
   "cell_type": "code",
   "execution_count": 29,
   "id": "6ebaebbd",
   "metadata": {},
   "outputs": [
    {
     "name": "stdout",
     "output_type": "stream",
     "text": [
      "{'cherry', 'apple', 'banana'}\n"
     ]
    }
   ],
   "source": [
    "# Copy the fruits set\n",
    "\n",
    "fruits = {\"apple\", \"banana\", \"cherry\"}\n",
    "\n",
    "x = fruits.copy()\n",
    "\n",
    "print(x)"
   ]
  },
  {
   "cell_type": "markdown",
   "id": "99efbfee",
   "metadata": {},
   "source": [
    "# Python Set difference() Method\n",
    "\n",
    "The difference() method returns a set that contains the difference between two sets.\n",
    "\n",
    "Meaning: The returned set contains items that exist only in the first set, and not in both sets."
   ]
  },
  {
   "cell_type": "code",
   "execution_count": 30,
   "id": "68e694f0",
   "metadata": {},
   "outputs": [
    {
     "name": "stdout",
     "output_type": "stream",
     "text": [
      "{'cherry', 'banana'}\n"
     ]
    }
   ],
   "source": [
    "#Return a set that contains the items that only exist in set x,and not in set y\n",
    "x = {\"apple\", \"banana\", \"cherry\"}\n",
    "y = {\"google\", \"microsoft\", \"apple\"}\n",
    "\n",
    "z = x.difference(y)\n",
    "\n",
    "print(z)"
   ]
  },
  {
   "cell_type": "code",
   "execution_count": 31,
   "id": "086b3e9b",
   "metadata": {},
   "outputs": [
    {
     "name": "stdout",
     "output_type": "stream",
     "text": [
      "{10, 20}\n",
      "{100, 60}\n"
     ]
    }
   ],
   "source": [
    "A = {10, 20, 30, 40, 80}\n",
    "B = {100, 30, 80, 40, 60}\n",
    "print (A.difference(B))\n",
    "print (B.difference(A))"
   ]
  },
  {
   "cell_type": "code",
   "execution_count": 32,
   "id": "138390b3",
   "metadata": {},
   "outputs": [
    {
     "name": "stdout",
     "output_type": "stream",
     "text": [
      "{'microsoft', 'google'}\n"
     ]
    }
   ],
   "source": [
    "# Reverse the first example. Return a set that contains the\n",
    "#items that only exist in set y,and not in set x\n",
    "x = {\"apple\", \"banana\", \"cherry\"}\n",
    "y = {\"google\", \"microsoft\", \"apple\"}\n",
    "\n",
    "z = y.difference(x)\n",
    "\n",
    "print(z)"
   ]
  },
  {
   "cell_type": "markdown",
   "id": "3bd5b063",
   "metadata": {},
   "source": [
    "# Python Set difference_update() Method\n",
    "\n",
    "The difference_update() method removes the items that exist in both sets."
   ]
  },
  {
   "cell_type": "code",
   "execution_count": 33,
   "id": "a4a5355f",
   "metadata": {},
   "outputs": [
    {
     "name": "stdout",
     "output_type": "stream",
     "text": [
      "{'cherry', 'banana'}\n"
     ]
    }
   ],
   "source": [
    "# Remove the items that exist in both sets:\n",
    "x = {\"apple\", \"banana\", \"cherry\"}\n",
    "y = {\"google\", \"microsoft\", \"apple\"}\n",
    "\n",
    "x.difference_update(y)\n",
    "\n",
    "print(x)"
   ]
  },
  {
   "cell_type": "markdown",
   "id": "93d69578",
   "metadata": {},
   "source": [
    "# Python Set pop() Method\n",
    "The pop() method removes a random item from the set."
   ]
  },
  {
   "cell_type": "code",
   "execution_count": 35,
   "id": "172748b8",
   "metadata": {},
   "outputs": [
    {
     "name": "stdout",
     "output_type": "stream",
     "text": [
      "{'apple', 'banana'}\n"
     ]
    }
   ],
   "source": [
    "# Remove a random item from the set:\n",
    "fruits = {\"apple\", \"banana\", \"cherry\"}\n",
    "\n",
    "fruits.pop()\n",
    "\n",
    "print(fruits)"
   ]
  },
  {
   "cell_type": "code",
   "execution_count": 17,
   "id": "3ccf0c82",
   "metadata": {},
   "outputs": [
    {
     "name": "stdout",
     "output_type": "stream",
     "text": [
      "{2, 3, 4}\n"
     ]
    }
   ],
   "source": [
    "x={1,2,3,4}\n",
    "x.pop()\n",
    "print(x)`"
   ]
  },
  {
   "cell_type": "code",
   "execution_count": 18,
   "id": "93c4de35",
   "metadata": {},
   "outputs": [
    {
     "name": "stdout",
     "output_type": "stream",
     "text": [
      "{'m', 'a'}\n"
     ]
    }
   ],
   "source": [
    "y={\"a\",\"b\",\"m\"}\n",
    "y.pop()\n",
    "print(y)"
   ]
  },
  {
   "cell_type": "code",
   "execution_count": 36,
   "id": "7091cee2",
   "metadata": {},
   "outputs": [
    {
     "name": "stdout",
     "output_type": "stream",
     "text": [
      "cherry\n"
     ]
    }
   ],
   "source": [
    "# Return the removed element:\n",
    "fruits = {\"apple\", \"banana\", \"cherry\"}\n",
    "\n",
    "x = fruits.pop() \n",
    "\n",
    "print(x)"
   ]
  },
  {
   "cell_type": "code",
   "execution_count": 19,
   "id": "12d2b6b6",
   "metadata": {},
   "outputs": [
    {
     "name": "stdout",
     "output_type": "stream",
     "text": [
      "1\n"
     ]
    }
   ],
   "source": [
    "x={1,2,3,4,5,\"a\",\"x\"}\n",
    "y=x.pop()\n",
    "print(y)\n"
   ]
  },
  {
   "cell_type": "markdown",
   "id": "bb676bbe",
   "metadata": {},
   "source": [
    "# Python Set remove() Method\n",
    "The remove() method removes the specified element from the set."
   ]
  },
  {
   "cell_type": "code",
   "execution_count": 37,
   "id": "84239215",
   "metadata": {},
   "outputs": [
    {
     "name": "stdout",
     "output_type": "stream",
     "text": [
      "{'cherry', 'apple'}\n"
     ]
    }
   ],
   "source": [
    "# Remove \"banana\" from the set:\n",
    "fruits = {\"apple\", \"banana\", \"cherry\"}\n",
    "\n",
    "fruits.remove(\"banana\")\n",
    "\n",
    "print(fruits)\n"
   ]
  },
  {
   "cell_type": "markdown",
   "id": "95d69d32",
   "metadata": {},
   "source": [
    "# Python Set union() Method\n",
    "The union() method returns a set that contains all items from the original set, and all items from the specified set(s)."
   ]
  },
  {
   "cell_type": "code",
   "execution_count": 39,
   "id": "994c1dce",
   "metadata": {},
   "outputs": [
    {
     "name": "stdout",
     "output_type": "stream",
     "text": [
      "{'microsoft', 'apple', 'banana', 'google', 'cherry'}\n"
     ]
    }
   ],
   "source": [
    "# Return a set that contains all items from both sets, duplicates are excluded:\n",
    "x = {\"apple\", \"banana\", \"cherry\"}\n",
    "y = {\"google\", \"microsoft\", \"apple\"}\n",
    "\n",
    "z = x.union(y)\n",
    "\n",
    "print(z)"
   ]
  },
  {
   "cell_type": "code",
   "execution_count": 40,
   "id": "df4a489d",
   "metadata": {},
   "outputs": [
    {
     "name": "stdout",
     "output_type": "stream",
     "text": [
      "{'c', 'f', 'd', 'a', 'e', 'b'}\n"
     ]
    }
   ],
   "source": [
    "# Unify more than 2 sets:\n",
    "x = {\"a\", \"b\", \"c\"}\n",
    "y = {\"f\", \"d\", \"a\"}\n",
    "z = {\"c\", \"d\", \"e\"}\n",
    "\n",
    "result = x.union(y, z)\n",
    "\n",
    "print(result)"
   ]
  },
  {
   "cell_type": "markdown",
   "id": "dab9a0b1",
   "metadata": {},
   "source": [
    "# Python Set update() Method\n",
    "The update() method updates the current set, by adding items from another set (or any other iterable)."
   ]
  },
  {
   "cell_type": "code",
   "execution_count": 41,
   "id": "7184b663",
   "metadata": {},
   "outputs": [
    {
     "name": "stdout",
     "output_type": "stream",
     "text": [
      "{'microsoft', 'apple', 'banana', 'google', 'cherry'}\n"
     ]
    }
   ],
   "source": [
    "x = {\"apple\", \"banana\", \"cherry\"}\n",
    "y = {\"google\", \"microsoft\", \"apple\"}\n",
    "\n",
    "x.update(y)\n",
    "\n",
    "print(x)"
   ]
  },
  {
   "cell_type": "code",
   "execution_count": 1,
   "id": "d5bd9b3a",
   "metadata": {},
   "outputs": [
    {
     "name": "stdout",
     "output_type": "stream",
     "text": [
      "Enter Student Name : ch\n",
      "Enter Student Roll no : 12\n",
      "Enter Marks of english : 13\n",
      "Enter Marks of hindi : 14\n",
      "Enter Marks of maths : 1\n",
      "Enter Marks of science : 15\n",
      "Enter Marks of social : 16\n",
      "_______________Information Gatherings________________\n",
      "english :  13\n",
      "hindi :  14\n",
      " maths :  1\n",
      "science:  15\n",
      "social:  16\n",
      "valid\n",
      "Percentage Of Student is :  11.799999999999999\n",
      "You have failed\n"
     ]
    }
   ],
   "source": [
    "name=input(\"Enter Student Name : \")\n",
    "\n",
    "roll_no=int(input(\"Enter Student Roll no : \"))\n",
    "\n",
    "english=int(input(\"Enter Marks of english : \"))\n",
    "\n",
    "hindi=int(input(\"Enter Marks of hindi : \"))\n",
    "\n",
    "maths=int(input(\"Enter Marks of maths : \"))\n",
    "\n",
    "science=int(input(\"Enter Marks of science : \"))\n",
    "\n",
    "social=int(input(\"Enter Marks of social : \"))\n",
    "\n",
    "print(\"_______________Information Gatherings________________\")\n",
    "\n",
    "print(\"english : \" ,english )\n",
    "\n",
    "print(\"hindi : \" ,hindi)\n",
    "\n",
    "print(\" maths : \", maths)\n",
    "\n",
    "print(\"science: \",science)\n",
    "\n",
    "print(\"social: \",social)\n",
    "\n",
    "per=(((english+hindi+maths+science+social)/500)*100)\n",
    "if range(1,100):\n",
    "    print(\"valid\")\n",
    "else:\n",
    "    print(\"invalid\")\n",
    "\n",
    "print(\"Percentage Of Student is : \" ,per)\n",
    "\n",
    "\n",
    "if per>=36: \n",
    "    print('You have passed!') \n",
    "else: \n",
    "    print('You have failed') "
   ]
  },
  {
   "cell_type": "code",
   "execution_count": null,
   "id": "c3bef0cd",
   "metadata": {},
   "outputs": [],
   "source": []
  }
 ],
 "metadata": {
  "kernelspec": {
   "display_name": "Python 3 (ipykernel)",
   "language": "python",
   "name": "python3"
  },
  "language_info": {
   "codemirror_mode": {
    "name": "ipython",
    "version": 3
   },
   "file_extension": ".py",
   "mimetype": "text/x-python",
   "name": "python",
   "nbconvert_exporter": "python",
   "pygments_lexer": "ipython3",
   "version": "3.9.13"
  }
 },
 "nbformat": 4,
 "nbformat_minor": 5
}
