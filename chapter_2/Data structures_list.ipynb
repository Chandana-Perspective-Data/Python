{
 "cells": [
  {
   "cell_type": "markdown",
   "id": "7b476f8e",
   "metadata": {},
   "source": [
    "# Python Data Structures"
   ]
  },
  {
   "cell_type": "markdown",
   "id": "e05ea084",
   "metadata": {},
   "source": [
    "## Python Lists( Mutable )\n",
    "\n",
    "\n",
    "Definition:-\n",
    "\n",
    "1.A list is a ordered collection of elements of different datatypes,enclosed within the square brachets and separeted by the cammas\n",
    "\n",
    "we can access the elements from the list by using the index number\n",
    " \n",
    " 2.List items are indexed and you can access them by referring to the index number:"
   ]
  },
  {
   "cell_type": "code",
   "execution_count": 1,
   "id": "8503eb24",
   "metadata": {},
   "outputs": [
    {
     "name": "stdout",
     "output_type": "stream",
     "text": [
      "['Mathematics', 1729, 9, 10, 17.34]\n",
      "<class 'list'>\n"
     ]
    }
   ],
   "source": [
    "# Defining the list   # List items are ordered, changeable, and allow duplicate values.\n",
    "My_list = [\"Mathematics\",1729,9,10,17.34]\n",
    "\n",
    "# Displaying the list\n",
    "print(My_list)\n",
    "\n",
    "# Displaying the datatype of My_list\n",
    "print(type(My_list))"
   ]
  },
  {
   "cell_type": "markdown",
   "id": "134422ca",
   "metadata": {},
   "source": [
    "### We can us the for loop to display the list elements"
   ]
  },
  {
   "cell_type": "code",
   "execution_count": 2,
   "id": "01c2924b",
   "metadata": {},
   "outputs": [
    {
     "name": "stdout",
     "output_type": "stream",
     "text": [
      "Mathematics\n",
      "1729\n",
      "9\n",
      "10\n",
      "17.34\n",
      "['Mathematics', 1729, 9, 10, 17.34]\n"
     ]
    }
   ],
   "source": [
    "My_list = [\"Mathematics\",1729,9,10,17.34]\n",
    "\n",
    "# Displaying the elements using the for loop\n",
    "for i in My_list:\n",
    "    print(i)\n",
    "print(My_list)"
   ]
  },
  {
   "cell_type": "code",
   "execution_count": 3,
   "id": "49c7f871",
   "metadata": {},
   "outputs": [
    {
     "name": "stdout",
     "output_type": "stream",
     "text": [
      "python\n",
      "code\n",
      "list\n",
      "['python', 'code', 'list']\n"
     ]
    }
   ],
   "source": [
    "x=[\"python\",\"code\",\"list\"]\n",
    "for j in x:\n",
    "    print(j)\n",
    "print(x)"
   ]
  },
  {
   "cell_type": "code",
   "execution_count": 4,
   "id": "1db5dde2",
   "metadata": {},
   "outputs": [
    {
     "name": "stdout",
     "output_type": "stream",
     "text": [
      "1\n",
      "2\n",
      "3\n",
      "4\n",
      "5\n",
      "6\n"
     ]
    }
   ],
   "source": [
    "y=[1,2,3,4,5,6]\n",
    "for num in y:\n",
    "    print(num)"
   ]
  },
  {
   "cell_type": "code",
   "execution_count": 5,
   "id": "0ce35f64",
   "metadata": {},
   "outputs": [
    {
     "name": "stdout",
     "output_type": "stream",
     "text": [
      "1\n",
      "2\n",
      "3\n"
     ]
    }
   ],
   "source": [
    "x=[\"1\",\"2\",\"3\"]\n",
    "for i in x:\n",
    "    print(i)"
   ]
  },
  {
   "cell_type": "markdown",
   "id": "59f3ad77",
   "metadata": {},
   "source": [
    "### We can access the list elements with indexing"
   ]
  },
  {
   "cell_type": "code",
   "execution_count": 3,
   "id": "9998a307",
   "metadata": {},
   "outputs": [
    {
     "name": "stdout",
     "output_type": "stream",
     "text": [
      "Mathematics\n",
      "1729\n",
      "9\n",
      "10\n",
      "17.34\n"
     ]
    }
   ],
   "source": [
    "My_list = [\"Mathematics\",1729,9,10,17.34]\n",
    "\n",
    "# Accessing the elements with index number,By forward direction which is ingeneral defined as (0 to n-1),where n is length of list\n",
    "print(My_list[0])\n",
    "print(My_list[1])\n",
    "print(My_list[2])\n",
    "print(My_list[3])\n",
    "print(My_list[4])"
   ]
  },
  {
   "cell_type": "code",
   "execution_count": 7,
   "id": "19d9680c",
   "metadata": {},
   "outputs": [
    {
     "name": "stdout",
     "output_type": "stream",
     "text": [
      "5\n",
      "17.34\n",
      "10\n",
      "9\n",
      "1729\n",
      "Mathematics\n"
     ]
    }
   ],
   "source": [
    "My_list = [\"Mathematics\",1729,9,10,17.34]\n",
    "print(len(My_list))\n",
    "\n",
    "# Accessing the elements with index number,By dackward direction which is ingeneral defined as (-1 to -n),where n is length of list\n",
    "print(My_list[-1])\n",
    "print(My_list[-2])\n",
    "print(My_list[-3])\n",
    "print(My_list[-4])\n",
    "print(My_list[-5])"
   ]
  },
  {
   "cell_type": "code",
   "execution_count": 8,
   "id": "b0650cb1",
   "metadata": {},
   "outputs": [
    {
     "name": "stdout",
     "output_type": "stream",
     "text": [
      "3\n"
     ]
    }
   ],
   "source": [
    "x=[1,2,3]\n",
    "print(len(x))"
   ]
  },
  {
   "cell_type": "markdown",
   "id": "462d3189",
   "metadata": {},
   "source": [
    "### If we try to access the elements from the out of the list length, then it will raise an ERROR"
   ]
  },
  {
   "cell_type": "code",
   "execution_count": 5,
   "id": "516d06f6",
   "metadata": {},
   "outputs": [
    {
     "name": "stdout",
     "output_type": "stream",
     "text": [
      "List length is : 5\n"
     ]
    },
    {
     "ename": "IndexError",
     "evalue": "list index out of range",
     "output_type": "error",
     "traceback": [
      "\u001b[1;31m---------------------------------------------------------------------------\u001b[0m",
      "\u001b[1;31mIndexError\u001b[0m                                Traceback (most recent call last)",
      "\u001b[1;32m~\\AppData\\Local\\Temp\\ipykernel_10508\\2283472260.py\u001b[0m in \u001b[0;36m<module>\u001b[1;34m\u001b[0m\n\u001b[0;32m      9\u001b[0m \u001b[0mprint\u001b[0m\u001b[1;33m(\u001b[0m\u001b[1;34m\"List length is :\"\u001b[0m\u001b[1;33m,\u001b[0m\u001b[0mlen\u001b[0m\u001b[1;33m(\u001b[0m\u001b[0mMy_list\u001b[0m\u001b[1;33m)\u001b[0m\u001b[1;33m)\u001b[0m\u001b[1;33m\u001b[0m\u001b[1;33m\u001b[0m\u001b[0m\n\u001b[0;32m     10\u001b[0m \u001b[1;33m\u001b[0m\u001b[0m\n\u001b[1;32m---> 11\u001b[1;33m \u001b[0mprint\u001b[0m\u001b[1;33m(\u001b[0m\u001b[0mMy_list\u001b[0m\u001b[1;33m[\u001b[0m\u001b[1;36m6\u001b[0m\u001b[1;33m]\u001b[0m\u001b[1;33m)\u001b[0m\u001b[1;33m\u001b[0m\u001b[1;33m\u001b[0m\u001b[0m\n\u001b[0m\u001b[0;32m     12\u001b[0m \u001b[0mprint\u001b[0m\u001b[1;33m(\u001b[0m\u001b[0mMy_list\u001b[0m\u001b[1;33m[\u001b[0m\u001b[1;36m5\u001b[0m\u001b[1;33m]\u001b[0m\u001b[1;33m)\u001b[0m\u001b[1;33m\u001b[0m\u001b[1;33m\u001b[0m\u001b[0m\n",
      "\u001b[1;31mIndexError\u001b[0m: list index out of range"
     ]
    }
   ],
   "source": [
    "My_list = [\"Mathematics\",1729,9,10,17.34]\n",
    "\n",
    "\"\"\"\n",
    "\n",
    "In the above list we have only 5 elements which are index from the 0 to 4.\n",
    "If we try to access the element from the index number morethan the 4, it will raise an ERROR \n",
    "\n",
    "\"\"\"\n",
    "print(\"List length is :\",len(My_list))\n",
    "\n",
    "print(My_list[6])\n",
    "print(My_list[5])"
   ]
  },
  {
   "cell_type": "markdown",
   "id": "80027063",
   "metadata": {},
   "source": [
    "### If a list contain another list then it is know as \"NESTED LIST\""
   ]
  },
  {
   "cell_type": "code",
   "execution_count": 6,
   "id": "2d2ba467",
   "metadata": {},
   "outputs": [
    {
     "name": "stdout",
     "output_type": "stream",
     "text": [
      "[1, 2, 3, 4, 'a', 'Apple', 22.21]\n"
     ]
    }
   ],
   "source": [
    "My_list = [\"Mathematics\",1729,9,10,17.34,[1,2,3,4,\"a\",\"Apple\",22.21]]\n",
    "\n",
    "# Accesssing the nested list from main list\n",
    "print(My_list[5])   # here we just extracting the inner list "
   ]
  },
  {
   "cell_type": "code",
   "execution_count": 17,
   "id": "e1984e37",
   "metadata": {},
   "outputs": [
    {
     "name": "stdout",
     "output_type": "stream",
     "text": [
      "2\n"
     ]
    }
   ],
   "source": [
    "My_list = [\"Mathematics\",1729,9,10,17.34,[1,2,3,4,\"a\",\"Apple\",22.21]]\n",
    "print(My_list[5][1])"
   ]
  },
  {
   "cell_type": "markdown",
   "id": "626c6a5e",
   "metadata": {},
   "source": [
    "Now, if we want to extrat the \"Apple\" from the \"My_list\""
   ]
  },
  {
   "cell_type": "code",
   "execution_count": 7,
   "id": "66a41177",
   "metadata": {},
   "outputs": [
    {
     "name": "stdout",
     "output_type": "stream",
     "text": [
      "Apple\n"
     ]
    }
   ],
   "source": [
    "My_list = [\"Mathematics\",1729,9,10,17.34,[1,2,3,4,\"a\",\"Apple\",22.21]]\n",
    "\n",
    "print(My_list[5][5])  "
   ]
  },
  {
   "cell_type": "code",
   "execution_count": 8,
   "id": "a2a59c5c",
   "metadata": {},
   "outputs": [
    {
     "name": "stdout",
     "output_type": "stream",
     "text": [
      "22.21\n"
     ]
    }
   ],
   "source": [
    "My_list = [\"Mathematics\",1729,9,10,17.34,[1,2,3,4,\"a\",\"Apple\",22.21]]\n",
    "\n",
    "print(My_list[5][6])  "
   ]
  },
  {
   "cell_type": "code",
   "execution_count": 13,
   "id": "92074660",
   "metadata": {},
   "outputs": [
    {
     "name": "stdout",
     "output_type": "stream",
     "text": [
      "17.34\n"
     ]
    }
   ],
   "source": [
    "My_list = [\"Mathematics\",1729,9,10,17.34,[1,2,3,4,\"a\",\"Apple\",22.21]]\n",
    "print(My_list[4]) "
   ]
  },
  {
   "cell_type": "code",
   "execution_count": 14,
   "id": "9a08affc",
   "metadata": {},
   "outputs": [
    {
     "ename": "TypeError",
     "evalue": "'int' object is not subscriptable",
     "output_type": "error",
     "traceback": [
      "\u001b[1;31m---------------------------------------------------------------------------\u001b[0m",
      "\u001b[1;31mTypeError\u001b[0m                                 Traceback (most recent call last)",
      "\u001b[1;32m~\\AppData\\Local\\Temp\\ipykernel_19504\\865048956.py\u001b[0m in \u001b[0;36m<module>\u001b[1;34m\u001b[0m\n\u001b[0;32m      1\u001b[0m \u001b[0mMy_list\u001b[0m \u001b[1;33m=\u001b[0m \u001b[1;33m[\u001b[0m\u001b[1;34m\"Mathematics\"\u001b[0m\u001b[1;33m,\u001b[0m\u001b[1;36m1729\u001b[0m\u001b[1;33m,\u001b[0m\u001b[1;36m9\u001b[0m\u001b[1;33m,\u001b[0m\u001b[1;36m10\u001b[0m\u001b[1;33m,\u001b[0m\u001b[1;36m17.34\u001b[0m\u001b[1;33m,\u001b[0m\u001b[1;33m[\u001b[0m\u001b[1;36m1\u001b[0m\u001b[1;33m,\u001b[0m\u001b[1;36m2\u001b[0m\u001b[1;33m,\u001b[0m\u001b[1;36m3\u001b[0m\u001b[1;33m,\u001b[0m\u001b[1;36m4\u001b[0m\u001b[1;33m,\u001b[0m\u001b[1;34m\"a\"\u001b[0m\u001b[1;33m,\u001b[0m\u001b[1;34m\"Apple\"\u001b[0m\u001b[1;33m,\u001b[0m\u001b[1;36m22.21\u001b[0m\u001b[1;33m]\u001b[0m\u001b[1;33m]\u001b[0m\u001b[1;33m\u001b[0m\u001b[1;33m\u001b[0m\u001b[0m\n\u001b[1;32m----> 2\u001b[1;33m \u001b[0mprint\u001b[0m\u001b[1;33m(\u001b[0m\u001b[0mMy_list\u001b[0m\u001b[1;33m[\u001b[0m\u001b[1;36m3\u001b[0m\u001b[1;33m]\u001b[0m\u001b[1;33m[\u001b[0m\u001b[1;36m4\u001b[0m\u001b[1;33m]\u001b[0m\u001b[1;33m)\u001b[0m\u001b[1;33m\u001b[0m\u001b[1;33m\u001b[0m\u001b[0m\n\u001b[0m",
      "\u001b[1;31mTypeError\u001b[0m: 'int' object is not subscriptable"
     ]
    }
   ],
   "source": [
    "My_list = [\"Mathematics\",1729,9,10,17.34,[1,2,3,4,\"a\",\"Apple\",22.21]]\n",
    "print(My_list[3][4])"
   ]
  },
  {
   "cell_type": "code",
   "execution_count": null,
   "id": "82f07d9c",
   "metadata": {},
   "outputs": [],
   "source": []
  },
  {
   "cell_type": "markdown",
   "id": "d5af2bd8",
   "metadata": {},
   "source": [
    "# Allow Duplicates"
   ]
  },
  {
   "cell_type": "code",
   "execution_count": 14,
   "id": "b183f458",
   "metadata": {},
   "outputs": [
    {
     "name": "stdout",
     "output_type": "stream",
     "text": [
      "['apple', 'banana', 'cherry', 'apple', 'cherry']\n"
     ]
    }
   ],
   "source": [
    "# Lists allow duplicate values\n",
    "x= [\"apple\", \"banana\", \"cherry\", \"apple\", \"cherry\"]\n",
    "print(x)"
   ]
  },
  {
   "cell_type": "code",
   "execution_count": 15,
   "id": "704e6ea5",
   "metadata": {},
   "outputs": [
    {
     "name": "stdout",
     "output_type": "stream",
     "text": [
      "[1, 2, 3, 4, 2, 1, 4, 1, 11, 1]\n"
     ]
    }
   ],
   "source": [
    "y=[1,2,3,4,2,1,4,1,11,1]\n",
    "print(y)"
   ]
  },
  {
   "cell_type": "markdown",
   "id": "56b415b4",
   "metadata": {},
   "source": [
    "# List Length\n",
    "To determine how many items a list has, use the len() function"
   ]
  },
  {
   "cell_type": "code",
   "execution_count": 15,
   "id": "3c872153",
   "metadata": {},
   "outputs": [
    {
     "name": "stdout",
     "output_type": "stream",
     "text": [
      "5\n"
     ]
    }
   ],
   "source": [
    "x= [\"apple\", \"banana\", \"cherry\", \"apple\", \"cherry\"]\n",
    "print(len(x))"
   ]
  },
  {
   "cell_type": "code",
   "execution_count": 18,
   "id": "37939bcc",
   "metadata": {},
   "outputs": [
    {
     "name": "stdout",
     "output_type": "stream",
     "text": [
      "6\n"
     ]
    }
   ],
   "source": [
    "x=[1,2,3,4,5,6]\n",
    "print(len(x))"
   ]
  },
  {
   "cell_type": "markdown",
   "id": "9576b655",
   "metadata": {},
   "source": [
    "# List Items - Data Types\n",
    "List items can be of any data type:"
   ]
  },
  {
   "cell_type": "code",
   "execution_count": 16,
   "id": "73e34f92",
   "metadata": {},
   "outputs": [
    {
     "name": "stdout",
     "output_type": "stream",
     "text": [
      "['apple', 'banana', 'cherry']\n",
      "[1, 5, 7, 9, 3]\n",
      "[True, False, False]\n"
     ]
    }
   ],
   "source": [
    "#String, int and boolean data types\n",
    "list1 = [\"apple\", \"banana\", \"cherry\"]\n",
    "list2 = [1, 5, 7, 9, 3]\n",
    "list3 = [True, False, False]\n",
    "\n",
    "print(list1)\n",
    "print(list2)\n",
    "print(list3)\n"
   ]
  },
  {
   "cell_type": "markdown",
   "id": "30e6ec25",
   "metadata": {},
   "source": [
    "# Python - Access List Items\n",
    "List items are indexed and you can access them by referring to the index number"
   ]
  },
  {
   "cell_type": "code",
   "execution_count": 18,
   "id": "3a82d803",
   "metadata": {},
   "outputs": [
    {
     "name": "stdout",
     "output_type": "stream",
     "text": [
      "banana\n"
     ]
    }
   ],
   "source": [
    "x= [\"apple\", \"banana\", \"cherry\", \"apple\", \"cherry\"]\n",
    "print(x[1])"
   ]
  },
  {
   "cell_type": "code",
   "execution_count": 1,
   "id": "7f780b44",
   "metadata": {},
   "outputs": [
    {
     "name": "stdout",
     "output_type": "stream",
     "text": [
      "cherry\n"
     ]
    }
   ],
   "source": [
    "x= [\"apple\", \"banana\", \"cherry\", \"apple\", \"cherry\"]\n",
    "print(x[2])"
   ]
  },
  {
   "cell_type": "markdown",
   "id": "2f18b5dd",
   "metadata": {},
   "source": [
    "# Negative Indexing\n",
    "Negative indexing means start from the end\n",
    "\n",
    "-1 refers to the last item, -2 refers to the second last item etc."
   ]
  },
  {
   "cell_type": "code",
   "execution_count": 7,
   "id": "bfc3b9de",
   "metadata": {},
   "outputs": [
    {
     "name": "stdout",
     "output_type": "stream",
     "text": [
      "banana\n"
     ]
    }
   ],
   "source": [
    "x= [\"apple\", \"banana\", \"cherry\", \"apple\", \"cherry\"]\n",
    "print(x[-4])"
   ]
  },
  {
   "cell_type": "markdown",
   "id": "22bb48e8",
   "metadata": {},
   "source": [
    "# Range of Indexes\n",
    "You can specify a range of indexes by specifying where to start and where to end the range.\n",
    "\n",
    "When specifying a range, the return value will be a new list with the specified items."
   ]
  },
  {
   "cell_type": "code",
   "execution_count": 20,
   "id": "35c1aa1a",
   "metadata": {},
   "outputs": [
    {
     "name": "stdout",
     "output_type": "stream",
     "text": [
      "['banana', 'cherry', 'apple']\n"
     ]
    }
   ],
   "source": [
    "x= [\"apple\", \"banana\", \"cherry\", \"apple\", \"cherry\"]\n",
    "print(x[1:4])"
   ]
  },
  {
   "cell_type": "markdown",
   "id": "f5f2610e",
   "metadata": {},
   "source": [
    "# Range of Negative Indexes\n",
    "Specify negative indexes if you want to start the search from the end of the list:"
   ]
  },
  {
   "cell_type": "code",
   "execution_count": 21,
   "id": "c14f8358",
   "metadata": {},
   "outputs": [
    {
     "name": "stdout",
     "output_type": "stream",
     "text": [
      "['banana', 'cherry', 'apple']\n"
     ]
    }
   ],
   "source": [
    "x= [\"apple\", \"banana\", \"cherry\", \"apple\", \"cherry\"]\n",
    "print(x[-4:-1])"
   ]
  },
  {
   "cell_type": "markdown",
   "id": "f7cea07b",
   "metadata": {},
   "source": [
    "# Check if Item Exists\n",
    "To determine \"if\" a specified item is present in a list use the \"in\"  keyword"
   ]
  },
  {
   "cell_type": "code",
   "execution_count": 22,
   "id": "035d5059",
   "metadata": {},
   "outputs": [
    {
     "name": "stdout",
     "output_type": "stream",
     "text": [
      "Yes, 'apple' is in the fruits list\n"
     ]
    }
   ],
   "source": [
    "# Check if \"apple\" is present in the list\n",
    "x= [\"apple\", \"banana\", \"cherry\"]\n",
    "if \"apple\" in x:\n",
    "  print(\"Yes, 'apple' is in the fruits list\")"
   ]
  },
  {
   "cell_type": "markdown",
   "id": "fa8d2371",
   "metadata": {},
   "source": [
    "# Python - Change List Items\n",
    "To change the value of a specific item, refer to the index number"
   ]
  },
  {
   "cell_type": "code",
   "execution_count": 23,
   "id": "f017a8fe",
   "metadata": {},
   "outputs": [
    {
     "name": "stdout",
     "output_type": "stream",
     "text": [
      "['apple', 'blackcurrant', 'cherry']\n"
     ]
    }
   ],
   "source": [
    "# Change the second item\n",
    "x = [\"apple\", \"banana\", \"cherry\"]\n",
    "x[1] = \"blackcurrant\"\n",
    "print(x)"
   ]
  },
  {
   "cell_type": "code",
   "execution_count": 8,
   "id": "29ec929a",
   "metadata": {},
   "outputs": [
    {
     "name": "stdout",
     "output_type": "stream",
     "text": [
      "[11, 22, 33, 44, 55, 66, 77]\n"
     ]
    }
   ],
   "source": [
    "y=[11,22,33,44,55,66,88]\n",
    "y[6]=77\n",
    "print(y)"
   ]
  },
  {
   "cell_type": "markdown",
   "id": "fa201941",
   "metadata": {},
   "source": [
    "# Change a Range of Item Values\n",
    "To change the value of items within a specific range, define a list with the new values, and refer to the range of index numbers where you want to insert the new values"
   ]
  },
  {
   "cell_type": "code",
   "execution_count": 24,
   "id": "f043a7af",
   "metadata": {},
   "outputs": [
    {
     "name": "stdout",
     "output_type": "stream",
     "text": [
      "['apple', 'blackcurrant', 'watermelon', 'orange', 'kiwi', 'mango']\n"
     ]
    }
   ],
   "source": [
    "x = [\"apple\", \"banana\", \"cherry\", \"orange\", \"kiwi\", \"mango\"]\n",
    "x[1:3] = [\"blackcurrant\", \"watermelon\"]\n",
    "print(x)"
   ]
  },
  {
   "cell_type": "code",
   "execution_count": 15,
   "id": "b9f4dd79",
   "metadata": {},
   "outputs": [
    {
     "name": "stdout",
     "output_type": "stream",
     "text": [
      "[12, 13, 14, 15, 16, 17]\n"
     ]
    }
   ],
   "source": [
    "y=[1,2,3,4,5,6,7,8,9]\n",
    "y[:]=[12,13,14,15,16,17]\n",
    "print(y)"
   ]
  },
  {
   "cell_type": "markdown",
   "id": "19c70a1a",
   "metadata": {},
   "source": [
    "# Insert Items\n",
    "To insert a new list item, without replacing any of the existing values, we can use the insert() method.\n",
    "\n",
    "The insert() method inserts an item at the specified index"
   ]
  },
  {
   "cell_type": "code",
   "execution_count": 25,
   "id": "6cac2365",
   "metadata": {},
   "outputs": [
    {
     "name": "stdout",
     "output_type": "stream",
     "text": [
      "['apple', 'banana', 'watermelon', 'cherry']\n"
     ]
    }
   ],
   "source": [
    "x = [\"apple\", \"banana\", \"cherry\"]\n",
    "x.insert(2, \"watermelon\")\n",
    "print(x)"
   ]
  },
  {
   "cell_type": "code",
   "execution_count": 16,
   "id": "61a241bb",
   "metadata": {},
   "outputs": [
    {
     "name": "stdout",
     "output_type": "stream",
     "text": [
      "['a', '12', 'b', 'c']\n"
     ]
    }
   ],
   "source": [
    "x=[\"a\",\"b\",\"c\"]\n",
    "x.insert(1,\"12\")\n",
    "print(x)"
   ]
  },
  {
   "cell_type": "markdown",
   "id": "6a2f9f3e",
   "metadata": {},
   "source": [
    "# Python - Add List Items\n",
    "\n",
    "To add an item to the end of the list, use the append() method"
   ]
  },
  {
   "cell_type": "code",
   "execution_count": 17,
   "id": "fb8cb748",
   "metadata": {},
   "outputs": [
    {
     "name": "stdout",
     "output_type": "stream",
     "text": [
      "['apple', 'banana', 'cherry', 'orange']\n"
     ]
    }
   ],
   "source": [
    "t = [\"apple\", \"banana\", \"cherry\"]\n",
    "t.append(\"orange\")\n",
    "print(t)"
   ]
  },
  {
   "cell_type": "code",
   "execution_count": 2,
   "id": "3b5f61bf",
   "metadata": {},
   "outputs": [
    {
     "name": "stdout",
     "output_type": "stream",
     "text": [
      "[]\n"
     ]
    }
   ],
   "source": [
    "x= [\"apple\", \"banana\", \"cherry\", \"apple\", \"cherry\"]\n",
    "print(x[-1:-4])"
   ]
  },
  {
   "cell_type": "markdown",
   "id": "6c0abc05",
   "metadata": {},
   "source": [
    "# Extend List\n",
    "To append elements from another list to the current list, use the extend() method."
   ]
  },
  {
   "cell_type": "code",
   "execution_count": 6,
   "id": "eadbbafb",
   "metadata": {},
   "outputs": [
    {
     "name": "stdout",
     "output_type": "stream",
     "text": [
      "['apple', 'banana', 'cherry', 'mango', 'pineapple', 'papaya']\n"
     ]
    }
   ],
   "source": [
    "x = [\"apple\", \"banana\", \"cherry\"]\n",
    "y = [\"mango\", \"pineapple\", \"papaya\"]\n",
    "x.extend(y)\n",
    "print(x)"
   ]
  },
  {
   "cell_type": "code",
   "execution_count": 4,
   "id": "e9115314",
   "metadata": {},
   "outputs": [
    {
     "name": "stdout",
     "output_type": "stream",
     "text": [
      "['mango', 'pineapple', 'papaya', 'apple', 'banana', 'cherry', 'mango', 'pineapple', 'papaya']\n"
     ]
    }
   ],
   "source": [
    "X = [\"apple\", \"banana\", \"cherry\"]\n",
    "Y = [\"mango\", \"pineapple\", \"papaya\"]\n",
    "y.extend(x)\n",
    "print(y)"
   ]
  },
  {
   "cell_type": "markdown",
   "id": "9d653d95",
   "metadata": {},
   "source": [
    "# Add Any Iterable\n",
    "The extend() method does not have to append lists, you can add any iterable object (tuples, sets, dictionaries etc.)."
   ]
  },
  {
   "cell_type": "code",
   "execution_count": 24,
   "id": "9f08f81d",
   "metadata": {},
   "outputs": [
    {
     "name": "stdout",
     "output_type": "stream",
     "text": [
      "['apple', 'banana', 'cherry', 'kiwi', 'orange']\n"
     ]
    }
   ],
   "source": [
    "x = [\"apple\", \"banana\", \"cherry\"]\n",
    "y = (\"kiwi\", \"orange\")\n",
    "x.extend(y)\n",
    "print(x)"
   ]
  },
  {
   "cell_type": "code",
   "execution_count": 25,
   "id": "d7f2f207",
   "metadata": {},
   "outputs": [
    {
     "name": "stdout",
     "output_type": "stream",
     "text": [
      "['a', 'b', 'c', 'd', 1, 2, 3]\n"
     ]
    }
   ],
   "source": [
    "z=[\"a\",\"b\",\"c\",\"d\"]\n",
    "y=(1,2,3)\n",
    "z.extend(y)\n",
    "print(z)"
   ]
  },
  {
   "cell_type": "code",
   "execution_count": 26,
   "id": "d79fd5f8",
   "metadata": {},
   "outputs": [
    {
     "name": "stdout",
     "output_type": "stream",
     "text": [
      "['a', 'b', 'c', 1, 2, 3]\n"
     ]
    }
   ],
   "source": [
    "x=[\"a\",\"b\",\"c\"]\n",
    "y={1,2,3}\n",
    "x.extend(y)\n",
    "print(x)"
   ]
  },
  {
   "cell_type": "markdown",
   "id": "423937ab",
   "metadata": {},
   "source": [
    "# Python - Remove List Items\n",
    "The remove() method removes the specified item."
   ]
  },
  {
   "cell_type": "code",
   "execution_count": 1,
   "id": "358cf477",
   "metadata": {},
   "outputs": [
    {
     "name": "stdout",
     "output_type": "stream",
     "text": [
      "['apple', 'cherry']\n"
     ]
    }
   ],
   "source": [
    "x = [\"apple\", \"banana\", \"cherry\"]\n",
    "x.remove(\"banana\")\n",
    "print(x)"
   ]
  },
  {
   "cell_type": "markdown",
   "id": "b04b8847",
   "metadata": {},
   "source": [
    "# Remove Specified Index\n",
    "The pop() method removes the specified index."
   ]
  },
  {
   "cell_type": "code",
   "execution_count": 33,
   "id": "39fcd51f",
   "metadata": {},
   "outputs": [
    {
     "name": "stdout",
     "output_type": "stream",
     "text": [
      "['apple', 'cherry']\n"
     ]
    }
   ],
   "source": [
    "x = [\"apple\", \"banana\", \"cherry\"]\n",
    "x.pop(1)\n",
    "print(x)"
   ]
  },
  {
   "cell_type": "code",
   "execution_count": 31,
   "id": "e9193ca7",
   "metadata": {},
   "outputs": [
    {
     "name": "stdout",
     "output_type": "stream",
     "text": [
      "['banana', 'cherry']\n"
     ]
    }
   ],
   "source": [
    "# If you do not specify the index, the pop() method removes the last item\n",
    "x = [\"apple\", \"banana\", \"cherry\"]\n",
    "x.pop(0)\n",
    "print(x)"
   ]
  },
  {
   "cell_type": "markdown",
   "id": "ba94b92e",
   "metadata": {},
   "source": [
    "# Clear the List\n",
    "The clear() method empties the list.\n",
    "\n",
    "The list still remains, but it has no content."
   ]
  },
  {
   "cell_type": "code",
   "execution_count": 35,
   "id": "194e1164",
   "metadata": {},
   "outputs": [
    {
     "name": "stdout",
     "output_type": "stream",
     "text": [
      "[]\n"
     ]
    }
   ],
   "source": [
    "x = [\"apple\", \"banana\", \"cherry\"]\n",
    "x.clear()\n",
    "print(x)"
   ]
  },
  {
   "cell_type": "markdown",
   "id": "95c478fa",
   "metadata": {},
   "source": [
    "# List Comprehension\n",
    "List comprehension offers a shorter syntax when you want to create a new list based on the values of an existing list.\n",
    "\n",
    "Example:\n",
    "\n",
    "Based on a list of fruits, you want a new list, containing only the fruits with the letter \"a\" in the name.\n",
    "\n",
    "Without list comprehension you will have to write a for statement with a conditional test inside:"
   ]
  },
  {
   "cell_type": "code",
   "execution_count": 32,
   "id": "ee979421",
   "metadata": {},
   "outputs": [
    {
     "name": "stdout",
     "output_type": "stream",
     "text": [
      "['apple', 'cherry']\n"
     ]
    }
   ],
   "source": [
    "fruits = [\"apple\", \"banana\", \"cherry\", \"kiwi\", \"mango\"]\n",
    "newlist = []\n",
    "\n",
    "for x in fruits:\n",
    "  if \"e\" in x:\n",
    "    newlist.append(x)\n",
    "\n",
    "print(newlist)"
   ]
  },
  {
   "cell_type": "markdown",
   "id": "ce6fef27",
   "metadata": {},
   "source": [
    "# With list comprehension you can do all that with only one line of code:"
   ]
  },
  {
   "cell_type": "code",
   "execution_count": 33,
   "id": "f7de0957",
   "metadata": {},
   "outputs": [
    {
     "name": "stdout",
     "output_type": "stream",
     "text": [
      "['banana', 'mango']\n"
     ]
    }
   ],
   "source": [
    "fruits = [\"apple\", \"banana\", \"cherry\", \"kiwi\", \"mango\"]\n",
    "\n",
    "newlist = [x for x in fruits if \"n\" in x]\n",
    "\n",
    "print(newlist)"
   ]
  },
  {
   "cell_type": "markdown",
   "id": "4c9893f7",
   "metadata": {},
   "source": [
    "# Python - Sort Lists\n",
    "## Sort List Alphanumerically\n",
    "List objects have a sort() method that will sort the list alphanumerically, ascending, by default:"
   ]
  },
  {
   "cell_type": "code",
   "execution_count": 38,
   "id": "443186d7",
   "metadata": {},
   "outputs": [
    {
     "name": "stdout",
     "output_type": "stream",
     "text": [
      "['banana', 'kiwi', 'mango', 'orange', 'pineapple']\n"
     ]
    }
   ],
   "source": [
    "thislist = [\"orange\", \"mango\", \"kiwi\", \"pineapple\", \"banana\"]\n",
    "thislist.sort()\n",
    "print(thislist)\n"
   ]
  },
  {
   "cell_type": "markdown",
   "id": "8ca1d684",
   "metadata": {},
   "source": [
    "# Sort Descending\n",
    "To sort descending, use the keyword argument reverse = True:"
   ]
  },
  {
   "cell_type": "code",
   "execution_count": 40,
   "id": "f7cfc79e",
   "metadata": {},
   "outputs": [
    {
     "name": "stdout",
     "output_type": "stream",
     "text": [
      "['pineapple', 'orange', 'mango', 'kiwi', 'banana']\n"
     ]
    }
   ],
   "source": [
    "thislist = [\"orange\", \"mango\", \"kiwi\", \"pineapple\", \"banana\"]\n",
    "thislist.sort(reverse = True)\n",
    "print(thislist)"
   ]
  },
  {
   "cell_type": "code",
   "execution_count": 41,
   "id": "1893a45a",
   "metadata": {},
   "outputs": [
    {
     "name": "stdout",
     "output_type": "stream",
     "text": [
      "[100, 82, 65, 50, 23]\n"
     ]
    }
   ],
   "source": [
    "# Sort the list descending:\n",
    "\n",
    "thislist = [100, 50, 65, 82, 23]\n",
    "thislist.sort(reverse = True)\n",
    "print(thislist)"
   ]
  },
  {
   "cell_type": "code",
   "execution_count": 34,
   "id": "54f1261c",
   "metadata": {},
   "outputs": [
    {
     "name": "stdout",
     "output_type": "stream",
     "text": [
      "[38, 9, 2, 1]\n"
     ]
    }
   ],
   "source": [
    "x=[1,2,38,9]\n",
    "x.sort(reverse = True)\n",
    "print(x)"
   ]
  },
  {
   "cell_type": "markdown",
   "id": "789f6e96",
   "metadata": {},
   "source": [
    "# Python - Join Lists\n",
    "## Join Two Lists\n",
    "There are several ways to join, or concatenate, two or more lists in Python.\n",
    "\n",
    "One of the easiest ways are by using the + operator."
   ]
  },
  {
   "cell_type": "code",
   "execution_count": 42,
   "id": "7ac23469",
   "metadata": {},
   "outputs": [
    {
     "name": "stdout",
     "output_type": "stream",
     "text": [
      "['a', 'b', 'c', 1, 2, 3]\n"
     ]
    }
   ],
   "source": [
    "list1 = [\"a\", \"b\", \"c\"]\n",
    "list2 = [1, 2, 3]\n",
    "\n",
    "list3 = list1 + list2\n",
    "print(list3)"
   ]
  },
  {
   "cell_type": "code",
   "execution_count": null,
   "id": "c8904460",
   "metadata": {},
   "outputs": [],
   "source": []
  }
 ],
 "metadata": {
  "kernelspec": {
   "display_name": "Python 3 (ipykernel)",
   "language": "python",
   "name": "python3"
  },
  "language_info": {
   "codemirror_mode": {
    "name": "ipython",
    "version": 3
   },
   "file_extension": ".py",
   "mimetype": "text/x-python",
   "name": "python",
   "nbconvert_exporter": "python",
   "pygments_lexer": "ipython3",
   "version": "3.9.13"
  }
 },
 "nbformat": 4,
 "nbformat_minor": 5
}
