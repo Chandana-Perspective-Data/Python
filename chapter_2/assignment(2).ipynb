{
 "cells": [
  {
   "cell_type": "markdown",
   "id": "4d655a28",
   "metadata": {},
   "source": [
    "# Write a program that accepts 2 lists of 5 elements each and checks whether both lists have the same values/entries\n",
    "\n",
    "For ex: [1,3,5] and [3,5,1] \n",
    "\n",
    "Display “Yes” or “No” as the result depending on whether they have the same entries or not.\n",
    "\n",
    "Implement using\n",
    "\n",
    "(a) Dictionary\n",
    "\n",
    "(b) Set\n",
    "\n",
    "(c) No other data structures"
   ]
  },
  {
   "cell_type": "code",
   "execution_count": 2,
   "id": "5fec0921",
   "metadata": {},
   "outputs": [
    {
     "data": {
      "text/plain": [
       "True"
      ]
     },
     "execution_count": 2,
     "metadata": {},
     "output_type": "execute_result"
    }
   ],
   "source": [
    "d={\"a\":1,\"b\":2,\"c\":3}\n",
    "d1={\"a\":1,\"b\":2,\"c\":3}\n",
    "d==d1\n"
   ]
  },
  {
   "cell_type": "code",
   "execution_count": null,
   "id": "5b3080de",
   "metadata": {},
   "outputs": [],
   "source": []
  },
  {
   "cell_type": "code",
   "execution_count": 1,
   "id": "d3a4748f",
   "metadata": {},
   "outputs": [
    {
     "name": "stdout",
     "output_type": "stream",
     "text": [
      "Yes\n"
     ]
    }
   ],
   "source": [
    "# (a) Using Dictionary:\n",
    "list1 = [1,3,5]\n",
    "list2 = [3,5,1]\n",
    "\n",
    "list1_dict = {}\n",
    "list2_dict = {}\n",
    "\n",
    "for i in list1:\n",
    "    if i in list1_dict:\n",
    "        list1_dict[i] += 1\n",
    "    else:\n",
    "        list1_dict[i] = 1\n",
    "\n",
    "for i in list2:\n",
    "    if i in list2_dict:\n",
    "        list2_dict[i] += 1\n",
    "    else:\n",
    "        list2_dict[i] = 1\n",
    "\n",
    "if list1_dict == list2_dict:\n",
    "    print(\"Yes\")\n",
    "else:\n",
    "    print(\"No\")\n"
   ]
  },
  {
   "cell_type": "code",
   "execution_count": 2,
   "id": "7fdedaf5",
   "metadata": {},
   "outputs": [
    {
     "name": "stdout",
     "output_type": "stream",
     "text": [
      "Yes\n"
     ]
    }
   ],
   "source": [
    "# b) using sets\n",
    "list1 = [1,3,5]\n",
    "list2 = [3,5,1]\n",
    "\n",
    "set1 = set(list1)\n",
    "set2 = set(list2)\n",
    "\n",
    "if set1 == set2:\n",
    "    print(\"Yes\")\n",
    "else:\n",
    "    print(\"No\")\n"
   ]
  },
  {
   "cell_type": "code",
   "execution_count": 3,
   "id": "5e6c2844",
   "metadata": {},
   "outputs": [
    {
     "name": "stdout",
     "output_type": "stream",
     "text": [
      "Yes\n"
     ]
    }
   ],
   "source": [
    "# (c) Using No other data structures:\n",
    "list1 = [1,3,5]\n",
    "list2 = [3,5,1]\n",
    "\n",
    "if len(list1) != len(list2):\n",
    "    print(\"No\")\n",
    "\n",
    "for i in list1:\n",
    "    if i not in list2:\n",
    "        print(\"No\")\n",
    "        break\n",
    "else:\n",
    "    print(\"Yes\")\n"
   ]
  },
  {
   "cell_type": "code",
   "execution_count": null,
   "id": "0f8dc9ca",
   "metadata": {},
   "outputs": [],
   "source": []
  }
 ],
 "metadata": {
  "kernelspec": {
   "display_name": "Python 3 (ipykernel)",
   "language": "python",
   "name": "python3"
  },
  "language_info": {
   "codemirror_mode": {
    "name": "ipython",
    "version": 3
   },
   "file_extension": ".py",
   "mimetype": "text/x-python",
   "name": "python",
   "nbconvert_exporter": "python",
   "pygments_lexer": "ipython3",
   "version": "3.9.13"
  }
 },
 "nbformat": 4,
 "nbformat_minor": 5
}
