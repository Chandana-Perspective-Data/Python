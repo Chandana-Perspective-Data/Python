{
 "cells": [
  {
   "cell_type": "markdown",
   "id": "57ae9b7f",
   "metadata": {},
   "source": [
    " 2. To get the average salary of employees grouped by their department, along with the department name, you can use the following SQL query:\n",
    " \n",
    "SELECT d.Department_id, d.HOD_Name, AVG(e.Salary) AS Average_Salary\n",
    "FROM Department d\n",
    "JOIN Employee e ON d.HOD_Name = e.Name\n",
    "GROUP BY d.Department_id, d.HOD_Name;\n",
    "\n",
    "\n",
    "This will give you the average salary of employees in each department, along with the department id and the name of the head of department (HOD).\n",
    "\n",
    "Note that this query assumes that the \"Department\" table has a \"HOD_Name\" column and the \"Employee\" table has a \"Name\" column, and that the \"HOD_Name\" in the \"Department\" table corresponds to the \"Name\" of an employee in the \"Employee\" table.\n",
    "\n",
    "If the \"Department\" table has a \"HOD_id\" column instead of a \"HOD_Name\" column, you can use the following query instead:\n",
    "\n",
    "\n",
    "SELECT d.Department_id, e.Name AS HOD_Name, AVG(e.Salary) AS Average_Salary\n",
    "FROM Department d\n",
    "JOIN Employee e ON d.HOD_id = e.Employee_id\n",
    "GROUP BY d.Department_id, e.Name;"
   ]
  },
  {
   "cell_type": "code",
   "execution_count": null,
   "id": "0ad0ffb4",
   "metadata": {},
   "outputs": [],
   "source": [
    "class Car:\n",
    "    def __init__(self, make, model, year):\n",
    "        self.make = make\n",
    "        self.model = model\n",
    "        self.year = year\n",
    "    def start(self):\n",
    "        print(f\"{self.make} {self.model} {self.year} started\")\n",
    "    def stop(self):\n",
    "        print(f\"{self.make} {self.model} {self.year} stopped\")\n",
    "\n",
    "car1 = Car(\"Toyota\", \"Camry\", 2020)\n",
    "car2 = Car(\"Honda\", \"Civic\", 2018)\n",
    "car3 = Car(\"Ford\", \"Mustang\", 2022)\n",
    "\n",
    "car1.start()\n",
    "car1.stop()\n",
    "\n",
    "car2.start()\n",
    "car2.stop()\n",
    "\n",
    "car3.start()\n",
    "car3.stop()\n"
   ]
  },
  {
   "cell_type": "markdown",
   "id": "ed0a8b9e",
   "metadata": {},
   "source": [
    "In this example, Car is a class that has three instance variables: make, model, and year. It also has two instance methods, start() and stop().\n",
    "The __init__ method is the constructor which gets called when the object is created.\n",
    "We create three objects of the class Car with different make, model, and year. The instances are created by calling the class name as a function and passing the required parameters, e.g., car1 = Car(\"Toyota\", \"Camry\", 2020).\n",
    "Then, we use the dot notation to call the instance methods start() and stop() on each of the objects. As a result of this, it will print the statements with the appropriate make, model and year values which are specific to the object created."
   ]
  },
  {
   "cell_type": "code",
   "execution_count": 1,
   "id": "3135b06c",
   "metadata": {},
   "outputs": [
    {
     "name": "stdout",
     "output_type": "stream",
     "text": [
      "Fido says woof woof!\n",
      "Name: Fido Breed: Golden Retriever\n",
      "Buddy says woof woof!\n",
      "Name: Buddy Breed: Beagle\n"
     ]
    }
   ],
   "source": [
    "class Dog:\n",
    "    def __init__(self, name, breed):\n",
    "        self.name = name\n",
    "        self.breed = breed\n",
    "    def bark(self):\n",
    "        print(f\"{self.name} says woof woof!\")\n",
    "    def display(self):\n",
    "        print(f\"Name: {self.name} Breed: {self.breed}\")\n",
    "\n",
    "dog1 = Dog(\"Fido\", \"Golden Retriever\")\n",
    "dog2 = Dog(\"Buddy\", \"Beagle\")\n",
    "\n",
    "dog1.bark()\n",
    "dog1.display()\n",
    "\n",
    "dog2.bark()\n",
    "dog2.display()\n"
   ]
  },
  {
   "cell_type": "markdown",
   "id": "96394dc8",
   "metadata": {},
   "source": [
    "This example creates a Dog class, with the init method which takes the parameters name and breed and it assigns the variables self.name and self.breed. Then, it defines two methods bark() and display().\n",
    "Then, it creates two objects of the class dog1 and dog2 with different names and breeds.\n",
    "Then, it uses the dot notation to call the methods bark() and display() on each of the objects which prints the Name and Breed specific to the object.\n",
    "You can create as many objects as you want from this class and give them different values for the name and breed attributes, and use the methods to make them bark and display their information."
   ]
  },
  {
   "cell_type": "markdown",
   "id": "14de48c9",
   "metadata": {},
   "source": [
    "3. Write a query to get the list of HODs whose salary is greater than average salary of HODs"
   ]
  }
 ],
 "metadata": {
  "kernelspec": {
   "display_name": "Python 3 (ipykernel)",
   "language": "python",
   "name": "python3"
  },
  "language_info": {
   "codemirror_mode": {
    "name": "ipython",
    "version": 3
   },
   "file_extension": ".py",
   "mimetype": "text/x-python",
   "name": "python",
   "nbconvert_exporter": "python",
   "pygments_lexer": "ipython3",
   "version": "3.9.13"
  }
 },
 "nbformat": 4,
 "nbformat_minor": 5
}
