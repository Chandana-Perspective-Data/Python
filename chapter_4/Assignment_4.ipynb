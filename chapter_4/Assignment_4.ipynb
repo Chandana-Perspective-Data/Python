{
 "cells": [
  {
   "cell_type": "markdown",
   "id": "414e6a6a",
   "metadata": {},
   "source": [
    "# 4.B.1: ASSIGNMENT\n",
    "\n",
    "PROBLEM STATEMENT\n",
    "\n",
    "\n",
    "\n",
    "Create a database named “employee_management” and create following tables:\n",
    "\n",
    "Employee: Employee id, Name, DoB, Salary, Department_id\n",
    "\n",
    "Department: Department id, HOD Name (Note: head of department, will be one of the employees)\n",
    "\n",
    "Create at least 4 departments and 5 employee entries under each of them. \n",
    "\n",
    "\n",
    "Q.1> Apply constraints on the table such that we cannot make an entry to the department table with an employee id that doesn’t exist in the Employee table\n",
    "\n",
    "\n",
    "Q.2> Write a query to get average salary of employees grouped by their department and show along with department name\n",
    "\n",
    "Ex:\n",
    "\n",
    "Department      Average_Salary\n",
    "\n",
    "Sales                  20000\n",
    "\n",
    "HR                      40000\n",
    "\n",
    "\n",
    "Q.3> Write a query to get the list of HODs whose salary is greater than average salary of HODs\n",
    "\n",
    "\n",
    "Q.4> Write a query to get the names of youngest and oldest HOD along with their age\n",
    "\n",
    "\n",
    "Q.5> Write a query to get the list of departments where HODs earn at least twice the average salary of the other employees in that department."
   ]
  },
  {
   "cell_type": "markdown",
   "id": "81764c5a",
   "metadata": {},
   "source": [
    "CREATE DATABASE employee_management;\n",
    "\n",
    "USE employee_management;\n",
    "\n",
    "CREATE TABLE Employee (\n",
    "  Employee_id INT PRIMARY KEY,\n",
    "  Name VARCHAR(255),\n",
    "  DoB DATE,\n",
    "  Salary INT,\n",
    "  Department_id INT,\n",
    "  FOREIGN KEY (Department_id) REFERENCES Department(Department_id)\n",
    ");\n",
    "\n",
    "CREATE TABLE Department (\n",
    "  Department_id INT PRIMARY KEY,\n",
    "  HOD_Name INT,\n",
    "  FOREIGN KEY (HOD_Name) REFERENCES Employee(Employee_id)\n",
    ");\n",
    "\n",
    "\n",
    "INSERT INTO Department (HOD_Name) VALUES (\"Jhansi\"), (\"rajji\"), (\"stella\"), (\"varsha\");"
   ]
  },
  {
   "cell_type": "markdown",
   "id": "08a3ff3b",
   "metadata": {},
   "source": [
    "\n",
    "INSERT INTO Employee (Name, DoB, Salary, Department_id) VALUES \n",
    "  \n",
    "  (\"Jhansi\", \"1980-01-01\", 50000, 1), \n",
    "  \n",
    "  (\"Jeevitha\", \"1985-01-01\", 45000, 1), \n",
    "  \n",
    "  (\"Bhavana\", \"1990-01-01\", 40000, 1), \n",
    "  \n",
    "  (\"Anitha\", \"1995-01-01\", 35000, 1), \n",
    "  \n",
    "  (\"Manju\", \"2000-01-01\", 30000, 1),\n",
    "  \n",
    "  (\"rani\", \"1980-01-01\", 50000, 2), \n",
    "  \n",
    "  (\"seetha\", \"1985-01-01\", 45000, 2), \n",
    "  \n",
    "  (\"Ram\", \"1990-01-01\", 40000, 2), \n",
    "  \n",
    "  (\"Raj\", \"1995-01-01\", 35000, 2), \n",
    "  \n",
    "  (\"Deepika\", \"2000-01-01\", 30000, 2),\n",
    "  \n",
    "  (\"Ganga\", \"1980-01-01\", 50000, 3), \n",
    "  \n",
    "  (\"Stella\", \"1985-01-01\", 45000, 3), \n",
    "  \n",
    "  (\"Bujji\", \"1990-01-01\", 40000, 3), \n",
    "  \n",
    "  (\"Keerthi\", \"1995-01-01\", 35000, 3), \n",
    "  \n",
    "  (\"Mounika\", \"2000-01-01\", 30000, 3),\n",
    "  \n",
    "  (\"Nandhini\", \"1980-01-01\", 50000, 4), \n",
    "  \n",
    "  (\"Varun\", \"1985-01-01\", 45000, 4), \n",
    "  \n",
    "  (\"Harish\", \"1990-01-01\", 40000, 4), \n",
    "  \n",
    "  (\"Vamshi\", \"1995-01-01\", 35000, 4), \n",
    "  \n",
    "  (\"Sindhu\", \"2000-01-01\", 30000, 4);\n",
    "  \n",
    "  select *from Department;\n",
    "  \n",
    "  SELECT *FROM Employee;\n"
   ]
  },
  {
   "cell_type": "markdown",
   "id": "06c51a7d",
   "metadata": {},
   "source": [
    "1.Apply constraints on the table such that we cannot make an entry to the department table with an employee id that doesn’t exist in the Employee table"
   ]
  },
  {
   "cell_type": "markdown",
   "id": "be12bb50",
   "metadata": {},
   "source": [
    "ALTER TABLE department\n",
    "ADD FOREIGN KEY (employee_id) REFERENCES employee(id);\n",
    "\n",
    "CREATE TABLE Department (\n",
    "  Department_id INT PRIMARY KEY,\n",
    "  HOD_id INT,\n",
    "  FOREIGN KEY (HOD_id) REFERENCES Employee(Employee_id)\n",
    ");\n"
   ]
  },
  {
   "cell_type": "markdown",
   "id": "7c3684d7",
   "metadata": {},
   "source": [
    "2.Write a query to get average salary of employees grouped by their department and show along with department name\n",
    "\n",
    "Ex:\n",
    "\n",
    "Department      Average_Salary\n",
    "\n",
    "Sales                  20000\n",
    "\n",
    "HR                      40000\n",
    "\n",
    "\n",
    "\n",
    "SELECT department, AVG(salary) AS Average_Salary\n",
    "FROM employees\n",
    "GROUP BY department;"
   ]
  },
  {
   "cell_type": "markdown",
   "id": "12d44dc2",
   "metadata": {},
   "source": [
    "3. Write a query to get the list of HODs whose salary is greater than average salary of HODs\n",
    "\n",
    "\n",
    "SELECT *FROM employees\n",
    "WHERE salary > (SELECT AVG(salary) FROM employees WHERE designation = 'HOD')\n",
    "AND designation = 'HOD';"
   ]
  },
  {
   "cell_type": "markdown",
   "id": "c7272e88",
   "metadata": {},
   "source": [
    "1..The first part of the query selects the name and salary of all employees, and joins the department table to get the department for each employee.\n",
    "\n",
    "2..The second part of the query uses the WHERE clause to filter the results to only include employees who are HODs. This is done by comparing the employee's ID to the HOD ID in the department table.\n",
    "\n",
    "3..The third part of the query uses a subquery to calculate the average salary of all HODs. This subquery selects the salary of all employees who are HODs (identified by their ID being listed in the hod_id column in the department table), and calculates the average salary using the AVG function.\n",
    "\n",
    "4..The final part of the query compares the salary of each HOD to the average salary of all HODs, using the > operator. This filters the result set to only include HODs whose salary is greater than the average salary."
   ]
  },
  {
   "cell_type": "code",
   "execution_count": null,
   "id": "98bd8468",
   "metadata": {},
   "outputs": [],
   "source": []
  }
 ],
 "metadata": {
  "kernelspec": {
   "display_name": "Python 3 (ipykernel)",
   "language": "python",
   "name": "python3"
  },
  "language_info": {
   "codemirror_mode": {
    "name": "ipython",
    "version": 3
   },
   "file_extension": ".py",
   "mimetype": "text/x-python",
   "name": "python",
   "nbconvert_exporter": "python",
   "pygments_lexer": "ipython3",
   "version": "3.9.13"
  }
 },
 "nbformat": 4,
 "nbformat_minor": 5
}
