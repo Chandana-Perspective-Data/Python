{
 "cells": [
  {
   "cell_type": "markdown",
   "id": "c23ecf18",
   "metadata": {},
   "source": [
    "# 1. How can I make a tuple out of a list?"
   ]
  },
  {
   "cell_type": "code",
   "execution_count": 1,
   "id": "d3d08e3e",
   "metadata": {},
   "outputs": [
    {
     "name": "stdout",
     "output_type": "stream",
     "text": [
      "('jan', 'feb', 'mar', 'apr', 'may', 'jun', 'jul', 'aug', 'sep', 'oct', 'nov', 'dec')\n",
      "<class 'tuple'>\n"
     ]
    }
   ],
   "source": [
    "month = ['jan','feb','mar','apr','may','jun','jul','aug','sep','oct','nov','dec']\n",
    "converting_list = tuple(month)  \n",
    "print(converting_list)  \n",
    "print(type(converting_list))  "
   ]
  },
  {
   "cell_type": "markdown",
   "id": "1bb66d47",
   "metadata": {},
   "source": [
    "# 2.Is it possible to build a Python program that reverses a number?"
   ]
  },
  {
   "cell_type": "code",
   "execution_count": 2,
   "id": "3c74c635",
   "metadata": {},
   "outputs": [
    {
     "name": "stdout",
     "output_type": "stream",
     "text": [
      "Enter number: 12345\n",
      "The reverse of the number: 54321\n"
     ]
    }
   ],
   "source": [
    "n = int(input(\"Enter number: \"))  \n",
    "  \n",
    "reverse = 0  \n",
    "  \n",
    "while(n>0):  \n",
    "    digit = n%10  \n",
    "    reverse = reverse*10+digit  \n",
    "    n=n//10  \n",
    "print(\"The reverse of the number:\",reverse)  "
   ]
  },
  {
   "cell_type": "markdown",
   "id": "b0a0a52a",
   "metadata": {},
   "source": [
    "# 3. In Python, what are docstrings?\n",
    "Docstrings stands for documentation strings, which are not just comments. We enclose the docstrings in triple quotation marks. They are not allocated to any variable, and, as a result, they can also be used as comments."
   ]
  },
  {
   "cell_type": "code",
   "execution_count": 4,
   "id": "05eee79a",
   "metadata": {},
   "outputs": [
    {
     "name": "stdout",
     "output_type": "stream",
     "text": [
      "Result of multiplication:  1755\n"
     ]
    }
   ],
   "source": [
    "# Python program to show how to write a docstring  \n",
    "  \n",
    "\"\"\" \n",
    "This is a docstring. \n",
    "We write docstrings to explain a program. \n",
    "This program will multiply two numbers and then display the output. \n",
    "\"\"\"  \n",
    "a = 39  \n",
    "b = 45  \n",
    "c = a * b  \n",
    "print(\"Result of multiplication: \", c)  "
   ]
  },
  {
   "cell_type": "markdown",
   "id": "468b7efe",
   "metadata": {},
   "source": [
    "# 4.In Python, create a program that generates a Fibonacci sequence.\n"
   ]
  },
  {
   "cell_type": "code",
   "execution_count": 10,
   "id": "1556b23e",
   "metadata": {},
   "outputs": [
    {
     "name": "stdout",
     "output_type": "stream",
     "text": [
      "[0, 1, 1, 2, 3, 5, 8, 13, 21]\n"
     ]
    }
   ],
   "source": [
    "#taking number of terms to print the series  \n",
    "n = 9  \n",
    "first = 0 #first value of series  \n",
    "second = 1 #second value of series  \n",
    "series = [first, second]  \n",
    "if n == 0:  \n",
    "    print(\"The required fibonacci series is\",first)  \n",
    "else:\n",
    "    for i in range(0,n-2):\n",
    "        num = series[i] + series[i+1]\n",
    "        series.append(num)  \n",
    "print(series)  "
   ]
  },
  {
   "cell_type": "markdown",
   "id": "01a7b25b",
   "metadata": {},
   "source": [
    "# 5.Create a Python program that checks if a given sequence is a Palindrome."
   ]
  },
  {
   "cell_type": "code",
   "execution_count": 11,
   "id": "f1ec87c0",
   "metadata": {},
   "outputs": [
    {
     "name": "stdout",
     "output_type": "stream",
     "text": [
      "The sequence is a palindrome\n"
     ]
    }
   ],
   "source": [
    "# Creating a string  \n",
    "sequence = 'madam'  \n",
    "# Reversing the string  \n",
    "reverse = sequence[::-1]  \n",
    "  \n",
    "# Checking if the string is a palindrome  \n",
    "if reverse == sequence:  \n",
    "    print(\"The sequence is a palindrome\")  \n",
    "else:  \n",
    "    print(\"The sequence is not a palindrome\")  "
   ]
  },
  {
   "cell_type": "markdown",
   "id": "aff57492",
   "metadata": {},
   "source": [
    "# 6. Write a Python code to reverse a given list."
   ]
  },
  {
   "cell_type": "code",
   "execution_count": 14,
   "id": "fcb981ab",
   "metadata": {},
   "outputs": [
    {
     "name": "stdout",
     "output_type": "stream",
     "text": [
      "Reverse order of x is\n",
      "75 24 86 24 86 76 23 24 5 12 23 "
     ]
    }
   ],
   "source": [
    "x = [23, 12, 5, 24, 23, 76, 86, 24, 86, 24, 75]  \n",
    "  \n",
    "print(\"Reverse order of x is\")  \n",
    "# Reversing the given array  \n",
    "for i in range(len(x)-1, -1, -1):\n",
    "    print(x[i], end=' ')  "
   ]
  },
  {
   "cell_type": "markdown",
   "id": "1c0f6545",
   "metadata": {},
   "source": [
    "# 7.Python program to display calendar\n",
    "It is simple in python programming to display calendar. To do so, you need to import the calendar module which comes with Python.\n",
    "\n",
    "\n",
    "import calendar  \n",
    " And then apply the syntax  \n",
    "(calendar.month(yy,mm))  \n"
   ]
  },
  {
   "cell_type": "code",
   "execution_count": 15,
   "id": "8f7bfd8e",
   "metadata": {},
   "outputs": [
    {
     "name": "stdout",
     "output_type": "stream",
     "text": [
      "Enter year: 2023\n",
      "Enter month: 01\n",
      "    January 2023\n",
      "Mo Tu We Th Fr Sa Su\n",
      "                   1\n",
      " 2  3  4  5  6  7  8\n",
      " 9 10 11 12 13 14 15\n",
      "16 17 18 19 20 21 22\n",
      "23 24 25 26 27 28 29\n",
      "30 31\n",
      "\n"
     ]
    }
   ],
   "source": [
    "import calendar  \n",
    "# Enter the month and year  \n",
    "yy = int(input(\"Enter year: \"))  \n",
    "mm = int(input(\"Enter month: \"))  \n",
    "  \n",
    "# display the calendar  \n",
    "print(calendar.month(yy,mm))  "
   ]
  },
  {
   "attachments": {
    "image.png": {
     "image/png": "[encoded data removed]"
    }
   },
   "cell_type": "markdown",
   "id": "1b800163",
   "metadata": {},
   "source": [
    "# 8.Python Program to check if a Number is Positive, Negative or Zero\n",
    "Here, we will learn to write a Python program through which we can check if the given number is positive, zero, or negative.\n",
    "\n",
    "Positive Numbers: A number is said to be positive if the number has a value greater than 0, like 1, 2, 3, 5, 7, 9, 11, 13, etc. All the natural numbers are positive numbers.\n",
    "\n",
    "Negative Numbers: If a given number has a value less than 0 like -1, -2, -3, -5, -7, -9, -11, -13, etc., then we can say that the given number is a negative number. Only rational and integer type numbers can have negative values or numbers.\n",
    " \n",
    " \n",
    "![image.png](attachment:image.png)"
   ]
  },
  {
   "cell_type": "code",
   "execution_count": 17,
   "id": "c7beed7b",
   "metadata": {},
   "outputs": [
    {
     "name": "stdout",
     "output_type": "stream",
     "text": [
      "Enter a number as input value: 6\n",
      "Number given by you is Positive\n"
     ]
    }
   ],
   "source": [
    "# Default function to run if else condition  \n",
    "def NumberCheck(a):   \n",
    "    # Checking if the number is positive  \n",
    "    if a > 0:   \n",
    "        print(\"Number given by you is Positive\")   \n",
    "    # Checking if the number is negative   \n",
    "    elif a < 0:   \n",
    "        print(\"Number given by you is Negative\")   \n",
    "    # Else the number is zero  \n",
    "    else:   \n",
    "        print(\"Number given by you is zero\")  \n",
    "# Taking number from user  \n",
    "a = float(input(\"Enter a number as input value: \"))  \n",
    "# Printing result  \n",
    "NumberCheck(a)  "
   ]
  },
  {
   "cell_type": "markdown",
   "id": "bff52b36",
   "metadata": {},
   "source": [
    "# 9.Python program to find the area of a triangle\n",
    "\n",
    "Mathematical formula:\n",
    "Area of a triangle = (s*(s-a)*(s-b)*(s-c))-1/2"
   ]
  },
  {
   "cell_type": "code",
   "execution_count": 18,
   "id": "58867f89",
   "metadata": {},
   "outputs": [
    {
     "name": "stdout",
     "output_type": "stream",
     "text": [
      "Enter first side: 12\n",
      "Enter second side: 24\n",
      "Enter third side: 28\n",
      "The area of the triangle is 143.11\n"
     ]
    }
   ],
   "source": [
    "# Three sides of the triangle is a, b and c:  \n",
    "a = float(input('Enter first side: '))  \n",
    "b = float(input('Enter second side: '))  \n",
    "c = float(input('Enter third side: '))  \n",
    "  \n",
    "# calculate the semi-perimeter  \n",
    "s = (a + b + c) / 2  \n",
    "  \n",
    "# calculate the area  \n",
    "area = (s*(s-a)*(s-b)*(s-c)) ** 0.5  \n",
    "print('The area of the triangle is %0.2f' %area)   "
   ]
  },
  {
   "cell_type": "markdown",
   "id": "68b905fa",
   "metadata": {},
   "source": [
    "# 10.Python Program to Check Leap Year\n",
    "\n",
    "Leap Year:\n",
    "\n",
    "A year is called a leap year if it contains an additional day which makes the number of the days in that year is 366. This additional day is added in February which makes it 29 days long.\n",
    "\n",
    "A leap year occurred once every 4 years.\n",
    "\n",
    "How to determine if a year is a leap year?\n",
    "\n",
    "You should follow the following steps to determine whether a year is a leap year or not.\n",
    "\n",
    "1.If a year is evenly divisible by 4 means having no remainder then go to next step. If it is not divisible by 4. It is not a leap year. For example: 1997 is not a leap year.\n",
    "\n",
    "2.If a year is divisible by 4, but not by 100. For example: 2012, it is a leap year. If a year is divisible by both 4 and 100, go to next step.\n",
    "\n",
    "3.If a year is divisible by 100, but not by 400. For example: 1900, then it is not a leap year. If a year is divisible by both, then it is a leap year. So 2000 is a leap year.\n"
   ]
  },
  {
   "cell_type": "code",
   "execution_count": 19,
   "id": "609e3d54",
   "metadata": {},
   "outputs": [
    {
     "name": "stdout",
     "output_type": "stream",
     "text": [
      "Enter the number: 2023\n",
      "Given Year is not a leap Year\n"
     ]
    }
   ],
   "source": [
    "def CheckLeap(Year):  \n",
    "  # Checking if the given year is leap year  \n",
    "  if((Year % 400 == 0) or  \n",
    "     (Year % 100 != 0) and  \n",
    "     (Year % 4 == 0)):   \n",
    "    print(\"Given Year is a leap Year\");  \n",
    "  # Else it is not a leap year  \n",
    "  else:  \n",
    "    print (\"Given Year is not a leap Year\")  \n",
    "# Taking an input year from user  \n",
    "Year = int(input(\"Enter the number: \"))  \n",
    "# Printing result  \n",
    "CheckLeap(Year)  "
   ]
  },
  {
   "cell_type": "markdown",
   "id": "2fb3411d",
   "metadata": {},
   "source": [
    "# 11.Python Program to Check Prime Number\n",
    "\n",
    "\n",
    "If the natural number is greater than 1 and having no positive divisors other than 1 and the number itself etc.\n",
    "\n",
    "For example: 3, 7, 11 etc are prime numbers."
   ]
  },
  {
   "cell_type": "code",
   "execution_count": 20,
   "id": "641ef663",
   "metadata": {},
   "outputs": [
    {
     "name": "stdout",
     "output_type": "stream",
     "text": [
      "Enter an input number:12\n",
      "12 is not a prime number\n"
     ]
    }
   ],
   "source": [
    "# A default function for Prime checking conditions  \n",
    "def PrimeChecker(a):  \n",
    "    # Checking that given number is more than 1  \n",
    "    if a > 1:  \n",
    "        # Iterating over the given number with for loop  \n",
    "        for j in range(2, int(a/2) + 1):  \n",
    "            # If the given number is divisible or not  \n",
    "            if (a % j) == 0:  \n",
    "                print(a, \"is not a prime number\")  \n",
    "                break  \n",
    "        # Else it is a prime number  \n",
    "        else:  \n",
    "            print(a, \"is a prime number\")  \n",
    "    # If the given number is 1  \n",
    "    else:  \n",
    "        print(a, \"is not a prime number\")  \n",
    "# Taking an input number from the user  \n",
    "a = int(input(\"Enter an input number:\"))  \n",
    "# Printing result  \n",
    "PrimeChecker(a)  "
   ]
  },
  {
   "cell_type": "markdown",
   "id": "d4ca2d98",
   "metadata": {},
   "source": [
    "# 12.Python Program to Print all Prime Numbers in an Interval\n",
    "\n",
    "A prime number is a natural number which is greater than 1 and has no positive divisor other than 1 and itself, such as 2, 3, 5, 7, 11, 13, and so on.\n",
    "\n",
    "The user is given two integer numbers, lower value, and upper value. The task is to write the Python program for printing all the prime numbers between the given interval (or range).\n",
    "\n",
    "\n",
    "Step 1: Loop through all the elements in the given range.\n",
    "\n",
    "Step 2: Check for each number if it has any factor between 1 and \n",
    "itself.\n",
    "\n",
    "Step 3: If yes, then the number is not prime, and it will move to the next number.\n",
    "\n",
    "Step 4: If no, it is the prime number, and the program will print it and check for the next number.\n",
    "\n",
    "Step 5: The loop will break when it is reached to the upper value."
   ]
  },
  {
   "cell_type": "code",
   "execution_count": 21,
   "id": "642b835c",
   "metadata": {},
   "outputs": [
    {
     "name": "stdout",
     "output_type": "stream",
     "text": [
      "Please, Enter the Lowest Range Value: 12\n",
      "Please, Enter the Upper Range Value: 34\n",
      "The Prime Numbers in the range are: \n",
      "13\n",
      "17\n",
      "19\n",
      "23\n",
      "29\n",
      "31\n"
     ]
    }
   ],
   "source": [
    "lower_value = int(input (\"Please, Enter the Lowest Range Value: \"))  \n",
    "upper_value = int(input (\"Please, Enter the Upper Range Value: \"))  \n",
    "  \n",
    "print (\"The Prime Numbers in the range are: \")  \n",
    "for number in range (lower_value, upper_value + 1):  \n",
    "    if number > 1:  \n",
    "        for i in range (2, number):  \n",
    "            if (number % i) == 0:  \n",
    "                break  \n",
    "        else:  \n",
    "            print (number)  "
   ]
  },
  {
   "cell_type": "markdown",
   "id": "1a0f484d",
   "metadata": {},
   "source": [
    "# 13.Python Program to Display the Multiplication Table\n"
   ]
  },
  {
   "cell_type": "code",
   "execution_count": 1,
   "id": "d3ea3dcb",
   "metadata": {},
   "outputs": [
    {
     "name": "stdout",
     "output_type": "stream",
     "text": [
      "Enter the number of which the user wants to print the multiplication table: 3\n",
      "The Multiplication Table of:  3\n",
      "3 x 1 = 3\n",
      "3 x 2 = 6\n",
      "3 x 3 = 9\n",
      "3 x 4 = 12\n",
      "3 x 5 = 15\n",
      "3 x 6 = 18\n",
      "3 x 7 = 21\n",
      "3 x 8 = 24\n",
      "3 x 9 = 27\n",
      "3 x 10 = 30\n"
     ]
    }
   ],
   "source": [
    "number = int(input (\"Enter the number of which the user wants to print the multiplication table: \"))      \n",
    "# We are using \"for loop\" to iterate the multiplication 10 times       \n",
    "print (\"The Multiplication Table of: \", number)    \n",
    "for count in range(1, 11):      \n",
    "   print (number, 'x', count, '=', number * count)    "
   ]
  },
  {
   "cell_type": "markdown",
   "id": "d15fc43b",
   "metadata": {},
   "source": [
    "# 14.1. Write a function to check whether given number is Palidrome. Example: A palindrome number is a number that is same after reverse. For example 545, is the palindrome numbers."
   ]
  },
  {
   "cell_type": "code",
   "execution_count": 1,
   "id": "8ec94102",
   "metadata": {},
   "outputs": [
    {
     "name": "stdout",
     "output_type": "stream",
     "text": [
      "True\n",
      "False\n"
     ]
    }
   ],
   "source": [
    "def isPalindrome(num):\n",
    "    # convert the number to a string\n",
    "    num = str(num)\n",
    "    # check if the string is the same forwards and backwards\n",
    "    if num == num[::-1]:\n",
    "        return True\n",
    "    else:\n",
    "        return False\n",
    "\n",
    "# test the function\n",
    "print(isPalindrome(545)) # prints True\n",
    "print(isPalindrome(123)) # prints False\n"
   ]
  },
  {
   "cell_type": "markdown",
   "id": "a2be8b6e",
   "metadata": {},
   "source": [
    "In this function, first we convert the number to a string, then we check if the number is the same when read forwards and backwards. If it is, we return True, otherwise we return False. The function uses slicing to reverse the string and check if it is the same as the original string or not."
   ]
  },
  {
   "cell_type": "markdown",
   "id": "c3382326",
   "metadata": {},
   "source": [
    "# 2. Create a new list from a two list using the following condition\n",
    "\n",
    "Given a two list of numbers, write a program to create a new list such that the new list should contain odd numbers from the first list and even numbers from the second list."
   ]
  },
  {
   "cell_type": "code",
   "execution_count": 2,
   "id": "bf9e3fc2",
   "metadata": {},
   "outputs": [
    {
     "name": "stdout",
     "output_type": "stream",
     "text": [
      "[1, 3, 5, 6, 8, 10]\n"
     ]
    }
   ],
   "source": [
    "list1 = [1, 2, 3, 4, 5]\n",
    "list2 = [6, 7, 8, 9, 10]\n",
    "\n",
    "# create a new list to store the result\n",
    "result = []\n",
    "\n",
    "# iterate over the first list and add odd numbers to the result\n",
    "for num in list1:\n",
    "    if num % 2 != 0:\n",
    "        result.append(num)\n",
    "\n",
    "# iterate over the second list and add even numbers to the result\n",
    "for num in list2:\n",
    "    if num % 2 == 0:\n",
    "        result.append(num)\n",
    "\n",
    "print(result)\n"
   ]
  },
  {
   "cell_type": "markdown",
   "id": "51ddabf8",
   "metadata": {},
   "source": [
    "In this code, first we create two lists list1 and list2 and then a new empty list result. Then we use for loop to iterate over the first list, using an if statement to check if the current number is odd or not, if it is odd we append it to the result list. Next, we iterate over the second list in a similar manner, checking if the current number is even or not, if it is even we append it to the result list. Finally, we print the result list which contains odd numbers from the first list and even numbers from the second list.\n",
    "\n",
    "\n",
    "\n"
   ]
  },
  {
   "cell_type": "markdown",
   "id": "d89919a3",
   "metadata": {},
   "source": [
    "# 3. Write a Program to extract each digit from an integer in the reverse order.\n",
    "\n",
    "For example, If the given int is 7536, the output shall be “6 3 5 7“, with a space separating the digits."
   ]
  },
  {
   "cell_type": "code",
   "execution_count": 3,
   "id": "614b3240",
   "metadata": {},
   "outputs": [
    {
     "name": "stdout",
     "output_type": "stream",
     "text": [
      "6 3 5 7 "
     ]
    }
   ],
   "source": [
    "num = 7536\n",
    "\n",
    "# convert the number to a string\n",
    "num_str = str(num)\n",
    "\n",
    "# reverse the string\n",
    "num_str = num_str[::-1]\n",
    "\n",
    "# iterate over the string and print each digit\n",
    "for digit in num_str:\n",
    "    print(digit, end=' ')\n"
   ]
  },
  {
   "cell_type": "code",
   "execution_count": 4,
   "id": "20d47113",
   "metadata": {},
   "outputs": [
    {
     "name": "stdout",
     "output_type": "stream",
     "text": [
      "6 3 5 7\n"
     ]
    }
   ],
   "source": [
    "# Alternatively, we can use list comprehension and join method to get the same output.\n",
    "num = 7536\n",
    "num_list = [int(x) for x in str(num)[::-1]]\n",
    "print(\" \".join(map(str,num_list)))\n"
   ]
  },
  {
   "cell_type": "markdown",
   "id": "8e6a3813",
   "metadata": {},
   "source": [
    "# 4. Write a function that returns a multiplication table form 1 to 10"
   ]
  },
  {
   "cell_type": "code",
   "execution_count": 6,
   "id": "a763cb3c",
   "metadata": {},
   "outputs": [
    {
     "name": "stdout",
     "output_type": "stream",
     "text": [
      "1 2 3 4 5 6 7 8 9 10 \n",
      "2 4 6 8 10 12 14 16 18 20 \n",
      "3 6 9 12 15 18 21 24 27 30 \n",
      "4 8 12 16 20 24 28 32 36 40 \n",
      "5 10 15 20 25 30 35 40 45 50 \n",
      "6 12 18 24 30 36 42 48 54 60 \n",
      "7 14 21 28 35 42 49 56 63 70 \n",
      "8 16 24 32 40 48 56 64 72 80 \n",
      "9 18 27 36 45 54 63 72 81 90 \n",
      "10 20 30 40 50 60 70 80 90 100 \n"
     ]
    }
   ],
   "source": [
    "def multiplication_table():\n",
    "    for i in range(1, 11):\n",
    "        for j in range(1, 11):\n",
    "            print(i * j, end=' ')\n",
    "        print()\n",
    "\n",
    "multiplication_table()\n"
   ]
  },
  {
   "cell_type": "code",
   "execution_count": 7,
   "id": "f17a0470",
   "metadata": {},
   "outputs": [
    {
     "name": "stdout",
     "output_type": "stream",
     "text": [
      "[[1, 2, 3, 4, 5, 6, 7, 8, 9, 10], [2, 4, 6, 8, 10, 12, 14, 16, 18, 20], [3, 6, 9, 12, 15, 18, 21, 24, 27, 30], [4, 8, 12, 16, 20, 24, 28, 32, 36, 40], [5, 10, 15, 20, 25, 30, 35, 40, 45, 50], [6, 12, 18, 24, 30, 36, 42, 48, 54, 60], [7, 14, 21, 28, 35, 42, 49, 56, 63, 70], [8, 16, 24, 32, 40, 48, 56, 64, 72, 80], [9, 18, 27, 36, 45, 54, 63, 72, 81, 90], [10, 20, 30, 40, 50, 60, 70, 80, 90, 100]]\n"
     ]
    }
   ],
   "source": [
    "def multiplication_table():\n",
    "    return [[i*j for j in range(1,11)] for i in range(1,11)]\n",
    "\n",
    "print(multiplication_table())\n"
   ]
  },
  {
   "cell_type": "markdown",
   "id": "951d27f8",
   "metadata": {},
   "source": [
    "# 5. Return the count of a given substring from a string. For Example: sample = “inform him with latest inform”\n",
    "\n",
    "O/p: inform word present in 2 times"
   ]
  },
  {
   "cell_type": "code",
   "execution_count": 8,
   "id": "7e29e7f8",
   "metadata": {},
   "outputs": [
    {
     "name": "stdout",
     "output_type": "stream",
     "text": [
      "The substring 'inform' appears 2 times in the string 'inform him with latest inform'\n"
     ]
    }
   ],
   "source": [
    "def count_substring(string, substring):\n",
    "    return string.count(substring)\n",
    "\n",
    "sample = \"inform him with latest inform\"\n",
    "substring = \"inform\"\n",
    "print(\"The substring '{}' appears {} times in the string '{}'\".format(substring, count_substring(sample, substring), sample))\n"
   ]
  },
  {
   "cell_type": "code",
   "execution_count": 9,
   "id": "9c280745",
   "metadata": {},
   "outputs": [],
   "source": [
    "import re\n",
    "def count_substring(string, substring):\n",
    "    return len(re.findall(substring,string))\n"
   ]
  },
  {
   "cell_type": "markdown",
   "id": "e2d5f4f0",
   "metadata": {},
   "source": [
    "# 6. Check if the first and last number of a list is the same\n",
    "\n",
    "Write a function to return True if the first and last number of a given list is same. If numbers are different then return False."
   ]
  },
  {
   "cell_type": "code",
   "execution_count": 10,
   "id": "09e520b4",
   "metadata": {},
   "outputs": [
    {
     "name": "stdout",
     "output_type": "stream",
     "text": [
      "True\n",
      "False\n"
     ]
    }
   ],
   "source": [
    "def first_last_same(lst):\n",
    "    if lst[0] == lst[-1]:\n",
    "        return True\n",
    "    else:\n",
    "        return False\n",
    "\n",
    "my_list = [1, 2, 3, 4, 5, 1]\n",
    "print(first_last_same(my_list)) # prints True\n",
    "\n",
    "my_list = [1, 2, 3, 4, 5, 2]\n",
    "print(first_last_same(my_list)) # prints False\n"
   ]
  },
  {
   "cell_type": "markdown",
   "id": "72acbf2f",
   "metadata": {},
   "source": [
    "This function takes one argument lst which is the list we want to check. Then it uses an if-else statement to check if the first element of the list (accessed with index 0) is equal to the last element of the list (accessed with index -1). If they are equal, the function returns True, if not it returns False.\n",
    "\n",
    "We can also use the ternary operator to make it more concise and return True or False based on the condition.\n",
    "\n"
   ]
  },
  {
   "cell_type": "markdown",
   "id": "bff0502f",
   "metadata": {},
   "source": [
    "# 7. Write a program which will find all numbers which are divisible by 7 but are not a multiple of 5,\n",
    "between 2000 and 3200 (both included).\n",
    "The numbers obtained should be printed in a comma-separated sequence on a single line."
   ]
  },
  {
   "cell_type": "code",
   "execution_count": 11,
   "id": "263c7bfa",
   "metadata": {},
   "outputs": [
    {
     "name": "stdout",
     "output_type": "stream",
     "text": [
      "2002,2009,2016,2023,2037,2044,2051,2058,2072,2079,2086,2093,2107,2114,2121,2128,2142,2149,2156,2163,2177,2184,2191,2198,2212,2219,2226,2233,2247,2254,2261,2268,2282,2289,2296,2303,2317,2324,2331,2338,2352,2359,2366,2373,2387,2394,2401,2408,2422,2429,2436,2443,2457,2464,2471,2478,2492,2499,2506,2513,2527,2534,2541,2548,2562,2569,2576,2583,2597,2604,2611,2618,2632,2639,2646,2653,2667,2674,2681,2688,2702,2709,2716,2723,2737,2744,2751,2758,2772,2779,2786,2793,2807,2814,2821,2828,2842,2849,2856,2863,2877,2884,2891,2898,2912,2919,2926,2933,2947,2954,2961,2968,2982,2989,2996,3003,3017,3024,3031,3038,3052,3059,3066,3073,3087,3094,3101,3108,3122,3129,3136,3143,3157,3164,3171,3178,3192,3199\n"
     ]
    }
   ],
   "source": [
    "result = []\n",
    "for num in range(2000, 3201):\n",
    "    if num % 7 == 0 and num % 5 != 0:\n",
    "        result.append(str(num))\n",
    "print(','.join(result))\n"
   ]
  },
  {
   "cell_type": "markdown",
   "id": "1112b6ba",
   "metadata": {},
   "source": [
    "In this code, we first create an empty list called result. Then we use a for loop to iterate over the range of numbers from 2000 to 3201. For each number, we use an if statement to check if the number is divisible by 7 and not divisible by 5. If the number satisfies this condition, we append it to the result list as a string. Finally, we use the join() method to join the elements of the result list into a single string, separated by commas."
   ]
  },
  {
   "cell_type": "code",
   "execution_count": 12,
   "id": "bfdd146b",
   "metadata": {},
   "outputs": [
    {
     "name": "stdout",
     "output_type": "stream",
     "text": [
      "2002,2009,2016,2023,2037,2044,2051,2058,2072,2079,2086,2093,2107,2114,2121,2128,2142,2149,2156,2163,2177,2184,2191,2198,2212,2219,2226,2233,2247,2254,2261,2268,2282,2289,2296,2303,2317,2324,2331,2338,2352,2359,2366,2373,2387,2394,2401,2408,2422,2429,2436,2443,2457,2464,2471,2478,2492,2499,2506,2513,2527,2534,2541,2548,2562,2569,2576,2583,2597,2604,2611,2618,2632,2639,2646,2653,2667,2674,2681,2688,2702,2709,2716,2723,2737,2744,2751,2758,2772,2779,2786,2793,2807,2814,2821,2828,2842,2849,2856,2863,2877,2884,2891,2898,2912,2919,2926,2933,2947,2954,2961,2968,2982,2989,2996,3003,3017,3024,3031,3038,3052,3059,3066,3073,3087,3094,3101,3108,3122,3129,3136,3143,3157,3164,3171,3178,3192,3199\n"
     ]
    }
   ],
   "source": [
    "result = [str(num) for num in range(2000, 3201) if num % 7 == 0 and num % 5 != 0]\n",
    "print(','.join(result))\n"
   ]
  },
  {
   "cell_type": "markdown",
   "id": "906e4f88",
   "metadata": {},
   "source": [
    "In this code, we use list comprehension to filter out the numbers that are divisible by 7 and not divisible by 5 and store them as strings in a list. Then we use the join() method to join the elements of the result list into a single string, separated by commas."
   ]
  },
  {
   "cell_type": "code",
   "execution_count": 3,
   "id": "58647601",
   "metadata": {},
   "outputs": [
    {
     "name": "stdout",
     "output_type": "stream",
     "text": [
      "enter:1234\n",
      "reverse number: 4\n",
      "reverse number: 43\n",
      "reverse number: 432\n",
      "reverse number: 4321\n"
     ]
    }
   ],
   "source": [
    "# reverse\n",
    "number=int(input(\"enter:\"))\n",
    "sum=0\n",
    "while(number>0):\n",
    "    sum=(number%10+sum*10)\n",
    "    number=number//10\n",
    "    print(\"reverse number:\",sum)"
   ]
  },
  {
   "cell_type": "markdown",
   "id": "45379ddd",
   "metadata": {},
   "source": [
    "Sure, here's a line by line explanation of the given code:\n",
    "\n",
    "1.number = int(input(\"enter:\")) : This line of code prompts the user to enter a number, and the input is converted to an integer and stored in the variable number.\n",
    "\n",
    "2.sum = 0 : This line initializes the variable sum to 0.\n",
    "\n",
    "3.while(number > 0): : This line starts a while loop which will continue as long as the value of number is greater than 0.\n",
    "\n",
    "4.sum = (number % 10 + sum * 10) : This line is the core of the code, it performs the following steps:\n",
    "\n",
    "i)number % 10 returns the remainder of dividing \n",
    "\n",
    "ii)number by 10, which is the last digit of the number.\n",
    "\n",
    "iii)sum * 10 shifts all the digits of sum one place to the left.\n",
    "The result of the above two operations is then added and stored in the variable sum.\n",
    "This step effectively takes the last digit of the number and appends it to the left of the sum variable, which will be used to reverse the number.\n",
    "\n",
    "5.number = number // 10 : This line performs integer division, which discards the remainder and returns the quotient. This operation removes the last digit of the number variable by dividing it by 10.\n",
    "\n",
    "6.print(\"reverse number\")"
   ]
  },
  {
   "cell_type": "code",
   "execution_count": 8,
   "id": "55d7df1f",
   "metadata": {},
   "outputs": [
    {
     "data": {
      "text/plain": [
       "(3, 9, 27)"
      ]
     },
     "execution_count": 8,
     "metadata": {},
     "output_type": "execute_result"
    }
   ],
   "source": [
    "def func(x):\n",
    "    return x,x**2,x**3\n",
    "func(3)\n"
   ]
  },
  {
   "cell_type": "code",
   "execution_count": 11,
   "id": "2598916f",
   "metadata": {},
   "outputs": [
    {
     "data": {
      "text/plain": [
       "(3, 9, 27)"
      ]
     },
     "execution_count": 11,
     "metadata": {},
     "output_type": "execute_result"
    }
   ],
   "source": [
    "(lambda x:( x, x ** 2, x ** 3))(3)"
   ]
  },
  {
   "cell_type": "code",
   "execution_count": 12,
   "id": "555b4123",
   "metadata": {},
   "outputs": [
    {
     "data": {
      "text/plain": [
       "[3, 9, 27]"
      ]
     },
     "execution_count": 12,
     "metadata": {},
     "output_type": "execute_result"
    }
   ],
   "source": [
    " (lambda x: [x, x ** 2, x ** 3])(3)"
   ]
  },
  {
   "cell_type": "code",
   "execution_count": 13,
   "id": "e18a2431",
   "metadata": {},
   "outputs": [
    {
     "data": {
      "text/plain": [
       "{1: 3, 2: 9, 3: 27}"
      ]
     },
     "execution_count": 13,
     "metadata": {},
     "output_type": "execute_result"
    }
   ],
   "source": [
    "(lambda x: {1: x, 2: x ** 2, 3: x ** 3})(3)"
   ]
  },
  {
   "cell_type": "code",
   "execution_count": 14,
   "id": "7aa49916",
   "metadata": {},
   "outputs": [
    {
     "data": {
      "text/plain": [
       "'gnirts a ma i '"
      ]
     },
     "execution_count": 14,
     "metadata": {},
     "output_type": "execute_result"
    }
   ],
   "source": [
    "# Calling map() With a Single Iterable\n",
    "def reverse(s):\n",
    "    return s[::-1]\n",
    "reverse(\" i am a string\")"
   ]
  },
  {
   "cell_type": "markdown",
   "id": "5ca853de",
   "metadata": {},
   "source": [
    "# If you have a list of strings, then you can use map() to apply reverse() to each element of the list:"
   ]
  },
  {
   "cell_type": "code",
   "execution_count": 17,
   "id": "58ba0e03",
   "metadata": {},
   "outputs": [
    {
     "data": {
      "text/plain": [
       "<map at 0x22c23980580>"
      ]
     },
     "execution_count": 17,
     "metadata": {},
     "output_type": "execute_result"
    }
   ],
   "source": [
    "animals = [\"cat\", \"dog\", \"rat\", \"goat\"]\n",
    "iterator = map(reverse, animals)\n",
    "iterator"
   ]
  },
  {
   "cell_type": "code",
   "execution_count": 18,
   "id": "ba05786b",
   "metadata": {},
   "outputs": [
    {
     "name": "stdout",
     "output_type": "stream",
     "text": [
      "tac\n",
      "god\n",
      "tar\n",
      "taog\n"
     ]
    }
   ],
   "source": [
    "iterator = map(reverse, animals)\n",
    "for i in iterator:\n",
    "    print(i)"
   ]
  },
  {
   "cell_type": "code",
   "execution_count": 19,
   "id": "90fbaa1c",
   "metadata": {},
   "outputs": [
    {
     "data": {
      "text/plain": [
       "['tac', 'god', 'tar', 'taog']"
      ]
     },
     "execution_count": 19,
     "metadata": {},
     "output_type": "execute_result"
    }
   ],
   "source": [
    "iterator = map(reverse, animals)\n",
    "list(iterator)"
   ]
  },
  {
   "cell_type": "code",
   "execution_count": 20,
   "id": "e3c463d2",
   "metadata": {},
   "outputs": [
    {
     "data": {
      "text/plain": [
       "['tac', 'god', 'tar', 'taog']"
      ]
     },
     "execution_count": 20,
     "metadata": {},
     "output_type": "execute_result"
    }
   ],
   "source": [
    "list(map(lambda s: s[::-1], [\"cat\", \"dog\", \"rat\", \"goat\"]))"
   ]
  },
  {
   "cell_type": "markdown",
   "id": "b59724fd",
   "metadata": {},
   "source": [
    "# Calling map() With Multiple Iterables\n",
    "There’s another form of map() that takes more than one iterable argument:"
   ]
  },
  {
   "cell_type": "code",
   "execution_count": 21,
   "id": "3ba7c38e",
   "metadata": {},
   "outputs": [
    {
     "data": {
      "text/plain": [
       "[111, 222, 333]"
      ]
     },
     "execution_count": 21,
     "metadata": {},
     "output_type": "execute_result"
    }
   ],
   "source": [
    "def f(a,b,c):\n",
    "    return a+b+c\n",
    "list(map(f,[1,2,3],[10,20,30],[100,200,300]))"
   ]
  },
  {
   "attachments": {
    "image.png": {
     "image/png": "[encoded data removed]"
    }
   },
   "cell_type": "markdown",
   "id": "eb4a6e0a",
   "metadata": {},
   "source": [
    "In this case, f() takes three arguments. Correspondingly, there are three iterable arguments to map(): the lists [1, 2, 3], [10, 20, 30], and [100, 200, 300].\n",
    "\n",
    "The first item returned is the result of applying f() to the first element in each list: f(1, 10, 100). The second item returned is f(2, 20, 200), and the third is f(3, 30, 300), as shown in the following diagram:\n",
    "![image.png](attachment:image.png)"
   ]
  },
  {
   "cell_type": "markdown",
   "id": "a150c9b1",
   "metadata": {},
   "source": [
    "# Selecting Elements From an Iterable With filter()\n",
    "filter() allows you to select or filter items from an iterable based on evaluation of the given function. It’s called as follows:"
   ]
  },
  {
   "cell_type": "code",
   "execution_count": 22,
   "id": "57ae3fba",
   "metadata": {},
   "outputs": [
    {
     "data": {
      "text/plain": [
       "[111, 222, 333]"
      ]
     },
     "execution_count": 22,
     "metadata": {},
     "output_type": "execute_result"
    }
   ],
   "source": [
    "def greater_than_100(x):\n",
    "    return x>100\n",
    "list(filter(greater_than_100,[1,111,2,222,3,333]))"
   ]
  },
  {
   "cell_type": "code",
   "execution_count": 23,
   "id": "bacfbbf3",
   "metadata": {},
   "outputs": [
    {
     "data": {
      "text/plain": [
       "[111, 222, 333]"
      ]
     },
     "execution_count": 23,
     "metadata": {},
     "output_type": "execute_result"
    }
   ],
   "source": [
    " list(filter(lambda x: x > 100, [1, 111, 2, 222, 3, 333]))\n"
   ]
  },
  {
   "cell_type": "code",
   "execution_count": null,
   "id": "7682c946",
   "metadata": {},
   "outputs": [],
   "source": [
    "list()"
   ]
  }
 ],
 "metadata": {
  "kernelspec": {
   "display_name": "Python 3 (ipykernel)",
   "language": "python",
   "name": "python3"
  },
  "language_info": {
   "codemirror_mode": {
    "name": "ipython",
    "version": 3
   },
   "file_extension": ".py",
   "mimetype": "text/x-python",
   "name": "python",
   "nbconvert_exporter": "python",
   "pygments_lexer": "ipython3",
   "version": "3.9.13"
  }
 },
 "nbformat": 4,
 "nbformat_minor": 5
}
