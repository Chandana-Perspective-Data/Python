{
 "cells": [
  {
   "cell_type": "markdown",
   "id": "c1755f5e",
   "metadata": {},
   "source": [
    "# 1.Create database for hospital management"
   ]
  },
  {
   "cell_type": "markdown",
   "id": "b7f43c29",
   "metadata": {},
   "source": [
    "CREATE DATABASE HospitalManagement;\n",
    "\n",
    "USE HospitalManagement;\n",
    "\n",
    "CREATE TABLE Patients (\n",
    "    PatientId INT PRIMARY KEY,\n",
    "    FirstName VARCHAR(255) NOT NULL,\n",
    "    LastName VARCHAR(255) NOT NULL,\n",
    "    Gender CHAR(1) NOT NULL,\n",
    "    DOB DATE NOT NULL,\n",
    "    PhoneNumber VARCHAR(255) NOT NULL,\n",
    "    Address VARCHAR(255) NOT NULL\n",
    ");\n",
    "\n",
    "CREATE TABLE Doctors (\n",
    "    DoctorId INT PRIMARY KEY,\n",
    "    FirstName VARCHAR(255) NOT NULL,\n",
    "    LastName VARCHAR(255) NOT NULL,\n",
    "    Specialization VARCHAR(255) NOT NULL,\n",
    "    PhoneNumber VARCHAR(255) NOT NULL,\n",
    "    Address VARCHAR(255) NOT NULL\n",
    ");\n",
    "\n",
    "CREATE TABLE Appointments (\n",
    "    AppointmentId INT PRIMARY KEY,\n",
    "    PatientId INT NOT NULL,\n",
    "    DoctorId INT NOT NULL,\n",
    "    AppointmentDate DATE NOT NULL,\n",
    "    AppointmentTime TIME NOT NULL,\n",
    "    FOREIGN KEY (PatientId) REFERENCES Patients(PatientId),\n",
    "    FOREIGN KEY (DoctorId) REFERENCES Doctors(DoctorId)\n",
    ");\n",
    "\n",
    "CREATE TABLE Prescriptions (\n",
    "    PrescriptionId INT PRIMARY KEY,\n",
    "    PatientId INT NOT NULL,\n",
    "    DoctorId INT NOT NULL,\n",
    "    PrescriptionText TEXT NOT NULL,\n",
    "    FOREIGN KEY (PatientId) REFERENCES Patients(PatientId),\n",
    "    FOREIGN KEY (DoctorId) REFERENCES Doctors(DoctorId)\n",
    ");\n",
    "\n",
    "CREATE TABLE Rooms (\n",
    "    RoomId INT PRIMARY KEY,\n",
    "    RoomNumber INT NOT NULL,\n",
    "    RoomType VARCHAR(255) NOT NULL,\n",
    "    Availability BOOLEAN NOT NULL\n",
    ");\n",
    "\n",
    "CREATE TABLE Admissions (\n",
    "    AdmissionId INT PRIMARY KEY,\n",
    "    PatientId INT NOT NULL,\n",
    "    DoctorId INT NOT NULL,\n",
    "    RoomId INT NOT NULL,\n",
    "    AdmissionDate DATE NOT NULL,\n",
    "    DischargeDate DATE NOT NULL,\n",
    "    FOREIGN KEY (PatientId) REFERENCES Patients(PatientId),\n",
    "    FOREIGN KEY (DoctorId) REFERENCES Doctors(Doctor\n"
   ]
  },
  {
   "cell_type": "markdown",
   "id": "9cce89f5",
   "metadata": {},
   "source": [
    "# 2.Fetch hospital and doctor information using hospital id and doctor id"
   ]
  },
  {
   "cell_type": "code",
   "execution_count": null,
   "id": "095d50f4",
   "metadata": {},
   "outputs": [],
   "source": [
    "SELECT h.HospitalName, h.HospitalAddress, d.FirstName, d.LastName, d.Specialization\n",
    "FROM Hospitals h\n",
    "JOIN Doctors d ON h.HospitalId = d.HospitalId\n",
    "WHERE h.HospitalId = {hospital_id} AND d.DoctorId = {doctor_id};\n"
   ]
  },
  {
   "cell_type": "markdown",
   "id": "05891792",
   "metadata": {},
   "source": [
    "In this example, we are using the JOIN clause to combine the information from the Hospitals and Doctors tables based on their common column HospitalId. We are then using the WHERE clause to filter the results by the specified HospitalId and DoctorId. The SELECT statement is used to select the columns that we want to retrieve, in this case the HospitalName, HospitalAddress, FirstName, LastName, and Specialization of the doctor."
   ]
  },
  {
   "cell_type": "markdown",
   "id": "7413bb53",
   "metadata": {},
   "source": [
    "# 3.Get a list of doctors from a given hospital"
   ]
  },
  {
   "cell_type": "code",
   "execution_count": null,
   "id": "b11fe6f9",
   "metadata": {},
   "outputs": [],
   "source": [
    "SELECT FirstName, LastName, Specialization\n",
    "FROM Doctors\n",
    "WHERE HospitalId = {hospital_id};\n"
   ]
  },
  {
   "cell_type": "markdown",
   "id": "71c303a0",
   "metadata": {},
   "source": [
    "In this example, we are using the WHERE clause to filter the results by the specified HospitalId. The SELECT statement is used to select the columns that we want to retrieve, in this case the FirstName, LastName, and Specialization of the doctors.\n",
    "\n",
    "It is important to note that you need to replace the placeholder {hospital_id} with the actual value of the hospital id.\n",
    "You can also use the parameterized query to prevent SQL injection."
   ]
  },
  {
   "cell_type": "markdown",
   "id": "6a503bb1",
   "metadata": {},
   "source": [
    "# 4.Write a query which will retrieve the value of salesman id of all salesmen, getting orders from the customers in orders table without any repeats."
   ]
  },
  {
   "cell_type": "code",
   "execution_count": null,
   "id": "0471c977",
   "metadata": {},
   "outputs": [],
   "source": [
    "SELECT SalesmanId\n",
    "FROM Orders\n",
    "GROUP BY SalesmanId;"
   ]
  },
  {
   "cell_type": "markdown",
   "id": "3145808b",
   "metadata": {},
   "source": [
    "In this example, we are using the SELECT DISTINCT statement to select the unique values of the SalesmanId column from the Orders table. This will retrieve the value of salesman id of all salesmen getting orders from customers in the orders table without any repeats.\n",
    "\n",
    "This query will group all the records based on the SalesmanId and retrieve only unique SalesmanId from the orders table.\n"
   ]
  },
  {
   "cell_type": "markdown",
   "id": "75c6e54d",
   "metadata": {},
   "source": [
    "# 5.Write a SQL statement to prepare a list with salesman name, customer name and their cities for the salesmen and customer who belongs to the same city\n",
    "\n"
   ]
  },
  {
   "cell_type": "code",
   "execution_count": null,
   "id": "a7a18d2c",
   "metadata": {},
   "outputs": [],
   "source": [
    "SELECT s.Name as SalesmanName, c.Name as CustomerName, c.City\n",
    "FROM Salesmen s\n",
    "JOIN Customers c ON s.City = c.City\n"
   ]
  },
  {
   "cell_type": "markdown",
   "id": "7e119b0a",
   "metadata": {},
   "source": [
    "In this example, we are using the JOIN clause to combine the information from the Salesmen and Customers tables based on their common column City. We are then using the SELECT statement to retrieve the columns that we want, in this case the Name of the salesman, the Name of the customer, and the City.\n",
    "The AS keyword is used to give an alias to the column name, so that it can be identified easily.\n",
    "\n",
    "Note that the above query assumes that there are two tables named Salesmen and Customers with columns named Name, City and the City column of both the tables are used to store the city of the customer and the salesman.\n",
    "You can also use the WHERE clause with JOIN statement to filter the records based on some condition."
   ]
  },
  {
   "cell_type": "code",
   "execution_count": null,
   "id": "1daba3c3",
   "metadata": {},
   "outputs": [],
   "source": [
    "SELECT s.Name as SalesmanName, c.Name as CustomerName, c.City\n",
    "FROM Salesmen s\n",
    "JOIN Customers c ON s.City = c.City\n",
    "WHERE c.City = 'city_name'\n"
   ]
  },
  {
   "cell_type": "markdown",
   "id": "82440a87",
   "metadata": {},
   "source": [
    "# 6.Write a SQL statement to make a list with order no, purchase amount, customer name and their cities for those orders which order amount between 500 and 2000."
   ]
  },
  {
   "cell_type": "code",
   "execution_count": null,
   "id": "e681a3d4",
   "metadata": {},
   "outputs": [],
   "source": [
    "SELECT o.OrderNumber, o.Amount, c.Name as CustomerName, c.City\n",
    "FROM Orders o\n",
    "JOIN Customers c ON o.CustomerId = c.CustomerId\n",
    "WHERE o.Amount BETWEEN 500 AND 2000\n"
   ]
  },
  {
   "cell_type": "markdown",
   "id": "e2c1b95d",
   "metadata": {},
   "source": [
    "In this example, we are using the JOIN clause to combine the information from the Orders and Customers tables based on their common column CustomerId. We are then using the WHERE clause to filter the results by the specified range of order amount between 500 and 2000. The SELECT statement is used to select the columns that we want to retrieve, in this case the OrderNumber, Amount, CustomerName, and City of the customer.\n",
    "\n",
    "It is important to note that the above query assumes that there are two tables named Orders and Customers with columns named OrderNumber, Amount, CustomerId, Name and City respectively.\n",
    "\n",
    "Note that the above query gives the list of orders that falls between the range of 500 and 2000, you can also use the >= or <= operator to retrieve orders of specific amount or greater/less than that amount."
   ]
  },
  {
   "cell_type": "code",
   "execution_count": null,
   "id": "0e173065",
   "metadata": {},
   "outputs": [],
   "source": [
    "SELECT o.OrderNumber, o.Amount, c.Name as CustomerName, c.City\n",
    "FROM Orders o\n",
    "JOIN Customers c ON o.CustomerId = c.CustomerId\n",
    "WHERE o.Amount >= 500 \n"
   ]
  },
  {
   "cell_type": "markdown",
   "id": "a7464eba",
   "metadata": {},
   "source": [
    "# Web Serves"
   ]
  },
  {
   "cell_type": "markdown",
   "id": "831f3afe",
   "metadata": {},
   "source": [
    "# 1.convert a dictionary file to JSON file"
   ]
  },
  {
   "cell_type": "code",
   "execution_count": null,
   "id": "182ab5c8",
   "metadata": {},
   "outputs": [],
   "source": [
    "import json\n",
    "\n",
    "# Sample dictionary\n",
    "data = {\n",
    "    \"name\": \"John Smith\",\n",
    "    \"age\": 30,\n",
    "    \"city\": \"New York\"\n",
    "}\n",
    "\n",
    "# Serializing json\n",
    "json_data = json.dumps(data)\n",
    "\n",
    "# Writing to json file\n",
    "with open(\"data.json\", \"w\") as json_file:\n",
    "    json_file.write(json_data)\n"
   ]
  },
  {
   "cell_type": "markdown",
   "id": "b6b4379a",
   "metadata": {},
   "source": [
    "In this example, we first import the json module. Then we create a sample dictionary named data.\n",
    "Then we use the json.dumps() function to serialize the dictionary data into a JSON object.\n",
    "Then we open a file named data.json in write mode and write the serialized json data to it.\n",
    "Once the file is closed, you will have a JSON file with the same data as the dictionary.\n",
    "You can also use the json.dump() method to write directly to the file."
   ]
  },
  {
   "cell_type": "code",
   "execution_count": null,
   "id": "4fd68f23",
   "metadata": {},
   "outputs": [],
   "source": [
    "with open(\"data.json\", \"w\") as json_file:\n",
    "    json.dump(data,json_file)\n"
   ]
  },
  {
   "cell_type": "markdown",
   "id": "269ab4d2",
   "metadata": {},
   "source": [
    "This method writes the json data to the file without serializing it first.\n",
    "You can also use the json.load() method to read a JSON file and convert it to a python dictionary."
   ]
  },
  {
   "cell_type": "code",
   "execution_count": null,
   "id": "4e6adce0",
   "metadata": {},
   "outputs": [],
   "source": [
    "with open(\"data.json\", \"r\") as json_file:\n",
    "    data = json.load(json_file)\n"
   ]
  },
  {
   "cell_type": "markdown",
   "id": "aa481016",
   "metadata": {},
   "source": [
    "# 2.Extract html file of eduvahini.com using Beautiful Soup and html parser"
   ]
  },
  {
   "cell_type": "code",
   "execution_count": null,
   "id": "c3004179",
   "metadata": {},
   "outputs": [],
   "source": [
    "from bs4 import BeautifulSoup\n",
    "import requests\n",
    "\n",
    "url = \"http://www.eduvahini.com\"\n",
    "\n",
    "# Send a request to the website\n",
    "response = requests.get(url)\n",
    "\n",
    "# Parse the HTML content\n",
    "soup = BeautifulSoup(response.content, 'html.parser')\n",
    "\n",
    "# Extract the HTML\n",
    "html = soup.prettify()\n",
    "\n",
    "# Print the HTML\n",
    "print(html)\n"
   ]
  },
  {
   "cell_type": "markdown",
   "id": "25d545f5",
   "metadata": {},
   "source": [
    "In this example, we first import the BeautifulSoup and requests modules. Then we specify the URL of the website that we want to extract the HTML from.\n",
    "We use the requests.get() function to send a request to the website and store the response in a variable.\n",
    "We then create a BeautifulSoup object passing the response content and the parser type as an argument.\n",
    "The prettify() method is used to make the HTML more readable by adding indentation.\n",
    "You can also use the content attribute of the response object to get the raw HTML content."
   ]
  },
  {
   "cell_type": "code",
   "execution_count": null,
   "id": "61822fcc",
   "metadata": {},
   "outputs": [],
   "source": [
    "html = response.content\n"
   ]
  },
  {
   "cell_type": "code",
   "execution_count": null,
   "id": "fdd92207",
   "metadata": {},
   "outputs": [],
   "source": [
    "with open(\"eduvahini.html\", \"w\") as file:\n",
    "    file.write(html)\n"
   ]
  },
  {
   "cell_type": "code",
   "execution_count": null,
   "id": "013ca7f7",
   "metadata": {},
   "outputs": [],
   "source": [
    "if response.status_code == 200:\n",
    "    soup = BeautifulSoup(response.content, 'html.parser')\n",
    "    html = soup.prettify()\n",
    "    print(html)\n",
    "else:\n",
    "    print(\"Error: Could not fetch HTML\")\n"
   ]
  },
  {
   "cell_type": "markdown",
   "id": "1be46582",
   "metadata": {},
   "source": [
    "It is important to note that some websites may have restrictions on web scraping, so it's always a good idea to check the website's terms of use before scraping it."
   ]
  },
  {
   "cell_type": "markdown",
   "id": "d9a4fb19",
   "metadata": {},
   "source": [
    "# 3.Convert a dictionary file to python object structure using pickling"
   ]
  },
  {
   "cell_type": "code",
   "execution_count": null,
   "id": "f40ace22",
   "metadata": {},
   "outputs": [],
   "source": [
    "import pickle\n",
    "\n",
    "# Sample dictionary\n",
    "data = {\n",
    "    \"name\": \"John Smith\",\n",
    "    \"age\": 30,\n",
    "    \"city\": \"New York\"\n",
    "}\n",
    "\n",
    "# Serializing data\n",
    "pickle_data = pickle.dumps(data)\n",
    "\n",
    "# Deserializing data\n",
    "obj = pickle.loads(pickle_data)\n",
    "\n",
    "# Print the deserialized object\n",
    "print(obj)\n"
   ]
  },
  {
   "cell_type": "markdown",
   "id": "5ea744f8",
   "metadata": {},
   "source": [
    "In this example, we first import the pickle module. Then we create a sample dictionary named data.\n",
    "Then we use the pickle.dumps() method to serialize the dictionary data into a pickled object, which is a bytes object.\n",
    "Then we use the pickle.loads() method to deserialize the pickled data into a Python object and store it in a variable obj.\n",
    "You can also use the pickle.dump() method to write directly to a file"
   ]
  },
  {
   "cell_type": "code",
   "execution_count": null,
   "id": "e3e79f6c",
   "metadata": {},
   "outputs": [],
   "source": [
    "with open(\"data.pickle\", \"wb\") as file:\n",
    "    pickle.dump(data, file)\n"
   ]
  },
  {
   "cell_type": "markdown",
   "id": "d4237187",
   "metadata": {},
   "source": [
    "This method writes the pickled data to the file without serializing it first.\n",
    "You can also use the pickle.load() method to read a pickle file and convert it to a python object"
   ]
  },
  {
   "cell_type": "code",
   "execution_count": null,
   "id": "70017658",
   "metadata": {},
   "outputs": [],
   "source": [
    "with open(\"data.pickle\", \"rb\") as file:\n",
    "    obj = pickle.load(file)\n"
   ]
  },
  {
   "cell_type": "markdown",
   "id": "334eb442",
   "metadata": {},
   "source": [
    "This method reads the pickled data from the file and converts it to a Python object.\n",
    "The pickle module uses the protocol version 3 by default, which means that it can handle almost any Python object (including classes, functions, and more). However, it's not recommended to use pickling for sensitive data or for data that needs to be read by other systems. It's best used for internal storage or for sending data over a network to other Python processes."
   ]
  },
  {
   "cell_type": "markdown",
   "id": "e0b81921",
   "metadata": {},
   "source": [
    "# 4.Read JSON file using Python"
   ]
  },
  {
   "cell_type": "code",
   "execution_count": 1,
   "id": "f0c918ce",
   "metadata": {},
   "outputs": [
    {
     "name": "stdout",
     "output_type": "stream",
     "text": [
      "{'name': 'John Smith', 'age': 30, 'city': 'New York'}\n"
     ]
    }
   ],
   "source": [
    "import json\n",
    "\n",
    "# Open the file\n",
    "with open(\"data.json\", \"r\") as json_file:\n",
    "    # Load the JSON data from the file\n",
    "    data = json.load(json_file)\n",
    "\n",
    "# Print the data\n",
    "print(data)\n"
   ]
  },
  {
   "cell_type": "markdown",
   "id": "bc23f8ae",
   "metadata": {},
   "source": [
    "In this example, we first import the json module. Then we open a file named data.json in read mode.\n",
    "Then we use the json.load() method to read the JSON data from the file and store it in a variable data.\n",
    "The json.load() method parses the JSON data and returns a Python object, usually a dict, but can also be a list, depending on the structure of the JSON file.\n",
    "You can also use the json.loads() method to read a json string instead of reading it from file"
   ]
  },
  {
   "cell_type": "code",
   "execution_count": 2,
   "id": "6958fb49",
   "metadata": {},
   "outputs": [],
   "source": [
    "json_data = '{\"name\": \"John Smith\", \"age\": 30, \"city\": \"New York\"}'\n",
    "data = json.loads(json_data)\n"
   ]
  },
  {
   "cell_type": "markdown",
   "id": "1aed6eed",
   "metadata": {},
   "source": [
    "This method reads the json string and converts it to a python object.\n",
    "You can then access the values of the JSON object like you would access the values of a Python dictionary. For example, you can access the value of the \"name\" key by using the following code:\n",
    "\n"
   ]
  },
  {
   "cell_type": "code",
   "execution_count": 3,
   "id": "0f1f199c",
   "metadata": {},
   "outputs": [
    {
     "name": "stdout",
     "output_type": "stream",
     "text": [
      "John Smith\n"
     ]
    }
   ],
   "source": [
    "print(data[\"name\"])\n"
   ]
  },
  {
   "cell_type": "markdown",
   "id": "412aece2",
   "metadata": {},
   "source": [
    "t's worth noting that if the file you are trying to read is not a valid json file or if the file does not exist in the specified location, the json.load() method will raise a ValueError or FileNotFoundError respectively. Therefore, it is advisable to use try and except block to handle these errors."
   ]
  },
  {
   "cell_type": "code",
   "execution_count": 4,
   "id": "82b97840",
   "metadata": {},
   "outputs": [
    {
     "name": "stdout",
     "output_type": "stream",
     "text": [
      "{'name': 'John Smith', 'age': 30, 'city': 'New York'}\n"
     ]
    }
   ],
   "source": [
    "try:\n",
    "    with open(\"data.json\", \"r\") as json_file:\n",
    "        data = json.load(json_file)\n",
    "        print(data)\n",
    "except ValueError as e:\n",
    "    print(\"Error: Invalid JSON\")\n",
    "except FileNotFoundError as e:\n",
    "    print(\"Error: File Not Found\")\n"
   ]
  },
  {
   "cell_type": "markdown",
   "id": "f4fd11d2",
   "metadata": {},
   "source": [
    "# 5.Convert Python objects into JSON strings, and print the values:"
   ]
  },
  {
   "cell_type": "code",
   "execution_count": 5,
   "id": "eb3c887c",
   "metadata": {},
   "outputs": [
    {
     "name": "stdout",
     "output_type": "stream",
     "text": [
      "{\"name\": \"John Smith\", \"age\": 30, \"city\": \"New York\"}\n",
      "Name: John Smith\n",
      "Age: 30\n",
      "City: New York\n"
     ]
    }
   ],
   "source": [
    "import json\n",
    "\n",
    "# Sample data\n",
    "data = {\n",
    "    \"name\": \"John Smith\",\n",
    "    \"age\": 30,\n",
    "    \"city\": \"New York\"\n",
    "}\n",
    "\n",
    "# Serializing json\n",
    "json_data = json.dumps(data)\n",
    "\n",
    "# Print the JSON data\n",
    "print(json_data)\n",
    "\n",
    "# Deserializing json\n",
    "obj = json.loads(json_data)\n",
    "\n",
    "# Print the values\n",
    "print(\"Name:\", obj[\"name\"])\n",
    "print(\"Age:\", obj[\"age\"])\n",
    "print(\"City:\", obj[\"city\"])\n"
   ]
  },
  {
   "cell_type": "markdown",
   "id": "c40f8880",
   "metadata": {},
   "source": [
    "In this example, we first import the json module. Then we create a sample dictionary named data.\n",
    "Then we use the json.dumps() function to serialize the dictionary data into a JSON string, json_data.\n",
    "Then we use the json.loads() function to deserialize the JSON string and store it in a variable obj.\n",
    "You can then access the values of the JSON object like you would access the values of a Python dictionary.\n",
    "We are accessing the values by providing the keys of the dictionary, which are \"name\", \"age\", \"city\"\n",
    "\n",
    "It's worth noting that the json.dumps() method takes an optional parameter indent, which if provided, adds indentation to the json string making it more readable."
   ]
  },
  {
   "cell_type": "code",
   "execution_count": 6,
   "id": "dce9d0e6",
   "metadata": {},
   "outputs": [],
   "source": [
    "json_data = json.dumps(data, indent=4)\n"
   ]
  },
  {
   "cell_type": "markdown",
   "id": "79bf4096",
   "metadata": {},
   "source": [
    "This method adds 4 spaces as indentation to the json string, making it more readable.\n",
    "You can also use the json.dump() method to write directly to a file\n",
    "\n"
   ]
  },
  {
   "cell_type": "code",
   "execution_count": 7,
   "id": "c0fee55a",
   "metadata": {},
   "outputs": [],
   "source": [
    "with open(\"data.json\", \"w\") as json_file:\n",
    "    json.dump(data, json_file)\n"
   ]
  },
  {
   "cell_type": "markdown",
   "id": "bd42f90a",
   "metadata": {},
   "source": [
    "# 6.Scrap details from amazon website\n",
    "\n"
   ]
  },
  {
   "cell_type": "code",
   "execution_count": 8,
   "id": "d28a90f6",
   "metadata": {},
   "outputs": [
    {
     "ename": "AttributeError",
     "evalue": "'NoneType' object has no attribute 'text'",
     "output_type": "error",
     "traceback": [
      "\u001b[1;31m---------------------------------------------------------------------------\u001b[0m",
      "\u001b[1;31mAttributeError\u001b[0m                            Traceback (most recent call last)",
      "\u001b[1;32m~\\AppData\\Local\\Temp\\ipykernel_1316\\3815982653.py\u001b[0m in \u001b[0;36m<module>\u001b[1;34m\u001b[0m\n\u001b[0;32m     12\u001b[0m \u001b[1;33m\u001b[0m\u001b[0m\n\u001b[0;32m     13\u001b[0m \u001b[1;31m# Extract the title of the product\u001b[0m\u001b[1;33m\u001b[0m\u001b[1;33m\u001b[0m\u001b[0m\n\u001b[1;32m---> 14\u001b[1;33m \u001b[0mtitle\u001b[0m \u001b[1;33m=\u001b[0m \u001b[0msoup\u001b[0m\u001b[1;33m.\u001b[0m\u001b[0mfind\u001b[0m\u001b[1;33m(\u001b[0m\u001b[1;34m'span'\u001b[0m\u001b[1;33m,\u001b[0m \u001b[0mid\u001b[0m\u001b[1;33m=\u001b[0m\u001b[1;34m'productTitle'\u001b[0m\u001b[1;33m)\u001b[0m\u001b[1;33m.\u001b[0m\u001b[0mtext\u001b[0m\u001b[1;33m\u001b[0m\u001b[1;33m\u001b[0m\u001b[0m\n\u001b[0m\u001b[0;32m     15\u001b[0m \u001b[1;33m\u001b[0m\u001b[0m\n\u001b[0;32m     16\u001b[0m \u001b[1;31m# Extract the price of the product\u001b[0m\u001b[1;33m\u001b[0m\u001b[1;33m\u001b[0m\u001b[0m\n",
      "\u001b[1;31mAttributeError\u001b[0m: 'NoneType' object has no attribute 'text'"
     ]
    }
   ],
   "source": [
    "import requests\n",
    "from bs4 import BeautifulSoup\n",
    "\n",
    "# URL of the page to scrape\n",
    "url = \"https://www.amazon.com/dp/B08CYMGZ9B\"\n",
    "\n",
    "# Send a request to the website\n",
    "response = requests.get(url)\n",
    "\n",
    "# Parse the HTML content\n",
    "soup = BeautifulSoup(response.content, 'html.parser')\n",
    "\n",
    "# Extract the title of the product\n",
    "title = soup.find('span', id='productTitle').text\n",
    "\n",
    "# Extract the price of the product\n",
    "price = soup.find('span', class_='a-price-whole').text\n",
    "\n",
    "# Extract the rating of the product\n",
    "rating = soup.find('span', class_='a-icon-alt').text\n",
    "\n",
    "# Extract the product's description\n",
    "description = soup.find('div', id='feature-bullets').text\n",
    "\n",
    "# Print the extracted details\n",
    "print(\"Title: \", title)\n",
    "print(\"Price: \", price)\n",
    "print(\"Rating: \", rating)\n",
    "print(\"Description: \", description)\n"
   ]
  },
  {
   "cell_type": "markdown",
   "id": "beb9bacb",
   "metadata": {},
   "source": [
    "In this example, we first import the requests and BeautifulSoup modules. Then we specify the URL of the Amazon product page that we want to scrape.\n",
    "We use the requests.get() function to send a request to the website and store the response in a variable.\n",
    "We then create a BeautifulSoup object passing the response content and the parser type as an argument.\n",
    "We use the find() method to search for specific tags and classes in the HTML content and extract the desired information.\n",
    "In this case, we are extracting the product title, price, rating and description by searching for the respective tags and classes.\n",
    "You can also use the find_all() method to get all the elements with a specific tag or class."
   ]
  },
  {
   "cell_type": "code",
   "execution_count": null,
   "id": "58ebda0b",
   "metadata": {},
   "outputs": [],
   "source": []
  }
 ],
 "metadata": {
  "kernelspec": {
   "display_name": "Python 3 (ipykernel)",
   "language": "python",
   "name": "python3"
  },
  "language_info": {
   "codemirror_mode": {
    "name": "ipython",
    "version": 3
   },
   "file_extension": ".py",
   "mimetype": "text/x-python",
   "name": "python",
   "nbconvert_exporter": "python",
   "pygments_lexer": "ipython3",
   "version": "3.9.13"
  }
 },
 "nbformat": 4,
 "nbformat_minor": 5
}
