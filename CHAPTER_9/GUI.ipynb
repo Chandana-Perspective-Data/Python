{
 "cells": [
  {
   "cell_type": "markdown",
   "id": "a7ab8d11",
   "metadata": {},
   "source": [
    "<h1><font color=\"red\"> Graphical User Interface</font></h1>\n"
   ]
  },
  {
   "cell_type": "markdown",
   "id": "02200c40",
   "metadata": {},
   "source": [
    "A Graphical user interface(GUI) is a desktop application that allows user to interact with computers.\n",
    "\n",
    "Graphical representations such as buttons and icons are included,and communication can  be accomplished by interconnecting with the icons."
   ]
  },
  {
   "cell_type": "markdown",
   "id": "89f5ebb3",
   "metadata": {},
   "source": [
    "<h1><font color=\"blue\">Tkinter</font></h1>"
   ]
  },
  {
   "cell_type": "markdown",
   "id": "eb78677f",
   "metadata": {},
   "source": [
    "Tkinteris Python's standard GUI library.\n",
    "\n",
    "When Python is used in conjunction with Tkinter, creating graphical user interfaces is quick and simple.\n",
    "\n",
    "1.Python offers multiple options for developing GUI ( Graphical User Interface). The most commonly used GUI method is tkinter.\n",
    "\n",
    "2.Tkinter is the easiest among all to get started with . it is python's standard GUI( graphical user interface) package. it is the most commonly used toolkit for GUI Programming in python.\n",
    "\n",
    "3.since Tkinter is the python interface to Tk(Tea Kay ), it can be pronounced as Tea - Kay - inter.\n",
    "\n",
    "i.e tkinter = t k inter "
   ]
  },
  {
   "cell_type": "markdown",
   "id": "b6e52cbb",
   "metadata": {},
   "source": [
    "<h1><font color=#008000>Tkinter Programming </font></h1>"
   ]
  },
  {
   "cell_type": "markdown",
   "id": "7e5d0b35",
   "metadata": {},
   "source": [
    "Its simple to make a GUI application with Tkinter. Steps that have to be followed are-\n",
    "\n",
    "1. importing the tkinter module.\n",
    "\n",
    "2. creating a main window.\n",
    "\n",
    "3. Adding multiple widgets in a main window.\n",
    "\n",
    "4. Entering into the main event loop to perform action."
   ]
  },
  {
   "cell_type": "markdown",
   "id": "1d973430",
   "metadata": {},
   "source": [
    "# Tkinter Programming "
   ]
  },
  {
   "cell_type": "markdown",
   "id": "f285369e",
   "metadata": {},
   "source": [
    "1. when establishing a python application with GUI ,there are two primary approaches that the user has to follow after importing tkinter module-\n",
    "\n",
    " 1. Tk() -- it is used to make a main window.\n",
    " \n",
    " 2. mainloop() -- it is an infinite loop that runs the applications, waits for an event, and processes it as soon as the window is open.\n",
    " \n",
    "example:\n",
    "\n",
    "from tkinter import*\n",
    "\n",
    "main_window=Tk()\n",
    "\n",
    "main_window.mainloop()"
   ]
  },
  {
   "cell_type": "code",
   "execution_count": 1,
   "id": "7a5baba8",
   "metadata": {},
   "outputs": [],
   "source": [
    "from tkinter import*\n",
    "\n",
    "main_window=Tk()\n",
    "\n",
    "main_window.mainloop()"
   ]
  },
  {
   "cell_type": "code",
   "execution_count": 2,
   "id": "7cf1f0cd",
   "metadata": {},
   "outputs": [],
   "source": [
    "import tkinter \n",
    "top = tkinter.Tk() \n",
    "top.mainloop()"
   ]
  },
  {
   "cell_type": "code",
   "execution_count": 7,
   "id": "ab167756",
   "metadata": {},
   "outputs": [],
   "source": [
    "from tkinter import*\n",
    "window=Tk()\n",
    "window.title(\"welcome online python course\")\n",
    "window.mainloop()"
   ]
  },
  {
   "cell_type": "code",
   "execution_count": 8,
   "id": "f60654d0",
   "metadata": {},
   "outputs": [],
   "source": [
    "# window size\n",
    "from tkinter import*\n",
    "window=Tk()\n",
    "window.title(\"welcome online python course\")\n",
    "window.minsize(width=100,height=200)\n",
    "window.maxsize(width=300,height=300)\n",
    "window.mainloop()"
   ]
  },
  {
   "cell_type": "markdown",
   "id": "090e05e5",
   "metadata": {},
   "source": [
    "<h1><font color =FF1493>Wedgets(elements)</font></h1>"
   ]
  },
  {
   "cell_type": "markdown",
   "id": "0b854809",
   "metadata": {},
   "source": [
    "1. Tkinter offers many controls  in a GUI applictions , suchas buttons ,labels,and text boxes.\n",
    "\n",
    "2. Wedgets are the general name for these controls.\n",
    "\n",
    "3. Different types of widgets present in Tkinter are-\n",
    " 1. Lable\n",
    " \n",
    " 2. Button\n",
    " \n",
    " 3. Entry\n",
    " \n",
    " 4. Checkbutton\n",
    " \n",
    " 5. Frame\n",
    " \n",
    " 6. Canvas"
   ]
  },
  {
   "cell_type": "markdown",
   "id": "74ace776",
   "metadata": {},
   "source": [
    "<h1><font color=FFD700 > Geometry configuration of widgets</font></h1>"
   ]
  },
  {
   "cell_type": "markdown",
   "id": "a8f1401a",
   "metadata": {},
   "source": [
    "1. There are primarily three types of geometry manager classes-\n",
    " \n",
    " 1. pack() -   it is used to place a widget on top.\n",
    " \n",
    " 2. grid() -   it is used to organize the widget in table- like structure.(row ,column)\n",
    " \n",
    " 3. place()  - it is used to organize the widget at specific position.(x,y)\n"
   ]
  },
  {
   "cell_type": "markdown",
   "id": "34c2be22",
   "metadata": {},
   "source": [
    "<h1><font color=0000ff>Types of widgets</font><h1>"
   ]
  },
  {
   "cell_type": "markdown",
   "id": "e87639db",
   "metadata": {},
   "source": [
    "1. Label  -  dispaly box in which image or text is added.\n",
    "\n",
    "syntax   -\n",
    "\n",
    "l1=Label(master,opt=val)\n",
    "\n",
    " options that can be passed as arguments-\n",
    " \n",
    " 1. bg\n",
    " \n",
    " 2. command\n",
    " \n",
    " 3. font \n",
    " \n",
    " 4. image\n",
    " \n",
    " 5. width\n",
    " \n",
    " 6. height"
   ]
  },
  {
   "cell_type": "code",
   "execution_count": 9,
   "id": "3df29a4a",
   "metadata": {},
   "outputs": [],
   "source": [
    "# Label\n",
    "# pack()\n",
    "from tkinter import*\n",
    "window=Tk()\n",
    "l1=Label(window,text=\"python\")\n",
    "l1.pack()\n",
    "window.mainloop()"
   ]
  },
  {
   "cell_type": "code",
   "execution_count": 10,
   "id": "c891094e",
   "metadata": {},
   "outputs": [],
   "source": [
    "# grid()\n",
    "from tkinter import*\n",
    "window=Tk()\n",
    "l1=Label(window,text=\"python\")\n",
    "l1.grid(row=0,column=1)\n",
    "window.mainloop()"
   ]
  },
  {
   "cell_type": "code",
   "execution_count": 12,
   "id": "18e59c6f",
   "metadata": {},
   "outputs": [],
   "source": [
    "# place()\n",
    "from tkinter import*\n",
    "window=Tk()\n",
    "l1=Label(window,text=\"python\")\n",
    "l1.place(x=500,y=100)   # position(left,right)\n",
    "window.mainloop()"
   ]
  },
  {
   "cell_type": "code",
   "execution_count": 13,
   "id": "59ff5d0f",
   "metadata": {},
   "outputs": [],
   "source": [
    "# bg(background color) ,fg=foreground color\n",
    "from tkinter import*\n",
    "window=Tk()\n",
    "l1=Label(window,text=\"python\",bg=\"blue\",fg=\"red\")\n",
    "l1.place(x=50,y=100)\n",
    "window.mainloop()"
   ]
  },
  {
   "cell_type": "code",
   "execution_count": 14,
   "id": "7b093252",
   "metadata": {},
   "outputs": [],
   "source": [
    "# width\n",
    "from tkinter import*\n",
    "window=Tk()\n",
    "l1=Label(window,text=\"python\",bg=\"blue\",fg=\"red\",width=40)\n",
    "l1.pack()\n",
    "window.mainloop()"
   ]
  },
  {
   "cell_type": "code",
   "execution_count": 1,
   "id": "e0689e58",
   "metadata": {},
   "outputs": [],
   "source": [
    "# image\n",
    "from tkinter import*\n",
    "window=Tk()\n",
    "i1=PhotoImage(file=\"C:/Users/91852/Accenture Python/C1/CHAPTER_9/image2.png\")\n",
    "l1=Label(window,image=i1)\n",
    "l1.pack()\n",
    "window.mainloop()"
   ]
  },
  {
   "cell_type": "code",
   "execution_count": 2,
   "id": "cd4d3ed5",
   "metadata": {},
   "outputs": [],
   "source": [
    "# image\n",
    "from tkinter import*\n",
    "window=Tk()\n",
    "i1=PhotoImage(file=\"C:/Users/91852/Accenture Python/C1/CHAPTER_9/Pythonlogo.png\")\n",
    "l1=Label(window,image=i1)\n",
    "l1.pack()\n",
    "window.mainloop()"
   ]
  },
  {
   "cell_type": "code",
   "execution_count": 3,
   "id": "c0ae4230",
   "metadata": {},
   "outputs": [],
   "source": [
    "# image\n",
    "from tkinter import*\n",
    "window=Tk()\n",
    "i1=PhotoImage(file=\"C:/Users/91852/Accenture Python/C1/CHAPTER_9/image12.png\")\n",
    "l1=Label(window,image=i1)\n",
    "l1.pack()\n",
    "window.mainloop()"
   ]
  },
  {
   "cell_type": "markdown",
   "id": "2bf1aba8",
   "metadata": {},
   "source": [
    "2. Buttons  -  It is used to show button in application.\n",
    "\n",
    "syntax:\n",
    "\n",
    " b1=Button(master,opt=val)\n",
    " \n",
    "options that can be passed as arguments-\n",
    "\n",
    " 1. bg\n",
    " \n",
    " 2. command\n",
    " \n",
    " 3. font\n",
    " \n",
    " 4. image\n",
    " \n",
    " 5. width\n",
    " \n",
    " 6. height"
   ]
  },
  {
   "cell_type": "code",
   "execution_count": 27,
   "id": "1127c3dd",
   "metadata": {},
   "outputs": [],
   "source": [
    "from tkinter import*\n",
    "window=Tk()\n",
    "b1=Button(window,text=\"enter\")\n",
    "b1.pack()\n",
    "window.mainloop()"
   ]
  },
  {
   "cell_type": "code",
   "execution_count": 29,
   "id": "202ae314",
   "metadata": {},
   "outputs": [],
   "source": [
    "# bg,fg\n",
    "from tkinter import*\n",
    "window=Tk()\n",
    "b1=Button(window,text=\"enter\",bg=\"yellow\",fg=\"red\",width=40)\n",
    "b1.pack()\n",
    "window.mainloop()"
   ]
  },
  {
   "cell_type": "code",
   "execution_count": 30,
   "id": "d7fdc1d0",
   "metadata": {},
   "outputs": [],
   "source": [
    "# 3.Entry\n",
    "from tkinter import*\n",
    "window=Tk()\n",
    "e1=Entry(window,width=20)\n",
    "e1.pack()\n",
    "window.mainloop()"
   ]
  },
  {
   "cell_type": "code",
   "execution_count": 31,
   "id": "31d21639",
   "metadata": {},
   "outputs": [],
   "source": [
    "# font size  , bd\n",
    "# Entry\n",
    "from tkinter import*\n",
    "window=Tk()\n",
    "e1=Entry(window,width=20,bd=5,font=(\"ALGERIAN\",30))\n",
    "e1.pack()\n",
    "window.mainloop()"
   ]
  },
  {
   "cell_type": "code",
   "execution_count": 32,
   "id": "8f1cf4c3",
   "metadata": {},
   "outputs": [],
   "source": [
    "from tkinter import*\n",
    "window=Tk()\n",
    "window.title(\"welcome online python course\")\n",
    "window.minsize(width=200,height=400)\n",
    "window.maxsize(width=400,height=800)\n",
    "l1=Label(window,text=\"emp name\",fg=\"blue\",bg=\"red\")\n",
    "l1.place(x=0,y=10)\n",
    "window.mainloop()"
   ]
  },
  {
   "cell_type": "code",
   "execution_count": 33,
   "id": "72acd9b7",
   "metadata": {},
   "outputs": [],
   "source": [
    "# create entry \n",
    "from tkinter import*\n",
    "window=Tk()\n",
    "window.title(\"welcome online python course\")\n",
    "window.minsize(width=200,height=400)\n",
    "window.maxsize(width=400,height=800)\n",
    "l1=Label(window,text=\"emp name\",fg=\"blue\",bg=\"red\")\n",
    "l1.place(x=0,y=10)\n",
    "e1=Entry(window,font=(\"calibri\",16),bd=5)\n",
    "e1.place(x=80,y=10)\n",
    "window.mainloop()"
   ]
  },
  {
   "cell_type": "code",
   "execution_count": 4,
   "id": "5308e0ea",
   "metadata": {},
   "outputs": [],
   "source": [
    "# create button\n",
    "# create entry \n",
    "from tkinter import*\n",
    "window=Tk()\n",
    "window.title(\"welcome online python course\")\n",
    "window.minsize(width=200,height=400)\n",
    "window.maxsize(width=400,height=800)\n",
    "l1=Label(window,text=\"emp name\",fg=\"blue\",bg=\"red\")\n",
    "l1.place(x=0,y=10)\n",
    "e1=Entry(window,font=(\"calibri\",16),bd=5)\n",
    "e1.place(x=80,y=10)\n",
    "b1=Button(window,text=\"Enter\",fg=\"yellow\",bg=\"green\")\n",
    "b1.place(x=120,y=60)\n",
    "window.mainloop()"
   ]
  },
  {
   "cell_type": "code",
   "execution_count": 5,
   "id": "2d48368d",
   "metadata": {},
   "outputs": [],
   "source": [
    "# create another label\n",
    "# create button\n",
    "# create entry \n",
    "from tkinter import*\n",
    "window=Tk()\n",
    "window.title(\"welcome online python course\")\n",
    "window.minsize(width=200,height=400)\n",
    "window.maxsize(width=400,height=800)\n",
    "l1=Label(window,text=\"emp name\",fg=\"blue\",bg=\"red\")\n",
    "l1.place(x=0,y=10)\n",
    "e1=Entry(window,font=(\"calibri\",16),bd=5)\n",
    "e1.place(x=80,y=10)\n",
    "b1=Button(window,text=\"Enter\",fg=\"yellow\",bg=\"green\")\n",
    "b1.place(x=120,y=60)\n",
    "l2=Label(window,text=\"nothing\",fg=\"black\",bg=\"yellow\")\n",
    "l2.place(x=120,y=100)\n",
    "window.mainloop()"
   ]
  },
  {
   "cell_type": "code",
   "execution_count": 8,
   "id": "111cbea2",
   "metadata": {},
   "outputs": [
    {
     "name": "stdout",
     "output_type": "stream",
     "text": [
      "chandana\n"
     ]
    }
   ],
   "source": [
    "# create a variable\n",
    "from tkinter import*\n",
    "window=Tk()\n",
    "window.title(\"welcome online python course\")\n",
    "window.minsize(width=200,height=400)\n",
    "window.maxsize(width=400,height=800)\n",
    "l1=Label(window,text=\"emp name\",fg=\"blue\",bg=\"red\")\n",
    "l1.place(x=0,y=10)\n",
    "\n",
    "v=StringVar()\n",
    "def edtech():\n",
    "    x=v.get()\n",
    "    print(x)\n",
    "    l2.config(text=x,bg=\"white\",fg=\"red\")  # bg=\"\",fg=\"\"\n",
    "    \n",
    "e1=Entry(window,font=(\"calibri\",16),bd=5,textvariable=v)\n",
    "e1.place(x=80,y=10)\n",
    "b1=Button(window,text=\"Enter\",fg=\"yellow\",bg=\"green\",command=edtech)\n",
    "b1.place(x=120,y=60)\n",
    "l2=Label(window,text=\"nothing\",fg=\"black\",bg=\"yellow\")\n",
    "l2.place(x=120,y=100)\n",
    "window.mainloop()"
   ]
  },
  {
   "cell_type": "markdown",
   "id": "e19fc83d",
   "metadata": {},
   "source": [
    "4. CheckButton  -  it is used to show a selection of choices as checkboxes\n",
    "\n",
    "syntax:\n",
    "\n",
    "  cb1=Checkbutton(master,opt=val)\n",
    "  \n",
    "Options that can be passed as arguments -\n",
    "\n",
    " 1. Title\n",
    " \n",
    " 2. bg\n",
    " \n",
    " 3. activebackground\n"
   ]
  },
  {
   "cell_type": "code",
   "execution_count": 9,
   "id": "901429e5",
   "metadata": {},
   "outputs": [],
   "source": [
    "from tkinter import*\n",
    "window=Tk()\n",
    "window.title(\"welcome online python course\")\n",
    "window.minsize(width=100,height=200)\n",
    "window.maxsize(width=300,height=800)\n",
    "cb=Checkbutton(window,text=\"Male\")\n",
    "cb.pack()\n",
    "window.mainloop()"
   ]
  },
  {
   "cell_type": "markdown",
   "id": "e2ab0835",
   "metadata": {},
   "source": [
    "5. Frame  - it serves as a container and used to organize the widgets.\n",
    "\n",
    "syntax:\n",
    "\n",
    " f1=Frame(master,opt=val)\n",
    " \n",
    "Options that can be passed as arguments -\n",
    "\n",
    " 1. bg\n",
    " \n",
    " 2. bd\n",
    " \n",
    " 3. cursor\n",
    " \n",
    " 4. width\n",
    " \n",
    " 5. height\n"
   ]
  },
  {
   "cell_type": "code",
   "execution_count": 10,
   "id": "c0b10b79",
   "metadata": {},
   "outputs": [],
   "source": [
    "from tkinter import*\n",
    "window=Tk()\n",
    "window.title(\"welcome online python course\")\n",
    "window.minsize(width=100,height=200)\n",
    "window.maxsize(width=300,height=800)\n",
    "f1=Frame()\n",
    "f1.pack()\n",
    "f2=Frame()\n",
    "f2.pack()\n",
    "l1=Label(f1,text=\"python\")\n",
    "l1.pack()\n",
    "l2=Label(f2,text=\"program\")\n",
    "l2.pack()\n",
    "window.mainloop()"
   ]
  },
  {
   "cell_type": "markdown",
   "id": "64816528",
   "metadata": {},
   "source": [
    "### Listbox"
   ]
  },
  {
   "cell_type": "markdown",
   "id": "a6e3ad75",
   "metadata": {},
   "source": [
    "Listbox  -  it is used to give a user with list of options.\n",
    "\n",
    "syntax:\n",
    "\n",
    " lb1=Listbox(master,opt=val)\n",
    " \n",
    "Options that can be passed as arguments -\n",
    " \n",
    " 1. bg\n",
    " \n",
    " 2. bd\n",
    " \n",
    " 3. font\n",
    " \n",
    " 4. image\n",
    " \n",
    " 5. width\n",
    " \n",
    " 6. height"
   ]
  },
  {
   "cell_type": "code",
   "execution_count": 11,
   "id": "8826d4e5",
   "metadata": {},
   "outputs": [],
   "source": [
    "from tkinter import *\n",
    "  \n",
    "top = Tk()\n",
    "Lb = Listbox(top)\n",
    "Lb.insert(1, 'Python')\n",
    "Lb.insert(2, 'Java')\n",
    "Lb.insert(3, 'C++')\n",
    "Lb.insert(4, 'Any other')\n",
    "Lb.pack()\n",
    "top.mainloop()"
   ]
  },
  {
   "cell_type": "code",
   "execution_count": 12,
   "id": "382ec29e",
   "metadata": {},
   "outputs": [
    {
     "ename": "KeyboardInterrupt",
     "evalue": "",
     "output_type": "error",
     "traceback": [
      "\u001b[1;31m---------------------------------------------------------------------------\u001b[0m",
      "\u001b[1;31mKeyboardInterrupt\u001b[0m                         Traceback (most recent call last)",
      "\u001b[1;32m~\\AppData\\Local\\Temp\\ipykernel_13640\\1525946170.py\u001b[0m in \u001b[0;36m<module>\u001b[1;34m\u001b[0m\n\u001b[0;32m      9\u001b[0m \u001b[1;32mfor\u001b[0m \u001b[0mi\u001b[0m \u001b[1;32min\u001b[0m \u001b[0ml1\u001b[0m\u001b[1;33m:\u001b[0m\u001b[1;33m\u001b[0m\u001b[1;33m\u001b[0m\u001b[0m\n\u001b[0;32m     10\u001b[0m     \u001b[0mlb\u001b[0m\u001b[1;33m.\u001b[0m\u001b[0minsert\u001b[0m\u001b[1;33m(\u001b[0m\u001b[0mEND\u001b[0m\u001b[1;33m,\u001b[0m\u001b[0mi\u001b[0m\u001b[1;33m)\u001b[0m\u001b[1;33m\u001b[0m\u001b[1;33m\u001b[0m\u001b[0m\n\u001b[1;32m---> 11\u001b[1;33m \u001b[0mwindow\u001b[0m\u001b[1;33m.\u001b[0m\u001b[0mmainloop\u001b[0m\u001b[1;33m(\u001b[0m\u001b[1;33m)\u001b[0m\u001b[1;33m\u001b[0m\u001b[1;33m\u001b[0m\u001b[0m\n\u001b[0m",
      "\u001b[1;32m~\\anaconda3\\lib\\tkinter\\__init__.py\u001b[0m in \u001b[0;36mmainloop\u001b[1;34m(self, n)\u001b[0m\n\u001b[0;32m   1427\u001b[0m     \u001b[1;32mdef\u001b[0m \u001b[0mmainloop\u001b[0m\u001b[1;33m(\u001b[0m\u001b[0mself\u001b[0m\u001b[1;33m,\u001b[0m \u001b[0mn\u001b[0m\u001b[1;33m=\u001b[0m\u001b[1;36m0\u001b[0m\u001b[1;33m)\u001b[0m\u001b[1;33m:\u001b[0m\u001b[1;33m\u001b[0m\u001b[1;33m\u001b[0m\u001b[0m\n\u001b[0;32m   1428\u001b[0m         \u001b[1;34m\"\"\"Call the mainloop of Tk.\"\"\"\u001b[0m\u001b[1;33m\u001b[0m\u001b[1;33m\u001b[0m\u001b[0m\n\u001b[1;32m-> 1429\u001b[1;33m         \u001b[0mself\u001b[0m\u001b[1;33m.\u001b[0m\u001b[0mtk\u001b[0m\u001b[1;33m.\u001b[0m\u001b[0mmainloop\u001b[0m\u001b[1;33m(\u001b[0m\u001b[0mn\u001b[0m\u001b[1;33m)\u001b[0m\u001b[1;33m\u001b[0m\u001b[1;33m\u001b[0m\u001b[0m\n\u001b[0m\u001b[0;32m   1430\u001b[0m \u001b[1;33m\u001b[0m\u001b[0m\n\u001b[0;32m   1431\u001b[0m     \u001b[1;32mdef\u001b[0m \u001b[0mquit\u001b[0m\u001b[1;33m(\u001b[0m\u001b[0mself\u001b[0m\u001b[1;33m)\u001b[0m\u001b[1;33m:\u001b[0m\u001b[1;33m\u001b[0m\u001b[1;33m\u001b[0m\u001b[0m\n",
      "\u001b[1;31mKeyboardInterrupt\u001b[0m: "
     ]
    }
   ],
   "source": [
    "from tkinter import*\n",
    "window=Tk()\n",
    "window.title(\"welcome online python course\")\n",
    "window.minsize(width=100,height=200)\n",
    "window.maxsize(width=300,height=800)\n",
    "lb=Listbox(window,width=20)\n",
    "lb.pack()\n",
    "l1=[\"anjali\",\"kruthika\",\"stella\",\"rani\"]\n",
    "for i in l1:\n",
    "    lb.insert(END,i)\n",
    "window.mainloop()"
   ]
  },
  {
   "cell_type": "code",
   "execution_count": null,
   "id": "5e038b8d",
   "metadata": {},
   "outputs": [],
   "source": [
    "for i in \"python\":\n",
    "    print(i,end=\"\")"
   ]
  },
  {
   "cell_type": "code",
   "execution_count": 14,
   "id": "f6df3b38",
   "metadata": {},
   "outputs": [],
   "source": [
    "# create a button to remove\n",
    "from tkinter import*\n",
    "window=Tk()\n",
    "window.title(\"welcome online python course\")\n",
    "window.minsize(width=100,height=200)\n",
    "window.maxsize(width=300,height=800)\n",
    "lb=Listbox(window,width=20)\n",
    "lb.pack()\n",
    "l1=[\"anjali\",\"kruthika\",\"stella\",\"rani\"]\n",
    "for i in l1:\n",
    "    lb.insert(END,i)\n",
    "    \n",
    "b1=Button(window,text=\"remove\",bg=\"red\")\n",
    "b1.pack()\n",
    "window.mainloop()"
   ]
  },
  {
   "cell_type": "markdown",
   "id": "2433e773",
   "metadata": {},
   "source": [
    "# Using command\n",
    "Every Button widget has a command attribute that you can assign to a function. Whenever the button is pressed, the function is executed.\n",
    "\n",
    "command: to call a function.\n",
    "\n",
    "config() - This function is used to change the configuration of a widget, for example you can use widget.config(bg=\"red\") to change the background color of a widget."
   ]
  },
  {
   "cell_type": "code",
   "execution_count": 15,
   "id": "3e31da39",
   "metadata": {},
   "outputs": [],
   "source": [
    "# command is nothing but a binding functions\n",
    "from tkinter import*\n",
    "window=Tk()\n",
    "window.title(\"welcome online python course\")\n",
    "window.minsize(width=100,height=200)\n",
    "window.maxsize(width=300,height=800)\n",
    "lb=Listbox(window,width=20)\n",
    "lb.pack()\n",
    "l1=[\"anjali\",\"kruthika\",\"stella\",\"rani\"]\n",
    "for i in l1:\n",
    "    lb.insert(END,i)\n",
    "def hi():\n",
    "    lb.delete(ANCHOR)\n",
    "\n",
    "    \n",
    "b1=Button(window,text=\"remove\",bg=\"red\",command=hi)\n",
    "b1.pack()\n",
    "window.mainloop()"
   ]
  },
  {
   "cell_type": "markdown",
   "id": "f220433a",
   "metadata": {},
   "source": [
    "# Radiobutton\n",
    " It is used to offer multi-choice option to the user. It offers several options to the user and the user has to choose one option.\n",
    "The general syntax is:\n",
    "w = RadioButton(master, option=value)"
   ]
  },
  {
   "cell_type": "code",
   "execution_count": 16,
   "id": "2e92b847",
   "metadata": {},
   "outputs": [],
   "source": [
    "from tkinter import*\n",
    "window=Tk()\n",
    "window.title(\"welcome online python course\")\n",
    "window.minsize(width=100,height=200)\n",
    "window.maxsize(width=300,height=800)\n",
    "rb1=Radiobutton(window,text=\"yes\")\n",
    "rb1.pack()\n",
    "rb2=Radiobutton(window,text=\"No\")\n",
    "rb2.pack()\n",
    "window.mainloop()"
   ]
  },
  {
   "cell_type": "code",
   "execution_count": 19,
   "id": "c7c430d8",
   "metadata": {},
   "outputs": [],
   "source": [
    "from tkinter import*\n",
    "window=Tk()\n",
    "window.title(\"welcome online python course\")\n",
    "window.minsize(width=100,height=200)\n",
    "window.maxsize(width=300,height=800)\n",
    "rb1=Radiobutton(window,text=\"yes\",value=1)\n",
    "rb1.pack()\n",
    "rb2=Radiobutton(window,text=\"No\",value=0)\n",
    "rb2.pack()\n",
    "window.mainloop()"
   ]
  },
  {
   "cell_type": "code",
   "execution_count": 22,
   "id": "e06839e1",
   "metadata": {},
   "outputs": [
    {
     "name": "stdout",
     "output_type": "stream",
     "text": [
      "1\n",
      "0\n"
     ]
    }
   ],
   "source": [
    "from tkinter import*\n",
    "window=Tk()\n",
    "window.title(\"welcome online python course\")\n",
    "window.minsize(width=100,height=200)\n",
    "window.maxsize(width=300,height=800)\n",
    "v=IntVar()\n",
    "def hello():\n",
    "    print(v.get())\n",
    "rb1=Radiobutton(window,text=\"yes\",value=1,variable=v)\n",
    "rb1.pack()\n",
    "rb2=Radiobutton(window,text=\"No\",value=0,variable=v)\n",
    "rb2.pack()\n",
    "b1=Button(window,text=\"Enter\",command=hello)\n",
    "b1.pack()\n",
    "window.mainloop()"
   ]
  },
  {
   "cell_type": "markdown",
   "id": "200e6745",
   "metadata": {},
   "source": [
    "# Text: \n",
    "To edit a multi-line text and format the way it has to be displayed.\n",
    "The general syntax is:\n",
    "\n",
    "w  =Text(master, option=value)"
   ]
  },
  {
   "cell_type": "code",
   "execution_count": 23,
   "id": "64e61b76",
   "metadata": {},
   "outputs": [],
   "source": [
    "from tkinter import *\n",
    "root = Tk()\n",
    "T = Text(root, height=2, width=30)\n",
    "T.pack()\n",
    "T.insert(END, 'python\\nprogramming\\n')\n",
    "mainloop()"
   ]
  },
  {
   "cell_type": "markdown",
   "id": "732e8a83",
   "metadata": {},
   "source": [
    "# Messagebox\n",
    "\n",
    "It refers to the multi-line and non-editable text. It works same as that of Label.\n",
    "The general syntax is:\n",
    "\n",
    "\n",
    "w = Message(master, option=value)\n",
    "\n",
    "master is the parameter used to represent the parent window."
   ]
  },
  {
   "cell_type": "code",
   "execution_count": 24,
   "id": "d4d25f48",
   "metadata": {},
   "outputs": [],
   "source": [
    "from tkinter import*\n",
    "from tkinter import messagebox\n",
    "window=Tk()\n",
    "window.title(\"welcome online python course\")\n",
    "window.minsize(width=100,height=200)\n",
    "window.maxsize(width=300,height=800)\n",
    "e1=Entry(window,font=(\"Arial\",20))\n",
    "e1.pack()\n",
    "b1=Button(window,text=\"Enter\")\n",
    "b1.pack()\n",
    "window.mainloop()"
   ]
  },
  {
   "cell_type": "markdown",
   "id": "070762a7",
   "metadata": {},
   "source": [
    "#### StringVar()\n",
    "StringVar is a Tkinter class that represents a variable that holds a string value. In the given line of code, v is a variable of type StringVar, which means that it can be used to store and retrieve a string value in a Tkinter application. The StringVar class is often used in Tkinter to keep track of the values of widget attributes, such as the text of a label or the state of a checkbox."
   ]
  },
  {
   "cell_type": "code",
   "execution_count": 26,
   "id": "2ab94ae7",
   "metadata": {},
   "outputs": [],
   "source": [
    "from tkinter import*\n",
    "from tkinter import messagebox\n",
    "window=Tk()\n",
    "window.title(\"welcome online python course\")\n",
    "window.minsize(width=100,height=200)\n",
    "window.maxsize(width=300,height=800)\n",
    "v=StringVar()\n",
    "def hi():\n",
    "    if v.get()==\"\":\n",
    "        messagebox.showwarning(\"Caution\",\"Its empty\")\n",
    "    else:\n",
    "        messagebox.showinfo(\"successful\",v.get())\n",
    "e1=Entry(window,font=(\"Arial\",20),width=20,textvariable=v)\n",
    "e1.pack()\n",
    "b1=Button(window,text=\"Enter\",command=hi)\n",
    "b1.pack()\n",
    "window.mainloop()"
   ]
  },
  {
   "cell_type": "markdown",
   "id": "feadecee",
   "metadata": {},
   "source": [
    "1.from tkinter import * and from tkinter import messagebox import the necessary modules from the Tkinter library.\n",
    "\n",
    "2.window=Tk() creates a new Tkinter window and assigns it to the window variable.\n",
    "\n",
    "3.window.title(\"welcome online python course\") sets the title of the window to \"welcome online python course\".\n",
    "\n",
    "4.window.minsize(width=100,height=200) and window.maxsize(width=300,height=800) set the minimum and maximum sizes for the window, respectively.\n",
    "\n",
    "5.v=StringVar() creates a new StringVar object and assigns it to the v variable. This object will be used to store and retrieve the text entered into the entry widget.\n",
    "\n",
    "6.def hi(): defines a function named hi that will be called when the \"Enter\" button is clicked.\n",
    "\n",
    "7.Within the hi function, the if v.get()==\"\": statement checks if the string stored in the v variable is empty. If it is empty, a warning message is displayed using the messagebox.showwarning function.\n",
    "\n",
    "8.If the string is not empty, an information message is displayed using the messagebox.showinfo function, passing the string stored in v as an argument.\n",
    "\n",
    "9.e1=Entry(window,font=(\"Arial\",20),width=20,textvariable=v) creates a new entry widget and assigns it to the e1 variable. The font argument sets the font used in the widget, width sets the width of the widget, and textvariable is set to the v variable so that the text entered into the widget is stored in v.\n",
    "\n",
    "10.e1.pack() adds the entry widget to the window.\n",
    "\n",
    "11.b1=Button(window,text=\"Enter\",command=hi) creates a new button widget and assigns it to the b1 variable. The text argument sets the text displayed on the button, and command is set to the hi function so that the function is called when the button is clicked.\n",
    "\n",
    "12.b1.pack() adds the button widget to the window.\n",
    "\n",
    "13.window.mainloop() starts the event loop for the window, so that it will wait for user input and respond to events such as button clicks."
   ]
  },
  {
   "cell_type": "markdown",
   "id": "987c4dfb",
   "metadata": {},
   "source": [
    "<h1><font color=#7FFF00>Combobox</font></h1>"
   ]
  },
  {
   "cell_type": "markdown",
   "id": "3b384680",
   "metadata": {},
   "source": [
    "A combobox is a graphical user interface widget that presents a drop-down list of options. The user can select one of the options by clicking on it, or typing a value directly into the widget. Comboboxes are commonly used to provide a convenient way for the user to choose from a list of predefined options. They can be found in various software applications, including desktop applications and web applications."
   ]
  },
  {
   "cell_type": "code",
   "execution_count": 27,
   "id": "0cbbfa63",
   "metadata": {},
   "outputs": [],
   "source": [
    "import tkinter as tk\n",
    "from tkinter import ttk\n",
    "root=tk.Tk()\n",
    "root.title(\"combobox\")\n",
    "root.geometry(\"600x600\")\n",
    "ttk.Label(root,text=\"python\",background=\"blue\",foreground=\"white\",font=(\"ALGERIAN\",20)).grid(row=0,column=1)\n",
    "root.mainloop()"
   ]
  },
  {
   "cell_type": "code",
   "execution_count": 28,
   "id": "7a9e50a1",
   "metadata": {},
   "outputs": [],
   "source": [
    "import tkinter as tk\n",
    "from tkinter import ttk\n",
    "root=tk.Tk()\n",
    "root.title(\"combobox\")\n",
    "root.geometry(\"600x600\")\n",
    "ttk.Label(root,text=\"python\",background=\"blue\",foreground=\"white\",font=(\"ALGERIAN\",20)).grid(row=0,column=1)\n",
    "\n",
    "# combobox\n",
    "n=tk.StringVar()\n",
    "course=ttk.Combobox(root,width=27,textvariable=n)\n",
    "course['values']=(\"python\",\"Mysql\",\"Django\")\n",
    "course.grid(column=1,row=5)\n",
    "course.current()\n",
    "root.mainloop()"
   ]
  },
  {
   "cell_type": "code",
   "execution_count": 29,
   "id": "e020e448",
   "metadata": {},
   "outputs": [],
   "source": [
    "import tkinter as tk\n",
    "from tkinter import ttk\n",
    "root=tk.Tk()\n",
    "root.title(\"combobox\")\n",
    "root.geometry(\"600x600\")\n",
    "ttk.Label(root,text=\"python\",background=\"blue\",foreground=\"white\",font=(\"ALGERIAN\",20)).grid(row=0,column=1)\n",
    "\n",
    "# combobox\n",
    "n=tk.StringVar()\n",
    "course=ttk.Combobox(root,width=27,textvariable=n)\n",
    "course['values']=(\"January\", \"February\", \"March\", \"April\", \"May\", \"June\", \"July\", \"August\", \"September\", \"October\", \"November\", \"December\")\n",
    "course.grid(column=1,row=5)\n",
    "course.current()\n",
    "root.mainloop()"
   ]
  },
  {
   "cell_type": "code",
   "execution_count": null,
   "id": "faa2c63f",
   "metadata": {},
   "outputs": [],
   "source": []
  },
  {
   "cell_type": "code",
   "execution_count": null,
   "id": "64245615",
   "metadata": {},
   "outputs": [],
   "source": []
  },
  {
   "cell_type": "code",
   "execution_count": 5,
   "id": "809030f3",
   "metadata": {},
   "outputs": [],
   "source": [
    "import tkinter as tk\n",
    "from tkinter import ttk\n",
    "\n",
    "def show_value():\n",
    "    value = combobox.get()\n",
    "    label.config(text=f\"Selected value: {value}\")\n",
    "\n",
    "root = tk.Tk()\n",
    "\n",
    "combobox = tk.ttk.Combobox(root, values=[\"Option 1\", \"Option 2\", \"Option 3\"])\n",
    "combobox.current(0)\n",
    "combobox.pack()\n",
    "\n",
    "button = tk.Button(root, text=\"Show value\", command=show_value)\n",
    "button.pack()\n",
    "\n",
    "label = tk.Label(root)\n",
    "label.pack()\n",
    "\n",
    "root.mainloop()\n"
   ]
  },
  {
   "cell_type": "code",
   "execution_count": null,
   "id": "94dcafe1",
   "metadata": {},
   "outputs": [],
   "source": []
  }
 ],
 "metadata": {
  "kernelspec": {
   "display_name": "Python 3 (ipykernel)",
   "language": "python",
   "name": "python3"
  },
  "language_info": {
   "codemirror_mode": {
    "name": "ipython",
    "version": 3
   },
   "file_extension": ".py",
   "mimetype": "text/x-python",
   "name": "python",
   "nbconvert_exporter": "python",
   "pygments_lexer": "ipython3",
   "version": "3.9.13"
  }
 },
 "nbformat": 4,
 "nbformat_minor": 5
}
