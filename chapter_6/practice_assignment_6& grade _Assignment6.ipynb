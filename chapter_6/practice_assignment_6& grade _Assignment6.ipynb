{
 "cells": [
  {
   "cell_type": "markdown",
   "id": "75319369",
   "metadata": {},
   "source": [
    "# 1.Write a program for linear search using python.\n",
    "\n",
    "Test Data : [11,23,58,31,56,77,43,12,65,19] search for 31 ....o/p -> (True, 3)\n",
    "\n"
   ]
  },
  {
   "cell_type": "code",
   "execution_count": 1,
   "id": "7237c9d3",
   "metadata": {},
   "outputs": [
    {
     "name": "stdout",
     "output_type": "stream",
     "text": [
      "(True, 3)\n"
     ]
    }
   ],
   "source": [
    "def linear_search(arr, x):\n",
    "    for i in range(len(arr)):\n",
    "        if arr[i] == x:\n",
    "            return True, i\n",
    "    return False, None\n",
    "\n",
    "arr = [11,23,58,31,56,77,43,12,65,19]\n",
    "x = 31\n",
    "result = linear_search(arr, x)\n",
    "print(result)\n"
   ]
  },
  {
   "cell_type": "markdown",
   "id": "5ad44025",
   "metadata": {},
   "source": [
    "This program takes in an array arr and a value x as input, and returns a tuple of a boolean value (indicating whether the value was found in the array) and the index of the first occurrence of the value in the array (if it was found). The linear search algorithm is implemented using a simple for loop that iterates through each element in the array and checks if it is equal to the target value."
   ]
  },
  {
   "cell_type": "markdown",
   "id": "7d742af1",
   "metadata": {},
   "source": [
    "# 2.Write a program for bubble sort using python for the list a=[12, 5, 7, 18, 11, 6, 12, 4, 17, 1]"
   ]
  },
  {
   "cell_type": "code",
   "execution_count": 2,
   "id": "7c8b7a68",
   "metadata": {},
   "outputs": [
    {
     "name": "stdout",
     "output_type": "stream",
     "text": [
      "[1, 4, 5, 6, 7, 11, 12, 12, 17, 18]\n"
     ]
    }
   ],
   "source": [
    "def bubble_sort(arr):\n",
    "    n = len(arr)\n",
    "    for i in range(n):\n",
    "        for j in range(0, n-i-1):\n",
    "            if arr[j] > arr[j+1]:\n",
    "                arr[j], arr[j+1] = arr[j+1], arr[j]\n",
    "    return arr\n",
    "\n",
    "a=[12, 5, 7, 18, 11, 6, 12, 4, 17, 1]\n",
    "print(bubble_sort(a))\n"
   ]
  },
  {
   "cell_type": "markdown",
   "id": "b4f9d107",
   "metadata": {},
   "source": [
    "This program sorts the given list of numbers in ascending order using the bubble sort algorithm. The outer loop runs n times, where n is the number of elements in the array, and the inner loop goes through each element of the array and compares it with the next element. If the current element is greater than the next element, it swaps the two elements. This process is repeated until the largest element \"bubbles up\" to the last position of the array.\n",
    "\n",
    "Output:\n",
    "[1, 4, 5, 6, 7, 11, 12, 12, 17, 18]"
   ]
  },
  {
   "cell_type": "markdown",
   "id": "b2d10ac8",
   "metadata": {},
   "source": [
    "# 3.Sample Data: [14,46,43,27,57,41,45,21,70]\n",
    "Expected Result: [14, 21, 27, 41, 43, 45, 46, 57, 70]\n",
    "\n",
    "Write a Python program to sort a list of elements using the selection sort algorithm\n"
   ]
  },
  {
   "cell_type": "code",
   "execution_count": 3,
   "id": "0e9bcf81",
   "metadata": {},
   "outputs": [
    {
     "name": "stdout",
     "output_type": "stream",
     "text": [
      "[14, 21, 27, 41, 43, 45, 46, 57, 70]\n"
     ]
    }
   ],
   "source": [
    "def selection_sort(arr):\n",
    "    for i in range(len(arr)):\n",
    "        min_idx = i\n",
    "        for j in range(i+1, len(arr)):\n",
    "            if arr[min_idx] > arr[j]:\n",
    "                min_idx = j\n",
    "        arr[i], arr[min_idx] = arr[min_idx], arr[i]\n",
    "    return arr\n",
    "\n",
    "a = [14,46,43,27,57,41,45,21,70]\n",
    "print(selection_sort(a))\n"
   ]
  },
  {
   "cell_type": "markdown",
   "id": "610e4b8a",
   "metadata": {},
   "source": [
    "This program sorts the given list of numbers in ascending order using the selection sort algorithm. The outer loop runs n times, where n is the number of elements in the array, and the inner loop goes through each element of the array and finds the minimum element from the unsorted portion of the array. The minimum element is then swapped with the first element of the unsorted portion. This process is repeated until all the elements are sorted.\n",
    "\n",
    "Output:\n",
    "[14, 21, 27, 41, 43, 45, 46, 57, 70]"
   ]
  },
  {
   "cell_type": "markdown",
   "id": "4af10330",
   "metadata": {},
   "source": [
    "# 4.Write a program for treetravelsel using python\n"
   ]
  },
  {
   "cell_type": "code",
   "execution_count": 4,
   "id": "4f0c77f1",
   "metadata": {},
   "outputs": [
    {
     "name": "stdout",
     "output_type": "stream",
     "text": [
      "4\n",
      "2\n",
      "5\n",
      "1\n",
      "3\n"
     ]
    }
   ],
   "source": [
    "class Node:\n",
    "    def __init__(self, data):\n",
    "        self.data = data\n",
    "        self.left = None\n",
    "        self.right = None\n",
    "\n",
    "def inorder_traversal(root):\n",
    "    if root:\n",
    "        inorder_traversal(root.left)\n",
    "        print(root.data)\n",
    "        inorder_traversal(root.right)\n",
    "\n",
    "root = Node(1)\n",
    "root.left = Node(2)\n",
    "root.right = Node(3)\n",
    "root.left.left = Node(4)\n",
    "root.left.right = Node(5)\n",
    "\n",
    "inorder_traversal(root)\n"
   ]
  },
  {
   "cell_type": "markdown",
   "id": "8abff57f",
   "metadata": {},
   "source": [
    "This program defines a simple tree with a root node and several child nodes. The inorder_traversal() function is defined to perform an in-order traversal of the tree, starting at the root node. The function uses recursion to visit the left child, then the current node, and then the right child. The print(root.data) statement is used to perform some operation on each node (in this case, just printing the node's data).\n",
    "\n",
    "Output:\n",
    "4\n",
    "2\n",
    "5\n",
    "1\n",
    "3\n",
    "\n",
    "You can also use other traversal methods like pre-order and post-order using the same structure.\n",
    "\n",
    "In pre-order traversal, the root is visited first, then the left subtree, and then the right subtree.\n",
    "\n"
   ]
  },
  {
   "cell_type": "code",
   "execution_count": 5,
   "id": "ce1a72f2",
   "metadata": {},
   "outputs": [],
   "source": [
    "def preorder_traversal(root):\n",
    "    if root:\n",
    "        print(root.data)\n",
    "        preorder_traversal(root.left)\n",
    "        preorder_traversal(root.right)\n",
    "\n"
   ]
  },
  {
   "cell_type": "markdown",
   "id": "14ce70ac",
   "metadata": {},
   "source": [
    "In post-order traversal, the left subtree is traversed first, then the right subtree, and then the root node."
   ]
  },
  {
   "cell_type": "code",
   "execution_count": null,
   "id": "0d9343da",
   "metadata": {},
   "outputs": [],
   "source": [
    "def postorder_traversal(root):\n",
    "    if root:\n",
    "        postorder_traversal(root.left)\n",
    "        postorder_traversal(root.right)\n",
    "        print(root.data)\n"
   ]
  },
  {
   "cell_type": "markdown",
   "id": "fce6f71b",
   "metadata": {},
   "source": [
    "# 5.Write a program for binary search tree"
   ]
  },
  {
   "cell_type": "markdown",
   "id": "b77baf77",
   "metadata": {},
   "source": [
    "A binary search tree (BST) is a data structure that stores a collection of elements such that each element has a key and each node has at most two children. The left child has a key that is less than its parent's key and the right child has a key that is greater than its parent's key. Here's an example of how to implement a binary search tree in Python:"
   ]
  },
  {
   "cell_type": "code",
   "execution_count": 6,
   "id": "6a62e76b",
   "metadata": {},
   "outputs": [
    {
     "name": "stdout",
     "output_type": "stream",
     "text": [
      "Inorder traversal of the given tree\n",
      "20\n",
      "30\n",
      "40\n",
      "50\n",
      "60\n",
      "70\n",
      "80\n"
     ]
    }
   ],
   "source": [
    "class Node:\n",
    "    def __init__(self, key):\n",
    "        self.left = None\n",
    "        self.right = None\n",
    "        self.val = key\n",
    "\n",
    "def insert(root, key):\n",
    "    if root is None:\n",
    "        return Node(key)\n",
    "    else:\n",
    "        if root.val < key:\n",
    "            root.right = insert(root.right, key)\n",
    "        else:\n",
    "            root.left = insert(root.left, key)\n",
    "    return root\n",
    "\n",
    "def inorder_traversal(root):\n",
    "    if root:\n",
    "        inorder_traversal(root.left)\n",
    "        print(root.val)\n",
    "        inorder_traversal(root.right)\n",
    "\n",
    "root = Node(50)\n",
    "root = insert(root, 30);\n",
    "root = insert(root, 20);\n",
    "root = insert(root, 40);\n",
    "root = insert(root, 70);\n",
    "root = insert(root, 60);\n",
    "root = insert(root, 80);\n",
    "\n",
    "print(\"Inorder traversal of the given tree\")\n",
    "inorder_traversal(root)\n"
   ]
  },
  {
   "cell_type": "markdown",
   "id": "a8560bb1",
   "metadata": {},
   "source": [
    "This program defines a simple binary search tree with a root node and several child nodes. The insert() function is used to insert a new key into the tree. It takes the root of the tree and the key to be inserted as arguments. If the tree is empty, it creates a new node with the given key and returns it. If the tree is not empty, it compares the key to the value of the root node. If the key is greater than the value of the root node, it recursively calls itself on the right child, otherwise it calls itself on the left child.\n",
    "\n",
    "The inorder_traversal() function is used to perform an in-order traversal of the tree, which visits the left child, the current node, and then the right child. This is used to print the elements of the tree in a sorted order.\n",
    "\n",
    "Output:\n",
    "Inorder traversal of the given tree\n",
    "20\n",
    "30\n",
    "40\n",
    "50\n",
    "60\n",
    "70\n",
    "80"
   ]
  },
  {
   "cell_type": "markdown",
   "id": "8e72f64e",
   "metadata": {},
   "source": [
    "# 6.Given a value N, if we want to make change for N cents, and we have infinite supply of each of S = { S1, S2, .. , Sm} valued coins, how many ways can we make the change? The order of coins doesn’t matter.\n"
   ]
  },
  {
   "cell_type": "code",
   "execution_count": 7,
   "id": "c9560155",
   "metadata": {},
   "outputs": [
    {
     "name": "stdout",
     "output_type": "stream",
     "text": [
      "4\n"
     ]
    }
   ],
   "source": [
    "def count_ways(S, m, n):\n",
    "    dp = [[0 for i in range(n+1)] for j in range(m+1)]\n",
    "    for i in range(m+1):\n",
    "        dp[i][0] = 1\n",
    "\n",
    "    for i in range(1, m+1):\n",
    "        for j in range(1, n+1):\n",
    "            if j>=S[i-1]:\n",
    "                dp[i][j] = dp[i-1][j] + dp[i][j-S[i-1]]\n",
    "            else:\n",
    "                dp[i][j] = dp[i-1][j]\n",
    "    return dp[m][n]\n",
    "\n",
    "S = [1, 2, 3]\n",
    "m = len(S)\n",
    "n = 4\n",
    "print(count_ways(S, m, n))\n"
   ]
  },
  {
   "cell_type": "markdown",
   "id": "1a90cac4",
   "metadata": {},
   "source": [
    "This program takes in three arguments: S, the array of coin values, m, the number of coins, and n, the target value. It initializes a 2D array dp with all elements set to 0, and sets the first column to 1. Then it iterates through the array and for every coin, it checks if the coin value is less than or equal to the target value. If it is, then the number of ways to make change for that value is the sum of the number of ways to make change without that coin and the number of ways to make change with that coin but with a smaller target value. If the coin value is greater than the target value, then the number of ways to make change is the same as the number of ways to make change without that coin.\n",
    "\n",
    "Output:\n",
    "4"
   ]
  },
  {
   "cell_type": "markdown",
   "id": "d64c9e15",
   "metadata": {},
   "source": [
    "# 7. Write an algorithm to check whether a number is prime or not upto 10,000."
   ]
  },
  {
   "cell_type": "code",
   "execution_count": 8,
   "id": "8d8d4e96",
   "metadata": {},
   "outputs": [
    {
     "name": "stdout",
     "output_type": "stream",
     "text": [
      "7 is a prime number.\n"
     ]
    }
   ],
   "source": [
    "def is_prime(n):\n",
    "    if n <= 1:\n",
    "        return False\n",
    "    if n <= 3:\n",
    "        return True\n",
    "    if n % 2 == 0 or n % 3 == 0:\n",
    "        return False\n",
    "    i = 5\n",
    "    while i * i <= n:\n",
    "        if n % i == 0 or n % (i + 2) == 0:\n",
    "            return False\n",
    "        i += 6\n",
    "    return True\n",
    "\n",
    "n = 7\n",
    "if is_prime(n):\n",
    "    print(n, \"is a prime number.\")\n",
    "else:\n",
    "    print(n, \"is not a prime number.\")\n"
   ]
  },
  {
   "cell_type": "markdown",
   "id": "8b8bf09f",
   "metadata": {},
   "source": [
    "This algorithm checks whether a number is prime or not by dividing the number by all integers from 2 to the square root of the number. It starts with the basic checks, if the number is less than or equal to 1, it's not prime. If number is 2 or 3, it's prime. Then it checks if the number is divisible by 2 or 3 if yes, the number is not prime. Then the algorithm starts a loop from 5 and incrementing by 6 each time, as all primes greater than 3 can be written in the form 6k±1. So this algorithm check if the number is divisible by any number in the range of 6k±1.\n",
    "\n",
    "This algorithm will check if the number is prime or not up to 10,000, as the loop iterates to the square root of the number and returns the results in constant time.\n",
    "The time complexity for this algorithm is O(sqrt(n)) and space complexity is O(1)"
   ]
  },
  {
   "cell_type": "markdown",
   "id": "326f283c",
   "metadata": {},
   "source": [
    "# 8.Write an algorithm to traverse a Binary Tree in 3 different ways.\n",
    "1) In-order Traversing\n",
    "2) Pre-order Traversing\n",
    "3) Post-order Traversing\n"
   ]
  },
  {
   "cell_type": "markdown",
   "id": "04265808",
   "metadata": {},
   "source": [
    "Here is an algorithm to traverse a binary tree in 3 different ways:\n",
    "\n",
    "1) In-order Traversing:"
   ]
  },
  {
   "cell_type": "code",
   "execution_count": 12,
   "id": "289eee00",
   "metadata": {},
   "outputs": [],
   "source": [
    "def inorder_traversal(root):\n",
    "    if root:\n",
    "        inorder_traversal(root.left)\n",
    "        print(root.val)\n",
    "        inorder_traversal(root.right)\n"
   ]
  },
  {
   "cell_type": "markdown",
   "id": "e1fc47d3",
   "metadata": {},
   "source": [
    "In In-order traversal, the left subtree is traversed first, then the root node, and then the right subtree.\n",
    "\n",
    "2) Pre-order Traversing:"
   ]
  },
  {
   "cell_type": "code",
   "execution_count": 13,
   "id": "f30157a0",
   "metadata": {},
   "outputs": [],
   "source": [
    "def preorder_traversal(root):\n",
    "    if root:\n",
    "        print(root.val)\n",
    "        preorder_traversal(root.left)\n",
    "        preorder_traversal(root.right)\n"
   ]
  },
  {
   "cell_type": "markdown",
   "id": "0a6576af",
   "metadata": {},
   "source": [
    "In Pre-order traversal, the root is visited first, then the left subtree, and then the right subtree.\n",
    "\n",
    "3) Post-order Traversing:"
   ]
  },
  {
   "cell_type": "code",
   "execution_count": 14,
   "id": "b7203fec",
   "metadata": {},
   "outputs": [],
   "source": [
    "def postorder_traversal(root):\n",
    "    if root:\n",
    "        postorder_traversal(root.left)\n",
    "        postorder_traversal(root.right)\n",
    "        print(root.val)\n"
   ]
  },
  {
   "cell_type": "markdown",
   "id": "d19bfec1",
   "metadata": {},
   "source": [
    "In Post-order traversal, the left subtree is traversed first, then the right subtree, and then the root node.\n",
    "\n",
    "Each of these functions take the root of the tree as input, and recursively traverse the left and right subtrees of the current node. The function will print the value of the current node when it is visited.\n",
    "\n",
    "You can call these functions on the root of the tree to traverse the entire tree in a specific order.\n",
    "\n",
    "For example:"
   ]
  },
  {
   "cell_type": "code",
   "execution_count": 15,
   "id": "ae3fff54",
   "metadata": {},
   "outputs": [
    {
     "name": "stdout",
     "output_type": "stream",
     "text": [
      "In-order Traversal:\n",
      "4\n",
      "2\n",
      "5\n",
      "1\n",
      "3\n",
      "\n",
      "Pre-order Traversal:\n",
      "1\n",
      "2\n",
      "4\n",
      "5\n",
      "3\n",
      "\n",
      "Post-order Traversal:\n",
      "4\n",
      "5\n",
      "2\n",
      "3\n",
      "1\n"
     ]
    }
   ],
   "source": [
    "root = Node(1)\n",
    "root.left = Node(2)\n",
    "root.right = Node(3)\n",
    "root.left.left = Node(4)\n",
    "root.left.right = Node(5)\n",
    "\n",
    "print(\"In-order Traversal:\")\n",
    "inorder_traversal(root)\n",
    "print(\"\\nPre-order Traversal:\")\n",
    "preorder_traversal(root)\n",
    "print(\"\\nPost-order Traversal:\")\n",
    "postorder_traversal(root)\n"
   ]
  },
  {
   "cell_type": "markdown",
   "id": "6e86a56d",
   "metadata": {},
   "source": [
    "The time complexity for this algorithm is O(n) and space complexity is O(h) where h is the height of the tree."
   ]
  },
  {
   "cell_type": "markdown",
   "id": "3d434bc9",
   "metadata": {},
   "source": [
    "# 9.Write a python program to insert a node in Binary Search Tree."
   ]
  },
  {
   "cell_type": "code",
   "execution_count": 17,
   "id": "e11cf301",
   "metadata": {},
   "outputs": [],
   "source": [
    "class Node:\n",
    "    def __init__(self, data):\n",
    "        self.left = None\n",
    "        self.right = None\n",
    "        self.val = data\n",
    "\n",
    "def insert(root, data):\n",
    "    if root is None:\n",
    "        return Node(data)\n",
    "    else:\n",
    "        if root.val < data:\n",
    "            root.right = insert(root.right, data)\n",
    "        else:\n",
    "            root.left = insert(root.left, data)\n",
    "    return root\n",
    "\n",
    "root = Node(50)\n",
    "root = insert(root, 30)\n",
    "root = insert(root, 20)\n",
    "root = insert(root, 40)\n",
    "root = insert(root, 70)\n",
    "root = insert(root, 60)\n",
    "root = insert(root, 80)\n"
   ]
  },
  {
   "cell_type": "markdown",
   "id": "c4a997dd",
   "metadata": {},
   "source": [
    "This program defines a simple binary search tree with a root node and several child nodes. The insert() function is used to insert a new node into the tree. It takes the root of the tree and the value to be inserted as arguments. If the tree is empty, it creates a new node with the given value and returns it. If the tree is not empty, it compares the value to the value of the root node. If the value is greater than the value of the root node, it recursively calls itself on the right child, otherwise it calls itself on the left child.\n",
    "\n",
    "This program is a basic implementation of a binary search tree insertion, and it has certain limitations, such as it doesn't handle duplicate values, and it doesn't have the functionality of balancing the tree. In practice, you would use more sophisticated data structures, such as AVL tree or Red-Black tree, which can handle these issues.\n",
    "\n",
    "The time complexity for this"
   ]
  },
  {
   "attachments": {
    "image.png": {
     "image/png": "[encoded data removed]"
    }
   },
   "cell_type": "markdown",
   "id": "e67fc202",
   "metadata": {},
   "source": [
    "# 10.What is an AVL tree? Convert the following unbalanced tree into a balanced tree.\n",
    "\n",
    "![image.png](attachment:image.png)"
   ]
  },
  {
   "cell_type": "markdown",
   "id": "3beebfd7",
   "metadata": {},
   "source": [
    "An AVL tree is a self-balancing binary search tree. In an AVL tree, the difference in height between the left and right subtrees of any node is at most 1. This means that the tree is always balanced and the height of the tree is always O(log(n)) where n is the number of nodes in the tree. This results in efficient insert, search and delete operations with a time complexity of O(log(n)).\n",
    "\n",
    "To convert an unbalanced tree into a balanced tree, one approach is to use the AVL tree rotation techniques. AVL tree has four types of rotations: Left Rotation, Right Rotation, Left-Right Rotation, and Right-Left Rotation.\n",
    "\n",
    "It's difficult to convert an unbalanced tree into a balanced tree without knowing the specific structure of the tree, the order of insertion and the nodes that make the tree unbalanced. But in general, AVL tree uses rotations to balance the tree and maintain the balance property(difference in height between left and right subtrees of any node is at most 1).\n",
    "\n",
    "For example, if you have an unbalanced tree like this:"
   ]
  },
  {
   "cell_type": "markdown",
   "id": "9af2121f",
   "metadata": {},
   "source": [
    "        30\n",
    "       /\n",
    "      20\n",
    "     /\n",
    "    10\n",
    "   /\n",
    "  5\n",
    "     \n"
   ]
  },
  {
   "cell_type": "markdown",
   "id": "22e6ef7f",
   "metadata": {},
   "source": [
    "You can balance it by performing a right rotation on the root node 30:\n",
    "\n",
    "        20"
   ]
  },
  {
   "cell_type": "markdown",
   "id": "e670d46c",
   "metadata": {},
   "source": [
    "# Graded_Assignment_6"
   ]
  },
  {
   "cell_type": "markdown",
   "id": "0e8edee1",
   "metadata": {},
   "source": [
    "# 6.B.1: ASSIGNMENT\n",
    "\n",
    "PROBLEM STATEMENT\n",
    "\n",
    "\n",
    "Given an array of non-negative integers, you are initially positioned at the first index of the array.\n",
    "\n",
    "Each element in the array represents your maximum jump length at that position.\n",
    "\n",
    "Your goal is to reach the last index in the minimum number of jumps."
   ]
  },
  {
   "cell_type": "code",
   "execution_count": 2,
   "id": "ddc395be",
   "metadata": {},
   "outputs": [],
   "source": [
    "def jump_game(arr):\n",
    "    n = len(arr)\n",
    "    # Initialize an array to store the minimum number of jumps required to reach each position\n",
    "    dp = [float('inf') for _ in range(n)]\n",
    "    dp[0] = 0\n",
    "    for i in range(n):\n",
    "        for j in range(1, arr[i]+1):\n",
    "            if i+j < n:\n",
    "                dp[i+j] = min(dp[i+j], dp[i]+1)\n",
    "    return dp[-1]\n"
   ]
  },
  {
   "cell_type": "code",
   "execution_count": 3,
   "id": "11d495b3",
   "metadata": {},
   "outputs": [
    {
     "name": "stdout",
     "output_type": "stream",
     "text": [
      "Minimum number of jumps required:  3\n"
     ]
    },
    {
     "data": {
      "text/plain": [
       "3"
      ]
     },
     "execution_count": 3,
     "metadata": {},
     "output_type": "execute_result"
    }
   ],
   "source": [
    "def jump_game(arr):\n",
    "    n = len(arr)\n",
    "    # Initialize an array to store the minimum number of jumps required to reach each position\n",
    "    dp = [float('inf') for _ in range(n)]\n",
    "    dp[0] = 0\n",
    "    for i in range(n):\n",
    "        for j in range(1, arr[i]+1):\n",
    "            if i+j < n:\n",
    "                dp[i+j] = min(dp[i+j], dp[i]+1)\n",
    "    print(\"Minimum number of jumps required: \",dp[-1])\n",
    "    return dp[-1]\n",
    "\n",
    "arr = [1, 3, 5, 8, 9, 2, 6, 7, 6, 8, 9]\n",
    "jump_game(arr)\n"
   ]
  },
  {
   "cell_type": "code",
   "execution_count": 1,
   "id": "c159f193",
   "metadata": {},
   "outputs": [
    {
     "name": "stdout",
     "output_type": "stream",
     "text": [
      "Minimum number of jumps required:  3\n"
     ]
    },
    {
     "data": {
      "text/plain": [
       "3"
      ]
     },
     "execution_count": 1,
     "metadata": {},
     "output_type": "execute_result"
    }
   ],
   "source": [
    "def jump_game(arr):\n",
    "    n = len(arr)\n",
    "    # Initialize an array to store the minimum number of jumps required to reach each position\n",
    "    dp = [float('inf') for _ in range(n)]\n",
    "    dp[0] = 0\n",
    "    for i in range(n):\n",
    "        for j in range(1, arr[i]+1):\n",
    "            if i+j < n:\n",
    "                dp[i+j] = min(dp[i+j], dp[i]+1)\n",
    "    print(\"Minimum number of jumps required: \",dp[-1])\n",
    "    return dp[-1]\n",
    "\n",
    "arr = [1, 3, 5, 8, 9, 2, 6, 7, 6, 8, 9]\n",
    "jump_game(arr)\n"
   ]
  },
  {
   "cell_type": "markdown",
   "id": "2ba7e39a",
   "metadata": {},
   "source": [
    "This code takes in an array of non-negative integers as input, and returns the minimum number of jumps required to reach the last index. The dp array stores the minimum number of jumps required to reach each position, with the initial value set to infinity (float('inf')) for all positions except the first one, which is set to 0. The outer loop iterates through each position in the input array, and the inner loop iterates through the maximum jump distance that can be made from that position. For each position, if the current position plus the maximum jump distance at that position is less than the last index of array, the minimum number of jumps required to reach that position is updated with the minimum number of jumps required to reach the current position plus 1. Finally, the last element of the dp array is returned which is the minimum number of jumps required to reach the last index and we are also printing the result."
   ]
  },
  {
   "cell_type": "markdown",
   "id": "d2ba1e4f",
   "metadata": {},
   "source": [
    "# 6.B.2: ASSIGNMENT\n",
    "\n",
    "PROBLEM STATEMENT\n",
    "\n",
    "\n",
    "\n",
    "Given an array of strings, group anagrams together.\n",
    "\n",
    "(An anagram is a word or phrase formed by rearranging the letters of a different word or phrase, typically using all the original letters exactly once)\n",
    "\n",
    "\n",
    "Example:\n",
    "\n",
    "Input: ['eat', 'tea', 'tan', 'ate', 'nat', 'bat']\n",
    "\n",
    "Output: [['eat', 'ate', 'tea'], ['tan', 'nat'], ['bat']]"
   ]
  },
  {
   "cell_type": "code",
   "execution_count": 1,
   "id": "8ea5c111",
   "metadata": {},
   "outputs": [
    {
     "name": "stdout",
     "output_type": "stream",
     "text": [
      "[['eat', 'tea', 'ate'], ['tan', 'nat'], ['bat']]\n"
     ]
    }
   ],
   "source": [
    "def groupAnagrams(strs):\n",
    "    anagrams = {}\n",
    "    for s in strs:              # 'aet'\n",
    "        sorted_s = ''.join(sorted(s))    # abdc   # abcd\n",
    "        if sorted_s in anagrams:\n",
    "            anagrams[sorted_s].append(s)    \n",
    "        else:\n",
    "            anagrams[sorted_s] = [s]\n",
    "    return list(anagrams.values())\n",
    "\n",
    "strs = ['eat', 'tea', 'tan', 'ate', 'nat', 'bat']\n",
    "print(groupAnagrams(strs))\n"
   ]
  },
  {
   "cell_type": "markdown",
   "id": "7d2e91ad",
   "metadata": {},
   "source": [
    "This code takes in an array of strings as input, and returns a list of lists of anagrams. The outer loop iterates through each string in the input array, and for each string, a new sorted string is created by sorting the letters of the original string. This sorted string is used as the key in a dictionary, where the value is a list of all the anagrams of that string. If the sorted string already exists as a key in the dictionary, the current string is added to the list of anagrams for that key. If the sorted string does not exist as a key in the dictionary, a new key is created with the current string as the only element in the list of anagrams. Finally, the values of the dictionary are returned as a list of lists of anagrams."
   ]
  },
  {
   "cell_type": "code",
   "execution_count": null,
   "id": "d7807bff",
   "metadata": {},
   "outputs": [],
   "source": []
  }
 ],
 "metadata": {
  "kernelspec": {
   "display_name": "Python 3 (ipykernel)",
   "language": "python",
   "name": "python3"
  },
  "language_info": {
   "codemirror_mode": {
    "name": "ipython",
    "version": 3
   },
   "file_extension": ".py",
   "mimetype": "text/x-python",
   "name": "python",
   "nbconvert_exporter": "python",
   "pygments_lexer": "ipython3",
   "version": "3.9.13"
  }
 },
 "nbformat": 4,
 "nbformat_minor": 5
}
