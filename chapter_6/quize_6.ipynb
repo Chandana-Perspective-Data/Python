{
 "cells": [
  {
   "cell_type": "markdown",
   "id": "57205d1e",
   "metadata": {},
   "source": [
    "# 1.Where is linear searching used?"
   ]
  },
  {
   "cell_type": "code",
   "execution_count": 4,
   "id": "de2a6298",
   "metadata": {},
   "outputs": [
    {
     "name": "stdout",
     "output_type": "stream",
     "text": [
      "Element found at index 4\n"
     ]
    }
   ],
   "source": [
    "def linear_search(lst, x):\n",
    "    for i in range(len(lst)):\n",
    "        if lst[i] == x:\n",
    "            return i\n",
    "    return -1\n",
    "\n",
    "my_list = [1, 2, 3, 4, 5,4,1,5]\n",
    "x = 5\n",
    "result = linear_search(my_list, x)\n",
    "if result != -1:\n",
    "    print(\"Element found at index\", result)\n",
    "else:\n",
    "    print(\"Element not found in the list\")\n"
   ]
  },
  {
   "cell_type": "markdown",
   "id": "53d43486",
   "metadata": {},
   "source": [
    "Linear search is a simple and basic algorithm that is used to search for a specific element in an unordered list. It is efficient when the list has only a few elements or when performing a single search in an unordered list. However, it becomes less efficient as the size of the list increases, since it has to search through all the elements one by one. In cases where the list is large and multiple searches are required, it's better to use more efficient algorithms such as binary search."
   ]
  },
  {
   "cell_type": "code",
   "execution_count": 1,
   "id": "2b8a7d1d",
   "metadata": {},
   "outputs": [],
   "source": [
    "> a.When the list has only a few elements\n",
    "> b.When performing a single search in an unordered list\n",
    "> c.Used all the time\n",
    "> d.When the list has only a few elements and When performing a #\n",
    " single search in an unordered list."
   ]
  },
  {
   "cell_type": "markdown",
   "id": "36cebf11",
   "metadata": {},
   "source": [
    "# 2.Which of the following is not an application of binary search?"
   ]
  },
  {
   "cell_type": "markdown",
   "id": "67c46329",
   "metadata": {},
   "source": [
    "a. To find the lower/upper bound in an ordered sequence: Binary search can be used to quickly find the lower or upper bound of a specific element in an ordered sequence.\n",
    "\n",
    "c. Debugging: Binary search can also be used to debug an ordered list by narrowing down the location of an error or bug.\n",
    "\n",
    "d. To search in unordered list: Searching an unordered list using binary search is not an application of binary search as the list should be ordered. Linear search is the right option in this case.\n",
    "\n",
    "b. Union of intervals: Union of intervals is a problem of merging two or more intervals into one, it's not an application of binary search as it doesn't involve searching for a specific element in an ordered list."
   ]
  },
  {
   "cell_type": "code",
   "execution_count": 6,
   "id": "b6a18668",
   "metadata": {},
   "outputs": [
    {
     "name": "stdout",
     "output_type": "stream",
     "text": [
      "2\n"
     ]
    }
   ],
   "source": [
    "# d.Here is an example of a simple linear search algorithm implemented in Python:\n",
    "def linear_search(arr, target):\n",
    "    for i in range(len(arr)):\n",
    "        if arr[i] == target:\n",
    "            return i\n",
    "    return -1\n",
    "\n",
    "arr = [5, 7, 4, 3, 9, 1]\n",
    "target = 4\n",
    "print(linear_search(arr, target))\n",
    "# Output: 2\n"
   ]
  },
  {
   "cell_type": "code",
   "execution_count": null,
   "id": "30feed94",
   "metadata": {},
   "outputs": [],
   "source": [
    "> a.To find the lower/upper bound in an ordered sequence\n",
    "> b. Union of intervals\n",
    "> c.Debugging \n",
    "> d.To search in unordered list #\n"
   ]
  },
  {
   "cell_type": "markdown",
   "id": "8a9168c0",
   "metadata": {},
   "source": [
    "# 3.The given array is arr = {1,2,4,3}. Bubble sort is used to sort the array elements. How many iterations will be done to sort the array with improvised version?"
   ]
  },
  {
   "cell_type": "code",
   "execution_count": 7,
   "id": "0fc6ebf6",
   "metadata": {},
   "outputs": [
    {
     "name": "stdout",
     "output_type": "stream",
     "text": [
      "Sorted array:  [1, 2, 3, 4]\n"
     ]
    }
   ],
   "source": [
    "def bubble_sort(arr):\n",
    "    n = len(arr)\n",
    "    for i in range(n):\n",
    "        # flag to check if any swap was made\n",
    "        swapped = False\n",
    "        for j in range(0, n-i-1):# 0 to 4\n",
    "            # traverse the array from 0 to n-i-1\n",
    "            # compare the adjacent elements and swap them if they are in the wrong order\n",
    "            if arr[j] > arr[j+1]:\n",
    "                arr[j], arr[j+1] = arr[j+1], arr[j]\n",
    "                swapped = True\n",
    "        # if no swap was made, the array is already sorted\n",
    "        if not swapped:\n",
    "            break\n",
    "    return arr\n",
    "\n",
    "arr = [1, 2, 4, 3]\n",
    "sorted_arr = bubble_sort(arr)\n",
    "print(\"Sorted array: \", sorted_arr)\n"
   ]
  },
  {
   "cell_type": "markdown",
   "id": "78a17380",
   "metadata": {},
   "source": [
    "In the above example, the function bubble_sort() takes an array arr as input and sorts it using the bubble sort algorithm.\n",
    "It starts with an outer loop that iterates over the array for n times (n is the number of elements in the array), the inner loop iterates over the array from 0 to n-i-1, it compares the adjacent elements and swap them if they are in the wrong order.\n",
    "The outer loop keeps track of the number of iterations that have been done, this allows the inner loop to consider the elements that are already in place and do not need to be compared again.\n",
    "A flag swapped is used to check if any swap was made or not during the inner loop iteration, if no swap was made, the array is already sorted"
   ]
  },
  {
   "cell_type": "code",
   "execution_count": null,
   "id": "67b14034",
   "metadata": {},
   "outputs": [],
   "source": [
    "> a.4\n",
    "> b.2  #\n",
    "> c.1\n",
    "> d.0"
   ]
  },
  {
   "cell_type": "markdown",
   "id": "045faf61",
   "metadata": {},
   "source": [
    "# 4.Merge sort uses which of the following technique to implement sorting?"
   ]
  },
  {
   "cell_type": "code",
   "execution_count": 8,
   "id": "9372d98d",
   "metadata": {},
   "outputs": [
    {
     "name": "stdout",
     "output_type": "stream",
     "text": [
      "Sorted array is: [5, 6, 7, 11, 12, 13]\n"
     ]
    }
   ],
   "source": [
    "def merge_sort(arr):\n",
    "    if len(arr) > 1:\n",
    "        # find the middle point\n",
    "        mid = len(arr) // 2\n",
    "        # divide the array into two halves\n",
    "        L = arr[:mid]\n",
    "        R = arr[mid:]\n",
    "        # sort the two halves recursively\n",
    "        merge_sort(L)\n",
    "        merge_sort(R)\n",
    "        # merge the two sorted halves\n",
    "        i = j = k = 0\n",
    "        while i < len(L) and j < len(R):\n",
    "            if L[i] < R[j]:\n",
    "                arr[k] = L[i]\n",
    "                i += 1\n",
    "            else:\n",
    "                arr[k] = R[j]\n",
    "                j += 1\n",
    "            k += 1\n",
    "        # copy the remaining elements of L if any\n",
    "        while i < len(L):\n",
    "            arr[k] = L[i]\n",
    "            i += 1\n",
    "            k += 1\n",
    "        # copy the remaining elements of R if any\n",
    "        while j < len(R):\n",
    "            arr[k] = R[j]\n",
    "            j += 1\n",
    "            k += 1\n",
    "    return arr\n",
    "\n",
    "arr = [12, 11, 13, 5, 6, 7]\n",
    "print(\"Sorted array is:\", merge_sort(arr))\n"
   ]
  },
  {
   "cell_type": "markdown",
   "id": "8063eeed",
   "metadata": {},
   "source": [
    "In the above example, the function merge_sort() takes an array arr as input and sorts it using the merge sort algorithm. The array is divided into two halves recursively until each subarray has only one element.\n",
    "\n",
    "\n",
    "Merge sort is an efficient, general-purpose, comparison-based sorting algorithm that uses the divide and conquer technique to implement sorting.\n",
    "\n",
    "The basic idea behind the divide and conquer approach is to divide the problem into smaller subproblems and solve each subproblem independently. In the case of merge sort, the array is divided into two halves recursively until each subarray has only one element. Then, the subarrays are merged back together in a sorted order."
   ]
  },
  {
   "cell_type": "code",
   "execution_count": null,
   "id": "d3e25bc3",
   "metadata": {},
   "outputs": [],
   "source": [
    "> a.backtracking\n",
    "> b.greedy algorithm\n",
    "> c.divide and conquer #\n",
    "> d.dynamic programming"
   ]
  },
  {
   "cell_type": "markdown",
   "id": "90ea3fae",
   "metadata": {},
   "source": [
    "# 5.Dijkstra’s Algorithm is used to solve _____________ problems"
   ]
  },
  {
   "cell_type": "code",
   "execution_count": null,
   "id": "580da6a6",
   "metadata": {},
   "outputs": [],
   "source": [
    "> a. All pair shortest path\n",
    "> b. Single source shortest path  # \n",
    "> c. Network flow\n",
    "> d.Sorting"
   ]
  },
  {
   "cell_type": "markdown",
   "id": "ce37eeb1",
   "metadata": {},
   "source": [
    "# 6.Which of the following problems can’t be solved using recursion?"
   ]
  },
  {
   "cell_type": "markdown",
   "id": "719e6181",
   "metadata": {},
   "source": [
    "It is difficult to determine which problem cannot be solved using recursion without more information about the specific problem. However, certain problems are better suited to recursion than others. Recursion can be less efficient than other methods for solving problems that involve large amounts of data or require a lot of memory. Additionally, some problems may not have a natural recursive structure and may be better suited to other techniques such as iteration or dynamic programming."
   ]
  },
  {
   "cell_type": "code",
   "execution_count": null,
   "id": "6f385cfa",
   "metadata": {},
   "outputs": [],
   "source": [
    "> a. Factorial of a number\n",
    "> b. Nth fibonacci number\n",
    "> c. Length of a string\n",
    "> d.Problems without base case #"
   ]
  },
  {
   "cell_type": "markdown",
   "id": "2487821c",
   "metadata": {},
   "source": [
    "# 7.Recursion is similar to which of the following?"
   ]
  },
  {
   "cell_type": "markdown",
   "id": "66c18025",
   "metadata": {},
   "source": [
    "Recursion is similar to a loop. Both recursion and loops involve repeating a process multiple times until a certain condition is met. However, the key difference is that loops use explicit iteration (e.g. a for loop or while loop) to repeat a process, while recursion uses function calls to repeat a process. In recursion, a function calls itself, with a different set of inputs each time, until it reaches a base case where it stops calling itself. In loops, the iteration variable is modified and the loop is executed again until the condition is met."
   ]
  },
  {
   "cell_type": "code",
   "execution_count": null,
   "id": "40f905ed",
   "metadata": {},
   "outputs": [],
   "source": [
    "> a.Switch Case\n",
    "> b.Loop   #\n",
    "> c.If-else\n",
    "> d.if elif"
   ]
  },
  {
   "cell_type": "markdown",
   "id": "2c586724",
   "metadata": {},
   "source": [
    "# 8. Which of the following is/are property/properties of a dynamic programming problem?"
   ]
  },
  {
   "cell_type": "code",
   "execution_count": null,
   "id": "b112ef7b",
   "metadata": {},
   "outputs": [],
   "source": [
    "> a.Optimal substructure\n",
    "> b.Overlapping subproblems\n",
    "> c.Greedy approach\n",
    "> d. Both optimal substructure and overlapping subproblems  #"
   ]
  },
  {
   "cell_type": "markdown",
   "id": "533bfb2b",
   "metadata": {},
   "source": [
    "# 9.Which of the following is the most commonly used data structure for implementing Dijkstra’s Algorithm?"
   ]
  },
  {
   "cell_type": "code",
   "execution_count": null,
   "id": "840ddf32",
   "metadata": {},
   "outputs": [],
   "source": [
    "> a.Max priority queue\n",
    "> b.Stack\n",
    "> c.Circular queue\n",
    "> d.Min priority queue # "
   ]
  },
  {
   "cell_type": "markdown",
   "id": "40c947d7",
   "metadata": {},
   "source": [
    "# 10.Dijkstra’s Algorithm cannot be applied on ______________"
   ]
  },
  {
   "cell_type": "code",
   "execution_count": null,
   "id": "6ee5bfeb",
   "metadata": {},
   "outputs": [],
   "source": [
    "> a.Directed and weighted graphs\n",
    "> b.Graphs having negative weight function # \n",
    "> c.Unweighted graphs\n",
    "> d.Undirected and unweighted graphs"
   ]
  },
  {
   "cell_type": "markdown",
   "id": "d5554e3e",
   "metadata": {},
   "source": [
    "# 11.Which of the following methods can be used to solve the matrix chain multiplication problem?"
   ]
  },
  {
   "cell_type": "markdown",
   "id": "201072f7",
   "metadata": {},
   "source": [
    "The matrix chain multiplication problem can be solved using dynamic programming, Brute force, and Recursion.\n",
    "\n",
    "Dynamic programming method: It is a bottom-up method that solves the problem by building a solution incrementally from the simplest subproblems. It uses a table to store the solutions to subproblems and avoids redundant computation by reusing previously computed values.\n",
    "\n",
    "Brute force method: It is a top-down method that solves the problem by generating all possible ways of multiplying the matrices and comparing the cost of each one.\n",
    "\n",
    "Recursion method: It is a top-down method that solves the problem by breaking it down into smaller subproblems and solving them recursively."
   ]
  },
  {
   "cell_type": "code",
   "execution_count": null,
   "id": "8739a8aa",
   "metadata": {},
   "outputs": [],
   "source": [
    "> a.Dynamic programming\n",
    "> b.Brute force\n",
    "> c.Recursion\n",
    "> d.Dynamic Programming, Brute force, Recursion #"
   ]
  },
  {
   "cell_type": "markdown",
   "id": "72268d91",
   "metadata": {},
   "source": [
    "# 12.Which of the following sorting algorithms is the fastest?"
   ]
  },
  {
   "cell_type": "code",
   "execution_count": null,
   "id": "36264d16",
   "metadata": {},
   "outputs": [],
   "source": [
    "> a. Merge sort\n",
    "> b.Quick sort  #\n",
    "> c.Insertion sort\n",
    "> d.Shell sort"
   ]
  },
  {
   "cell_type": "markdown",
   "id": "9dd68531",
   "metadata": {},
   "source": [
    "# 13.For a binary search algorithm to work, it is necessary that the array (list) must be"
   ]
  },
  {
   "cell_type": "code",
   "execution_count": null,
   "id": "72f8b2fc",
   "metadata": {},
   "outputs": [],
   "source": [
    "> a.sorted  #\n",
    "> b.unsorted\n",
    "> c.in a heap\n",
    "> d.popped out of stack\n"
   ]
  },
  {
   "cell_type": "markdown",
   "id": "f92cc994",
   "metadata": {},
   "source": [
    "# 14.What data structure is used for depth first traversal of a graph?"
   ]
  },
  {
   "cell_type": "code",
   "execution_count": null,
   "id": "e5bdf868",
   "metadata": {},
   "outputs": [],
   "source": [
    "> a.queue\n",
    "> b. stack   #\n",
    "> c.list\n",
    "> d.none of the above"
   ]
  },
  {
   "cell_type": "markdown",
   "id": "de76f150",
   "metadata": {},
   "source": [
    "# 15.Quick sort algorithm is an example of"
   ]
  },
  {
   "cell_type": "code",
   "execution_count": null,
   "id": "889b3d40",
   "metadata": {},
   "outputs": [],
   "source": [
    "> a.Greedy approach\n",
    "> b. Improved binary search\n",
    "> c.Dynamic Programming\n",
    "> d.Divide and conquer  #"
   ]
  },
  {
   "cell_type": "markdown",
   "id": "9581127e",
   "metadata": {},
   "source": [
    "# 16.Which of the following searching techniques do not require the data to be in sorted form"
   ]
  },
  {
   "cell_type": "code",
   "execution_count": null,
   "id": "5acf2250",
   "metadata": {},
   "outputs": [],
   "source": [
    "> a.Binary Search  # \n",
    "> b.Interpolation Search  \n",
    "> c.\"Linear Search\n",
    "> d.All of the above"
   ]
  },
  {
   "cell_type": "markdown",
   "id": "5264495e",
   "metadata": {},
   "source": [
    "# 17.Queue data structure works on"
   ]
  },
  {
   "cell_type": "code",
   "execution_count": null,
   "id": "0d00ac31",
   "metadata": {},
   "outputs": [],
   "source": [
    "> a.LIFO\n",
    "> b.FIFO  #\n",
    "> c.FILO\n",
    "> d.None of the above"
   ]
  },
  {
   "cell_type": "markdown",
   "id": "6589a1b3",
   "metadata": {},
   "source": [
    "# 18.Which of the following is an example of dynamic programming approach?"
   ]
  },
  {
   "cell_type": "code",
   "execution_count": null,
   "id": "6e5ba025",
   "metadata": {},
   "outputs": [],
   "source": [
    "> a.Fibonacci Series #\n",
    "> b.Tower of Hanoi\n",
    "> c.Dijkstra Shortest Path\n",
    "> d.All of the above"
   ]
  },
  {
   "cell_type": "markdown",
   "id": "1d1195d0",
   "metadata": {},
   "source": [
    "# 19.Which of the following algorithm is not stable?"
   ]
  },
  {
   "cell_type": "code",
   "execution_count": null,
   "id": "89ce0e4d",
   "metadata": {},
   "outputs": [],
   "source": [
    "> a.Bubble Sort\n",
    "> b.Quick Sort   #\n",
    "> c.\"Merge Sort\n",
    "> d.Insertion Sort"
   ]
  },
  {
   "cell_type": "markdown",
   "id": "62f5c6b1",
   "metadata": {},
   "source": [
    "# 20.Which of the following has search effeciency of Ο(1) −"
   ]
  },
  {
   "cell_type": "markdown",
   "id": "97829804",
   "metadata": {},
   "source": [
    "The data structure that has a search efficiency of O(1) is a hash table."
   ]
  },
  {
   "cell_type": "code",
   "execution_count": null,
   "id": "5a9d53da",
   "metadata": {},
   "outputs": [],
   "source": [
    "> a.Tree\n",
    "> b.heap\n",
    "> c.hash table #\n",
    "> d.Linked-List"
   ]
  },
  {
   "cell_type": "markdown",
   "id": "216ad491",
   "metadata": {},
   "source": [
    "# 21.The following sorting algorithms maintain two sub-lists, one sorted and one to be sorted −"
   ]
  },
  {
   "cell_type": "markdown",
   "id": "fe22f2de",
   "metadata": {},
   "source": [
    "The sorting algorithm that maintains two sub-lists, one sorted and one to be sorted, is Insertion Sort.\n",
    "\n",
    "Insertion sort is a simple sorting algorithm that builds the final sorted list one item at a time by repeatedly taking an unsorted item and inserting it into its proper position in the sorted sub-list."
   ]
  },
  {
   "cell_type": "code",
   "execution_count": null,
   "id": "88317abf",
   "metadata": {},
   "outputs": [],
   "source": [
    "> a.Selection Sort\n",
    "> b.Insertion Sort   #\n",
    "> c.Merge Sort\n",
    "> d.both A &am; B"
   ]
  },
  {
   "cell_type": "markdown",
   "id": "c4e6e96e",
   "metadata": {},
   "source": [
    "# 22.Which of the following algorithm does not divide the list −"
   ]
  },
  {
   "cell_type": "code",
   "execution_count": null,
   "id": "b8622627",
   "metadata": {},
   "outputs": [],
   "source": [
    "> a.linear search\n",
    "> b.binary search\n",
    "> c.merge sort\n",
    "> d.quick sort #"
   ]
  },
  {
   "cell_type": "markdown",
   "id": "73aedbcc",
   "metadata": {},
   "source": [
    "# 23. In a min-heap:"
   ]
  },
  {
   "cell_type": "code",
   "execution_count": null,
   "id": "2d08e357",
   "metadata": {},
   "outputs": [],
   "source": [
    "> a.\"parent nodes have values greater than or equal to their childs   # \n",
    "> b.parent nodes have values less than or equal to their childs\n",
    "> c.both statements are true\n",
    "> d.both statements are wrong"
   ]
  },
  {
   "cell_type": "markdown",
   "id": "c024d161",
   "metadata": {},
   "source": [
    "# 24.What will be the running-time of Dijkstra's single source shortest path algorithm, if the graph G(V,E) is stored in form of adjacency list and binary heap is used −"
   ]
  },
  {
   "cell_type": "code",
   "execution_count": null,
   "id": "43578a5f",
   "metadata": {},
   "outputs": [],
   "source": [
    "> a.Ο(|V|2)\n",
    "> b.\"Ο(|V| log |V|)\n",
    "> c.Ο(|E|+|V| log |V|)  #\n",
    "> d.\"None of these\n"
   ]
  },
  {
   "cell_type": "markdown",
   "id": "27573a24",
   "metadata": {},
   "source": [
    "# 25.Which of the following notiations represents worst case scenario ?"
   ]
  },
  {
   "cell_type": "markdown",
   "id": "7e36c5d6",
   "metadata": {},
   "source": [
    "The notation that represents the worst-case scenario is \"O\" (big O) notation.\n",
    "\n",
    "Big O notation is used to express the upper bound on the time or space complexity of an algorithm, specifically the worst-case scenario. It describes the complexity of an algorithm in terms of the number of operations it takes as the input size grows towards infinity. For example, an algorithm with a time complexity of O(n^2) means that the number of operations the algorithm takes is at most proportional to the square of the size of the input."
   ]
  },
  {
   "cell_type": "code",
   "execution_count": null,
   "id": "7e8773c9",
   "metadata": {},
   "outputs": [],
   "source": [
    "> a.O(n)  #\n",
    "> b.Ω(n)\n",
    "> c.θ(n)\n",
    "> d.o(n)"
   ]
  },
  {
   "cell_type": "markdown",
   "id": "b579b78a",
   "metadata": {},
   "source": [
    "# 26.What is the analysis which is performed before implementing an algorithm?"
   ]
  },
  {
   "cell_type": "markdown",
   "id": "e2c95328",
   "metadata": {},
   "source": [
    "A Priori Analysis consists of the Time and Space Complexity analysis which helps to determine how well an algorithm will perform and how much memory it will require as the input size increases. It's important to perform this analysis before implementing an algorithm, as it can help to decide whether the algorithm is appropriate for the problem, given the constraints of time and space.\n",
    "\n",
    "A Posterior Analysis, Feasability Analysis and Requirement Analysis are also important steps in the software development process but they are performed after implementing the algorithm and they have different goals.\n",
    "\n",
    "A Posterior Analysis is the analysis that is performed after the algorithm has been implemented, it is a process of determining the actual performance of an algorithm based on its execution.\n",
    "\n",
    "Feasability Analysis is a study of the feasibility of a proposed project, idea or solution, it helps to determine whether the proposed solution can be implemented successfully or not.\n",
    "\n",
    "Requirement Analysis is the process of gathering, analyzing and specifying the requirements of the system, it helps to understand what the system should do, and what problem it should solve."
   ]
  },
  {
   "cell_type": "code",
   "execution_count": null,
   "id": "17cf7219",
   "metadata": {},
   "outputs": [],
   "source": [
    "> a.A Posterior Analysis\n",
    "> b.A Priori Analysis   #\n",
    "> c.Feasability Analysis\n",
    "> d.Requirement Analysis"
   ]
  },
  {
   "cell_type": "markdown",
   "id": "713e7caf",
   "metadata": {},
   "source": [
    "# 27.An Algorithm should be........................"
   ]
  },
  {
   "cell_type": "markdown",
   "id": "c9a6a884",
   "metadata": {},
   "source": [
    "\n",
    "\n",
    "An algorithm should be unambiguous, finite, and feasible.\n",
    "\n",
    "Unambiguous means that the algorithm should be well defined and clear, so that it is easy to understand and implement. An unambiguous algorithm should not leave any room for interpretation and should have a clear set of instructions.\n",
    "\n",
    "Finite means that the algorithm should have a definite stopping point and should not go on indefinitely. The algorithm should be well-defined so that it terminates after a finite number of steps.\n",
    "\n",
    "Feasible means that the algorithm should be able to be implemented in practice, given the available resources such as time and space. The algorithm should be efficient enough to solve the problem and should not be impractical to implement.\n",
    "\n",
    "Together, these properties ensure that an algorithm is well-defined, clear, and able to be implemented and executed in a finite amount of time with the available resources.\n",
    "\n",
    "\n",
    "\n"
   ]
  },
  {
   "cell_type": "code",
   "execution_count": null,
   "id": "101635eb",
   "metadata": {},
   "outputs": [],
   "source": [
    "> a.unambigious\n",
    "> b.finite\n",
    "> c.feasable\n",
    "> d.all of the above  #"
   ]
  },
  {
   "cell_type": "markdown",
   "id": "3142d218",
   "metadata": {},
   "source": [
    "# 28.What is the maximum number of child nodes can a binary tree have?"
   ]
  },
  {
   "cell_type": "markdown",
   "id": "0b21bd4d",
   "metadata": {},
   "source": [
    "A binary tree is a tree data structure where each node can have at most 2 child nodes. This is the defining characteristic of a binary tree. Each child node is referred to as the left child and the right child."
   ]
  },
  {
   "cell_type": "code",
   "execution_count": null,
   "id": "2c100a73",
   "metadata": {},
   "outputs": [],
   "source": [
    "> a.1\n",
    "> b.2 # \n",
    "> c.3\n",
    "> d.4"
   ]
  },
  {
   "cell_type": "markdown",
   "id": "2afd14c6",
   "metadata": {},
   "source": [
    "# 29.Visiting each node in a binary tree is called as........................"
   ]
  },
  {
   "cell_type": "markdown",
   "id": "9de1e575",
   "metadata": {},
   "source": [
    "Visiting each node in a binary tree is called traversing. Traversing a binary tree means visiting each node in the tree exactly once in a specific order. There are three main ways to traverse a binary tree: in-order, pre-order, and post-order.\n",
    "\n",
    "In-order traversal visits the left subtree, then the current node, and then the right subtree.\n",
    "Pre-order traversal visits the current node, then the left subtree, and then the right subtree.\n",
    "Post-order traversal visits the left subtree, then the right subtree and then the current node."
   ]
  },
  {
   "cell_type": "code",
   "execution_count": null,
   "id": "01467bf6",
   "metadata": {},
   "outputs": [],
   "source": [
    "> a.Travelling\n",
    "> b.Checking\n",
    "> c.Traversing # \n",
    "> d.Searching"
   ]
  },
  {
   "cell_type": "markdown",
   "id": "9d04941f",
   "metadata": {},
   "source": [
    "# 30.What is the name of the node with no children?"
   ]
  },
  {
   "cell_type": "markdown",
   "id": "cb98c0ce",
   "metadata": {},
   "source": [
    "A leaf node, also known as a terminal node, is a node in a tree data structure that has no children. It is a node that does not have any further branches. Leaf nodes are located at the end of the branches of a tree, and by definition, they do not have any children. They are the last node in a path from the root to a leaf."
   ]
  },
  {
   "cell_type": "code",
   "execution_count": null,
   "id": "1a2fb1c3",
   "metadata": {},
   "outputs": [],
   "source": [
    "> a.root node\n",
    "> b.parent node\n",
    "> c.child node\n",
    "> d.leaf node  #"
   ]
  },
  {
   "cell_type": "markdown",
   "id": "b6d00de0",
   "metadata": {},
   "source": [
    "# 31.Which approach examines the previously sub problems to solve in hand sub problems?"
   ]
  },
  {
   "cell_type": "markdown",
   "id": "0e7ccbba",
   "metadata": {},
   "source": [
    "Dynamic programming is an approach that examines previously solved sub-problems to solve the current sub-problem. It is a method for solving problems by breaking them down into smaller sub-problems and solving them in a bottom-up manner. The key idea behind dynamic programming is to store the solutions to sub-problems in a table so that they can be used to find the solution to larger sub-problems and ultimately the original problem."
   ]
  },
  {
   "cell_type": "code",
   "execution_count": null,
   "id": "361e50ef",
   "metadata": {},
   "outputs": [],
   "source": [
    "> a.Greedy Approach\n",
    "> b.Dynamic Programming     #\n",
    "> c.Divide Conquer Approach\n",
    "> d.None"
   ]
  },
  {
   "cell_type": "markdown",
   "id": "220baae1",
   "metadata": {},
   "source": [
    "# 32.Which of the following sorting algorithms follows divide and conquer approach?"
   ]
  },
  {
   "cell_type": "code",
   "execution_count": null,
   "id": "b45dfccb",
   "metadata": {},
   "outputs": [],
   "source": [
    "> a. Bubble sort\n",
    "> b.Insertion Sort\n",
    "> c.Merge sort   #\n",
    "> d.selection Sort"
   ]
  },
  {
   "cell_type": "markdown",
   "id": "4edd3f6f",
   "metadata": {},
   "source": [
    "# 33.Prim's algorithm is an example of which approach?"
   ]
  },
  {
   "cell_type": "markdown",
   "id": "f62f5330",
   "metadata": {},
   "source": [
    "Prim's algorithm is an example of a greedy algorithm. It is a method for finding the minimum spanning tree in a weighted graph. The basic idea behind Prim's algorithm is to start with an arbitrary vertex, add the lowest-weight edge that connects the current tree to a vertex not yet in the tree, and repeat this process until all the vertices are in the tree.\n",
    "\n",
    "The algorithm makes a locally optimal choice at each step, without worrying about the consequences of this choice on future steps, with the hope of finding a globally optimal solution. The algorithm starts with an arbitrary vertex, and at each step, it selects the edge with the lowest weight that connects the current tree to a vertex not yet in the tree. By repeatedly making this locally optimal choice, the algorithm eventually finds the minimum spanning tree of the graph.\n",
    "\n",
    "On the other hand, dynamic programming is an approach that examines previously solved sub-problems to solve the current sub-problem. Divide and conquer is a method for solving problems by breaking them down into smaller sub-problems, solving each sub-problem independently, and then combining the solutions to the sub-problems to obtain a solution to the original problem."
   ]
  },
  {
   "cell_type": "code",
   "execution_count": null,
   "id": "aab6c0b7",
   "metadata": {},
   "outputs": [],
   "source": [
    "> a.Dynamic Programming\n",
    "> b.Greedy Approach   #\n",
    "> c.Divide Conquer Approach\n",
    "> d.None"
   ]
  },
  {
   "cell_type": "markdown",
   "id": "08d1afa1",
   "metadata": {},
   "source": [
    "# 34.Name the two lists used in Dijkstra's algorithm."
   ]
  },
  {
   "cell_type": "markdown",
   "id": "bfa8230f",
   "metadata": {},
   "source": [
    "Dijkstra's algorithm is a shortest path algorithm that is used to find the shortest path between two nodes in a graph. It uses two lists, the tentative list and the permanent list, to keep track of the nodes that have been visited and the nodes that have not been visited yet.\n",
    "\n",
    "The tentative list contains all the nodes that have not been visited yet, and the permanent list contains all the nodes that have been visited. The algorithm starts with the source node and adds it to the permanent list. It then selects the node with the lowest distance in the tentative list and adds it to the permanent list. The algorithm then updates the tentative distances of the neighboring nodes of the current node and repeats this process until all the nodes have been visited."
   ]
  },
  {
   "cell_type": "code",
   "execution_count": null,
   "id": "c0d1fa09",
   "metadata": {},
   "outputs": [],
   "source": [
    "> a.Tentative List, Permanent List   #\n",
    "> b.Selected List, Not Selected List\n",
    "> c.Initial List, Final List\n",
    "> d.None"
   ]
  },
  {
   "cell_type": "markdown",
   "id": "85131cb2",
   "metadata": {},
   "source": [
    "# 35.Which rule is correct for Minimum Spanning Tree?"
   ]
  },
  {
   "cell_type": "markdown",
   "id": "a8cf9d72",
   "metadata": {},
   "source": [
    "A minimum spanning tree is a subgraph of an undirected, weighted graph that connects all the vertices together, without any cycles and with the minimum possible total edge weight.\n",
    "\n",
    "The rule that is correct for a Minimum Spanning Tree is that it cannot have loops. A loop is a path that starts and ends at the same vertex and it creates a cycle in a graph. In other words, a tree is a connected graph without any cycles, so by definition it cannot have loops."
   ]
  },
  {
   "cell_type": "code",
   "execution_count": null,
   "id": "5b9828d4",
   "metadata": {},
   "outputs": [],
   "source": [
    "> a.A Tree cannot have loops   #\n",
    "> b.A Tree should be balanced\n",
    "> c.A Tree should have parallel edges\n",
    "> d.None"
   ]
  },
  {
   "cell_type": "markdown",
   "id": "f92a941d",
   "metadata": {},
   "source": [
    "# 36.What are the column names of a Hash Table?"
   ]
  },
  {
   "cell_type": "markdown",
   "id": "d26552b4",
   "metadata": {},
   "source": [
    "A Hash Table is a data structure that stores a collection of key-value pairs, and it uses a hash function to map each key to an index in an array called a bucket.\n",
    "\n",
    "The column names of a Hash Table are key and value. The key is used to identify the specific entry in the Hash Table, and the value is the data associated with that key. The key is passed through the hash function to determine its index in the bucket array and the value is stored at that index.\n",
    "\n"
   ]
  },
  {
   "cell_type": "code",
   "execution_count": null,
   "id": "4ac99bc8",
   "metadata": {},
   "outputs": [],
   "source": [
    "> a.Key, value   #\n",
    "> b.Index, Value\n",
    "> c.Index, Key\n",
    "> d.Key, Index"
   ]
  },
  {
   "cell_type": "code",
   "execution_count": null,
   "id": "44d843e7",
   "metadata": {},
   "outputs": [],
   "source": []
  }
 ],
 "metadata": {
  "kernelspec": {
   "display_name": "Python 3 (ipykernel)",
   "language": "python",
   "name": "python3"
  },
  "language_info": {
   "codemirror_mode": {
    "name": "ipython",
    "version": 3
   },
   "file_extension": ".py",
   "mimetype": "text/x-python",
   "name": "python",
   "nbconvert_exporter": "python",
   "pygments_lexer": "ipython3",
   "version": "3.9.13"
  }
 },
 "nbformat": 4,
 "nbformat_minor": 5
}
