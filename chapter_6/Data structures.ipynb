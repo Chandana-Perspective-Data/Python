{
 "cells": [
  {
   "cell_type": "markdown",
   "id": "fba708ff",
   "metadata": {},
   "source": [
    "Data structures are ways of organizing and storing data in a computer so that it can be accessed and modified efficiently. Some common data structures include:\n",
    "\n",
    "1..Arrays: a collection of elements stored in contiguous memory locations. They have a fixed size and elements can be accessed by their index.\n",
    "\n",
    "\n",
    "2..Linked Lists: a collection of elements called nodes, where each node contains a reference to the next node in the list. They can be used to implement dynamic arrays and can be more efficient than arrays for certain operations.\n",
    "\n",
    "3..Stack: a last-in, first-out (LIFO) data structure. It can be used to implement undo/redo functionality, for example.\n",
    "\n",
    "4..Queue: a first-in, first-out (FIFO) data structure. It can be used to implement message queues or task schedulers, for example.\n",
    "\n",
    "5..Tree: a hierarchical data structure where each node has zero or more child nodes. There are many types of trees, such as binary trees, AVL trees, and B-trees.\n",
    "\n",
    "6..Graph: a collection of vertices (nodes) and edges (connections between nodes). They can be used to model networks, for example.\n",
    "Each data structure has its own strengths and weaknesses and the choice of data structure depends on the specific problem you're trying to solve.\n",
    "\n",
    "\n",
    "\n",
    "\n",
    "\n",
    "\n"
   ]
  },
  {
   "cell_type": "markdown",
   "id": "c8475cca",
   "metadata": {},
   "source": [
    "# 1.Array\n",
    "Arrays: a collection of elements stored in contiguous memory locations. They have a fixed size and elements can be accessed by their index."
   ]
  },
  {
   "cell_type": "code",
   "execution_count": 11,
   "id": "4e37d463",
   "metadata": {},
   "outputs": [
    {
     "name": "stdout",
     "output_type": "stream",
     "text": [
      "3\n",
      "1\n",
      "2\n",
      "3\n",
      "4\n",
      "5\n",
      "[1, 2, 6, 4, 5]\n",
      "[1, 2, 6, 4, 5, 7]\n",
      "[1, 2, 4, 5, 7]\n"
     ]
    }
   ],
   "source": [
    "# Here is an example of creating and manipulating an array in Python:\n",
    "# Create an array of integers\n",
    "my_array = [1, 2, 3, 4, 5]\n",
    "\n",
    "# Access an element by its index\n",
    "print(my_array[2]) # Output: 3\n",
    "\n",
    "# Iterate over the array\n",
    "for element in my_array:\n",
    "    print(element)\n",
    "# Output: 1 2 3 4 5\n",
    "\n",
    "# Modify an element by its index\n",
    "my_array[2] = 6\n",
    "print(my_array) # Output: [1, 2, 6, 4, 5]\n",
    "\n",
    "# Add an element to the end of the array\n",
    "my_array.append(7)\n",
    "print(my_array) # Output: [1, 2, 6, 4, 5, 7]\n",
    "\n",
    "# Remove an element from the array\n",
    "del my_array[2]\n",
    "print(my_array) # Output: [1, 2, 4, 5, 7]\n"
   ]
  },
  {
   "cell_type": "markdown",
   "id": "40a8343d",
   "metadata": {},
   "source": [
    "It is worth noting that in Python, arrays are implemented as lists.\n",
    "You can also use array library that is more efficient than lists in terms of performance when dealing with numerical computations."
   ]
  },
  {
   "cell_type": "code",
   "execution_count": 13,
   "id": "69b8f88f",
   "metadata": {},
   "outputs": [
    {
     "name": "stdout",
     "output_type": "stream",
     "text": [
      "array('i', [1, 2, 3, 4, 5])\n"
     ]
    }
   ],
   "source": [
    "from array import array\n",
    "my_array = array(\"i\", [1, 2, 3, 4, 5])\n",
    "print(my_array)"
   ]
  },
  {
   "cell_type": "markdown",
   "id": "f075b79b",
   "metadata": {},
   "source": [
    "In this example, \"i\" is the typecode for integers, which means the array will only store integers."
   ]
  },
  {
   "cell_type": "markdown",
   "id": "728c6f49",
   "metadata": {},
   "source": [
    "# 2.Linked Lists: \n",
    "a collection of elements called nodes, where each node contains a reference to the next node in the list. They can be used to implement dynamic arrays and can be more efficient than arrays for certain operations."
   ]
  },
  {
   "cell_type": "code",
   "execution_count": 14,
   "id": "ae5cb824",
   "metadata": {},
   "outputs": [
    {
     "name": "stdout",
     "output_type": "stream",
     "text": [
      "1\n",
      "2\n",
      "3\n",
      "4\n"
     ]
    }
   ],
   "source": [
    "class Node:\n",
    "    def __init__(self, data):\n",
    "        self.data = data\n",
    "        self.next = None\n",
    "\n",
    "class LinkedList:\n",
    "    def __init__(self):\n",
    "        self.head = None\n",
    "\n",
    "    def append(self, data):\n",
    "        new_node = Node(data)\n",
    "        if self.head is None:\n",
    "            self.head = new_node\n",
    "        else:\n",
    "            current = self.head\n",
    "            while current.next:\n",
    "                current = current.next\n",
    "            current.next = new_node\n",
    "    \n",
    "    def print_list(self):\n",
    "        current = self.head\n",
    "        while current:\n",
    "            print(current.data)\n",
    "            current = current.next\n",
    "\n",
    "# create a linked list and append some elements\n",
    "linked_list = LinkedList()\n",
    "linked_list.append(1)\n",
    "linked_list.append(2)\n",
    "linked_list.append(3)\n",
    "linked_list.append(4)\n",
    "\n",
    "# print the list\n",
    "linked_list.print_list()\n",
    "# Output:\n",
    "# 1\n",
    "# 2\n",
    "# 3\n",
    "# 4\n"
   ]
  },
  {
   "cell_type": "markdown",
   "id": "4f4c4cb5",
   "metadata": {},
   "source": [
    "This example shows how to create a singly linked list, append elements and print the list. In this example the linked list has only one method append that allows you to add new node to the list and the print_list method that allows you to print the elements of the list.\n",
    "You can also add more methods like prepend and delete_with_value to make the linked list more functional."
   ]
  },
  {
   "cell_type": "code",
   "execution_count": 15,
   "id": "7eb1be62",
   "metadata": {},
   "outputs": [
    {
     "name": "stdout",
     "output_type": "stream",
     "text": [
      "4\n",
      "3\n",
      "False\n",
      "3\n"
     ]
    }
   ],
   "source": [
    "class Stack:\n",
    "    def __init__(self):\n",
    "        self.items = []\n",
    "\n",
    "    def push(self, item):\n",
    "        self.items.append(item)\n",
    "\n",
    "    def pop(self):\n",
    "        if not self.is_empty():\n",
    "            return self.items.pop()\n",
    "\n",
    "    def peek(self):\n",
    "        if not self.is_empty():\n",
    "            return self.items[-1]\n",
    "\n",
    "    def is_empty(self):\n",
    "        return len(self.items) == 0\n",
    "\n",
    "    def size(self):\n",
    "        return len(self.items)\n",
    "\n",
    "# create a stack and push some elements\n",
    "stack = Stack()\n",
    "stack.push(1)\n",
    "stack.push(2)\n",
    "stack.push(3)\n",
    "stack.push(4)\n",
    "\n",
    "# pop an element\n",
    "print(stack.pop()) # Output: 4\n",
    "\n",
    "# peek the top element\n",
    "print(stack.peek()) # Output: 3\n",
    "\n",
    "# check if the stack is empty\n",
    "print(stack.is_empty()) # Output: False\n",
    "\n",
    "# check the size of the stack\n",
    "print(stack.size()) # Output: 3\n"
   ]
  },
  {
   "cell_type": "markdown",
   "id": "460df103",
   "metadata": {},
   "source": [
    "This example shows how to create a stack and perform common operations such as pushing elements onto the stack, popping elements off the stack, peeking at the top element, checking if the stack is empty, and checking the size of the stack.\n",
    "\n",
    "Stacks are commonly used in computer science, particularly in the implementation of algorithms such as depth-first search and topological sorting, as well as the implementation of undo/redo functionality, as you've mentioned."
   ]
  },
  {
   "cell_type": "markdown",
   "id": "5f73a35c",
   "metadata": {},
   "source": [
    "# 4 Queue:\n",
    "a first-in, first-out (FIFO) data structure. It can be used to implement message queues or task schedulers, for example.\n",
    "\n",
    "Yes, a queue is a First In First Out (FIFO) data structure, which means that the first element added to the queue will be the first one to be removed. Here is an example of how to implement a queue in Python using a list:"
   ]
  },
  {
   "cell_type": "code",
   "execution_count": 17,
   "id": "c2e85301",
   "metadata": {},
   "outputs": [
    {
     "name": "stdout",
     "output_type": "stream",
     "text": [
      "1\n",
      "2\n",
      "False\n",
      "3\n"
     ]
    }
   ],
   "source": [
    "class Queue:\n",
    "    def __init__(self):\n",
    "        self.items = []\n",
    "\n",
    "    def enqueue(self, item):\n",
    "        self.items.append(item)\n",
    "\n",
    "    def dequeue(self):\n",
    "        if not self.is_empty():\n",
    "            return self.items.pop(0)\n",
    "\n",
    "    def peek(self):\n",
    "        if not self.is_empty():\n",
    "            return self.items[0]\n",
    "\n",
    "    def is_empty(self):\n",
    "        return len(self.items) == 0\n",
    "\n",
    "    def size(self):\n",
    "        return len(self.items)\n",
    "\n",
    "# create a queue and enqueue some elements\n",
    "queue = Queue()\n",
    "queue.enqueue(1)\n",
    "queue.enqueue(2)\n",
    "queue.enqueue(3)\n",
    "queue.enqueue(4)\n",
    "\n",
    "# dequeue an element\n",
    "print(queue.dequeue()) # Output: 1\n",
    "\n",
    "# peek the first element\n",
    "print(queue.peek()) # Output: 2\n",
    "\n",
    "# check if the queue is empty\n",
    "print(queue.is_empty()) # Output: False\n",
    "\n",
    "# check the size of the queue\n",
    "print(queue.size()) # Output: 3\n",
    "\n",
    "\n",
    "\n",
    "# This example shows how to create a queue and perform common\n",
    "#operations such as enqueuing elements into the queue,"
   ]
  },
  {
   "cell_type": "markdown",
   "id": "2863eaaa",
   "metadata": {},
   "source": [
    "# 5.Tree: \n",
    "a hierarchical data structure where each node has zero or more child nodes. There are many types of trees, such as binary trees, AVL trees, and B-trees."
   ]
  },
  {
   "cell_type": "markdown",
   "id": "3ff6b13f",
   "metadata": {},
   "source": [
    "Yes, a tree is a hierarchical data structure where each node (also called a vertex) can have zero or more child nodes. The topmost node in a tree is called the root, and the nodes without any children are called leaf nodes.\n",
    "\n",
    "Here is an example of how to implement a basic tree in Python:"
   ]
  },
  {
   "cell_type": "code",
   "execution_count": 19,
   "id": "b446c86d",
   "metadata": {},
   "outputs": [],
   "source": [
    "class TreeNode:\n",
    "    def __init__(self, data):\n",
    "        self.data = data\n",
    "        self.children = []\n",
    "\n",
    "class Tree:\n",
    "    def __init__(self):\n",
    "        self.root = None\n",
    "\n",
    "# create a tree and add some nodes\n",
    "tree = Tree()\n",
    "tree.root = TreeNode(1)\n",
    "tree.root.children.append(TreeNode(2))\n",
    "tree.root.children.append(TreeNode(3))\n",
    "tree.root.children[0].children.append(TreeNode(4))\n",
    "tree.root.children[0].children.append(TreeNode(5))\n"
   ]
  },
  {
   "cell_type": "code",
   "execution_count": null,
   "id": "ed57c28d",
   "metadata": {},
   "outputs": [],
   "source": []
  }
 ],
 "metadata": {
  "kernelspec": {
   "display_name": "Python 3 (ipykernel)",
   "language": "python",
   "name": "python3"
  },
  "language_info": {
   "codemirror_mode": {
    "name": "ipython",
    "version": 3
   },
   "file_extension": ".py",
   "mimetype": "text/x-python",
   "name": "python",
   "nbconvert_exporter": "python",
   "pygments_lexer": "ipython3",
   "version": "3.9.13"
  }
 },
 "nbformat": 4,
 "nbformat_minor": 5
}
