{
 "cells": [
  {
   "cell_type": "markdown",
   "id": "b1363503",
   "metadata": {},
   "source": [
    "# 12.B.1: ASSIGNMENT\n",
    "\n",
    "PROBLEM STATEMENT\n",
    "\n",
    "\n",
    "\n",
    "Write REST APIs using DRF for managing music records.\n",
    "We should be able to add/read/update/delete: (read, update and delete using id)\n",
    "\n",
    "An artist (id, name, dob, genre)\n",
    "\n",
    "A genre (id, name)\n",
    "\n",
    "A track (id, name, artist, duration(in minutes), year of release)\n",
    "\n",
    "\n",
    "We should also be able to get:\n",
    "\n",
    "A list of all tracks from an artist\n",
    "\n",
    "A list of all artists\n",
    "\n",
    "A list of all tracks"
   ]
  },
  {
   "cell_type": "markdown",
   "id": "97794f4b",
   "metadata": {},
   "source": [
    "### First, you'll need to install Django and DRF. You can do this by running the following commands in your terminal:"
   ]
  },
  {
   "cell_type": "code",
   "execution_count": null,
   "id": "c3f7f569",
   "metadata": {},
   "outputs": [],
   "source": [
    "pip install django\n",
    "pip install djangorestframework\n"
   ]
  },
  {
   "cell_type": "markdown",
   "id": "825e1265",
   "metadata": {},
   "source": [
    "### Once you have installed these libraries, you can create a new Django project by running the following command:"
   ]
  },
  {
   "cell_type": "code",
   "execution_count": null,
   "id": "7fdb3989",
   "metadata": {},
   "outputs": [],
   "source": [
    "django-admin startproject music_records\n"
   ]
  },
  {
   "cell_type": "markdown",
   "id": "3a5b68ab",
   "metadata": {},
   "source": [
    "### Then, create a new app called music by running the following command:"
   ]
  },
  {
   "cell_type": "code",
   "execution_count": null,
   "id": "7d6dc26c",
   "metadata": {},
   "outputs": [],
   "source": [
    "cd music_records\n",
    "python manage.py startapp music\n"
   ]
  },
  {
   "cell_type": "markdown",
   "id": "f9dd23b1",
   "metadata": {},
   "source": [
    "### Now, let's define our models in the models.py file of the music app:"
   ]
  },
  {
   "cell_type": "code",
   "execution_count": null,
   "id": "11c2f8f7",
   "metadata": {},
   "outputs": [],
   "source": [
    "from django.db import models\n",
    "\n",
    "class Genre(models.Model):\n",
    "    name = models.CharField(max_length=50)\n",
    "\n",
    "class Artist(models.Model):\n",
    "    name = models.CharField(max_length=50)\n",
    "    dob = models.DateField()\n",
    "    genre = models.ForeignKey(Genre, on_delete=models.CASCADE)\n",
    "\n",
    "class Track(models.Model):\n",
    "    name = models.CharField(max_length=50)\n",
    "    artist = models.ForeignKey(Artist, on_delete=models.CASCADE)\n",
    "    duration = models.IntegerField()\n",
    "    year = models.IntegerField()\n"
   ]
  },
  {
   "cell_type": "markdown",
   "id": "2c4d9caf",
   "metadata": {},
   "source": [
    "### Next, we need to create serializers to convert our models to JSON format. Create a new file called serializers.py in the music app:"
   ]
  },
  {
   "cell_type": "code",
   "execution_count": null,
   "id": "05fa4b0f",
   "metadata": {},
   "outputs": [],
   "source": [
    "from rest_framework import serializers\n",
    "from .models import Genre, Artist, Track\n",
    "\n",
    "class GenreSerializer(serializers.ModelSerializer):\n",
    "    class Meta:\n",
    "        model = Genre\n",
    "        fields = '__all__'\n",
    "\n",
    "class ArtistSerializer(serializers.ModelSerializer):\n",
    "    class Meta:\n",
    "        model = Artist\n",
    "        fields = '__all__'\n",
    "\n",
    "class TrackSerializer(serializers.ModelSerializer):\n",
    "    class Meta:\n",
    "        model = Track\n",
    "        fields = '__all__'\n"
   ]
  },
  {
   "cell_type": "markdown",
   "id": "4b2d952a",
   "metadata": {},
   "source": [
    "### Now, let's create the views to handle our API requests. Create a new file called views.py in the music app:"
   ]
  },
  {
   "cell_type": "code",
   "execution_count": null,
   "id": "db287489",
   "metadata": {},
   "outputs": [],
   "source": [
    "from rest_framework import generics\n",
    "from .models import Genre, Artist, Track\n",
    "from .serializers import GenreSerializer, ArtistSerializer, TrackSerializer\n",
    "\n",
    "class GenreListCreateView(generics.ListCreateAPIView):\n",
    "    queryset = Genre.objects.all()\n",
    "    serializer_class = GenreSerializer\n",
    "\n",
    "class GenreRetrieveUpdateDestroyView(generics.RetrieveUpdateDestroyAPIView):\n",
    "    queryset = Genre.objects.all()\n",
    "    serializer_class = GenreSerializer\n",
    "\n",
    "class ArtistListCreateView(generics.ListCreateAPIView):\n",
    "    queryset = Artist.objects.all()\n",
    "    serializer_class = ArtistSerializer\n",
    "\n",
    "class ArtistRetrieveUpdateDestroyView(generics.RetrieveUpdateDestroyAPIView):\n",
    "    queryset = Artist.objects.all()\n",
    "    serializer_class = ArtistSerializer\n",
    "\n",
    "class TrackListCreateView(generics.ListCreateAPIView):\n",
    "    queryset = Track.objects.all()\n",
    "    serializer_class = TrackSerializer\n",
    "\n",
    "class TrackRetrieveUpdateDestroyView(generics.RetrieveUpdateDestroyAPIView):\n",
    "    queryset = Track.objects.all()\n",
    "    serializer_class = TrackSerializer\n",
    "\n",
    "class TrackListByArtistView(generics.ListAPIView):\n",
    "    serializer_class = TrackSerializer\n",
    "\n",
    "    def get_queryset(self):\n",
    "        artist_id = self.kwargs['artist_id']\n",
    "        return Track.objects.filter(artist__id=artist_id)\n",
    "\n",
    "class ArtistListView(generics.ListAPIView):\n",
    "    queryset = Artist.objects.all()\n",
    "    serializer_class = ArtistSerializer\n",
    "\n",
    "class TrackListView(generics.ListAPIView):\n",
    "    queryset = Track.objects.all()\n",
    "    serializer_class = TrackSerializer\n"
   ]
  },
  {
   "cell_type": "markdown",
   "id": "98af0a04",
   "metadata": {},
   "source": [
    "### Finally, let's define the URLs for our API. Create a new file called urls.py in the music app:"
   ]
  },
  {
   "cell_type": "code",
   "execution_count": null,
   "id": "d0b4b8b9",
   "metadata": {},
   "outputs": [],
   "source": [
    "from django.urls import path\n",
    "from .views import GenreListCreateView, GenreRetrieveUpdateDestroyView, \\\n",
    "    ArtistListCreateView, ArtistRetrieveUpdateDestroyView, \\\n",
    "    TrackListCreateView, TrackRetrieve\n"
   ]
  },
  {
   "cell_type": "markdown",
   "id": "c4ad38c1",
   "metadata": {},
   "source": [
    "# 12.B.2: ASSIGNMENT\n",
    "\n",
    "PROBLEM STATEMENT\n",
    "\n",
    "\n",
    "\n",
    "Create a student record management system with APIs for:\n",
    "\n",
    "\n",
    "- Adding a new student (with name, address, grade)\n",
    "\n",
    "- Adding test records for current grade in 3 subjects science, maths and english\n",
    "\n",
    "- Returning a list of top n rankers of a grade where n and grade number are passed in request body JSON\n",
    "\n",
    "- Returning a list of top 3 rankers form all grades\n",
    "\n",
    "Structuring DB and the number of grades is up to student (with a minimum of 3 grades)"
   ]
  },
  {
   "cell_type": "markdown",
   "id": "a5168d9a",
   "metadata": {},
   "source": [
    "### First, you'll need to install Django and DRF. You can do this by running the following commands in your terminal:"
   ]
  },
  {
   "cell_type": "code",
   "execution_count": null,
   "id": "618e0992",
   "metadata": {},
   "outputs": [],
   "source": [
    "pip install django\n",
    "pip install djangorestframework\n"
   ]
  },
  {
   "cell_type": "markdown",
   "id": "b08934ae",
   "metadata": {},
   "source": [
    "### Once you have installed these libraries, you can create a new Django project by running the following command:"
   ]
  },
  {
   "cell_type": "code",
   "execution_count": null,
   "id": "40d7705b",
   "metadata": {},
   "outputs": [],
   "source": [
    "django-admin startproject student_records\n"
   ]
  },
  {
   "cell_type": "markdown",
   "id": "45e12067",
   "metadata": {},
   "source": [
    "### Then, create a new app called students by running the following command:"
   ]
  },
  {
   "cell_type": "code",
   "execution_count": null,
   "id": "e94112ea",
   "metadata": {},
   "outputs": [],
   "source": [
    "cd student_records\n",
    "python manage.py startapp students\n"
   ]
  },
  {
   "cell_type": "markdown",
   "id": "32762340",
   "metadata": {},
   "source": [
    "### Now, let's define our models in the models.py file of the students app:"
   ]
  },
  {
   "cell_type": "code",
   "execution_count": null,
   "id": "7948ea92",
   "metadata": {},
   "outputs": [],
   "source": [
    "from django.db import models\n",
    "\n",
    "class Grade(models.Model):\n",
    "    grade_number = models.IntegerField()\n",
    "\n",
    "class Student(models.Model):\n",
    "    name = models.CharField(max_length=50)\n",
    "    address = models.CharField(max_length=200)\n",
    "    grade = models.ForeignKey(Grade, on_delete=models.CASCADE)\n",
    "\n",
    "class TestRecord(models.Model):\n",
    "    subject = models.CharField(max_length=50)\n",
    "    score = models.FloatField()\n",
    "    student = models.ForeignKey(Student, on_delete=models.CASCADE)\n"
   ]
  },
  {
   "cell_type": "markdown",
   "id": "c7782f51",
   "metadata": {},
   "source": [
    "### Next, let's create serializers for our models in serializers.py:"
   ]
  },
  {
   "cell_type": "code",
   "execution_count": null,
   "id": "31ed2986",
   "metadata": {},
   "outputs": [],
   "source": [
    "from rest_framework import serializers\n",
    "from .models import Grade, Student, TestRecord\n",
    "\n",
    "class GradeSerializer(serializers.ModelSerializer):\n",
    "    class Meta:\n",
    "        model = Grade\n",
    "        fields = '__all__'\n",
    "\n",
    "class TestRecordSerializer(serializers.ModelSerializer):\n",
    "    class Meta:\n",
    "        model = TestRecord\n",
    "        fields = '__all__'\n",
    "\n",
    "class StudentSerializer(serializers.ModelSerializer):\n",
    "    grade = GradeSerializer()\n",
    "    test_records = TestRecordSerializer(many=True)\n",
    "\n",
    "    class Meta:\n",
    "        model = Student\n",
    "        fields = '__all__'\n"
   ]
  },
  {
   "cell_type": "markdown",
   "id": "2122e433",
   "metadata": {},
   "source": [
    "### Now, let's define our views in views.py:"
   ]
  },
  {
   "cell_type": "code",
   "execution_count": null,
   "id": "b42eecc7",
   "metadata": {},
   "outputs": [],
   "source": [
    "from rest_framework import generics, status\n",
    "from rest_framework.response import Response\n",
    "from .models import Grade, Student, TestRecord\n",
    "from .serializers import GradeSerializer, StudentSerializer, TestRecordSerializer\n",
    "\n",
    "class CreateGradeView(generics.CreateAPIView):\n",
    "    serializer_class = GradeSerializer\n",
    "\n",
    "class CreateStudentView(generics.CreateAPIView):\n",
    "    serializer_class = StudentSerializer\n",
    "\n",
    "class CreateTestRecordView(generics.CreateAPIView):\n",
    "    serializer_class = TestRecordSerializer\n",
    "\n",
    "class GetRankersByGradeView(generics.ListAPIView):\n",
    "    serializer_class = StudentSerializer\n",
    "\n",
    "    def get_queryset(self):\n",
    "        grade_number = self.request.data.get('grade_number')\n",
    "        n = self.request.data.get('n')\n",
    "        queryset = Student.objects.filter(grade__grade_number=grade_number).annotate(avg_score=(models.Sum('testrecord__score')/models.Count('testrecord__score'))).order_by('-avg_score')[:n]\n",
    "        return queryset\n",
    "\n",
    "class GetTop3RankersView(generics.ListAPIView):\n",
    "    serializer_class = StudentSerializer\n",
    "\n",
    "    def get_queryset(self):\n",
    "        queryset = Student.objects.annotate(avg_score=(models.Sum('testrecord__score')/models.Count('testrecord__score'))).order_by('-avg_score')[:3]\n",
    "        return queryset\n"
   ]
  },
  {
   "cell_type": "markdown",
   "id": "8337a0f7",
   "metadata": {},
   "source": [
    "### Finally, let's define our urls in urls.py:"
   ]
  },
  {
   "cell_type": "code",
   "execution_count": null,
   "id": "3777124f",
   "metadata": {},
   "outputs": [],
   "source": [
    "from django.urls import path\n",
    "from .views import CreateGradeView, CreateStudentView, CreateTestRecordView, GetRankersByGradeView, GetTop3RankersView\n",
    "\n",
    "urlpatterns = [\n",
    "    path('grades/', CreateGradeView.as_view(), name='create-grade'),\n",
    "    path('students/', CreateStudentView.as_view(), name='create-student'),\n",
    "    path('test-records/', CreateTestRecordView.as_view(), name='create-test-record'),\n",
    "    path('rankers-by-grade/', GetRankersByGradeView.as_view(), name='rankers-by-grade'),\n",
    "    path('top-3-rankers/', GetTop3RankersView.as_view(), name='top-3-rankers'),\n",
    "]\n"
   ]
  },
  {
   "cell_type": "code",
   "execution_count": null,
   "id": "e9faff43",
   "metadata": {},
   "outputs": [],
   "source": []
  }
 ],
 "metadata": {
  "kernelspec": {
   "display_name": "Python 3 (ipykernel)",
   "language": "python",
   "name": "python3"
  },
  "language_info": {
   "codemirror_mode": {
    "name": "ipython",
    "version": 3
   },
   "file_extension": ".py",
   "mimetype": "text/x-python",
   "name": "python",
   "nbconvert_exporter": "python",
   "pygments_lexer": "ipython3",
   "version": "3.9.13"
  }
 },
 "nbformat": 4,
 "nbformat_minor": 5
}
