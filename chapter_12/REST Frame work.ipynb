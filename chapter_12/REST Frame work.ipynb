{
 "cells": [
  {
   "cell_type": "markdown",
   "id": "527d6ec4",
   "metadata": {},
   "source": [
    "<h1><font color=\"green\">What is an API?</font></h1>"
   ]
  },
  {
   "cell_type": "markdown",
   "id": "2b509818",
   "metadata": {},
   "source": [
    "1. API  refers to Application Programming Interface.\n",
    "\n",
    "2. It is a set of subroutine definitions,protocals and tools for building application software.\n",
    "\n",
    "3. It helps in connecting various software components.\n",
    "\n",
    "4. An  API make it easier for developers to use certain technologies in building applications by using certain predefined operations."
   ]
  },
  {
   "cell_type": "markdown",
   "id": "0879b084",
   "metadata": {},
   "source": [
    "<h1><font color=\"red\">What is REST Frame work API using Python</font></h1>"
   ]
  },
  {
   "cell_type": "markdown",
   "id": "ea52f68a",
   "metadata": {},
   "source": [
    "A REST API is an API(Application Programming interface)  that conforms to the design principles of the REST ,or representational state transfer architectural styles.For this reasons, REST APIs sometimes referred to RESTful APIs.\n",
    "\n",
    "\n",
    "First defined in 2000 by computer scientist Dr.Roy Fielding"
   ]
  },
  {
   "cell_type": "markdown",
   "id": "724e0eaa",
   "metadata": {},
   "source": [
    "### The following HTTP methods are most commonly used in a REST based architecture:\n",
    "-  GET : it return the results(retrieve resource)\n",
    "-  PUT  : it is used  to change the state or update a resource\n",
    "-  POST  : it is used to create the resource \n",
    "-  DELETE  : it is used to remove the resource"
   ]
  },
  {
   "cell_type": "code",
   "execution_count": null,
   "id": "6b1259c1",
   "metadata": {},
   "outputs": [],
   "source": []
  }
 ],
 "metadata": {
  "kernelspec": {
   "display_name": "Python 3 (ipykernel)",
   "language": "python",
   "name": "python3"
  },
  "language_info": {
   "codemirror_mode": {
    "name": "ipython",
    "version": 3
   },
   "file_extension": ".py",
   "mimetype": "text/x-python",
   "name": "python",
   "nbconvert_exporter": "python",
   "pygments_lexer": "ipython3",
   "version": "3.9.13"
  }
 },
 "nbformat": 4,
 "nbformat_minor": 5
}
