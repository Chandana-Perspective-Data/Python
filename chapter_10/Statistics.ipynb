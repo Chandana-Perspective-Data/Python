{
 "cells": [
  {
   "cell_type": "markdown",
   "id": "4314f9fd",
   "metadata": {},
   "source": [
    "<h1><font color=\"BLUE\">Mean</font></h1>"
   ]
  },
  {
   "cell_type": "markdown",
   "id": "98188392",
   "metadata": {},
   "source": [
    "The mean is a statistical term that refers to the average value of a set of numbers. To find the mean of a set of numbers, you add up all the numbers and then divide by the number of items in the set.\n",
    "\n",
    "Here's an example:\n",
    "\n",
    "Suppose you have the following set of numbers: [3, 5, 7, 9]. To find the mean of this set, you would perform the following calculation:\n",
    "\n",
    "(3 + 5 + 7 + 9) / 4 = 24 / 4 = 6"
   ]
  },
  {
   "cell_type": "markdown",
   "id": "96e2bd4a",
   "metadata": {},
   "source": [
    "<h1><font color=#008000>Median</font></h1>"
   ]
  },
  {
   "cell_type": "markdown",
   "id": "ede998cf",
   "metadata": {},
   "source": [
    "The median is another statistical term that refers to the middle value of a set of numbers. Unlike the mean, which is sensitive to extreme values, the median gives a better representation of the \"typical\" value in a dataset when there are outliers.\n",
    "\n",
    "To find the median, you first need to arrange the numbers in the set in numerical order. Then, if the set has an odd number of items, the median is the middle number. If the set has an even number of items, the median is the average of the two middle numbers.\n",
    "\n",
    "Here's an example:\n",
    "\n",
    "Suppose you have the following set of numbers: [3, 5, 7, 9, 11]. To find the median of this set, you would first arrange the numbers in order:\n",
    "\n",
    "[3, 5, 7, 9, 11]\n",
    "\n",
    "Since there are 5 numbers in the set, the median is the middle value, which is 7.\n",
    "\n",
    "Now, consider another example with the set of numbers: [3, 5, 7, 9]. To find the median of this set, you would again arrange the numbers in order:\n",
    "\n",
    "[3, 5, 7, 9]\n",
    "\n",
    "Since there are 4 numbers in the set, there are two middle values (5 and 7). To find the median, you would find the average of these two numbers:\n",
    "\n",
    "(5 + 7) / 2 = 12 / 2 = 6\n",
    "\n",
    "So the median of this set of numbers is 6.\n",
    "\n",
    "\n",
    "\n"
   ]
  },
  {
   "cell_type": "markdown",
   "id": "29e73eff",
   "metadata": {},
   "source": [
    "<h1><font color=#FF1493>Mode</font></h1>"
   ]
  },
  {
   "cell_type": "markdown",
   "id": "9e54863e",
   "metadata": {},
   "source": [
    "The mode is a statistical term that refers to the number that appears most frequently in a set of numbers. A set of numbers can have one mode, multiple modes, or no mode at all.\n",
    "\n",
    "Here's an example:\n",
    "\n",
    "Suppose you have the following set of numbers: [3, 5, 7, 5, 9]. To find the mode of this set, you would count how many times each number appears and identify the number(s) that appear the most frequently:\n",
    "\n",
    "3 appears once\n",
    "5 appears twice\n",
    "7 appears once\n",
    "9 appears once\n",
    "So, in this set, the mode is 5, as it is the number that appears the most frequently.\n",
    "\n",
    "If a set has more than one mode, it is referred to as bimodal. If a set has no mode, it is referred to as multimodal."
   ]
  },
  {
   "attachments": {},
   "cell_type": "markdown",
   "id": "44e6f1b8",
   "metadata": {},
   "source": [
    "<h1><font color=#7FFF00> Standard Deviation</font></h1>\n",
    "\n",
    "The formula for the population standard deviation is:\n",
    "\n",
    "$\\sigma = \\sqrt{\\frac{\\sum_{i=1}^{N} (x_i - \\mu)^2}{N}}$\n",
    "\n",
    "where:\n",
    "\n",
    "- $x_i$ is the $i^{th}$ value in the population\n",
    "- $\\mu$ is the mean of the population\n",
    "- $N$ is the number of values in the population\n",
    "- $\\sigma$ is the population standard deviation"
   ]
  },
  {
   "cell_type": "markdown",
   "id": "60c5a391",
   "metadata": {},
   "source": [
    "Standard deviation is a statistical measure of the spread or dispersion of a set of numbers. It gives an indication of how much the values in the set deviate from the mean. In other words, it measures how far the numbers in a set are from the mean of the set.\n",
    "\n",
    "Here's an example:\n",
    "\n",
    "Suppose you have the following set of numbers: [3, 5, 7, 9]. To find the standard deviation of this set, you first need to find the mean:\n",
    "\n",
    "(3 + 5 + 7 + 9) / 4 = 24 / 4 = 6\n",
    "\n",
    "Next, you need to find the deviation of each number from the mean. This can be done by subtracting the mean from each number in the set:\n",
    "\n",
    "3 - 6 = -3\n",
    "5 - 6 = -1\n",
    "7 - 6 = 1\n",
    "9 - 6 = 3\n",
    "Next, you square each deviation to get rid of the negative signs:\n",
    "\n",
    "3^2 = 9\n",
    "1^2 = 1\n",
    "1^2 = 1\n",
    "3^2 = 9\n",
    "Next, you find the mean of the squared deviations:\n",
    "\n",
    "(9 + 1 + 1 + 9) / 4 = 20 / 4 = 5\n",
    "\n",
    "Finally, you take the square root of the mean of the squared deviations to find the standard deviation:\n",
    "\n",
    "sqrt(5) = 2.236\n",
    "\n",
    "So the standard deviation of this set of numbers is approximately 2.236. This means that, on average, the numbers in the set deviate from the mean by about 2.236."
   ]
  },
  {
   "attachments": {},
   "cell_type": "markdown",
   "id": "424e999c",
   "metadata": {},
   "source": [
    "<h1><font color=#4B0082>Variance</font></h1>\n",
    "\n",
    "$\\sigma^2 = \\frac{\\sum_{i=1}^{N} (x_i - \\mu)^2}{N}$\n",
    "\n"
   ]
  },
  {
   "cell_type": "markdown",
   "id": "f859a7a3",
   "metadata": {},
   "source": [
    "Variance is another statistical measure of the spread or dispersion of a set of numbers. Like standard deviation, it gives an indication of how far the numbers in a set are from the mean. However, variance is expressed in squared units, which can make it difficult to interpret.\n",
    "\n",
    "To find the variance of a set of numbers, you first need to find the deviation of each number from the mean. This can be done by subtracting the mean from each number in the set. Then, you square each deviation to get rid of the negative signs. Finally, you find the mean of the squared deviations.\n",
    "\n",
    "Here's an example:\n",
    "\n",
    "Suppose you have the following set of numbers: [3, 5, 7, 9]. To find the variance of this set, you first need to find the mean:\n",
    "\n",
    "(3 + 5 + 7 + 9) / 4 = 24 / 4 = 6\n",
    "\n",
    "Next, you need to find the deviation of each number from the mean. This can be done by subtracting the mean from each number in the set:\n",
    "\n",
    "3 - 6 = -3\n",
    "5 - 6 = -1\n",
    "7 - 6 = 1\n",
    "9 - 6 = 3\n",
    "Next, you square each deviation to get rid of the negative signs:\n",
    "\n",
    "3^2 = 9\n",
    "1^2 = 1\n",
    "1^2 = 1\n",
    "3^2 = 9\n",
    "Finally, you find the mean of the squared deviations:\n",
    "\n",
    "(9 + 1 + 1 + 9) / 4 = 20 / 4 = 5\n",
    "\n",
    "So the variance of this set of numbers is 5. This means that, on average, the squared deviation of the numbers in the set from the mean is 5. To find the standard deviation, you would take the square root of the variance."
   ]
  },
  {
   "cell_type": "markdown",
   "id": "bf6b5ea3",
   "metadata": {},
   "source": [
    "$\\sigma^2 = \\frac{\\sum_{i=1}^{N} (x_i - \\mu)^2}{N}$"
   ]
  },
  {
   "cell_type": "markdown",
   "id": "5f441cf1",
   "metadata": {},
   "source": [
    "#  percentiles:"
   ]
  },
  {
   "cell_type": "markdown",
   "id": "88d168df",
   "metadata": {},
   "source": [
    "Percentiles are a way of dividing a set of data into 100 equal parts, each part representing 1% of the values. The value at a particular percentile is the value that separates that percentile of the data from the rest.\n",
    "\n",
    "For example, the 25th percentile is also known as the first quartile (Q1), and it is the value that separates the lowest 25% of the data from the rest. The 50th percentile is the median, and it separates the data into two equal parts, with 50% of the data below it and 50% of the data above it. The 75th percentile is the third quartile (Q3), and it separates the top 25% of the data from the rest.\n",
    "\n",
    "Percentiles can be calculated using the following formula:\n",
    "\n",
    "$P_{th}$ = $(P/100) \\cdot (N+1)$\n",
    "\n",
    "where:\n",
    "\n",
    "- $P_{th}$ is the $P^{th}$ percentile\n",
    "- $P$ is the desired percentile (e.g., 25 for Q1, 50 for median, 75 for Q3, etc.)\n",
    "- $N$ is the number of values in the data set\n",
    "\n",
    "\n",
    "Note that the formula gives a value that represents the position of the desired percentile in the data set, rather than the actual value at that percentile. To find the actual value, you would need to locate the $P_{th}$ value in the data set and interpolate if necessary.\n",
    "\n",
    "\n",
    "\n"
   ]
  },
  {
   "cell_type": "markdown",
   "id": "c9d8073f",
   "metadata": {},
   "source": [
    "<h1><font color=#FFD700> percentiles Example</font></h1>"
   ]
  },
  {
   "cell_type": "markdown",
   "id": "51da67c1",
   "metadata": {},
   "source": [
    "Here is an example to help illustrate the concept of percentiles:\n",
    "\n",
    "Suppose you have a set of exam scores for a class of 20 students:\n",
    "\n",
    "{67, 68, 70, 72, 73, 74, 75, 76, 78, 80, 81, 83, 85, 86, 87, 89, 90, 91, 92, 94}\n",
    "\n",
    "To find the 25th percentile (Q1), we use the formula:\n",
    "\n",
    "$P_{th}$ = $(25/100) \\cdot (20+1)$ = $(0.25) \\cdot (21)$ = 5.25\n",
    "\n",
    "Since 5.25 is not an integer, we need to interpolate to find the actual value at the 25th percentile. To do this, we use the following formula:\n",
    "\n",
    "$Q1 = x_{i} + (P_{th} - i) \\cdot (x_{i+1} - x_{i})$\n",
    "\n",
    "where $x_{i}$ and $x_{i+1}$ are the values just below and just above $P_{th}$, and $i$ is the index of $x_{i}$ in the data set.\n",
    "\n",
    "So, in this case, $x_{5} = 73$, $x_{6} = 74$, and $i = 5$. Plugging in the values, we get:\n",
    "\n",
    "$Q1 = 73 + (5.25 - 5) \\cdot (74 - 73)$ = 73 + 0.25 = 73.25\n",
    "\n",
    "Therefore, the 25th percentile (Q1) of the exam scores is 73.25."
   ]
  },
  {
   "cell_type": "markdown",
   "id": "2aabec79",
   "metadata": {},
   "source": [
    "<h1><font color=#0000FF>Data Distribution</font></h1>"
   ]
  },
  {
   "cell_type": "markdown",
   "id": "543a49bd",
   "metadata": {},
   "source": [
    "## Normal Distribution:\n",
    "Also known as the Gaussian distribution, it is a symmetrical bell-shaped curve that represents the majority of the values in the data set. The mean, median, and mode of a normal distribution are all equal, and the curve is characterized by its standard deviation. Example: heights of adult humans.\n",
    "\n",
    "#### example\n",
    "- Heights of adult humans.\n",
    "- Blood pressure readings of healthy adults.\n",
    "- IQ scores of a large population.\n",
    "\n",
    "f(x) = (1 / (sqrt(2 * pi) * standard deviation)) * e^(-((x - mean)^2 / (2 * standard deviation^2)))\n",
    "\n",
    "where x is a value in the data set, mean is the mean of the data set, standard deviation is the standard deviation of the data set, pi is approximately equal to 3.14, and e is the base of the natural logarithm."
   ]
  },
  {
   "cell_type": "markdown",
   "id": "7f983d73",
   "metadata": {},
   "source": [
    "## Poisson Distribution: \n",
    "This distribution models the number of occurrences of a rare event within a specified interval. It is used for modeling events such as the number of telephone calls received by a call center or the number of requests for a website. Example: number of traffic accidents per day.\n",
    "\n",
    "#### examples\n",
    "- Number of calls received by a call center per hour.\n",
    "- Number of traffic accidents per day.\n",
    "- Number of requests for a website per minute.\n",
    "\n",
    "f(x) = (e^-lambda) * lambda^x / x!"
   ]
  },
  {
   "cell_type": "markdown",
   "id": "0fedf9af",
   "metadata": {},
   "source": [
    "## Binomial Distribution:\n",
    "This distribution models the number of successes in a fixed number of independent trials. Each trial can only have two outcomes: success or failure. \n",
    "\n",
    "#### Example: \n",
    "- number of heads in 10 coin flips.\n",
    "- Number of defective items in a batch of 100 products.\n",
    "- Number of people who voted for a particular candidate in an election.\n",
    "\n",
    "f(x) = n! / (x! * (n - x)!) * p^x * (1 - p)^(n - x)"
   ]
  },
  {
   "cell_type": "markdown",
   "id": "06dd3aea",
   "metadata": {},
   "source": [
    "## Exponential Distribution:\n",
    "This distribution models the time between two occurrences of a rare event. It is used for modeling events such as the time between two earthquakes or the time between two calls to a help desk. \n",
    "\n",
    "#### Example: \n",
    "- time between consecutive customer purchases.\n",
    "- Time between two consecutive earthquakes.\n",
    "- Time between two consecutive calls to a help desk.\n",
    "- Time between two consecutive purchases by a customer.\n",
    "\n",
    "f(x) = lambda * e^(-lambda * x)"
   ]
  },
  {
   "cell_type": "markdown",
   "id": "e1742b71",
   "metadata": {},
   "source": [
    "## Uniform Distribution:\n",
    "This distribution models data that is equally likely to take on any value in a specified interval. The values in the data set are evenly distributed across the interval, with no concentration at any particular value. \n",
    "\n",
    "#### Example: \n",
    "- time spent waiting in a queue.\n",
    "- Height of trees in a forest.\n",
    "- Randomly generated numbers in a specified interval.\n",
    "f(x) = 1 / (b - a)"
   ]
  },
  {
   "cell_type": "markdown",
   "id": "508aef90",
   "metadata": {},
   "source": [
    "## Skewed Distribution:\n",
    "This distribution is not symmetrical and has either a long tail to the right (positive skew) or a long tail to the left (negative skew).\n",
    "### Example:\n",
    "- income distribution.\n",
    "- Sales of a product over time.\n",
    "- Distribution of exam scores with a few outliers."
   ]
  },
  {
   "cell_type": "markdown",
   "id": "4037c21a",
   "metadata": {},
   "source": [
    "<h1><font color=#FF1493>Linear Regression</font></h1>"
   ]
  },
  {
   "cell_type": "markdown",
   "id": "0819bf7b",
   "metadata": {},
   "source": [
    "Linear Regression is a statistical method used to study the linear relationship between a dependent variable and one or more independent variables. It is a widely used method in predictive modeling and helps to establish a linear relationship between a dependent variable and one or more independent variables. The basic idea is to fit a line that best describes the relationship between the variables.\n",
    "\n",
    "The equation of the line in a simple linear regression model with one independent variable is given by:\n",
    "\n",
    "y = b0 + b1 * x\n",
    "\n",
    "where y is the dependent variable, x is the independent variable, b0 is the intercept term, and b1 is the slope of the line.\n",
    "\n",
    "The goal of linear regression is to find the values of b0 and b1 that best fit the data. The best-fit line is determined using a method called least squares, which minimizes the sum of the squared differences between the observed y values and the y values predicted by the line.\n",
    "\n",
    "Linear regression can also be extended to multiple independent variables to form a multiple linear regression model, where the equation of the line would be given by:\n",
    "\n",
    "y = b0 + b1 * x1 + b2 * x2 + ... + bn * xn\n",
    "\n",
    "where x1, x2, ..., xn are the independent variables, and b1, b2, ..., bn are the corresponding coefficients for each independent variable.\n",
    "\n",
    "Linear regression is a powerful tool for making predictions and understanding the relationships between variables, but it is important to keep in mind that it assumes a linear relationship between the variables, and may not always be appropriate for all data sets.\n",
    "\n",
    "\n",
    "\n"
   ]
  },
  {
   "cell_type": "code",
   "execution_count": null,
   "id": "7e512b24",
   "metadata": {},
   "outputs": [],
   "source": []
  }
 ],
 "metadata": {
  "kernelspec": {
   "display_name": "Python 3 (ipykernel)",
   "language": "python",
   "name": "python3"
  },
  "language_info": {
   "codemirror_mode": {
    "name": "ipython",
    "version": 3
   },
   "file_extension": ".py",
   "mimetype": "text/x-python",
   "name": "python",
   "nbconvert_exporter": "python",
   "pygments_lexer": "ipython3",
   "version": "3.9.13"
  }
 },
 "nbformat": 4,
 "nbformat_minor": 5
}
