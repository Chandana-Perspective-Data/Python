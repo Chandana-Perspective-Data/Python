{
 "cells": [
  {
   "cell_type": "markdown",
   "id": "88fb7c59",
   "metadata": {},
   "source": [
    "# 1.which of the function from Pandas reads the dataset from a large text file?"
   ]
  },
  {
   "cell_type": "code",
   "execution_count": null,
   "id": "e3f63532",
   "metadata": {},
   "outputs": [],
   "source": [
    "> a.  read_json \n",
    "> b.  read_csv \n",
    "> c. read_hdf\n",
    "> d. read_pickle "
   ]
  },
  {
   "cell_type": "markdown",
   "id": "91db6bec",
   "metadata": {},
   "source": [
    "# 2.\"import numpy as np\n",
    "series = [[23,45,12,679], [14,48,69,38]]\n",
    "new_series = np.array(series)\n",
    "print new_series.ndim\n",
    "print new_series.shape\n",
    "print new_series.dtype\""
   ]
  },
  {
   "cell_type": "code",
   "execution_count": null,
   "id": "19211516",
   "metadata": {},
   "outputs": [],
   "source": [
    "> a.2 (2L, 4L) int64 \n",
    "> b. 4 (2L) int32 \n",
    "> c.2 (4L) int64\n",
    "> d.2 (2L, 4L) int32 "
   ]
  },
  {
   "cell_type": "markdown",
   "id": "5e20bce7",
   "metadata": {},
   "source": [
    "# 3.Which of these libraries contains a lot of efficient tools for machine learning and statistical modeling?"
   ]
  },
  {
   "cell_type": "code",
   "execution_count": null,
   "id": "061b978f",
   "metadata": {},
   "outputs": [],
   "source": [
    "> a.SciPy \n",
    "> b. matplotlib \n",
    "> c.NumPy\n",
    "> d.Scikit Learn "
   ]
  },
  {
   "cell_type": "markdown",
   "id": "d1d830ff",
   "metadata": {},
   "source": [
    "# 4.Which of the following Python libraries provides support for data munging?"
   ]
  },
  {
   "cell_type": "code",
   "execution_count": null,
   "id": "2dfb7dae",
   "metadata": {},
   "outputs": [],
   "source": [
    "> a. Matplotlib \n",
    "> b.SciPy \n",
    "> c. Pandas \n",
    "> d.NumPy \n"
   ]
  },
  {
   "cell_type": "markdown",
   "id": "67e2bd2b",
   "metadata": {},
   "source": [
    "# 5.Which of the following Python libraries provides advanced random number capabilities?"
   ]
  },
  {
   "cell_type": "code",
   "execution_count": null,
   "id": "79957cb3",
   "metadata": {},
   "outputs": [],
   "source": [
    "> a.NumPy \n",
    "> b. SciPy \n",
    "> c.SymPy\n",
    "> d.SymPy"
   ]
  },
  {
   "cell_type": "markdown",
   "id": "4f154f30",
   "metadata": {},
   "source": [
    "# 6.How we can change shape of numpy array"
   ]
  },
  {
   "cell_type": "code",
   "execution_count": null,
   "id": "132661d9",
   "metadata": {},
   "outputs": [],
   "source": [
    "> a. shape\n",
    "> b. reshape\n",
    "> c. order\n",
    "> d. change\n"
   ]
  },
  {
   "cell_type": "markdown",
   "id": "d7711a4b",
   "metadata": {},
   "source": [
    "# 7.Which of the following Python data structures could be useful in data analysis?"
   ]
  },
  {
   "cell_type": "code",
   "execution_count": null,
   "id": "f4a3bf17",
   "metadata": {},
   "outputs": [],
   "source": [
    "> a.List\n",
    "> b.Tuples\n",
    "> c.Dictionary\n",
    "> d.All"
   ]
  },
  {
   "cell_type": "markdown",
   "id": "c2515c2f",
   "metadata": {},
   "source": [
    "# 8.\"Which is not a valid Pandas writer function?\""
   ]
  },
  {
   "cell_type": "code",
   "execution_count": null,
   "id": "62647efa",
   "metadata": {},
   "outputs": [],
   "source": [
    "> a.to_text\n",
    "> b.to_clipboard\n",
    "> c.to_msgpack\n",
    "> d.to_stata"
   ]
  },
  {
   "cell_type": "markdown",
   "id": "42b18bf3",
   "metadata": {},
   "source": [
    "# 9.\"Which of the following is the output of the below Python code?    from numpy import random \n",
    "dataset = np.array(['paul', 'jacob', 'vince', 'paul', 'miky', 'larence', 'warren'])\n",
    "print dataset == 'paul'\n",
    "\""
   ]
  },
  {
   "cell_type": "code",
   "execution_count": null,
   "id": "e10d5fb6",
   "metadata": {},
   "outputs": [],
   "source": [
    "> a.TRUE\n",
    "> b.[True False False True False False False]\n",
    "> c.[True False False False False False False]\n",
    "> d.[True False False False False False False]"
   ]
  },
  {
   "cell_type": "markdown",
   "id": "a80ae994",
   "metadata": {},
   "source": [
    "# 10.Which are not a valid statements about the accelerated operations support in Pandas?"
   ]
  },
  {
   "cell_type": "code",
   "execution_count": null,
   "id": "684179a8",
   "metadata": {},
   "outputs": [],
   "source": [
    "> a.It is required to identify missing data in computations.\n",
    "> b.Pandas library has support for accelerating certain types of binary numerical and boolean operations.\n",
    "> c.Pandas library's ability to support accelerated operations is useful for dealing with large data sets and speed improvements.\n",
    "> d.It helps in determining the broadcasting behavior between higher (e.g. DataFrame) and lower-dimensional (e.g. Series) objects."
   ]
  },
  {
   "cell_type": "markdown",
   "id": "add95c1e",
   "metadata": {},
   "source": [
    "# 11.-Which of the function from Pandas reads the dataset from a large text file?"
   ]
  },
  {
   "cell_type": "code",
   "execution_count": null,
   "id": "5ba44571",
   "metadata": {},
   "outputs": [],
   "source": [
    "> a.read_csv\n",
    "> b.read_hdf\n",
    "> c.read_json\n",
    "> d.read_gbq"
   ]
  },
  {
   "cell_type": "markdown",
   "id": "56ae59ab",
   "metadata": {},
   "source": [
    "# 12.Which function in Pandas library allows to play with data and creates new variables?"
   ]
  },
  {
   "cell_type": "code",
   "execution_count": null,
   "id": "4945cffb",
   "metadata": {},
   "outputs": [],
   "source": [
    "> a.pivot_table function\n",
    "> b.read_csv function\n",
    "> c.merge function\n",
    "> d.Apply function"
   ]
  },
  {
   "cell_type": "markdown",
   "id": "43345fd6",
   "metadata": {},
   "source": [
    "# 13.What is the code to return every other element from the array arr=np.array([1,2,3,4,5,6,7])"
   ]
  },
  {
   "cell_type": "code",
   "execution_count": null,
   "id": "f142d67e",
   "metadata": {},
   "outputs": [],
   "source": [
    "> a.arr[::2]\n",
    "> b.arr[1::2]\n",
    "> c.arr[1:6:2]\n",
    "> d.arr[::1]"
   ]
  },
  {
   "cell_type": "markdown",
   "id": "8798bbc5",
   "metadata": {},
   "source": [
    "# 14.What is the standard command to install numpy."
   ]
  },
  {
   "cell_type": "code",
   "execution_count": null,
   "id": "99634a9c",
   "metadata": {},
   "outputs": [],
   "source": [
    "> a.install pip numpy\n",
    "> b.numpy install pip\n",
    "> c.pip install numpy\n",
    "> d.pip numpy install"
   ]
  },
  {
   "cell_type": "markdown",
   "id": "a062970b",
   "metadata": {},
   "source": [
    "# 15.Choose the python package for 2D graphics."
   ]
  },
  {
   "cell_type": "code",
   "execution_count": null,
   "id": "e7770020",
   "metadata": {},
   "outputs": [],
   "source": [
    "> a.matplotlib.plt\n",
    "> b.matplotlib.numpy\n",
    "> c.matplotlib.pip\n",
    "> d.matplotlib.pyplot"
   ]
  },
  {
   "cell_type": "markdown",
   "id": "43b2f20d",
   "metadata": {},
   "source": [
    "# 16.what is the method to select random values from a list?"
   ]
  },
  {
   "cell_type": "code",
   "execution_count": null,
   "id": "ad35cfa1",
   "metadata": {},
   "outputs": [],
   "source": [
    "> a.random.choice()\n",
    "> b.random.sample()\n",
    "> c.random.samples()\n",
    "> d.None"
   ]
  },
  {
   "cell_type": "markdown",
   "id": "98416b57",
   "metadata": {},
   "source": [
    "# 17.what is the function to give colour to the plot?"
   ]
  },
  {
   "cell_type": "code",
   "execution_count": null,
   "id": "08c60b25",
   "metadata": {},
   "outputs": [],
   "source": [
    "> a.color_pallete()\n",
    "> b.color_plot()\n",
    "> c.colour_pallete()\n",
    "> d.colour_plot()"
   ]
  },
  {
   "cell_type": "markdown",
   "id": "7f168131",
   "metadata": {},
   "source": [
    "# 18.what is the base library of seaborn?"
   ]
  },
  {
   "cell_type": "code",
   "execution_count": null,
   "id": "02817534",
   "metadata": {},
   "outputs": [],
   "source": [
    "> a.NumPy \n",
    "> b.panda\n",
    "> c.matplotlib\n",
    "> d.None"
   ]
  }
 ],
 "metadata": {
  "kernelspec": {
   "display_name": "Python 3 (ipykernel)",
   "language": "python",
   "name": "python3"
  },
  "language_info": {
   "codemirror_mode": {
    "name": "ipython",
    "version": 3
   },
   "file_extension": ".py",
   "mimetype": "text/x-python",
   "name": "python",
   "nbconvert_exporter": "python",
   "pygments_lexer": "ipython3",
   "version": "3.9.13"
  }
 },
 "nbformat": 4,
 "nbformat_minor": 5
}
