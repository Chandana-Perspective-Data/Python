{
 "cells": [
  {
   "cell_type": "markdown",
   "id": "3bf01b2d",
   "metadata": {},
   "source": [
    "> # Intrusion Detection Systems (IDSs) "
   ]
  },
  {
   "cell_type": "markdown",
   "id": "fdb66884",
   "metadata": {},
   "source": [
    "# PROBLEM STATEMENT\n",
    "\n",
    "\n",
    "\n",
    "Scikitlearn\n",
    "\n",
    "READ ME\n",
    "\n",
    "=======\n",
    "\n",
    "Problem Statement: Intrusion Detection Systems (IDSs) and Intrusion Prevention Systems (IPSs) are the most important defense tools against the sophisticated and ever-growing network attacks. Given network flow data, can we detect different network attacks? (Download the attached file & unzip to fetch the data)\n",
    "\n",
    "Network attacks : There are different types of network attacks such as DoS Hulk, DoS GoldenEye, DoS slowloris, DoS Slowhttptest.\n",
    "\n",
    "Features : Total 80 features are taken from network flow data, including Label. \n",
    "\n",
    "ID : record id \n",
    "\n",
    "Label : BENIGN(Normal), DoS(Attack)\n",
    "\n",
    "Packet info : 'Total Fwd Packets','Total Backward Packets', 'Total Length of Fwd Packets',\n",
    "\n",
    "\t          'Total Length of Bwd Packets', 'Fwd Packet Length Max',\n",
    "\n",
    "\t          'Fwd Packet Length Min', 'Fwd Packet Length Mean',\n",
    "\n",
    "\t          'Fwd Packet Length Std', 'Bwd Packet Length Max',\n",
    "\n",
    "\t          'Bwd Packet Length Min', 'Bwd Packet Length Mean',\n",
    "\n",
    "\t          'Bwd Packet Length Std'\n",
    "\n",
    "Payload info : 'Flow Bytes/s', 'Flow Packets/s',\n",
    "\n",
    "              'Flow IAT Mean', 'Flow IAT Std', 'Flow IAT Max', 'Flow IAT Min',\n",
    "\n",
    "              'Fwd IAT Total', 'Fwd IAT Mean', 'Fwd IAT Std', 'Fwd IAT Max',\n",
    "\n",
    "              'Fwd IAT Min', 'Bwd IAT Total', 'Bwd IAT Mean', 'Bwd IAT Std',\n",
    "\n",
    "              'Bwd IAT Max', 'Bwd IAT Min', 'Fwd PSH Flags', 'Bwd PSH Flags',\n",
    "\n",
    "              'Fwd URG Flags', 'Bwd URG Flags', 'Fwd Header Length',\n",
    "\n",
    "              'Bwd Header Length', 'Fwd Packets/s', 'Bwd Packets/s',\n",
    "\n",
    "              'Min Packet Length', 'Max Packet Length', 'Packet Length Mean',\n",
    "\n",
    "              'Packet Length Std', 'Packet Length Variance', 'FIN Flag Count',\n",
    "\n",
    "              'SYN Flag Count', 'RST Flag Count', 'PSH Flag Count', 'ACK Flag Count',\n",
    "\n",
    "              'URG Flag Count', 'CWE Flag Count', 'ECE Flag Count', 'Down/Up Ratio',\n",
    "\n",
    "              'Average Packet Size', 'Avg Fwd Segment Size', 'Avg Bwd Segment Size',\n",
    "\n",
    "              'Fwd Header Length.1', 'Fwd Avg Bytes/Bulk', 'Fwd Avg Packets/Bulk',\n",
    "\n",
    "              'Fwd Avg Bulk Rate', 'Bwd Avg Bytes/Bulk', 'Bwd Avg Packets/Bulk',\n",
    "\n",
    "              'Bwd Avg Bulk Rate', 'Subflow Fwd Packets', 'Subflow Fwd Bytes',\n",
    "\n",
    "              'Subflow Bwd Packets', 'Subflow Bwd Bytes', 'Init_Win_bytes_forward',\n",
    "\n",
    "              'Init_Win_bytes_backward', 'act_data_pkt_fwd', 'min_seg_size_forward'\n",
    "\n",
    "Session info : 'Active Mean', 'Active Std', 'Active Max', 'Active Min', 'Idle Mean',\n",
    "\n",
    "              'Idle Std', 'Idle Max', 'Idle Min'\n",
    "\n",
    "\n",
    "\n",
    "What to Do?\n",
    "\n",
    "===========\n",
    "\n",
    "Build a Machine Learning model which can detect the network attacks. \n",
    "\n",
    "\n",
    "\n",
    "Submission Details\n",
    "\n",
    "==================\n",
    "\n",
    "- A zip file containing your code (.ipynb file or .py file or r notebook), with final model and prediction results in .csv format.\n",
    "\n",
    "\n"
   ]
  },
  {
   "cell_type": "markdown",
   "id": "9cd5ea7d",
   "metadata": {},
   "source": [
    "### Importing the required Libraries"
   ]
  },
  {
   "cell_type": "code",
   "execution_count": 69,
   "id": "86d9407d",
   "metadata": {},
   "outputs": [],
   "source": [
    "import numpy as np\n",
    "import pandas as pd\n",
    "import matplotlib.pyplot as plt\n",
    "import seaborn as sns\n",
    "from sklearn import metrics\n",
    "import missingno as mn # for missing values visualization\n",
    "from wordcloud import WordCloud as wc # for most highlighted words visualization\n",
    "from wordcloud import STOPWORDS as sw # this will help ignoring english stop words in string value\n",
    "from sklearn.preprocessing import StandardScaler # for stardardizing the data to the normal scale\n",
    "from sklearn.model_selection import train_test_split # for splitting data into train and test\n",
    "from sklearn.tree import DecisionTreeClassifier # Decision Tree model classifier\n",
    "from sklearn.ensemble import RandomForestClassifier # RandomForest model classification\n",
    "from sklearn.linear_model import LogisticRegression # Logistic Regression\n",
    "from sklearn.metrics import classification_report,confusion_matrix # classification report purposes\n",
    "\n",
    "\n",
    "import warnings\n",
    "warnings.filterwarnings(\"ignore\")"
   ]
  },
  {
   "cell_type": "markdown",
   "id": "2bab925e",
   "metadata": {},
   "source": [
    "### Reading the dataset"
   ]
  },
  {
   "cell_type": "code",
   "execution_count": 1,
   "id": "cae81436",
   "metadata": {},
   "outputs": [
    {
     "ename": "NameError",
     "evalue": "name 'pd' is not defined",
     "output_type": "error",
     "traceback": [
      "\u001b[1;31m---------------------------------------------------------------------------\u001b[0m",
      "\u001b[1;31mNameError\u001b[0m                                 Traceback (most recent call last)",
      "\u001b[1;32m~\\AppData\\Local\\Temp\\ipykernel_2328\\901401221.py\u001b[0m in \u001b[0;36m<module>\u001b[1;34m\u001b[0m\n\u001b[1;32m----> 1\u001b[1;33m \u001b[0mtrain_df\u001b[0m \u001b[1;33m=\u001b[0m  \u001b[0mpd\u001b[0m\u001b[1;33m.\u001b[0m\u001b[0mread_csv\u001b[0m\u001b[1;33m(\u001b[0m\u001b[1;34m\"IDS_train.csv\"\u001b[0m\u001b[1;33m)\u001b[0m\u001b[1;33m\u001b[0m\u001b[1;33m\u001b[0m\u001b[0m\n\u001b[0m\u001b[0;32m      2\u001b[0m \u001b[0mtrain_df\u001b[0m\u001b[1;33m\u001b[0m\u001b[1;33m\u001b[0m\u001b[0m\n",
      "\u001b[1;31mNameError\u001b[0m: name 'pd' is not defined"
     ]
    }
   ],
   "source": [
    "train_df =  pd.read_csv(\"IDS_train.csv\")\n",
    "train_df"
   ]
  },
  {
   "cell_type": "markdown",
   "id": "a1f257dd",
   "metadata": {},
   "source": [
    "> ### EDA\n",
    "Exploratory Data Analysis (EDA) is the process of systematically examining and summarizing a dataset to gain insights into the underlying structure and relationships within the data."
   ]
  },
  {
   "cell_type": "code",
   "execution_count": 78,
   "id": "04b88ba6",
   "metadata": {},
   "outputs": [
    {
     "data": {
      "text/plain": [
       "(129879, 80)"
      ]
     },
     "execution_count": 78,
     "metadata": {},
     "output_type": "execute_result"
    }
   ],
   "source": [
    "# shape of the data\n",
    "train_df.shape"
   ]
  },
  {
   "cell_type": "code",
   "execution_count": 3,
   "id": "8af63f2d",
   "metadata": {},
   "outputs": [
    {
     "data": {
      "text/plain": [
       "129679"
      ]
     },
     "execution_count": 3,
     "metadata": {},
     "output_type": "execute_result"
    }
   ],
   "source": [
    "129879-200"
   ]
  },
  {
   "cell_type": "code",
   "execution_count": 79,
   "id": "7095fa65",
   "metadata": {
    "scrolled": false
   },
   "outputs": [
    {
     "name": "stdout",
     "output_type": "stream",
     "text": [
      "<class 'pandas.core.frame.DataFrame'>\n",
      "RangeIndex: 129879 entries, 0 to 129878\n",
      "Data columns (total 80 columns):\n",
      " #   Column                       Non-Null Count   Dtype  \n",
      "---  ------                       --------------   -----  \n",
      " 0   ID                           129879 non-null  int64  \n",
      " 1   Destination Port             129879 non-null  int64  \n",
      " 2   Flow Duration                129879 non-null  int64  \n",
      " 3   Total Fwd Packets            129879 non-null  int64  \n",
      " 4   Total Backward Packets       129879 non-null  int64  \n",
      " 5   Total Length of Fwd Packets  129879 non-null  int64  \n",
      " 6   Total Length of Bwd Packets  129879 non-null  int64  \n",
      " 7   Fwd Packet Length Max        129879 non-null  int64  \n",
      " 8   Fwd Packet Length Min        129879 non-null  int64  \n",
      " 9   Fwd Packet Length Mean       129879 non-null  float64\n",
      " 10  Fwd Packet Length Std        129879 non-null  float64\n",
      " 11  Bwd Packet Length Max        129879 non-null  int64  \n",
      " 12  Bwd Packet Length Min        129879 non-null  int64  \n",
      " 13  Bwd Packet Length Mean       129879 non-null  float64\n",
      " 14  Bwd Packet Length Std        129879 non-null  float64\n",
      " 15  Flow Bytes/s                 129679 non-null  float64\n",
      " 16  Flow Packets/s               129879 non-null  float64\n",
      " 17  Flow IAT Mean                129879 non-null  float64\n",
      " 18  Flow IAT Std                 129879 non-null  float64\n",
      " 19  Flow IAT Max                 129879 non-null  int64  \n",
      " 20  Flow IAT Min                 129879 non-null  int64  \n",
      " 21  Fwd IAT Total                129879 non-null  int64  \n",
      " 22  Fwd IAT Mean                 129879 non-null  float64\n",
      " 23  Fwd IAT Std                  129879 non-null  float64\n",
      " 24  Fwd IAT Max                  129879 non-null  int64  \n",
      " 25  Fwd IAT Min                  129879 non-null  int64  \n",
      " 26  Bwd IAT Total                129879 non-null  int64  \n",
      " 27  Bwd IAT Mean                 129879 non-null  float64\n",
      " 28  Bwd IAT Std                  129879 non-null  float64\n",
      " 29  Bwd IAT Max                  129879 non-null  int64  \n",
      " 30  Bwd IAT Min                  129879 non-null  int64  \n",
      " 31  Fwd PSH Flags                129879 non-null  int64  \n",
      " 32  Bwd PSH Flags                129879 non-null  int64  \n",
      " 33  Fwd URG Flags                129879 non-null  int64  \n",
      " 34  Bwd URG Flags                129879 non-null  int64  \n",
      " 35  Fwd Header Length            129879 non-null  int64  \n",
      " 36  Bwd Header Length            129879 non-null  int64  \n",
      " 37  Fwd Packets/s                129879 non-null  float64\n",
      " 38  Bwd Packets/s                129879 non-null  float64\n",
      " 39  Min Packet Length            129879 non-null  int64  \n",
      " 40  Max Packet Length            129879 non-null  int64  \n",
      " 41  Packet Length Mean           129879 non-null  float64\n",
      " 42  Packet Length Std            129879 non-null  float64\n",
      " 43  Packet Length Variance       129879 non-null  float64\n",
      " 44  FIN Flag Count               129879 non-null  int64  \n",
      " 45  SYN Flag Count               129879 non-null  int64  \n",
      " 46  RST Flag Count               129879 non-null  int64  \n",
      " 47  PSH Flag Count               129879 non-null  int64  \n",
      " 48  ACK Flag Count               129879 non-null  int64  \n",
      " 49  URG Flag Count               129879 non-null  int64  \n",
      " 50  CWE Flag Count               129879 non-null  int64  \n",
      " 51  ECE Flag Count               129879 non-null  int64  \n",
      " 52  Down/Up Ratio                129879 non-null  int64  \n",
      " 53  Average Packet Size          129879 non-null  float64\n",
      " 54  Avg Fwd Segment Size         129879 non-null  float64\n",
      " 55  Avg Bwd Segment Size         129879 non-null  float64\n",
      " 56  Fwd Header Length.1          129879 non-null  int64  \n",
      " 57  Fwd Avg Bytes/Bulk           129879 non-null  int64  \n",
      " 58  Fwd Avg Packets/Bulk         129879 non-null  int64  \n",
      " 59  Fwd Avg Bulk Rate            129879 non-null  int64  \n",
      " 60  Bwd Avg Bytes/Bulk           129879 non-null  int64  \n",
      " 61  Bwd Avg Packets/Bulk         129879 non-null  int64  \n",
      " 62  Bwd Avg Bulk Rate            129879 non-null  int64  \n",
      " 63  Subflow Fwd Packets          129879 non-null  int64  \n",
      " 64  Subflow Fwd Bytes            129879 non-null  int64  \n",
      " 65  Subflow Bwd Packets          129879 non-null  int64  \n",
      " 66  Subflow Bwd Bytes            129879 non-null  int64  \n",
      " 67  Init_Win_bytes_forward       129879 non-null  int64  \n",
      " 68  Init_Win_bytes_backward      129879 non-null  int64  \n",
      " 69  act_data_pkt_fwd             129879 non-null  int64  \n",
      " 70  min_seg_size_forward         129879 non-null  int64  \n",
      " 71  Active Mean                  129879 non-null  float64\n",
      " 72  Active Std                   129879 non-null  float64\n",
      " 73  Active Max                   129879 non-null  int64  \n",
      " 74  Active Min                   129879 non-null  int64  \n",
      " 75  Idle Mean                    129879 non-null  float64\n",
      " 76  Idle Std                     129879 non-null  float64\n",
      " 77  Idle Max                     129879 non-null  int64  \n",
      " 78  Idle Min                     129879 non-null  int64  \n",
      " 79  Label                        129879 non-null  object \n",
      "dtypes: float64(24), int64(55), object(1)\n",
      "memory usage: 79.3+ MB\n"
     ]
    }
   ],
   "source": [
    "# summary of the data\n",
    "train_df.info()"
   ]
  },
  {
   "cell_type": "markdown",
   "id": "ed748580",
   "metadata": {},
   "source": [
    "### Basic analysis about the target variable"
   ]
  },
  {
   "cell_type": "code",
   "execution_count": 2,
   "id": "a5a3860c",
   "metadata": {},
   "outputs": [
    {
     "ename": "NameError",
     "evalue": "name 'train_df' is not defined",
     "output_type": "error",
     "traceback": [
      "\u001b[1;31m---------------------------------------------------------------------------\u001b[0m",
      "\u001b[1;31mNameError\u001b[0m                                 Traceback (most recent call last)",
      "\u001b[1;32m~\\AppData\\Local\\Temp\\ipykernel_1780\\1597018583.py\u001b[0m in \u001b[0;36m<module>\u001b[1;34m\u001b[0m\n\u001b[1;32m----> 1\u001b[1;33m \u001b[0mtrain_df\u001b[0m\u001b[1;33m[\u001b[0m\u001b[1;34m'Label'\u001b[0m\u001b[1;33m]\u001b[0m\u001b[1;33m\u001b[0m\u001b[1;33m\u001b[0m\u001b[0m\n\u001b[0m",
      "\u001b[1;31mNameError\u001b[0m: name 'train_df' is not defined"
     ]
    }
   ],
   "source": [
    "train_df['Label']"
   ]
  },
  {
   "cell_type": "code",
   "execution_count": 113,
   "id": "30767bd9",
   "metadata": {},
   "outputs": [
    {
     "data": {
      "text/plain": [
       "Label\n",
       "BENIGN              63.552310\n",
       "DoS GoldenEye        1.516822\n",
       "DoS Hulk            33.330763\n",
       "DoS Slowhttptest     0.785015\n",
       "DoS slowloris        0.815090\n",
       "dtype: float64"
      ]
     },
     "execution_count": 113,
     "metadata": {},
     "output_type": "execute_result"
    }
   ],
   "source": [
    "percent_data = (train_df.groupby('Label').size())/train_df.shape[0] * 100\n",
    "percent_data"
   ]
  },
  {
   "cell_type": "code",
   "execution_count": 118,
   "id": "5fef9690",
   "metadata": {},
   "outputs": [
    {
     "data": {
      "text/plain": [
       "Text(0.5, 1.0, 'Attacks type data counts')"
      ]
     },
     "execution_count": 118,
     "metadata": {},
     "output_type": "execute_result"
    },
    {
     "data": {
      "image/png": "[encoded data removed]",
      "text/plain": [
       "<Figure size 720x576 with 1 Axes>"
      ]
     },
     "metadata": {
      "needs_background": "light"
     },
     "output_type": "display_data"
    }
   ],
   "source": [
    "fig = plt.figure(figsize = (10,8))\n",
    "r_ = [round(each, 2) for each in percent_data.values]\n",
    "ax = fig.add_subplot(111)\n",
    "ax.bar(percent_data.index, percent_data.values, color = ['darkred', 'teal', 'gold', 'lightseagreen', \"mediumaquamarine\"], edgecolor = 'black')\n",
    "ax.set_xticklabels(percent_data.index, rotation = 45)\n",
    "ax.set_xlabel(\"Attack type\", fontsize = 20)\n",
    "ax.set_ylabel(\"Count\", fontsize = 20)\n",
    "ax.set_title(\"Attacks type data counts\", fontsize = 20)\n"
   ]
  },
  {
   "cell_type": "code",
   "execution_count": 115,
   "id": "6b4ea1c3",
   "metadata": {},
   "outputs": [
    {
     "data": {
      "image/png": "[encoded data removed]",
      "text/plain": [
       "<Figure size 720x576 with 1 Axes>"
      ]
     },
     "metadata": {},
     "output_type": "display_data"
    }
   ],
   "source": [
    "group_data = train_df.groupby('Label').size()\n",
    "plt.figure(figsize = (10,8))\n",
    "group_data.plot(kind='pie')\n",
    "plt.title(\"Different types of attack types in data\")\n",
    "plt.ylabel(\"\")\n",
    "plt.show()"
   ]
  },
  {
   "cell_type": "markdown",
   "id": "a1f1d122",
   "metadata": {},
   "source": [
    "1.This creates a set of stop words using a variable called \"sw\". Stop words are common words like \"a\", \"an\", \"the\", and so on, that are typically removed from text before analysis.\n",
    "\n",
    "2.This creates a word cloud using the \"WordCloud\" function from the \"wordcloud\" library. The \"stopwords\" argument is set to the stop words created in the previous line. The \"generate\" method is used to generate the word cloud from the \"Label\" column of the \"train_df\" DataFrame. The \"str\" function is used to convert the column to a string, which is required by the \"WordCloud\" function.\n",
    "\n",
    "\n",
    "3.These lines set the size of the plot and the color of the lines in the plot using the \"rcParams\" function from the \"matplotlib\" library.\n",
    "\n",
    "4.These lines display the word cloud using the \"imshow\" function from the \"matplotlib\" library. The title of the plot is set to \"Most Highlighted Flags\", and the axis is turned off using the \"axis\" function. The resulting plot is a visualization of the most common words in the \"Label\" column of the \"train_df\" DataFrame, with the size of each word indicating its frequency."
   ]
  },
  {
   "cell_type": "code",
   "execution_count": 116,
   "id": "81b466a1",
   "metadata": {},
   "outputs": [
    {
     "name": "stdout",
     "output_type": "stream",
     "text": [
      "<wordcloud.wordcloud.WordCloud object at 0x0000026206D10B20>\n"
     ]
    },
    {
     "data": {
      "text/plain": [
       "(-0.5, 399.5, 199.5, -0.5)"
      ]
     },
     "execution_count": 116,
     "metadata": {},
     "output_type": "execute_result"
    },
    {
     "data": {
      "image/png": "[encoded data removed]",
      "text/plain": [
       "<Figure size 1080x576 with 1 Axes>"
      ]
     },
     "metadata": {
      "needs_background": "light"
     },
     "output_type": "display_data"
    }
   ],
   "source": [
    "stop_words = set(sw)\n",
    "\n",
    "word_cloud = wc(stopwords = stop_words).generate(str(train_df['Label']))\n",
    "\n",
    "plt.rcParams['figure.figsize'] = (15, 8)\n",
    "plt.rcParams['lines.color'] = 'gold'\n",
    "print(word_cloud)\n",
    "plt.imshow(word_cloud)\n",
    "plt.title('Most Highlighted Flags', fontsize = 25)\n",
    "plt.axis(\"off\")"
   ]
  },
  {
   "cell_type": "markdown",
   "id": "ce160d3d",
   "metadata": {},
   "source": [
    "    From the all the representation we can see the large share of \"BENING\""
   ]
  },
  {
   "cell_type": "markdown",
   "id": "57310228",
   "metadata": {},
   "source": [
    "# Pre-processing the data"
   ]
  },
  {
   "cell_type": "markdown",
   "id": "6dd8ab5c",
   "metadata": {},
   "source": [
    "#### Checking fo the missing values"
   ]
  },
  {
   "cell_type": "markdown",
   "id": "6dd8df5d",
   "metadata": {},
   "source": [
    "1.The code snippet you provided checks for missing values in each column of a DataFrame called \"train_df\" and returns the sum of missing values for each column. Here's a breakdown of the code:\n",
    "\n",
    "2.This generates a boolean DataFrame of the same shape as \"train_df\", where \"True\" values indicate missing values and \"False\" values indicate non-missing values."
   ]
  },
  {
   "cell_type": "code",
   "execution_count": 80,
   "id": "23816953",
   "metadata": {
    "scrolled": false
   },
   "outputs": [
    {
     "data": {
      "text/plain": [
       "ID                        0\n",
       "Destination Port          0\n",
       "Flow Duration             0\n",
       "Total Fwd Packets         0\n",
       "Total Backward Packets    0\n",
       "                         ..\n",
       "Idle Mean                 0\n",
       "Idle Std                  0\n",
       "Idle Max                  0\n",
       "Idle Min                  0\n",
       "Label                     0\n",
       "Length: 80, dtype: int64"
      ]
     },
     "execution_count": 80,
     "metadata": {},
     "output_type": "execute_result"
    }
   ],
   "source": [
    "train_df.isnull().sum()    # nan"
   ]
  },
  {
   "cell_type": "code",
   "execution_count": 82,
   "id": "3f84e005",
   "metadata": {},
   "outputs": [
    {
     "name": "stdout",
     "output_type": "stream",
     "text": [
      "ID : 0\n",
      "Destination Port : 0\n",
      "Flow Duration : 0\n",
      "Total Fwd Packets : 0\n",
      "Total Backward Packets : 0\n",
      "Total Length of Fwd Packets : 0\n",
      "Total Length of Bwd Packets : 0\n",
      "Fwd Packet Length Max : 0\n",
      "Fwd Packet Length Min : 0\n",
      "Fwd Packet Length Mean : 0\n",
      "Fwd Packet Length Std : 0\n",
      "Bwd Packet Length Max : 0\n",
      "Bwd Packet Length Min : 0\n",
      "Bwd Packet Length Mean : 0\n",
      "Bwd Packet Length Std : 0\n",
      "Flow Bytes/s : 200\n",
      "Flow Packets/s : 0\n",
      "Flow IAT Mean : 0\n",
      "Flow IAT Std : 0\n",
      "Flow IAT Max : 0\n",
      "Flow IAT Min : 0\n",
      "Fwd IAT Total : 0\n",
      "Fwd IAT Mean : 0\n",
      "Fwd IAT Std : 0\n",
      "Fwd IAT Max : 0\n",
      "Fwd IAT Min : 0\n",
      "Bwd IAT Total : 0\n",
      "Bwd IAT Mean : 0\n",
      "Bwd IAT Std : 0\n",
      "Bwd IAT Max : 0\n",
      "Bwd IAT Min : 0\n",
      "Fwd PSH Flags : 0\n",
      "Bwd PSH Flags : 0\n",
      "Fwd URG Flags : 0\n",
      "Bwd URG Flags : 0\n",
      "Fwd Header Length : 0\n",
      "Bwd Header Length : 0\n",
      "Fwd Packets/s : 0\n",
      "Bwd Packets/s : 0\n",
      "Min Packet Length : 0\n",
      "Max Packet Length : 0\n",
      "Packet Length Mean : 0\n",
      "Packet Length Std : 0\n",
      "Packet Length Variance : 0\n",
      "FIN Flag Count : 0\n",
      "SYN Flag Count : 0\n",
      "RST Flag Count : 0\n",
      "PSH Flag Count : 0\n",
      "ACK Flag Count : 0\n",
      "URG Flag Count : 0\n",
      "CWE Flag Count : 0\n",
      "ECE Flag Count : 0\n",
      "Down/Up Ratio : 0\n",
      "Average Packet Size : 0\n",
      "Avg Fwd Segment Size : 0\n",
      "Avg Bwd Segment Size : 0\n",
      "Fwd Header Length.1 : 0\n",
      "Fwd Avg Bytes/Bulk : 0\n",
      "Fwd Avg Packets/Bulk : 0\n",
      "Fwd Avg Bulk Rate : 0\n",
      "Bwd Avg Bytes/Bulk : 0\n",
      "Bwd Avg Packets/Bulk : 0\n",
      "Bwd Avg Bulk Rate : 0\n",
      "Subflow Fwd Packets : 0\n",
      "Subflow Fwd Bytes : 0\n",
      "Subflow Bwd Packets : 0\n",
      "Subflow Bwd Bytes : 0\n",
      "Init_Win_bytes_forward : 0\n",
      "Init_Win_bytes_backward : 0\n",
      "act_data_pkt_fwd : 0\n",
      "min_seg_size_forward : 0\n",
      "Active Mean : 0\n",
      "Active Std : 0\n",
      "Active Max : 0\n",
      "Active Min : 0\n",
      "Idle Mean : 0\n",
      "Idle Std : 0\n",
      "Idle Max : 0\n",
      "Idle Min : 0\n",
      "Label : 0\n"
     ]
    }
   ],
   "source": [
    "columns = train_df.columns\n",
    "count = 0\n",
    "for i in train_df.isnull().sum():\n",
    "    print(\"{} : {}\".format(columns[count],i))\n",
    "    count+=1"
   ]
  },
  {
   "cell_type": "markdown",
   "id": "26359a1e",
   "metadata": {},
   "source": [
    "    We can see that there are 200 missing values in \" Flow Bytes/s \" column. so, we want to drop them."
   ]
  },
  {
   "cell_type": "markdown",
   "id": "d9d30b20",
   "metadata": {},
   "source": [
    "#### Deopping the NULL recards"
   ]
  },
  {
   "cell_type": "code",
   "execution_count": 83,
   "id": "0986d430",
   "metadata": {},
   "outputs": [],
   "source": [
    "train_df = train_df.dropna()   # 200"
   ]
  },
  {
   "cell_type": "code",
   "execution_count": 84,
   "id": "05285d97",
   "metadata": {},
   "outputs": [
    {
     "data": {
      "text/plain": [
       "(129679, 80)"
      ]
     },
     "execution_count": 84,
     "metadata": {},
     "output_type": "execute_result"
    }
   ],
   "source": [
    "train_df.shape     # (129879)-200"
   ]
  },
  {
   "cell_type": "markdown",
   "id": "633f0b15",
   "metadata": {},
   "source": [
    "    we can see that, the number of records reduced to 129679 from 129879"
   ]
  },
  {
   "cell_type": "markdown",
   "id": "ddd2d3a0",
   "metadata": {},
   "source": [
    "#### Encoding the categorical columns into numeric"
   ]
  },
  {
   "cell_type": "code",
   "execution_count": 85,
   "id": "5dec95ad",
   "metadata": {},
   "outputs": [],
   "source": [
    "def attack_encode(value):\n",
    "    if value == 'BENIGN':\n",
    "        return 0;\n",
    "    elif value == \"DoS Slowhttptest\":\n",
    "        return 1;\n",
    "    elif value == 'DoS Hulk':\n",
    "        return 2;\n",
    "    elif value == 'DoS GoldenEye':\n",
    "        return 3;\n",
    "    else:\n",
    "        return 4;\n"
   ]
  },
  {
   "cell_type": "code",
   "execution_count": 86,
   "id": "b72f4606",
   "metadata": {
    "scrolled": true
   },
   "outputs": [
    {
     "data": {
      "text/html": [
       "<div>\n",
       "<style scoped>\n",
       "    .dataframe tbody tr th:only-of-type {\n",
       "        vertical-align: middle;\n",
       "    }\n",
       "\n",
       "    .dataframe tbody tr th {\n",
       "        vertical-align: top;\n",
       "    }\n",
       "\n",
       "    .dataframe thead th {\n",
       "        text-align: right;\n",
       "    }\n",
       "</style>\n",
       "<table border=\"1\" class=\"dataframe\">\n",
       "  <thead>\n",
       "    <tr style=\"text-align: right;\">\n",
       "      <th></th>\n",
       "      <th>Label</th>\n",
       "      <th>intrusion_code</th>\n",
       "    </tr>\n",
       "  </thead>\n",
       "  <tbody>\n",
       "    <tr>\n",
       "      <th>0</th>\n",
       "      <td>BENIGN</td>\n",
       "      <td>0</td>\n",
       "    </tr>\n",
       "    <tr>\n",
       "      <th>1</th>\n",
       "      <td>DoS Slowhttptest</td>\n",
       "      <td>1</td>\n",
       "    </tr>\n",
       "    <tr>\n",
       "      <th>2</th>\n",
       "      <td>DoS Hulk</td>\n",
       "      <td>2</td>\n",
       "    </tr>\n",
       "    <tr>\n",
       "      <th>3</th>\n",
       "      <td>BENIGN</td>\n",
       "      <td>0</td>\n",
       "    </tr>\n",
       "    <tr>\n",
       "      <th>4</th>\n",
       "      <td>DoS Hulk</td>\n",
       "      <td>2</td>\n",
       "    </tr>\n",
       "    <tr>\n",
       "      <th>5</th>\n",
       "      <td>BENIGN</td>\n",
       "      <td>0</td>\n",
       "    </tr>\n",
       "    <tr>\n",
       "      <th>6</th>\n",
       "      <td>BENIGN</td>\n",
       "      <td>0</td>\n",
       "    </tr>\n",
       "    <tr>\n",
       "      <th>7</th>\n",
       "      <td>DoS Hulk</td>\n",
       "      <td>2</td>\n",
       "    </tr>\n",
       "    <tr>\n",
       "      <th>8</th>\n",
       "      <td>BENIGN</td>\n",
       "      <td>0</td>\n",
       "    </tr>\n",
       "    <tr>\n",
       "      <th>9</th>\n",
       "      <td>BENIGN</td>\n",
       "      <td>0</td>\n",
       "    </tr>\n",
       "  </tbody>\n",
       "</table>\n",
       "</div>"
      ],
      "text/plain": [
       "              Label  intrusion_code\n",
       "0            BENIGN               0\n",
       "1  DoS Slowhttptest               1\n",
       "2          DoS Hulk               2\n",
       "3            BENIGN               0\n",
       "4          DoS Hulk               2\n",
       "5            BENIGN               0\n",
       "6            BENIGN               0\n",
       "7          DoS Hulk               2\n",
       "8            BENIGN               0\n",
       "9            BENIGN               0"
      ]
     },
     "execution_count": 86,
     "metadata": {},
     "output_type": "execute_result"
    }
   ],
   "source": [
    "train_df['intrusion_code'] = train_df['Label'].apply(attack_encode)\n",
    "train_df.iloc[:10, -2:]   "
   ]
  },
  {
   "cell_type": "code",
   "execution_count": 87,
   "id": "06b7173f",
   "metadata": {},
   "outputs": [
    {
     "data": {
      "text/plain": [
       "['Fwd Packet Length Mean',\n",
       " 'Fwd Packet Length Std',\n",
       " 'Bwd Packet Length Mean',\n",
       " 'Bwd Packet Length Std',\n",
       " 'Flow Bytes/s',\n",
       " 'Flow Packets/s',\n",
       " 'Flow IAT Mean',\n",
       " 'Flow IAT Std',\n",
       " 'Fwd IAT Mean',\n",
       " 'Fwd IAT Std',\n",
       " 'Bwd IAT Mean',\n",
       " 'Bwd IAT Std',\n",
       " 'Fwd Packets/s',\n",
       " 'Bwd Packets/s',\n",
       " 'Packet Length Mean',\n",
       " 'Packet Length Std',\n",
       " 'Packet Length Variance',\n",
       " 'Average Packet Size',\n",
       " 'Avg Fwd Segment Size',\n",
       " 'Avg Bwd Segment Size',\n",
       " 'Active Mean',\n",
       " 'Active Std',\n",
       " 'Idle Mean',\n",
       " 'Idle Std']"
      ]
     },
     "execution_count": 87,
     "metadata": {},
     "output_type": "execute_result"
    }
   ],
   "source": [
    "numerical_cols = [one for each,one in zip(list(train_df.dtypes),train_df.dtypes.index)  if each == 'float64']\n",
    "numerical_cols"
   ]
  },
  {
   "cell_type": "code",
   "execution_count": 88,
   "id": "8dc3bf13",
   "metadata": {},
   "outputs": [],
   "source": [
    "train_df = train_df.drop(numerical_cols,axis = 1)\n"
   ]
  },
  {
   "cell_type": "markdown",
   "id": "6634d062",
   "metadata": {},
   "source": [
    "# Modeling Building"
   ]
  },
  {
   "cell_type": "markdown",
   "id": "db54a9a7",
   "metadata": {},
   "source": [
    "#### Eztracting the features"
   ]
  },
  {
   "cell_type": "code",
   "execution_count": 89,
   "id": "cdd987b3",
   "metadata": {},
   "outputs": [],
   "source": [
    "X = train_df.drop(['intrusion_code','Label'],axis = 1)    #    81-80 \n",
    "y = train_df['intrusion_code']     # dep   "
   ]
  },
  {
   "cell_type": "code",
   "execution_count": 90,
   "id": "8a2e098d",
   "metadata": {},
   "outputs": [
    {
     "name": "stdout",
     "output_type": "stream",
     "text": [
      "(129679, 55)\n",
      "(129679,)\n"
     ]
    }
   ],
   "source": [
    "print(X.shape)\n",
    "print(y.shape)"
   ]
  },
  {
   "cell_type": "markdown",
   "id": "534d2edb",
   "metadata": {},
   "source": [
    "#### Spliting the data"
   ]
  },
  {
   "cell_type": "code",
   "execution_count": 91,
   "id": "e862c5d1",
   "metadata": {},
   "outputs": [],
   "source": [
    "X_train, X_test, y_train, y_test = train_test_split(X, y, test_size=0.3, random_state=13) "
   ]
  },
  {
   "cell_type": "code",
   "execution_count": 92,
   "id": "ea463e90",
   "metadata": {},
   "outputs": [
    {
     "name": "stdout",
     "output_type": "stream",
     "text": [
      "(90775, 55)\n",
      "(38904, 55)\n",
      "(90775,)\n",
      "(38904,)\n"
     ]
    }
   ],
   "source": [
    "print(X_train.shape)\n",
    "print(X_test.shape)\n",
    "print(y_train.shape)\n",
    "print(y_test.shape)\n"
   ]
  },
  {
   "cell_type": "code",
   "execution_count": null,
   "id": "9d35ebd0",
   "metadata": {},
   "outputs": [],
   "source": [
    "dtree = DecisionTreeClassifier()"
   ]
  },
  {
   "cell_type": "code",
   "execution_count": null,
   "id": "e6105123",
   "metadata": {},
   "outputs": [],
   "source": [
    "dtree.fit(X_train,y_train)"
   ]
  },
  {
   "cell_type": "markdown",
   "id": "1b64e2fe",
   "metadata": {},
   "source": [
    "# Predictions and Evaluation of Decision Tree\n",
    "Create predictions from the test set and create a classification report and a confusion matrix."
   ]
  },
  {
   "cell_type": "code",
   "execution_count": 95,
   "id": "a351da22",
   "metadata": {},
   "outputs": [
    {
     "name": "stdout",
     "output_type": "stream",
     "text": [
      "              precision    recall  f1-score   support\n",
      "\n",
      "           0       1.00      1.00      1.00     24797\n",
      "           1       0.99      0.99      0.99       293\n",
      "           2       1.00      1.00      1.00     12905\n",
      "           3       0.99      0.99      0.99       598\n",
      "           4       0.96      0.96      0.96       311\n",
      "\n",
      "    accuracy                           1.00     38904\n",
      "   macro avg       0.99      0.99      0.99     38904\n",
      "weighted avg       1.00      1.00      1.00     38904\n",
      "\n"
     ]
    }
   ],
   "source": [
    "predictions = dtree.predict(X_test)\n",
    "print(classification_report(y_test,predictions))"
   ]
  },
  {
   "cell_type": "code",
   "execution_count": 96,
   "id": "1996be62",
   "metadata": {},
   "outputs": [
    {
     "name": "stdout",
     "output_type": "stream",
     "text": [
      "[[24763     1    14     7    12]\n",
      " [    1   291     0     0     1]\n",
      " [   11     0 12893     1     0]\n",
      " [    5     0     3   590     0]\n",
      " [    8     3     0     0   300]]\n"
     ]
    }
   ],
   "source": [
    "cm=confusion_matrix(y_test,predictions)\n",
    "print(cm)\n"
   ]
  },
  {
   "cell_type": "code",
   "execution_count": 97,
   "id": "054799ce",
   "metadata": {},
   "outputs": [
    {
     "name": "stdout",
     "output_type": "stream",
     "text": [
      "Accuracy of prediction: 0.998\n"
     ]
    }
   ],
   "source": [
    "print (\"Accuracy of prediction:\",round((cm[0,0]+cm[1,1]+cm[2,2]+cm[3,3]+cm[4,4])/cm.sum(),3))"
   ]
  },
  {
   "cell_type": "code",
   "execution_count": 98,
   "id": "a7099598",
   "metadata": {},
   "outputs": [
    {
     "data": {
      "text/plain": [
       "<sklearn.metrics._plot.confusion_matrix.ConfusionMatrixDisplay at 0x2624d438070>"
      ]
     },
     "execution_count": 98,
     "metadata": {},
     "output_type": "execute_result"
    },
    {
     "data": {
      "image/png": "[encoded data removed]",
      "text/plain": [
       "<Figure size 432x288 with 2 Axes>"
      ]
     },
     "metadata": {
      "needs_background": "light"
     },
     "output_type": "display_data"
    }
   ],
   "source": [
    "metrics.classification_report(y_test,predictions)\n",
    "metrics.plot_confusion_matrix(dtree, X_test, y_test)  "
   ]
  },
  {
   "cell_type": "markdown",
   "id": "7e34d521",
   "metadata": {},
   "source": [
    "# Test Dataset"
   ]
  },
  {
   "cell_type": "markdown",
   "id": "f08c7cc3",
   "metadata": {},
   "source": [
    "#### Reading the dataset"
   ]
  },
  {
   "cell_type": "code",
   "execution_count": 71,
   "id": "abe04cee",
   "metadata": {},
   "outputs": [
    {
     "name": "stdout",
     "output_type": "stream",
     "text": [
      "<class 'pandas.core.frame.DataFrame'>\n",
      "RangeIndex: 43294 entries, 0 to 43293\n",
      "Data columns (total 79 columns):\n",
      " #   Column                       Non-Null Count  Dtype  \n",
      "---  ------                       --------------  -----  \n",
      " 0   ID                           43294 non-null  int64  \n",
      " 1   Destination Port             43294 non-null  int64  \n",
      " 2   Flow Duration                43294 non-null  int64  \n",
      " 3   Total Fwd Packets            43294 non-null  int64  \n",
      " 4   Total Backward Packets       43294 non-null  int64  \n",
      " 5   Total Length of Fwd Packets  43294 non-null  int64  \n",
      " 6   Total Length of Bwd Packets  43294 non-null  int64  \n",
      " 7   Fwd Packet Length Max        43294 non-null  int64  \n",
      " 8   Fwd Packet Length Min        43294 non-null  int64  \n",
      " 9   Fwd Packet Length Mean       43294 non-null  float64\n",
      " 10  Fwd Packet Length Std        43294 non-null  float64\n",
      " 11  Bwd Packet Length Max        43294 non-null  int64  \n",
      " 12  Bwd Packet Length Min        43294 non-null  int64  \n",
      " 13  Bwd Packet Length Mean       43294 non-null  float64\n",
      " 14  Bwd Packet Length Std        43294 non-null  float64\n",
      " 15  Flow Bytes/s                 43238 non-null  float64\n",
      " 16  Flow Packets/s               43294 non-null  float64\n",
      " 17  Flow IAT Mean                43294 non-null  float64\n",
      " 18  Flow IAT Std                 43294 non-null  float64\n",
      " 19  Flow IAT Max                 43294 non-null  int64  \n",
      " 20  Flow IAT Min                 43294 non-null  int64  \n",
      " 21  Fwd IAT Total                43294 non-null  int64  \n",
      " 22  Fwd IAT Mean                 43294 non-null  float64\n",
      " 23  Fwd IAT Std                  43294 non-null  float64\n",
      " 24  Fwd IAT Max                  43294 non-null  int64  \n",
      " 25  Fwd IAT Min                  43294 non-null  int64  \n",
      " 26  Bwd IAT Total                43294 non-null  int64  \n",
      " 27  Bwd IAT Mean                 43294 non-null  float64\n",
      " 28  Bwd IAT Std                  43294 non-null  float64\n",
      " 29  Bwd IAT Max                  43294 non-null  int64  \n",
      " 30  Bwd IAT Min                  43294 non-null  int64  \n",
      " 31  Fwd PSH Flags                43294 non-null  int64  \n",
      " 32  Bwd PSH Flags                43294 non-null  int64  \n",
      " 33  Fwd URG Flags                43294 non-null  int64  \n",
      " 34  Bwd URG Flags                43294 non-null  int64  \n",
      " 35  Fwd Header Length            43294 non-null  int64  \n",
      " 36  Bwd Header Length            43294 non-null  int64  \n",
      " 37  Fwd Packets/s                43294 non-null  float64\n",
      " 38  Bwd Packets/s                43294 non-null  float64\n",
      " 39  Min Packet Length            43294 non-null  int64  \n",
      " 40  Max Packet Length            43294 non-null  int64  \n",
      " 41  Packet Length Mean           43294 non-null  float64\n",
      " 42  Packet Length Std            43294 non-null  float64\n",
      " 43  Packet Length Variance       43294 non-null  float64\n",
      " 44  FIN Flag Count               43294 non-null  int64  \n",
      " 45  SYN Flag Count               43294 non-null  int64  \n",
      " 46  RST Flag Count               43294 non-null  int64  \n",
      " 47  PSH Flag Count               43294 non-null  int64  \n",
      " 48  ACK Flag Count               43294 non-null  int64  \n",
      " 49  URG Flag Count               43294 non-null  int64  \n",
      " 50  CWE Flag Count               43294 non-null  int64  \n",
      " 51  ECE Flag Count               43294 non-null  int64  \n",
      " 52  Down/Up Ratio                43294 non-null  int64  \n",
      " 53  Average Packet Size          43294 non-null  float64\n",
      " 54  Avg Fwd Segment Size         43294 non-null  float64\n",
      " 55  Avg Bwd Segment Size         43294 non-null  float64\n",
      " 56  Fwd Header Length.1          43294 non-null  int64  \n",
      " 57  Fwd Avg Bytes/Bulk           43294 non-null  int64  \n",
      " 58  Fwd Avg Packets/Bulk         43294 non-null  int64  \n",
      " 59  Fwd Avg Bulk Rate            43294 non-null  int64  \n",
      " 60  Bwd Avg Bytes/Bulk           43294 non-null  int64  \n",
      " 61  Bwd Avg Packets/Bulk         43294 non-null  int64  \n",
      " 62  Bwd Avg Bulk Rate            43294 non-null  int64  \n",
      " 63  Subflow Fwd Packets          43294 non-null  int64  \n",
      " 64  Subflow Fwd Bytes            43294 non-null  int64  \n",
      " 65  Subflow Bwd Packets          43294 non-null  int64  \n",
      " 66  Subflow Bwd Bytes            43294 non-null  int64  \n",
      " 67  Init_Win_bytes_forward       43294 non-null  int64  \n",
      " 68  Init_Win_bytes_backward      43294 non-null  int64  \n",
      " 69  act_data_pkt_fwd             43294 non-null  int64  \n",
      " 70  min_seg_size_forward         43294 non-null  int64  \n",
      " 71  Active Mean                  43294 non-null  float64\n",
      " 72  Active Std                   43294 non-null  float64\n",
      " 73  Active Max                   43294 non-null  int64  \n",
      " 74  Active Min                   43294 non-null  int64  \n",
      " 75  Idle Mean                    43294 non-null  float64\n",
      " 76  Idle Std                     43294 non-null  float64\n",
      " 77  Idle Max                     43294 non-null  int64  \n",
      " 78  Idle Min                     43294 non-null  int64  \n",
      "dtypes: float64(24), int64(55)\n",
      "memory usage: 26.1 MB\n"
     ]
    }
   ],
   "source": [
    "test_df =  pd.read_csv(\"IDS_test.csv\")\n",
    "test_df.info()"
   ]
  },
  {
   "cell_type": "markdown",
   "id": "b756f53f",
   "metadata": {},
   "source": [
    "# Data Pre-processing"
   ]
  },
  {
   "cell_type": "code",
   "execution_count": 72,
   "id": "de6f9805",
   "metadata": {},
   "outputs": [
    {
     "name": "stdout",
     "output_type": "stream",
     "text": [
      "<class 'pandas.core.frame.DataFrame'>\n",
      "RangeIndex: 43294 entries, 0 to 43293\n",
      "Data columns (total 79 columns):\n",
      " #   Column                       Non-Null Count  Dtype  \n",
      "---  ------                       --------------  -----  \n",
      " 0   ID                           43294 non-null  int64  \n",
      " 1   Destination Port             43294 non-null  int64  \n",
      " 2   Flow Duration                43294 non-null  int64  \n",
      " 3   Total Fwd Packets            43294 non-null  int64  \n",
      " 4   Total Backward Packets       43294 non-null  int64  \n",
      " 5   Total Length of Fwd Packets  43294 non-null  int64  \n",
      " 6   Total Length of Bwd Packets  43294 non-null  int64  \n",
      " 7   Fwd Packet Length Max        43294 non-null  int64  \n",
      " 8   Fwd Packet Length Min        43294 non-null  int64  \n",
      " 9   Fwd Packet Length Mean       43294 non-null  float64\n",
      " 10  Fwd Packet Length Std        43294 non-null  float64\n",
      " 11  Bwd Packet Length Max        43294 non-null  int64  \n",
      " 12  Bwd Packet Length Min        43294 non-null  int64  \n",
      " 13  Bwd Packet Length Mean       43294 non-null  float64\n",
      " 14  Bwd Packet Length Std        43294 non-null  float64\n",
      " 15  Flow Bytes/s                 43238 non-null  float64\n",
      " 16  Flow Packets/s               43294 non-null  float64\n",
      " 17  Flow IAT Mean                43294 non-null  float64\n",
      " 18  Flow IAT Std                 43294 non-null  float64\n",
      " 19  Flow IAT Max                 43294 non-null  int64  \n",
      " 20  Flow IAT Min                 43294 non-null  int64  \n",
      " 21  Fwd IAT Total                43294 non-null  int64  \n",
      " 22  Fwd IAT Mean                 43294 non-null  float64\n",
      " 23  Fwd IAT Std                  43294 non-null  float64\n",
      " 24  Fwd IAT Max                  43294 non-null  int64  \n",
      " 25  Fwd IAT Min                  43294 non-null  int64  \n",
      " 26  Bwd IAT Total                43294 non-null  int64  \n",
      " 27  Bwd IAT Mean                 43294 non-null  float64\n",
      " 28  Bwd IAT Std                  43294 non-null  float64\n",
      " 29  Bwd IAT Max                  43294 non-null  int64  \n",
      " 30  Bwd IAT Min                  43294 non-null  int64  \n",
      " 31  Fwd PSH Flags                43294 non-null  int64  \n",
      " 32  Bwd PSH Flags                43294 non-null  int64  \n",
      " 33  Fwd URG Flags                43294 non-null  int64  \n",
      " 34  Bwd URG Flags                43294 non-null  int64  \n",
      " 35  Fwd Header Length            43294 non-null  int64  \n",
      " 36  Bwd Header Length            43294 non-null  int64  \n",
      " 37  Fwd Packets/s                43294 non-null  float64\n",
      " 38  Bwd Packets/s                43294 non-null  float64\n",
      " 39  Min Packet Length            43294 non-null  int64  \n",
      " 40  Max Packet Length            43294 non-null  int64  \n",
      " 41  Packet Length Mean           43294 non-null  float64\n",
      " 42  Packet Length Std            43294 non-null  float64\n",
      " 43  Packet Length Variance       43294 non-null  float64\n",
      " 44  FIN Flag Count               43294 non-null  int64  \n",
      " 45  SYN Flag Count               43294 non-null  int64  \n",
      " 46  RST Flag Count               43294 non-null  int64  \n",
      " 47  PSH Flag Count               43294 non-null  int64  \n",
      " 48  ACK Flag Count               43294 non-null  int64  \n",
      " 49  URG Flag Count               43294 non-null  int64  \n",
      " 50  CWE Flag Count               43294 non-null  int64  \n",
      " 51  ECE Flag Count               43294 non-null  int64  \n",
      " 52  Down/Up Ratio                43294 non-null  int64  \n",
      " 53  Average Packet Size          43294 non-null  float64\n",
      " 54  Avg Fwd Segment Size         43294 non-null  float64\n",
      " 55  Avg Bwd Segment Size         43294 non-null  float64\n",
      " 56  Fwd Header Length.1          43294 non-null  int64  \n",
      " 57  Fwd Avg Bytes/Bulk           43294 non-null  int64  \n",
      " 58  Fwd Avg Packets/Bulk         43294 non-null  int64  \n",
      " 59  Fwd Avg Bulk Rate            43294 non-null  int64  \n",
      " 60  Bwd Avg Bytes/Bulk           43294 non-null  int64  \n",
      " 61  Bwd Avg Packets/Bulk         43294 non-null  int64  \n",
      " 62  Bwd Avg Bulk Rate            43294 non-null  int64  \n",
      " 63  Subflow Fwd Packets          43294 non-null  int64  \n",
      " 64  Subflow Fwd Bytes            43294 non-null  int64  \n",
      " 65  Subflow Bwd Packets          43294 non-null  int64  \n",
      " 66  Subflow Bwd Bytes            43294 non-null  int64  \n",
      " 67  Init_Win_bytes_forward       43294 non-null  int64  \n",
      " 68  Init_Win_bytes_backward      43294 non-null  int64  \n",
      " 69  act_data_pkt_fwd             43294 non-null  int64  \n",
      " 70  min_seg_size_forward         43294 non-null  int64  \n",
      " 71  Active Mean                  43294 non-null  float64\n",
      " 72  Active Std                   43294 non-null  float64\n",
      " 73  Active Max                   43294 non-null  int64  \n",
      " 74  Active Min                   43294 non-null  int64  \n",
      " 75  Idle Mean                    43294 non-null  float64\n",
      " 76  Idle Std                     43294 non-null  float64\n",
      " 77  Idle Max                     43294 non-null  int64  \n",
      " 78  Idle Min                     43294 non-null  int64  \n",
      "dtypes: float64(24), int64(55)\n",
      "memory usage: 26.1 MB\n"
     ]
    }
   ],
   "source": [
    "test_df.info()"
   ]
  },
  {
   "cell_type": "code",
   "execution_count": 73,
   "id": "eda65e2b",
   "metadata": {},
   "outputs": [
    {
     "data": {
      "text/plain": [
       "ID                        0\n",
       "Destination Port          0\n",
       "Flow Duration             0\n",
       "Total Fwd Packets         0\n",
       "Total Backward Packets    0\n",
       "                         ..\n",
       "Active Min                0\n",
       "Idle Mean                 0\n",
       "Idle Std                  0\n",
       "Idle Max                  0\n",
       "Idle Min                  0\n",
       "Length: 79, dtype: int64"
      ]
     },
     "execution_count": 73,
     "metadata": {},
     "output_type": "execute_result"
    }
   ],
   "source": [
    "test_df.isnull().sum()"
   ]
  },
  {
   "cell_type": "code",
   "execution_count": 74,
   "id": "f5c460d3",
   "metadata": {
    "scrolled": true
   },
   "outputs": [
    {
     "name": "stdout",
     "output_type": "stream",
     "text": [
      "ID : 0\n",
      "Destination Port : 0\n",
      "Flow Duration : 0\n",
      "Total Fwd Packets : 0\n",
      "Total Backward Packets : 0\n",
      "Total Length of Fwd Packets : 0\n",
      "Total Length of Bwd Packets : 0\n",
      "Fwd Packet Length Max : 0\n",
      "Fwd Packet Length Min : 0\n",
      "Fwd Packet Length Mean : 0\n",
      "Fwd Packet Length Std : 0\n",
      "Bwd Packet Length Max : 0\n",
      "Bwd Packet Length Min : 0\n",
      "Bwd Packet Length Mean : 0\n",
      "Bwd Packet Length Std : 0\n",
      "Flow Bytes/s : 56\n",
      "Flow Packets/s : 0\n",
      "Flow IAT Mean : 0\n",
      "Flow IAT Std : 0\n",
      "Flow IAT Max : 0\n",
      "Flow IAT Min : 0\n",
      "Fwd IAT Total : 0\n",
      "Fwd IAT Mean : 0\n",
      "Fwd IAT Std : 0\n",
      "Fwd IAT Max : 0\n",
      "Fwd IAT Min : 0\n",
      "Bwd IAT Total : 0\n",
      "Bwd IAT Mean : 0\n",
      "Bwd IAT Std : 0\n",
      "Bwd IAT Max : 0\n",
      "Bwd IAT Min : 0\n",
      "Fwd PSH Flags : 0\n",
      "Bwd PSH Flags : 0\n",
      "Fwd URG Flags : 0\n",
      "Bwd URG Flags : 0\n",
      "Fwd Header Length : 0\n",
      "Bwd Header Length : 0\n",
      "Fwd Packets/s : 0\n",
      "Bwd Packets/s : 0\n",
      "Min Packet Length : 0\n",
      "Max Packet Length : 0\n",
      "Packet Length Mean : 0\n",
      "Packet Length Std : 0\n",
      "Packet Length Variance : 0\n",
      "FIN Flag Count : 0\n",
      "SYN Flag Count : 0\n",
      "RST Flag Count : 0\n",
      "PSH Flag Count : 0\n",
      "ACK Flag Count : 0\n",
      "URG Flag Count : 0\n",
      "CWE Flag Count : 0\n",
      "ECE Flag Count : 0\n",
      "Down/Up Ratio : 0\n",
      "Average Packet Size : 0\n",
      "Avg Fwd Segment Size : 0\n",
      "Avg Bwd Segment Size : 0\n",
      "Fwd Header Length.1 : 0\n",
      "Fwd Avg Bytes/Bulk : 0\n",
      "Fwd Avg Packets/Bulk : 0\n",
      "Fwd Avg Bulk Rate : 0\n",
      "Bwd Avg Bytes/Bulk : 0\n",
      "Bwd Avg Packets/Bulk : 0\n",
      "Bwd Avg Bulk Rate : 0\n",
      "Subflow Fwd Packets : 0\n",
      "Subflow Fwd Bytes : 0\n",
      "Subflow Bwd Packets : 0\n",
      "Subflow Bwd Bytes : 0\n",
      "Init_Win_bytes_forward : 0\n",
      "Init_Win_bytes_backward : 0\n",
      "act_data_pkt_fwd : 0\n",
      "min_seg_size_forward : 0\n",
      "Active Mean : 0\n",
      "Active Std : 0\n",
      "Active Max : 0\n",
      "Active Min : 0\n",
      "Idle Mean : 0\n",
      "Idle Std : 0\n",
      "Idle Max : 0\n",
      "Idle Min : 0\n"
     ]
    }
   ],
   "source": [
    "columns = test_df.columns\n",
    "count = 0\n",
    "for i in test_df.isnull().sum():\n",
    "    print(\"{} : {}\".format(columns[count],i))\n",
    "    count+=1"
   ]
  },
  {
   "cell_type": "markdown",
   "id": "eb8b5e9f",
   "metadata": {},
   "source": [
    "    There are missing values in Flow Bytes/s, we have to drop them"
   ]
  },
  {
   "cell_type": "code",
   "execution_count": 75,
   "id": "dab27766",
   "metadata": {},
   "outputs": [],
   "source": [
    "test_df = test_df.dropna()\n"
   ]
  },
  {
   "cell_type": "code",
   "execution_count": 76,
   "id": "46f4bae7",
   "metadata": {},
   "outputs": [],
   "source": [
    "numerical_cols = [one for each,one in zip(list(test_df.dtypes),test_df.dtypes.index)  if each == 'float64']\n",
    "test_df = test_df.drop(numerical_cols,axis = 1)\n"
   ]
  },
  {
   "cell_type": "code",
   "execution_count": 99,
   "id": "0621a803",
   "metadata": {},
   "outputs": [
    {
     "data": {
      "text/plain": [
       "(129679, 55)"
      ]
     },
     "execution_count": 99,
     "metadata": {},
     "output_type": "execute_result"
    }
   ],
   "source": [
    "X.shape"
   ]
  },
  {
   "cell_type": "code",
   "execution_count": 100,
   "id": "cc3ac27d",
   "metadata": {},
   "outputs": [
    {
     "data": {
      "text/plain": [
       "(43238, 55)"
      ]
     },
     "execution_count": 100,
     "metadata": {},
     "output_type": "execute_result"
    }
   ],
   "source": [
    "test_df.shape"
   ]
  },
  {
   "cell_type": "markdown",
   "id": "48073445",
   "metadata": {},
   "source": [
    "#### Predictions for the test dataset"
   ]
  },
  {
   "cell_type": "code",
   "execution_count": 101,
   "id": "81b3d1a0",
   "metadata": {},
   "outputs": [],
   "source": [
    "predictions = dtree.predict(test_df)\n"
   ]
  },
  {
   "cell_type": "code",
   "execution_count": 102,
   "id": "ab9fde73",
   "metadata": {},
   "outputs": [],
   "source": [
    "test_df[\"predictions\"] = dtree.predict(test_df)"
   ]
  },
  {
   "cell_type": "code",
   "execution_count": 103,
   "id": "4ed84880",
   "metadata": {},
   "outputs": [
    {
     "data": {
      "text/html": [
       "<div>\n",
       "<style scoped>\n",
       "    .dataframe tbody tr th:only-of-type {\n",
       "        vertical-align: middle;\n",
       "    }\n",
       "\n",
       "    .dataframe tbody tr th {\n",
       "        vertical-align: top;\n",
       "    }\n",
       "\n",
       "    .dataframe thead th {\n",
       "        text-align: right;\n",
       "    }\n",
       "</style>\n",
       "<table border=\"1\" class=\"dataframe\">\n",
       "  <thead>\n",
       "    <tr style=\"text-align: right;\">\n",
       "      <th></th>\n",
       "      <th>ID</th>\n",
       "      <th>Destination Port</th>\n",
       "      <th>Flow Duration</th>\n",
       "      <th>Total Fwd Packets</th>\n",
       "      <th>Total Backward Packets</th>\n",
       "      <th>Total Length of Fwd Packets</th>\n",
       "      <th>Total Length of Bwd Packets</th>\n",
       "      <th>Fwd Packet Length Max</th>\n",
       "      <th>Fwd Packet Length Min</th>\n",
       "      <th>Bwd Packet Length Max</th>\n",
       "      <th>...</th>\n",
       "      <th>Subflow Bwd Bytes</th>\n",
       "      <th>Init_Win_bytes_forward</th>\n",
       "      <th>Init_Win_bytes_backward</th>\n",
       "      <th>act_data_pkt_fwd</th>\n",
       "      <th>min_seg_size_forward</th>\n",
       "      <th>Active Max</th>\n",
       "      <th>Active Min</th>\n",
       "      <th>Idle Max</th>\n",
       "      <th>Idle Min</th>\n",
       "      <th>predictions</th>\n",
       "    </tr>\n",
       "  </thead>\n",
       "  <tbody>\n",
       "    <tr>\n",
       "      <th>0</th>\n",
       "      <td>0</td>\n",
       "      <td>80</td>\n",
       "      <td>99575743</td>\n",
       "      <td>7</td>\n",
       "      <td>5</td>\n",
       "      <td>401</td>\n",
       "      <td>11595</td>\n",
       "      <td>377</td>\n",
       "      <td>0</td>\n",
       "      <td>7240</td>\n",
       "      <td>...</td>\n",
       "      <td>11595</td>\n",
       "      <td>0</td>\n",
       "      <td>235</td>\n",
       "      <td>4</td>\n",
       "      <td>20</td>\n",
       "      <td>11993</td>\n",
       "      <td>11993</td>\n",
       "      <td>99400000</td>\n",
       "      <td>99400000</td>\n",
       "      <td>2</td>\n",
       "    </tr>\n",
       "    <tr>\n",
       "      <th>1</th>\n",
       "      <td>1</td>\n",
       "      <td>80</td>\n",
       "      <td>107429687</td>\n",
       "      <td>2</td>\n",
       "      <td>1</td>\n",
       "      <td>662</td>\n",
       "      <td>6</td>\n",
       "      <td>662</td>\n",
       "      <td>0</td>\n",
       "      <td>6</td>\n",
       "      <td>...</td>\n",
       "      <td>6</td>\n",
       "      <td>410</td>\n",
       "      <td>0</td>\n",
       "      <td>1</td>\n",
       "      <td>32</td>\n",
       "      <td>0</td>\n",
       "      <td>0</td>\n",
       "      <td>107000000</td>\n",
       "      <td>107000000</td>\n",
       "      <td>3</td>\n",
       "    </tr>\n",
       "    <tr>\n",
       "      <th>2</th>\n",
       "      <td>2</td>\n",
       "      <td>80</td>\n",
       "      <td>17291</td>\n",
       "      <td>2</td>\n",
       "      <td>0</td>\n",
       "      <td>12</td>\n",
       "      <td>0</td>\n",
       "      <td>6</td>\n",
       "      <td>6</td>\n",
       "      <td>0</td>\n",
       "      <td>...</td>\n",
       "      <td>0</td>\n",
       "      <td>253</td>\n",
       "      <td>-1</td>\n",
       "      <td>1</td>\n",
       "      <td>20</td>\n",
       "      <td>0</td>\n",
       "      <td>0</td>\n",
       "      <td>0</td>\n",
       "      <td>0</td>\n",
       "      <td>0</td>\n",
       "    </tr>\n",
       "    <tr>\n",
       "      <th>3</th>\n",
       "      <td>3</td>\n",
       "      <td>80</td>\n",
       "      <td>85038140</td>\n",
       "      <td>5</td>\n",
       "      <td>7</td>\n",
       "      <td>338</td>\n",
       "      <td>11595</td>\n",
       "      <td>326</td>\n",
       "      <td>0</td>\n",
       "      <td>5792</td>\n",
       "      <td>...</td>\n",
       "      <td>11595</td>\n",
       "      <td>0</td>\n",
       "      <td>235</td>\n",
       "      <td>2</td>\n",
       "      <td>20</td>\n",
       "      <td>12007</td>\n",
       "      <td>12007</td>\n",
       "      <td>84900000</td>\n",
       "      <td>84900000</td>\n",
       "      <td>2</td>\n",
       "    </tr>\n",
       "    <tr>\n",
       "      <th>4</th>\n",
       "      <td>4</td>\n",
       "      <td>80</td>\n",
       "      <td>82963302</td>\n",
       "      <td>8</td>\n",
       "      <td>6</td>\n",
       "      <td>375</td>\n",
       "      <td>11595</td>\n",
       "      <td>363</td>\n",
       "      <td>0</td>\n",
       "      <td>4344</td>\n",
       "      <td>...</td>\n",
       "      <td>11595</td>\n",
       "      <td>251</td>\n",
       "      <td>235</td>\n",
       "      <td>3</td>\n",
       "      <td>20</td>\n",
       "      <td>1983</td>\n",
       "      <td>1983</td>\n",
       "      <td>82800000</td>\n",
       "      <td>82800000</td>\n",
       "      <td>2</td>\n",
       "    </tr>\n",
       "    <tr>\n",
       "      <th>...</th>\n",
       "      <td>...</td>\n",
       "      <td>...</td>\n",
       "      <td>...</td>\n",
       "      <td>...</td>\n",
       "      <td>...</td>\n",
       "      <td>...</td>\n",
       "      <td>...</td>\n",
       "      <td>...</td>\n",
       "      <td>...</td>\n",
       "      <td>...</td>\n",
       "      <td>...</td>\n",
       "      <td>...</td>\n",
       "      <td>...</td>\n",
       "      <td>...</td>\n",
       "      <td>...</td>\n",
       "      <td>...</td>\n",
       "      <td>...</td>\n",
       "      <td>...</td>\n",
       "      <td>...</td>\n",
       "      <td>...</td>\n",
       "      <td>...</td>\n",
       "    </tr>\n",
       "    <tr>\n",
       "      <th>43289</th>\n",
       "      <td>43289</td>\n",
       "      <td>80</td>\n",
       "      <td>82746195</td>\n",
       "      <td>6</td>\n",
       "      <td>7</td>\n",
       "      <td>324</td>\n",
       "      <td>11595</td>\n",
       "      <td>306</td>\n",
       "      <td>0</td>\n",
       "      <td>5792</td>\n",
       "      <td>...</td>\n",
       "      <td>11595</td>\n",
       "      <td>0</td>\n",
       "      <td>235</td>\n",
       "      <td>3</td>\n",
       "      <td>20</td>\n",
       "      <td>14014</td>\n",
       "      <td>14014</td>\n",
       "      <td>82600000</td>\n",
       "      <td>82600000</td>\n",
       "      <td>2</td>\n",
       "    </tr>\n",
       "    <tr>\n",
       "      <th>43290</th>\n",
       "      <td>43290</td>\n",
       "      <td>53</td>\n",
       "      <td>183040</td>\n",
       "      <td>4</td>\n",
       "      <td>2</td>\n",
       "      <td>176</td>\n",
       "      <td>662</td>\n",
       "      <td>44</td>\n",
       "      <td>44</td>\n",
       "      <td>331</td>\n",
       "      <td>...</td>\n",
       "      <td>662</td>\n",
       "      <td>-1</td>\n",
       "      <td>-1</td>\n",
       "      <td>3</td>\n",
       "      <td>32</td>\n",
       "      <td>0</td>\n",
       "      <td>0</td>\n",
       "      <td>0</td>\n",
       "      <td>0</td>\n",
       "      <td>0</td>\n",
       "    </tr>\n",
       "    <tr>\n",
       "      <th>43291</th>\n",
       "      <td>43291</td>\n",
       "      <td>443</td>\n",
       "      <td>117811197</td>\n",
       "      <td>12</td>\n",
       "      <td>13</td>\n",
       "      <td>635</td>\n",
       "      <td>4068</td>\n",
       "      <td>198</td>\n",
       "      <td>0</td>\n",
       "      <td>2820</td>\n",
       "      <td>...</td>\n",
       "      <td>4068</td>\n",
       "      <td>8192</td>\n",
       "      <td>119</td>\n",
       "      <td>9</td>\n",
       "      <td>20</td>\n",
       "      <td>232944</td>\n",
       "      <td>140725</td>\n",
       "      <td>58700000</td>\n",
       "      <td>58600000</td>\n",
       "      <td>0</td>\n",
       "    </tr>\n",
       "    <tr>\n",
       "      <th>43292</th>\n",
       "      <td>43292</td>\n",
       "      <td>80</td>\n",
       "      <td>5023362</td>\n",
       "      <td>3</td>\n",
       "      <td>1</td>\n",
       "      <td>0</td>\n",
       "      <td>0</td>\n",
       "      <td>0</td>\n",
       "      <td>0</td>\n",
       "      <td>0</td>\n",
       "      <td>...</td>\n",
       "      <td>0</td>\n",
       "      <td>29200</td>\n",
       "      <td>65535</td>\n",
       "      <td>0</td>\n",
       "      <td>32</td>\n",
       "      <td>0</td>\n",
       "      <td>0</td>\n",
       "      <td>0</td>\n",
       "      <td>0</td>\n",
       "      <td>0</td>\n",
       "    </tr>\n",
       "    <tr>\n",
       "      <th>43293</th>\n",
       "      <td>43293</td>\n",
       "      <td>53</td>\n",
       "      <td>272</td>\n",
       "      <td>2</td>\n",
       "      <td>2</td>\n",
       "      <td>56</td>\n",
       "      <td>252</td>\n",
       "      <td>28</td>\n",
       "      <td>28</td>\n",
       "      <td>126</td>\n",
       "      <td>...</td>\n",
       "      <td>252</td>\n",
       "      <td>-1</td>\n",
       "      <td>-1</td>\n",
       "      <td>1</td>\n",
       "      <td>32</td>\n",
       "      <td>0</td>\n",
       "      <td>0</td>\n",
       "      <td>0</td>\n",
       "      <td>0</td>\n",
       "      <td>0</td>\n",
       "    </tr>\n",
       "  </tbody>\n",
       "</table>\n",
       "<p>43238 rows × 56 columns</p>\n",
       "</div>"
      ],
      "text/plain": [
       "          ID  Destination Port  Flow Duration  Total Fwd Packets  \\\n",
       "0          0                80       99575743                  7   \n",
       "1          1                80      107429687                  2   \n",
       "2          2                80          17291                  2   \n",
       "3          3                80       85038140                  5   \n",
       "4          4                80       82963302                  8   \n",
       "...      ...               ...            ...                ...   \n",
       "43289  43289                80       82746195                  6   \n",
       "43290  43290                53         183040                  4   \n",
       "43291  43291               443      117811197                 12   \n",
       "43292  43292                80        5023362                  3   \n",
       "43293  43293                53            272                  2   \n",
       "\n",
       "       Total Backward Packets  Total Length of Fwd Packets  \\\n",
       "0                           5                          401   \n",
       "1                           1                          662   \n",
       "2                           0                           12   \n",
       "3                           7                          338   \n",
       "4                           6                          375   \n",
       "...                       ...                          ...   \n",
       "43289                       7                          324   \n",
       "43290                       2                          176   \n",
       "43291                      13                          635   \n",
       "43292                       1                            0   \n",
       "43293                       2                           56   \n",
       "\n",
       "       Total Length of Bwd Packets  Fwd Packet Length Max  \\\n",
       "0                            11595                    377   \n",
       "1                                6                    662   \n",
       "2                                0                      6   \n",
       "3                            11595                    326   \n",
       "4                            11595                    363   \n",
       "...                            ...                    ...   \n",
       "43289                        11595                    306   \n",
       "43290                          662                     44   \n",
       "43291                         4068                    198   \n",
       "43292                            0                      0   \n",
       "43293                          252                     28   \n",
       "\n",
       "       Fwd Packet Length Min  Bwd Packet Length Max  ...  Subflow Bwd Bytes  \\\n",
       "0                          0                   7240  ...              11595   \n",
       "1                          0                      6  ...                  6   \n",
       "2                          6                      0  ...                  0   \n",
       "3                          0                   5792  ...              11595   \n",
       "4                          0                   4344  ...              11595   \n",
       "...                      ...                    ...  ...                ...   \n",
       "43289                      0                   5792  ...              11595   \n",
       "43290                     44                    331  ...                662   \n",
       "43291                      0                   2820  ...               4068   \n",
       "43292                      0                      0  ...                  0   \n",
       "43293                     28                    126  ...                252   \n",
       "\n",
       "       Init_Win_bytes_forward  Init_Win_bytes_backward  act_data_pkt_fwd  \\\n",
       "0                           0                      235                 4   \n",
       "1                         410                        0                 1   \n",
       "2                         253                       -1                 1   \n",
       "3                           0                      235                 2   \n",
       "4                         251                      235                 3   \n",
       "...                       ...                      ...               ...   \n",
       "43289                       0                      235                 3   \n",
       "43290                      -1                       -1                 3   \n",
       "43291                    8192                      119                 9   \n",
       "43292                   29200                    65535                 0   \n",
       "43293                      -1                       -1                 1   \n",
       "\n",
       "       min_seg_size_forward  Active Max  Active Min   Idle Max   Idle Min  \\\n",
       "0                        20       11993       11993   99400000   99400000   \n",
       "1                        32           0           0  107000000  107000000   \n",
       "2                        20           0           0          0          0   \n",
       "3                        20       12007       12007   84900000   84900000   \n",
       "4                        20        1983        1983   82800000   82800000   \n",
       "...                     ...         ...         ...        ...        ...   \n",
       "43289                    20       14014       14014   82600000   82600000   \n",
       "43290                    32           0           0          0          0   \n",
       "43291                    20      232944      140725   58700000   58600000   \n",
       "43292                    32           0           0          0          0   \n",
       "43293                    32           0           0          0          0   \n",
       "\n",
       "       predictions  \n",
       "0                2  \n",
       "1                3  \n",
       "2                0  \n",
       "3                2  \n",
       "4                2  \n",
       "...            ...  \n",
       "43289            2  \n",
       "43290            0  \n",
       "43291            0  \n",
       "43292            0  \n",
       "43293            0  \n",
       "\n",
       "[43238 rows x 56 columns]"
      ]
     },
     "execution_count": 103,
     "metadata": {},
     "output_type": "execute_result"
    }
   ],
   "source": [
    "test_df"
   ]
  },
  {
   "cell_type": "code",
   "execution_count": 119,
   "id": "d5997522",
   "metadata": {},
   "outputs": [
    {
     "data": {
      "text/plain": [
       "array([2, 3, 0, 4, 1], dtype=int64)"
      ]
     },
     "execution_count": 119,
     "metadata": {},
     "output_type": "execute_result"
    }
   ],
   "source": [
    "test_df.predictions.unique()"
   ]
  },
  {
   "cell_type": "code",
   "execution_count": 121,
   "id": "c46b562e",
   "metadata": {},
   "outputs": [
    {
     "data": {
      "text/plain": [
       "array(['BENIGN', 'DoS Slowhttptest', 'DoS Hulk', 'DoS GoldenEye',\n",
       "       'DoS slowloris'], dtype=object)"
      ]
     },
     "execution_count": 121,
     "metadata": {},
     "output_type": "execute_result"
    }
   ],
   "source": [
    "train_df.Label.unique()"
   ]
  },
  {
   "cell_type": "code",
   "execution_count": null,
   "id": "f0785c81",
   "metadata": {},
   "outputs": [],
   "source": []
  },
  {
   "cell_type": "markdown",
   "id": "188d1db1",
   "metadata": {},
   "source": [
    "#### Labeling the predictions"
   ]
  },
  {
   "cell_type": "code",
   "execution_count": 122,
   "id": "a5ecef84",
   "metadata": {},
   "outputs": [],
   "source": [
    "def attack_encode(value):\n",
    "    if value == 0:\n",
    "        return \"BENIGN\";\n",
    "    elif value == 1:\n",
    "        return \"DoS Slowhttptest\";\n",
    "    elif value == 2:\n",
    "        return 'DoS Hulk';\n",
    "    elif value == 3:\n",
    "        return 'DoS GoldenEye';\n",
    "    else:\n",
    "        return 'DoS slowloris';\n"
   ]
  },
  {
   "cell_type": "code",
   "execution_count": 123,
   "id": "c70ba3f6",
   "metadata": {},
   "outputs": [
    {
     "data": {
      "text/html": [
       "<div>\n",
       "<style scoped>\n",
       "    .dataframe tbody tr th:only-of-type {\n",
       "        vertical-align: middle;\n",
       "    }\n",
       "\n",
       "    .dataframe tbody tr th {\n",
       "        vertical-align: top;\n",
       "    }\n",
       "\n",
       "    .dataframe thead th {\n",
       "        text-align: right;\n",
       "    }\n",
       "</style>\n",
       "<table border=\"1\" class=\"dataframe\">\n",
       "  <thead>\n",
       "    <tr style=\"text-align: right;\">\n",
       "      <th></th>\n",
       "      <th>predictions</th>\n",
       "      <th>Label</th>\n",
       "    </tr>\n",
       "  </thead>\n",
       "  <tbody>\n",
       "    <tr>\n",
       "      <th>0</th>\n",
       "      <td>2</td>\n",
       "      <td>DoS Hulk</td>\n",
       "    </tr>\n",
       "    <tr>\n",
       "      <th>1</th>\n",
       "      <td>3</td>\n",
       "      <td>DoS GoldenEye</td>\n",
       "    </tr>\n",
       "    <tr>\n",
       "      <th>2</th>\n",
       "      <td>0</td>\n",
       "      <td>BENIGN</td>\n",
       "    </tr>\n",
       "    <tr>\n",
       "      <th>3</th>\n",
       "      <td>2</td>\n",
       "      <td>DoS Hulk</td>\n",
       "    </tr>\n",
       "    <tr>\n",
       "      <th>4</th>\n",
       "      <td>2</td>\n",
       "      <td>DoS Hulk</td>\n",
       "    </tr>\n",
       "    <tr>\n",
       "      <th>5</th>\n",
       "      <td>2</td>\n",
       "      <td>DoS Hulk</td>\n",
       "    </tr>\n",
       "    <tr>\n",
       "      <th>6</th>\n",
       "      <td>0</td>\n",
       "      <td>BENIGN</td>\n",
       "    </tr>\n",
       "    <tr>\n",
       "      <th>7</th>\n",
       "      <td>2</td>\n",
       "      <td>DoS Hulk</td>\n",
       "    </tr>\n",
       "    <tr>\n",
       "      <th>8</th>\n",
       "      <td>2</td>\n",
       "      <td>DoS Hulk</td>\n",
       "    </tr>\n",
       "    <tr>\n",
       "      <th>9</th>\n",
       "      <td>2</td>\n",
       "      <td>DoS Hulk</td>\n",
       "    </tr>\n",
       "  </tbody>\n",
       "</table>\n",
       "</div>"
      ],
      "text/plain": [
       "   predictions          Label\n",
       "0            2       DoS Hulk\n",
       "1            3  DoS GoldenEye\n",
       "2            0         BENIGN\n",
       "3            2       DoS Hulk\n",
       "4            2       DoS Hulk\n",
       "5            2       DoS Hulk\n",
       "6            0         BENIGN\n",
       "7            2       DoS Hulk\n",
       "8            2       DoS Hulk\n",
       "9            2       DoS Hulk"
      ]
     },
     "execution_count": 123,
     "metadata": {},
     "output_type": "execute_result"
    }
   ],
   "source": [
    "test_df['Label'] = test_df['predictions'].apply(attack_encode)\n",
    "test_df.iloc[:10, -2:]"
   ]
  },
  {
   "cell_type": "code",
   "execution_count": 124,
   "id": "02e64cea",
   "metadata": {},
   "outputs": [
    {
     "data": {
      "text/html": [
       "<div>\n",
       "<style scoped>\n",
       "    .dataframe tbody tr th:only-of-type {\n",
       "        vertical-align: middle;\n",
       "    }\n",
       "\n",
       "    .dataframe tbody tr th {\n",
       "        vertical-align: top;\n",
       "    }\n",
       "\n",
       "    .dataframe thead th {\n",
       "        text-align: right;\n",
       "    }\n",
       "</style>\n",
       "<table border=\"1\" class=\"dataframe\">\n",
       "  <thead>\n",
       "    <tr style=\"text-align: right;\">\n",
       "      <th></th>\n",
       "      <th>ID</th>\n",
       "      <th>Destination Port</th>\n",
       "      <th>Flow Duration</th>\n",
       "      <th>Total Fwd Packets</th>\n",
       "      <th>Total Backward Packets</th>\n",
       "      <th>Total Length of Fwd Packets</th>\n",
       "      <th>Total Length of Bwd Packets</th>\n",
       "      <th>Fwd Packet Length Max</th>\n",
       "      <th>Fwd Packet Length Min</th>\n",
       "      <th>Bwd Packet Length Max</th>\n",
       "      <th>...</th>\n",
       "      <th>Init_Win_bytes_forward</th>\n",
       "      <th>Init_Win_bytes_backward</th>\n",
       "      <th>act_data_pkt_fwd</th>\n",
       "      <th>min_seg_size_forward</th>\n",
       "      <th>Active Max</th>\n",
       "      <th>Active Min</th>\n",
       "      <th>Idle Max</th>\n",
       "      <th>Idle Min</th>\n",
       "      <th>predictions</th>\n",
       "      <th>Label</th>\n",
       "    </tr>\n",
       "  </thead>\n",
       "  <tbody>\n",
       "    <tr>\n",
       "      <th>0</th>\n",
       "      <td>0</td>\n",
       "      <td>80</td>\n",
       "      <td>99575743</td>\n",
       "      <td>7</td>\n",
       "      <td>5</td>\n",
       "      <td>401</td>\n",
       "      <td>11595</td>\n",
       "      <td>377</td>\n",
       "      <td>0</td>\n",
       "      <td>7240</td>\n",
       "      <td>...</td>\n",
       "      <td>0</td>\n",
       "      <td>235</td>\n",
       "      <td>4</td>\n",
       "      <td>20</td>\n",
       "      <td>11993</td>\n",
       "      <td>11993</td>\n",
       "      <td>99400000</td>\n",
       "      <td>99400000</td>\n",
       "      <td>2</td>\n",
       "      <td>DoS Hulk</td>\n",
       "    </tr>\n",
       "    <tr>\n",
       "      <th>1</th>\n",
       "      <td>1</td>\n",
       "      <td>80</td>\n",
       "      <td>107429687</td>\n",
       "      <td>2</td>\n",
       "      <td>1</td>\n",
       "      <td>662</td>\n",
       "      <td>6</td>\n",
       "      <td>662</td>\n",
       "      <td>0</td>\n",
       "      <td>6</td>\n",
       "      <td>...</td>\n",
       "      <td>410</td>\n",
       "      <td>0</td>\n",
       "      <td>1</td>\n",
       "      <td>32</td>\n",
       "      <td>0</td>\n",
       "      <td>0</td>\n",
       "      <td>107000000</td>\n",
       "      <td>107000000</td>\n",
       "      <td>3</td>\n",
       "      <td>DoS GoldenEye</td>\n",
       "    </tr>\n",
       "    <tr>\n",
       "      <th>2</th>\n",
       "      <td>2</td>\n",
       "      <td>80</td>\n",
       "      <td>17291</td>\n",
       "      <td>2</td>\n",
       "      <td>0</td>\n",
       "      <td>12</td>\n",
       "      <td>0</td>\n",
       "      <td>6</td>\n",
       "      <td>6</td>\n",
       "      <td>0</td>\n",
       "      <td>...</td>\n",
       "      <td>253</td>\n",
       "      <td>-1</td>\n",
       "      <td>1</td>\n",
       "      <td>20</td>\n",
       "      <td>0</td>\n",
       "      <td>0</td>\n",
       "      <td>0</td>\n",
       "      <td>0</td>\n",
       "      <td>0</td>\n",
       "      <td>BENIGN</td>\n",
       "    </tr>\n",
       "    <tr>\n",
       "      <th>3</th>\n",
       "      <td>3</td>\n",
       "      <td>80</td>\n",
       "      <td>85038140</td>\n",
       "      <td>5</td>\n",
       "      <td>7</td>\n",
       "      <td>338</td>\n",
       "      <td>11595</td>\n",
       "      <td>326</td>\n",
       "      <td>0</td>\n",
       "      <td>5792</td>\n",
       "      <td>...</td>\n",
       "      <td>0</td>\n",
       "      <td>235</td>\n",
       "      <td>2</td>\n",
       "      <td>20</td>\n",
       "      <td>12007</td>\n",
       "      <td>12007</td>\n",
       "      <td>84900000</td>\n",
       "      <td>84900000</td>\n",
       "      <td>2</td>\n",
       "      <td>DoS Hulk</td>\n",
       "    </tr>\n",
       "    <tr>\n",
       "      <th>4</th>\n",
       "      <td>4</td>\n",
       "      <td>80</td>\n",
       "      <td>82963302</td>\n",
       "      <td>8</td>\n",
       "      <td>6</td>\n",
       "      <td>375</td>\n",
       "      <td>11595</td>\n",
       "      <td>363</td>\n",
       "      <td>0</td>\n",
       "      <td>4344</td>\n",
       "      <td>...</td>\n",
       "      <td>251</td>\n",
       "      <td>235</td>\n",
       "      <td>3</td>\n",
       "      <td>20</td>\n",
       "      <td>1983</td>\n",
       "      <td>1983</td>\n",
       "      <td>82800000</td>\n",
       "      <td>82800000</td>\n",
       "      <td>2</td>\n",
       "      <td>DoS Hulk</td>\n",
       "    </tr>\n",
       "    <tr>\n",
       "      <th>...</th>\n",
       "      <td>...</td>\n",
       "      <td>...</td>\n",
       "      <td>...</td>\n",
       "      <td>...</td>\n",
       "      <td>...</td>\n",
       "      <td>...</td>\n",
       "      <td>...</td>\n",
       "      <td>...</td>\n",
       "      <td>...</td>\n",
       "      <td>...</td>\n",
       "      <td>...</td>\n",
       "      <td>...</td>\n",
       "      <td>...</td>\n",
       "      <td>...</td>\n",
       "      <td>...</td>\n",
       "      <td>...</td>\n",
       "      <td>...</td>\n",
       "      <td>...</td>\n",
       "      <td>...</td>\n",
       "      <td>...</td>\n",
       "      <td>...</td>\n",
       "    </tr>\n",
       "    <tr>\n",
       "      <th>43289</th>\n",
       "      <td>43289</td>\n",
       "      <td>80</td>\n",
       "      <td>82746195</td>\n",
       "      <td>6</td>\n",
       "      <td>7</td>\n",
       "      <td>324</td>\n",
       "      <td>11595</td>\n",
       "      <td>306</td>\n",
       "      <td>0</td>\n",
       "      <td>5792</td>\n",
       "      <td>...</td>\n",
       "      <td>0</td>\n",
       "      <td>235</td>\n",
       "      <td>3</td>\n",
       "      <td>20</td>\n",
       "      <td>14014</td>\n",
       "      <td>14014</td>\n",
       "      <td>82600000</td>\n",
       "      <td>82600000</td>\n",
       "      <td>2</td>\n",
       "      <td>DoS Hulk</td>\n",
       "    </tr>\n",
       "    <tr>\n",
       "      <th>43290</th>\n",
       "      <td>43290</td>\n",
       "      <td>53</td>\n",
       "      <td>183040</td>\n",
       "      <td>4</td>\n",
       "      <td>2</td>\n",
       "      <td>176</td>\n",
       "      <td>662</td>\n",
       "      <td>44</td>\n",
       "      <td>44</td>\n",
       "      <td>331</td>\n",
       "      <td>...</td>\n",
       "      <td>-1</td>\n",
       "      <td>-1</td>\n",
       "      <td>3</td>\n",
       "      <td>32</td>\n",
       "      <td>0</td>\n",
       "      <td>0</td>\n",
       "      <td>0</td>\n",
       "      <td>0</td>\n",
       "      <td>0</td>\n",
       "      <td>BENIGN</td>\n",
       "    </tr>\n",
       "    <tr>\n",
       "      <th>43291</th>\n",
       "      <td>43291</td>\n",
       "      <td>443</td>\n",
       "      <td>117811197</td>\n",
       "      <td>12</td>\n",
       "      <td>13</td>\n",
       "      <td>635</td>\n",
       "      <td>4068</td>\n",
       "      <td>198</td>\n",
       "      <td>0</td>\n",
       "      <td>2820</td>\n",
       "      <td>...</td>\n",
       "      <td>8192</td>\n",
       "      <td>119</td>\n",
       "      <td>9</td>\n",
       "      <td>20</td>\n",
       "      <td>232944</td>\n",
       "      <td>140725</td>\n",
       "      <td>58700000</td>\n",
       "      <td>58600000</td>\n",
       "      <td>0</td>\n",
       "      <td>BENIGN</td>\n",
       "    </tr>\n",
       "    <tr>\n",
       "      <th>43292</th>\n",
       "      <td>43292</td>\n",
       "      <td>80</td>\n",
       "      <td>5023362</td>\n",
       "      <td>3</td>\n",
       "      <td>1</td>\n",
       "      <td>0</td>\n",
       "      <td>0</td>\n",
       "      <td>0</td>\n",
       "      <td>0</td>\n",
       "      <td>0</td>\n",
       "      <td>...</td>\n",
       "      <td>29200</td>\n",
       "      <td>65535</td>\n",
       "      <td>0</td>\n",
       "      <td>32</td>\n",
       "      <td>0</td>\n",
       "      <td>0</td>\n",
       "      <td>0</td>\n",
       "      <td>0</td>\n",
       "      <td>0</td>\n",
       "      <td>BENIGN</td>\n",
       "    </tr>\n",
       "    <tr>\n",
       "      <th>43293</th>\n",
       "      <td>43293</td>\n",
       "      <td>53</td>\n",
       "      <td>272</td>\n",
       "      <td>2</td>\n",
       "      <td>2</td>\n",
       "      <td>56</td>\n",
       "      <td>252</td>\n",
       "      <td>28</td>\n",
       "      <td>28</td>\n",
       "      <td>126</td>\n",
       "      <td>...</td>\n",
       "      <td>-1</td>\n",
       "      <td>-1</td>\n",
       "      <td>1</td>\n",
       "      <td>32</td>\n",
       "      <td>0</td>\n",
       "      <td>0</td>\n",
       "      <td>0</td>\n",
       "      <td>0</td>\n",
       "      <td>0</td>\n",
       "      <td>BENIGN</td>\n",
       "    </tr>\n",
       "  </tbody>\n",
       "</table>\n",
       "<p>43238 rows × 57 columns</p>\n",
       "</div>"
      ],
      "text/plain": [
       "          ID  Destination Port  Flow Duration  Total Fwd Packets  \\\n",
       "0          0                80       99575743                  7   \n",
       "1          1                80      107429687                  2   \n",
       "2          2                80          17291                  2   \n",
       "3          3                80       85038140                  5   \n",
       "4          4                80       82963302                  8   \n",
       "...      ...               ...            ...                ...   \n",
       "43289  43289                80       82746195                  6   \n",
       "43290  43290                53         183040                  4   \n",
       "43291  43291               443      117811197                 12   \n",
       "43292  43292                80        5023362                  3   \n",
       "43293  43293                53            272                  2   \n",
       "\n",
       "       Total Backward Packets  Total Length of Fwd Packets  \\\n",
       "0                           5                          401   \n",
       "1                           1                          662   \n",
       "2                           0                           12   \n",
       "3                           7                          338   \n",
       "4                           6                          375   \n",
       "...                       ...                          ...   \n",
       "43289                       7                          324   \n",
       "43290                       2                          176   \n",
       "43291                      13                          635   \n",
       "43292                       1                            0   \n",
       "43293                       2                           56   \n",
       "\n",
       "       Total Length of Bwd Packets  Fwd Packet Length Max  \\\n",
       "0                            11595                    377   \n",
       "1                                6                    662   \n",
       "2                                0                      6   \n",
       "3                            11595                    326   \n",
       "4                            11595                    363   \n",
       "...                            ...                    ...   \n",
       "43289                        11595                    306   \n",
       "43290                          662                     44   \n",
       "43291                         4068                    198   \n",
       "43292                            0                      0   \n",
       "43293                          252                     28   \n",
       "\n",
       "       Fwd Packet Length Min  Bwd Packet Length Max  ...  \\\n",
       "0                          0                   7240  ...   \n",
       "1                          0                      6  ...   \n",
       "2                          6                      0  ...   \n",
       "3                          0                   5792  ...   \n",
       "4                          0                   4344  ...   \n",
       "...                      ...                    ...  ...   \n",
       "43289                      0                   5792  ...   \n",
       "43290                     44                    331  ...   \n",
       "43291                      0                   2820  ...   \n",
       "43292                      0                      0  ...   \n",
       "43293                     28                    126  ...   \n",
       "\n",
       "       Init_Win_bytes_forward  Init_Win_bytes_backward  act_data_pkt_fwd  \\\n",
       "0                           0                      235                 4   \n",
       "1                         410                        0                 1   \n",
       "2                         253                       -1                 1   \n",
       "3                           0                      235                 2   \n",
       "4                         251                      235                 3   \n",
       "...                       ...                      ...               ...   \n",
       "43289                       0                      235                 3   \n",
       "43290                      -1                       -1                 3   \n",
       "43291                    8192                      119                 9   \n",
       "43292                   29200                    65535                 0   \n",
       "43293                      -1                       -1                 1   \n",
       "\n",
       "       min_seg_size_forward  Active Max  Active Min   Idle Max   Idle Min  \\\n",
       "0                        20       11993       11993   99400000   99400000   \n",
       "1                        32           0           0  107000000  107000000   \n",
       "2                        20           0           0          0          0   \n",
       "3                        20       12007       12007   84900000   84900000   \n",
       "4                        20        1983        1983   82800000   82800000   \n",
       "...                     ...         ...         ...        ...        ...   \n",
       "43289                    20       14014       14014   82600000   82600000   \n",
       "43290                    32           0           0          0          0   \n",
       "43291                    20      232944      140725   58700000   58600000   \n",
       "43292                    32           0           0          0          0   \n",
       "43293                    32           0           0          0          0   \n",
       "\n",
       "       predictions          Label  \n",
       "0                2       DoS Hulk  \n",
       "1                3  DoS GoldenEye  \n",
       "2                0         BENIGN  \n",
       "3                2       DoS Hulk  \n",
       "4                2       DoS Hulk  \n",
       "...            ...            ...  \n",
       "43289            2       DoS Hulk  \n",
       "43290            0         BENIGN  \n",
       "43291            0         BENIGN  \n",
       "43292            0         BENIGN  \n",
       "43293            0         BENIGN  \n",
       "\n",
       "[43238 rows x 57 columns]"
      ]
     },
     "execution_count": 124,
     "metadata": {},
     "output_type": "execute_result"
    }
   ],
   "source": [
    "test_df"
   ]
  },
  {
   "cell_type": "markdown",
   "id": "404de109",
   "metadata": {},
   "source": [
    "#### Converting the above dataset into csv file"
   ]
  },
  {
   "cell_type": "code",
   "execution_count": 127,
   "id": "d1a8fb80",
   "metadata": {},
   "outputs": [],
   "source": [
    "\n",
    "test_df.to_csv('IDS_test_with_Predictions.csv')\n"
   ]
  }
 ],
 "metadata": {
  "kernelspec": {
   "display_name": "Python 3 (ipykernel)",
   "language": "python",
   "name": "python3"
  },
  "language_info": {
   "codemirror_mode": {
    "name": "ipython",
    "version": 3
   },
   "file_extension": ".py",
   "mimetype": "text/x-python",
   "name": "python",
   "nbconvert_exporter": "python",
   "pygments_lexer": "ipython3",
   "version": "3.9.13"
  }
 },
 "nbformat": 4,
 "nbformat_minor": 5
}
