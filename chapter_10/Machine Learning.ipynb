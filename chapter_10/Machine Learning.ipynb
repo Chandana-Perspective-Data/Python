{
 "cells": [
  {
   "cell_type": "markdown",
   "id": "63705d57",
   "metadata": {},
   "source": [
    "<h1><font color = \"blue\">Machine Learning</font></h1>"
   ]
  },
  {
   "cell_type": "markdown",
   "id": "1893eed5",
   "metadata": {},
   "source": [
    "Machine Learning is making the computer learn from studying data and statistics.\n",
    "\n",
    "Machine Learning is a step into the direction of artificial intelligence (AI).\n",
    "\n",
    "Machine Learning is a program that analyses data and learns to predict the outcome."
   ]
  },
  {
   "cell_type": "markdown",
   "id": "469e4a38",
   "metadata": {},
   "source": [
    "# Data Set\n",
    "In the mind of a computer, a data set is any collection of data. It can be anything from an array to a complete database.\n",
    "\n",
    "Example of an array:\n",
    "\n",
    "[99,86,87,88,111,86,103,87,94,78,77,85,86]"
   ]
  },
  {
   "cell_type": "code",
   "execution_count": 3,
   "id": "e350bfd6",
   "metadata": {},
   "outputs": [
    {
     "data": {
      "text/html": [
       "<div>\n",
       "<style scoped>\n",
       "    .dataframe tbody tr th:only-of-type {\n",
       "        vertical-align: middle;\n",
       "    }\n",
       "\n",
       "    .dataframe tbody tr th {\n",
       "        vertical-align: top;\n",
       "    }\n",
       "\n",
       "    .dataframe thead th {\n",
       "        text-align: right;\n",
       "    }\n",
       "</style>\n",
       "<table border=\"1\" class=\"dataframe\">\n",
       "  <thead>\n",
       "    <tr style=\"text-align: right;\">\n",
       "      <th></th>\n",
       "      <th>carnames</th>\n",
       "      <th>COLOR</th>\n",
       "      <th>age</th>\n",
       "      <th>speed</th>\n",
       "      <th>AutoPass</th>\n",
       "    </tr>\n",
       "  </thead>\n",
       "  <tbody>\n",
       "    <tr>\n",
       "      <th>0</th>\n",
       "      <td>BMV</td>\n",
       "      <td>RED</td>\n",
       "      <td>5</td>\n",
       "      <td>99</td>\n",
       "      <td>Y</td>\n",
       "    </tr>\n",
       "    <tr>\n",
       "      <th>1</th>\n",
       "      <td>VOLVO</td>\n",
       "      <td>BLACK</td>\n",
       "      <td>7</td>\n",
       "      <td>86</td>\n",
       "      <td>Y</td>\n",
       "    </tr>\n",
       "    <tr>\n",
       "      <th>2</th>\n",
       "      <td>VW</td>\n",
       "      <td>GRAY</td>\n",
       "      <td>8</td>\n",
       "      <td>87</td>\n",
       "      <td>N</td>\n",
       "    </tr>\n",
       "    <tr>\n",
       "      <th>3</th>\n",
       "      <td>VW</td>\n",
       "      <td>WHITE</td>\n",
       "      <td>7</td>\n",
       "      <td>88</td>\n",
       "      <td>Y</td>\n",
       "    </tr>\n",
       "    <tr>\n",
       "      <th>4</th>\n",
       "      <td>FORD</td>\n",
       "      <td>WHITE</td>\n",
       "      <td>2</td>\n",
       "      <td>111</td>\n",
       "      <td>Y</td>\n",
       "    </tr>\n",
       "    <tr>\n",
       "      <th>5</th>\n",
       "      <td>VW</td>\n",
       "      <td>WHITE</td>\n",
       "      <td>17</td>\n",
       "      <td>86</td>\n",
       "      <td>Y</td>\n",
       "    </tr>\n",
       "    <tr>\n",
       "      <th>6</th>\n",
       "      <td>TESLA</td>\n",
       "      <td>RED</td>\n",
       "      <td>2</td>\n",
       "      <td>103</td>\n",
       "      <td>Y</td>\n",
       "    </tr>\n",
       "    <tr>\n",
       "      <th>7</th>\n",
       "      <td>BMW</td>\n",
       "      <td>BLACK</td>\n",
       "      <td>9</td>\n",
       "      <td>87</td>\n",
       "      <td>Y</td>\n",
       "    </tr>\n",
       "    <tr>\n",
       "      <th>8</th>\n",
       "      <td>VOLVO</td>\n",
       "      <td>GRAY</td>\n",
       "      <td>4</td>\n",
       "      <td>94</td>\n",
       "      <td>N</td>\n",
       "    </tr>\n",
       "    <tr>\n",
       "      <th>9</th>\n",
       "      <td>FORD</td>\n",
       "      <td>WHITE</td>\n",
       "      <td>11</td>\n",
       "      <td>78</td>\n",
       "      <td>N</td>\n",
       "    </tr>\n",
       "    <tr>\n",
       "      <th>10</th>\n",
       "      <td>TOYATO</td>\n",
       "      <td>GRAY</td>\n",
       "      <td>12</td>\n",
       "      <td>77</td>\n",
       "      <td>N</td>\n",
       "    </tr>\n",
       "    <tr>\n",
       "      <th>11</th>\n",
       "      <td>VW</td>\n",
       "      <td>WHITE</td>\n",
       "      <td>9</td>\n",
       "      <td>85</td>\n",
       "      <td>N</td>\n",
       "    </tr>\n",
       "    <tr>\n",
       "      <th>12</th>\n",
       "      <td>TPYATO</td>\n",
       "      <td>BLUE</td>\n",
       "      <td>6</td>\n",
       "      <td>86</td>\n",
       "      <td>Y</td>\n",
       "    </tr>\n",
       "  </tbody>\n",
       "</table>\n",
       "</div>"
      ],
      "text/plain": [
       "   carnames  COLOR  age  speed AutoPass\n",
       "0       BMV    RED    5     99        Y\n",
       "1     VOLVO  BLACK    7     86        Y\n",
       "2        VW   GRAY    8     87        N\n",
       "3        VW  WHITE    7     88        Y\n",
       "4      FORD  WHITE    2    111        Y\n",
       "5        VW  WHITE   17     86        Y\n",
       "6     TESLA    RED    2    103        Y\n",
       "7       BMW  BLACK    9     87        Y\n",
       "8     VOLVO   GRAY    4     94        N\n",
       "9      FORD  WHITE   11     78        N\n",
       "10   TOYATO   GRAY   12     77        N\n",
       "11       VW  WHITE    9     85        N\n",
       "12   TPYATO   BLUE    6     86        Y"
      ]
     },
     "execution_count": 3,
     "metadata": {},
     "output_type": "execute_result"
    }
   ],
   "source": [
    "#Example of a database:\n",
    "import pandas as pd\n",
    "dataset={\"carnames\":[\"BMV\",\"VOLVO\",\"VW\",\"VW\",\"FORD\",\"VW\",\"TESLA\",\"BMW\",\"VOLVO\",\"FORD\",\"TOYATO\",\"VW\",\"TPYATO\"],\n",
    "         \"COLOR\":[\"RED\",\"BLACK\",\"GRAY\",\"WHITE\",\"WHITE\",\"WHITE\",\"RED\",\"BLACK\",\"GRAY\",\"WHITE\",\"GRAY\",\"WHITE\",\"BLUE\"],\n",
    "        \"age\":[5,7,8,7,2,17,2,9,4,11,12,9,6],\"speed\":[99,86,87,88,111,86,103,87,94,78,77,85,86],\n",
    "         \"AutoPass\":[\"Y\",\"Y\",\"N\",\"Y\",\"Y\",\"Y\",\"Y\",\"Y\",\"N\",\"N\",\"N\",\"N\",\"Y\"]}\n",
    "df = pd.DataFrame(dataset)\n",
    "df\n",
    "\n"
   ]
  },
  {
   "cell_type": "markdown",
   "id": "f1b29cb6",
   "metadata": {},
   "source": [
    "By looking at the array, we can guess that the average value is probably around 80 or 90, and we are also able to determine the highest value and the lowest value, but what else can we do?\n",
    "\n",
    "And by looking at the database we can see that the most popular color is white, and the oldest car is 17 years, but what if we could predict if a car had an AutoPass, just by looking at the other values?\n",
    "\n",
    "That is what Machine Learning is for! Analyzing data and predicting the outcome!"
   ]
  },
  {
   "cell_type": "markdown",
   "id": "694eb82b",
   "metadata": {},
   "source": [
    "<h1><font color=#228B22>Data Types</font></h1>"
   ]
  },
  {
   "cell_type": "markdown",
   "id": "752ae912",
   "metadata": {},
   "source": [
    "To analyze data, it is important to know what type of data we are dealing with.\n",
    "\n",
    "We can split the data types into three main categories:\n",
    "\n",
    "1.Numerical\n",
    "\n",
    "2.Categorical\n",
    "\n",
    "3.Ordinal\n",
    "\n",
    "1.Numerical: This type of data represents values that can be measured or quantified. It can be further divided into two types: continuous and discrete. A simple example of continuous numerical data could be the height of a person measured in meters. A simple example of discrete numerical data could be the number of children a person has.\n",
    "\n",
    "(i) Discrete data refers to data that can only take on specific values within a range, and the values cannot be subdivided further. For example, the number of children a person has is a discrete data point because it can only take on whole number values, such as 0, 1, 2, etc.\n",
    "\n",
    "ii) Continuous data refers to data that can take on any value within a given range, and the values can be subdivided into an infinite number of smaller values. For example, the height of a person measured in meters is continuous data because it can take on any value within a certain range, such as 1.62 meters, 1.63 meters, and so on.)\n",
    "\n",
    "\n",
    "2.Categorical: This type of data represents values that are limited to a specific set of categories or groups. A simple example of categorical data could be the color of a person's hair (black, brown, etc.).\n",
    "\n",
    "3.Ordinal: This type of data represents values that have a specific order or ranking, but the difference between the values may not be equal. A simple example of ordinal data could be a person's level of education (high school, bachelor's degree, master's degree, etc.).\n",
    "\n",
    "It's important to note that these categories are not always mutually exclusive, and some data can fall into more than one category. For example, the number of children a person has could also be considered ordinal data if it's being used to rank the person based on the number of children they have.\n",
    "\n",
    "\n",
    "\n",
    "\n",
    "Numerical \n",
    "- data are numbers, and can be split into two numerical categories:\n",
    "\n",
    "Discrete Data\n",
    "- numbers that are limited to integers. Example: The number of cars passing by.\n",
    "\n",
    "Continuous Data\n",
    "- numbers that are of infinite value. Example: The price of an item, or the size of an item\n",
    "Categorical data are values that cannot be measured up against each other. Example: a color value, or any yes/no values.\n",
    "\n",
    "Ordinal data are like categorical data, but can be measured up against each other. Example: school grades where A is better than B and so on.\n",
    "\n",
    "By knowing the data type of your data source, you will be able to know what technique to use when analyzing them"
   ]
  },
  {
   "cell_type": "markdown",
   "id": "01178ab3",
   "metadata": {},
   "source": [
    "<h1><font color = #FF1493>Machine Learning - Mean Median Mode</font></h1>"
   ]
  },
  {
   "cell_type": "markdown",
   "id": "749aff07",
   "metadata": {},
   "source": [
    "### Mean, Median, and Mode\n",
    "What can we learn from looking at a group of numbers?\n",
    "\n",
    "In Machine Learning (and in mathematics) there are often three values that interests us:\n",
    "\n",
    "Mean - The average value\n",
    "\n",
    "Median - The mid point value\n",
    "\n",
    "Mode - The most common value\n",
    "\n",
    "Example: We have registered the speed of 13 cars:\n",
    "speed = [99,86,87,88,111,86,103,87,94,78,77,85,86]"
   ]
  },
  {
   "cell_type": "markdown",
   "id": "a14743d9",
   "metadata": {},
   "source": [
    "<h1><font color=#0000FF>Mean</font></h1>\n",
    "The mean value is the average value.\n",
    "\n",
    "To calculate the mean, find the sum of all values, and divide the sum by the number of values:\n",
    "\n",
    "(99+86+87+88+111+86+103+87+94+78+77+85+86) / 13 = 89.77"
   ]
  },
  {
   "cell_type": "code",
   "execution_count": 4,
   "id": "07c9c4a5",
   "metadata": {},
   "outputs": [
    {
     "name": "stdout",
     "output_type": "stream",
     "text": [
      "89.76923076923077\n"
     ]
    }
   ],
   "source": [
    "# Use the NumPy mean() method to find the average speed:\n",
    "import numpy\n",
    "\n",
    "speed = [99,86,87,88,111,86,103,87,94,78,77,85,86]\n",
    "\n",
    "x = numpy.mean(speed)\n",
    "\n",
    "print(x)\n"
   ]
  },
  {
   "cell_type": "markdown",
   "id": "7c6ec38d",
   "metadata": {},
   "source": [
    "<h1><font color=#0000FF>Median</font></h1>\n",
    "The median value is the value in the middle, after you have sorted all the values:\n",
    "\n",
    "77, 78, 85, 86, 86, 86, \"87\", 87, 88, 94, 99, 103, 111\n",
    "\n",
    "It is important that the numbers are sorted before you can find the median.\n"
   ]
  },
  {
   "cell_type": "code",
   "execution_count": 5,
   "id": "5a5b6b66",
   "metadata": {},
   "outputs": [
    {
     "name": "stdout",
     "output_type": "stream",
     "text": [
      "87.0\n"
     ]
    }
   ],
   "source": [
    "# Use the NumPy median() method to find the middle value:\n",
    "import numpy\n",
    "\n",
    "speed = [99,86,87,88,111,86,103,87,94,78,77,85,86]\n",
    "\n",
    "x = numpy.median(speed)\n",
    "\n",
    "print(x)"
   ]
  },
  {
   "cell_type": "markdown",
   "id": "d19134e2",
   "metadata": {},
   "source": [
    "If there are two numbers in the middle, divide the sum of those numbers by two.\n",
    "77, 78, 85, 86, 86, 86, 87, 87, 94, 98, 99, 103\n",
    "\n",
    "(86 + 87) / 2 = 86.5"
   ]
  },
  {
   "cell_type": "code",
   "execution_count": 7,
   "id": "93b91ce5",
   "metadata": {},
   "outputs": [
    {
     "name": "stdout",
     "output_type": "stream",
     "text": [
      "86.5\n"
     ]
    }
   ],
   "source": [
    "# Using the NumPy module:\n",
    "import numpy\n",
    "\n",
    "speed = [99,86,87,88,86,103,87,94,78,77,85,86]\n",
    "\n",
    "x = numpy.median(speed)\n",
    "\n",
    "print(x)"
   ]
  },
  {
   "cell_type": "markdown",
   "id": "165b9bc6",
   "metadata": {},
   "source": [
    "<h1><font color=#0000FF>Mode</font></h1>"
   ]
  },
  {
   "cell_type": "markdown",
   "id": "7b784bd7",
   "metadata": {},
   "source": [
    "The Mode value is the value that appears the most number of times:\n",
    "99, \"86\", 87, 88, 111, \"86\", 103, 87, 94, 78, 77, 85, \"86\" = 86"
   ]
  },
  {
   "cell_type": "code",
   "execution_count": 8,
   "id": "59ea7129",
   "metadata": {},
   "outputs": [
    {
     "name": "stdout",
     "output_type": "stream",
     "text": [
      "ModeResult(mode=array([86]), count=array([3]))\n"
     ]
    },
    {
     "name": "stderr",
     "output_type": "stream",
     "text": [
      "C:\\Users\\91852\\AppData\\Local\\Temp\\ipykernel_8224\\3764700143.py:6: FutureWarning: Unlike other reduction functions (e.g. `skew`, `kurtosis`), the default behavior of `mode` typically preserves the axis it acts along. In SciPy 1.11.0, this behavior will change: the default value of `keepdims` will become False, the `axis` over which the statistic is taken will be eliminated, and the value None will no longer be accepted. Set `keepdims` to True or False to avoid this warning.\n",
      "  x = stats.mode(speed)\n"
     ]
    }
   ],
   "source": [
    "# Use the SciPy mode() method to find the number that appears the most:\n",
    "from scipy import stats\n",
    "\n",
    "speed = [99,86,87,88,111,86,103,87,94,78,77,85,86]\n",
    "\n",
    "x = stats.mode(speed)\n",
    "\n",
    "print(x)"
   ]
  },
  {
   "cell_type": "markdown",
   "id": "ed124d32",
   "metadata": {},
   "source": [
    "# Clustering\n",
    "Clustering is a machine learning technique used to group similar data points into clusters or groups. The goal of clustering is to divide a set of data points into groups such that data points within the same group are more similar to each other than to data points in other groups.\n",
    "\n",
    "\n",
    " example of clustering could be grouping a set of images based on their content. For instance, you might have a large database of images of different animals, and you want to group the images into different clusters based on the type of animal they contain (e.g., dogs, cats, birds, etc.). Clustering algorithms would analyze the features of each image and group them based on their similarities."
   ]
  },
  {
   "cell_type": "markdown",
   "id": "67584059",
   "metadata": {},
   "source": [
    "# Classifications\n",
    "Classification is a machine learning technique used to assign data points into predefined classes or categories based on their characteristics. The goal of classification is to accurately predict the class of new data points based on the patterns and relationships learned from a training dataset.\n",
    "\n",
    "example of classification is image classification, where the goal is to assign an image to one of several predefined classes, such as \"dog\", \"cat\", \"car\", etc. The algorithm would analyze the features of each image, such as the colors, shapes, and textures, and use this information to predict the class of new images."
   ]
  },
  {
   "cell_type": "markdown",
   "id": "41940743",
   "metadata": {},
   "source": [
    "<h1><font color=#4B0082>Machine Learning - Standard Deviation</font></h1>"
   ]
  },
  {
   "cell_type": "markdown",
   "id": "ff56ad3b",
   "metadata": {},
   "source": [
    "### What is Standard Deviation?\n",
    "Standard deviation is a number that describes how spread out the values are.\n",
    "\n",
    "A low standard deviation means that most of the numbers are close to the mean (average) value.\n",
    "\n",
    "A high standard deviation means that the values are spread out over a wider range.\n",
    "\n",
    "Example: This time we have registered the speed of 7 cars:\n",
    "\n",
    "speed = [86,87,88,86,87,85,86]\n",
    "\n",
    "\n",
    "The standard deviation is:\n",
    "\n",
    "0.9"
   ]
  },
  {
   "cell_type": "code",
   "execution_count": null,
   "id": "b52b205f",
   "metadata": {},
   "outputs": [],
   "source": []
  },
  {
   "cell_type": "code",
   "execution_count": 9,
   "id": "a2dbbc70",
   "metadata": {},
   "outputs": [
    {
     "name": "stdout",
     "output_type": "stream",
     "text": [
      "0.9035079029052513\n"
     ]
    }
   ],
   "source": [
    "# Use the NumPy std() method to find the standard deviation:\n",
    "import numpy\n",
    "\n",
    "speed = [86,87,88,86,87,85,86]\n",
    "\n",
    "x = numpy.std(speed)\n",
    "\n",
    "print(x)"
   ]
  },
  {
   "cell_type": "code",
   "execution_count": 10,
   "id": "a87a34e6",
   "metadata": {},
   "outputs": [
    {
     "name": "stdout",
     "output_type": "stream",
     "text": [
      "37.84501153334721\n"
     ]
    }
   ],
   "source": [
    "import numpy\n",
    "\n",
    "speed = [32,111,138,28,59,77,97]\n",
    "\n",
    "x = numpy.std(speed)\n",
    "\n",
    "print(x)"
   ]
  },
  {
   "cell_type": "markdown",
   "id": "db544fdf",
   "metadata": {},
   "source": [
    "<h1><font color=#4B0082>Variance</font></h1>\n",
    "\n",
    "Variance is another number that indicates how spread out the values are.\n",
    "\n",
    "In fact, if you take the square root of the variance, you get the standard deviation!\n",
    "\n",
    "Or the other way around, if you multiply the standard deviation by itself, you get the variance!\n",
    "\n",
    "To calculate the variance you have to do as follows:"
   ]
  },
  {
   "cell_type": "markdown",
   "id": "e41c06ee",
   "metadata": {},
   "source": [
    "1. Find the mean:\n",
    "(32+111+138+28+59+77+97) / 7 = 77.4\n",
    "\n",
    "2. For each value: find the difference from the mean:\n",
    "\n",
    "32 - 77.4 = -45.4\n",
    "\n",
    "111 - 77.4 =  33.6\n",
    "\n",
    "138 - 77.4 =  60.6\n",
    "\n",
    "28 - 77.4 = -49.4\n",
    "\n",
    "59 - 77.4 = -18.4\n",
    "\n",
    "77 - 77.4 = - 0.4\n",
    "\n",
    "97 - 77.4 =  19.6\n",
    "\n",
    "3. For each difference: find the square value:\n",
    "\n",
    "(-45.4)2 = 2061.16\n",
    " \n",
    " (33.6)2 = 1128.96\n",
    " \n",
    " (60.6)2 = 3672.36\n",
    "\n",
    "(-49.4)2 = 2440.36\n",
    "\n",
    "(-18.4)2 =  338.56\n",
    "\n",
    "(- 0.4)2 =    0.16\n",
    "\n",
    "(19.6)2 =  384.16\n",
    "\n",
    "4. The variance is the average number of these squared differences:\n",
    "\n",
    "(2061.16+1128.96+3672.36+2440.36+338.56+0.16+384.16) / 7 = 1432.2"
   ]
  },
  {
   "cell_type": "code",
   "execution_count": 12,
   "id": "bb84a3e1",
   "metadata": {},
   "outputs": [
    {
     "name": "stdout",
     "output_type": "stream",
     "text": [
      "1432.2448979591834\n"
     ]
    }
   ],
   "source": [
    "# Use the NumPy var() method to find the variance:\n",
    "import numpy\n",
    "\n",
    "speed = [32,111,138,28,59,77,97]\n",
    "\n",
    "x = numpy.var(speed)\n",
    "\n",
    "print(x)"
   ]
  },
  {
   "cell_type": "markdown",
   "id": "538cd4ed",
   "metadata": {},
   "source": [
    "# Standard Deviation\n",
    "As we have learned, the formula to find the standard deviation is the square root of the variance:\n",
    "√1432.25 = 37.85"
   ]
  },
  {
   "cell_type": "code",
   "execution_count": 13,
   "id": "8ee4e557",
   "metadata": {},
   "outputs": [
    {
     "name": "stdout",
     "output_type": "stream",
     "text": [
      "37.84501153334721\n"
     ]
    }
   ],
   "source": [
    "# Use the NumPy std() method to find the standard deviation:\n",
    "import numpy\n",
    "\n",
    "speed = [32,111,138,28,59,77,97]\n",
    "\n",
    "x = numpy.std(speed)\n",
    "\n",
    "print(x)"
   ]
  },
  {
   "cell_type": "markdown",
   "id": "eab414b9",
   "metadata": {},
   "source": [
    "# Symbols\n",
    "Standard Deviation is often represented by the symbol Sigma: σ\n",
    "\n",
    "Variance is often represented by the symbol Sigma Squared: σ2"
   ]
  },
  {
   "cell_type": "markdown",
   "id": "21c39fae",
   "metadata": {},
   "source": [
    "<h1><font color=#7FFF00>Machine Learning - Percentiles</font></h1>"
   ]
  },
  {
   "cell_type": "markdown",
   "id": "f13c487c",
   "metadata": {},
   "source": [
    "### What are Percentiles?\n",
    "Percentiles are used in statistics to give you a number that describes the value that a given percent of the values are lower than.\n",
    "\n",
    "Example: Let's say we have an array of the ages of all the people that live in a street.\n",
    "\n",
    "ages = [5,31,43,48,50,41,7,11,15,39,80,82,32,2,8,6,25,36,27,61,31]\n",
    "\n",
    "What is the 75. percentile? The answer is 43, meaning that 75% of the people are 43 or younger."
   ]
  },
  {
   "cell_type": "code",
   "execution_count": 14,
   "id": "a6c297e8",
   "metadata": {},
   "outputs": [
    {
     "name": "stdout",
     "output_type": "stream",
     "text": [
      "43.0\n"
     ]
    }
   ],
   "source": [
    "# Use the NumPy percentile() method to find the percentiles:\n",
    "import numpy\n",
    "\n",
    "ages = [5,31,43,48,50,41,7,11,15,39,80,82,32,2,8,6,25,36,27,61,31]\n",
    "\n",
    "x = numpy.percentile(ages, 75)\n",
    "\n",
    "print(x)"
   ]
  },
  {
   "cell_type": "code",
   "execution_count": 15,
   "id": "a90270d5",
   "metadata": {},
   "outputs": [
    {
     "name": "stdout",
     "output_type": "stream",
     "text": [
      "61.0\n"
     ]
    }
   ],
   "source": [
    "# What is the age that 90% of the people are younger than?\n",
    "import numpy\n",
    "\n",
    "ages = [5,31,43,48,50,41,7,11,15,39,80,82,32,2,8,6,25,36,27,61,31]\n",
    "\n",
    "x = numpy.percentile(ages, 90)\n",
    "\n",
    "print(x)"
   ]
  },
  {
   "cell_type": "markdown",
   "id": "d9a67add",
   "metadata": {},
   "source": [
    "<h1><font color=#FF1493>Data Distribution</font></h1>"
   ]
  },
  {
   "cell_type": "markdown",
   "id": "3303f2fe",
   "metadata": {},
   "source": [
    "### Data Distribution\n",
    "we have worked with very small amounts of data in our examples, just to understand the different concepts.\n",
    "\n",
    "In the real world, the data sets are much bigger, but it can be difficult to gather real world data, at least at an early stage of a project.\n",
    "\n",
    "### How Can we Get Big Data Sets?\n",
    "To create big data sets for testing, we use the Python module NumPy, which comes with a number of methods to create random data sets, of any size."
   ]
  },
  {
   "cell_type": "markdown",
   "id": "f77e24a5",
   "metadata": {},
   "source": [
    "# uniform\n",
    "A uniform distribution is a type of probability distribution in which all values within a given range are equally likely to occur. It is sometimes referred to as a rectangular distribution because the probability density function (pdf) is shaped like a rectangle, with constant height across the entire range.\n",
    "\n",
    "Here's a simple example to illustrate the uniform distribution:\n",
    "\n",
    "Suppose you have a fair die with six sides, numbered 1 to 6. When you roll the die, each side has an equal chance of landing face up, so the probability of getting any given number is 1/6. This means that the distribution of the numbers that can appear is a uniform distribution."
   ]
  },
  {
   "cell_type": "code",
   "execution_count": 16,
   "id": "b17b9da3",
   "metadata": {
    "scrolled": true
   },
   "outputs": [
    {
     "name": "stdout",
     "output_type": "stream",
     "text": [
      "[8.30120301e-01 4.64672577e+00 4.76910629e+00 5.21058894e-01\n",
      " 1.31224257e+00 3.91232290e+00 5.48360429e-01 1.61308840e+00\n",
      " 1.06632038e+00 2.47898762e+00 8.82641855e-01 3.61537466e+00\n",
      " 1.74304879e+00 1.39366158e+00 2.02211502e+00 4.03330036e+00\n",
      " 3.06474723e+00 2.37885181e+00 4.34821193e+00 3.43519733e-01\n",
      " 4.08212454e+00 3.26098940e-01 2.92034126e-01 2.23784304e+00\n",
      " 4.13499389e+00 3.39400888e+00 6.65088471e-01 2.98821533e+00\n",
      " 4.14299536e+00 7.75241060e-01 1.76277969e+00 3.59030877e+00\n",
      " 1.88205694e+00 2.56533989e+00 5.84319818e-01 3.43048594e+00\n",
      " 3.47643271e+00 3.47739721e+00 1.57929384e+00 2.54909276e+00\n",
      " 1.03236036e-02 4.72221464e+00 3.03385578e+00 2.00017259e+00\n",
      " 8.96123383e-01 3.35628443e-01 2.82693277e+00 4.67814968e+00\n",
      " 2.72257146e-01 4.59171565e+00 3.63415786e+00 3.62219180e+00\n",
      " 1.64334071e-02 3.89894286e+00 4.19243379e+00 5.83631784e-02\n",
      " 2.95560001e+00 4.78196669e+00 2.71435861e+00 5.24591013e-02\n",
      " 2.82202736e+00 8.21141035e-01 4.56364156e+00 4.47714804e+00\n",
      " 4.20609869e+00 7.09449368e-02 1.32818337e+00 3.05417306e+00\n",
      " 2.96504343e+00 2.41346675e+00 4.49333918e+00 3.39940260e+00\n",
      " 3.12094884e+00 1.84703147e+00 4.70731536e+00 5.13184219e-01\n",
      " 3.14721523e+00 4.30485809e+00 6.71199357e-01 3.20087985e+00\n",
      " 4.92115413e+00 2.21140007e+00 3.19965588e+00 1.72488573e-01\n",
      " 2.16168778e+00 2.08863320e+00 1.69303598e+00 1.61193212e+00\n",
      " 4.26344548e+00 7.37163119e-01 1.62549436e+00 2.82760351e+00\n",
      " 1.79517752e+00 4.48806373e+00 4.19929408e-01 1.50629554e+00\n",
      " 1.08920553e+00 3.56389105e+00 4.62461145e+00 1.53361198e+00\n",
      " 2.45191736e+00 2.67259729e+00 3.58459914e+00 2.90137473e+00\n",
      " 1.21015010e+00 1.17948407e-01 4.58594124e+00 4.87411834e+00\n",
      " 4.40669232e+00 4.31157733e+00 3.32930770e+00 8.98067887e-01\n",
      " 4.73831043e+00 2.72177356e-01 2.95667244e+00 4.04537471e+00\n",
      " 4.99918138e+00 2.14893343e+00 3.11385942e+00 2.60153052e+00\n",
      " 4.65957259e+00 4.31110378e+00 4.63982621e+00 2.95487952e+00\n",
      " 6.88635729e-01 5.27664956e-01 9.20021503e-02 2.80111156e+00\n",
      " 5.81475393e-01 4.15918760e+00 2.00573960e+00 1.59008896e-01\n",
      " 4.85335482e+00 3.35172506e+00 3.39913777e+00 1.49209030e+00\n",
      " 3.58242756e+00 3.38718295e+00 6.09438997e-01 8.83144783e-01\n",
      " 3.45877246e+00 3.86741580e+00 9.43001403e-01 3.40150282e+00\n",
      " 4.83761695e-01 2.02390029e+00 4.14671793e-01 7.81159801e-01\n",
      " 2.37635824e+00 2.52108004e+00 8.76851829e-01 4.78693873e+00\n",
      " 3.20062325e+00 2.47292975e+00 1.41522107e+00 3.21227208e+00\n",
      " 1.85320245e+00 8.92525802e-01 2.16408913e+00 1.82159051e+00\n",
      " 3.69304428e-01 6.99588011e-01 1.05695202e+00 2.49071292e+00\n",
      " 1.79300599e+00 2.61899279e+00 2.84860016e+00 7.03239194e-01\n",
      " 4.63532524e+00 1.12334823e+00 4.18975808e+00 4.80861322e+00\n",
      " 3.83021574e+00 4.31058135e+00 3.65011354e+00 4.91341012e+00\n",
      " 3.95792001e+00 4.34754223e+00 3.72823145e-02 3.92435238e+00\n",
      " 2.64245321e+00 4.86961069e+00 2.75956935e+00 4.14629020e+00\n",
      " 2.10369582e+00 3.63703123e+00 1.07885779e+00 3.76914332e+00\n",
      " 2.38843457e+00 2.06645833e+00 9.40099961e-01 4.97294714e+00\n",
      " 1.72601680e+00 1.85007584e+00 2.80887672e+00 2.22980336e+00\n",
      " 8.31203467e-02 4.62220954e+00 1.51971813e+00 2.68013410e-01\n",
      " 4.81309891e-01 2.92896666e+00 7.20573118e-01 1.82903455e+00\n",
      " 2.66840437e+00 3.06804685e+00 1.19480576e+00 3.22187520e+00\n",
      " 2.58983408e+00 2.72382047e+00 2.28628875e+00 3.83042267e+00\n",
      " 4.14210008e+00 3.88255773e+00 4.46708640e+00 2.00135908e+00\n",
      " 9.98036555e-01 4.61134431e+00 8.54677308e-02 1.21773892e-01\n",
      " 1.94094420e+00 2.57521506e+00 2.37412736e-03 1.10332138e+00\n",
      " 2.78831284e+00 3.40678838e+00 5.97970627e-01 3.27073888e+00\n",
      " 4.61170325e+00 1.50367408e+00 2.94752249e+00 2.72034079e+00\n",
      " 2.57073537e+00 6.21395803e-01 2.11775704e+00 3.03782845e+00\n",
      " 8.61922918e-01 1.96527286e+00 8.10634827e-01 2.41929630e+00\n",
      " 2.60043489e+00 6.57483558e-01 1.23233089e+00 3.42764475e+00\n",
      " 1.03721735e+00 1.32541236e+00 3.10525875e-01 4.61806185e+00\n",
      " 3.13623620e+00 2.86901902e+00]\n"
     ]
    }
   ],
   "source": [
    "# Create an array containing 250 random floats between 0 and 5:\n",
    "import numpy\n",
    "\n",
    "x = numpy.random.uniform(0.0, 5.0, 250)\n",
    "\n",
    "print(x)"
   ]
  },
  {
   "cell_type": "markdown",
   "id": "b6d5d2bb",
   "metadata": {},
   "source": [
    "The code you provided generates an array of 250 random floating-point numbers using the numpy.random.uniform function from the NumPy library. The function takes three arguments:\n",
    "\n",
    "1.The first argument 0.0 is the lower bound of the interval to generate the random numbers from. In this case, the lower bound is 0.0.\n",
    "\n",
    "2.The second argument 5.0 is the upper bound of the interval to generate the random numbers from. In this case, the upper bound is 5.0.\n",
    "\n",
    "3.The third argument 250 is the number of random numbers to generate. In this case, the function generates 250 random numbers."
   ]
  },
  {
   "cell_type": "markdown",
   "id": "1a932a10",
   "metadata": {},
   "source": [
    "<h1><font color=#FF1493>Histogram</font></h1>"
   ]
  },
  {
   "cell_type": "markdown",
   "id": "08c37101",
   "metadata": {},
   "source": [
    "To visualize the data set we can draw a histogram with the data we collected.\n",
    "\n",
    "We will use the Python module Matplotlib to draw a histogram."
   ]
  },
  {
   "cell_type": "code",
   "execution_count": 19,
   "id": "5088d148",
   "metadata": {},
   "outputs": [
    {
     "data": {
      "image/png": "[encoded data removed]",
      "text/plain": [
       "<Figure size 640x480 with 1 Axes>"
      ]
     },
     "metadata": {},
     "output_type": "display_data"
    }
   ],
   "source": [
    "# Draw a histogram:\n",
    "import numpy\n",
    "import matplotlib.pyplot as plt\n",
    "\n",
    "x = numpy.random.uniform(0.0, 5.0, 250)\n",
    "\n",
    "plt.hist(x, 5)\n",
    "plt.show()"
   ]
  },
  {
   "cell_type": "markdown",
   "id": "3820d822",
   "metadata": {},
   "source": [
    "# Histogram Explained\n",
    "We use the array from the example above to draw a histogram with 5 bars.\n",
    "\n",
    "The first bar represents how many values in the array are between 0 and 1.\n",
    "\n",
    "The second bar represents how many values are between 1 and 2.\n",
    "\n",
    "Etc.\n",
    "\n",
    "Which gives us this result:\n",
    "\n",
    "52 values are between 0 and 1\n",
    "\n",
    "48 values are between 1 and 2\n",
    "\n",
    "49 values are between 2 and 3\n",
    "\n",
    "51 values are between 3 and 4\n",
    "\n",
    "50 values are between 4 and 5\n",
    "\n",
    "Note: The array values are random numbers and will not show the exact same result on your computer."
   ]
  },
  {
   "cell_type": "markdown",
   "id": "def0f582",
   "metadata": {},
   "source": [
    "# Big Data Distributions\n",
    "An array containing 250 values is not considered very big, but now you know how to create a random set of values, and by changing the parameters, you can create the data set as big as you want."
   ]
  },
  {
   "cell_type": "code",
   "execution_count": 20,
   "id": "7a80809a",
   "metadata": {},
   "outputs": [
    {
     "data": {
      "image/png": "[encoded data removed]",
      "text/plain": [
       "<Figure size 640x480 with 1 Axes>"
      ]
     },
     "metadata": {},
     "output_type": "display_data"
    }
   ],
   "source": [
    "# Create an array with 100000 random numbers, and display them using a histogram with 100 bars:\n",
    "import numpy\n",
    "import matplotlib.pyplot as plt\n",
    "\n",
    "x = numpy.random.uniform(0.0, 5.0, 100000)\n",
    "\n",
    "plt.hist(x, 100)\n",
    "plt.show()"
   ]
  },
  {
   "cell_type": "markdown",
   "id": "4c8ad282",
   "metadata": {},
   "source": [
    "<h1><font color=#4B0082>Normal Data Distribution</font></h1>\n",
    "In the previous chapter we learned how to create a completely random array, of a given size, and between two given values.\n",
    "\n",
    "In this chapter we will learn how to create an array where the values are concentrated around a given value.\n",
    "\n",
    "In probability theory this kind of data distribution is known as the normal data distribution, or the Gaussian data distribution, after the mathematician Carl Friedrich Gauss who came up with the formula of this data distribution."
   ]
  },
  {
   "cell_type": "code",
   "execution_count": 21,
   "id": "1eab939e",
   "metadata": {},
   "outputs": [
    {
     "data": {
      "image/png": "[encoded data removed]",
      "text/plain": [
       "<Figure size 640x480 with 1 Axes>"
      ]
     },
     "metadata": {},
     "output_type": "display_data"
    }
   ],
   "source": [
    "# A typical normal data distribution:\n",
    "import numpy\n",
    "import matplotlib.pyplot as plt\n",
    "\n",
    "x = numpy.random.normal(5.0, 1.0, 100000)\n",
    "\n",
    "plt.hist(x, 100)\n",
    "plt.show()"
   ]
  },
  {
   "cell_type": "markdown",
   "id": "859cb1a3",
   "metadata": {},
   "source": [
    "# Histogram Explained\n",
    "We use the array from the numpy.random.normal() method, with 100000 values,  to draw a histogram with 100 bars.\n",
    "\n",
    "We specify that the mean value is 5.0, and the standard deviation is 1.0.\n",
    "\n",
    "Meaning that the values should be concentrated around 5.0, and rarely further away than 1.0 from the mean.\n",
    "\n",
    "And as you can see from the histogram, most values are between 4.0 and 6.0, with a top at approximately 5.0."
   ]
  },
  {
   "cell_type": "markdown",
   "id": "7fb16fde",
   "metadata": {},
   "source": [
    "<h1><font color=#008000>Scatter Plot</font></h1>"
   ]
  },
  {
   "attachments": {
    "image.png": {
     "image/png": "[encoded data removed]"
    }
   },
   "cell_type": "markdown",
   "id": "a77e69a1",
   "metadata": {},
   "source": [
    "# Scatter Plot\n",
    "A scatter plot is a diagram where each value in the data set is represented by a dot.\n",
    "\n",
    "![image.png](attachment:image.png)\n",
    "\n",
    "The Matplotlib module has a method for drawing scatter plots, it needs two arrays of the same length, one for the values of the x-axis, and one for the values of the y-axis:\n",
    "\n",
    "x = [5,7,8,7,2,17,2,9,4,11,12,9,6]\n",
    "\n",
    "y = [99,86,87,88,111,86,103,87,94,78,77,85,86]\n",
    "\n",
    "The x array represents the age of each car.\n",
    "\n",
    "The y array represents the speed of each car."
   ]
  },
  {
   "cell_type": "code",
   "execution_count": 23,
   "id": "84eb2b0c",
   "metadata": {},
   "outputs": [
    {
     "data": {
      "image/png": "[encoded data removed]",
      "text/plain": [
       "<Figure size 640x480 with 1 Axes>"
      ]
     },
     "metadata": {},
     "output_type": "display_data"
    }
   ],
   "source": [
    "# Use the scatter() method to draw a scatter plot diagram:\n",
    "import matplotlib.pyplot as plt\n",
    "\n",
    "x = [5,7,8,7,2,17,2,9,4,11,12,9,6]\n",
    "y = [99,86,87,88,111,86,103,87,94,78,77,85,86]\n",
    "\n",
    "plt.scatter(x, y)\n",
    "plt.show()"
   ]
  },
  {
   "cell_type": "markdown",
   "id": "8f5aae68",
   "metadata": {},
   "source": [
    "# Scatter Plot Explained\n",
    "The x-axis represents ages, and the y-axis represents speeds.\n",
    "\n",
    "What we can read from the diagram is that the two fastest cars were both 2 years old, and the slowest car was 12 years old.\n",
    "\n",
    "Note: It seems that the newer the car, the faster it drives, but that could be a coincidence, after all we only registered 13 cars."
   ]
  },
  {
   "cell_type": "markdown",
   "id": "8b808a32",
   "metadata": {},
   "source": [
    "# Random Data Distributions\n",
    "In Machine Learning the data sets can contain thousands-, or even millions, of values.\n",
    "\n",
    "You might not have real world data when you are testing an algorithm, you might have to use randomly generated values.\n",
    "\n",
    "As we have learned in the previous chapter, the NumPy module can help us with that!\n",
    "\n",
    "Let us create two arrays that are both filled with 1000 random numbers from a normal data distribution.\n",
    "\n",
    "The first array will have the mean set to 5.0 with a standard deviation of 1.0.\n",
    "\n",
    "The second array will have the mean set to 10.0 with a standard deviation of 2.0:"
   ]
  },
  {
   "cell_type": "code",
   "execution_count": 24,
   "id": "acf898e4",
   "metadata": {},
   "outputs": [
    {
     "data": {
      "image/png": "[encoded data removed]",
      "text/plain": [
       "<Figure size 640x480 with 1 Axes>"
      ]
     },
     "metadata": {},
     "output_type": "display_data"
    }
   ],
   "source": [
    "# A scatter plot with 1000 dots:\n",
    "import numpy\n",
    "import matplotlib.pyplot as plt\n",
    "\n",
    "x = numpy.random.normal(5.0, 1.0, 1000)\n",
    "y = numpy.random.normal(10.0, 2.0, 1000)\n",
    "\n",
    "plt.scatter(x, y)\n",
    "plt.show()"
   ]
  },
  {
   "cell_type": "markdown",
   "id": "71baf68a",
   "metadata": {},
   "source": [
    "### Scatter Plot Explained\n",
    "\n",
    "We can see that the dots are concentrated around the value 5 on the x-axis, and 10 on the y-axis.\n",
    "\n",
    "We can also see that the spread is wider on the y-axis than on the x-axis."
   ]
  },
  {
   "cell_type": "markdown",
   "id": "8699424f",
   "metadata": {},
   "source": [
    "<h1><font color =#0000FF>Linear Regression</font></h1>\n",
    "\n",
    "### Regression\n",
    "The term regression is used when you try to find the relationship between variables.\n",
    "\n",
    "In Machine Learning, and in statistical modeling, that relationship is used to predict the outcome of future events.\n",
    "\n",
    "\n",
    "Regression is used in a variety of applications, including forecasting, stock market analysis, and medical research. For example, in finance, regression models can be used to predict stock prices based on various factors such as interest rates, economic indicators, and company earnings. In medicine, regression models can be used to predict patient outcomes based on factors such as age, gender, and medical history.\n",
    "\n",
    "Regression can be performed using different algorithms, including linear regression, polynomial regression, logistic regression, and others. The choice of algorithm depends on the type of data and the goals of the analysis."
   ]
  },
  {
   "attachments": {
    "image.png": {
     "image/png": "[encoded data removed]"
    }
   },
   "cell_type": "markdown",
   "id": "192089d9",
   "metadata": {},
   "source": [
    "### Linear Regression\n",
    "Linear regression uses the relationship between the data-points to draw a straight line through all them.\n",
    "\n",
    "\n",
    "Linear Regression is a statistical method used to model the linear relationship between a dependent variable and one or more independent variables. The goal of linear regression is to find the line that best fits the data and use it to make predictions about the dependent variable based on the values of the independent variables.\n",
    "\n",
    "This line can be used to predict future values.\n",
    "![image.png](attachment:image.png)\n",
    "In Machine Learning, predicting the future is very important."
   ]
  },
  {
   "cell_type": "markdown",
   "id": "c46dda6c",
   "metadata": {},
   "source": [
    "# How Does it Work?\n",
    "Python has methods for finding a relationship between data-points and to draw a line of linear regression. We will show you how to use these methods instead of going through the mathematic formula.\n",
    "\n",
    "In the example below, the x-axis represents age, and the y-axis represents speed. We have registered the age and speed of 13 cars as they were passing a tollbooth. Let us see if the data we collected could be used in a linear regression:"
   ]
  },
  {
   "cell_type": "code",
   "execution_count": 25,
   "id": "ce9981a8",
   "metadata": {},
   "outputs": [
    {
     "data": {
      "image/png": "[encoded data removed]",
      "text/plain": [
       "<Figure size 640x480 with 1 Axes>"
      ]
     },
     "metadata": {},
     "output_type": "display_data"
    }
   ],
   "source": [
    "# Start by drawing a scatter plot:\n",
    "import matplotlib.pyplot as plt\n",
    "\n",
    "x = [5,7,8,7,2,17,2,9,4,11,12,9,6]\n",
    "y = [99,86,87,88,111,86,103,87,94,78,77,85,86]\n",
    "\n",
    "plt.scatter(x, y)\n",
    "plt.show()"
   ]
  },
  {
   "cell_type": "markdown",
   "id": "ecd8df49",
   "metadata": {},
   "source": [
    "The map function is a built-in function in Python that applies a function to each element in an iterable (such as a list, tuple, or dictionary) and returns a map object with the results. The map object can be converted to a list, tuple, or other iterable by passing it to the corresponding constructor.\n",
    "\n",
    "Here is an example of how to use the map function:"
   ]
  },
  {
   "cell_type": "code",
   "execution_count": 1,
   "id": "d3002b47",
   "metadata": {},
   "outputs": [
    {
     "name": "stdout",
     "output_type": "stream",
     "text": [
      "[1, 4, 9, 16, 25]\n"
     ]
    }
   ],
   "source": [
    "def square(x):\n",
    "    return x * x\n",
    "\n",
    "numbers = [1, 2, 3, 4, 5]\n",
    "squared_numbers = list(map(square, numbers))\n",
    "print(squared_numbers)\n"
   ]
  },
  {
   "cell_type": "code",
   "execution_count": 2,
   "id": "a9c9f8f3",
   "metadata": {},
   "outputs": [
    {
     "data": {
      "image/png": "[encoded data removed]",
      "text/plain": [
       "<Figure size 640x480 with 1 Axes>"
      ]
     },
     "metadata": {},
     "output_type": "display_data"
    }
   ],
   "source": [
    "# Import scipy and draw the line of Linear Regression:\n",
    "import matplotlib.pyplot as plt\n",
    "from scipy import stats\n",
    "\n",
    "x = [5,7,8,7,2,17,2,9,4,11,12,9,6]\n",
    "y = [99,86,87,88,111,86,103,87,94,78,77,85,86]\n",
    "\n",
    "slope, intercept, r, p, std_err = stats.linregress(x, y)\n",
    "\n",
    "def myfunc(x):\n",
    "  return slope * x + intercept\n",
    "\n",
    "mymodel = list(map(myfunc, x))\n",
    "\n",
    "plt.scatter(x, y)\n",
    "plt.plot(x, mymodel)\n",
    "plt.show()"
   ]
  },
  {
   "cell_type": "code",
   "execution_count": 27,
   "id": "b2abd8dd",
   "metadata": {},
   "outputs": [
    {
     "ename": "SyntaxError",
     "evalue": "invalid syntax (612860203.py, line 2)",
     "output_type": "error",
     "traceback": [
      "\u001b[1;36m  File \u001b[1;32m\"C:\\Users\\91852\\AppData\\Local\\Temp\\ipykernel_8224\\612860203.py\"\u001b[1;36m, line \u001b[1;32m2\u001b[0m\n\u001b[1;33m    Import the modules you need.\u001b[0m\n\u001b[1;37m           ^\u001b[0m\n\u001b[1;31mSyntaxError\u001b[0m\u001b[1;31m:\u001b[0m invalid syntax\n"
     ]
    }
   ],
   "source": [
    "# Example Explained\n",
    "Import the modules you need.\n",
    "import matplotlib.pyplot as plt\n",
    "from scipy import stats\n",
    "# Create the arrays that represent the values of the x and y axis:\n",
    "x = [5,7,8,7,2,17,2,9,4,11,12,9,6]\n",
    "y = [99,86,87,88,111,86,103,87,94,78,77,85,86]\n",
    "# Execute a method that returns some important key values of Linear Regression:\n",
    "slope, intercept, r, p, std_err = stats.linregress(x, y)\n",
    "# Create a function that uses the slope and intercept values to return a new value. This new value represents\n",
    " #where on the y-axis the corresponding x value will be placed:\n",
    "def myfunc(x):\n",
    "  return slope * x + intercept\n",
    "# Run each value of the x array through the function. \n",
    "#This will result in a new array with new values for the y-axis:\n",
    "mymodel = list(map(myfunc, x))\n",
    "# Draw the original scatter plot:\n",
    "plt.scatter(x, y)\n",
    "# Draw the line of linear regression:\n",
    "plt.plot(x, mymodel)\n",
    "# Display the diagram:\n",
    "\n",
    "plt.show()"
   ]
  },
  {
   "cell_type": "markdown",
   "id": "1f4095e3",
   "metadata": {},
   "source": [
    "# R for Relationship\n",
    "It is important to know how the relationship between the values of the x-axis and the values of the y-axis is, if there are no relationship the linear regression can not be used to predict anything.\n",
    "\n",
    "This relationship - the coefficient of correlation - is called r.\n",
    "\n",
    "The r value ranges from -1 to 1, where 0 means no relationship, and 1 (and -1) means 100% related.\n",
    "\n",
    "Python and the Scipy module will compute this value for you, all you have to do is feed it with the x and y values."
   ]
  },
  {
   "cell_type": "code",
   "execution_count": 28,
   "id": "ea8712b2",
   "metadata": {},
   "outputs": [
    {
     "name": "stdout",
     "output_type": "stream",
     "text": [
      "-0.758591524376155\n"
     ]
    }
   ],
   "source": [
    "# How well does my data fit in a linear regression?\n",
    "from scipy import stats\n",
    "\n",
    "x = [5,7,8,7,2,17,2,9,4,11,12,9,6]\n",
    "y = [99,86,87,88,111,86,103,87,94,78,77,85,86]\n",
    "\n",
    "slope, intercept, r, p, std_err = stats.linregress(x, y)\n",
    "\n",
    "print(r)"
   ]
  },
  {
   "cell_type": "markdown",
   "id": "c2744385",
   "metadata": {},
   "source": [
    "Note: The result -0.76 shows that there is a relationship, not perfect, but it indicates that we could use linear regression in future predictions."
   ]
  },
  {
   "cell_type": "markdown",
   "id": "8e83f7f2",
   "metadata": {},
   "source": [
    "# Predict Future Values\n",
    "Now we can use the information we have gathered to predict future values.\n",
    "\n",
    "Example: Let us try to predict the speed of a 10 years old car.\n",
    "\n",
    "To do so, we need the same myfunc() function from the example above:\n",
    "\n",
    "\n",
    "def myfunc(x):\n",
    " \n",
    " return slope * x + intercept"
   ]
  },
  {
   "cell_type": "code",
   "execution_count": 29,
   "id": "a28a2c0f",
   "metadata": {},
   "outputs": [
    {
     "name": "stdout",
     "output_type": "stream",
     "text": [
      "85.59308314937454\n"
     ]
    }
   ],
   "source": [
    "# Predict the speed of a 10 years old car:\n",
    "from scipy import stats\n",
    "\n",
    "x = [5,7,8,7,2,17,2,9,4,11,12,9,6]\n",
    "y = [99,86,87,88,111,86,103,87,94,78,77,85,86]\n",
    "\n",
    "slope, intercept, r, p, std_err = stats.linregress(x, y)\n",
    "\n",
    "def myfunc(x):\n",
    "  return slope * x + intercept\n",
    "\n",
    "speed = myfunc(10)\n",
    "\n",
    "print(speed)"
   ]
  },
  {
   "attachments": {
    "image.png": {
     "image/png": "[encoded data removed]"
    }
   },
   "cell_type": "markdown",
   "id": "2dbb0ca2",
   "metadata": {},
   "source": [
    "![image.png](attachment:image.png)"
   ]
  },
  {
   "cell_type": "markdown",
   "id": "2884b42c",
   "metadata": {},
   "source": [
    "# Bad Fit?\n",
    "Let us create an example where linear regression would not be the best method to predict future values."
   ]
  },
  {
   "cell_type": "code",
   "execution_count": 31,
   "id": "4894ee91",
   "metadata": {},
   "outputs": [
    {
     "data": {
      "image/png": "[encoded data removed]",
      "text/plain": [
       "<Figure size 640x480 with 1 Axes>"
      ]
     },
     "metadata": {},
     "output_type": "display_data"
    }
   ],
   "source": [
    "# These values for the x- and y-axis should result in a very bad fit for linear regression:\n",
    "import matplotlib.pyplot as plt\n",
    "from scipy import stats\n",
    "\n",
    "x = [89,43,36,36,95,10,66,34,38,20,26,29,48,64,6,5,36,66,72,40]\n",
    "y = [21,46,3,35,67,95,53,72,58,10,26,34,90,33,38,20,56,2,47,15]\n",
    "\n",
    "slope, intercept, r, p, std_err = stats.linregress(x, y)\n",
    "\n",
    "def myfunc(x):\n",
    "  return slope * x + intercept\n",
    "\n",
    "mymodel = list(map(myfunc, x))\n",
    "\n",
    "plt.scatter(x, y)\n",
    "plt.plot(x, mymodel)\n",
    "plt.show()\n",
    "\n",
    "# And the r for relationship?"
   ]
  },
  {
   "cell_type": "markdown",
   "id": "62453445",
   "metadata": {},
   "source": [
    "The result: 0.013 indicates a very bad relationship, and tells us that this data set is not suitable for linear regression."
   ]
  },
  {
   "cell_type": "markdown",
   "id": "35abfdb3",
   "metadata": {},
   "source": [
    "# Multiple Regression\n",
    "Multiple regression is like linear regression, but with more than one independent value, meaning that we try to predict a value based on two or more variables."
   ]
  },
  {
   "cell_type": "code",
   "execution_count": 2,
   "id": "63a7706e",
   "metadata": {},
   "outputs": [
    {
     "data": {
      "text/html": [
       "<div>\n",
       "<style scoped>\n",
       "    .dataframe tbody tr th:only-of-type {\n",
       "        vertical-align: middle;\n",
       "    }\n",
       "\n",
       "    .dataframe tbody tr th {\n",
       "        vertical-align: top;\n",
       "    }\n",
       "\n",
       "    .dataframe thead th {\n",
       "        text-align: right;\n",
       "    }\n",
       "</style>\n",
       "<table border=\"1\" class=\"dataframe\">\n",
       "  <thead>\n",
       "    <tr style=\"text-align: right;\">\n",
       "      <th></th>\n",
       "      <th>X1</th>\n",
       "      <th>X2</th>\n",
       "      <th>Y</th>\n",
       "    </tr>\n",
       "  </thead>\n",
       "  <tbody>\n",
       "    <tr>\n",
       "      <th>0</th>\n",
       "      <td>1</td>\n",
       "      <td>6</td>\n",
       "      <td>11</td>\n",
       "    </tr>\n",
       "    <tr>\n",
       "      <th>1</th>\n",
       "      <td>2</td>\n",
       "      <td>7</td>\n",
       "      <td>12</td>\n",
       "    </tr>\n",
       "    <tr>\n",
       "      <th>2</th>\n",
       "      <td>3</td>\n",
       "      <td>8</td>\n",
       "      <td>13</td>\n",
       "    </tr>\n",
       "    <tr>\n",
       "      <th>3</th>\n",
       "      <td>4</td>\n",
       "      <td>9</td>\n",
       "      <td>14</td>\n",
       "    </tr>\n",
       "    <tr>\n",
       "      <th>4</th>\n",
       "      <td>5</td>\n",
       "      <td>10</td>\n",
       "      <td>15</td>\n",
       "    </tr>\n",
       "  </tbody>\n",
       "</table>\n",
       "</div>"
      ],
      "text/plain": [
       "   X1  X2   Y\n",
       "0   1   6  11\n",
       "1   2   7  12\n",
       "2   3   8  13\n",
       "3   4   9  14\n",
       "4   5  10  15"
      ]
     },
     "execution_count": 2,
     "metadata": {},
     "output_type": "execute_result"
    }
   ],
   "source": [
    "import pandas as pd\n",
    "import numpy as np\n",
    "\n",
    "# Creating a sample dataset\n",
    "data = {'X1': [1, 2, 3, 4, 5],\n",
    "        'X2': [6, 7, 8, 9, 10],\n",
    "        'Y': [11, 12, 13, 14, 15]}\n",
    "df = pd.DataFrame(data)\n",
    "df"
   ]
  },
  {
   "cell_type": "code",
   "execution_count": 3,
   "id": "9aa6c117",
   "metadata": {},
   "outputs": [],
   "source": [
    "# Adding a constant column to the dataframe\n",
    "df['constant'] = 1"
   ]
  },
  {
   "cell_type": "code",
   "execution_count": 4,
   "id": "dd4f0cd1",
   "metadata": {},
   "outputs": [],
   "source": [
    "# Splitting the data into independent and dependent variables\n",
    "X = df[['constant', 'X1', 'X2']]\n",
    "Y = df['Y']"
   ]
  },
  {
   "cell_type": "code",
   "execution_count": 6,
   "id": "75e4b3e9",
   "metadata": {},
   "outputs": [
    {
     "name": "stdout",
     "output_type": "stream",
     "text": [
      "X1           3.0\n",
      "X2           8.0\n",
      "Y           13.0\n",
      "constant     1.0\n",
      "dtype: float64\n"
     ]
    }
   ],
   "source": [
    "# Mean of each column:\n",
    "mean_df = df.mean()\n",
    "print(mean_df)"
   ]
  },
  {
   "cell_type": "code",
   "execution_count": 7,
   "id": "92858851",
   "metadata": {},
   "outputs": [
    {
     "name": "stdout",
     "output_type": "stream",
     "text": [
      "           X1   X2    Y  constant\n",
      "X1        2.5  2.5  2.5       0.0\n",
      "X2        2.5  2.5  2.5       0.0\n",
      "Y         2.5  2.5  2.5       0.0\n",
      "constant  0.0  0.0  0.0       0.0\n"
     ]
    }
   ],
   "source": [
    "# Covariance matrix:\n",
    "covariance_matrix = df.cov()\n",
    "print(covariance_matrix)\n",
    "\n"
   ]
  },
  {
   "cell_type": "code",
   "execution_count": 8,
   "id": "74ea87f6",
   "metadata": {},
   "outputs": [
    {
     "name": "stdout",
     "output_type": "stream",
     "text": [
      "           X1   X2    Y  constant\n",
      "X1        1.0  1.0  1.0       NaN\n",
      "X2        1.0  1.0  1.0       NaN\n",
      "Y         1.0  1.0  1.0       NaN\n",
      "constant  NaN  NaN  NaN       NaN\n"
     ]
    }
   ],
   "source": [
    "# Correlation matrix:\n",
    "correlation_matrix = df.corr()\n",
    "print(correlation_matrix)\n"
   ]
  },
  {
   "cell_type": "markdown",
   "id": "48cf4c54",
   "metadata": {},
   "source": [
    "# LinearRegression()\n",
    "From the sklearn module we will use the LinearRegression() method to create a linear regression object.\n",
    "\n",
    "This object has a method called fit() that takes the independent and dependent values as parameters and fills the regression object with data that describes the relationship:"
   ]
  },
  {
   "cell_type": "markdown",
   "id": "33a089b1",
   "metadata": {},
   "source": [
    "# Train/Test\n",
    "### What is Train/Test\n",
    "Train/Test is a method to measure the accuracy of your model.\n",
    "\n",
    "It is called Train/Test because you split the data set into two sets: a training set and a testing set.\n",
    "\n",
    "80% for training, and 20% for testing.\n",
    "\n",
    "You train the model using the training set.\n",
    "\n",
    "You test the model using the testing set.\n",
    "- Train the model means create the model.\n",
    "\n",
    "- Test the model means test the accuracy of the model."
   ]
  },
  {
   "cell_type": "markdown",
   "id": "a0fe6654",
   "metadata": {},
   "source": [
    "# Start With a Data Set\n",
    "Start with a data set you want to test.\n",
    "\n",
    "Our data set illustrates 100 customers in a shop, and their shopping habits."
   ]
  },
  {
   "cell_type": "code",
   "execution_count": 11,
   "id": "bf256c22",
   "metadata": {},
   "outputs": [
    {
     "data": {
      "image/png": "[encoded data removed]",
      "text/plain": [
       "<Figure size 640x480 with 1 Axes>"
      ]
     },
     "metadata": {},
     "output_type": "display_data"
    }
   ],
   "source": [
    "import numpy\n",
    "import matplotlib.pyplot as plt\n",
    "numpy.random.seed(2)\n",
    "\n",
    "x = numpy.random.normal(3, 1, 100)\n",
    "y = numpy.random.normal(150, 40, 100) / x\n",
    "\n",
    "plt.scatter(x, y)\n",
    "plt.show()"
   ]
  },
  {
   "cell_type": "markdown",
   "id": "305c760a",
   "metadata": {},
   "source": [
    "The x axis represents the number of minutes before making a purchase.\n",
    "\n",
    "The y axis represents the amount of money spent on the purchase."
   ]
  },
  {
   "cell_type": "markdown",
   "id": "e61b12fa",
   "metadata": {},
   "source": [
    "# Split Into Train/Test\n",
    "The training set should be a random selection of 80% of the original data.\n",
    "\n",
    "The testing set should be the remaining 20%."
   ]
  },
  {
   "cell_type": "code",
   "execution_count": 12,
   "id": "046edea4",
   "metadata": {},
   "outputs": [],
   "source": [
    "train_x = x[:80]\n",
    "train_y = y[:80]\n",
    "\n",
    "test_x = x[80:]\n",
    "test_y = y[80:]\n",
    "\n"
   ]
  },
  {
   "cell_type": "markdown",
   "id": "a3edfe21",
   "metadata": {},
   "source": [
    "# Display the Training Set\n",
    "Display the same scatter plot with the training set:"
   ]
  },
  {
   "cell_type": "code",
   "execution_count": 13,
   "id": "edd39461",
   "metadata": {},
   "outputs": [
    {
     "data": {
      "image/png": "[encoded data removed]",
      "text/plain": [
       "<Figure size 640x480 with 1 Axes>"
      ]
     },
     "metadata": {},
     "output_type": "display_data"
    }
   ],
   "source": [
    "plt.scatter(train_x, train_y)\n",
    "plt.show()"
   ]
  },
  {
   "cell_type": "markdown",
   "id": "b4b017ea",
   "metadata": {},
   "source": [
    "# Display the Testing Set\n",
    "To make sure the testing set is not completely different, we will take a look at the testing set as well."
   ]
  },
  {
   "cell_type": "code",
   "execution_count": 14,
   "id": "a095e9f1",
   "metadata": {},
   "outputs": [
    {
     "data": {
      "image/png": "[encoded data removed]",
      "text/plain": [
       "<Figure size 640x480 with 1 Axes>"
      ]
     },
     "metadata": {},
     "output_type": "display_data"
    }
   ],
   "source": [
    "plt.scatter(test_x, test_y)\n",
    "plt.show()"
   ]
  },
  {
   "cell_type": "code",
   "execution_count": 3,
   "id": "045d307a",
   "metadata": {},
   "outputs": [],
   "source": [
    "import numpy as np\n",
    "from sklearn.preprocessing import MinMaxScaler"
   ]
  },
  {
   "cell_type": "code",
   "execution_count": 4,
   "id": "5efe2861",
   "metadata": {},
   "outputs": [
    {
     "data": {
      "text/plain": [
       "array([[61, 75],\n",
       "       [68, 55],\n",
       "       [29, 87],\n",
       "       [76, 79],\n",
       "       [71, 71],\n",
       "       [88, 78],\n",
       "       [13, 91],\n",
       "       [22, 56],\n",
       "       [73, 13],\n",
       "       [85, 94]])"
      ]
     },
     "execution_count": 4,
     "metadata": {},
     "output_type": "execute_result"
    }
   ],
   "source": [
    "data=np.random.randint(0,100,(10,2))\n",
    "data"
   ]
  },
  {
   "cell_type": "code",
   "execution_count": 5,
   "id": "6b7b4601",
   "metadata": {},
   "outputs": [],
   "source": [
    "scalar_model=MinMaxScaler()"
   ]
  },
  {
   "cell_type": "code",
   "execution_count": 6,
   "id": "f26bf24e",
   "metadata": {},
   "outputs": [
    {
     "data": {
      "text/plain": [
       "sklearn.preprocessing._data.MinMaxScaler"
      ]
     },
     "execution_count": 6,
     "metadata": {},
     "output_type": "execute_result"
    }
   ],
   "source": [
    "type(scalar_model)"
   ]
  },
  {
   "cell_type": "code",
   "execution_count": 8,
   "id": "a9c9accc",
   "metadata": {},
   "outputs": [
    {
     "data": {
      "text/plain": [
       "MinMaxScaler()"
      ]
     },
     "execution_count": 8,
     "metadata": {},
     "output_type": "execute_result"
    }
   ],
   "source": [
    "scalar_model.fit(data)"
   ]
  },
  {
   "cell_type": "code",
   "execution_count": 9,
   "id": "1ac94237",
   "metadata": {},
   "outputs": [
    {
     "data": {
      "text/plain": [
       "array([[0.64      , 0.7654321 ],\n",
       "       [0.73333333, 0.51851852],\n",
       "       [0.21333333, 0.91358025],\n",
       "       [0.84      , 0.81481481],\n",
       "       [0.77333333, 0.71604938],\n",
       "       [1.        , 0.80246914],\n",
       "       [0.        , 0.96296296],\n",
       "       [0.12      , 0.5308642 ],\n",
       "       [0.8       , 0.        ],\n",
       "       [0.96      , 1.        ]])"
      ]
     },
     "execution_count": 9,
     "metadata": {},
     "output_type": "execute_result"
    }
   ],
   "source": [
    "scalar_model.transform(data)"
   ]
  },
  {
   "cell_type": "code",
   "execution_count": 10,
   "id": "f44d8cf7",
   "metadata": {},
   "outputs": [
    {
     "data": {
      "text/plain": [
       "array([[0.64      , 0.7654321 ],\n",
       "       [0.73333333, 0.51851852],\n",
       "       [0.21333333, 0.91358025],\n",
       "       [0.84      , 0.81481481],\n",
       "       [0.77333333, 0.71604938],\n",
       "       [1.        , 0.80246914],\n",
       "       [0.        , 0.96296296],\n",
       "       [0.12      , 0.5308642 ],\n",
       "       [0.8       , 0.        ],\n",
       "       [0.96      , 1.        ]])"
      ]
     },
     "execution_count": 10,
     "metadata": {},
     "output_type": "execute_result"
    }
   ],
   "source": [
    "scalar_model.fit_transform(data)"
   ]
  },
  {
   "cell_type": "code",
   "execution_count": 11,
   "id": "28d15274",
   "metadata": {},
   "outputs": [
    {
     "data": {
      "text/plain": [
       "array([[ 57,  12,  90,  79],\n",
       "       [  9,  71,  15,  31],\n",
       "       [ 64,  36,  83,  82],\n",
       "       [ 61,  79,  46,  89],\n",
       "       [ 45,  56,  61,  61],\n",
       "       [ 70,  82,  52,  78],\n",
       "       [ 34,  30,  22,  53],\n",
       "       [ 75,  52,  56,  68],\n",
       "       [ 85,  14,  40,  56],\n",
       "       [ 59, 100,  36,  66],\n",
       "       [ 19,  23,  29,  12],\n",
       "       [ 17,   2,  13,  56],\n",
       "       [ 92,  64,  40,  66],\n",
       "       [ 15,  39,  14,  26],\n",
       "       [ 30,  92,  95,  25],\n",
       "       [ 32,  99,  88,  31],\n",
       "       [  4,  29,  21,  96],\n",
       "       [ 14,  33,  53,  96],\n",
       "       [ 11,  98,  77,  59],\n",
       "       [ 62,  60,   1,  93],\n",
       "       [ 17,  65,   1,   8],\n",
       "       [ 74,   1,   7,  89],\n",
       "       [ 91,  67,  76,  98],\n",
       "       [ 26,   7,  26,  97],\n",
       "       [ 46,  60,  53,  60],\n",
       "       [ 48,  50,  84,  12],\n",
       "       [ 93,  36,  24,  76],\n",
       "       [ 84, 100,  99,  54],\n",
       "       [ 76,  60,   0,   1],\n",
       "       [  0,  93,  22,  54],\n",
       "       [ 49,   6,  12,  11],\n",
       "       [ 58,  46,  66,  68],\n",
       "       [ 99,  27,  78,  47],\n",
       "       [ 70,  96,  59,  72],\n",
       "       [ 12,  28,  53,  15],\n",
       "       [ 16,  20,  23,  44],\n",
       "       [  6,  72,  47,  78],\n",
       "       [ 90,  74,  16,  69],\n",
       "       [ 92,   3,  16,  99],\n",
       "       [  3,  99,  46,  24],\n",
       "       [ 36,  37,  13,  10],\n",
       "       [ 65,  71,  84,  17],\n",
       "       [ 56,  92,   8,  83],\n",
       "       [ 75,  97,  97,  77],\n",
       "       [ 48,  95,  59,  49],\n",
       "       [  5,  78,  31,  13],\n",
       "       [ 94,  69,  29,  40],\n",
       "       [ 15,  67,  98,  67],\n",
       "       [ 81,  28,   1,  38],\n",
       "       [ 91,  10,  59,  19]])"
      ]
     },
     "execution_count": 11,
     "metadata": {},
     "output_type": "execute_result"
    }
   ],
   "source": [
    "import pandas as pd\n",
    "mydata=np.random.randint(0,101,(50,4))\n",
    "mydata"
   ]
  },
  {
   "cell_type": "code",
   "execution_count": 16,
   "id": "d5ff70e9",
   "metadata": {},
   "outputs": [
    {
     "data": {
      "text/html": [
       "<div>\n",
       "<style scoped>\n",
       "    .dataframe tbody tr th:only-of-type {\n",
       "        vertical-align: middle;\n",
       "    }\n",
       "\n",
       "    .dataframe tbody tr th {\n",
       "        vertical-align: top;\n",
       "    }\n",
       "\n",
       "    .dataframe thead th {\n",
       "        text-align: right;\n",
       "    }\n",
       "</style>\n",
       "<table border=\"1\" class=\"dataframe\">\n",
       "  <thead>\n",
       "    <tr style=\"text-align: right;\">\n",
       "      <th></th>\n",
       "      <th>f1</th>\n",
       "      <th>f2</th>\n",
       "      <th>f3</th>\n",
       "      <th>label</th>\n",
       "    </tr>\n",
       "  </thead>\n",
       "  <tbody>\n",
       "    <tr>\n",
       "      <th>0</th>\n",
       "      <td>57</td>\n",
       "      <td>12</td>\n",
       "      <td>90</td>\n",
       "      <td>79</td>\n",
       "    </tr>\n",
       "    <tr>\n",
       "      <th>1</th>\n",
       "      <td>9</td>\n",
       "      <td>71</td>\n",
       "      <td>15</td>\n",
       "      <td>31</td>\n",
       "    </tr>\n",
       "    <tr>\n",
       "      <th>2</th>\n",
       "      <td>64</td>\n",
       "      <td>36</td>\n",
       "      <td>83</td>\n",
       "      <td>82</td>\n",
       "    </tr>\n",
       "    <tr>\n",
       "      <th>3</th>\n",
       "      <td>61</td>\n",
       "      <td>79</td>\n",
       "      <td>46</td>\n",
       "      <td>89</td>\n",
       "    </tr>\n",
       "    <tr>\n",
       "      <th>4</th>\n",
       "      <td>45</td>\n",
       "      <td>56</td>\n",
       "      <td>61</td>\n",
       "      <td>61</td>\n",
       "    </tr>\n",
       "    <tr>\n",
       "      <th>5</th>\n",
       "      <td>70</td>\n",
       "      <td>82</td>\n",
       "      <td>52</td>\n",
       "      <td>78</td>\n",
       "    </tr>\n",
       "    <tr>\n",
       "      <th>6</th>\n",
       "      <td>34</td>\n",
       "      <td>30</td>\n",
       "      <td>22</td>\n",
       "      <td>53</td>\n",
       "    </tr>\n",
       "    <tr>\n",
       "      <th>7</th>\n",
       "      <td>75</td>\n",
       "      <td>52</td>\n",
       "      <td>56</td>\n",
       "      <td>68</td>\n",
       "    </tr>\n",
       "    <tr>\n",
       "      <th>8</th>\n",
       "      <td>85</td>\n",
       "      <td>14</td>\n",
       "      <td>40</td>\n",
       "      <td>56</td>\n",
       "    </tr>\n",
       "    <tr>\n",
       "      <th>9</th>\n",
       "      <td>59</td>\n",
       "      <td>100</td>\n",
       "      <td>36</td>\n",
       "      <td>66</td>\n",
       "    </tr>\n",
       "    <tr>\n",
       "      <th>10</th>\n",
       "      <td>19</td>\n",
       "      <td>23</td>\n",
       "      <td>29</td>\n",
       "      <td>12</td>\n",
       "    </tr>\n",
       "    <tr>\n",
       "      <th>11</th>\n",
       "      <td>17</td>\n",
       "      <td>2</td>\n",
       "      <td>13</td>\n",
       "      <td>56</td>\n",
       "    </tr>\n",
       "    <tr>\n",
       "      <th>12</th>\n",
       "      <td>92</td>\n",
       "      <td>64</td>\n",
       "      <td>40</td>\n",
       "      <td>66</td>\n",
       "    </tr>\n",
       "    <tr>\n",
       "      <th>13</th>\n",
       "      <td>15</td>\n",
       "      <td>39</td>\n",
       "      <td>14</td>\n",
       "      <td>26</td>\n",
       "    </tr>\n",
       "    <tr>\n",
       "      <th>14</th>\n",
       "      <td>30</td>\n",
       "      <td>92</td>\n",
       "      <td>95</td>\n",
       "      <td>25</td>\n",
       "    </tr>\n",
       "    <tr>\n",
       "      <th>15</th>\n",
       "      <td>32</td>\n",
       "      <td>99</td>\n",
       "      <td>88</td>\n",
       "      <td>31</td>\n",
       "    </tr>\n",
       "    <tr>\n",
       "      <th>16</th>\n",
       "      <td>4</td>\n",
       "      <td>29</td>\n",
       "      <td>21</td>\n",
       "      <td>96</td>\n",
       "    </tr>\n",
       "    <tr>\n",
       "      <th>17</th>\n",
       "      <td>14</td>\n",
       "      <td>33</td>\n",
       "      <td>53</td>\n",
       "      <td>96</td>\n",
       "    </tr>\n",
       "    <tr>\n",
       "      <th>18</th>\n",
       "      <td>11</td>\n",
       "      <td>98</td>\n",
       "      <td>77</td>\n",
       "      <td>59</td>\n",
       "    </tr>\n",
       "    <tr>\n",
       "      <th>19</th>\n",
       "      <td>62</td>\n",
       "      <td>60</td>\n",
       "      <td>1</td>\n",
       "      <td>93</td>\n",
       "    </tr>\n",
       "    <tr>\n",
       "      <th>20</th>\n",
       "      <td>17</td>\n",
       "      <td>65</td>\n",
       "      <td>1</td>\n",
       "      <td>8</td>\n",
       "    </tr>\n",
       "    <tr>\n",
       "      <th>21</th>\n",
       "      <td>74</td>\n",
       "      <td>1</td>\n",
       "      <td>7</td>\n",
       "      <td>89</td>\n",
       "    </tr>\n",
       "    <tr>\n",
       "      <th>22</th>\n",
       "      <td>91</td>\n",
       "      <td>67</td>\n",
       "      <td>76</td>\n",
       "      <td>98</td>\n",
       "    </tr>\n",
       "    <tr>\n",
       "      <th>23</th>\n",
       "      <td>26</td>\n",
       "      <td>7</td>\n",
       "      <td>26</td>\n",
       "      <td>97</td>\n",
       "    </tr>\n",
       "    <tr>\n",
       "      <th>24</th>\n",
       "      <td>46</td>\n",
       "      <td>60</td>\n",
       "      <td>53</td>\n",
       "      <td>60</td>\n",
       "    </tr>\n",
       "    <tr>\n",
       "      <th>25</th>\n",
       "      <td>48</td>\n",
       "      <td>50</td>\n",
       "      <td>84</td>\n",
       "      <td>12</td>\n",
       "    </tr>\n",
       "    <tr>\n",
       "      <th>26</th>\n",
       "      <td>93</td>\n",
       "      <td>36</td>\n",
       "      <td>24</td>\n",
       "      <td>76</td>\n",
       "    </tr>\n",
       "    <tr>\n",
       "      <th>27</th>\n",
       "      <td>84</td>\n",
       "      <td>100</td>\n",
       "      <td>99</td>\n",
       "      <td>54</td>\n",
       "    </tr>\n",
       "    <tr>\n",
       "      <th>28</th>\n",
       "      <td>76</td>\n",
       "      <td>60</td>\n",
       "      <td>0</td>\n",
       "      <td>1</td>\n",
       "    </tr>\n",
       "    <tr>\n",
       "      <th>29</th>\n",
       "      <td>0</td>\n",
       "      <td>93</td>\n",
       "      <td>22</td>\n",
       "      <td>54</td>\n",
       "    </tr>\n",
       "    <tr>\n",
       "      <th>30</th>\n",
       "      <td>49</td>\n",
       "      <td>6</td>\n",
       "      <td>12</td>\n",
       "      <td>11</td>\n",
       "    </tr>\n",
       "    <tr>\n",
       "      <th>31</th>\n",
       "      <td>58</td>\n",
       "      <td>46</td>\n",
       "      <td>66</td>\n",
       "      <td>68</td>\n",
       "    </tr>\n",
       "    <tr>\n",
       "      <th>32</th>\n",
       "      <td>99</td>\n",
       "      <td>27</td>\n",
       "      <td>78</td>\n",
       "      <td>47</td>\n",
       "    </tr>\n",
       "    <tr>\n",
       "      <th>33</th>\n",
       "      <td>70</td>\n",
       "      <td>96</td>\n",
       "      <td>59</td>\n",
       "      <td>72</td>\n",
       "    </tr>\n",
       "    <tr>\n",
       "      <th>34</th>\n",
       "      <td>12</td>\n",
       "      <td>28</td>\n",
       "      <td>53</td>\n",
       "      <td>15</td>\n",
       "    </tr>\n",
       "    <tr>\n",
       "      <th>35</th>\n",
       "      <td>16</td>\n",
       "      <td>20</td>\n",
       "      <td>23</td>\n",
       "      <td>44</td>\n",
       "    </tr>\n",
       "    <tr>\n",
       "      <th>36</th>\n",
       "      <td>6</td>\n",
       "      <td>72</td>\n",
       "      <td>47</td>\n",
       "      <td>78</td>\n",
       "    </tr>\n",
       "    <tr>\n",
       "      <th>37</th>\n",
       "      <td>90</td>\n",
       "      <td>74</td>\n",
       "      <td>16</td>\n",
       "      <td>69</td>\n",
       "    </tr>\n",
       "    <tr>\n",
       "      <th>38</th>\n",
       "      <td>92</td>\n",
       "      <td>3</td>\n",
       "      <td>16</td>\n",
       "      <td>99</td>\n",
       "    </tr>\n",
       "    <tr>\n",
       "      <th>39</th>\n",
       "      <td>3</td>\n",
       "      <td>99</td>\n",
       "      <td>46</td>\n",
       "      <td>24</td>\n",
       "    </tr>\n",
       "    <tr>\n",
       "      <th>40</th>\n",
       "      <td>36</td>\n",
       "      <td>37</td>\n",
       "      <td>13</td>\n",
       "      <td>10</td>\n",
       "    </tr>\n",
       "    <tr>\n",
       "      <th>41</th>\n",
       "      <td>65</td>\n",
       "      <td>71</td>\n",
       "      <td>84</td>\n",
       "      <td>17</td>\n",
       "    </tr>\n",
       "    <tr>\n",
       "      <th>42</th>\n",
       "      <td>56</td>\n",
       "      <td>92</td>\n",
       "      <td>8</td>\n",
       "      <td>83</td>\n",
       "    </tr>\n",
       "    <tr>\n",
       "      <th>43</th>\n",
       "      <td>75</td>\n",
       "      <td>97</td>\n",
       "      <td>97</td>\n",
       "      <td>77</td>\n",
       "    </tr>\n",
       "    <tr>\n",
       "      <th>44</th>\n",
       "      <td>48</td>\n",
       "      <td>95</td>\n",
       "      <td>59</td>\n",
       "      <td>49</td>\n",
       "    </tr>\n",
       "    <tr>\n",
       "      <th>45</th>\n",
       "      <td>5</td>\n",
       "      <td>78</td>\n",
       "      <td>31</td>\n",
       "      <td>13</td>\n",
       "    </tr>\n",
       "    <tr>\n",
       "      <th>46</th>\n",
       "      <td>94</td>\n",
       "      <td>69</td>\n",
       "      <td>29</td>\n",
       "      <td>40</td>\n",
       "    </tr>\n",
       "    <tr>\n",
       "      <th>47</th>\n",
       "      <td>15</td>\n",
       "      <td>67</td>\n",
       "      <td>98</td>\n",
       "      <td>67</td>\n",
       "    </tr>\n",
       "    <tr>\n",
       "      <th>48</th>\n",
       "      <td>81</td>\n",
       "      <td>28</td>\n",
       "      <td>1</td>\n",
       "      <td>38</td>\n",
       "    </tr>\n",
       "    <tr>\n",
       "      <th>49</th>\n",
       "      <td>91</td>\n",
       "      <td>10</td>\n",
       "      <td>59</td>\n",
       "      <td>19</td>\n",
       "    </tr>\n",
       "  </tbody>\n",
       "</table>\n",
       "</div>"
      ],
      "text/plain": [
       "    f1   f2  f3  label\n",
       "0   57   12  90     79\n",
       "1    9   71  15     31\n",
       "2   64   36  83     82\n",
       "3   61   79  46     89\n",
       "4   45   56  61     61\n",
       "5   70   82  52     78\n",
       "6   34   30  22     53\n",
       "7   75   52  56     68\n",
       "8   85   14  40     56\n",
       "9   59  100  36     66\n",
       "10  19   23  29     12\n",
       "11  17    2  13     56\n",
       "12  92   64  40     66\n",
       "13  15   39  14     26\n",
       "14  30   92  95     25\n",
       "15  32   99  88     31\n",
       "16   4   29  21     96\n",
       "17  14   33  53     96\n",
       "18  11   98  77     59\n",
       "19  62   60   1     93\n",
       "20  17   65   1      8\n",
       "21  74    1   7     89\n",
       "22  91   67  76     98\n",
       "23  26    7  26     97\n",
       "24  46   60  53     60\n",
       "25  48   50  84     12\n",
       "26  93   36  24     76\n",
       "27  84  100  99     54\n",
       "28  76   60   0      1\n",
       "29   0   93  22     54\n",
       "30  49    6  12     11\n",
       "31  58   46  66     68\n",
       "32  99   27  78     47\n",
       "33  70   96  59     72\n",
       "34  12   28  53     15\n",
       "35  16   20  23     44\n",
       "36   6   72  47     78\n",
       "37  90   74  16     69\n",
       "38  92    3  16     99\n",
       "39   3   99  46     24\n",
       "40  36   37  13     10\n",
       "41  65   71  84     17\n",
       "42  56   92   8     83\n",
       "43  75   97  97     77\n",
       "44  48   95  59     49\n",
       "45   5   78  31     13\n",
       "46  94   69  29     40\n",
       "47  15   67  98     67\n",
       "48  81   28   1     38\n",
       "49  91   10  59     19"
      ]
     },
     "execution_count": 16,
     "metadata": {},
     "output_type": "execute_result"
    }
   ],
   "source": [
    "df=pd.DataFrame(mydata) # data=mydata,columns=['f1','f2','f3','label']\n",
    "df"
   ]
  },
  {
   "cell_type": "code",
   "execution_count": 17,
   "id": "67e9d329",
   "metadata": {},
   "outputs": [],
   "source": [
    "x=df[['f1','f2','f3']]\n",
    "y=df['label']"
   ]
  },
  {
   "cell_type": "code",
   "execution_count": 24,
   "id": "b7a52b3f",
   "metadata": {},
   "outputs": [],
   "source": [
    "from sklearn.model_selection import train_test_split\n",
    "X_train, X_test, y_train, y_test = train_test_split(x, y, test_size=0.3, random_state=101)"
   ]
  },
  {
   "cell_type": "code",
   "execution_count": 25,
   "id": "a431c545",
   "metadata": {},
   "outputs": [
    {
     "data": {
      "text/plain": [
       "(35, 3)"
      ]
     },
     "execution_count": 25,
     "metadata": {},
     "output_type": "execute_result"
    }
   ],
   "source": [
    "X_train.shape"
   ]
  },
  {
   "cell_type": "code",
   "execution_count": 26,
   "id": "a1620781",
   "metadata": {},
   "outputs": [
    {
     "data": {
      "text/plain": [
       "(15, 3)"
      ]
     },
     "execution_count": 26,
     "metadata": {},
     "output_type": "execute_result"
    }
   ],
   "source": [
    " X_test.shape"
   ]
  },
  {
   "cell_type": "code",
   "execution_count": 27,
   "id": "e5e56857",
   "metadata": {},
   "outputs": [
    {
     "data": {
      "text/html": [
       "<div>\n",
       "<style scoped>\n",
       "    .dataframe tbody tr th:only-of-type {\n",
       "        vertical-align: middle;\n",
       "    }\n",
       "\n",
       "    .dataframe tbody tr th {\n",
       "        vertical-align: top;\n",
       "    }\n",
       "\n",
       "    .dataframe thead th {\n",
       "        text-align: right;\n",
       "    }\n",
       "</style>\n",
       "<table border=\"1\" class=\"dataframe\">\n",
       "  <thead>\n",
       "    <tr style=\"text-align: right;\">\n",
       "      <th></th>\n",
       "      <th>f1</th>\n",
       "      <th>f2</th>\n",
       "      <th>f3</th>\n",
       "    </tr>\n",
       "  </thead>\n",
       "  <tbody>\n",
       "    <tr>\n",
       "      <th>3</th>\n",
       "      <td>61</td>\n",
       "      <td>79</td>\n",
       "      <td>46</td>\n",
       "    </tr>\n",
       "    <tr>\n",
       "      <th>41</th>\n",
       "      <td>65</td>\n",
       "      <td>71</td>\n",
       "      <td>84</td>\n",
       "    </tr>\n",
       "    <tr>\n",
       "      <th>30</th>\n",
       "      <td>49</td>\n",
       "      <td>6</td>\n",
       "      <td>12</td>\n",
       "    </tr>\n",
       "    <tr>\n",
       "      <th>15</th>\n",
       "      <td>32</td>\n",
       "      <td>99</td>\n",
       "      <td>88</td>\n",
       "    </tr>\n",
       "    <tr>\n",
       "      <th>20</th>\n",
       "      <td>17</td>\n",
       "      <td>65</td>\n",
       "      <td>1</td>\n",
       "    </tr>\n",
       "    <tr>\n",
       "      <th>43</th>\n",
       "      <td>75</td>\n",
       "      <td>97</td>\n",
       "      <td>97</td>\n",
       "    </tr>\n",
       "    <tr>\n",
       "      <th>38</th>\n",
       "      <td>92</td>\n",
       "      <td>3</td>\n",
       "      <td>16</td>\n",
       "    </tr>\n",
       "    <tr>\n",
       "      <th>44</th>\n",
       "      <td>48</td>\n",
       "      <td>95</td>\n",
       "      <td>59</td>\n",
       "    </tr>\n",
       "    <tr>\n",
       "      <th>39</th>\n",
       "      <td>3</td>\n",
       "      <td>99</td>\n",
       "      <td>46</td>\n",
       "    </tr>\n",
       "    <tr>\n",
       "      <th>10</th>\n",
       "      <td>19</td>\n",
       "      <td>23</td>\n",
       "      <td>29</td>\n",
       "    </tr>\n",
       "    <tr>\n",
       "      <th>49</th>\n",
       "      <td>91</td>\n",
       "      <td>10</td>\n",
       "      <td>59</td>\n",
       "    </tr>\n",
       "    <tr>\n",
       "      <th>25</th>\n",
       "      <td>48</td>\n",
       "      <td>50</td>\n",
       "      <td>84</td>\n",
       "    </tr>\n",
       "    <tr>\n",
       "      <th>33</th>\n",
       "      <td>70</td>\n",
       "      <td>96</td>\n",
       "      <td>59</td>\n",
       "    </tr>\n",
       "    <tr>\n",
       "      <th>36</th>\n",
       "      <td>6</td>\n",
       "      <td>72</td>\n",
       "      <td>47</td>\n",
       "    </tr>\n",
       "    <tr>\n",
       "      <th>2</th>\n",
       "      <td>64</td>\n",
       "      <td>36</td>\n",
       "      <td>83</td>\n",
       "    </tr>\n",
       "    <tr>\n",
       "      <th>27</th>\n",
       "      <td>84</td>\n",
       "      <td>100</td>\n",
       "      <td>99</td>\n",
       "    </tr>\n",
       "    <tr>\n",
       "      <th>34</th>\n",
       "      <td>12</td>\n",
       "      <td>28</td>\n",
       "      <td>53</td>\n",
       "    </tr>\n",
       "    <tr>\n",
       "      <th>35</th>\n",
       "      <td>16</td>\n",
       "      <td>20</td>\n",
       "      <td>23</td>\n",
       "    </tr>\n",
       "    <tr>\n",
       "      <th>8</th>\n",
       "      <td>85</td>\n",
       "      <td>14</td>\n",
       "      <td>40</td>\n",
       "    </tr>\n",
       "    <tr>\n",
       "      <th>19</th>\n",
       "      <td>62</td>\n",
       "      <td>60</td>\n",
       "      <td>1</td>\n",
       "    </tr>\n",
       "    <tr>\n",
       "      <th>29</th>\n",
       "      <td>0</td>\n",
       "      <td>93</td>\n",
       "      <td>22</td>\n",
       "    </tr>\n",
       "    <tr>\n",
       "      <th>12</th>\n",
       "      <td>92</td>\n",
       "      <td>64</td>\n",
       "      <td>40</td>\n",
       "    </tr>\n",
       "    <tr>\n",
       "      <th>5</th>\n",
       "      <td>70</td>\n",
       "      <td>82</td>\n",
       "      <td>52</td>\n",
       "    </tr>\n",
       "    <tr>\n",
       "      <th>0</th>\n",
       "      <td>57</td>\n",
       "      <td>12</td>\n",
       "      <td>90</td>\n",
       "    </tr>\n",
       "    <tr>\n",
       "      <th>28</th>\n",
       "      <td>76</td>\n",
       "      <td>60</td>\n",
       "      <td>0</td>\n",
       "    </tr>\n",
       "    <tr>\n",
       "      <th>4</th>\n",
       "      <td>45</td>\n",
       "      <td>56</td>\n",
       "      <td>61</td>\n",
       "    </tr>\n",
       "    <tr>\n",
       "      <th>40</th>\n",
       "      <td>36</td>\n",
       "      <td>37</td>\n",
       "      <td>13</td>\n",
       "    </tr>\n",
       "    <tr>\n",
       "      <th>13</th>\n",
       "      <td>15</td>\n",
       "      <td>39</td>\n",
       "      <td>14</td>\n",
       "    </tr>\n",
       "    <tr>\n",
       "      <th>9</th>\n",
       "      <td>59</td>\n",
       "      <td>100</td>\n",
       "      <td>36</td>\n",
       "    </tr>\n",
       "    <tr>\n",
       "      <th>48</th>\n",
       "      <td>81</td>\n",
       "      <td>28</td>\n",
       "      <td>1</td>\n",
       "    </tr>\n",
       "    <tr>\n",
       "      <th>23</th>\n",
       "      <td>26</td>\n",
       "      <td>7</td>\n",
       "      <td>26</td>\n",
       "    </tr>\n",
       "    <tr>\n",
       "      <th>6</th>\n",
       "      <td>34</td>\n",
       "      <td>30</td>\n",
       "      <td>22</td>\n",
       "    </tr>\n",
       "    <tr>\n",
       "      <th>17</th>\n",
       "      <td>14</td>\n",
       "      <td>33</td>\n",
       "      <td>53</td>\n",
       "    </tr>\n",
       "    <tr>\n",
       "      <th>11</th>\n",
       "      <td>17</td>\n",
       "      <td>2</td>\n",
       "      <td>13</td>\n",
       "    </tr>\n",
       "    <tr>\n",
       "      <th>31</th>\n",
       "      <td>58</td>\n",
       "      <td>46</td>\n",
       "      <td>66</td>\n",
       "    </tr>\n",
       "  </tbody>\n",
       "</table>\n",
       "</div>"
      ],
      "text/plain": [
       "    f1   f2  f3\n",
       "3   61   79  46\n",
       "41  65   71  84\n",
       "30  49    6  12\n",
       "15  32   99  88\n",
       "20  17   65   1\n",
       "43  75   97  97\n",
       "38  92    3  16\n",
       "44  48   95  59\n",
       "39   3   99  46\n",
       "10  19   23  29\n",
       "49  91   10  59\n",
       "25  48   50  84\n",
       "33  70   96  59\n",
       "36   6   72  47\n",
       "2   64   36  83\n",
       "27  84  100  99\n",
       "34  12   28  53\n",
       "35  16   20  23\n",
       "8   85   14  40\n",
       "19  62   60   1\n",
       "29   0   93  22\n",
       "12  92   64  40\n",
       "5   70   82  52\n",
       "0   57   12  90\n",
       "28  76   60   0\n",
       "4   45   56  61\n",
       "40  36   37  13\n",
       "13  15   39  14\n",
       "9   59  100  36\n",
       "48  81   28   1\n",
       "23  26    7  26\n",
       "6   34   30  22\n",
       "17  14   33  53\n",
       "11  17    2  13\n",
       "31  58   46  66"
      ]
     },
     "execution_count": 27,
     "metadata": {},
     "output_type": "execute_result"
    }
   ],
   "source": [
    "X_train"
   ]
  },
  {
   "cell_type": "code",
   "execution_count": null,
   "id": "b7a39531",
   "metadata": {},
   "outputs": [],
   "source": []
  }
 ],
 "metadata": {
  "kernelspec": {
   "display_name": "Python 3 (ipykernel)",
   "language": "python",
   "name": "python3"
  },
  "language_info": {
   "codemirror_mode": {
    "name": "ipython",
    "version": 3
   },
   "file_extension": ".py",
   "mimetype": "text/x-python",
   "name": "python",
   "nbconvert_exporter": "python",
   "pygments_lexer": "ipython3",
   "version": "3.9.13"
  }
 },
 "nbformat": 4,
 "nbformat_minor": 5
}
