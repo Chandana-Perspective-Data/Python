{
 "cells": [
  {
   "cell_type": "markdown",
   "id": "ab38316c",
   "metadata": {},
   "source": [
    "# Python Directory and Files Management"
   ]
  },
  {
   "cell_type": "markdown",
   "id": "530b982a",
   "metadata": {},
   "source": [
    "In Python, a directory is a location on your computer's file system where you \n",
    "\n",
    "can store and organize files. You can create, delete, and manipulate \n",
    "\n",
    "directories using the os module in Python."
   ]
  },
  {
   "cell_type": "markdown",
   "id": "227fa733",
   "metadata": {},
   "source": [
    "A directory is a collection of files and subdirectories. A directory inside a directory is known as a subdirectory.\n",
    "\n",
    "Python has the os module that provides us with many useful methods to work with directories (and files as well)."
   ]
  },
  {
   "cell_type": "markdown",
   "id": "6f3036e0",
   "metadata": {},
   "source": [
    "# Get Current Directory in Python\n",
    "We can get the present working directory using the getcwd() method of the os module.\n",
    "\n",
    "This method returns the current working directory in the form of a string. For example,"
   ]
  },
  {
   "cell_type": "code",
   "execution_count": 1,
   "id": "d9416817",
   "metadata": {},
   "outputs": [
    {
     "name": "stdout",
     "output_type": "stream",
     "text": [
      "C:\\Users\\91852\\Accenture Python\\C1\\chapter _3\n"
     ]
    }
   ],
   "source": [
    "import os\n",
    "\n",
    "print(os.getcwd()) # get current working directory"
   ]
  },
  {
   "cell_type": "markdown",
   "id": "58f78733",
   "metadata": {},
   "source": [
    "# Changing Directory\n",
    "\n",
    "we can change the current working directory by using the chdir() function of the os module."
   ]
  },
  {
   "cell_type": "code",
   "execution_count": 4,
   "id": "5221d36d",
   "metadata": {},
   "outputs": [
    {
     "name": "stdout",
     "output_type": "stream",
     "text": [
      "C:\\Users\\91852\\Accenture Python\\C1\\chapter_2\n"
     ]
    }
   ],
   "source": [
    "import os\n",
    "os.chdir(\"C:/Users/91852/Accenture Python/C1/chapter_2\")\n",
    "print(os.getcwd())"
   ]
  },
  {
   "cell_type": "code",
   "execution_count": 7,
   "id": "60176a94",
   "metadata": {},
   "outputs": [],
   "source": [
    "with open(\"test11.txt\",\"w\") as f:\n",
    "    f.write(\"this is the test file python.\")"
   ]
  },
  {
   "cell_type": "markdown",
   "id": "b6e03eef",
   "metadata": {},
   "source": [
    "# Listing all Directories and Files\n",
    "In python,all files and sub-directories inside a directory can be retrieved using the listdir() function of the os module. "
   ]
  },
  {
   "cell_type": "code",
   "execution_count": 8,
   "id": "faefd690",
   "metadata": {},
   "outputs": [
    {
     "name": "stdout",
     "output_type": "stream",
     "text": [
      "['.ipynb_checkpoints', '1. Datatypes Overview.ipynb', 'abschdf.ipynb', 'Data Structures_ Dictionaries.ipynb', 'Data Structures_ Sets.ipynb', 'Data Structures_ Tuples.ipynb', 'Data structures_list.ipynb', 'inputs() _functions.ipynb', 'List Methods.ipynb', 'Python Data Types.ipynb', 'Python Operators.ipynb', 'string_datatype_methods.ipynb', 'String_methods.ipynb', 'test', 'test.txt', 'test11.txt']\n"
     ]
    }
   ],
   "source": [
    "print(os.listdir())"
   ]
  },
  {
   "cell_type": "markdown",
   "id": "793b85a3",
   "metadata": {},
   "source": [
    "# Making a New Directory\n",
    "\n",
    "we can create a new directory using the mkdir() function of the os module"
   ]
  },
  {
   "cell_type": "code",
   "execution_count": 3,
   "id": "9122d2f6",
   "metadata": {},
   "outputs": [],
   "source": [
    "import os\n",
    "os.mkdir(\"test222\")"
   ]
  },
  {
   "cell_type": "markdown",
   "id": "9516eb2d",
   "metadata": {},
   "source": [
    "# Renaming a Directory or a file\n",
    "we can rename any directory or file using the os.remane() function which takes in 2 arguments:\n",
    "    old name and new name"
   ]
  },
  {
   "cell_type": "code",
   "execution_count": 4,
   "id": "a4c0938b",
   "metadata": {},
   "outputs": [],
   "source": [
    "import os\n",
    "os.rename(\"test1\",\"test-news\")"
   ]
  },
  {
   "cell_type": "markdown",
   "id": "0e35e0f4",
   "metadata": {},
   "source": [
    "# Removing Directory or file\n",
    "we can remove a file using the remove() functionof the os module"
   ]
  },
  {
   "cell_type": "code",
   "execution_count": 14,
   "id": "60948d81",
   "metadata": {},
   "outputs": [
    {
     "name": "stdout",
     "output_type": "stream",
     "text": [
      "['.ipynb_checkpoints', '1. Datatypes Overview.ipynb', 'Data Structures_ Dictionaries.ipynb', 'Data Structures_ Sets.ipynb', 'Data Structures_ Tuples.ipynb', 'Data structures_list.ipynb', 'inputs() _functions.ipynb', 'List Methods.ipynb', 'Python Data Types.ipynb', 'Python Operators.ipynb', 'string_datatype_methods.ipynb', 'String_methods.ipynb', 'test', 'test-news', 'test.txt', 'test11.txt']\n"
     ]
    },
    {
     "ename": "FileNotFoundError",
     "evalue": "[WinError 2] The system cannot find the file specified: 'afsdkjsgfldhglkdgfhlskghj.ipynb'",
     "output_type": "error",
     "traceback": [
      "\u001b[1;31m---------------------------------------------------------------------------\u001b[0m",
      "\u001b[1;31mFileNotFoundError\u001b[0m                         Traceback (most recent call last)",
      "\u001b[1;32m~\\AppData\\Local\\Temp\\ipykernel_11260\\2048369804.py\u001b[0m in \u001b[0;36m<module>\u001b[1;34m\u001b[0m\n\u001b[0;32m      1\u001b[0m \u001b[1;32mimport\u001b[0m \u001b[0mos\u001b[0m\u001b[1;33m\u001b[0m\u001b[1;33m\u001b[0m\u001b[0m\n\u001b[0;32m      2\u001b[0m \u001b[0mprint\u001b[0m\u001b[1;33m(\u001b[0m\u001b[0mos\u001b[0m\u001b[1;33m.\u001b[0m\u001b[0mlistdir\u001b[0m\u001b[1;33m(\u001b[0m\u001b[1;33m)\u001b[0m\u001b[1;33m)\u001b[0m\u001b[1;33m\u001b[0m\u001b[1;33m\u001b[0m\u001b[0m\n\u001b[1;32m----> 3\u001b[1;33m \u001b[0mos\u001b[0m\u001b[1;33m.\u001b[0m\u001b[0mremove\u001b[0m\u001b[1;33m(\u001b[0m\u001b[1;34m\"afsdkjsgfldhglkdgfhlskghj.ipynb\"\u001b[0m\u001b[1;33m)\u001b[0m\u001b[1;33m\u001b[0m\u001b[1;33m\u001b[0m\u001b[0m\n\u001b[0m\u001b[0;32m      4\u001b[0m \u001b[0mprint\u001b[0m\u001b[1;33m(\u001b[0m\u001b[0mos\u001b[0m\u001b[1;33m.\u001b[0m\u001b[0mlistdir\u001b[0m\u001b[1;33m(\u001b[0m\u001b[1;33m)\u001b[0m\u001b[1;33m)\u001b[0m\u001b[1;33m\u001b[0m\u001b[1;33m\u001b[0m\u001b[0m\n",
      "\u001b[1;31mFileNotFoundError\u001b[0m: [WinError 2] The system cannot find the file specified: 'afsdkjsgfldhglkdgfhlskghj.ipynb'"
     ]
    }
   ],
   "source": [
    "import os\n",
    "print(os.listdir())\n",
    "os.remove(\"afsdkjsgfldhglkdgfhlskghj.ipynb\")\n",
    "print(os.listdir())"
   ]
  },
  {
   "cell_type": "code",
   "execution_count": 36,
   "id": "61ea10ac",
   "metadata": {},
   "outputs": [],
   "source": [
    "# we can remove an empty directory using the rmdir() functions of the os module"
   ]
  },
  {
   "cell_type": "code",
   "execution_count": 17,
   "id": "19bbe6e4",
   "metadata": {},
   "outputs": [
    {
     "name": "stdout",
     "output_type": "stream",
     "text": [
      "['.ipynb_checkpoints', '1. Datatypes Overview.ipynb', 'afsdkjsgfldhglkdgfhlskghj.ipynb', 'Data Structures_ Dictionaries.ipynb', 'Data Structures_ Sets.ipynb', 'Data Structures_ Tuples.ipynb', 'Data structures_list.ipynb', 'inputs() _functions.ipynb', 'List Methods.ipynb', 'Python Data Types.ipynb', 'Python Operators.ipynb', 'string_datatype_methods.ipynb', 'String_methods.ipynb', 'test', 'test.txt', 'test11.txt']\n"
     ]
    },
    {
     "ename": "FileNotFoundError",
     "evalue": "[WinError 2] The system cannot find the file specified: 'test-news'",
     "output_type": "error",
     "traceback": [
      "\u001b[1;31m---------------------------------------------------------------------------\u001b[0m",
      "\u001b[1;31mFileNotFoundError\u001b[0m                         Traceback (most recent call last)",
      "\u001b[1;32m~\\AppData\\Local\\Temp\\ipykernel_11260\\3001608397.py\u001b[0m in \u001b[0;36m<module>\u001b[1;34m\u001b[0m\n\u001b[0;32m      1\u001b[0m \u001b[1;32mimport\u001b[0m \u001b[0mos\u001b[0m\u001b[1;33m\u001b[0m\u001b[1;33m\u001b[0m\u001b[0m\n\u001b[0;32m      2\u001b[0m \u001b[0mprint\u001b[0m\u001b[1;33m(\u001b[0m\u001b[0mos\u001b[0m\u001b[1;33m.\u001b[0m\u001b[0mlistdir\u001b[0m\u001b[1;33m(\u001b[0m\u001b[1;33m)\u001b[0m\u001b[1;33m)\u001b[0m\u001b[1;33m\u001b[0m\u001b[1;33m\u001b[0m\u001b[0m\n\u001b[1;32m----> 3\u001b[1;33m \u001b[0mos\u001b[0m\u001b[1;33m.\u001b[0m\u001b[0mrmdir\u001b[0m\u001b[1;33m(\u001b[0m\u001b[1;34m\"test-news\"\u001b[0m\u001b[1;33m)\u001b[0m\u001b[1;33m\u001b[0m\u001b[1;33m\u001b[0m\u001b[0m\n\u001b[0m\u001b[0;32m      4\u001b[0m \u001b[0mprint\u001b[0m\u001b[1;33m(\u001b[0m\u001b[0mos\u001b[0m\u001b[1;33m.\u001b[0m\u001b[0mlistdir\u001b[0m\u001b[1;33m(\u001b[0m\u001b[1;33m)\u001b[0m\u001b[1;33m)\u001b[0m\u001b[1;33m\u001b[0m\u001b[1;33m\u001b[0m\u001b[0m\n",
      "\u001b[1;31mFileNotFoundError\u001b[0m: [WinError 2] The system cannot find the file specified: 'test-news'"
     ]
    }
   ],
   "source": [
    "import os\n",
    "print(os.listdir())\n",
    "os.rmdir(\"test-news\")\n",
    "print(os.listdir())"
   ]
  },
  {
   "cell_type": "code",
   "execution_count": null,
   "id": "b2851c71",
   "metadata": {},
   "outputs": [],
   "source": []
  }
 ],
 "metadata": {
  "kernelspec": {
   "display_name": "Python 3 (ipykernel)",
   "language": "python",
   "name": "python3"
  },
  "language_info": {
   "codemirror_mode": {
    "name": "ipython",
    "version": 3
   },
   "file_extension": ".py",
   "mimetype": "text/x-python",
   "name": "python",
   "nbconvert_exporter": "python",
   "pygments_lexer": "ipython3",
   "version": "3.9.13"
  }
 },
 "nbformat": 4,
 "nbformat_minor": 5
}
