{
 "cells": [
  {
   "cell_type": "markdown",
   "id": "4829af59",
   "metadata": {},
   "source": [
    "# Function Arguments\n",
    "\n",
    "The following are the types of arguments that we can use to call a function:\n",
    "\n",
    "1) Default arguments\n",
    "\n",
    "2) Keyword arguments\n",
    "\n",
    "3) Required arguments\n",
    "\n",
    "4) Variable-length arguments\n",
    "\n",
    "1) Default Arguments\n",
    "\n",
    "A default argument is a kind of parameter that takes as input a default value if no value is supplied for the argument when the function is called. Default arguments are demonstrated in the following instance."
   ]
  },
  {
   "cell_type": "code",
   "execution_count": 1,
   "id": "b36ad390",
   "metadata": {},
   "outputs": [
    {
     "name": "stdout",
     "output_type": "stream",
     "text": [
      "Passing one argument\n",
      "num1 is:  10\n",
      "num2 is:  40\n",
      "Passing two arguments\n",
      "num1 is:  10\n",
      "num2 is:  30\n"
     ]
    }
   ],
   "source": [
    "# defining a function \n",
    "\n",
    "def function( num1, num2 = 40 ):  \n",
    "    print(\"num1 is: \", num1)  \n",
    "    print(\"num2 is: \", num2)  \n",
    "   \n",
    "   \n",
    "# Calling the function and passing only one argument  \n",
    "print( \"Passing one argument\" )  \n",
    "function(10)  \n",
    "  \n",
    "# Now giving two arguments to the function  \n",
    "print( \"Passing two arguments\" )  \n",
    "function(10,30)  "
   ]
  },
  {
   "cell_type": "markdown",
   "id": "163976f2",
   "metadata": {},
   "source": [
    "2) Keyword Arguments\n",
    "\n",
    "The arguments in a function called are connected to keyword arguments. If we provide keyword arguments while calling a function, the user uses the parameter label to identify which parameters value it is."
   ]
  },
  {
   "cell_type": "code",
   "execution_count": 1,
   "id": "2835e937",
   "metadata": {},
   "outputs": [
    {
     "name": "stdout",
     "output_type": "stream",
     "text": [
      "Without using keyword\n",
      "num1 is:  50\n",
      "num2 is:  30\n",
      "num3 is : 100\n",
      "With using keyword\n",
      "num1 is:  30\n",
      "num2 is:  50\n",
      "num3 is : 200\n"
     ]
    }
   ],
   "source": [
    "# Defining a function  \n",
    "def function( num1, num2 ,num3):  \n",
    "    print(\"num1 is: \", num1)  \n",
    "    print(\"num2 is: \", num2)\n",
    "    print(\"num3 is :\",num3)\n",
    "  \n",
    "# Calling function and passing arguments without using keyword  \n",
    "print( \"Without using keyword\" )  \n",
    "function( 50, 30,100)     \n",
    "      \n",
    "# Calling function and passing arguments using keyword  \n",
    "print( \"With using keyword\" )  \n",
    "function( num2 = 50, num1 = 30,num3=200)  "
   ]
  },
  {
   "cell_type": "markdown",
   "id": "d49faca2",
   "metadata": {},
   "source": [
    "3) Required Arguments\n",
    "\n",
    "The arguments given to a function while calling in a pre-defined positional sequence are required arguments. The count of required arguments in the method call must be equal to the count of arguments provided while defining the function.\n",
    "\n",
    "We must send two arguments to the function function() in the correct order, or it will return a syntax error, as seen below."
   ]
  },
  {
   "cell_type": "code",
   "execution_count": 3,
   "id": "8d343714",
   "metadata": {},
   "outputs": [
    {
     "name": "stdout",
     "output_type": "stream",
     "text": [
      "Passing out of order arguments\n",
      "num1 is:  30\n",
      "num2 is:  20\n",
      "Passing only one argument\n",
      "num1 is:  30\n",
      "num2 is:  1\n"
     ]
    }
   ],
   "source": [
    "# Defining a function  \n",
    "def function( num1, num2 ):  \n",
    "    print(\"num1 is: \", num1)  \n",
    "    print(\"num2 is: \", num2)  \n",
    "  \n",
    "# Calling function and passing two arguments out of order, we need num1 to be 20 and num2 to be 30  \n",
    "print( \"Passing out of order arguments\" )  \n",
    "function( 30, 20 )     \n",
    "  \n",
    "# Calling function and passing only one argument  \n",
    "print( \"Passing only one argument\" )  \n",
    "try:  \n",
    "    function( 30,1)  \n",
    "except:  \n",
    "    print( \"Function needs two positional arguments\" )  "
   ]
  },
  {
   "cell_type": "code",
   "execution_count": 8,
   "id": "3dfbabdd",
   "metadata": {},
   "outputs": [
    {
     "name": "stdout",
     "output_type": "stream",
     "text": [
      "Passing out of order arguments\n",
      "num1 is:  30\n",
      "num2 is:  20\n",
      "Passing only one argument\n",
      "Function needs two positional arguments\n"
     ]
    }
   ],
   "source": [
    "# Defining a function  \n",
    "def function( num1, num2 ):  \n",
    "    print(\"num1 is: \", num1)  \n",
    "    print(\"num2 is: \", num2)  \n",
    "  \n",
    "# Calling function and passing two arguments out of order, we need num1 to be 20 and num2 to be 30  \n",
    "print( \"Passing out of order arguments\" )  \n",
    "function( 30, 20 )     \n",
    "  \n",
    "# Calling function and passing only one argument  \n",
    "print( \"Passing only one argument\" )  \n",
    "try:  \n",
    "    function( 30)  \n",
    "except:  \n",
    "    print( \"Function needs two positional arguments\" ) "
   ]
  },
  {
   "cell_type": "markdown",
   "id": "bb2b6a76",
   "metadata": {},
   "source": [
    "4) Variable-Length Arguments\n",
    "\n",
    "We can use special characters in Python functions to pass as many arguments as we want in a function. There are two types of characters that we can use for this purpose:\n",
    "\n",
    "1)*args -These are Non-Keyword Arguments\n",
    "\n",
    "2)**kwargs - These are Keyword Arguments."
   ]
  },
  {
   "cell_type": "markdown",
   "id": "1d9e8f8c",
   "metadata": {},
   "source": [
    "Arbitrary Arguments, *args\n",
    "\n",
    "\n",
    "If you do not know how many arguments that will be passed into your function, add a * before the parameter name in the function definition.\n",
    "\n",
    "This way the function will receive a tuple of arguments, and can access the items accordingly:"
   ]
  },
  {
   "cell_type": "code",
   "execution_count": 5,
   "id": "5067f9db",
   "metadata": {},
   "outputs": [
    {
     "name": "stdout",
     "output_type": "stream",
     "text": [
      "['PYTHON', 'FUNCTIONS', 'TUTORIAL']\n"
     ]
    }
   ],
   "source": [
    "# *args -These are Non-Keyword Arguments\n",
    "# Defining a function  \n",
    "def function( *args_list ):#we should use an asterisk ( * ) before the parameter name \n",
    "                         # to pass a variable number of arguments.\n",
    "    ans = []  \n",
    "    for l in args_list:  \n",
    "        ans.append( l.upper() )  \n",
    "    return ans  \n",
    "# Passing args arguments  \n",
    "object = function('Python', 'Functions', 'tutorial')  \n",
    "print( object )  "
   ]
  },
  {
   "cell_type": "code",
   "execution_count": 16,
   "id": "72f93807",
   "metadata": {},
   "outputs": [
    {
     "name": "stdout",
     "output_type": "stream",
     "text": [
      "The youngest child is rani\n",
      "The youngest child is a\n"
     ]
    }
   ],
   "source": [
    "kids=[\"a\",\"b\",\"c\",\"d\"] #  global\n",
    "def my_function(*kids):\n",
    "  print(\"The youngest child is \" + kids[0])\n",
    "\n",
    "my_function(\"rani\",\"seetha\",\"ram\",\"raju\")\n",
    "print(\"The youngest child is \" + kids[0])\n"
   ]
  },
  {
   "cell_type": "code",
   "execution_count": 4,
   "id": "1b86f749",
   "metadata": {},
   "outputs": [
    {
     "name": "stdout",
     "output_type": "stream",
     "text": [
      "1\n",
      "2\n",
      "3\n",
      "4\n",
      "5\n",
      "6\n",
      "7\n",
      "8\n",
      "9\n",
      "12\n",
      "34\n",
      "56\n",
      "apple\n",
      "banana\n",
      "cherry\n"
     ]
    }
   ],
   "source": [
    "def function(*x):\n",
    "    for i in x:\n",
    "        print(i)\n",
    "function(1,2,3,4,5,6,7,8,9)\n",
    "function(12,34,56)\n",
    "function(\"apple\",\"banana\",\"cherry\")"
   ]
  },
  {
   "cell_type": "code",
   "execution_count": 7,
   "id": "a7eec093",
   "metadata": {},
   "outputs": [
    {
     "name": "stdout",
     "output_type": "stream",
     "text": [
      "Sum =  6\n",
      "Sum =  13\n"
     ]
    }
   ],
   "source": [
    "# program to find sum of multiple numbers \n",
    "\n",
    "def find_sum(*numbers):\n",
    "    result = 0\n",
    "    \n",
    "    for num in numbers:\n",
    "        result = result + num\n",
    "    \n",
    "    print(\"Sum = \", result)\n",
    "\n",
    "# function call with 3 arguments\n",
    "find_sum(1, 2, 3)\n",
    "\n",
    "# function call with 2 arguments\n",
    "find_sum(4, 9)"
   ]
  },
  {
   "cell_type": "code",
   "execution_count": 8,
   "id": "fbed7393",
   "metadata": {},
   "outputs": [
    {
     "name": "stdout",
     "output_type": "stream",
     "text": [
      "Sum: 8\n",
      "Sum: 22\n",
      "Sum: 17\n"
     ]
    }
   ],
   "source": [
    "def adder(*num):\n",
    "    sum = 0\n",
    "    \n",
    "    for n in num:\n",
    "        sum = sum + n\n",
    "\n",
    "    print(\"Sum:\",sum)\n",
    "\n",
    "adder(3,5)\n",
    "adder(4,5,6,7)\n",
    "adder(1,2,3,5,6)"
   ]
  },
  {
   "cell_type": "markdown",
   "id": "fa6bb0af",
   "metadata": {},
   "source": [
    "Arbitrary Keyword Arguments, **kwargs\n",
    "\n",
    "\n",
    "If you do not know how many keyword arguments that will be passed into your function, add two asterisk: ** before the parameter name in the function definition.\n",
    "\n",
    "This way the function will receive a dictionary of arguments, and can access the items accordingly:"
   ]
  },
  {
   "cell_type": "code",
   "execution_count": 75,
   "id": "2bbc72d5",
   "metadata": {},
   "outputs": [
    {
     "data": {
      "text/plain": [
       "{'First', 'Functions', 'Python', 'Second', 'Third', 'Tutorial'}"
      ]
     },
     "execution_count": 75,
     "metadata": {},
     "output_type": "execute_result"
    }
   ],
   "source": [
    "set(['First', 'Python', 'Second', 'Functions', 'Third', 'Tutorial'])"
   ]
  },
  {
   "cell_type": "code",
   "execution_count": 72,
   "id": "d98fe67f",
   "metadata": {},
   "outputs": [
    {
     "name": "stdout",
     "output_type": "stream",
     "text": [
      "[['First', 'Python'], ['Second', 'Functions'], ['Third', 'Tutorial']]\n"
     ]
    }
   ],
   "source": [
    "#**kwargs - These are Keyword Arguments.\n",
    "# defining a function  \n",
    "def function( **kargs_list ):  \n",
    "    ans = []\n",
    "    for key, value in kargs_list.items():  \n",
    "        ans.append([key, value])  \n",
    "    return ans  \n",
    "# Paasing kwargs arguments  \n",
    "object = function(First = \"Python\", Second = \"Functions\", Third = \"Tutorial\")  \n",
    "print(object)"
   ]
  },
  {
   "cell_type": "code",
   "execution_count": 23,
   "id": "6ccbf505",
   "metadata": {},
   "outputs": [
    {
     "name": "stdout",
     "output_type": "stream",
     "text": [
      "His last name is seetha\n"
     ]
    }
   ],
   "source": [
    "def my_function(**kid):\n",
    "  print(\"His last name is \" + kid[\"lname\"])\n",
    "\n",
    "my_function(fname = \"gandham\", lname = \"seetha\")\n"
   ]
  },
  {
   "cell_type": "code",
   "execution_count": 12,
   "id": "00c864f6",
   "metadata": {},
   "outputs": [
    {
     "name": "stdout",
     "output_type": "stream",
     "text": [
      "Data type of argument: <class 'dict'>\n",
      "Firstname is Sita\n",
      "Lastname is Sharma\n",
      "Age is 22\n",
      "Phone is 1234567890\n",
      "Data type of argument: <class 'dict'>\n",
      "Firstname is rani\n",
      "Lastname is ram\n",
      "Email is ram@gmail.com\n",
      "Country is india\n",
      "Age is 25\n",
      "Phone is 9876543210\n"
     ]
    }
   ],
   "source": [
    "def intro(**data):\n",
    "    print(\"Data type of argument:\",type(data))\n",
    "\n",
    "    for key, value in data.items():\n",
    "        print(\"{} is {}\".format(key,value))\n",
    "\n",
    "intro(Firstname=\"Sita\", Lastname=\"Sharma\", Age=22, Phone=1234567890)\n",
    "intro(Firstname=\"rani\", Lastname=\"ram\", Email=\"ram@gmail.com\", Country=\"india\", Age=25, Phone=9876543210)"
   ]
  },
  {
   "cell_type": "code",
   "execution_count": 7,
   "id": "8b7bc954",
   "metadata": {},
   "outputs": [
    {
     "name": "stdout",
     "output_type": "stream",
     "text": [
      "length of the string function: 7\n",
      "length of the string function : 6\n"
     ]
    }
   ],
   "source": [
    "# calling function\n",
    "def func(string):\n",
    "    return len(string)\n",
    "print(\"length of the string function:\",func(\"funtion\"))\n",
    "print(\"length of the string function :\",func(\"python\"))"
   ]
  },
  {
   "cell_type": "code",
   "execution_count": 8,
   "id": "6f91766f",
   "metadata": {},
   "outputs": [
    {
     "name": "stdout",
     "output_type": "stream",
     "text": [
      "hi\n"
     ]
    },
    {
     "data": {
      "text/plain": [
       "4"
      ]
     },
     "execution_count": 8,
     "metadata": {},
     "output_type": "execute_result"
    }
   ],
   "source": [
    "def f(x):\n",
    "    print(\"hi\")\n",
    "    return x*x\n",
    "f(2)"
   ]
  },
  {
   "cell_type": "code",
   "execution_count": 9,
   "id": "6e1f5fcb",
   "metadata": {},
   "outputs": [
    {
     "name": "stdout",
     "output_type": "stream",
     "text": [
      "Squares of the list is:  [9, 16, 25]\n"
     ]
    }
   ],
   "source": [
    "def square( my_list ):  \n",
    "    '''''This function will find the square of items in list'''  \n",
    "    squares = []  \n",
    "    for i in my_list:  \n",
    "        squares.append( i**2 )  \n",
    "    return squares  \n",
    "  \n",
    "# calling the defined function  \n",
    "list1 = [3,4,5] \n",
    "result = square( list1 )  \n",
    "print( \"Squares of the list is: \", result )  "
   ]
  },
  {
   "cell_type": "code",
   "execution_count": 10,
   "id": "e4706a8a",
   "metadata": {},
   "outputs": [
    {
     "name": "stdout",
     "output_type": "stream",
     "text": [
      "sum of : 14\n",
      "14\n"
     ]
    }
   ],
   "source": [
    "def fun():\n",
    "    a=12\n",
    "    b=2\n",
    "    c=a+b\n",
    "    return c\n",
    "print(\"sum of :\",fun())\n",
    "print(fun())"
   ]
  },
  {
   "cell_type": "code",
   "execution_count": 11,
   "id": "7d645224",
   "metadata": {},
   "outputs": [
    {
     "name": "stdout",
     "output_type": "stream",
     "text": [
      "sum is : 5\n"
     ]
    },
    {
     "data": {
      "text/plain": [
       "5"
      ]
     },
     "execution_count": 11,
     "metadata": {},
     "output_type": "execute_result"
    }
   ],
   "source": [
    "def sum():\n",
    "    a=2\n",
    "    b=3\n",
    "    c=a+b\n",
    "    return c\n",
    "#calling sum() function in print statement\n",
    "print(\"sum is :\",sum())\n",
    "sum()"
   ]
  },
  {
   "cell_type": "code",
   "execution_count": 13,
   "id": "e45d255f",
   "metadata": {},
   "outputs": [
    {
     "name": "stdout",
     "output_type": "stream",
     "text": [
      "Enter a :12\n",
      "Enter b :12\n",
      "Sum= 24\n"
     ]
    }
   ],
   "source": [
    "# python function to calculate the sum of two variables \n",
    "\n",
    "# defining the function\n",
    "def sum(a,b):\n",
    "    return a+b\n",
    "# taking values from the user\n",
    "a=int(input(\"Enter a :\"))\n",
    "b=int(input(\"Enter b :\"))\n",
    "# printing the sum of a and b\n",
    "print(\"Sum=\",sum(a,b))"
   ]
  },
  {
   "cell_type": "markdown",
   "id": "e54babbc",
   "metadata": {},
   "source": [
    "# Python Lambda\n",
    "A lambda function is a small anonymous function.\n",
    "\n",
    "A lambda function can take any number of arguments, but can only have one expression.\n",
    "\n",
    "Syntax\n",
    "\n",
    "lambda arguments : expression"
   ]
  },
  {
   "attachments": {
    "image.png": {
     "image/png": "[encoded data removed]"
    }
   },
   "cell_type": "markdown",
   "id": "9fdd9f6a",
   "metadata": {},
   "source": [
    "![image.png](attachment:image.png)"
   ]
  },
  {
   "cell_type": "code",
   "execution_count": 14,
   "id": "b3a027d1",
   "metadata": {},
   "outputs": [
    {
     "name": "stdout",
     "output_type": "stream",
     "text": [
      "15\n"
     ]
    }
   ],
   "source": [
    "# Add 10 to argument a, and return the result:\n",
    "x = lambda a : a + 10\n",
    "print(x(5))"
   ]
  },
  {
   "cell_type": "code",
   "execution_count": 21,
   "id": "acae7ac9",
   "metadata": {},
   "outputs": [
    {
     "name": "stdout",
     "output_type": "stream",
     "text": [
      "-40\n"
     ]
    }
   ],
   "source": [
    "y=lambda x:x-20\n",
    "print(y(-20))"
   ]
  },
  {
   "cell_type": "code",
   "execution_count": 22,
   "id": "6f9bafb3",
   "metadata": {},
   "outputs": [
    {
     "data": {
      "text/plain": [
       "60"
      ]
     },
     "execution_count": 22,
     "metadata": {},
     "output_type": "execute_result"
    }
   ],
   "source": [
    "(lambda x, y: x + y)(20,40)"
   ]
  },
  {
   "cell_type": "code",
   "execution_count": 15,
   "id": "69e7928f",
   "metadata": {},
   "outputs": [
    {
     "name": "stdout",
     "output_type": "stream",
     "text": [
      "30\n"
     ]
    }
   ],
   "source": [
    "# Lambda functions can take any number of arguments:\n",
    "# Multiply argument a with argument b and return the result:\n",
    "x = lambda a, b : a * b\n",
    "print(x(5, 6))"
   ]
  },
  {
   "cell_type": "code",
   "execution_count": 17,
   "id": "cebc2259",
   "metadata": {},
   "outputs": [
    {
     "name": "stdout",
     "output_type": "stream",
     "text": [
      "13\n"
     ]
    }
   ],
   "source": [
    "# Summarize argument a, b, and c and return the result:\n",
    "x = lambda a, b, c : a + b + c\n",
    "print(x(5, 6, 2))"
   ]
  },
  {
   "cell_type": "markdown",
   "id": "6d922c2e",
   "metadata": {},
   "source": [
    "# using lambda with filter() function\n",
    " The filter() function is useful to filter out the elements of a sequence depending on the function"
   ]
  },
  {
   "cell_type": "code",
   "execution_count": 24,
   "id": "f3d33867",
   "metadata": {},
   "outputs": [
    {
     "name": "stdout",
     "output_type": "stream",
     "text": [
      "[40, 56, 33, 70]\n"
     ]
    }
   ],
   "source": [
    "num=[10,40,56,27,33,15,70]\n",
    "greater=list(filter(lambda num : num>30,num))\n",
    "print(greater)"
   ]
  },
  {
   "cell_type": "code",
   "execution_count": 24,
   "id": "eef5b495",
   "metadata": {},
   "outputs": [
    {
     "name": "stdout",
     "output_type": "stream",
     "text": [
      "[55, 75, 13, 63]\n"
     ]
    }
   ],
   "source": [
    "# the filter() method to return only odd numbers from a list\n",
    "list1=[34, 12, 64, 55, 75, 13, 63]  \n",
    "odd_list=list(filter(lambda num : (num%2!=0),list1))\n",
    "print(odd_list)"
   ]
  },
  {
   "cell_type": "code",
   "execution_count": 25,
   "id": "547514df",
   "metadata": {},
   "outputs": [
    {
     "name": "stdout",
     "output_type": "stream",
     "text": [
      "[90, 59, 21, 60]\n"
     ]
    }
   ],
   "source": [
    "# Filter all people having age more than 18, using lambda and filter() function\n",
    "# Python 3 code to people above 18 yrs\n",
    "ages = [13, 90, 17, 59, 21, 60, 5]\n",
    " \n",
    "adults = list(filter(lambda age: age > 18, ages))\n",
    " \n",
    "print(adults)"
   ]
  },
  {
   "cell_type": "markdown",
   "id": "8ff7f937",
   "metadata": {},
   "source": [
    "#  map() function \n",
    " The map() function is useful to perform some operation on each element of a sequence depending a function"
   ]
  },
  {
   "cell_type": "code",
   "execution_count": 17,
   "id": "88e18bb2",
   "metadata": {},
   "outputs": [
    {
     "name": "stdout",
     "output_type": "stream",
     "text": [
      "[20, 80, 112, 54, 66, 30, 140]\n"
     ]
    }
   ],
   "source": [
    "list2=[10,40,56,27,33,15,70]\n",
    "double_the_num=list(map(lambda x : x*2,list2))\n",
    "print(double_the_num)"
   ]
  },
  {
   "cell_type": "code",
   "execution_count": 26,
   "id": "8efca72b",
   "metadata": {},
   "outputs": [
    {
     "name": "stdout",
     "output_type": "stream",
     "text": [
      "['DOG', 'CAT', 'PARROT', 'RABBIT']\n"
     ]
    }
   ],
   "source": [
    "# Transform all elements of a list to upper case using lambda and map()function\n",
    "animals = ['dog', 'cat', 'parrot', 'rabbit']\n",
    "# here we intend to change all animal names\n",
    "# to upper case and return the same\n",
    "uppered_animals = list(map(lambda animal: animal.upper(), animals))\n",
    " \n",
    "print(uppered_animals)"
   ]
  },
  {
   "cell_type": "code",
   "execution_count": 28,
   "id": "aecb015f",
   "metadata": {},
   "outputs": [
    {
     "data": {
      "text/plain": [
       "[1, 8, 27, 64, 125, 216, 343, 512, 729]"
      ]
     },
     "execution_count": 28,
     "metadata": {},
     "output_type": "execute_result"
    }
   ],
   "source": [
    "# The example below cubes every number in the list.\n",
    "list_1 = [1,2,3,4,5,6,7,8,9]\n",
    "cubed = map(lambda x: pow(x,3), list_1)\n",
    "list(cubed)"
   ]
  },
  {
   "cell_type": "markdown",
   "id": "2785045c",
   "metadata": {},
   "source": [
    "# reduce() function\n",
    "The reduce () function reduce a sequence of element to a single value by processing the elements according to a function suppiled."
   ]
  },
  {
   "cell_type": "code",
   "execution_count": 35,
   "id": "39ba42d7",
   "metadata": {},
   "outputs": [],
   "source": [
    "import functools "
   ]
  },
  {
   "cell_type": "code",
   "execution_count": 36,
   "id": "cce1314b",
   "metadata": {},
   "outputs": [
    {
     "name": "stdout",
     "output_type": "stream",
     "text": [
      "the maximum element of the list is : 6\n"
     ]
    }
   ],
   "source": [
    "list1 =[1,2,3,4,5,6]\n",
    "print(\"the maximum element of the list is :\",end=\" \")\n",
    "print(functools.reduce(lambda a,b : a if a>b else b,list1))"
   ]
  },
  {
   "cell_type": "code",
   "execution_count": 27,
   "id": "79f9eef8",
   "metadata": {},
   "outputs": [
    {
     "name": "stdout",
     "output_type": "stream",
     "text": [
      "193\n"
     ]
    }
   ],
   "source": [
    "# Sum of all elements in a list using lambda and reduce() function\n",
    "from functools import reduce\n",
    "li = [5, 8, 10, 20, 50, 100]\n",
    "sum = reduce((lambda x, y: x + y), li)\n",
    "print(sum)"
   ]
  },
  {
   "cell_type": "markdown",
   "id": "8417c4e2",
   "metadata": {},
   "source": [
    "Here the results of the previous two elements are added to the next element and this goes on till the end of the list like (((((5+8)+10)+20)+50)+100)."
   ]
  },
  {
   "cell_type": "code",
   "execution_count": 39,
   "id": "717c5126",
   "metadata": {},
   "outputs": [
    {
     "name": "stdout",
     "output_type": "stream",
     "text": [
      "15\n"
     ]
    }
   ],
   "source": [
    "from functools import reduce\n",
    "def add(x,y):\n",
    "    return x+y\n",
    " \n",
    "c = [1,2,3,4,5]\n",
    " \n",
    "total = reduce(add, c)\n",
    " \n",
    "print(total)"
   ]
  },
  {
   "cell_type": "markdown",
   "id": "63b2affb",
   "metadata": {},
   "source": [
    "# Using Lambda Function with if-else\n",
    "We will use the lambda function with the if-else block."
   ]
  },
  {
   "cell_type": "code",
   "execution_count": 23,
   "id": "d3c54388",
   "metadata": {},
   "outputs": [
    {
     "name": "stdout",
     "output_type": "stream",
     "text": [
      "35\n"
     ]
    }
   ],
   "source": [
    "# Code to use lambda function with if-else  \n",
    "Minimum = lambda x, y : x if (x < y) else y  \n",
    "   \n",
    "print(Minimum( 35, 74 ))  "
   ]
  },
  {
   "cell_type": "code",
   "execution_count": 24,
   "id": "c51b2f09",
   "metadata": {},
   "outputs": [
    {
     "name": "stdout",
     "output_type": "stream",
     "text": [
      "2\n"
     ]
    }
   ],
   "source": [
    "# Example of lambda function using if-else\n",
    "Max = lambda a, b : a if(a > b) else b\n",
    " \n",
    "print(Max(1, 2))"
   ]
  },
  {
   "cell_type": "code",
   "execution_count": 14,
   "id": "09a1be61",
   "metadata": {},
   "outputs": [
    {
     "name": "stdout",
     "output_type": "stream",
     "text": [
      "Hello World\n"
     ]
    }
   ],
   "source": [
    "greet = lambda : print('Hello World')\n",
    "greet()"
   ]
  },
  {
   "cell_type": "code",
   "execution_count": 67,
   "id": "473f3b7c",
   "metadata": {},
   "outputs": [
    {
     "name": "stdout",
     "output_type": "stream",
     "text": [
      "{'red': 3, 'blue': 4, 'green': 5, 'yellow': 6, 'black': 5}\n"
     ]
    }
   ],
   "source": [
    "def count_letters(l):\n",
    "    count={}\n",
    "    for i in l:\n",
    "        count[i]=len(i)\n",
    "    return count\n",
    "colors=[\"red\",\"blue\",\"green\",\"yellow\",\"black\"]\n",
    "print(count_letters(colors))\n",
    "    "
   ]
  },
  {
   "cell_type": "code",
   "execution_count": 2,
   "id": "c89036e4",
   "metadata": {
    "scrolled": true
   },
   "outputs": [
    {
     "name": "stdout",
     "output_type": "stream",
     "text": [
      "[2, 6, 8, 4]\n"
     ]
    }
   ],
   "source": [
    "# Here, we are creating a set of filtered elements.The geteven function returns even values.\n",
    " # Python set() function example  \n",
    "def geteven(data):  \n",
    "    if data%2 == 0:  \n",
    "        return data  \n",
    "      \n",
    "evenval = filter(geteven,[2,5,6,9,8,4])  \n",
    "# Calling function  \n",
    "result = list(evenval)  \n",
    "# Displaying result  \n",
    "print(result)  "
   ]
  },
  {
   "cell_type": "code",
   "execution_count": 64,
   "id": "8a78dc7f",
   "metadata": {},
   "outputs": [
    {
     "name": "stdout",
     "output_type": "stream",
     "text": [
      "[2, 6, 8, 4]\n"
     ]
    }
   ],
   "source": [
    "def geteven(data):  \n",
    "    if data%2 == 0:  \n",
    "        return data  \n",
    "      \n",
    "evenval = filter(geteven,[2,5,6,9,8,4])  \n",
    "# Calling function  \n",
    "result = list(evenval)  \n",
    "# Displaying result  \n",
    "print(result)  "
   ]
  },
  {
   "cell_type": "code",
   "execution_count": 4,
   "id": "11e2da3b",
   "metadata": {},
   "outputs": [
    {
     "name": "stdout",
     "output_type": "stream",
     "text": [
      "hello b d i\n"
     ]
    }
   ],
   "source": [
    "def my_function(x,y,z):\n",
    "  print(\"hello \" + x[1],y[0],z[2])\n",
    "\n",
    "my_function(\"abc\",\"def\",\"ghi\")"
   ]
  },
  {
   "cell_type": "code",
   "execution_count": 12,
   "id": "7decf1fb",
   "metadata": {},
   "outputs": [
    {
     "name": "stdout",
     "output_type": "stream",
     "text": [
      "hello apple item ananab\n"
     ]
    }
   ],
   "source": [
    "def my_function(a,b,c,d,e,f):\n",
    "    print(\"hello \" + a[0:5],c[0:4],f[::-1])\n",
    "my_function(\"apple\",\"colors\",\"items\",\"chair\",\"mango\",\"banana\")"
   ]
  },
  {
   "cell_type": "code",
   "execution_count": 55,
   "id": "93d519dd",
   "metadata": {},
   "outputs": [
    {
     "name": "stdout",
     "output_type": "stream",
     "text": [
      "hello 1\n"
     ]
    }
   ],
   "source": [
    "def my_function(a,b,c,d,e,f):\n",
    "    print(\"hello \"+a[0] )\n",
    "my_function(\"1\",\"2\",\"3\",\"4\",\"5\",\"6\")"
   ]
  },
  {
   "cell_type": "code",
   "execution_count": 15,
   "id": "a4b053b7",
   "metadata": {},
   "outputs": [
    {
     "name": "stdout",
     "output_type": "stream",
     "text": [
      "nohtyp\n",
      "nohtyp\n",
      "nohtyp\n",
      "nohtyp\n",
      "nohtyp\n",
      "nohtyp\n"
     ]
    }
   ],
   "source": [
    "x=\"python\"\n",
    "for i in x:\n",
    "    print(x[::-1])"
   ]
  },
  {
   "cell_type": "code",
   "execution_count": null,
   "id": "56e22eed",
   "metadata": {},
   "outputs": [],
   "source": []
  }
 ],
 "metadata": {
  "kernelspec": {
   "display_name": "Python 3 (ipykernel)",
   "language": "python",
   "name": "python3"
  },
  "language_info": {
   "codemirror_mode": {
    "name": "ipython",
    "version": 3
   },
   "file_extension": ".py",
   "mimetype": "text/x-python",
   "name": "python",
   "nbconvert_exporter": "python",
   "pygments_lexer": "ipython3",
   "version": "3.9.13"
  }
 },
 "nbformat": 4,
 "nbformat_minor": 5
}
