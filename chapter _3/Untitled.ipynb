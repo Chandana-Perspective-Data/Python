{
 "cells": [
  {
   "cell_type": "code",
   "execution_count": 4,
   "id": "f9b7e6b4",
   "metadata": {},
   "outputs": [
    {
     "name": "stdout",
     "output_type": "stream",
     "text": [
      "Enter an integer: 12\n",
      "21\n"
     ]
    }
   ],
   "source": [
    "num = int(input(\"Enter an integer: \"))\n",
    "\n",
    "# Convert the integer to a string and reverse it\n",
    "num_str = str(num)\n",
    "num_str_reversed = num_str[::-1]\n",
    "num_reversed = int(num_str_reversed)\n",
    "print(num_reversed )"
   ]
  },
  {
   "cell_type": "code",
   "execution_count": 5,
   "id": "a673870d",
   "metadata": {},
   "outputs": [
    {
     "name": "stdout",
     "output_type": "stream",
     "text": [
      "Enter an integer: 123\n",
      "The reversed integer is: 321\n"
     ]
    }
   ],
   "source": [
    "num = int(input(\"Enter an integer: \"))\n",
    "\n",
    "# Convert the integer to a string and reverse it\n",
    "num_str = str(num)\n",
    "num_str_reversed = num_str[::-1]\n",
    "num_reversed = int(num_str_reversed)\n",
    "\n",
    "print(\"The reversed integer is:\", num_reversed)\n"
   ]
  },
  {
   "cell_type": "code",
   "execution_count": null,
   "id": "c8347c24",
   "metadata": {},
   "outputs": [],
   "source": []
  }
 ],
 "metadata": {
  "kernelspec": {
   "display_name": "Python 3 (ipykernel)",
   "language": "python",
   "name": "python3"
  },
  "language_info": {
   "codemirror_mode": {
    "name": "ipython",
    "version": 3
   },
   "file_extension": ".py",
   "mimetype": "text/x-python",
   "name": "python",
   "nbconvert_exporter": "python",
   "pygments_lexer": "ipython3",
   "version": "3.9.13"
  }
 },
 "nbformat": 4,
 "nbformat_minor": 5
}
