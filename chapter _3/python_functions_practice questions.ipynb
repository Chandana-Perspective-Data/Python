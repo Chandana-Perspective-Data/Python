{
 "cells": [
  {
   "cell_type": "code",
   "execution_count": 1,
   "id": "80e978c7",
   "metadata": {},
   "outputs": [
    {
     "name": "stdout",
     "output_type": "stream",
     "text": [
      "9\n"
     ]
    }
   ],
   "source": [
    "#1. Write a Python program to access a function inside a function.\n",
    "def test(a):\n",
    "        def add(b):\n",
    "                nonlocal a\n",
    "                a += 1\n",
    "                return a+b\n",
    "        return add\n",
    "func= test(4)\n",
    "print(func(4))\n"
   ]
  },
  {
   "cell_type": "markdown",
   "id": "c84c57a6",
   "metadata": {},
   "source": [
    "# 2.Write a program to create a function that takes two arguments, name and age, and print their value."
   ]
  },
  {
   "cell_type": "code",
   "execution_count": 2,
   "id": "04bdd040",
   "metadata": {},
   "outputs": [
    {
     "name": "stdout",
     "output_type": "stream",
     "text": [
      "python 25\n"
     ]
    }
   ],
   "source": [
    "def demo(name, age):\n",
    "    # print value\n",
    "    print(name, age)\n",
    "\n",
    "# call function\n",
    "demo(\"python\", 25)"
   ]
  },
  {
   "cell_type": "markdown",
   "id": "4a57f394",
   "metadata": {},
   "source": [
    "# 3.Write a program to create function func1() to accept a variable length of arguments and print their value"
   ]
  },
  {
   "cell_type": "code",
   "execution_count": 3,
   "id": "a31fc1bc",
   "metadata": {},
   "outputs": [
    {
     "name": "stdout",
     "output_type": "stream",
     "text": [
      "20\n",
      "40\n",
      "60\n",
      "80\n",
      "100\n"
     ]
    }
   ],
   "source": [
    "def func1(*args):\n",
    "    for i in args:\n",
    "        print(i)\n",
    "\n",
    "func1(20, 40, 60)\n",
    "func1(80, 100)"
   ]
  },
  {
   "cell_type": "markdown",
   "id": "ca5350c7",
   "metadata": {},
   "source": [
    "# 4..Write a program to create function calculation() such that it can accept two variables and calculate addition and subtraction. Also, it must return both addition and subtraction in a single return call."
   ]
  },
  {
   "cell_type": "code",
   "execution_count": 4,
   "id": "7122d816",
   "metadata": {},
   "outputs": [
    {
     "name": "stdout",
     "output_type": "stream",
     "text": [
      "(50, 30)\n"
     ]
    }
   ],
   "source": [
    "def calculation(a, b):\n",
    "    addition = a + b\n",
    "    subtraction = a - b\n",
    "    # return multiple values separated by comma\n",
    "    return addition, subtraction\n",
    "\n",
    "# get result in tuple format\n",
    "res = calculation(40, 10)\n",
    "print(res)"
   ]
  },
  {
   "cell_type": "markdown",
   "id": "3f717357",
   "metadata": {},
   "source": [
    "# 5..Write a program to create a function show_employee() using the following conditions.\n",
    "\n",
    "It should accept the employee’s name and salary and display both.\n",
    "\n",
    "If the salary is missing in the function call then assign default value 9000 to salary"
   ]
  },
  {
   "cell_type": "code",
   "execution_count": 5,
   "id": "4aef026c",
   "metadata": {},
   "outputs": [
    {
     "name": "stdout",
     "output_type": "stream",
     "text": [
      "Name: Ben salary: 12000\n",
      "Name: Jessa salary: 9000\n"
     ]
    }
   ],
   "source": [
    "# function with default argument\n",
    "def show_employee(name, salary=9000):\n",
    "    print(\"Name:\", name, \"salary:\", salary)\n",
    "\n",
    "show_employee(\"Ben\", 12000)\n",
    "show_employee(\"Jessa\")"
   ]
  },
  {
   "cell_type": "markdown",
   "id": "bce5e98a",
   "metadata": {},
   "source": [
    "# 6.Create an inner function to calculate the addition in the following way\n",
    "Create an outer function that will accept two parameters, a and b\n",
    "\n",
    "Create an inner function inside an outer function that will calculate the addition of a and b\n",
    "\n",
    "At last, an outer function will add 5 into addition and return it"
   ]
  },
  {
   "cell_type": "code",
   "execution_count": 6,
   "id": "6348292f",
   "metadata": {},
   "outputs": [
    {
     "name": "stdout",
     "output_type": "stream",
     "text": [
      "20\n"
     ]
    }
   ],
   "source": [
    "# outer function\n",
    "def outer_fun(a, b):\n",
    "    square = a ** 2\n",
    "\n",
    "    # inner function\n",
    "    def addition(a, b):\n",
    "        return a + b\n",
    "\n",
    "    # call inner function from outer function\n",
    "    add = addition(a, b)\n",
    "    # add 5 to the result\n",
    "    return add + 5\n",
    "\n",
    "result = outer_fun(5, 10)\n",
    "print(result)"
   ]
  },
  {
   "cell_type": "markdown",
   "id": "9017a5b5",
   "metadata": {},
   "source": [
    "# 7.Write a program to create a recursive function to calculate the sum of numbers from 0 to 10.\n",
    "\n",
    "A recursive function is a function that calls itself again and again."
   ]
  },
  {
   "cell_type": "code",
   "execution_count": 8,
   "id": "3531321a",
   "metadata": {},
   "outputs": [
    {
     "name": "stdout",
     "output_type": "stream",
     "text": [
      "55\n"
     ]
    }
   ],
   "source": [
    "def addition(num):\n",
    "    if num:\n",
    "        # call same function by reducing number by 1\n",
    "        return num + addition(num - 1)\n",
    "    else:\n",
    "        return 0\n",
    "\n",
    "res = addition(10)\n",
    "print(res)"
   ]
  },
  {
   "cell_type": "markdown",
   "id": "453bbb8c",
   "metadata": {},
   "source": [
    "# 8..Assign a different name to function and call it through the new name"
   ]
  },
  {
   "cell_type": "code",
   "execution_count": 9,
   "id": "627928f0",
   "metadata": {},
   "outputs": [
    {
     "name": "stdout",
     "output_type": "stream",
     "text": [
      "Emma 26\n",
      "Emma 26\n"
     ]
    }
   ],
   "source": [
    "def display_student(name, age):\n",
    "    print(name, age)\n",
    "\n",
    "# call using original name\n",
    "display_student(\"Emma\", 26)\n",
    "\n",
    "# assign new name\n",
    "showStudent = display_student\n",
    "# call using new name\n",
    "showStudent(\"Emma\", 26)"
   ]
  },
  {
   "cell_type": "markdown",
   "id": "8819646d",
   "metadata": {},
   "source": [
    "# 9.Define a function that accepts 2 values and return its sum, subtraction and multiplication.\n"
   ]
  },
  {
   "cell_type": "code",
   "execution_count": 10,
   "id": "8ffb07e2",
   "metadata": {},
   "outputs": [
    {
     "name": "stdout",
     "output_type": "stream",
     "text": [
      "Enter value of a: 7\n",
      "Enter value of b: 5\n",
      "Sum is 12, Sub is 2, & Multiply is 35\n"
     ]
    }
   ],
   "source": [
    "def result(a, b):\n",
    "    sum = a+b\n",
    "    sub = a-b\n",
    "    mul = a*b\n",
    "    print(f\"Sum is {sum}, Sub is {sub}, & Multiply is {mul}\")\n",
    "\n",
    "a = int(input(\"Enter value of a: \"))  # 7\n",
    "b = int(input(\"Enter value of b: \"))  # 5\n",
    "result(a,b)"
   ]
  },
  {
   "cell_type": "markdown",
   "id": "e55b0d98",
   "metadata": {},
   "source": [
    "# 10. Define a function that accepts roll number and returns whether the student is present or absent."
   ]
  },
  {
   "cell_type": "code",
   "execution_count": 11,
   "id": "cadd1912",
   "metadata": {},
   "outputs": [
    {
     "name": "stdout",
     "output_type": "stream",
     "text": [
      "Enter roll no. 34\n",
      "Roll number 34 is absent\n"
     ]
    }
   ],
   "source": [
    "def detail(roll):\n",
    "    x = [23,43,22,56]\n",
    "    if roll in x:\n",
    "        print(f\"Roll number {roll} is present\")\n",
    "    else:\n",
    "        print(f\"Roll number {roll} is absent\")\n",
    "roll = int(input(\"Enter roll no. \")) # 24\n",
    "detail(roll)\n",
    "\n",
    "# output\n",
    "# Roll number 24 is absent"
   ]
  },
  {
   "cell_type": "markdown",
   "id": "98ac3285",
   "metadata": {},
   "source": [
    "# 11.Define a function in python that accepts 3 values and returns the maximum of three numbers.\n"
   ]
  },
  {
   "cell_type": "code",
   "execution_count": 12,
   "id": "ba2ddd79",
   "metadata": {},
   "outputs": [
    {
     "name": "stdout",
     "output_type": "stream",
     "text": [
      "30 is maximum among all\n"
     ]
    }
   ],
   "source": [
    "def max(a, b, c):\n",
    "    if a > b and a > c:\n",
    "        print(f\"{a} is maximum among all\")\n",
    "    elif b > a and b > c:\n",
    "        print(f\"{b} is maximum among all\")\n",
    "    else:\n",
    "        print(f\"{c} is maximum among all\")\n",
    "\n",
    "max(30,22,18)"
   ]
  },
  {
   "cell_type": "markdown",
   "id": "3772da81",
   "metadata": {},
   "source": [
    "# 12. Define a function that accepts a number and returns whether the number is even or odd."
   ]
  },
  {
   "cell_type": "code",
   "execution_count": 13,
   "id": "d0a0f36a",
   "metadata": {},
   "outputs": [
    {
     "name": "stdout",
     "output_type": "stream",
     "text": [
      "Enter a number 12\n",
      "4 is Even number\n"
     ]
    }
   ],
   "source": [
    "def func(x):\n",
    "    if x % 2 == 0:\n",
    "        print(f\"{x} is Even number\")\n",
    "    else:\n",
    "        print(f\"{x} is Odd number\")\n",
    "x = int(input(\"Enter a number \"))\n",
    "func(4)"
   ]
  },
  {
   "cell_type": "markdown",
   "id": "5b108473",
   "metadata": {},
   "source": [
    "# 13.Define a function which counts vowels and consonant in a word."
   ]
  },
  {
   "cell_type": "code",
   "execution_count": 14,
   "id": "17373d9b",
   "metadata": {},
   "outputs": [
    {
     "name": "stdout",
     "output_type": "stream",
     "text": [
      "Enter Value: p\n",
      "Count of vowels is  0\n",
      "Count of consonant is  1\n"
     ]
    }
   ],
   "source": [
    "def count(val):\n",
    "    vov = 0\n",
    "    con = 0\n",
    "    for i in range(len(val)):\n",
    "        if val[i] in ['a','e','i','o','u']:\n",
    "            vov = vov+1\n",
    "        else:\n",
    "            con = con + 1\n",
    "\n",
    "    print(\"Count of vowels is \",vov)\n",
    "    print(\"Count of consonant is \",con)\n",
    "\n",
    "x = input(\"Enter Value: \") # pythonlobby\n",
    "count(x)"
   ]
  },
  {
   "cell_type": "markdown",
   "id": "9fb8585e",
   "metadata": {},
   "source": [
    "# 14. Define a function that returns Factorial of a number."
   ]
  },
  {
   "cell_type": "code",
   "execution_count": 15,
   "id": "c32066c1",
   "metadata": {},
   "outputs": [
    {
     "name": "stdout",
     "output_type": "stream",
     "text": [
      "Enter number 5\n",
      "Factorial is 120\n"
     ]
    }
   ],
   "source": [
    "def factorial(num):\n",
    "    fact = 1\n",
    "    while(num!=0):\n",
    "        fact *= num\n",
    "        num = num - 1\n",
    "    print(\"Factorial is\",fact)\n",
    "\n",
    "num = int(input(\"Enter number \"))\n",
    "factorial(num)"
   ]
  },
  {
   "cell_type": "markdown",
   "id": "f8714916",
   "metadata": {},
   "source": [
    "# 15.Define a function that accepts lowercase words and returns uppercase words."
   ]
  },
  {
   "cell_type": "code",
   "execution_count": 16,
   "id": "e49a8edc",
   "metadata": {},
   "outputs": [
    {
     "name": "stdout",
     "output_type": "stream",
     "text": [
      "Enter String: python\n",
      "PYTHON\n"
     ]
    }
   ],
   "source": [
    "def response(text):\n",
    "    z = text.upper()\n",
    "    print(z)\n",
    "\n",
    "text = input(\"Enter String: \")  # pythonlobby\n",
    "response(text)"
   ]
  },
  {
   "cell_type": "markdown",
   "id": "d4804474",
   "metadata": {},
   "source": [
    "# 16. Define a function that accepts radius and returns the area of a circle."
   ]
  },
  {
   "cell_type": "code",
   "execution_count": 17,
   "id": "34d71c2b",
   "metadata": {},
   "outputs": [
    {
     "name": "stdout",
     "output_type": "stream",
     "text": [
      "Enter Radius: 4\n",
      "50.24\n"
     ]
    }
   ],
   "source": [
    "def area(radius):\n",
    "    area = 3.14*radius*radius\n",
    "    return area\n",
    "\n",
    "radius = int(input(\"Enter Radius: \"))  # 4\n",
    "print(area(radius))"
   ]
  },
  {
   "cell_type": "code",
   "execution_count": null,
   "id": "583aa159",
   "metadata": {},
   "outputs": [],
   "source": []
  }
 ],
 "metadata": {
  "kernelspec": {
   "display_name": "Python 3 (ipykernel)",
   "language": "python",
   "name": "python3"
  },
  "language_info": {
   "codemirror_mode": {
    "name": "ipython",
    "version": 3
   },
   "file_extension": ".py",
   "mimetype": "text/x-python",
   "name": "python",
   "nbconvert_exporter": "python",
   "pygments_lexer": "ipython3",
   "version": "3.9.13"
  }
 },
 "nbformat": 4,
 "nbformat_minor": 5
}
