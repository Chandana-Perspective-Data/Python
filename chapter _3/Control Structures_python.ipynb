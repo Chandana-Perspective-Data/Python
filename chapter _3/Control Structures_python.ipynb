{
 "cells": [
  {
   "cell_type": "markdown",
   "id": "822ddbb6",
   "metadata": {},
   "source": [
    "# Python If ... Else"
   ]
  },
  {
   "cell_type": "markdown",
   "id": "b2a04211",
   "metadata": {},
   "source": [
    "Python Conditions and If statements"
   ]
  },
  {
   "cell_type": "markdown",
   "id": "39709d80",
   "metadata": {},
   "source": [
    "The if statement evaluates condition.\n",
    "\n",
    "If condition is evaluated to True, the code inside the body of if is executed.\n",
    "\n",
    "If condition is evaluated to False, the code inside the body of if is skipped."
   ]
  },
  {
   "cell_type": "markdown",
   "id": "7f5a49dd",
   "metadata": {},
   "source": [
    "Python supports the usual logical conditions from mathematics:\n",
    "\n",
    "Equals: a == b\n",
    "\n",
    "Not Equals: a != b\n",
    "\n",
    "Less than: a < b\n",
    "\n",
    "Less than or equal to: a <= b\n",
    "\n",
    "Greater than: a > b\n",
    "\n",
    "Greater than or equal to: a >= b"
   ]
  },
  {
   "cell_type": "markdown",
   "id": "b698e217",
   "metadata": {},
   "source": [
    " These conditions can be used in several ways, most commonly in \"if statements\" and loops."
   ]
  },
  {
   "cell_type": "markdown",
   "id": "90586ddf",
   "metadata": {},
   "source": [
    "# An \"if statement\" is written by using the if keyword."
   ]
  },
  {
   "cell_type": "code",
   "execution_count": null,
   "id": "a56574bf",
   "metadata": {},
   "outputs": [],
   "source": [
    "# If statement:\n",
    "a = 33\n",
    "b = 200\n",
    "if b < a:\n",
    "  print(\"b is greater than a\")"
   ]
  },
  {
   "cell_type": "code",
   "execution_count": null,
   "id": "3a60ab29",
   "metadata": {},
   "outputs": [],
   "source": [
    "print(\"hi\")"
   ]
  },
  {
   "cell_type": "markdown",
   "id": "119ece1c",
   "metadata": {},
   "source": [
    "In this example we use two variables, a and b, which are used as part of the if statement to test whether b is greater than a. As a is 33, and b is 200, we know that 200 is greater than 33, and so we print to screen that \"b is greater than a\"."
   ]
  },
  {
   "cell_type": "markdown",
   "id": "8f83b54d",
   "metadata": {},
   "source": [
    "# Indentation\n",
    "Python relies on indentation (whitespace at the beginning of a line) to define scope in the code. Other programming languages often use curly-brackets for this purpose."
   ]
  },
  {
   "cell_type": "code",
   "execution_count": null,
   "id": "1cc01e30",
   "metadata": {},
   "outputs": [],
   "source": [
    "a = 33\n",
    "b = 200\n",
    "if b < a:\n",
    "    print(\"b is greater than a\")"
   ]
  },
  {
   "cell_type": "code",
   "execution_count": null,
   "id": "68dee4e6",
   "metadata": {},
   "outputs": [],
   "source": [
    "# If statement, without indentation (will raise an error):\n",
    "a = 33\n",
    "b = 200\n",
    "if b > a:\n",
    "    print(\"b is greater than a\") # you will get an error"
   ]
  },
  {
   "cell_type": "code",
   "execution_count": null,
   "id": "22191156",
   "metadata": {},
   "outputs": [],
   "source": [
    "num = int(input(\"enter the number?\"))  \n",
    "if num%2 == 0:  \n",
    "    print(\"Number is even\")  "
   ]
  },
  {
   "cell_type": "code",
   "execution_count": null,
   "id": "b09ee6f8",
   "metadata": {},
   "outputs": [],
   "source": [
    "num = int(input(\"enter the number?\"))  \n",
    "if num%3 == 1:  \n",
    "    print(\"Number is odd\")  "
   ]
  },
  {
   "cell_type": "code",
   "execution_count": null,
   "id": "9eb9facd",
   "metadata": {},
   "outputs": [],
   "source": [
    "# nested if\n",
    "a = int(input(\"Enter a? \")) \n",
    "b = int(input(\"Enter b? \"))  \n",
    "c = int(input(\"Enter c? \"))  \n",
    "if a>b and a>c:  \n",
    "    print(\"a is largest\")  \n",
    "if b>a and b>c:  \n",
    "    print(\"b is largest\")  \n",
    "if c>a and c>b:  \n",
    "    print(\"c is largest\")  "
   ]
  },
  {
   "cell_type": "markdown",
   "id": "6475235c",
   "metadata": {},
   "source": [
    "# Elif\n",
    "The elif keyword is pythons way of saying \"if the previous conditions were not true, then try this condition\"."
   ]
  },
  {
   "cell_type": "code",
   "execution_count": null,
   "id": "33802738",
   "metadata": {},
   "outputs": [],
   "source": [
    "a = 33\n",
    "b = 33\n",
    "if b > a:\n",
    "  print(\"b is greater than a\")\n",
    "elif a == b:\n",
    "  print(\"a and b are equal\")"
   ]
  },
  {
   "cell_type": "markdown",
   "id": "9f9a5af1",
   "metadata": {},
   "source": [
    "In this example a is equal to b, so the first condition is not true, but the elif condition is true, so we print to screen that \"a and b are equal\".\n",
    "\n"
   ]
  },
  {
   "cell_type": "code",
   "execution_count": null,
   "id": "02e27421",
   "metadata": {},
   "outputs": [],
   "source": [
    "number = int(input(\"Enter the number?\"))  \n",
    "if number==10:  \n",
    "    print(\"number is equals to 10\")  \n",
    "elif number==50:  \n",
    "    print(\"number is equal to 50\");  \n",
    "elif number==100:  \n",
    "    print(\"number is equal to 100\");  \n",
    "else:  \n",
    "    print(\"number is not equal to 10, 50 or 100\");  "
   ]
  },
  {
   "cell_type": "code",
   "execution_count": null,
   "id": "f2451636",
   "metadata": {},
   "outputs": [],
   "source": [
    "# elif stmt\n",
    "\n",
    "score = int(input(\"enter the score  \"))\n",
    "if score >=90:\n",
    "    print(\"passed the exam with A grade\")\n",
    "elif score>=70:\n",
    "    print(\"passed the exam with B grade\")\n",
    "elif score>=60:\n",
    "    print(\"passed the exam with C grade\")\n",
    "elif score>=40:\n",
    "    print(\"passed the exam with D grade\")\n",
    "else:\n",
    "    print(\"failed in the exam\")"
   ]
  },
  {
   "cell_type": "markdown",
   "id": "f3419352",
   "metadata": {},
   "source": [
    "# Else\n",
    "The else keyword catches anything which isn't caught by the preceding conditions."
   ]
  },
  {
   "cell_type": "code",
   "execution_count": null,
   "id": "a775fd34",
   "metadata": {},
   "outputs": [],
   "source": [
    "a = 200\n",
    "b = 33\n",
    "if b > a:\n",
    "  print(\"b is greater than a\")\n",
    "elif a == b:\n",
    "  print(\"a and b are equal\")\n",
    "else:\n",
    "  print(\"a is greater than b\")"
   ]
  },
  {
   "cell_type": "markdown",
   "id": "02ed8ddb",
   "metadata": {},
   "source": [
    "If the condition evaluates to True,\n",
    "\n",
    "the code inside if is executed\n",
    "\n",
    "the code inside else is skipped\n",
    "\n",
    "If the condition evaluates to False,\n",
    "\n",
    "the code inside else is executed\n",
    "\n",
    "the code inside if is skipped"
   ]
  },
  {
   "cell_type": "code",
   "execution_count": null,
   "id": "b5f555d9",
   "metadata": {},
   "outputs": [],
   "source": [
    "# Program to check whether a person is eligible to vote or not.\n",
    "age = int (input(\"Enter your age? \"))  \n",
    "if age>=18:  \n",
    "    print(\"You are eligible to vote !!\") \n",
    "else:  \n",
    "    print(\"Sorry! you have to wait !!\") "
   ]
  },
  {
   "cell_type": "code",
   "execution_count": null,
   "id": "8df20024",
   "metadata": {},
   "outputs": [],
   "source": [
    "# Program to check whether a number is even or not.\n",
    "num = int(input(\"enter the number?\"))  \n",
    "if num%2 == 0:  \n",
    "    print(\"Number is even...\")  \n",
    "else:  \n",
    "    print(\"Number is odd...\")  "
   ]
  },
  {
   "cell_type": "markdown",
   "id": "95d9a244",
   "metadata": {},
   "source": [
    "if condition1:\n",
    "    # code block 1\n",
    "\n",
    "elif condition2:\n",
    "    # code block 2\n",
    "\n",
    "else: \n",
    "    # code block 3"
   ]
  },
  {
   "cell_type": "code",
   "execution_count": null,
   "id": "b9604480",
   "metadata": {},
   "outputs": [],
   "source": [
    "# You can also have an else without the elif:\n",
    "a = 200\n",
    "b = 33\n",
    "if b > a:\n",
    "  print(\"b is greater than a\")\n",
    "else:\n",
    "  print(\"b is not greater than a\")"
   ]
  },
  {
   "cell_type": "markdown",
   "id": "dbc9ece1",
   "metadata": {},
   "source": [
    "# And\n",
    "The and keyword is a logical operator, and is used to combine conditional statements:"
   ]
  },
  {
   "cell_type": "code",
   "execution_count": null,
   "id": "965523fd",
   "metadata": {},
   "outputs": [],
   "source": [
    "# Test if a is greater than b, AND if c is greater than a:\n",
    "a = 200\n",
    "b = 33\n",
    "c = 500\n",
    "if a > b and c > a:\n",
    "  print(\"Both conditions are True\")"
   ]
  },
  {
   "cell_type": "markdown",
   "id": "09cec908",
   "metadata": {},
   "source": [
    "# Or\n",
    "The or keyword is a logical operator, and is used to combine conditional statements:"
   ]
  },
  {
   "cell_type": "code",
   "execution_count": null,
   "id": "6ac96baf",
   "metadata": {},
   "outputs": [],
   "source": [
    "# Test if a is greater than b, OR if a is greater than c:\n",
    "a = 200\n",
    "b = 33\n",
    "c = 500\n",
    "if a > b or a > c:\n",
    "  print(\"At least one of the conditions is True\")"
   ]
  },
  {
   "cell_type": "markdown",
   "id": "e40265d4",
   "metadata": {},
   "source": [
    "# Nested If\n",
    "You can have if statements inside if statements, this is called nested if statements."
   ]
  },
  {
   "cell_type": "code",
   "execution_count": null,
   "id": "f38142fa",
   "metadata": {},
   "outputs": [],
   "source": [
    "x = 41\n",
    "\n",
    "if x > 10:\n",
    "  print(\"Above ten,\")\n",
    "  if x > 20:\n",
    "    print(\"and also above 20!\")\n",
    "  else:\n",
    "    print(\"but not above 20.\")"
   ]
  },
  {
   "cell_type": "markdown",
   "id": "7a05cdfe",
   "metadata": {},
   "source": [
    "# The pass Statement\n",
    "if statements cannot be empty, but if you for some reason have an if statement with no content, put in the pass statement to avoid getting an error."
   ]
  },
  {
   "cell_type": "code",
   "execution_count": null,
   "id": "e1ff61f7",
   "metadata": {},
   "outputs": [],
   "source": [
    "a = 33\n",
    "b = 200\n",
    "\n",
    "if b > a:\n",
    "    pass\n"
   ]
  },
  {
   "cell_type": "markdown",
   "id": "b5e38ba6",
   "metadata": {},
   "source": [
    "# Python While Loops\n",
    "\n",
    "Python Loops\n",
    "Python has two  loop commands:\n",
    "\n",
    "1)while loops\n",
    "\n",
    "2)for loops\n",
    "\n"
   ]
  },
  {
   "cell_type": "markdown",
   "id": "8ae94b8d",
   "metadata": {},
   "source": [
    "# The while Loop\n",
    "With the while loop we can execute a set of statements as long as a condition is true.\n",
    "              \n",
    "              \n",
    "              or\n",
    "\n",
    "\n",
    "While loop is used to repeat a section of code unknown number of times until a specific condition is met"
   ]
  },
  {
   "cell_type": "markdown",
   "id": "b8c7b323",
   "metadata": {},
   "source": [
    "Python While Loop: is used to execute a block of statements repeatedly until a given condition is satisfied. And when the condition becomes false, the line immediately after the loop in the program is executed."
   ]
  },
  {
   "cell_type": "markdown",
   "id": "cdc0c5b3",
   "metadata": {},
   "source": [
    "Syntax: \n",
    "\n",
    "while expression:\n",
    "    \n",
    "    statement(s)"
   ]
  },
  {
   "cell_type": "code",
   "execution_count": null,
   "id": "bf3f25c0",
   "metadata": {},
   "outputs": [],
   "source": [
    "# Print i as long as i is less than 6:\n",
    "i = 0\n",
    "while i < 6:\n",
    "  print(\"hello\")\n",
    "  i += 1   # i= i+1=1\n",
    "                # 1+1=2\n",
    "                #2+1=3\n",
    "                 #3+1=4\n",
    "                #4+1=5\n",
    "                #5+1=6\n"
   ]
  },
  {
   "cell_type": "code",
   "execution_count": null,
   "id": "9b958b36",
   "metadata": {},
   "outputs": [],
   "source": [
    "count = 0\n",
    "while (count < 3):\n",
    "    count = count + 1\n",
    "    print(\"Hello\")"
   ]
  },
  {
   "cell_type": "code",
   "execution_count": null,
   "id": "70a998eb",
   "metadata": {},
   "outputs": [],
   "source": [
    "while True:\n",
    "    print(\"hi,i am in a loop\")\n",
    "    print(\"i am also in a loop\")\n",
    "    print(\"end of the loop\")"
   ]
  },
  {
   "cell_type": "markdown",
   "id": "5ef73f79",
   "metadata": {},
   "source": [
    "# The break Statement\n",
    "With the break statement we can stop the loop even if the while condition is true:"
   ]
  },
  {
   "cell_type": "code",
   "execution_count": 2,
   "id": "39352074",
   "metadata": {},
   "outputs": [
    {
     "name": "stdout",
     "output_type": "stream",
     "text": [
      "1\n",
      "2\n",
      "3\n"
     ]
    }
   ],
   "source": [
    "i = 1                #  It terminates the current loop\n",
    "while i < 6:\n",
    "  print(i)\n",
    "  if (i == 3):\n",
    "    break\n",
    "  i += 1 # i=i+1\n"
   ]
  },
  {
   "cell_type": "code",
   "execution_count": 16,
   "id": "119096c5",
   "metadata": {},
   "outputs": [
    {
     "name": "stdout",
     "output_type": "stream",
     "text": [
      "0\n",
      "1\n",
      "2\n",
      "3\n",
      "4\n",
      "5\n",
      "6\n",
      "7\n",
      "8\n",
      "9\n",
      "10\n"
     ]
    }
   ],
   "source": [
    "for i in range(15): #  It terminates the current loop\n",
    "    print(i)\n",
    "    if i == 10:\n",
    "        break"
   ]
  },
  {
   "cell_type": "code",
   "execution_count": 12,
   "id": "c90566d5",
   "metadata": {},
   "outputs": [
    {
     "name": "stdout",
     "output_type": "stream",
     "text": [
      "p\n"
     ]
    }
   ],
   "source": [
    "for letter in \"python\":\n",
    "    if letter==\"y\":\n",
    "        break\n",
    "    print(letter)"
   ]
  },
  {
   "cell_type": "code",
   "execution_count": 20,
   "id": "6d56d070",
   "metadata": {},
   "outputs": [
    {
     "name": "stdout",
     "output_type": "stream",
     "text": [
      "p\n",
      "y\n",
      "t\n",
      "h\n"
     ]
    }
   ],
   "source": [
    "x=\"python\"\n",
    "for i in x:\n",
    "    if i==\"o\":\n",
    "        break\n",
    "    print(i)"
   ]
  },
  {
   "cell_type": "markdown",
   "id": "bd800983",
   "metadata": {},
   "source": [
    "# The continue Statement\n",
    "With the continue statement we can stop the current iteration, and continue with the next:"
   ]
  },
  {
   "cell_type": "code",
   "execution_count": 12,
   "id": "5adf140a",
   "metadata": {},
   "outputs": [
    {
     "name": "stdout",
     "output_type": "stream",
     "text": [
      "p\n",
      "y\n",
      "t\n",
      "o\n",
      "n\n"
     ]
    }
   ],
   "source": [
    "for letter in \"python\":\n",
    "    if letter == \"h\":\n",
    "        continue\n",
    "    print(letter)\n",
    "# To skip the particular iteration and continue with next iteration"
   ]
  },
  {
   "cell_type": "code",
   "execution_count": null,
   "id": "ef088aa2",
   "metadata": {},
   "outputs": [],
   "source": [
    "i = 0\n",
    "while i < 6:\n",
    "  i += 1      # i= i+1\n",
    "  if i == 3:\n",
    "    continue\n",
    "  print(i)\n",
    "\n",
    "# Note that number 3 is missing in the result\n"
   ]
  },
  {
   "cell_type": "markdown",
   "id": "3944198b",
   "metadata": {},
   "source": [
    "# Python For Loops\n",
    "A for loop is used for iterating over a sequence (that is either a list, a tuple, a dictionary, a set, or a string).\n",
    "\n",
    "\n",
    "With the for loop we can execute a set of statements, once for each item in a list, tuple, set etc."
   ]
  },
  {
   "cell_type": "code",
   "execution_count": null,
   "id": "812b9dca",
   "metadata": {},
   "outputs": [],
   "source": [
    "#Print each fruit in a fruit list:\n",
    "fruits = [\"apple\", \"banana\", \"cherry\"]\n",
    "for x in fruits:\n",
    "  print(x)"
   ]
  },
  {
   "cell_type": "markdown",
   "id": "e0c24317",
   "metadata": {},
   "source": [
    "# Looping Through a String\n",
    "Even strings are iterable objects, they contain a sequence of characters:"
   ]
  },
  {
   "cell_type": "code",
   "execution_count": null,
   "id": "d9425752",
   "metadata": {},
   "outputs": [],
   "source": [
    "# Loop through the letters in the word \"banana\":\n",
    "for x in \"banana\":\n",
    "  print(x)\n"
   ]
  },
  {
   "cell_type": "markdown",
   "id": "a1b51bc6",
   "metadata": {},
   "source": [
    "# The break Statement\n",
    "With the break statement we can stop the loop before it has looped through all the items:"
   ]
  },
  {
   "cell_type": "code",
   "execution_count": 2,
   "id": "bd69fd9f",
   "metadata": {},
   "outputs": [
    {
     "name": "stdout",
     "output_type": "stream",
     "text": [
      "apple\n",
      "banana\n"
     ]
    }
   ],
   "source": [
    "# Exit the loop when x is \"banana\":\n",
    "fruits = [\"apple\", \"banana\", \"cherry\"]\n",
    "for x in fruits:\n",
    "  print(x)\n",
    "  if x == \"banana\":\n",
    "    break"
   ]
  },
  {
   "cell_type": "code",
   "execution_count": 1,
   "id": "2d2bdfb7",
   "metadata": {},
   "outputs": [
    {
     "name": "stdout",
     "output_type": "stream",
     "text": [
      "apple\n"
     ]
    }
   ],
   "source": [
    "# Exit the loop when x is \"banana\", but this time the break comes before the print:\n",
    "fruits = [\"apple\", \"banana\", \"cherry\"]\n",
    "for x in fruits:\n",
    "  if x == \"banana\":\n",
    "    break\n",
    "  print(x)"
   ]
  },
  {
   "cell_type": "markdown",
   "id": "48399d75",
   "metadata": {},
   "source": [
    "# The continue Statement\n",
    "With the continue statement we can stop the current iteration of the loop, and continue with the next:\n",
    "\n"
   ]
  },
  {
   "cell_type": "code",
   "execution_count": null,
   "id": "fe548af6",
   "metadata": {},
   "outputs": [],
   "source": [
    "# Do not print banana:\n",
    "fruits = [\"apple\", \"banana\", \"cherry\"]\n",
    "for x in fruits:\n",
    "  if x == \"banana\":\n",
    "    continue\n",
    "  print(x)"
   ]
  },
  {
   "cell_type": "markdown",
   "id": "1351df19",
   "metadata": {},
   "source": [
    "# The range() Function\n",
    "To loop through a set of code a specified number of times, we can use the range() function,\n",
    "\n",
    "\n",
    "The range() function returns a sequence of numbers, starting from 0 by default, and increments by 1 (by default), and ends at a specified number."
   ]
  },
  {
   "cell_type": "code",
   "execution_count": 25,
   "id": "385ae2ad",
   "metadata": {},
   "outputs": [
    {
     "name": "stdout",
     "output_type": "stream",
     "text": [
      "0.1.2.3.4.5."
     ]
    }
   ],
   "source": [
    "# Using the range() function:\n",
    "for x in range(6):\n",
    "    print(x,end=\".\") \n",
    "    "
   ]
  },
  {
   "cell_type": "code",
   "execution_count": 27,
   "id": "6714a6bf",
   "metadata": {},
   "outputs": [
    {
     "name": "stdout",
     "output_type": "stream",
     "text": [
      "p y t h o n   p r g r a m m i n g "
     ]
    }
   ],
   "source": [
    "x=\"python programming\"\n",
    "for i in x:\n",
    "    print(i,end=\" \")"
   ]
  },
  {
   "cell_type": "code",
   "execution_count": 30,
   "id": "ff107b94",
   "metadata": {},
   "outputs": [
    {
     "name": "stdout",
     "output_type": "stream",
     "text": [
      "22\n"
     ]
    }
   ],
   "source": [
    "for i in range(22,23,24):\n",
    "    print(i)"
   ]
  },
  {
   "cell_type": "markdown",
   "id": "57d82592",
   "metadata": {},
   "source": [
    "# Else in For Loop\n",
    "The else keyword in a for loop specifies a block of code to be executed when the loop is finished:"
   ]
  },
  {
   "cell_type": "code",
   "execution_count": 31,
   "id": "77caf8d3",
   "metadata": {},
   "outputs": [
    {
     "name": "stdout",
     "output_type": "stream",
     "text": [
      "0\n",
      "1\n",
      "2\n",
      "3\n",
      "4\n",
      "5\n",
      "Finally finished!\n"
     ]
    }
   ],
   "source": [
    "# Print all numbers from 0 to 5, and print a message when the loop has ended:\n",
    "for x in range(6):\n",
    "  print(x)\n",
    "else:\n",
    "  print(\"Finally finished!\")"
   ]
  },
  {
   "cell_type": "markdown",
   "id": "67bde832",
   "metadata": {},
   "source": [
    "# Nested Loops\n",
    "A nested loop is a loop inside a loop.\n",
    "\n",
    "The \"inner loop\" will be executed one time for each iteration of the \"outer loop\":"
   ]
  },
  {
   "cell_type": "code",
   "execution_count": null,
   "id": "c4ec45d9",
   "metadata": {},
   "outputs": [],
   "source": [
    "for x in range(10):\n",
    "    if x<=3:\n",
    "        print(x,\"is less than or equal to three\")\n",
    "    elif x>5:\n",
    "        print(x,\" is greater than five\")\n",
    "    else:\n",
    "        print(x,\" must be four or five\")"
   ]
  },
  {
   "cell_type": "code",
   "execution_count": null,
   "id": "87ae45a7",
   "metadata": {},
   "outputs": [],
   "source": [
    "# for num in range(10, 14):\n",
    "#     for i in range(2, num):\n",
    "#         if num%i == 1:\n",
    "#             print(num)\n",
    "#             break"
   ]
  },
  {
   "cell_type": "code",
   "execution_count": null,
   "id": "595a523e",
   "metadata": {},
   "outputs": [],
   "source": []
  }
 ],
 "metadata": {
  "kernelspec": {
   "display_name": "Python 3 (ipykernel)",
   "language": "python",
   "name": "python3"
  },
  "language_info": {
   "codemirror_mode": {
    "name": "ipython",
    "version": 3
   },
   "file_extension": ".py",
   "mimetype": "text/x-python",
   "name": "python",
   "nbconvert_exporter": "python",
   "pygments_lexer": "ipython3",
   "version": "3.9.13"
  }
 },
 "nbformat": 4,
 "nbformat_minor": 5
}
