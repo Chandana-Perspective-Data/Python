{
 "cells": [
  {
   "cell_type": "code",
   "execution_count": 2,
   "id": "7cb3c461",
   "metadata": {},
   "outputs": [
    {
     "name": "stdout",
     "output_type": "stream",
     "text": [
      "Enter a city: Hyderabad\n",
      "Do you want to add more cities? (Y/N) y\n",
      "Enter a city: htaia\n",
      "Do you want to add more cities? (Y/N) y\n",
      "Enter a city: Bangulor\n",
      "Do you want to add more cities? (Y/N) y\n",
      "Enter a city: Chitor\n",
      "Do you want to add more cities? (Y/N) n\n"
     ]
    }
   ],
   "source": [
    "import os\n",
    "\n",
    "# Function to create a file and write the names of cities starting with a particular character\n",
    "def create_file_and_write(character, cities):\n",
    "  # Create a file with the name of the character\n",
    "  with open(character + '.txt', 'w') as f:\n",
    "    # Write the names of cities starting with the character, separated by newline\n",
    "    f.write('\\n'.join(cities))\n",
    "\n",
    "# Function to create a folder and files for each character\n",
    "def create_folder_and_files(cities):\n",
    "  # Create a folder named 'cities'\n",
    "  os.mkdir('cities')\n",
    "  # Change the current working directory to the 'cities' folder\n",
    "  os.chdir('cities')\n",
    "\n",
    "  # Dictionary to store the cities for each character\n",
    "  char_to_cities = {}\n",
    "\n",
    "  # Iterate over the list of cities\n",
    "  for city in cities:\n",
    "    # Get the first character of the city\n",
    "    char = city[0]\n",
    "    # If the character is not already in the dictionary, add it as a key with an empty list as the value\n",
    "    if char not in char_to_cities:\n",
    "      char_to_cities[char] = []\n",
    "    # Add the city to the list of cities for the character\n",
    "    char_to_cities[char].append(city)\n",
    "\n",
    "  # Iterate over the dictionary and create a file for each character\n",
    "  for char, cities in char_to_cities.items():\n",
    "    create_file_and_write(char, cities)\n",
    "\n",
    "# Main function\n",
    "def main():\n",
    "  # List to store the cities\n",
    "  cities = []\n",
    "  # Flag to check if the user wants to add more cities\n",
    "  add_more = True\n",
    "\n",
    "  # Keep asking the user for cities until they don't want to add more\n",
    "  while add_more:\n",
    "    city = input('Enter a city: ')\n",
    "    cities.append(city)\n",
    "    response = input('Do you want to add more cities? (Y/N) ')\n",
    "    if response.lower() != 'y':\n",
    "      add_more = False\n",
    "\n",
    "  # Create the folder and files\n",
    "  create_folder_and_files(cities)\n",
    "\n",
    "# Run the main function\n",
    "if __name__ == '__main__':\n",
    "  main()\n"
   ]
  },
  {
   "cell_type": "code",
   "execution_count": 2,
   "id": "322a91e4",
   "metadata": {},
   "outputs": [
    {
     "data": {
      "text/plain": [
       "False"
      ]
     },
     "execution_count": 2,
     "metadata": {},
     "output_type": "execute_result"
    }
   ],
   "source": [
    "# find whether  a number is prime or not simple python program\n",
    "def is_prime(num):\n",
    "    if num < 2:\n",
    "        return False\n",
    "    for i in range(2, num):\n",
    "        if num % i == 0:\n",
    "            return False\n",
    "    return True\n",
    "is_prime(12)"
   ]
  },
  {
   "cell_type": "code",
   "execution_count": 3,
   "id": "e344ce58",
   "metadata": {},
   "outputs": [
    {
     "data": {
      "text/plain": [
       "True"
      ]
     },
     "execution_count": 3,
     "metadata": {},
     "output_type": "execute_result"
    }
   ],
   "source": [
    "import math\n",
    "\n",
    "def is_prime(num):\n",
    "    if num < 2:\n",
    "        return False\n",
    "    elif num == 2:\n",
    "        return True\n",
    "    elif num % 2 == 0:\n",
    "        return False\n",
    "    else:\n",
    "        for i in range(3, int(math.sqrt(num)) + 1, 2):\n",
    "            if num % i == 0:\n",
    "                return False\n",
    "        return True\n",
    "is_prime(17)"
   ]
  },
  {
   "cell_type": "code",
   "execution_count": null,
   "id": "e7c08b8a",
   "metadata": {},
   "outputs": [],
   "source": []
  },
  {
   "cell_type": "code",
   "execution_count": 4,
   "id": "b0da8dba",
   "metadata": {},
   "outputs": [
    {
     "name": "stdout",
     "output_type": "stream",
     "text": [
      "a = 20\n",
      "b = 10\n"
     ]
    }
   ],
   "source": [
    "# swap two numbers without using third variable\n",
    "a = 10\n",
    "b = 20\n",
    "\n",
    "# Swap the values of a and b\n",
    "a, b = b, a\n",
    "\n",
    "print(\"a =\", a)  # Output: a = 20\n",
    "print(\"b =\", b)  # Output: b = 10\n"
   ]
  },
  {
   "cell_type": "code",
   "execution_count": 5,
   "id": "4b416508",
   "metadata": {},
   "outputs": [
    {
     "name": "stdout",
     "output_type": "stream",
     "text": [
      "0\n",
      "1\n",
      "1\n",
      "2\n",
      "3\n",
      "5\n",
      "8\n",
      "13\n",
      "21\n",
      "34\n"
     ]
    }
   ],
   "source": [
    "# write program for the fibonacci series using recursive  function\n",
    "def fibonacci(n):\n",
    "    if n <= 1:\n",
    "        return n\n",
    "    else:\n",
    "        return fibonacci(n-1) + fibonacci(n-2)\n",
    "\n",
    "# Test the function\n",
    "for i in range(10):\n",
    "    print(fibonacci(i))\n"
   ]
  },
  {
   "cell_type": "code",
   "execution_count": 6,
   "id": "365baa97",
   "metadata": {},
   "outputs": [
    {
     "name": "stdout",
     "output_type": "stream",
     "text": [
      "Sorted array is: [11, 12, 22, 25, 34, 64, 90]\n"
     ]
    }
   ],
   "source": [
    "# write a program to sort array of numbers using bubble sort\n",
    "def bubble_sort(arr):\n",
    "    n = len(arr)\n",
    "    # Traverse through all array elements\n",
    "    for i in range(n):\n",
    "        # Last i elements are already sorted\n",
    "        for j in range(0, n-i-1):\n",
    "            # Traverse the array from 0 to n-i-1\n",
    "            # Swap if the element found is greater than the next element\n",
    "            if arr[j] > arr[j+1]:\n",
    "                arr[j], arr[j+1] = arr[j+1], arr[j]\n",
    "\n",
    "# Test the function\n",
    "arr = [64, 34, 25, 12, 22, 11, 90]\n",
    "bubble_sort(arr)\n",
    "print(\"Sorted array is:\", arr)\n"
   ]
  },
  {
   "cell_type": "code",
   "execution_count": 10,
   "id": "175ee7d8",
   "metadata": {},
   "outputs": [
    {
     "name": "stdout",
     "output_type": "stream",
     "text": [
      "Found node with value 5\n"
     ]
    }
   ],
   "source": [
    "# write a progam to find a number from a tree using breath first search\n",
    "class Node:\n",
    "    def __init__(self, value=None, left=None, right=None):\n",
    "        self.value = value\n",
    "        self.left = left\n",
    "        self.right = right\n",
    "\n",
    "def breadth_first_search(root, target):\n",
    "    queue = [root]\n",
    "    while queue:\n",
    "        node = queue.pop(0)\n",
    "        if node.value == target:\n",
    "            return node\n",
    "        if node.left:\n",
    "            queue.append(node.left)\n",
    "        if node.right:\n",
    "            queue.append(node.right)\n",
    "\n",
    "# Example usage\n",
    "root = Node(4)\n",
    "root.left = Node(2)\n",
    "root.right = Node(6)\n",
    "root.left.left = Node(1)\n",
    "root.left.right = Node(3)\n",
    "root.right.left = Node(5)\n",
    "root.right.right = Node(7)\n",
    "\n",
    "target_node = breadth_first_search(root, 5)\n",
    "if target_node:\n",
    "    print(f\"Found node with value {target_node.value}\")\n",
    "else:\n",
    "    print(\"Could not find target node\")\n"
   ]
  },
  {
   "cell_type": "code",
   "execution_count": null,
   "id": "cc024669",
   "metadata": {},
   "outputs": [],
   "source": []
  }
 ],
 "metadata": {
  "kernelspec": {
   "display_name": "Python 3 (ipykernel)",
   "language": "python",
   "name": "python3"
  },
  "language_info": {
   "codemirror_mode": {
    "name": "ipython",
    "version": 3
   },
   "file_extension": ".py",
   "mimetype": "text/x-python",
   "name": "python",
   "nbconvert_exporter": "python",
   "pygments_lexer": "ipython3",
   "version": "3.9.13"
  }
 },
 "nbformat": 4,
 "nbformat_minor": 5
}
