{
 "cells": [
  {
   "cell_type": "markdown",
   "id": "4885f7f3",
   "metadata": {},
   "source": [
    "### 1.Python Program to Check if a Number is Positive, Negative or 0"
   ]
  },
  {
   "cell_type": "code",
   "execution_count": 3,
   "id": "cde45a79",
   "metadata": {},
   "outputs": [
    {
     "name": "stdout",
     "output_type": "stream",
     "text": [
      "Enter a number: 0\n",
      "Zero\n"
     ]
    }
   ],
   "source": [
    "num = float(input(\"Enter a number: \"))\n",
    "if num > 0:\n",
    "   print(\"Positive number\")\n",
    "elif num == 0:\n",
    "   print(\"Zero\")\n",
    "else:\n",
    "   print(\"Negative number\")\n"
   ]
  },
  {
   "cell_type": "markdown",
   "id": "27e90de8",
   "metadata": {},
   "source": [
    " > This program first prompts the user to enter a number using the input() function. The input is then converted to a floating point number using the float() function. Next, the program uses an if-else statement to check if the number is greater than 0, equal to 0, or less than 0. Depending on the outcome of this check, the program prints \"Positive number\", \"Zero\", or \"Negative number\" respectively."
   ]
  },
  {
   "cell_type": "markdown",
   "id": "d3e277ce",
   "metadata": {},
   "source": [
    "### 2.Python Program to Check if a Number is Odd or Even"
   ]
  },
  {
   "cell_type": "code",
   "execution_count": 4,
   "id": "06296084",
   "metadata": {},
   "outputs": [
    {
     "name": "stdout",
     "output_type": "stream",
     "text": [
      "Enter a number: 78\n",
      "Even\n"
     ]
    }
   ],
   "source": [
    "num = int(input(\"Enter a number: \"))\n",
    "if num % 2 == 0:\n",
    "   print(\"Even\")\n",
    "else:\n",
    "   print(\"Odd\")\n"
   ]
  },
  {
   "cell_type": "markdown",
   "id": "bdd41fda",
   "metadata": {},
   "source": [
    "> This program first prompts the user to enter a number using the input() function. The input is then converted to an integer using the int() function. Next, the program uses the modulo operator (%) to check the remainder when the number is divided by 2. If the remainder is 0, it means the number is even and the program prints \"Even\". If the remainder is not 0, it means the number is odd and the program prints \"Odd\"."
   ]
  },
  {
   "cell_type": "markdown",
   "id": "2c6072d3",
   "metadata": {},
   "source": [
    "### 3.Python Program to Check Leap Year"
   ]
  },
  {
   "cell_type": "code",
   "execution_count": 6,
   "id": "544c3849",
   "metadata": {},
   "outputs": [
    {
     "name": "stdout",
     "output_type": "stream",
     "text": [
      "Enter a year: 2023\n",
      "2023 is not a leap year\n"
     ]
    }
   ],
   "source": [
    "year = int(input(\"Enter a year: \"))\n",
    "\n",
    "if (year % 4) == 0:\n",
    "   if (year % 100) == 0:\n",
    "       if (year % 400) == 0:\n",
    "           print(\"{0} is a leap year\".format(year))\n",
    "       else:\n",
    "           print(\"{0} is not a leap year\".format(year))\n",
    "   else:\n",
    "       print(\"{0} is a leap year\".format(year))\n",
    "else:\n",
    "   print(\"{0} is not a leap year\".format(year))\n"
   ]
  },
  {
   "cell_type": "markdown",
   "id": "b29ec557",
   "metadata": {},
   "source": [
    ">This program first prompts the user to enter a year using the input() function. The input is then converted to an integer using the int() function. Next, the program uses a series of if-else statements to check if the year is a leap year.\n",
    "\n",
    "A leap year is a year that is exactly divisible by 4, except for end-of-century years (years that end in 00), which must be exactly divisible by 400.\n",
    "\n",
    "In this program, first, it checks whether the year is exactly divisible by 4 or not, if yes, it checks whether the year is exactly divisible by 100 or not, if yes it checks whether the year is exactly divisible by 400 or not. If the year passes all these condition it will be a leap year otherwise not.\n",
    "\n",
    "The program prints the appropriate message, either \"year is a leap year\" or \"year is not a leap year\" depending on the outcome of the checks."
   ]
  },
  {
   "cell_type": "markdown",
   "id": "5dbbdec7",
   "metadata": {},
   "source": [
    "### 4. Python Program to Find the Largest Among Three Numbers\n",
    "\n"
   ]
  },
  {
   "cell_type": "code",
   "execution_count": 7,
   "id": "ec3c5550",
   "metadata": {},
   "outputs": [
    {
     "name": "stdout",
     "output_type": "stream",
     "text": [
      "Enter first number: 398\n",
      "Enter second number: 509\n",
      "Enter third number: 570\n",
      "The largest number is 570.0\n"
     ]
    }
   ],
   "source": [
    "num1 = float(input(\"Enter first number: \"))\n",
    "num2 = float(input(\"Enter second number: \"))\n",
    "num3 = float(input(\"Enter third number: \"))\n",
    "\n",
    "if (num1 >= num2) and (num1 >= num3):\n",
    "   largest = num1\n",
    "elif (num2 >= num1) and (num2 >= num3):\n",
    "   largest = num2\n",
    "else:\n",
    "   largest = num3\n",
    "\n",
    "print(\"The largest number is\", largest)\n"
   ]
  },
  {
   "cell_type": "markdown",
   "id": "5a6ff150",
   "metadata": {},
   "source": [
    "> This program prompts the user to enter three numbers using the input() function, which are then converted to floating point numbers using the float() function. Next, the program uses an if-elif-else statement to check which of the three numbers is the largest. The largest number is then stored in the variable largest and is printed to the screen using the print() function."
   ]
  },
  {
   "cell_type": "code",
   "execution_count": 8,
   "id": "687f1c40",
   "metadata": {},
   "outputs": [
    {
     "name": "stdout",
     "output_type": "stream",
     "text": [
      "Enter first number: 678\n",
      "Enter second number: 980\n",
      "Enter third number: 567\n",
      "The largest number is 980.0\n"
     ]
    }
   ],
   "source": [
    "# 4.You can also use the max() function to find the largest among three numbers\n",
    "\n",
    "num1 = float(input(\"Enter first number: \"))\n",
    "num2 = float(input(\"Enter second number: \"))\n",
    "num3 = float(input(\"Enter third number: \"))\n",
    "\n",
    "largest = max(num1, num2, num3)\n",
    "\n",
    "print(\"The largest number is\", largest)\n",
    "\n"
   ]
  },
  {
   "cell_type": "markdown",
   "id": "af9697e8",
   "metadata": {},
   "source": [
    "> This program also prompts the user to enter three numbers using the input() function, which are then converted to floating point numbers using the float() function. Next, the program uses the max() function to find the largest among three numbers, which is then stored in the variable largest and is printed to the screen using the print() function."
   ]
  },
  {
   "cell_type": "markdown",
   "id": "0725ec52",
   "metadata": {},
   "source": [
    "### 5.Python Program to Check Prime Number"
   ]
  },
  {
   "cell_type": "code",
   "execution_count": 9,
   "id": "2b1b441d",
   "metadata": {},
   "outputs": [
    {
     "name": "stdout",
     "output_type": "stream",
     "text": [
      "Enter a number: 95\n",
      "95 is not a prime number\n"
     ]
    }
   ],
   "source": [
    "num = int(input(\"Enter a number: \"))\n",
    "\n",
    "if num > 1:\n",
    "    for i in range(2,num):\n",
    "        if (num % i) == 0:\n",
    "            print(num,\"is not a prime number\")\n",
    "            break\n",
    "    else:\n",
    "        print(num,\"is a prime number\")\n",
    "else:\n",
    "   print(num,\"is not a prime number\")\n"
   ]
  },
  {
   "cell_type": "markdown",
   "id": "d5726627",
   "metadata": {},
   "source": [
    "> This program first prompts the user to enter a number using the input() function, which is then converted to an integer using the int() function. Next, the program uses a for loop to iterate over a range of numbers starting from 2 and ending at the number entered by the user. Inside the loop, it checks if the entered number is divisible by the current iteration number using the modulo operator (%), if it is divisible that means it's not a prime number and the program prints the message and breaks the loop, otherwise, the for loop will complete and the program will print the message that this number is prime. If the number is less than or equal to 1, it's not a prime number so the program prints the message accordingly."
   ]
  },
  {
   "cell_type": "code",
   "execution_count": 10,
   "id": "497e9c09",
   "metadata": {},
   "outputs": [
    {
     "name": "stdout",
     "output_type": "stream",
     "text": [
      "Enter a number: 56\n",
      "56 is not a prime number\n"
     ]
    }
   ],
   "source": [
    "# You can also use the sqrt() function to optimize \n",
    "# the above program, which will check the divisibility only till the square root of the number.\n",
    "\n",
    "import math\n",
    "num = int(input(\"Enter a number: \"))\n",
    "if num > 1:\n",
    "    for i in range(2, int(math.sqrt(num)) + 1):\n",
    "        if (num % i) == 0:\n",
    "            print(num,\"is not a prime number\")\n",
    "            break\n",
    "    else:\n",
    "        print(num,\"is a prime number\")\n",
    "else:\n",
    "   print(num,\"is not a prime number\")\n"
   ]
  },
  {
   "cell_type": "markdown",
   "id": "8ffdffb8",
   "metadata": {},
   "source": [
    "> This program also works in the same way as the previous one, but it only checks for divisibility till the square root of the entered number, which makes the program more efficient"
   ]
  },
  {
   "cell_type": "markdown",
   "id": "e5e46943",
   "metadata": {},
   "source": [
    "### 6.Python Program to Print all Prime Numbers in an Interval\n",
    "\n"
   ]
  },
  {
   "cell_type": "code",
   "execution_count": 14,
   "id": "065d186e",
   "metadata": {},
   "outputs": [
    {
     "name": "stdout",
     "output_type": "stream",
     "text": [
      "Enter the start of the interval: 34\n",
      "Enter the end of the interval: 70\n",
      "Prime numbers between 34 and 70 are:\n",
      "37\n",
      "41\n",
      "43\n",
      "47\n",
      "53\n",
      "59\n",
      "61\n",
      "67\n"
     ]
    }
   ],
   "source": [
    "start = int(input(\"Enter the start of the interval: \"))\n",
    "end = int(input(\"Enter the end of the interval: \"))\n",
    "\n",
    "print(\"Prime numbers between\", start, \"and\", end, \"are:\")\n",
    "\n",
    "for num in range(start, end + 1):\n",
    "   if num > 1:\n",
    "       for i in range(2,num):\n",
    "           if (num % i) == 0:\n",
    "               break\n",
    "       else:\n",
    "           print(num)\n"
   ]
  },
  {
   "cell_type": "markdown",
   "id": "c6213c43",
   "metadata": {},
   "source": [
    "> This program prompts the user to enter the start and end of the interval using the input() function, which are then converted to integers using the int() function. Next, the program uses a nested for loop to iterate over the numbers within the interval. The outer loop iterates over the numbers in the interval, while the inner loop checks if each number is prime."
   ]
  },
  {
   "cell_type": "code",
   "execution_count": 15,
   "id": "b75e036f",
   "metadata": {},
   "outputs": [
    {
     "name": "stdout",
     "output_type": "stream",
     "text": [
      "Enter the start of the interval: 2\n",
      "Enter the end of the interval: 10\n",
      "Prime numbers between 2 and 10 are:\n",
      "2\n",
      "3\n",
      "5\n",
      "7\n"
     ]
    }
   ],
   "source": [
    "import math\n",
    "start = int(input(\"Enter the start of the interval: \"))\n",
    "end = int(input(\"Enter the end of the interval: \"))\n",
    "\n",
    "print(\"Prime numbers between\", start, \"and\", end, \"are:\")\n",
    "\n",
    "for num in range(start, end + 1):\n",
    "   if num > 1:\n",
    "       for i in range(2, int(math.sqrt(num)) + 1):\n",
    "           if (num % i) == 0:\n",
    "               break\n",
    "       else:\n",
    "           print(num)\n"
   ]
  },
  {
   "cell_type": "markdown",
   "id": "c7bd287a",
   "metadata": {},
   "source": [
    "> This program also works in the same way as the previous one, but it only checks for divisibility till the square root of the entered number, which makes the program more efficient."
   ]
  },
  {
   "cell_type": "markdown",
   "id": "cc820a28",
   "metadata": {},
   "source": [
    "### 7.Python Program to Find the Factorial of a Number"
   ]
  },
  {
   "cell_type": "code",
   "execution_count": 16,
   "id": "ac773448",
   "metadata": {},
   "outputs": [
    {
     "name": "stdout",
     "output_type": "stream",
     "text": [
      "Enter a number: 6\n",
      "The factorial of 6 is 720\n"
     ]
    }
   ],
   "source": [
    "num = int(input(\"Enter a number: \"))\n",
    "\n",
    "factorial = 1\n",
    "\n",
    "if num < 0:\n",
    "   print(\"Sorry, factorial does not exist for negative numbers\")\n",
    "elif num == 0:\n",
    "   print(\"The factorial of 0 is 1\")\n",
    "else:\n",
    "   for i in range(1,num + 1):\n",
    "       factorial = factorial*i\n",
    "   print(\"The factorial of\",num,\"is\",factorial)\n"
   ]
  },
  {
   "cell_type": "markdown",
   "id": "378f3573",
   "metadata": {},
   "source": [
    "> This program prompts the user to enter a number using the input() function, which is then converted to an integer using the int() function. Next, the program uses a for loop to iterate over a range of numbers starting from 1 and ending at the number entered by the user. Inside the loop, it multiply each iteration number with the previous iteration result. If the number is less than 0, it's not defined so the program prints the message accordingly. If the number is 0, the factorial is 1, so the program prints the message accordingly. Otherwise, the program prints the final factorial value."
   ]
  },
  {
   "cell_type": "code",
   "execution_count": 17,
   "id": "91a35a10",
   "metadata": {},
   "outputs": [
    {
     "name": "stdout",
     "output_type": "stream",
     "text": [
      "Enter a number: 5\n",
      "The factorial of 5 is 120\n"
     ]
    }
   ],
   "source": [
    "# You can also use the recursion to find the factorial of a number\n",
    "\n",
    "def factorial(n):\n",
    "    if n == 0:\n",
    "        return 1\n",
    "    else:\n",
    "        return n * factorial(n-1)\n",
    "\n",
    "num = int(input(\"Enter a number: \"))\n",
    "\n",
    "if num < 0:\n",
    "    print(\"Sorry, factorial does not exist for negative numbers\")\n",
    "else:\n",
    "    print(\"The factorial of\",num,\"is\",factorial(num))\n"
   ]
  },
  {
   "cell_type": "markdown",
   "id": "dd2ed2fa",
   "metadata": {},
   "source": [
    "> This program uses a recursive function factorial() to find the factorial of a number. The base case is when the number is 0, in that case the function returns 1. In all other cases, the function calls itself with the number decremented by 1 and multiplies it with the original number. The final result is returned and printed on the screen."
   ]
  },
  {
   "cell_type": "markdown",
   "id": "725c99d6",
   "metadata": {},
   "source": [
    "### 8.Python Program to Display the multiplication Table"
   ]
  },
  {
   "cell_type": "code",
   "execution_count": 18,
   "id": "0d147873",
   "metadata": {},
   "outputs": [
    {
     "name": "stdout",
     "output_type": "stream",
     "text": [
      "Enter a number to display its multiplication table: 5\n",
      "5 x 1 = 5\n",
      "5 x 2 = 10\n",
      "5 x 3 = 15\n",
      "5 x 4 = 20\n",
      "5 x 5 = 25\n",
      "5 x 6 = 30\n",
      "5 x 7 = 35\n",
      "5 x 8 = 40\n",
      "5 x 9 = 45\n",
      "5 x 10 = 50\n"
     ]
    }
   ],
   "source": [
    "num = int(input(\"Enter a number to display its multiplication table: \"))\n",
    "\n",
    "for i in range(1, 11):\n",
    "   print(num, 'x', i, '=', num*i)\n"
   ]
  },
  {
   "cell_type": "markdown",
   "id": "4722e15b",
   "metadata": {},
   "source": [
    "> This program prompts the user to enter a number using the input() function, which is then converted to an integer using the int() function. Next, the program uses a for loop to iterate over a range of numbers from 1 to 11. Inside the loop, it multiplies the entered number with the current iteration number, and prints the multiplication table using the print() function."
   ]
  },
  {
   "cell_type": "code",
   "execution_count": 21,
   "id": "2baafa53",
   "metadata": {},
   "outputs": [
    {
     "name": "stdout",
     "output_type": "stream",
     "text": [
      "Enter a number to display its multiplication table: 1\n",
      "Enter the number of terms to display the multiplication table: 10\n",
      "1 x 1 = 1\n",
      "1 x 2 = 2\n",
      "1 x 3 = 3\n",
      "1 x 4 = 4\n",
      "1 x 5 = 5\n",
      "1 x 6 = 6\n",
      "1 x 7 = 7\n",
      "1 x 8 = 8\n",
      "1 x 9 = 9\n",
      "1 x 10 = 10\n"
     ]
    }
   ],
   "source": [
    "# You can also display the multiplication table up to a \n",
    "# certain number by changing the range of the for loop\n",
    "num = int(input(\"Enter a number to display its multiplication table: \"))\n",
    "n = int(input(\"Enter the number of terms to display the multiplication table: \"))\n",
    "\n",
    "for i in range(1, n+1):\n",
    "   print(num, 'x', i, '=', num*i)\n"
   ]
  },
  {
   "cell_type": "markdown",
   "id": "269557b5",
   "metadata": {},
   "source": [
    "> This program also prompts the user to enter a number and the number of terms to display the multiplication table. The program then uses a for loop to iterate over a range of numbers from 1 to the number of terms entered by the user. Inside the loop, it multiplies the entered number with the current iteration number and prints the multiplication table using the print() function."
   ]
  },
  {
   "cell_type": "markdown",
   "id": "c80b2173",
   "metadata": {},
   "source": [
    "### 9.Python Program to Print the Fibonacci sequence"
   ]
  },
  {
   "cell_type": "code",
   "execution_count": 23,
   "id": "9e898b1e",
   "metadata": {},
   "outputs": [
    {
     "name": "stdout",
     "output_type": "stream",
     "text": [
      "How many terms? 6\n",
      "Fibonacci sequence:\n",
      "0\n",
      "1\n",
      "1\n",
      "2\n",
      "3\n",
      "5\n"
     ]
    }
   ],
   "source": [
    "nterms = int(input(\"How many terms? \"))\n",
    "\n",
    "n1, n2 = 0, 1\n",
    "count = 0\n",
    "\n",
    "if nterms <= 0:\n",
    "   print(\"Please enter a positive integer\")\n",
    "elif nterms == 1:\n",
    "   print(\"Fibonacci sequence upto\",nterms,\":\")\n",
    "   print(n1)\n",
    "else:\n",
    "   print(\"Fibonacci sequence:\")\n",
    "   while count < nterms:\n",
    "       print(n1)\n",
    "       nth = n1 + n2\n",
    "       n1 = n2\n",
    "       n2 = nth\n",
    "       count += 1\n"
   ]
  },
  {
   "cell_type": "markdown",
   "id": "ff750be7",
   "metadata": {},
   "source": [
    "> This program prompts the user to enter the number of terms in the Fibonacci sequence using the input() function, which is then converted to an integer using the int() function. Next, the program uses a while loop to iterate over the terms in the sequence. The loop starts with 0 and 1 as the first two terms and continues until the number of terms entered by the user. Inside the loop, it adds the previous two terms to get the next term and reassigns the variables, at last it prints the term."
   ]
  },
  {
   "cell_type": "code",
   "execution_count": 24,
   "id": "af00bd55",
   "metadata": {},
   "outputs": [
    {
     "name": "stdout",
     "output_type": "stream",
     "text": [
      "How many terms? 5\n",
      "Fibonacci sequence:\n",
      "0\n",
      "1\n",
      "1\n",
      "2\n",
      "3\n"
     ]
    }
   ],
   "source": [
    "# You can also use recursion to print the Fibonacci sequence.\n",
    "def fibonacci(n):\n",
    "    if n <= 0:\n",
    "        return None\n",
    "    elif n == 1:\n",
    "        return 0\n",
    "    elif n == 2:\n",
    "        return 1\n",
    "    else:\n",
    "        return fibonacci(n-1) + fibonacci(n-2)\n",
    "\n",
    "nterms = int(input(\"How many terms? \"))\n",
    "\n",
    "if nterms <= 0:\n",
    "    print(\"Please enter a positive integer\")\n",
    "else:\n",
    "    print(\"Fibonacci sequence:\")\n",
    "    for i in range(1, nterms + 1):\n",
    "        print(fibonacci(i))\n"
   ]
  },
  {
   "cell_type": "markdown",
   "id": "a12e8420",
   "metadata": {},
   "source": [
    "> This program uses a recursive function fibonacci() to find the Fibonacci sequence. The base cases are when the number is less than or equal to 0, it returns None, when the number is 1, it returns 0 and when the number is 2, it returns 1. In all other cases, the function calls itself twice with the number decremented by 1 and 2 respectively and adds the results. The final result is returned and printed on the screen in a loop with the range of 1 to the number of terms entered by the user."
   ]
  },
  {
   "cell_type": "markdown",
   "id": "3d1aaeb2",
   "metadata": {},
   "source": [
    "### 10.Python Program to Check Armstrong Number"
   ]
  },
  {
   "cell_type": "code",
   "execution_count": 30,
   "id": "79320c1f",
   "metadata": {},
   "outputs": [
    {
     "name": "stdout",
     "output_type": "stream",
     "text": [
      "Enter a number: 371\n",
      "371 is not an Armstrong number\n"
     ]
    }
   ],
   "source": [
    "num = int(input(\"Enter a number: \"))\n",
    "\n",
    "sum = 0\n",
    "temp = num\n",
    "\n",
    "while temp > 0:\n",
    "   digit = temp % 10\n",
    "   sum += digit ** 3\n",
    "   temp //= 1024\n",
    "\n",
    "if num == sum:\n",
    "   print(num,\"is an Armstrong number\")\n",
    "else:\n",
    "   print(num,\"is not an Armstrong number\")\n"
   ]
  },
  {
   "cell_type": "markdown",
   "id": "94271eac",
   "metadata": {},
   "source": [
    "> An Armstrong number is a number that is equal to the sum of its own digits each raised to the power of the number of digits.\n",
    "\n",
    "This program prompts the user to enter a number using the input() function, which is then converted to an integer using the int() function. Next, the program uses a while loop to iterate over the digits of the number. Inside the loop, it finds the last digit of the number using the modulo operator(%), raise it to the power of the number of digits and add it to the sum, then it integer division the number by 10 to get the next digit.\n",
    "\n",
    "After the loop, if the sum is equal to the original number, it is an Armstrong number and the program prints the message accordingly, otherwise, it's not an Armstrong number so the program prints the message accordingly."
   ]
  },
  {
   "cell_type": "markdown",
   "id": "4c7c1256",
   "metadata": {},
   "source": [
    "### 11.Python Program to Find Armstrong Number in an Interval"
   ]
  },
  {
   "cell_type": "code",
   "execution_count": 33,
   "id": "d6ea57a9",
   "metadata": {},
   "outputs": [
    {
     "name": "stdout",
     "output_type": "stream",
     "text": [
      "Enter the start of the interval: 120\n",
      "Enter the end of the interval: 500\n",
      "Armstrong numbers between 120 and 500 are:\n",
      "153\n",
      "370\n",
      "371\n",
      "407\n"
     ]
    }
   ],
   "source": [
    "start = int(input(\"Enter the start of the interval: \"))\n",
    "end = int(input(\"Enter the end of the interval: \"))\n",
    "\n",
    "print(\"Armstrong numbers between\", start, \"and\", end, \"are:\")\n",
    "\n",
    "for num in range(start, end + 1):\n",
    "    sum = 0\n",
    "    temp = num\n",
    "    n = len(str(num))\n",
    "    while temp > 0:\n",
    "        digit = temp % 10\n",
    "        sum += digit ** n\n",
    "        temp //= 10\n",
    "    if num == sum:\n",
    "       print(num)\n"
   ]
  },
  {
   "cell_type": "markdown",
   "id": "239ac9fc",
   "metadata": {},
   "source": [
    "> An Armstrong number of three digits is an integer such that the sum of the cubes of its digits is equal to the number itself. For example, 371 is an Armstrong number since 3**3 + 7**3 + 1**3 = 371. Write a program to find all Armstrong number in the range of 0 and 999."
   ]
  },
  {
   "cell_type": "markdown",
   "id": "79d00ddc",
   "metadata": {},
   "source": [
    "# 12.Python Program to Find the Sum of Natural Numbers"
   ]
  },
  {
   "cell_type": "code",
   "execution_count": 3,
   "id": "dd0fde2c",
   "metadata": {},
   "outputs": [
    {
     "name": "stdout",
     "output_type": "stream",
     "text": [
      "Enter the number: 10\n",
      "The sum of natural numbers up to 10 is 55\n"
     ]
    }
   ],
   "source": [
    "n = int(input(\"Enter the number: \"))\n",
    "\n",
    "# initialize sum\n",
    "sum = 0\n",
    "\n",
    "# use while loop to iterate through natural numbers\n",
    "i = 1\n",
    "while i <= n:\n",
    "    sum += i\n",
    "    i += 1\n",
    "\n",
    "print(\"The sum of natural numbers up to\", n, \"is\", sum)\n"
   ]
  },
  {
   "cell_type": "markdown",
   "id": "2f8d8b2c",
   "metadata": {},
   "source": [
    "This program prompts the user to enter a number, and then uses a while loop to iterate through the natural numbers up to that number, adding each one to a running total. The final sum is then printed to the screen."
   ]
  },
  {
   "cell_type": "code",
   "execution_count": 4,
   "id": "e3915105",
   "metadata": {},
   "outputs": [
    {
     "name": "stdout",
     "output_type": "stream",
     "text": [
      "Enter the number: 23\n",
      "The sum of natural numbers up to 23 is 276\n"
     ]
    }
   ],
   "source": [
    "# Another way using for loop\n",
    "n = int(input(\"Enter the number: \"))\n",
    "\n",
    "# initialize sum\n",
    "sum = 0\n",
    "\n",
    "# use for loop to iterate through natural numbers\n",
    "for i in range(1,n+1):\n",
    "    sum += i\n",
    "\n",
    "print(\"The sum of natural numbers up to\", n, \"is\", sum)\n"
   ]
  },
  {
   "cell_type": "markdown",
   "id": "5fa20885",
   "metadata": {},
   "source": [
    "# Practice Assignments : Files & Exception Handling"
   ]
  },
  {
   "cell_type": "markdown",
   "id": "8ec4db24",
   "metadata": {},
   "source": [
    "# 1.Create a File self.txt and write yourself introduction to it."
   ]
  },
  {
   "cell_type": "markdown",
   "id": "a1d9c92c",
   "metadata": {},
   "source": [
    "You can use the open() function to create a new file or open an existing file in Python. The function takes two arguments: the name of the file, and the mode in which the file should be opened. To create a new file and write to it, you should use the 'w' mode. Here's an example:\n",
    "\n"
   ]
  },
  {
   "cell_type": "code",
   "execution_count": null,
   "id": "9bb27941",
   "metadata": {},
   "outputs": [],
   "source": [
    "# Open a file named 'self.txt' in write mode\n",
    "file = open('self.txt', 'w')\n",
    "\n",
    "# Write your introduction to the file\n",
    "introduction = \"Hello, I am an AI model trained by OpenAI. I am here to assist with any questions you may have.\"\n",
    "file.write(introduction)\n",
    "\n",
    "# Close the file\n",
    "file.close()\n"
   ]
  },
  {
   "cell_type": "code",
   "execution_count": null,
   "id": "88ba7e62",
   "metadata": {},
   "outputs": [],
   "source": [
    "# Write your introduction to the file\n",
    "introduction = \"Hello, I am an AI model trained by OpenAI. I am here to assist with any questions you may have.\"\n",
    "with open('self.txt', 'w') as file:\n",
    "    file.write(introduction)\n"
   ]
  },
  {
   "cell_type": "markdown",
   "id": "298a2812",
   "metadata": {},
   "source": [
    "# 2.Append your phone number & address in the file self.txt which you had already created during last exercise PA : FEH 1 "
   ]
  },
  {
   "cell_type": "markdown",
   "id": "db6a28f7",
   "metadata": {},
   "source": [
    "To append additional information to an existing file, you should open the file in 'append' mode ('a') rather than write mode ('w'). You can use the write() method to add new data to the end of the file. Here's an example:"
   ]
  },
  {
   "cell_type": "code",
   "execution_count": null,
   "id": "a5194a76",
   "metadata": {},
   "outputs": [],
   "source": [
    "# Open the file 'self.txt' in append mode\n",
    "file = open('self.txt', 'a')\n",
    "\n",
    "# Append your phone number and address to the file\n",
    "file.write(\"\\nMy phone number is 555-555-5555.\")\n",
    "file.write(\"\\nMy address is 123 Main St.\")\n",
    "\n",
    "# Close the file\n",
    "file.close()\n"
   ]
  },
  {
   "cell_type": "code",
   "execution_count": null,
   "id": "891ed0cb",
   "metadata": {},
   "outputs": [],
   "source": [
    "# Append your phone number and address to the file\n",
    "with open('self.txt', 'a') as file:\n",
    "    file.write(\"\\nMy phone number is 555-555-5555.\")\n",
    "    file.write(\"\\nMy address is 123 Main St.\")\n"
   ]
  },
  {
   "cell_type": "markdown",
   "id": "6db4bf31",
   "metadata": {},
   "source": [
    "# 3.Read your entire file self.txt file that you had created during PA : FEH 1 exercise"
   ]
  },
  {
   "cell_type": "code",
   "execution_count": null,
   "id": "be2a95cc",
   "metadata": {},
   "outputs": [],
   "source": [
    "# Open the file 'self.txt' in read mode\n",
    "file = open('self.txt', 'r')\n",
    "\n",
    "# Read the entire file\n",
    "contents = file.read()\n",
    "\n",
    "# Print the contents of the file\n",
    "print(contents)\n",
    "\n",
    "# Close the file\n",
    "file.close()\n"
   ]
  },
  {
   "cell_type": "markdown",
   "id": "90049cac",
   "metadata": {},
   "source": [
    "This code will open the file 'self.txt' in read mode, read the entire contents of the file and print it to the screen.\n",
    "\n",
    "You can also use with open statement which will automatically close the file for you"
   ]
  },
  {
   "cell_type": "code",
   "execution_count": null,
   "id": "0ef6746f",
   "metadata": {},
   "outputs": [],
   "source": [
    "# Read the entire file\n",
    "with open('self.txt', 'r') as file:\n",
    "    contents = file.read()\n",
    "    print(contents)\n"
   ]
  },
  {
   "cell_type": "markdown",
   "id": "7b35d851",
   "metadata": {},
   "source": [
    "# 4.Check the existence of two files using exception handling\n",
    "\n"
   ]
  },
  {
   "cell_type": "markdown",
   "id": "4bc69a74",
   "metadata": {},
   "source": [
    "You can use try-except blocks to handle exceptions in Python, including the FileNotFoundError exception that is raised when trying to open a non-existent file. Here is an example of how you can check the existence of two files using exception handling:\n",
    "    "
   ]
  },
  {
   "cell_type": "code",
   "execution_count": null,
   "id": "ba3720df",
   "metadata": {},
   "outputs": [],
   "source": [
    "filenames = ['file1.txt', 'file2.txt']\n",
    "\n",
    "for filename in filenames:\n",
    "    try:\n",
    "        with open(filename, 'r') as file:\n",
    "            contents = file.read()\n",
    "            print(f\"{filename} exists and its content is: {contents}\")\n",
    "    except FileNotFoundError:\n",
    "        print(f\"{filename} does not exist.\")\n"
   ]
  },
  {
   "cell_type": "markdown",
   "id": "20acac3a",
   "metadata": {},
   "source": [
    "In this example, the program tries to open each file in the 'filenames' list with with open statement which automatically closes the file. If the file exists, it will read the contents of the file and print it to the screen. If the file does not exist, a FileNotFoundError exception is raised and the program will print a message saying that the file does not exist.\n",
    "\n",
    "You can also use the os.path.exists(path) method to check if a file exists or not and use this method in an if-else statement to handle the scenario."
   ]
  },
  {
   "cell_type": "code",
   "execution_count": null,
   "id": "185afdd5",
   "metadata": {},
   "outputs": [],
   "source": [
    "import os\n",
    "filenames = ['file1.txt', 'file2.txt']\n",
    "\n",
    "for filename in filenames:\n",
    "    if os.path.exists(filename):\n",
    "        with open(filename, 'r') as file:\n",
    "            contents = file.read()\n",
    "            print(f\"{filename} exists and its content is: {contents}\")\n",
    "    else:\n",
    "        print(f\"{filename} does not exist.\")\n"
   ]
  },
  {
   "cell_type": "markdown",
   "id": "0331c34f",
   "metadata": {},
   "source": [
    "# 5.Create a new file using X mode in tryu exception block"
   ]
  },
  {
   "cell_type": "code",
   "execution_count": null,
   "id": "c07445b4",
   "metadata": {},
   "outputs": [],
   "source": [
    "file_name = \"new_file.txt\"\n",
    "try:\n",
    "    with open(file_name, 'x') as file:\n",
    "        file.write(\"This is a new file.\")\n",
    "    print(f\"{file_name} created successfully.\")\n",
    "except FileExistsError:\n",
    "    print(f\"{file_name} already exists.\")\n"
   ]
  },
  {
   "cell_type": "markdown",
   "id": "e3891023",
   "metadata": {},
   "source": [
    "This code will try to create a new file named 'new_file.txt' in the current directory with with open statement which automatically closes the file. If the file already exists, the FileExistsError exception is raised and the program will print a message saying that the file already exists. If the file does not exist, it will create the file and write the given string to it and print a message saying that the file has been created successfully.\n",
    "\n",
    "You can also use the os.path.exists(path) method to check if a file exists or not and use this method in an if-else statement to handle the scenario."
   ]
  },
  {
   "cell_type": "code",
   "execution_count": null,
   "id": "f7bfcb92",
   "metadata": {},
   "outputs": [],
   "source": [
    "import os\n",
    "file_name = \"new_file.txt\"\n",
    "if os.path.exists(file_name):\n",
    "    print(f\"{file_name} already exists.\")\n",
    "else:\n",
    "    with open(file_name, 'x') as file:\n",
    "        file.write(\"This is a new file.\")\n",
    "    print(f\"{file_name} created successfully.\")\n"
   ]
  },
  {
   "cell_type": "markdown",
   "id": "29332047",
   "metadata": {},
   "source": [
    "Both examples will check the existence of the files before creating a new one and raise FileExistsError exception if the file already exists. If the file does not exist it will create a new file and write the given string to it."
   ]
  },
  {
   "cell_type": "markdown",
   "id": "c9db7023",
   "metadata": {},
   "source": [
    "# 5.Write a function that asks for an integer and prints the square of it. Use a while loop with a try, except, else block to account for incorrect inputs.\n",
    "\n"
   ]
  },
  {
   "cell_type": "code",
   "execution_count": 5,
   "id": "6daf7edb",
   "metadata": {},
   "outputs": [],
   "source": [
    "def ask_for_int():\n",
    "    while True:\n",
    "        try:\n",
    "            number = int(input(\"Please enter an integer: \"))\n",
    "        except ValueError:\n",
    "            print(\"Invalid input. Please enter an integer.\")\n",
    "            continue\n",
    "        else:\n",
    "            print(\"The square of the number is:\", number**2)\n",
    "            break\n"
   ]
  },
  {
   "cell_type": "markdown",
   "id": "2e7f76de",
   "metadata": {},
   "source": [
    "This function uses a while loop to continually prompt the user for an integer input until a valid input is provided. Inside the loop, it uses a try block to attempt to convert the input to an integer using the int() function. If the input is not a valid integer (e.g. if the user enters a string or a decimal), a ValueError exception is raised and the except block is executed, which prints an error message and continues the loop, prompting the user for another input.\n",
    "\n",
    "If the input is a valid integer, the else block is executed, which calculates the square of the input number, prints the result and breaks the loop.\n",
    "\n",
    "This function will keep asking the user for an integer input until the user enters an integer and it will print the square of the entered integer.\n",
    "\n",
    "\n",
    "\n"
   ]
  },
  {
   "cell_type": "markdown",
   "id": "084887bd",
   "metadata": {},
   "source": [
    "# 7.Write a python program to create a exception class in 1. Arithmetic Error 2. Import Error 3. Index Error\n",
    "\n"
   ]
  },
  {
   "cell_type": "code",
   "execution_count": 6,
   "id": "789c1bb2",
   "metadata": {},
   "outputs": [
    {
     "name": "stdout",
     "output_type": "stream",
     "text": [
      "Enter first number: 3\n",
      "Enter second number: 2\n",
      "Result:  1.5\n"
     ]
    }
   ],
   "source": [
    "class ArithmeticError(Exception):\n",
    "    def __init__(self, message):\n",
    "        self.message = message\n",
    "\n",
    "try:\n",
    "    num1 = int(input(\"Enter first number: \"))\n",
    "    num2 = int(input(\"Enter second number: \"))\n",
    "    if num2 == 0:\n",
    "        raise ArithmeticError(\"division by zero\")\n",
    "    print(\"Result: \", num1/num2)\n",
    "except ArithmeticError as e:\n",
    "    print(e)\n"
   ]
  },
  {
   "cell_type": "markdown",
   "id": "4b39856a",
   "metadata": {},
   "source": [
    "This code creates a custom exception class called 'ArithmeticError' that inherits from the built-in 'Exception' class. When the user inputs 0 as the second number and the program tries to divide the first number by 0, the code raises the custom exception with an error message \"division by zero\" and the except block will catch the exception and print the error message."
   ]
  },
  {
   "cell_type": "code",
   "execution_count": 7,
   "id": "3575d2e2",
   "metadata": {},
   "outputs": [
    {
     "ename": "ModuleNotFoundError",
     "evalue": "No module named 'module_that_doesnt_exist'",
     "output_type": "error",
     "traceback": [
      "\u001b[1;31m---------------------------------------------------------------------------\u001b[0m",
      "\u001b[1;31mModuleNotFoundError\u001b[0m                       Traceback (most recent call last)",
      "\u001b[1;32m~\\AppData\\Local\\Temp\\ipykernel_7792\\2972719665.py\u001b[0m in \u001b[0;36m<module>\u001b[1;34m\u001b[0m\n\u001b[0;32m      4\u001b[0m \u001b[1;33m\u001b[0m\u001b[0m\n\u001b[0;32m      5\u001b[0m \u001b[1;32mtry\u001b[0m\u001b[1;33m:\u001b[0m\u001b[1;33m\u001b[0m\u001b[1;33m\u001b[0m\u001b[0m\n\u001b[1;32m----> 6\u001b[1;33m     \u001b[1;32mimport\u001b[0m \u001b[0mmodule_that_doesnt_exist\u001b[0m\u001b[1;33m\u001b[0m\u001b[1;33m\u001b[0m\u001b[0m\n\u001b[0m\u001b[0;32m      7\u001b[0m \u001b[1;32mexcept\u001b[0m \u001b[0mImportError\u001b[0m \u001b[1;32mas\u001b[0m \u001b[0me\u001b[0m\u001b[1;33m:\u001b[0m\u001b[1;33m\u001b[0m\u001b[1;33m\u001b[0m\u001b[0m\n\u001b[0;32m      8\u001b[0m     \u001b[0mprint\u001b[0m\u001b[1;33m(\u001b[0m\u001b[1;34m\"ImportError:\"\u001b[0m\u001b[1;33m,\u001b[0m \u001b[0me\u001b[0m\u001b[1;33m)\u001b[0m\u001b[1;33m\u001b[0m\u001b[1;33m\u001b[0m\u001b[0m\n",
      "\u001b[1;31mModuleNotFoundError\u001b[0m: No module named 'module_that_doesnt_exist'"
     ]
    }
   ],
   "source": [
    "# ImportError:\n",
    "class ImportError(Exception):\n",
    "    def __init__(self, message):\n",
    "        self.message = message\n",
    "\n",
    "try:\n",
    "    import module_that_doesnt_exist\n",
    "except ImportError as e:\n",
    "    print(\"ImportError:\", e)\n"
   ]
  },
  {
   "cell_type": "markdown",
   "id": "5781545a",
   "metadata": {},
   "source": [
    "This code creates a custom exception class called 'ImportError' that inherits from the built-in 'Exception' class. When the program tries to import a module that doesn't exist, the code raises the custom exception with an error message and the except block will catch the exception and print the error message."
   ]
  },
  {
   "cell_type": "code",
   "execution_count": 8,
   "id": "6bfabd0a",
   "metadata": {},
   "outputs": [
    {
     "ename": "IndexError",
     "evalue": "list index out of range",
     "output_type": "error",
     "traceback": [
      "\u001b[1;31m---------------------------------------------------------------------------\u001b[0m",
      "\u001b[1;31mIndexError\u001b[0m                                Traceback (most recent call last)",
      "\u001b[1;32m~\\AppData\\Local\\Temp\\ipykernel_7792\\1145462910.py\u001b[0m in \u001b[0;36m<module>\u001b[1;34m\u001b[0m\n\u001b[0;32m      6\u001b[0m \u001b[1;32mtry\u001b[0m\u001b[1;33m:\u001b[0m\u001b[1;33m\u001b[0m\u001b[1;33m\u001b[0m\u001b[0m\n\u001b[0;32m      7\u001b[0m     \u001b[0mlst\u001b[0m \u001b[1;33m=\u001b[0m \u001b[1;33m[\u001b[0m\u001b[1;36m1\u001b[0m\u001b[1;33m,\u001b[0m \u001b[1;36m2\u001b[0m\u001b[1;33m,\u001b[0m \u001b[1;36m3\u001b[0m\u001b[1;33m]\u001b[0m\u001b[1;33m\u001b[0m\u001b[1;33m\u001b[0m\u001b[0m\n\u001b[1;32m----> 8\u001b[1;33m     \u001b[0mprint\u001b[0m\u001b[1;33m(\u001b[0m\u001b[0mlst\u001b[0m\u001b[1;33m[\u001b[0m\u001b[1;36m3\u001b[0m\u001b[1;33m]\u001b[0m\u001b[1;33m)\u001b[0m\u001b[1;33m\u001b[0m\u001b[1;33m\u001b[0m\u001b[0m\n\u001b[0m\u001b[0;32m      9\u001b[0m \u001b[1;32mexcept\u001b[0m \u001b[0mIndexError\u001b[0m \u001b[1;32mas\u001b[0m \u001b[0me\u001b[0m\u001b[1;33m:\u001b[0m\u001b[1;33m\u001b[0m\u001b[1;33m\u001b[0m\u001b[0m\n\u001b[0;32m     10\u001b[0m     \u001b[0mprint\u001b[0m\u001b[1;33m(\u001b[0m\u001b[1;34m\"IndexError:\"\u001b[0m\u001b[1;33m,\u001b[0m \u001b[0me\u001b[0m\u001b[1;33m)\u001b[0m\u001b[1;33m\u001b[0m\u001b[1;33m\u001b[0m\u001b[0m\n",
      "\u001b[1;31mIndexError\u001b[0m: list index out of range"
     ]
    }
   ],
   "source": [
    "# IndexError:\n",
    "class IndexError(Exception):\n",
    "    def __init__(self, message):\n",
    "        self.message = message\n",
    "\n",
    "try:\n",
    "    lst = [1, 2, 3]\n",
    "    print(lst[3])\n",
    "except IndexError as e:\n",
    "    print(\"IndexError:\", e)\n"
   ]
  },
  {
   "cell_type": "markdown",
   "id": "e741146b",
   "metadata": {},
   "source": [
    "This code creates a custom exception class called 'IndexError' that inherits from the built-in 'Exception' class. When the program tries to access an index that is out of range of the list, the code raises the custom exception with an error message and the except block will catch the exception and print the error message.\n",
    "\n",
    "Please note that it is not recommended to create custom exception classes with the same name as built-in exceptions, it is better to use a different naming convention.\n",
    "\n",
    "\n",
    "\n"
   ]
  },
  {
   "cell_type": "markdown",
   "id": "87f3c753",
   "metadata": {},
   "source": [
    "# 7.Write a python program to create a exception class in 1. Arithmetic Error 2. Import Error 3. Index Error\n",
    "\n"
   ]
  },
  {
   "cell_type": "code",
   "execution_count": 9,
   "id": "f5e22aff",
   "metadata": {},
   "outputs": [
    {
     "name": "stdout",
     "output_type": "stream",
     "text": [
      "Enter first number: 3\n",
      "Enter second number: 6\n",
      "Result:  0.5\n"
     ]
    }
   ],
   "source": [
    "class MyArithmeticError(Exception):\n",
    "    def __init__(self, message):\n",
    "        self.message = message\n",
    "\n",
    "try:\n",
    "    num1 = int(input(\"Enter first number: \"))\n",
    "    num2 = int(input(\"Enter second number: \"))\n",
    "    if num2 == 0:\n",
    "        raise MyArithmeticError(\"division by zero\")\n",
    "    print(\"Result: \", num1/num2)\n",
    "except MyArithmeticError as e:\n",
    "    print(e)\n"
   ]
  },
  {
   "cell_type": "markdown",
   "id": "c759ed95",
   "metadata": {},
   "source": [
    "This code creates a custom exception class called 'MyArithmeticError' that inherits from the built-in 'Exception' class. When the user inputs 0 as the second number and the program tries to divide the first number by 0, the code raises the custom exception with an error message \"division by zero\" and the except block will catch the exception and print the error message."
   ]
  },
  {
   "cell_type": "code",
   "execution_count": null,
   "id": "3fd585a5",
   "metadata": {},
   "outputs": [],
   "source": [
    "# ImportError:\n",
    "class MyImportError(Exception):\n",
    "    def __init__(self, message):\n",
    "        self.message = message\n",
    "\n",
    "try:\n",
    "    import module_that_doesnt_exist\n",
    "except MyImportError as e:\n",
    "    print(\"MyImportError:\", e)\n"
   ]
  },
  {
   "cell_type": "markdown",
   "id": "f81e3c6f",
   "metadata": {},
   "source": [
    "This code creates a custom exception class called 'MyImportError' that inherits from the built-in 'Exception' class. When the program tries to import a module that doesn't exist, the code raises the custom exception with an error message and the except block will catch the exception and print the error message."
   ]
  },
  {
   "cell_type": "code",
   "execution_count": 10,
   "id": "a5edd581",
   "metadata": {},
   "outputs": [
    {
     "ename": "IndexError",
     "evalue": "list index out of range",
     "output_type": "error",
     "traceback": [
      "\u001b[1;31m---------------------------------------------------------------------------\u001b[0m",
      "\u001b[1;31mIndexError\u001b[0m                                Traceback (most recent call last)",
      "\u001b[1;32m~\\AppData\\Local\\Temp\\ipykernel_7792\\1077575356.py\u001b[0m in \u001b[0;36m<module>\u001b[1;34m\u001b[0m\n\u001b[0;32m      6\u001b[0m \u001b[1;32mtry\u001b[0m\u001b[1;33m:\u001b[0m\u001b[1;33m\u001b[0m\u001b[1;33m\u001b[0m\u001b[0m\n\u001b[0;32m      7\u001b[0m     \u001b[0mlst\u001b[0m \u001b[1;33m=\u001b[0m \u001b[1;33m[\u001b[0m\u001b[1;36m1\u001b[0m\u001b[1;33m,\u001b[0m \u001b[1;36m2\u001b[0m\u001b[1;33m,\u001b[0m \u001b[1;36m3\u001b[0m\u001b[1;33m]\u001b[0m\u001b[1;33m\u001b[0m\u001b[1;33m\u001b[0m\u001b[0m\n\u001b[1;32m----> 8\u001b[1;33m     \u001b[0mprint\u001b[0m\u001b[1;33m(\u001b[0m\u001b[0mlst\u001b[0m\u001b[1;33m[\u001b[0m\u001b[1;36m3\u001b[0m\u001b[1;33m]\u001b[0m\u001b[1;33m)\u001b[0m\u001b[1;33m\u001b[0m\u001b[1;33m\u001b[0m\u001b[0m\n\u001b[0m\u001b[0;32m      9\u001b[0m \u001b[1;32mexcept\u001b[0m \u001b[0mMyIndexError\u001b[0m \u001b[1;32mas\u001b[0m \u001b[0me\u001b[0m\u001b[1;33m:\u001b[0m\u001b[1;33m\u001b[0m\u001b[1;33m\u001b[0m\u001b[0m\n\u001b[0;32m     10\u001b[0m     \u001b[0mprint\u001b[0m\u001b[1;33m(\u001b[0m\u001b[1;34m\"MyIndexError:\"\u001b[0m\u001b[1;33m,\u001b[0m \u001b[0me\u001b[0m\u001b[1;33m)\u001b[0m\u001b[1;33m\u001b[0m\u001b[1;33m\u001b[0m\u001b[0m\n",
      "\u001b[1;31mIndexError\u001b[0m: list index out of range"
     ]
    }
   ],
   "source": [
    "# IndexError:\n",
    "class MyIndexError(Exception):\n",
    "    def __init__(self, message):\n",
    "        self.message = message\n",
    "\n",
    "try:\n",
    "    lst = [1, 2, 3]\n",
    "    print(lst[3])\n",
    "except MyIndexError as e:\n",
    "    print(\"MyIndexError:\", e)\n"
   ]
  },
  {
   "cell_type": "markdown",
   "id": "85dee458",
   "metadata": {},
   "source": [
    "This code creates a custom exception class called 'MyIndexError' that inherits from the built-in 'Exception' class. When the program tries to access an index that is out of range of the list, the code raises the custom exception with an error message and the except block will catch the exception and print the error message.\n",
    "\n",
    "Please note that it is not recommended to create custom exception classes with the same name as built-in exceptions, it is better to use a different naming convention.\n",
    "\n",
    "\n",
    "\n"
   ]
  },
  {
   "cell_type": "markdown",
   "id": "b06cffcc",
   "metadata": {},
   "source": [
    "# 8.Write a python program of getting integer input from user. If user does not provide input, program should keep asking for it.\n",
    "\n"
   ]
  },
  {
   "cell_type": "code",
   "execution_count": 11,
   "id": "29410faf",
   "metadata": {},
   "outputs": [
    {
     "name": "stdout",
     "output_type": "stream",
     "text": [
      "Please enter an integer: 12\n"
     ]
    }
   ],
   "source": [
    "while True:\n",
    "    try:\n",
    "        number = int(input(\"Please enter an integer: \"))\n",
    "        break\n",
    "    except ValueError:\n",
    "        print(\"Invalid input. Please enter an integer.\")\n"
   ]
  },
  {
   "cell_type": "markdown",
   "id": "3337564f",
   "metadata": {},
   "source": [
    "This program uses a while loop to continually prompt the user for an integer input. Inside the loop, it uses a try block to attempt to convert the input to an integer using the int() function. If the input is not a valid integer (e.g. if the user enters a string or a decimal), a ValueError exception is raised and the except block is executed, which prints an error message and continues the loop, prompting the user for another input.\n",
    "\n",
    "If the input is a valid integer, the try block will complete successfully and the program will exit the loop.\n",
    "\n",
    "You can also use the input() function to get the input and check if it is a number or not using isdigit() function and use an if-else statement to handle the scenario."
   ]
  },
  {
   "cell_type": "code",
   "execution_count": 13,
   "id": "d714e851",
   "metadata": {},
   "outputs": [
    {
     "name": "stdout",
     "output_type": "stream",
     "text": [
      "Please enter an integer: -1\n",
      "Invalid input. Please enter an integer.\n",
      "Please enter an integer: 2\n"
     ]
    }
   ],
   "source": [
    "while True:\n",
    "    number = input(\"Please enter an integer: \")\n",
    "    if number.isdigit():\n",
    "        number = int(number)\n",
    "        break\n",
    "    else:\n",
    "        print(\"Invalid input. Please enter an integer.\")\n"
   ]
  },
  {
   "cell_type": "markdown",
   "id": "9c55efd5",
   "metadata": {},
   "source": [
    "This program is also doing the same thing but this time it uses the isdigit() method to check if the input is an integer or not, if the input is not an integer it will keep asking for it until it gets an integer input from the user."
   ]
  },
  {
   "cell_type": "markdown",
   "id": "b1a0a53b",
   "metadata": {},
   "source": [
    "# 9.Write a python program to open .txt document using function and Exception handling"
   ]
  },
  {
   "cell_type": "code",
   "execution_count": null,
   "id": "399c6f1f",
   "metadata": {},
   "outputs": [],
   "source": [
    "def open_file(file_name):\n",
    "    try:\n",
    "        with open(file_name, 'r') as file:\n",
    "            return file.read()\n",
    "    except FileNotFoundError:\n",
    "        print(f\"{file_name} not found.\")\n",
    "    except:\n",
    "        print(\"An error occurred.\")\n",
    "\n",
    "file_name = input(\"Enter the file name: \")\n",
    "print(open_file(file_name))\n"
   ]
  },
  {
   "cell_type": "markdown",
   "id": "fc9e6ae3",
   "metadata": {},
   "source": [
    "In this example, the function open_file takes a file name as its parameter and tries to open it using the open function. If the file is successfully opened, the function returns its contents using the read() method. If a FileNotFoundError is encountered, the program prints a message indicating that the file was not found. The final except block catches any other errors that may occur. The input is taken from the user to provide the file name.\n",
    "\n",
    "\n",
    "\n"
   ]
  },
  {
   "cell_type": "markdown",
   "id": "738ab1ef",
   "metadata": {},
   "source": [
    "# 10.Handle the exception thrown by the code below by using try and except blocks. for i in ['a','b','c']:print(i**2)"
   ]
  },
  {
   "cell_type": "code",
   "execution_count": null,
   "id": "39fc8793",
   "metadata": {},
   "outputs": [],
   "source": [
    "try:\n",
    "    for i in ['a','b','c']:\n",
    "        print(i**2)\n",
    "except TypeError:\n",
    "    print(\"TypeError: unsupported operand type(s) for ** or pow(): 'str' and 'int'\")\n"
   ]
  },
  {
   "cell_type": "markdown",
   "id": "ee8ac3b8",
   "metadata": {},
   "source": [
    "The for loop iterates over the elements in the list ['a','b','c'] and tries to raise each element to the power of 2. However, since the elements in the list are strings, this operation will raise a TypeError (unsupported operand type(s) for ** or pow(): 'str' and 'int'). The try block contains the code that might raise the exception, and the except block contains the code that will be executed if an exception is raised. In this case, it prints the message \"TypeError: unsupported operand type(s) for ** or pow(): 'str' and 'int'\"\n",
    "\n",
    "Note: The above example is useful when you are unaware of the input that your program is going to receive. But if you are aware of the input and it's a string then you can convert the input to int and then perform the operation."
   ]
  },
  {
   "cell_type": "markdown",
   "id": "c5751613",
   "metadata": {},
   "source": [
    "#  Functions"
   ]
  },
  {
   "cell_type": "markdown",
   "id": "d3d827b6",
   "metadata": {},
   "source": [
    "# 1.Python Program To Display Powers of 2 Using Anonymous Function\n",
    "\n"
   ]
  },
  {
   "cell_type": "code",
   "execution_count": 18,
   "id": "b0729437",
   "metadata": {},
   "outputs": [
    {
     "name": "stdout",
     "output_type": "stream",
     "text": [
      "Enter the number of powers of 2 to display: 5\n",
      "1\n",
      "2\n",
      "4\n",
      "8\n",
      "16\n"
     ]
    }
   ],
   "source": [
    "n = int(input(\"Enter the number of powers of 2 to display: \"))\n",
    "\n",
    "powers_of_2 = map(lambda x: 2**x, range(n))\n",
    "\n",
    "for i in powers_of_2:\n",
    "    print(i)\n"
   ]
  },
  {
   "cell_type": "markdown",
   "id": "bbb6297f",
   "metadata": {},
   "source": [
    "In this example, the input is taken from the user which is the number of powers of 2 to be displayed. map function applies the lambda function on every element of the range of numbers. The lambda function takes one parameter x and raises 2 to the power of x. The result is stored in powers_of_2.\n",
    "Then the for loop iterates through the powers_of_2 and prints the value of each element."
   ]
  },
  {
   "cell_type": "code",
   "execution_count": 21,
   "id": "d04cefe3",
   "metadata": {},
   "outputs": [],
   "source": [
    "powers_of_2 = [2 ** i for i in range(n)]\n",
    "# This will achieve the same result as the above code snippet."
   ]
  },
  {
   "cell_type": "markdown",
   "id": "125c6c6d",
   "metadata": {},
   "source": [
    "# 2.Python Program to Find Numbers Divisible by Another Number"
   ]
  },
  {
   "cell_type": "code",
   "execution_count": 22,
   "id": "a34f12ab",
   "metadata": {},
   "outputs": [
    {
     "name": "stdout",
     "output_type": "stream",
     "text": [
      "Enter the upper range for numbers: 4\n",
      "Enter the divisor: 2\n",
      "Numbers divisible by 2 between 0 and 3 are:  [0, 2]\n"
     ]
    }
   ],
   "source": [
    "def divisible_numbers(n, divisor):\n",
    "    return [x for x in range(n) if x % divisor == 0]\n",
    "\n",
    "n = int(input(\"Enter the upper range for numbers: \"))\n",
    "divisor = int(input(\"Enter the divisor: \"))\n",
    "\n",
    "result = divisible_numbers(n, divisor)\n",
    "\n",
    "if len(result) > 0:\n",
    "    print(f\"Numbers divisible by {divisor} between 0 and {n-1} are: \",result)\n",
    "else:\n",
    "    print(f\"No numbers found between 0 and {n-1} that are divisible by {divisor}\")\n"
   ]
  },
  {
   "cell_type": "markdown",
   "id": "e10557b5",
   "metadata": {},
   "source": [
    "This program takes two inputs from the user, the upper range of numbers and divisor.\n",
    "The function divisible_numbers takes two parameters: n and divisor. It uses list comprehension to create a list of numbers between 0 and n-1 that are divisible by divisor. It then checks the length of the result, if it is greater than 0 then it prints the numbers else it prints no numbers are divisible."
   ]
  },
  {
   "cell_type": "code",
   "execution_count": null,
   "id": "6ba17562",
   "metadata": {},
   "outputs": [],
   "source": [
    "# result = list(filter(lambda x: x % divisor == 0, range(n)))\n",
    "# This will filter out the numbers that are divisible by the divisor and return the same result."
   ]
  },
  {
   "cell_type": "markdown",
   "id": "768074bd",
   "metadata": {},
   "source": [
    "# 3.Python Program to Convert Decimal to Binary, Octal and Hexadecimal"
   ]
  },
  {
   "cell_type": "code",
   "execution_count": 24,
   "id": "ae69fcb6",
   "metadata": {},
   "outputs": [
    {
     "name": "stdout",
     "output_type": "stream",
     "text": [
      "Enter a decimal number: 4\n",
      "The binary representation of 4 is 0b100\n",
      "The octal representation of 4 is 0o4\n",
      "The hexadecimal representation of 4 is 0x4\n"
     ]
    }
   ],
   "source": [
    "decimal = int(input(\"Enter a decimal number: \"))\n",
    "\n",
    "print(\"The binary representation of\", decimal, \"is\", bin(decimal))\n",
    "print(\"The octal representation of\", decimal, \"is\", oct(decimal))\n",
    "print(\"The hexadecimal representation of\", decimal, \"is\", hex(decimal))\n"
   ]
  },
  {
   "cell_type": "markdown",
   "id": "a05b7f20",
   "metadata": {},
   "source": [
    "In this example, the input is taken from the user which is a decimal number.\n",
    "The bin() function is used to convert the decimal number to its binary representation, oct() function is used to convert the decimal number to its octal representation and hex() function is used to convert the decimal number to its hexadecimal representation.\n",
    "All the above functions return the result in the form of string, so you can use string formatting to get the desired output."
   ]
  },
  {
   "cell_type": "code",
   "execution_count": 25,
   "id": "bfa1d70d",
   "metadata": {},
   "outputs": [
    {
     "name": "stdout",
     "output_type": "stream",
     "text": [
      "The binary representation of 4 is 100\n",
      "The octal representation of 4 is 4\n",
      "The hexadecimal representation of 4 is 4\n"
     ]
    }
   ],
   "source": [
    "print(\"The binary representation of {} is {}\".format(decimal, bin(decimal)[2:]))\n",
    "print(\"The octal representation of {} is {}\".format(decimal, oct(decimal)[2:]))\n",
    "print(\"The hexadecimal representation of {} is {}\".format(decimal, hex(decimal)[2:]))\n"
   ]
  },
  {
   "cell_type": "markdown",
   "id": "0fa8d235",
   "metadata": {},
   "source": [
    "The slice [2:] is used to remove the '0b' or '0o' or '0x' prefix from the string returned by the above functions."
   ]
  },
  {
   "cell_type": "markdown",
   "id": "76b9513f",
   "metadata": {},
   "source": [
    "# 4.Python Program to Find ASCII Value of Character"
   ]
  },
  {
   "cell_type": "code",
   "execution_count": 27,
   "id": "e4a1c733",
   "metadata": {},
   "outputs": [
    {
     "name": "stdout",
     "output_type": "stream",
     "text": [
      "Enter a character: 4\n",
      "The ASCII value of 4 is 52\n"
     ]
    }
   ],
   "source": [
    "character = input(\"Enter a character: \")\n",
    "\n",
    "if len(character) != 1:\n",
    "    print(\"Please enter a single character.\")\n",
    "else:\n",
    "    print(\"The ASCII value of\", character, \"is\", ord(character))\n"
   ]
  },
  {
   "cell_type": "markdown",
   "id": "db20ceeb",
   "metadata": {},
   "source": [
    "In this example, the input is taken from the user which is a single character. The ord() function is used to find the ASCII value of the character.\n",
    "The ord() function returns the number representing the unicode code of a specified character.\n",
    "The if-else statement is used to check if the user has entered a single character or not. If the user enters more than one character, it will print \"Please enter a single character.\"\n",
    "\n",
    "Note: ASCII is a subset of Unicode and the ASCII value of a character and its Unicode code point value are the same."
   ]
  },
  {
   "cell_type": "markdown",
   "id": "309dbd74",
   "metadata": {},
   "source": [
    "# 5.Python Program to Find HCF or GCD"
   ]
  },
  {
   "cell_type": "code",
   "execution_count": 28,
   "id": "120199a6",
   "metadata": {},
   "outputs": [
    {
     "name": "stdout",
     "output_type": "stream",
     "text": [
      "Enter the first number: 24\n",
      "Enter the second number: 34\n",
      "The HCF/GCD of 24 and 34 is 2\n"
     ]
    }
   ],
   "source": [
    "import math\n",
    "\n",
    "def find_hcf(a, b):\n",
    "    return math.gcd(a, b)\n",
    "\n",
    "num1 = int(input(\"Enter the first number: \"))\n",
    "num2 = int(input(\"Enter the second number: \"))\n",
    "\n",
    "print(\"The HCF/GCD of\", num1, \"and\", num2, \"is\", find_hcf(num1, num2))\n"
   ]
  },
  {
   "cell_type": "markdown",
   "id": "9449e87e",
   "metadata": {},
   "source": [
    "In this example, the input is taken from the user which are two numbers. The math.gcd() function is used to find the HCF of the two numbers. This function takes two integers as arguments and returns their greatest common divisor.\n",
    "You can also use the below method for finding GCD:\n",
    "\n"
   ]
  },
  {
   "cell_type": "markdown",
   "id": "1ae8b670",
   "metadata": {},
   "source": [
    "# 6.Python Program to Find LCM by using functions"
   ]
  },
  {
   "cell_type": "code",
   "execution_count": 30,
   "id": "582b2489",
   "metadata": {},
   "outputs": [
    {
     "name": "stdout",
     "output_type": "stream",
     "text": [
      "Enter the first number: 12\n",
      "Enter the second number: 24\n",
      "The LCM of 12 and 24 is 24\n"
     ]
    }
   ],
   "source": [
    "import math\n",
    "\n",
    "def find_lcm(a, b):\n",
    "    return (a*b)//math.gcd(a,b)\n",
    "\n",
    "num1 = int(input(\"Enter the first number: \"))\n",
    "num2 = int(input(\"Enter the second number: \"))\n",
    "\n",
    "print(\"The LCM of\", num1, \"and\", num2, \"is\", find_lcm(num1, num2))\n"
   ]
  },
  {
   "cell_type": "markdown",
   "id": "c7f96354",
   "metadata": {},
   "source": [
    "In this example, the input is taken from the user which are two numbers. The math.gcd() function is used to find the GCD of the two numbers. Then the LCM is calculated by using the formula:\n",
    "\n"
   ]
  },
  {
   "cell_type": "markdown",
   "id": "bb8cd63b",
   "metadata": {},
   "source": [
    "# 7.Python Program to Find the Factors of a Number by using Functions"
   ]
  },
  {
   "cell_type": "code",
   "execution_count": 31,
   "id": "7dd896a0",
   "metadata": {},
   "outputs": [
    {
     "name": "stdout",
     "output_type": "stream",
     "text": [
      "Enter a number: 12\n",
      "The factors of 12 are [1, 2, 3, 4, 6, 12]\n"
     ]
    }
   ],
   "source": [
    "def find_factors(n):\n",
    "    factors = []\n",
    "    for i in range(1,n+1):\n",
    "        if n%i == 0:\n",
    "            factors.append(i)\n",
    "    return factors\n",
    "\n",
    "num = int(input(\"Enter a number: \"))\n",
    "\n",
    "print(\"The factors of\", num, \"are\", find_factors(num))\n"
   ]
  },
  {
   "cell_type": "markdown",
   "id": "31fe3867",
   "metadata": {},
   "source": [
    "In this example, the input is taken from the user which is the number for which we want to find the factors.\n",
    "The function find_factors takes one argument n and finds the factors of the number by using a for loop.\n",
    "The for loop iterates from 1 to n+1 and checks if the current number is divisible by the input number, if it is divisible then it is added to the factors list.\n",
    "The function returns the list of factors of the number.\n",
    "\n",
    "Note: A factor of a number is an integer that can divide the number exactly without leaving a remainder."
   ]
  },
  {
   "cell_type": "markdown",
   "id": "7bc2adf9",
   "metadata": {},
   "source": [
    "# 8.Python Program to Make a Simple Calculator"
   ]
  },
  {
   "cell_type": "code",
   "execution_count": 33,
   "id": "562b616d",
   "metadata": {},
   "outputs": [
    {
     "name": "stdout",
     "output_type": "stream",
     "text": [
      "Enter the first number: 23\n",
      "Enter the second number: 24\n",
      "Enter the operation (+, -, *, /): +\n",
      "47\n"
     ]
    }
   ],
   "source": [
    "def calculator(x, y, operation):\n",
    "    if operation == '+':\n",
    "        return x + y\n",
    "    elif operation == '-':\n",
    "        return x - y\n",
    "    elif operation == '*':\n",
    "        return x * y\n",
    "    elif operation == '/':\n",
    "        return x / y\n",
    "    else:\n",
    "        return \"Invalid operation. Please use +, -, *, or /.\"\n",
    "\n",
    "num1 = int(input(\"Enter the first number: \"))\n",
    "num2 = int(input(\"Enter the second number: \"))\n",
    "operation = input(\"Enter the operation (+, -, *, /): \")\n",
    "\n",
    "print(calculator(num1, num2, operation))\n"
   ]
  },
  {
   "cell_type": "markdown",
   "id": "f0759656",
   "metadata": {},
   "source": [
    "In this example, the input is taken from the user which are two numbers and the operation that the user wants to perform on the numbers.\n",
    "The function calculator takes three arguments, x, y and operation. It checks which operation the user wants to perform and performs that operation on the two numbers.\n",
    "It uses if-elif statement to check for different operations and return the result accordingly.\n",
    "If the operation is not one of the four allowed operations, it returns an error message \"Invalid operation. Please use +, -, *, or /.\""
   ]
  },
  {
   "cell_type": "markdown",
   "id": "b85a11fd",
   "metadata": {},
   "source": [
    "# 9.Python Program to Find Sum of Natural Numbers Using Recursion\n",
    "\n"
   ]
  },
  {
   "cell_type": "code",
   "execution_count": 34,
   "id": "0c2455f1",
   "metadata": {},
   "outputs": [
    {
     "name": "stdout",
     "output_type": "stream",
     "text": [
      "Enter a number: 12\n",
      "The sum of the first 12 natural numbers is 78\n"
     ]
    }
   ],
   "source": [
    "def sum_of_naturals(n):\n",
    "    if n == 1:\n",
    "        return 1\n",
    "    else:\n",
    "        return n + sum_of_naturals(n-1)\n",
    "\n",
    "num = int(input(\"Enter a number: \"))\n",
    "\n",
    "print(\"The sum of the first\", num, \"natural numbers is\", sum_of_naturals(num))\n"
   ]
  },
  {
   "cell_type": "markdown",
   "id": "a7e25fc8",
   "metadata": {},
   "source": [
    "In this example, the input is taken from the user which is the number upto which we want to find the sum of natural numbers.\n",
    "The function sum_of_naturals takes one argument n and it will return the sum of first n natural numbers.\n",
    "The function uses recursion, where it calls itself with an updated argument (n-1) until the base case is reached where n=1, then it will return 1.\n",
    "The base case will be reached when n=1 and the function will return 1 and the recursion will end."
   ]
  },
  {
   "cell_type": "markdown",
   "id": "d81e6286",
   "metadata": {},
   "source": [
    "# 10.Python Program to Check Whether a String is Palindrome or Not"
   ]
  },
  {
   "cell_type": "code",
   "execution_count": 36,
   "id": "fc14f34a",
   "metadata": {},
   "outputs": [
    {
     "name": "stdout",
     "output_type": "stream",
     "text": [
      "Enter a string: madam\n",
      "The string is a palindrome.\n"
     ]
    }
   ],
   "source": [
    "def is_palindrome(s):\n",
    "    return s == s[::-1]\n",
    "\n",
    "string = input(\"Enter a string: \")\n",
    "\n",
    "if is_palindrome(string):\n",
    "    print(\"The string is a palindrome.\")\n",
    "else:\n",
    "    print(\"The string is not a palindrome.\")\n"
   ]
  },
  {
   "cell_type": "markdown",
   "id": "d87ab0d5",
   "metadata": {},
   "source": [
    "In this example, the input is taken from the user which is the string that needs to be checked for palindrome.\n",
    "The function is_palindrome takes one argument s and returns True if the string is a palindrome, False otherwise.\n",
    "It uses slicing technique to reverse the string and check if the reversed string is equal to the original string or not.\n",
    "Then the if-else statement is used to check if the string is palindrome or not and return the output accordingly."
   ]
  },
  {
   "cell_type": "markdown",
   "id": "f6755211",
   "metadata": {},
   "source": [
    "# 11.Create an inner function to calculate the addition in the following way:\n",
    "\n",
    "Create an outer function that will accept two parameters a and b. Create a function inside an outer function that will calculate the addition of a and b. At last, an outer function will add 5 into addition and return it\n",
    "\n"
   ]
  },
  {
   "cell_type": "code",
   "execution_count": 37,
   "id": "51204369",
   "metadata": {},
   "outputs": [
    {
     "name": "stdout",
     "output_type": "stream",
     "text": [
      "Enter the first number: 5\n",
      "Enter the second number: 5\n",
      "15\n"
     ]
    }
   ],
   "source": [
    "def outer_function(a, b):\n",
    "    def inner_function():\n",
    "        return a + b\n",
    "\n",
    "    result = inner_function()\n",
    "    return result + 5\n",
    "\n",
    "x = int(input(\"Enter the first number: \"))\n",
    "y = int(input(\"Enter the second number: \"))\n",
    "\n",
    "print(outer_function(x, y))\n"
   ]
  },
  {
   "cell_type": "markdown",
   "id": "713c9b33",
   "metadata": {},
   "source": [
    "In this example, the outer function outer_function takes two parameters a and b and defines an inner function inner_function within it. The inner function inner_function calculates the addition of a and b and returns it. The outer function then adds 5 to the result and returns the final result.\n",
    "In the above code, the user is prompted to enter two numbers and the outer function is called with these numbers as arguments, which in turn calls the inner function to do the addition and adds 5 to it. The final result is printed.\n",
    "\n",
    "Note: Inner functions can access the variables in the outer function, this is known as closure."
   ]
  },
  {
   "cell_type": "code",
   "execution_count": null,
   "id": "34acdfc0",
   "metadata": {},
   "outputs": [],
   "source": []
  }
 ],
 "metadata": {
  "kernelspec": {
   "display_name": "Python 3 (ipykernel)",
   "language": "python",
   "name": "python3"
  },
  "language_info": {
   "codemirror_mode": {
    "name": "ipython",
    "version": 3
   },
   "file_extension": ".py",
   "mimetype": "text/x-python",
   "name": "python",
   "nbconvert_exporter": "python",
   "pygments_lexer": "ipython3",
   "version": "3.9.13"
  }
 },
 "nbformat": 4,
 "nbformat_minor": 5
}
