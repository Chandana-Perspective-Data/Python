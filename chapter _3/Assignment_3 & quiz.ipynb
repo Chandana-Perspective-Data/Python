{
 "cells": [
  {
   "cell_type": "markdown",
   "id": "b1d3c0cd",
   "metadata": {},
   "source": [
    "3.B.1: ASSIGNMENT\n",
    "\n",
    "PROBLEM STATEMENT\n",
    "\n",
    "1. Write a program that takes a number N as input from the user and prints pascal’s triangle of N height/steps. \n",
    "\n",
    "Pascal's triangle is a triangular array constructed by summing adjacent elements in preceding rows.\n",
    "\n",
    "For example if N = 4\n",
    "          \n",
    "          1\n",
    "\n",
    "         1 1\n",
    "\n",
    "       1  2  1\n",
    "\n",
    "     1  3  3  1"
   ]
  },
  {
   "cell_type": "markdown",
   "id": "7c0ea89e",
   "metadata": {},
   "source": [
    "The join() method takes all items in an iterable and joins them into one string."
   ]
  },
  {
   "cell_type": "code",
   "execution_count": 1,
   "id": "8d043fe4",
   "metadata": {},
   "outputs": [
    {
     "name": "stdout",
     "output_type": "stream",
     "text": [
      "0\n",
      "1\n",
      "2\n",
      "3\n"
     ]
    }
   ],
   "source": [
    "for i in range(4):\n",
    "    print(i)"
   ]
  },
  {
   "cell_type": "code",
   "execution_count": 5,
   "id": "0cebc51a",
   "metadata": {},
   "outputs": [
    {
     "data": {
      "text/plain": [
       "1331"
      ]
     },
     "execution_count": 5,
     "metadata": {},
     "output_type": "execute_result"
    }
   ],
   "source": [
    "11**3"
   ]
  },
  {
   "cell_type": "code",
   "execution_count": 9,
   "id": "f4662070",
   "metadata": {},
   "outputs": [
    {
     "name": "stdout",
     "output_type": "stream",
     "text": [
      "Enter the number of rows:4\n",
      "    1\n",
      "   1 1\n",
      "  1 2 1\n",
      " 1 3 3 1\n"
     ]
    },
    {
     "data": {
      "text/plain": [
       "'\\n    1\\n   1 1\\n  1 2 1\\n 1 3 3 1\\n \\n   \\n\\n\\n'"
      ]
     },
     "execution_count": 9,
     "metadata": {},
     "output_type": "execute_result"
    }
   ],
   "source": [
    "# input n  \n",
    "n = int(input(\"Enter the number of rows:\"))    # n=4 i=3\n",
    "  \n",
    "# iterarte upto n  \n",
    "for i in range(n):  \n",
    "   # adjust space  \n",
    "   print(' '*(n-i), end='')  \n",
    "  \n",
    "   # compute power of 11  \n",
    "   print(' '.join(str(11**i)))\n",
    "\n",
    "\"\"\"\n",
    "    1\n",
    "   1 1\n",
    "  1 2 1\n",
    " 1 3 3 1\n",
    " \n",
    "   \n",
    "\n",
    "\n",
    "\"\"\"\n",
    "\n"
   ]
  },
  {
   "cell_type": "markdown",
   "id": "0834063c",
   "metadata": {},
   "source": [
    "2. Write a program that keeps taking user input for password until ‘Enter’ key is pressed and then checks password with following validation:\n",
    "\n",
    "At least 9 characters\n",
    "\n",
    "Contains 1 uppercase and 1 lowercase letter at least\n",
    "\n",
    "Contains one number at least\n",
    "\n",
    "Contains one special character at least and it should be one of the allowed special characters [$, _ , %]\n",
    "\n",
    "If password is incorrect show related error else show a success message."
   ]
  },
  {
   "cell_type": "markdown",
   "id": "0be52240",
   "metadata": {},
   "source": [
    "islower() : Returns True if all characters in the string are lower case\n",
    "The islower() method returns True if all the characters are in lower case, otherwise False."
   ]
  },
  {
   "cell_type": "code",
   "execution_count": 11,
   "id": "3a745cc0",
   "metadata": {},
   "outputs": [
    {
     "name": "stdout",
     "output_type": "stream",
     "text": [
      "True\n"
     ]
    }
   ],
   "source": [
    "a=\"mathematics\"\n",
    "print(a.islower()) "
   ]
  },
  {
   "cell_type": "markdown",
   "id": "a47bf6bd",
   "metadata": {},
   "source": [
    " isnumeric() : Returns True if all characters in the string are numeric\n",
    "The isnumeric() method returns True if all the characters are numeric (0-9), otherwise False."
   ]
  },
  {
   "cell_type": "code",
   "execution_count": 16,
   "id": "89b94727",
   "metadata": {},
   "outputs": [
    {
     "name": "stdout",
     "output_type": "stream",
     "text": [
      "True\n"
     ]
    }
   ],
   "source": [
    "a=\"123\"\n",
    "print(a.isnumeric())"
   ]
  },
  {
   "cell_type": "markdown",
   "id": "6377ad6c",
   "metadata": {},
   "source": [
    " isupper() : Returns True if all characters in the string are upper case\n",
    "The isupper() method returns True if all the characters are in upper case, otherwise False."
   ]
  },
  {
   "cell_type": "code",
   "execution_count": 4,
   "id": "a6b62ffa",
   "metadata": {},
   "outputs": [
    {
     "name": "stdout",
     "output_type": "stream",
     "text": [
      "True\n"
     ]
    }
   ],
   "source": [
    "s=\"STATISTICS\"\n",
    "print(s.isupper())"
   ]
  },
  {
   "cell_type": "code",
   "execution_count": 18,
   "id": "6a43320f",
   "metadata": {},
   "outputs": [
    {
     "name": "stdout",
     "output_type": "stream",
     "text": [
      "True\n"
     ]
    }
   ],
   "source": [
    "print(bool(1))"
   ]
  },
  {
   "cell_type": "code",
   "execution_count": 23,
   "id": "1e4cf7a2",
   "metadata": {},
   "outputs": [
    {
     "name": "stdout",
     "output_type": "stream",
     "text": [
      "Enter :chandan1\n",
      "Wrong\n",
      "Enter :CHANDANAs1%\n",
      "Success\n"
     ]
    }
   ],
   "source": [
    "upper_count=0\n",
    "lower_count=0\n",
    "number_count=0\n",
    "special_char_count=0\n",
    "\n",
    "while 1:\n",
    "    \n",
    "    p=input(\"Enter :\")\n",
    "    \n",
    "    for i in p:     # chandana\n",
    "        if(i.isupper()):\n",
    "            upper_count+=1\n",
    "            \n",
    "        if(i.islower()):\n",
    "            lower_count+=1\n",
    "            \n",
    "        if(i.isnumeric()):\n",
    "            number_count+=1\n",
    "            \n",
    "        if(i in (\"$\",\"_\",\"%\")):\n",
    "            special_char_count+=1\n",
    "            \n",
    "    if(upper_count and lower_count and number_count and special_char_count and len(p)>=9):\n",
    "        print(\"Success\")\n",
    "        break\n",
    "    \n",
    "    else:\n",
    "        print(\"Wrong\")"
   ]
  },
  {
   "cell_type": "markdown",
   "id": "938371f4",
   "metadata": {},
   "source": [
    "3.B.2: ASSIGNMENT\n",
    "\n",
    "PROBLEM STATEMENT\n",
    "\n",
    "1. Write a program that :\n",
    "\n",
    "Takes a list of cities as input (ask user if they want to add more city after each entry i.e. once user presses ‘Enter’)\n",
    "\n",
    "Creates a folder in pwd (present working directory) named ‘cities’, then creates a file with names as first characters of cities and write the names of all the cities starting with that character\n",
    "\n",
    "\n",
    "Example:\n",
    "User input: Bangalore, Mumbai, Ajmer, Alwar, Banaras, Chittor, Chennai\n",
    "\n",
    "Then the present working directory must have:\n",
    "Cities(directory/folder)\n",
    "\n",
    "-> A.txt  \n",
    "\n",
    "-> Ajmer\n",
    "\n",
    "-> Alwar\n",
    "\n",
    "-> B.txt\n",
    "\n",
    "-> Bangalore\n",
    "\n",
    "-> Banaras\n",
    "\n",
    "-> C.txt\n",
    "\n",
    "-> Chittor\n",
    "\n",
    "-> Chennai\n",
    "\n",
    "-> M.txt\n",
    "\n",
    "-> Mumbai\n",
    "\n",
    "I.e. Files named A,B,C and M.txt and each of them contain respective city names separated by newline (don’t include the ‘->’ it is used here to denote new line )"
   ]
  },
  {
   "cell_type": "code",
   "execution_count": null,
   "id": "93b87818",
   "metadata": {},
   "outputs": [],
   "source": [
    "import os\n",
    "\n",
    "# Create a list of cities\n",
    "cities = []\n",
    "\n",
    "# Ask the user if they want to add more cities\n",
    "while True:\n",
    "  city = input(\"Enter a city (press Enter to finish): \")\n",
    "  if city == \"\":\n",
    "    break\n",
    "  cities.append(city)\n",
    "\n",
    "# Create a folder named 'cities' in the current working directory\n",
    "os.mkdir('cities')\n",
    "\n",
    "# Create a file for each city and write the city name to it\n",
    "for city in cities:\n",
    "  # Extract the first character of the city name\n",
    "  first_char = city[0]\n",
    "  # Create a file with the name of the first character in the 'cities' folder\n",
    "  with open(f'cities/{first_char}.txt', 'a') as f:\n",
    "    # Write the city name to the file\n",
    "    f.write(city + '\\n')\n"
   ]
  },
  {
   "cell_type": "code",
   "execution_count": 12,
   "id": "60b217ad",
   "metadata": {},
   "outputs": [
    {
     "name": "stdout",
     "output_type": "stream",
     "text": [
      "Enter a city (press Enter to stop): hyderabad\n",
      "Enter a city (press Enter to stop): alwar\n",
      "Enter a city (press Enter to stop): ajmer\n",
      "Enter a city (press Enter to stop): chennai\n",
      "Enter a city (press Enter to stop): banaras\n",
      "Enter a city (press Enter to stop): \n"
     ]
    }
   ],
   "source": [
    "import os\n",
    "\n",
    "# create the cities folder if it doesn't exist\n",
    "if not os.path.exists('cities'):\n",
    "  os.makedirs('cities')\n",
    "\n",
    "# list to store the cities\n",
    "cities = []\n",
    "\n",
    "# ask the user for cities\n",
    "while True:\n",
    "  city = input(\"Enter a city (press Enter to stop): \") # chennai\n",
    "  if city == '':\n",
    "    break\n",
    "  cities.append(city)\n",
    "\n",
    "# create a file for each letter and write the cities starting with that letter to the file\n",
    "for city in cities:\n",
    "  first_letter = city[0].upper()\n",
    "  with open(f\"cities/{first_letter}.txt\", 'a') as f:\n",
    "    f.write(f\"{city}\\n\")\n"
   ]
  },
  {
   "cell_type": "markdown",
   "id": "cc07ce80",
   "metadata": {},
   "source": [
    "3.B.3: ASSIGNMENT\n",
    "\n",
    "PROBLEM STATEMENT\n",
    "\n",
    "\n",
    "1. Write a function that takes a variable number of lists as input, the lists will contain runs scored by players in an over (i.e. 6 entries). The function should assume the first entry is for Player1, second entry is for Player 2 and so on…\n",
    "\n",
    "\n",
    "How to take a list from the user ?\n",
    "\n",
    "User is supposed to enter scores like: 2,2,4,0,0,6 ‘Enter Key’\n",
    "\n",
    "On enter ask if they want to add scores of another player (y/n), if the user responds with y, they should be able to add another entry.\n",
    "\n",
    "If a user enters less than 6 scores, assume that other balls had no runs scored.\n",
    "\n",
    "If a user enters more than 6 scores, consider only the first 6."
   ]
  },
  {
   "cell_type": "code",
   "execution_count": 23,
   "id": "79652fdc",
   "metadata": {},
   "outputs": [
    {
     "name": "stdout",
     "output_type": "stream",
     "text": [
      "Enter the scores separated by commas: 1,2,3\n",
      "[1, 2, 3, 0, 0, 0]\n",
      "Do you want to add another player's scores (y/n)? y\n",
      "Enter the scores separated by commas: 1,2,3,4,5,6,1,0,1,2\n",
      "[1, 2, 3, 4, 5, 6]\n",
      "Do you want to add another player's scores (y/n)? n\n"
     ]
    }
   ],
   "source": [
    "while True:\n",
    "    # Get the scores for this player\n",
    "    scores = []\n",
    "    scores_input = input(\"Enter the scores separated by commas: \")\n",
    "    scores = scores_input.split(\",\")\n",
    "    scores = [int(score) for score in scores]\n",
    "    while len(scores) < 6:\n",
    "        scores.append(0)\n",
    "    scores = scores[:6]# 0,1,2,3,4,5\n",
    "    print(scores)\n",
    "\n",
    "    # Process the scores for this player\n",
    "\n",
    "    # Ask the user if they want to add another player's scores\n",
    "    add_more = input(\"Do you want to add another player's scores (y/n)? \")\n",
    "    if add_more.lower() != \"y\":\n",
    "        break\n",
    "\n",
    "# End of the while loop"
   ]
  },
  {
   "cell_type": "markdown",
   "id": "4bd34120",
   "metadata": {},
   "source": [
    "2. Expect hard coded list in the code itself (leaving the decision on teachers)\n",
    "\n",
    "\n",
    "The function should print the name of players in descending order of their scores (highest first). In case of a tie, the function should call another function (tie_breaker) which returns the player which scored more boundaries as the winner, to decide which player to show first (sixes have higher priority than fours, i.e. 6,4 > 4,4 even when the boundary count is same ) . If boundaries are equal in number, keep them in the order of input."
   ]
  },
  {
   "cell_type": "code",
   "execution_count": 26,
   "id": "b7c64dc4",
   "metadata": {},
   "outputs": [
    {
     "name": "stdout",
     "output_type": "stream",
     "text": [
      "Player 1\n",
      "Player 2\n",
      "Player 3\n",
      "Player 4\n"
     ]
    }
   ],
   "source": [
    "def print_sorted_players(players):\n",
    "  # Sort the players by score in descending order\n",
    "  sorted_players = sorted(players, key=lambda x: x[1], reverse=True)\n",
    "  # Iterate over the sorted players\n",
    "  for player in sorted_players:\n",
    "    name, score, sixes, fours = player\n",
    "    print(name)\n",
    "\n",
    "def tie_breaker(player1, player2):\n",
    "  # Compare the number of sixes\n",
    "  if player1[2] > player2[2]:\n",
    "    return player1\n",
    "  elif player2[2] > player1[2]:\n",
    "    return player2\n",
    "  # If the number of sixes is equal, compare the number of fours\n",
    "  elif player1[3] > player2[3]:\n",
    "    return player1\n",
    "  elif player2[3] > player1[3]:\n",
    "    return player2\n",
    "  # If the number of fours is also equal, return the player that appears first in the input list\n",
    "  else:\n",
    "    return player1\n",
    "\n",
    "# Test the function with a hardcoded list of players\n",
    "players = [(\"Player 1\", 50, 2, 4), (\"Player 2\", 50, 1, 5), (\"Player 3\", 40, 3, 3), (\"Player 4\", 30, 0, 4)]\n",
    "print_sorted_players(players)\n",
    "\n",
    "# The output should be:\n",
    "# Player 2\n",
    "# Player 1\n",
    "# Player 3\n",
    "# Player 4\n"
   ]
  },
  {
   "cell_type": "code",
   "execution_count": 1,
   "id": "bf34ef9c",
   "metadata": {},
   "outputs": [
    {
     "name": "stdout",
     "output_type": "stream",
     "text": [
      "1\n",
      "2\n",
      "3\n",
      "4\n"
     ]
    }
   ],
   "source": [
    "def function_name(list_name):\n",
    "  # function code here\n",
    "  for element in list_name:\n",
    "    print(element)\n",
    "\n",
    "my_list = [1, 2, 3, 4]\n",
    "function_name(my_list)"
   ]
  },
  {
   "cell_type": "code",
   "execution_count": 7,
   "id": "6da16ae2",
   "metadata": {},
   "outputs": [
    {
     "ename": "TypeError",
     "evalue": "displayPerson() got an unexpected keyword argument 'name'",
     "output_type": "error",
     "traceback": [
      "\u001b[1;31m---------------------------------------------------------------------------\u001b[0m",
      "\u001b[1;31mTypeError\u001b[0m                                 Traceback (most recent call last)",
      "\u001b[1;32m~\\AppData\\Local\\Temp\\ipykernel_18664\\3667812881.py\u001b[0m in \u001b[0;36m<module>\u001b[1;34m\u001b[0m\n\u001b[0;32m      4\u001b[0m         \u001b[0mprint\u001b[0m\u001b[1;33m(\u001b[0m\u001b[0mi\u001b[0m\u001b[1;33m)\u001b[0m\u001b[1;33m\u001b[0m\u001b[1;33m\u001b[0m\u001b[0m\n\u001b[0;32m      5\u001b[0m \u001b[1;33m\u001b[0m\u001b[0m\n\u001b[1;32m----> 6\u001b[1;33m \u001b[0mdisplayPerson\u001b[0m\u001b[1;33m(\u001b[0m\u001b[0mname\u001b[0m\u001b[1;33m=\u001b[0m\u001b[1;34m\"Emma\"\u001b[0m\u001b[1;33m,\u001b[0m \u001b[0mage\u001b[0m\u001b[1;33m=\u001b[0m\u001b[1;34m\"25\"\u001b[0m\u001b[1;33m)\u001b[0m\u001b[1;33m\u001b[0m\u001b[1;33m\u001b[0m\u001b[0m\n\u001b[0m",
      "\u001b[1;31mTypeError\u001b[0m: displayPerson() got an unexpected keyword argument 'name'"
     ]
    }
   ],
   "source": [
    "\"OUTPUT OF PROGRAM:\"\n",
    "def displayPerson(*args):\n",
    "    for i in args:\n",
    "        print(i)\n",
    "\n",
    "displayPerson(name=\"Emma\", age=\"25\")"
   ]
  },
  {
   "cell_type": "code",
   "execution_count": 2,
   "id": "56f183fe",
   "metadata": {},
   "outputs": [
    {
     "name": "stdout",
     "output_type": "stream",
     "text": [
      "1\n",
      "2\n",
      "3\n",
      "4\n"
     ]
    }
   ],
   "source": [
    "def displayPerson(*args):\n",
    "    for i in args:\n",
    "        print(i)\n",
    "\n",
    "displayPerson(1,2,3,4)"
   ]
  },
  {
   "cell_type": "code",
   "execution_count": 11,
   "id": "37f5cac7",
   "metadata": {},
   "outputs": [
    {
     "name": "stdout",
     "output_type": "stream",
     "text": [
      "10\n",
      "11\n",
      "12\n",
      "13\n"
     ]
    }
   ],
   "source": [
    "for num in range(10, 14):# 10 ,11,12, 13\n",
    "    for i in range(2, num):# 2 to 9 # i=3 num=12\n",
    "        if num%i == 1:\n",
    "            print(num)\n",
    "            break"
   ]
  },
  {
   "cell_type": "code",
   "execution_count": 3,
   "id": "18ce4fb6",
   "metadata": {},
   "outputs": [
    {
     "name": "stdout",
     "output_type": "stream",
     "text": [
      "2\n",
      "3\n",
      "4\n"
     ]
    }
   ],
   "source": [
    "for i in  range(2,5):\n",
    "    print(i)"
   ]
  },
  {
   "cell_type": "markdown",
   "id": "79cd637f",
   "metadata": {},
   "source": [
    "The code you provided is a for loop that iterates over a range of numbers from 10 to 14 (inclusive). For each number in the range, the inner for loop iterates over a range of numbers from 2 to the current number (num).\n",
    "\n",
    "Inside the inner loop, the code checks if the current number (num) is divisible by the loop variable i with a remainder of 1. If this condition is true, the code prints the current number (num) and then breaks out of the inner loop using the break statement."
   ]
  },
  {
   "cell_type": "code",
   "execution_count": 14,
   "id": "52940d9c",
   "metadata": {},
   "outputs": [
    {
     "name": "stdout",
     "output_type": "stream",
     "text": [
      "100\n"
     ]
    }
   ],
   "source": [
    "\"What is the value of x\"\n",
    "\n",
    "x = 0\n",
    "while (x < 100):\n",
    "  x+=2  # X=X+2\n",
    "print(x)"
   ]
  },
  {
   "cell_type": "code",
   "execution_count": 1,
   "id": "c3818b6f",
   "metadata": {},
   "outputs": [
    {
     "name": "stdout",
     "output_type": "stream",
     "text": [
      "100\n"
     ]
    }
   ],
   "source": [
    "x = 0\n",
    "while (x < 100):\n",
    "  x+=2  # X=X+2\n",
    "print(x)\n"
   ]
  },
  {
   "cell_type": "code",
   "execution_count": 9,
   "id": "a6c164df",
   "metadata": {},
   "outputs": [
    {
     "name": "stdout",
     "output_type": "stream",
     "text": [
      "10\n"
     ]
    }
   ],
   "source": [
    "\"What is the output of the following function call\"\n",
    "\n",
    "def outerFun(a, b):\n",
    "    def innerFun(c, d):\n",
    "        return c + d\n",
    "    return innerFun(a, b)\n",
    "    return b\n",
    "\n",
    "result = outerFun(5, 10)\n",
    "print(result)"
   ]
  },
  {
   "cell_type": "markdown",
   "id": "95a12537",
   "metadata": {},
   "source": [
    "To repeat a fixed number of times use a\n",
    "\n",
    "To repeat a fixed number of times in Python, you can use a for loop with the range() function.\n",
    "\n",
    "Here's an example of how to use a for loop to repeat a block of code 5 times:"
   ]
  },
  {
   "cell_type": "code",
   "execution_count": 17,
   "id": "63a5c200",
   "metadata": {},
   "outputs": [
    {
     "name": "stdout",
     "output_type": "stream",
     "text": [
      "Hello, World!\n",
      "Hello, World!\n",
      "Hello, World!\n",
      "Hello, World!\n",
      "Hello, World!\n"
     ]
    }
   ],
   "source": [
    "for i in range(5):\n",
    "    print(\"Hello, World!\")\n"
   ]
  },
  {
   "cell_type": "code",
   "execution_count": 69,
   "id": "46ba039f",
   "metadata": {},
   "outputs": [
    {
     "name": "stdout",
     "output_type": "stream",
     "text": [
      "Emma 23\n"
     ]
    }
   ],
   "source": [
    "\"Given the following function fun1() Please select the correct function calls\"  \n",
    "def fun1(name, age):\n",
    "    print(name, age)\n",
    "fun1('Emma', 23)"
   ]
  },
  {
   "cell_type": "code",
   "execution_count": 10,
   "id": "f5297f5a",
   "metadata": {},
   "outputs": [
    {
     "name": "stdout",
     "output_type": "stream",
     "text": [
      "Emma 23\n"
     ]
    }
   ],
   "source": [
    "def fun1(name, age):\n",
    "    print(name, age)\n",
    "fun1(name='Emma', age=23)"
   ]
  },
  {
   "cell_type": "code",
   "execution_count": 13,
   "id": "660e52aa",
   "metadata": {},
   "outputs": [
    {
     "name": "stdout",
     "output_type": "stream",
     "text": [
      "Emma 23\n",
      "None\n"
     ]
    }
   ],
   "source": [
    "def fun1(name, age):\n",
    "    print(name, age)\n",
    "call=fun1('Emma', 23)\n",
    "print(call)"
   ]
  },
  {
   "cell_type": "code",
   "execution_count": 31,
   "id": "0321206a",
   "metadata": {},
   "outputs": [
    {
     "name": "stdout",
     "output_type": "stream",
     "text": [
      "hi 12\n"
     ]
    }
   ],
   "source": [
    "#\"Given the following function fun1() Please select the correct function calls\"  \n",
    "def fun1(name, age):\n",
    "    print(name, age)\n",
    "fun1(\"hi\",12)\n"
   ]
  },
  {
   "cell_type": "code",
   "execution_count": 33,
   "id": "57743eb2",
   "metadata": {},
   "outputs": [
    {
     "name": "stdout",
     "output_type": "stream",
     "text": [
      "Emma 23\n"
     ]
    }
   ],
   "source": [
    "def fun1(name, age):\n",
    "    print(name, age)\n",
    "fun1(name='Emma', age=23)"
   ]
  },
  {
   "cell_type": "code",
   "execution_count": 14,
   "id": "94098291",
   "metadata": {},
   "outputs": [
    {
     "name": "stdout",
     "output_type": "stream",
     "text": [
      "-2 ,-3 ,-4 ,"
     ]
    }
   ],
   "source": [
    "#\"What is the output of the following for loop and range() function\" \n",
    "for num in range(-2,-5,-1):\n",
    "    print(num, end=\" ,\")"
   ]
  },
  {
   "cell_type": "code",
   "execution_count": 15,
   "id": "6c99060d",
   "metadata": {},
   "outputs": [
    {
     "name": "stdout",
     "output_type": "stream",
     "text": [
      "-2\n",
      "-3\n",
      "-4\n"
     ]
    }
   ],
   "source": [
    "for num in range(-2,-5,-1):\n",
    "    print(num)"
   ]
  },
  {
   "cell_type": "code",
   "execution_count": 46,
   "id": "6d15f038",
   "metadata": {},
   "outputs": [
    {
     "name": "stdout",
     "output_type": "stream",
     "text": [
      "100\n"
     ]
    }
   ],
   "source": [
    "#\"What is the value of x\n",
    "x = 0\n",
    "while (x < 100):\n",
    "    x+=2\n",
    "print(x)"
   ]
  },
  {
   "cell_type": "markdown",
   "id": "e238e1d5",
   "metadata": {},
   "source": [
    "# for loop\n",
    "Contrast this with a for loop, which is used for definite iteration. A for loop iterates over a sequence of elements, such as a list or a range of numbers. The loop will execute a fixed number of times, once for each element in the sequence."
   ]
  },
  {
   "cell_type": "markdown",
   "id": "7990bb1c",
   "metadata": {},
   "source": [
    "# How many 'else' statements can a single 'if' condition have?\n",
    "\n",
    "A single if condition in Python can have only one else statement. The else statement is used to specify a block of code that should be executed if the condition of the if statement is not true."
   ]
  },
  {
   "cell_type": "code",
   "execution_count": 47,
   "id": "5d76ed1e",
   "metadata": {},
   "outputs": [
    {
     "ename": "IndentationError",
     "evalue": "expected an indented block (4152717610.py, line 3)",
     "output_type": "error",
     "traceback": [
      "\u001b[1;36m  File \u001b[1;32m\"C:\\Users\\91852\\AppData\\Local\\Temp\\ipykernel_10752\\4152717610.py\"\u001b[1;36m, line \u001b[1;32m3\u001b[0m\n\u001b[1;33m    else:\u001b[0m\n\u001b[1;37m    ^\u001b[0m\n\u001b[1;31mIndentationError\u001b[0m\u001b[1;31m:\u001b[0m expected an indented block\n"
     ]
    }
   ],
   "source": [
    "if condition:\n",
    "    # code to execute if the condition is true\n",
    "else:\n",
    "    # code to execute if the condition is false\n"
   ]
  },
  {
   "cell_type": "markdown",
   "id": "6ff704b8",
   "metadata": {},
   "source": [
    "# What is the function to remove a non empty directory?\n",
    "to remove a non-empty directory in Python, you can use the shutil module and the rmtree() function."
   ]
  },
  {
   "cell_type": "markdown",
   "id": "4e332056",
   "metadata": {},
   "source": [
    "# In exception handling in which block we close a file?\n",
    "In exception handling, it's generally a good idea to close a file in a finally block. The finally block is a block of code that is always executed, regardless of whether an exception is raised or not."
   ]
  },
  {
   "cell_type": "code",
   "execution_count": null,
   "id": "a73c7dca",
   "metadata": {},
   "outputs": [],
   "source": []
  }
 ],
 "metadata": {
  "kernelspec": {
   "display_name": "Python 3 (ipykernel)",
   "language": "python",
   "name": "python3"
  },
  "language_info": {
   "codemirror_mode": {
    "name": "ipython",
    "version": 3
   },
   "file_extension": ".py",
   "mimetype": "text/x-python",
   "name": "python",
   "nbconvert_exporter": "python",
   "pygments_lexer": "ipython3",
   "version": "3.9.13"
  }
 },
 "nbformat": 4,
 "nbformat_minor": 5
}
