{
 "cells": [
  {
   "cell_type": "markdown",
   "id": "afb6d0e1",
   "metadata": {},
   "source": [
    "File handling is an important part of any web application.\n",
    "\n",
    "Python has several functions for creating, reading, updating, and deleting files.\n",
    "\n",
    "# File Handling\n",
    "The key function for working with files in Python is the open() function.\n",
    "\n",
    "The open() function takes two parameters; filename, and mode.\n",
    "\n",
    "There are four different methods (modes) for opening a file:\n",
    "\n",
    "1. \"r\" - Read - Default value. Opens a file for reading, error if the file does not exist\n",
    "\n",
    "2. \"a\" - Append - Opens a file for appending, creates the file if it does not exist\n",
    "\n",
    "3. \"w\" - Write - Opens a file for writing, creates the file if it does not exist\n",
    "\n",
    "4. \"x\" - Create - Creates the specified file, returns an error if the file exists"
   ]
  },
  {
   "cell_type": "markdown",
   "id": "bbc3f461",
   "metadata": {},
   "source": [
    "# Create a File self.txt and write yourself introduction to it."
   ]
  },
  {
   "cell_type": "code",
   "execution_count": 3,
   "id": "3e6b0678",
   "metadata": {},
   "outputs": [
    {
     "data": {
      "text/plain": [
       "'hi my name is chandana sree'"
      ]
     },
     "execution_count": 3,
     "metadata": {},
     "output_type": "execute_result"
    }
   ],
   "source": [
    "f1=open(\"text.txt\",\"r\")\n",
    "f1.read()"
   ]
  },
  {
   "cell_type": "code",
   "execution_count": 1,
   "id": "f39f5716",
   "metadata": {},
   "outputs": [],
   "source": [
    "x=open(\"demofile.txt\",\"x\")"
   ]
  },
  {
   "cell_type": "code",
   "execution_count": 6,
   "id": "c08e689d",
   "metadata": {
    "scrolled": true
   },
   "outputs": [
    {
     "ename": "FileExistsError",
     "evalue": "[Errno 17] File exists: 'self.txt'",
     "output_type": "error",
     "traceback": [
      "\u001b[1;31m---------------------------------------------------------------------------\u001b[0m",
      "\u001b[1;31mFileExistsError\u001b[0m                           Traceback (most recent call last)",
      "\u001b[1;32m~\\AppData\\Local\\Temp\\ipykernel_19140\\3180386326.py\u001b[0m in \u001b[0;36m<module>\u001b[1;34m\u001b[0m\n\u001b[0;32m      1\u001b[0m \u001b[1;31m# Creating the file with name My_FIrst_File\u001b[0m\u001b[1;33m\u001b[0m\u001b[1;33m\u001b[0m\u001b[0m\n\u001b[1;32m----> 2\u001b[1;33m \u001b[0mf\u001b[0m \u001b[1;33m=\u001b[0m \u001b[0mopen\u001b[0m\u001b[1;33m(\u001b[0m\u001b[1;34m\"self.txt\"\u001b[0m\u001b[1;33m,\u001b[0m \u001b[1;34m\"x\"\u001b[0m\u001b[1;33m)\u001b[0m\u001b[1;33m\u001b[0m\u001b[1;33m\u001b[0m\u001b[0m\n\u001b[0m",
      "\u001b[1;31mFileExistsError\u001b[0m: [Errno 17] File exists: 'self.txt'"
     ]
    }
   ],
   "source": [
    "# Creating the file with name My_FIrst_File\n",
    "f = open(\"self.txt\", \"x\")"
   ]
  },
  {
   "cell_type": "markdown",
   "id": "f5c70568",
   "metadata": {},
   "source": [
    "Close Files\n",
    "\n",
    "\n",
    "It is a good practice to always close the file when you are done with it."
   ]
  },
  {
   "cell_type": "code",
   "execution_count": 2,
   "id": "01f205e4",
   "metadata": {},
   "outputs": [],
   "source": [
    "# Writing in the file\n",
    "f = open(\"self.txt\", \"w\")\n",
    "f.write(\"Its my pleasure to introduce myself. My Name is Chandana. I am from Hyderabad district,Telangana state. Well, I have finished my Bsc graduation from the Osmania University (OU) in 2020. and I also done with my Post Graduation in 2022, from same Osmania university.\")\n",
    "f.close()"
   ]
  },
  {
   "cell_type": "code",
   "execution_count": 3,
   "id": "43353143",
   "metadata": {},
   "outputs": [
    {
     "name": "stdout",
     "output_type": "stream",
     "text": [
      "Its my pleasure to introduce myself. My Name is Chandana. I am from Hyderabad district,Telangana state. Well, I have finished my Bsc graduation from the Osmania University (OU) in 2020. and I also done with my Post Graduation in 2022, from same Osmania university.\n"
     ]
    }
   ],
   "source": [
    "# Reading the data from the file\n",
    "f = open(\"self.txt\", \"r\")\n",
    "print(f.read())"
   ]
  },
  {
   "cell_type": "markdown",
   "id": "e3e074f7",
   "metadata": {},
   "source": [
    "# Append your phone number & address in the file self.txt"
   ]
  },
  {
   "cell_type": "code",
   "execution_count": 5,
   "id": "5614daf1",
   "metadata": {},
   "outputs": [
    {
     "data": {
      "text/plain": [
       "51"
      ]
     },
     "execution_count": 5,
     "metadata": {},
     "output_type": "execute_result"
    }
   ],
   "source": [
    "f=open(\"self.txt\",\"a\")\n",
    "f.write(\" Contaxt :1234567890  Address : Hyderabad,Telangana\")\n",
    "\n"
   ]
  },
  {
   "cell_type": "code",
   "execution_count": 8,
   "id": "0ebfbc06",
   "metadata": {},
   "outputs": [
    {
     "data": {
      "text/plain": [
       "'Its my pleasure to introduce myself. My Name is Chandana. I am from Hyderabad district,Telangana state. Well, I have finished my Bsc graduation from the Osmania University (OU) in 2020. and I also done with my Post Graduation in 2022, from same Osmania university. Contaxt :1234567890  Address : Hyderabad,Telangana Contaxt :1234567890  Address : Hyderabad,Telangana Contaxt :1234567890  Address : Hyderabad,Telangana'"
      ]
     },
     "execution_count": 8,
     "metadata": {},
     "output_type": "execute_result"
    }
   ],
   "source": [
    "f=open(\"self.txt\",\"r\")\n",
    "f.read()\n",
    "\n"
   ]
  },
  {
   "cell_type": "markdown",
   "id": "1b492f27",
   "metadata": {},
   "source": [
    "# Read your entire file self.txt file"
   ]
  },
  {
   "cell_type": "code",
   "execution_count": 9,
   "id": "e36fbd59",
   "metadata": {},
   "outputs": [
    {
     "name": "stdout",
     "output_type": "stream",
     "text": [
      "Its my pleasure to introduce myself. My Name is Chandana. I am from Hyderabad district,Telangana state. Well, I have finished my Bsc graduation from the Osmania University (OU) in 2020. and I also done with my Post Graduation in 2022, from same Osmania university. Contaxt :1234567890  Address : Hyderabad,Telangana Contaxt :1234567890  Address : Hyderabad,Telangana Contaxt :1234567890  Address : Hyderabad,Telangana\n"
     ]
    }
   ],
   "source": [
    "f = open(\"self.txt\", \"r\")\n",
    "print(f.read())"
   ]
  },
  {
   "cell_type": "markdown",
   "id": "f5911c4c",
   "metadata": {},
   "source": [
    "# Check the existence of two files using exception handling"
   ]
  },
  {
   "cell_type": "code",
   "execution_count": 8,
   "id": "510ed688",
   "metadata": {},
   "outputs": [
    {
     "name": "stdout",
     "output_type": "stream",
     "text": [
      "The file is exists\n"
     ]
    }
   ],
   "source": [
    "try:\n",
    "    f=open(\"self.txt\",\"r\")\n",
    "    print(\"The file is exists\")\n",
    "    f.close()\n",
    "    \n",
    "except:\n",
    "    print(\"There is no such file\")"
   ]
  },
  {
   "cell_type": "code",
   "execution_count": 12,
   "id": "bbea616a",
   "metadata": {},
   "outputs": [
    {
     "ename": "FileNotFoundError",
     "evalue": "[Errno 2] No such file or directory: 'demo.txt'",
     "output_type": "error",
     "traceback": [
      "\u001b[1;31m---------------------------------------------------------------------------\u001b[0m",
      "\u001b[1;31mFileNotFoundError\u001b[0m                         Traceback (most recent call last)",
      "\u001b[1;32m~\\AppData\\Local\\Temp\\ipykernel_19140\\3065294262.py\u001b[0m in \u001b[0;36m<module>\u001b[1;34m\u001b[0m\n\u001b[1;32m----> 1\u001b[1;33m \u001b[0mx\u001b[0m\u001b[1;33m=\u001b[0m\u001b[0mopen\u001b[0m\u001b[1;33m(\u001b[0m\u001b[1;34m\"demo.txt\"\u001b[0m\u001b[1;33m,\u001b[0m\u001b[1;34m\"r\"\u001b[0m\u001b[1;33m)\u001b[0m\u001b[1;33m\u001b[0m\u001b[1;33m\u001b[0m\u001b[0m\n\u001b[0m",
      "\u001b[1;31mFileNotFoundError\u001b[0m: [Errno 2] No such file or directory: 'demo.txt'"
     ]
    }
   ],
   "source": [
    "x=open(\"demo.txt\",\"r\")\n"
   ]
  },
  {
   "cell_type": "code",
   "execution_count": 13,
   "id": "ec0aeab8",
   "metadata": {},
   "outputs": [],
   "source": [
    "f1=open(\"demo.txt\",\"x\")"
   ]
  },
  {
   "cell_type": "code",
   "execution_count": 31,
   "id": "e0c0b12e",
   "metadata": {},
   "outputs": [],
   "source": [
    "f1=open(\"demo.txt\",\"w\")\n",
    "f1.write(\"hi hello how are you i am good thank you\")\n",
    "f1.close()"
   ]
  },
  {
   "cell_type": "code",
   "execution_count": 32,
   "id": "f72e6144",
   "metadata": {},
   "outputs": [
    {
     "name": "stdout",
     "output_type": "stream",
     "text": [
      "hi hello how are you i am good thank you\n"
     ]
    }
   ],
   "source": [
    "f1=open(\"demo.txt\",\"r\")\n",
    "print(f1.read())"
   ]
  },
  {
   "cell_type": "code",
   "execution_count": 33,
   "id": "58ce3246",
   "metadata": {},
   "outputs": [
    {
     "data": {
      "text/plain": [
       "'hi hello how are you i am good thank you'"
      ]
     },
     "execution_count": 33,
     "metadata": {},
     "output_type": "execute_result"
    }
   ],
   "source": [
    "f1=open(\"demo.txt\",\"r\")\n",
    "f1.read()"
   ]
  },
  {
   "cell_type": "markdown",
   "id": "a620b33b",
   "metadata": {},
   "source": [
    "# Read Only Parts of the File\n",
    "By default the read() method returns the whole text, but you can also specify how many characters you want to return:"
   ]
  },
  {
   "cell_type": "code",
   "execution_count": 12,
   "id": "ac02ac0b",
   "metadata": {},
   "outputs": [
    {
     "data": {
      "text/plain": [
       "'hi hello h'"
      ]
     },
     "execution_count": 12,
     "metadata": {},
     "output_type": "execute_result"
    }
   ],
   "source": [
    "# Return the 5 first characters of the file:\n",
    "f1=open(\"demo.txt\",\"r\")\n",
    "f1.read(10)"
   ]
  },
  {
   "cell_type": "code",
   "execution_count": 29,
   "id": "4836aa00",
   "metadata": {},
   "outputs": [
    {
     "data": {
      "text/plain": [
       "'hi hello how are you'"
      ]
     },
     "execution_count": 29,
     "metadata": {},
     "output_type": "execute_result"
    }
   ],
   "source": [
    "#By calling readline() two times, you can read the two first lines:\n",
    "f1=open(\"demo.txt\",\"r\")\n",
    "f1.readline()"
   ]
  },
  {
   "cell_type": "code",
   "execution_count": 37,
   "id": "f3d3a3b4",
   "metadata": {},
   "outputs": [],
   "source": [
    "f1=open(\"demo.txt\",\"a\")\n",
    "f1.write(\" good morning\")\n",
    "f1.close()"
   ]
  },
  {
   "cell_type": "code",
   "execution_count": 38,
   "id": "5b7ae860",
   "metadata": {},
   "outputs": [
    {
     "data": {
      "text/plain": [
       "'hi hello how are you i am good thank yougood morning good morning'"
      ]
     },
     "execution_count": 38,
     "metadata": {},
     "output_type": "execute_result"
    }
   ],
   "source": [
    "f1=open(\"demo.txt\",\"r\")\n",
    "f1.read()"
   ]
  },
  {
   "cell_type": "markdown",
   "id": "447efe44",
   "metadata": {},
   "source": [
    "# Delete a File\n",
    "To delete a file, you must import the OS module, and run its os.remove() function:"
   ]
  },
  {
   "cell_type": "code",
   "execution_count": 40,
   "id": "ca807f7a",
   "metadata": {},
   "outputs": [],
   "source": [
    "import os"
   ]
  },
  {
   "cell_type": "code",
   "execution_count": 41,
   "id": "265d0ab5",
   "metadata": {},
   "outputs": [
    {
     "ename": "PermissionError",
     "evalue": "[WinError 32] The process cannot access the file because it is being used by another process: 'demo.txt'",
     "output_type": "error",
     "traceback": [
      "\u001b[1;31m---------------------------------------------------------------------------\u001b[0m",
      "\u001b[1;31mPermissionError\u001b[0m                           Traceback (most recent call last)",
      "\u001b[1;32m~\\AppData\\Local\\Temp\\ipykernel_19140\\466320237.py\u001b[0m in \u001b[0;36m<module>\u001b[1;34m\u001b[0m\n\u001b[1;32m----> 1\u001b[1;33m \u001b[0mos\u001b[0m\u001b[1;33m.\u001b[0m\u001b[0mremove\u001b[0m\u001b[1;33m(\u001b[0m\u001b[1;34m\"demo.txt\"\u001b[0m\u001b[1;33m)\u001b[0m\u001b[1;33m\u001b[0m\u001b[1;33m\u001b[0m\u001b[0m\n\u001b[0m",
      "\u001b[1;31mPermissionError\u001b[0m: [WinError 32] The process cannot access the file because it is being used by another process: 'demo.txt'"
     ]
    }
   ],
   "source": [
    "os.remove(\"demo.txt\")"
   ]
  },
  {
   "cell_type": "code",
   "execution_count": 11,
   "id": "b59229dd",
   "metadata": {},
   "outputs": [
    {
     "data": {
      "text/plain": [
       "'hi\\nhello \\npython\\nprogramming language'"
      ]
     },
     "execution_count": 11,
     "metadata": {},
     "output_type": "execute_result"
    }
   ],
   "source": [
    "x=open(\"files.txt\",\"r\")\n",
    "x.read()"
   ]
  },
  {
   "cell_type": "code",
   "execution_count": 19,
   "id": "7aee8822",
   "metadata": {},
   "outputs": [
    {
     "name": "stdout",
     "output_type": "stream",
     "text": [
      "hi\n",
      "\n",
      "hello \n",
      "\n",
      "python\n",
      "\n",
      "programming language\n"
     ]
    }
   ],
   "source": [
    "x=open(\"files.txt\",\"r\")\n",
    "print(x.readline())\n",
    "print(x.readline())\n",
    "print(x.readline())\n",
    "print(x.readline())"
   ]
  },
  {
   "cell_type": "code",
   "execution_count": null,
   "id": "f111fc7b",
   "metadata": {},
   "outputs": [],
   "source": []
  }
 ],
 "metadata": {
  "kernelspec": {
   "display_name": "Python 3 (ipykernel)",
   "language": "python",
   "name": "python3"
  },
  "language_info": {
   "codemirror_mode": {
    "name": "ipython",
    "version": 3
   },
   "file_extension": ".py",
   "mimetype": "text/x-python",
   "name": "python",
   "nbconvert_exporter": "python",
   "pygments_lexer": "ipython3",
   "version": "3.9.13"
  }
 },
 "nbformat": 4,
 "nbformat_minor": 5
}
